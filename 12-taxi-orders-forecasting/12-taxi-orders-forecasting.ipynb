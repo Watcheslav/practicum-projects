{
 "cells": [
  {
   "cell_type": "markdown",
   "metadata": {},
   "source": [
    "#  Прогнозирование заказов такси"
   ]
  },
  {
   "cell_type": "markdown",
   "metadata": {},
   "source": [
    "<a name=\"1\"></a>\n",
    "## Содержание"
   ]
  },
  {
   "cell_type": "markdown",
   "metadata": {},
   "source": [
    "[1. Содержание](#1)\n",
    "\n",
    "[2. Описание проекта](#2)\n",
    "\n",
    "*    [2.1. Цель проекта](#21)\n",
    "*    [2.2. Задачи проекта](#22)\n",
    "*    [2.3. Описание данных](#23)\n",
    "*    [2.4. План работы](#24)\n",
    "\n",
    "[3. Подготовка данных](#3)\n",
    "\n",
    "*    [3.1. Изучение данных](#31)\n",
    "*    [3.2. Ресемплирование](#32)\n",
    "*    [3.3. Создание признаков](#33)\n",
    "*    [3.4. Вывод](#34)\n",
    "\n",
    "[4. Анализ данных](#4)\n",
    "\n",
    "*    [4.1. Тренд](#41)\n",
    "*    [4.2. Сезонность](#42)\n",
    "*    [4.3. Вывод](#43)\n",
    "\n",
    "[5. Обучение моделей](#5)\n",
    "\n",
    "*    [5.1. Разделение данных на выборки](#51)\n",
    "*    [5.2. Функция для обучения моделей](#52)\n",
    "*    [5.3. `LinearRegression`](#53)\n",
    "*    [5.4. `RandomForestRegressor`](#54)\n",
    "*    [5.5. `LGBMRegressor`](#55)\n",
    "*    [5.6. `CatBoostRegressor`](#56)\n",
    "*    [5.7. Сравнение моделей](#57)\n",
    "*    [5.8. Вывод](#58)\n",
    "\n",
    "[6. Тестирование лучшей модели](#6)\n",
    "\n",
    "*    [6.1. Качество модели](#61)\n",
    "*    [6.2. Зависимость количества заказов от времени](#62)\n",
    "*    [6.3. Вывод](#63)\n",
    "\n",
    "[7. Общий вывод](#7)"
   ]
  },
  {
   "cell_type": "markdown",
   "metadata": {},
   "source": [
    "## Описание проекта\n",
    "<a name=\"2\"></a> <div style=\"text-align: left\">[Cодержание](#Содержание)</div>"
   ]
  },
  {
   "cell_type": "markdown",
   "metadata": {},
   "source": [
    "Компания агрегатор такси собрала исторические данные о заказах такси в аэропортах. Чтобы привлекать больше водителей в период пиковой нагрузки, нужно спрогнозировать количество заказов такси на следующий час. Нужно построить модель для такого предсказания.\n",
    "\n",
    "Значение метрики *RMSE* на тестовой выборке должно быть не больше 48."
   ]
  },
  {
   "cell_type": "markdown",
   "metadata": {},
   "source": [
    "### Цель проекта\n",
    "<a name=\"21\"></a> <div style=\"text-align: left\">[Cодержание](#Содержание)</div>"
   ]
  },
  {
   "cell_type": "markdown",
   "metadata": {},
   "source": [
    "Провести исследование, с целью построения модели машинного обучения, которая поможет предсказать количество заказов такси на следующий час.\n",
    "\n",
    "Результаты исследования позволят привлечь больше водителей в период пиковой нагрузки."
   ]
  },
  {
   "cell_type": "markdown",
   "metadata": {},
   "source": [
    "### Задачи проекта\n",
    "<a name=\"22\"></a> <div style=\"text-align: left\">[Cодержание](#Содержание)</div>"
   ]
  },
  {
   "cell_type": "markdown",
   "metadata": {},
   "source": [
    "1. Изучить данные.\n",
    "2. Подготовить данные.\n",
    "3. Проанализировать данные.\n",
    "4. Построить и обучить модели.\n",
    "5. Протестировать лучшую модель.\n",
    "6. Написать общий вывод.\n",
    "\n",
    "Условие задачи: значение метрики *RMSE* на тестовой выборке должно быть не больше 48."
   ]
  },
  {
   "cell_type": "markdown",
   "metadata": {},
   "source": [
    "### Описание данных\n",
    "<a name=\"23\"></a> <div style=\"text-align: left\">[Cодержание](#Содержание)</div>"
   ]
  },
  {
   "cell_type": "markdown",
   "metadata": {},
   "source": [
    "Предоставлены исторические данные о заказах такси в аэропортах. \n",
    "\n",
    "Данные находятся в файле `taxi.csv`. \n",
    "\n",
    "Количество заказов (целевой признак) находится в столбце `num_orders` (от англ. *number of orders*, «число заказов»)."
   ]
  },
  {
   "cell_type": "markdown",
   "metadata": {},
   "source": [
    "### План работы\n",
    "<a name=\"24\"></a> <div style=\"text-align: left\">[Cодержание](#Содержание)</div>"
   ]
  },
  {
   "cell_type": "markdown",
   "metadata": {},
   "source": [
    "1. Загрузим и изучим данные.\n",
    "2. Выполним ресемплирование данных по одному часу.\n",
    "3. Проанализируем данные.\n",
    "4. Разделим данные, сделаем тестовую выборку размером 10% от исходных данных.\n",
    "5. Обучим разные модели с различными гиперпараметрами. \n",
    "6. Проверим данные на тестовой выборке и сделаем выводы."
   ]
  },
  {
   "cell_type": "markdown",
   "metadata": {},
   "source": [
    "## Подготовка данных\n",
    "<a name=\"3\"></a> <div style=\"text-align: left\">[Cодержание](#Содержание)</div>"
   ]
  },
  {
   "cell_type": "code",
   "execution_count": 36,
   "metadata": {},
   "outputs": [],
   "source": [
    "import matplotlib.pyplot as plt\n",
    "import numpy as np\n",
    "import pandas as pd\n",
    "import seaborn as sns\n",
    "import os\n",
    "\n",
    "from catboost import CatBoostRegressor\n",
    "from lightgbm import LGBMRegressor\n",
    "from sklearn.ensemble import RandomForestRegressor\n",
    "from sklearn.linear_model import LinearRegression\n",
    "from sklearn.metrics import mean_squared_error\n",
    "from sklearn.model_selection import cross_val_score, GridSearchCV, \\\n",
    "TimeSeriesSplit, train_test_split\n",
    "from sklearn.pipeline import Pipeline\n",
    "from statsmodels.tsa.seasonal import seasonal_decompose\n",
    "\n",
    "RANDOM_STATE = 12345\n",
    "TEST_SIZE = 0.1"
   ]
  },
  {
   "cell_type": "markdown",
   "metadata": {},
   "source": [
    "### Изучение данных\n",
    "<a name=\"31\"></a> <div style=\"text-align: left\">[Cодержание](#Содержание)</div>"
   ]
  },
  {
   "cell_type": "markdown",
   "metadata": {},
   "source": [
    "Загрузим данные. Здесь же, установим признак `datetime` в качестве индекса в датафрейме `data`, затем изменим тип данных `datetime` с `object` на `datetime64`."
   ]
  },
  {
   "cell_type": "code",
   "execution_count": 37,
   "metadata": {},
   "outputs": [],
   "source": [
    "pth1 = r'C:/Users/Васильев/Desktop/dataframes/taxi.csv'\n",
    "pth2 = '/datasets/taxi.csv'\n",
    "pth3 = '/taxi.csv'\n",
    "pth4 = 'https://code.s3.yandex.net/datasets/taxi.csv'\n",
    "\n",
    "if os.path.exists(pth1):\n",
    "    data = pd.read_csv(pth1, index_col=[0], parse_dates=[0])\n",
    "elif os.path.exists(pth2):\n",
    "    data = pd.read_csv(pth2, index_col=[0], parse_dates=[0])\n",
    "elif os.path.exists(pth3):\n",
    "    data = pd.read_csv(pth3, index_col=[0], parse_dates=[0])\n",
    "elif os.path.exists(pth4):\n",
    "    data = pd.read_csv(pth4, index_col=[0], parse_dates=[0])\n",
    "else:\n",
    "    print('Something is wrong')"
   ]
  },
  {
   "cell_type": "code",
   "execution_count": 38,
   "metadata": {
    "scrolled": true
   },
   "outputs": [
    {
     "data": {
      "text/plain": [
       "(26496, 1)"
      ]
     },
     "execution_count": 38,
     "metadata": {},
     "output_type": "execute_result"
    }
   ],
   "source": [
    "data.shape"
   ]
  },
  {
   "cell_type": "code",
   "execution_count": 39,
   "metadata": {},
   "outputs": [
    {
     "data": {
      "text/html": [
       "<div>\n",
       "<style scoped>\n",
       "    .dataframe tbody tr th:only-of-type {\n",
       "        vertical-align: middle;\n",
       "    }\n",
       "\n",
       "    .dataframe tbody tr th {\n",
       "        vertical-align: top;\n",
       "    }\n",
       "\n",
       "    .dataframe thead th {\n",
       "        text-align: right;\n",
       "    }\n",
       "</style>\n",
       "<table border=\"1\" class=\"dataframe\">\n",
       "  <thead>\n",
       "    <tr style=\"text-align: right;\">\n",
       "      <th></th>\n",
       "      <th>num_orders</th>\n",
       "    </tr>\n",
       "    <tr>\n",
       "      <th>datetime</th>\n",
       "      <th></th>\n",
       "    </tr>\n",
       "  </thead>\n",
       "  <tbody>\n",
       "    <tr>\n",
       "      <th>2018-03-01 00:00:00</th>\n",
       "      <td>9</td>\n",
       "    </tr>\n",
       "    <tr>\n",
       "      <th>2018-03-01 00:10:00</th>\n",
       "      <td>14</td>\n",
       "    </tr>\n",
       "    <tr>\n",
       "      <th>2018-03-01 00:20:00</th>\n",
       "      <td>28</td>\n",
       "    </tr>\n",
       "    <tr>\n",
       "      <th>2018-03-01 00:30:00</th>\n",
       "      <td>20</td>\n",
       "    </tr>\n",
       "    <tr>\n",
       "      <th>2018-03-01 00:40:00</th>\n",
       "      <td>32</td>\n",
       "    </tr>\n",
       "  </tbody>\n",
       "</table>\n",
       "</div>"
      ],
      "text/plain": [
       "                     num_orders\n",
       "datetime                       \n",
       "2018-03-01 00:00:00           9\n",
       "2018-03-01 00:10:00          14\n",
       "2018-03-01 00:20:00          28\n",
       "2018-03-01 00:30:00          20\n",
       "2018-03-01 00:40:00          32"
      ]
     },
     "execution_count": 39,
     "metadata": {},
     "output_type": "execute_result"
    }
   ],
   "source": [
    "data.head()"
   ]
  },
  {
   "cell_type": "code",
   "execution_count": 40,
   "metadata": {
    "scrolled": true
   },
   "outputs": [
    {
     "name": "stdout",
     "output_type": "stream",
     "text": [
      "<class 'pandas.core.frame.DataFrame'>\n",
      "DatetimeIndex: 26496 entries, 2018-03-01 00:00:00 to 2018-08-31 23:50:00\n",
      "Data columns (total 1 columns):\n",
      " #   Column      Non-Null Count  Dtype\n",
      "---  ------      --------------  -----\n",
      " 0   num_orders  26496 non-null  int64\n",
      "dtypes: int64(1)\n",
      "memory usage: 414.0 KB\n"
     ]
    }
   ],
   "source": [
    "data.info()"
   ]
  },
  {
   "cell_type": "markdown",
   "metadata": {},
   "source": [
    "Отсортируем индекс датафрейма и с помощью атрибута `is_monotonic` (он же `is_unique` - для старых версий pandas) проверим, в хронологическом ли порядке расположены даты и время."
   ]
  },
  {
   "cell_type": "code",
   "execution_count": 41,
   "metadata": {},
   "outputs": [
    {
     "name": "stdout",
     "output_type": "stream",
     "text": [
      "True\n",
      "<class 'pandas.core.frame.DataFrame'>\n",
      "DatetimeIndex: 26496 entries, 2018-03-01 00:00:00 to 2018-08-31 23:50:00\n",
      "Data columns (total 1 columns):\n",
      " #   Column      Non-Null Count  Dtype\n",
      "---  ------      --------------  -----\n",
      " 0   num_orders  26496 non-null  int64\n",
      "dtypes: int64(1)\n",
      "memory usage: 414.0 KB\n"
     ]
    }
   ],
   "source": [
    "data.sort_index(inplace=True)\n",
    "print(data.index.is_monotonic)\n",
    "data.info()"
   ]
  },
  {
   "cell_type": "markdown",
   "metadata": {},
   "source": [
    "### Ресемплирование\n",
    "<a name=\"32\"></a> <div style=\"text-align: left\">[Cодержание](#Содержание)</div>"
   ]
  },
  {
   "cell_type": "markdown",
   "metadata": {},
   "source": [
    "Выполним ресемплирование данных по одному часу, для агрегации значений вызовем функцию `.sum()`."
   ]
  },
  {
   "cell_type": "code",
   "execution_count": 42,
   "metadata": {
    "scrolled": true
   },
   "outputs": [
    {
     "data": {
      "text/html": [
       "<div>\n",
       "<style scoped>\n",
       "    .dataframe tbody tr th:only-of-type {\n",
       "        vertical-align: middle;\n",
       "    }\n",
       "\n",
       "    .dataframe tbody tr th {\n",
       "        vertical-align: top;\n",
       "    }\n",
       "\n",
       "    .dataframe thead th {\n",
       "        text-align: right;\n",
       "    }\n",
       "</style>\n",
       "<table border=\"1\" class=\"dataframe\">\n",
       "  <thead>\n",
       "    <tr style=\"text-align: right;\">\n",
       "      <th></th>\n",
       "      <th>num_orders</th>\n",
       "    </tr>\n",
       "    <tr>\n",
       "      <th>datetime</th>\n",
       "      <th></th>\n",
       "    </tr>\n",
       "  </thead>\n",
       "  <tbody>\n",
       "    <tr>\n",
       "      <th>2018-03-01 00:00:00</th>\n",
       "      <td>124</td>\n",
       "    </tr>\n",
       "    <tr>\n",
       "      <th>2018-03-01 01:00:00</th>\n",
       "      <td>85</td>\n",
       "    </tr>\n",
       "    <tr>\n",
       "      <th>2018-03-01 02:00:00</th>\n",
       "      <td>71</td>\n",
       "    </tr>\n",
       "    <tr>\n",
       "      <th>2018-03-01 03:00:00</th>\n",
       "      <td>66</td>\n",
       "    </tr>\n",
       "    <tr>\n",
       "      <th>2018-03-01 04:00:00</th>\n",
       "      <td>43</td>\n",
       "    </tr>\n",
       "  </tbody>\n",
       "</table>\n",
       "</div>"
      ],
      "text/plain": [
       "                     num_orders\n",
       "datetime                       \n",
       "2018-03-01 00:00:00         124\n",
       "2018-03-01 01:00:00          85\n",
       "2018-03-01 02:00:00          71\n",
       "2018-03-01 03:00:00          66\n",
       "2018-03-01 04:00:00          43"
      ]
     },
     "execution_count": 42,
     "metadata": {},
     "output_type": "execute_result"
    }
   ],
   "source": [
    "data = data.resample('1H').sum()\n",
    "data.head()"
   ]
  },
  {
   "cell_type": "markdown",
   "metadata": {},
   "source": [
    "### Создание признаков\n",
    "<a name=\"33\"></a> <div style=\"text-align: left\">[Cодержание](#Содержание)</div>"
   ]
  },
  {
   "cell_type": "markdown",
   "metadata": {},
   "source": [
    "Напишем функцию `make_features()`, для создания следующих признаков: \n",
    "- календарные признаки (день недели `dayofweek` и час `hour`), \n",
    "- отстающие значения (`lag_1`, `lag_2`), \n",
    "- скользящее среднее (`rolling_mean`)."
   ]
  },
  {
   "cell_type": "code",
   "execution_count": 43,
   "metadata": {},
   "outputs": [],
   "source": [
    "def make_features(data, max_lag, rolling_mean_size):\n",
    "    \n",
    "    result = data.copy()\n",
    "    result['dayofweek'] = data.index.dayofweek\n",
    "    result['hour'] = data.index.hour\n",
    "    \n",
    "    for lag in range(1, max_lag + 1):\n",
    "        result['lag_{}'.format(lag)] = data['num_orders'].shift(lag)\n",
    "\n",
    "    result['rolling_mean'] = data['num_orders'].shift().\\\n",
    "    rolling(rolling_mean_size).mean()\n",
    "    \n",
    "    return result"
   ]
  },
  {
   "cell_type": "markdown",
   "metadata": {},
   "source": [
    "Затем применим функцию `make_features()` к датафрейму `data` с размером отставания `max_lag`=2 и с размером окна скользящего среднего `rolling_mean_size`=24. Получим новый датасет."
   ]
  },
  {
   "cell_type": "code",
   "execution_count": 44,
   "metadata": {},
   "outputs": [
    {
     "data": {
      "text/html": [
       "<div>\n",
       "<style scoped>\n",
       "    .dataframe tbody tr th:only-of-type {\n",
       "        vertical-align: middle;\n",
       "    }\n",
       "\n",
       "    .dataframe tbody tr th {\n",
       "        vertical-align: top;\n",
       "    }\n",
       "\n",
       "    .dataframe thead th {\n",
       "        text-align: right;\n",
       "    }\n",
       "</style>\n",
       "<table border=\"1\" class=\"dataframe\">\n",
       "  <thead>\n",
       "    <tr style=\"text-align: right;\">\n",
       "      <th></th>\n",
       "      <th>num_orders</th>\n",
       "      <th>dayofweek</th>\n",
       "      <th>hour</th>\n",
       "      <th>lag_1</th>\n",
       "      <th>lag_2</th>\n",
       "      <th>lag_3</th>\n",
       "      <th>lag_4</th>\n",
       "      <th>lag_5</th>\n",
       "      <th>lag_6</th>\n",
       "      <th>lag_7</th>\n",
       "      <th>...</th>\n",
       "      <th>lag_160</th>\n",
       "      <th>lag_161</th>\n",
       "      <th>lag_162</th>\n",
       "      <th>lag_163</th>\n",
       "      <th>lag_164</th>\n",
       "      <th>lag_165</th>\n",
       "      <th>lag_166</th>\n",
       "      <th>lag_167</th>\n",
       "      <th>lag_168</th>\n",
       "      <th>rolling_mean</th>\n",
       "    </tr>\n",
       "    <tr>\n",
       "      <th>datetime</th>\n",
       "      <th></th>\n",
       "      <th></th>\n",
       "      <th></th>\n",
       "      <th></th>\n",
       "      <th></th>\n",
       "      <th></th>\n",
       "      <th></th>\n",
       "      <th></th>\n",
       "      <th></th>\n",
       "      <th></th>\n",
       "      <th></th>\n",
       "      <th></th>\n",
       "      <th></th>\n",
       "      <th></th>\n",
       "      <th></th>\n",
       "      <th></th>\n",
       "      <th></th>\n",
       "      <th></th>\n",
       "      <th></th>\n",
       "      <th></th>\n",
       "      <th></th>\n",
       "    </tr>\n",
       "  </thead>\n",
       "  <tbody>\n",
       "    <tr>\n",
       "      <th>2018-03-01 00:00:00</th>\n",
       "      <td>124</td>\n",
       "      <td>3</td>\n",
       "      <td>0</td>\n",
       "      <td>NaN</td>\n",
       "      <td>NaN</td>\n",
       "      <td>NaN</td>\n",
       "      <td>NaN</td>\n",
       "      <td>NaN</td>\n",
       "      <td>NaN</td>\n",
       "      <td>NaN</td>\n",
       "      <td>...</td>\n",
       "      <td>NaN</td>\n",
       "      <td>NaN</td>\n",
       "      <td>NaN</td>\n",
       "      <td>NaN</td>\n",
       "      <td>NaN</td>\n",
       "      <td>NaN</td>\n",
       "      <td>NaN</td>\n",
       "      <td>NaN</td>\n",
       "      <td>NaN</td>\n",
       "      <td>NaN</td>\n",
       "    </tr>\n",
       "    <tr>\n",
       "      <th>2018-03-01 01:00:00</th>\n",
       "      <td>85</td>\n",
       "      <td>3</td>\n",
       "      <td>1</td>\n",
       "      <td>124.0</td>\n",
       "      <td>NaN</td>\n",
       "      <td>NaN</td>\n",
       "      <td>NaN</td>\n",
       "      <td>NaN</td>\n",
       "      <td>NaN</td>\n",
       "      <td>NaN</td>\n",
       "      <td>...</td>\n",
       "      <td>NaN</td>\n",
       "      <td>NaN</td>\n",
       "      <td>NaN</td>\n",
       "      <td>NaN</td>\n",
       "      <td>NaN</td>\n",
       "      <td>NaN</td>\n",
       "      <td>NaN</td>\n",
       "      <td>NaN</td>\n",
       "      <td>NaN</td>\n",
       "      <td>NaN</td>\n",
       "    </tr>\n",
       "    <tr>\n",
       "      <th>2018-03-01 02:00:00</th>\n",
       "      <td>71</td>\n",
       "      <td>3</td>\n",
       "      <td>2</td>\n",
       "      <td>85.0</td>\n",
       "      <td>124.0</td>\n",
       "      <td>NaN</td>\n",
       "      <td>NaN</td>\n",
       "      <td>NaN</td>\n",
       "      <td>NaN</td>\n",
       "      <td>NaN</td>\n",
       "      <td>...</td>\n",
       "      <td>NaN</td>\n",
       "      <td>NaN</td>\n",
       "      <td>NaN</td>\n",
       "      <td>NaN</td>\n",
       "      <td>NaN</td>\n",
       "      <td>NaN</td>\n",
       "      <td>NaN</td>\n",
       "      <td>NaN</td>\n",
       "      <td>NaN</td>\n",
       "      <td>NaN</td>\n",
       "    </tr>\n",
       "    <tr>\n",
       "      <th>2018-03-01 03:00:00</th>\n",
       "      <td>66</td>\n",
       "      <td>3</td>\n",
       "      <td>3</td>\n",
       "      <td>71.0</td>\n",
       "      <td>85.0</td>\n",
       "      <td>124.0</td>\n",
       "      <td>NaN</td>\n",
       "      <td>NaN</td>\n",
       "      <td>NaN</td>\n",
       "      <td>NaN</td>\n",
       "      <td>...</td>\n",
       "      <td>NaN</td>\n",
       "      <td>NaN</td>\n",
       "      <td>NaN</td>\n",
       "      <td>NaN</td>\n",
       "      <td>NaN</td>\n",
       "      <td>NaN</td>\n",
       "      <td>NaN</td>\n",
       "      <td>NaN</td>\n",
       "      <td>NaN</td>\n",
       "      <td>NaN</td>\n",
       "    </tr>\n",
       "    <tr>\n",
       "      <th>2018-03-01 04:00:00</th>\n",
       "      <td>43</td>\n",
       "      <td>3</td>\n",
       "      <td>4</td>\n",
       "      <td>66.0</td>\n",
       "      <td>71.0</td>\n",
       "      <td>85.0</td>\n",
       "      <td>124.0</td>\n",
       "      <td>NaN</td>\n",
       "      <td>NaN</td>\n",
       "      <td>NaN</td>\n",
       "      <td>...</td>\n",
       "      <td>NaN</td>\n",
       "      <td>NaN</td>\n",
       "      <td>NaN</td>\n",
       "      <td>NaN</td>\n",
       "      <td>NaN</td>\n",
       "      <td>NaN</td>\n",
       "      <td>NaN</td>\n",
       "      <td>NaN</td>\n",
       "      <td>NaN</td>\n",
       "      <td>NaN</td>\n",
       "    </tr>\n",
       "    <tr>\n",
       "      <th>...</th>\n",
       "      <td>...</td>\n",
       "      <td>...</td>\n",
       "      <td>...</td>\n",
       "      <td>...</td>\n",
       "      <td>...</td>\n",
       "      <td>...</td>\n",
       "      <td>...</td>\n",
       "      <td>...</td>\n",
       "      <td>...</td>\n",
       "      <td>...</td>\n",
       "      <td>...</td>\n",
       "      <td>...</td>\n",
       "      <td>...</td>\n",
       "      <td>...</td>\n",
       "      <td>...</td>\n",
       "      <td>...</td>\n",
       "      <td>...</td>\n",
       "      <td>...</td>\n",
       "      <td>...</td>\n",
       "      <td>...</td>\n",
       "      <td>...</td>\n",
       "    </tr>\n",
       "    <tr>\n",
       "      <th>2018-08-31 19:00:00</th>\n",
       "      <td>136</td>\n",
       "      <td>4</td>\n",
       "      <td>19</td>\n",
       "      <td>207.0</td>\n",
       "      <td>217.0</td>\n",
       "      <td>197.0</td>\n",
       "      <td>116.0</td>\n",
       "      <td>133.0</td>\n",
       "      <td>166.0</td>\n",
       "      <td>136.0</td>\n",
       "      <td>...</td>\n",
       "      <td>187.0</td>\n",
       "      <td>160.0</td>\n",
       "      <td>246.0</td>\n",
       "      <td>273.0</td>\n",
       "      <td>173.0</td>\n",
       "      <td>242.0</td>\n",
       "      <td>166.0</td>\n",
       "      <td>179.0</td>\n",
       "      <td>113.0</td>\n",
       "      <td>154.297619</td>\n",
       "    </tr>\n",
       "    <tr>\n",
       "      <th>2018-08-31 20:00:00</th>\n",
       "      <td>154</td>\n",
       "      <td>4</td>\n",
       "      <td>20</td>\n",
       "      <td>136.0</td>\n",
       "      <td>207.0</td>\n",
       "      <td>217.0</td>\n",
       "      <td>197.0</td>\n",
       "      <td>116.0</td>\n",
       "      <td>133.0</td>\n",
       "      <td>166.0</td>\n",
       "      <td>...</td>\n",
       "      <td>196.0</td>\n",
       "      <td>187.0</td>\n",
       "      <td>160.0</td>\n",
       "      <td>246.0</td>\n",
       "      <td>273.0</td>\n",
       "      <td>173.0</td>\n",
       "      <td>242.0</td>\n",
       "      <td>166.0</td>\n",
       "      <td>179.0</td>\n",
       "      <td>154.434524</td>\n",
       "    </tr>\n",
       "    <tr>\n",
       "      <th>2018-08-31 21:00:00</th>\n",
       "      <td>159</td>\n",
       "      <td>4</td>\n",
       "      <td>21</td>\n",
       "      <td>154.0</td>\n",
       "      <td>136.0</td>\n",
       "      <td>207.0</td>\n",
       "      <td>217.0</td>\n",
       "      <td>197.0</td>\n",
       "      <td>116.0</td>\n",
       "      <td>133.0</td>\n",
       "      <td>...</td>\n",
       "      <td>118.0</td>\n",
       "      <td>196.0</td>\n",
       "      <td>187.0</td>\n",
       "      <td>160.0</td>\n",
       "      <td>246.0</td>\n",
       "      <td>273.0</td>\n",
       "      <td>173.0</td>\n",
       "      <td>242.0</td>\n",
       "      <td>166.0</td>\n",
       "      <td>154.285714</td>\n",
       "    </tr>\n",
       "    <tr>\n",
       "      <th>2018-08-31 22:00:00</th>\n",
       "      <td>223</td>\n",
       "      <td>4</td>\n",
       "      <td>22</td>\n",
       "      <td>159.0</td>\n",
       "      <td>154.0</td>\n",
       "      <td>136.0</td>\n",
       "      <td>207.0</td>\n",
       "      <td>217.0</td>\n",
       "      <td>197.0</td>\n",
       "      <td>116.0</td>\n",
       "      <td>...</td>\n",
       "      <td>74.0</td>\n",
       "      <td>118.0</td>\n",
       "      <td>196.0</td>\n",
       "      <td>187.0</td>\n",
       "      <td>160.0</td>\n",
       "      <td>246.0</td>\n",
       "      <td>273.0</td>\n",
       "      <td>173.0</td>\n",
       "      <td>242.0</td>\n",
       "      <td>154.244048</td>\n",
       "    </tr>\n",
       "    <tr>\n",
       "      <th>2018-08-31 23:00:00</th>\n",
       "      <td>205</td>\n",
       "      <td>4</td>\n",
       "      <td>23</td>\n",
       "      <td>223.0</td>\n",
       "      <td>159.0</td>\n",
       "      <td>154.0</td>\n",
       "      <td>136.0</td>\n",
       "      <td>207.0</td>\n",
       "      <td>217.0</td>\n",
       "      <td>197.0</td>\n",
       "      <td>...</td>\n",
       "      <td>22.0</td>\n",
       "      <td>74.0</td>\n",
       "      <td>118.0</td>\n",
       "      <td>196.0</td>\n",
       "      <td>187.0</td>\n",
       "      <td>160.0</td>\n",
       "      <td>246.0</td>\n",
       "      <td>273.0</td>\n",
       "      <td>173.0</td>\n",
       "      <td>154.130952</td>\n",
       "    </tr>\n",
       "  </tbody>\n",
       "</table>\n",
       "<p>4416 rows × 172 columns</p>\n",
       "</div>"
      ],
      "text/plain": [
       "                     num_orders  dayofweek  hour  lag_1  lag_2  lag_3  lag_4  \\\n",
       "datetime                                                                       \n",
       "2018-03-01 00:00:00         124          3     0    NaN    NaN    NaN    NaN   \n",
       "2018-03-01 01:00:00          85          3     1  124.0    NaN    NaN    NaN   \n",
       "2018-03-01 02:00:00          71          3     2   85.0  124.0    NaN    NaN   \n",
       "2018-03-01 03:00:00          66          3     3   71.0   85.0  124.0    NaN   \n",
       "2018-03-01 04:00:00          43          3     4   66.0   71.0   85.0  124.0   \n",
       "...                         ...        ...   ...    ...    ...    ...    ...   \n",
       "2018-08-31 19:00:00         136          4    19  207.0  217.0  197.0  116.0   \n",
       "2018-08-31 20:00:00         154          4    20  136.0  207.0  217.0  197.0   \n",
       "2018-08-31 21:00:00         159          4    21  154.0  136.0  207.0  217.0   \n",
       "2018-08-31 22:00:00         223          4    22  159.0  154.0  136.0  207.0   \n",
       "2018-08-31 23:00:00         205          4    23  223.0  159.0  154.0  136.0   \n",
       "\n",
       "                     lag_5  lag_6  lag_7  ...  lag_160  lag_161  lag_162  \\\n",
       "datetime                                  ...                              \n",
       "2018-03-01 00:00:00    NaN    NaN    NaN  ...      NaN      NaN      NaN   \n",
       "2018-03-01 01:00:00    NaN    NaN    NaN  ...      NaN      NaN      NaN   \n",
       "2018-03-01 02:00:00    NaN    NaN    NaN  ...      NaN      NaN      NaN   \n",
       "2018-03-01 03:00:00    NaN    NaN    NaN  ...      NaN      NaN      NaN   \n",
       "2018-03-01 04:00:00    NaN    NaN    NaN  ...      NaN      NaN      NaN   \n",
       "...                    ...    ...    ...  ...      ...      ...      ...   \n",
       "2018-08-31 19:00:00  133.0  166.0  136.0  ...    187.0    160.0    246.0   \n",
       "2018-08-31 20:00:00  116.0  133.0  166.0  ...    196.0    187.0    160.0   \n",
       "2018-08-31 21:00:00  197.0  116.0  133.0  ...    118.0    196.0    187.0   \n",
       "2018-08-31 22:00:00  217.0  197.0  116.0  ...     74.0    118.0    196.0   \n",
       "2018-08-31 23:00:00  207.0  217.0  197.0  ...     22.0     74.0    118.0   \n",
       "\n",
       "                     lag_163  lag_164  lag_165  lag_166  lag_167  lag_168  \\\n",
       "datetime                                                                    \n",
       "2018-03-01 00:00:00      NaN      NaN      NaN      NaN      NaN      NaN   \n",
       "2018-03-01 01:00:00      NaN      NaN      NaN      NaN      NaN      NaN   \n",
       "2018-03-01 02:00:00      NaN      NaN      NaN      NaN      NaN      NaN   \n",
       "2018-03-01 03:00:00      NaN      NaN      NaN      NaN      NaN      NaN   \n",
       "2018-03-01 04:00:00      NaN      NaN      NaN      NaN      NaN      NaN   \n",
       "...                      ...      ...      ...      ...      ...      ...   \n",
       "2018-08-31 19:00:00    273.0    173.0    242.0    166.0    179.0    113.0   \n",
       "2018-08-31 20:00:00    246.0    273.0    173.0    242.0    166.0    179.0   \n",
       "2018-08-31 21:00:00    160.0    246.0    273.0    173.0    242.0    166.0   \n",
       "2018-08-31 22:00:00    187.0    160.0    246.0    273.0    173.0    242.0   \n",
       "2018-08-31 23:00:00    196.0    187.0    160.0    246.0    273.0    173.0   \n",
       "\n",
       "                     rolling_mean  \n",
       "datetime                           \n",
       "2018-03-01 00:00:00           NaN  \n",
       "2018-03-01 01:00:00           NaN  \n",
       "2018-03-01 02:00:00           NaN  \n",
       "2018-03-01 03:00:00           NaN  \n",
       "2018-03-01 04:00:00           NaN  \n",
       "...                           ...  \n",
       "2018-08-31 19:00:00    154.297619  \n",
       "2018-08-31 20:00:00    154.434524  \n",
       "2018-08-31 21:00:00    154.285714  \n",
       "2018-08-31 22:00:00    154.244048  \n",
       "2018-08-31 23:00:00    154.130952  \n",
       "\n",
       "[4416 rows x 172 columns]"
      ]
     },
     "execution_count": 44,
     "metadata": {},
     "output_type": "execute_result"
    }
   ],
   "source": [
    "data_plus = make_features(data, 168, 168)\n",
    "data_plus"
   ]
  },
  {
   "cell_type": "markdown",
   "metadata": {},
   "source": [
    "### Вывод\n",
    "<a name=\"34\"></a> <div style=\"text-align: left\">[Cодержание](#Содержание)</div>"
   ]
  },
  {
   "cell_type": "markdown",
   "metadata": {},
   "source": [
    "В разделе [**Подготовка данных**](#3.-Подготовка-данных) были выполнены следующие задачи:\n",
    "1. загружены данные, в качестве индекса мы установили признак `datetime` и изменили его тип данных с `object` на `datetime64`;\n",
    "2. выполнено ресемплирование данных, по одному часу;\n",
    "3. созданы новые признаки: календарные признаки (день недели и час), отстающие значения и скользящее среднее.\n",
    "\n",
    "В результате выполнения задач этого раздела было выявлено следующее:\n",
    "- даты и время в датафрейме расположены в хронологическом порядке.\n",
    "\n",
    "Также определено, что **в нашем проекте решается задача регрессии.**\n",
    "\n",
    "Таким образом, наши данные подготовлены для анализа и обучения моделей."
   ]
  },
  {
   "cell_type": "markdown",
   "metadata": {},
   "source": [
    "## Анализ данных\n",
    "<a name=\"4\"></a> <div style=\"text-align: left\">[Cодержание](#Содержание)</div>"
   ]
  },
  {
   "cell_type": "markdown",
   "metadata": {},
   "source": [
    "Построим график исходного временного ряда и наложим на него скользящие средние, которые отобразят среднее количество заказов по дням и неделям."
   ]
  },
  {
   "cell_type": "code",
   "execution_count": 45,
   "metadata": {},
   "outputs": [
    {
     "data": {
      "image/png": "[encoded data removed]",
      "text/plain": [
       "<Figure size 1080x432 with 1 Axes>"
      ]
     },
     "metadata": {
      "needs_background": "light"
     },
     "output_type": "display_data"
    }
   ],
   "source": [
    "fig, ax = plt.subplots(figsize=(15, 6))\n",
    "data.plot(title='Количество заказов в день', ax=ax)\n",
    "data['num_orders'].rolling(window=24).mean().plot(label='Среднее количество заказов в день', color='orange', ax=ax)\n",
    "data['num_orders'].rolling(window=168).mean().plot(label='Среднее количество заказов в неделю', color='green', ax=ax)\n",
    "plt.xlabel(\"Дата\")\n",
    "plt.ylabel('Сумма заказов в час')\n",
    "plt.legend()\n",
    "plt.grid(True)\n",
    "plt.show()"
   ]
  },
  {
   "cell_type": "markdown",
   "metadata": {},
   "source": [
    "Выполним анализ временного ряда. Мы имеем данные за полгода - с 1 марта по 31 августа 2018 года. Посмотрим тренд за этот период, а также сезонные изменения в пределах недели и дня."
   ]
  },
  {
   "cell_type": "markdown",
   "metadata": {},
   "source": [
    "### Тренд\n",
    "<a name=\"41\"></a> <div style=\"text-align: left\">[Cодержание](#Содержание)</div>"
   ]
  },
  {
   "cell_type": "markdown",
   "metadata": {},
   "source": [
    "Ресемплируем данные по дням, чтобы не мешала периодичность более высокого порядка."
   ]
  },
  {
   "cell_type": "code",
   "execution_count": 46,
   "metadata": {},
   "outputs": [],
   "source": [
    "decomposed_day = seasonal_decompose(data.resample('1D').sum())"
   ]
  },
  {
   "cell_type": "code",
   "execution_count": 47,
   "metadata": {},
   "outputs": [
    {
     "data": {
      "image/png": "[encoded data removed]",
      "text/plain": [
       "<Figure size 1008x360 with 1 Axes>"
      ]
     },
     "metadata": {
      "needs_background": "light"
     },
     "output_type": "display_data"
    }
   ],
   "source": [
    "plt.figure(figsize=(14, 5))\n",
    "decomposed_day.trend.plot(title='Тренд')\n",
    "plt.xlabel(\"Время (месяцы)\")\n",
    "plt.ylabel('Количество заказов')\n",
    "plt.show()"
   ]
  },
  {
   "cell_type": "markdown",
   "metadata": {},
   "source": [
    "Видно, что на графике хорошо прослеживается рост числа заказов такси в аэропорт за полгода."
   ]
  },
  {
   "cell_type": "markdown",
   "metadata": {},
   "source": [
    "### Сезонность\n",
    "<a name=\"42\"></a> <div style=\"text-align: left\">[Cодержание](#Содержание)</div>"
   ]
  },
  {
   "cell_type": "markdown",
   "metadata": {},
   "source": [
    "Взглянем, как изменяется число заказов такси в течение **недели**."
   ]
  },
  {
   "cell_type": "code",
   "execution_count": 48,
   "metadata": {},
   "outputs": [
    {
     "data": {
      "image/png": "[encoded data removed]",
      "text/plain": [
       "<Figure size 1008x360 with 1 Axes>"
      ]
     },
     "metadata": {
      "needs_background": "light"
     },
     "output_type": "display_data"
    }
   ],
   "source": [
    "plt.figure(figsize=(14, 5))\n",
    "decomposed_day.seasonal['2018-03-01':'2018-03-15'].plot(title='Недельная сезонность')\n",
    "plt.xlabel(\"Время (дни)\")\n",
    "plt.ylabel('Количество заказов (относительно первого дня)')\n",
    "plt.show()"
   ]
  },
  {
   "cell_type": "markdown",
   "metadata": {},
   "source": [
    "На графике нам видны пики - во вторник (02 и 09) и в пятницу (05 и 12). То есть, больше всего заказов такси в аэропорт приходится на начало и конец рабочей недели."
   ]
  },
  {
   "cell_type": "markdown",
   "metadata": {},
   "source": [
    "Теперь посмотрим, как изменяется число заказов такси в течение **дня** - для этого воспользуемся ресемплингом по часам."
   ]
  },
  {
   "cell_type": "code",
   "execution_count": 49,
   "metadata": {},
   "outputs": [],
   "source": [
    "decomposed_hour = seasonal_decompose(data)"
   ]
  },
  {
   "cell_type": "code",
   "execution_count": 50,
   "metadata": {},
   "outputs": [
    {
     "data": {
      "image/png": "[encoded data removed]",
      "text/plain": [
       "<Figure size 1008x360 with 1 Axes>"
      ]
     },
     "metadata": {
      "needs_background": "light"
     },
     "output_type": "display_data"
    }
   ],
   "source": [
    "plt.figure(figsize=(14, 5))\n",
    "decomposed_hour.seasonal['2018-03-01':'2018-03-2'].plot(title='Суточная сезонность')\n",
    "plt.xlabel(\"Время (часы)\")\n",
    "plt.ylabel('Количество заказов (относительно нулевого часа)')\n",
    "plt.legend()\n",
    "plt.show()"
   ]
  },
  {
   "cell_type": "markdown",
   "metadata": {},
   "source": [
    "На данном графике видно, что самое непопулярное время - это 6:00. Затем в течение дня наблюдаются несколько пиков: в ~10:00, в ~16:00 и самое популярное, т.е самое загруженное время - в ~00:00."
   ]
  },
  {
   "cell_type": "markdown",
   "metadata": {},
   "source": [
    "### Вывод\n",
    "<a name=\"43\"></a> <div style=\"text-align: left\">[Cодержание](#Содержание)</div>"
   ]
  },
  {
   "cell_type": "markdown",
   "metadata": {},
   "source": [
    "В разделе [**Анализ данных**](#4.-Анализ-данных) были выполнены следующие задачи:\n",
    "1. выполнен анализ тренда за полугодовой период с 1 марта по 31 августа 2018 года;\n",
    "2. выполнен анализ сезонных изменений в пределах недели и дня.\n",
    "\n",
    "В результате выполнения задач этого раздела было выявлено следующее:\n",
    "1. в течение всего полугодового периода с 1 марта по 31 августа 2018 года прослеживается рост числа заказов такси в аэропорт;\n",
    "2. в пределах недели: больше всего заказов такси в аэропорт приходится на вторник и пятницу;\n",
    "3. в пределах дня: самое непопулярное время - 6:00. Затем в течение дня наблюдаются несколько пиков: в ~10:00, в ~16:00 и самое популярное,  т.е. загруженное время - в ~00:00."
   ]
  },
  {
   "cell_type": "markdown",
   "metadata": {},
   "source": [
    "## Обучение моделей\n",
    "<a name=\"5\"></a> <div style=\"text-align: left\">[Cодержание](#Содержание)</div>"
   ]
  },
  {
   "cell_type": "markdown",
   "metadata": {},
   "source": [
    "Обучим разные модели с различными гиперпараметрами. Сделаем тестовую выборку размером 10% от исходных данных."
   ]
  },
  {
   "cell_type": "markdown",
   "metadata": {},
   "source": [
    "### Разделение данных на выборки\n",
    "<a name=\"51\"></a> <div style=\"text-align: left\">[Cодержание](#Содержание)</div>"
   ]
  },
  {
   "cell_type": "markdown",
   "metadata": {},
   "source": [
    "Разделим данные на обучающую и тестовую выборки в соотношении 9:1.\n",
    "\n",
    "Отмечаем, что перемешивать выборки в задаче прогнозирования временного ряда нельзя, поэтому укажем аргумент `shuffle` (с англ. «перетасовывать») равным `False`, чтобы разделить данные корректно. Данные обучающей выборки должны предшествовать данным тестовой. Иначе тестирование модели будет некорректным: модель не должна обучаться на данных из будущего."
   ]
  },
  {
   "cell_type": "code",
   "execution_count": 15,
   "metadata": {},
   "outputs": [],
   "source": [
    "data_plus.dropna(inplace=True)\n",
    "\n",
    "X = data_plus.drop('num_orders', axis=1)\n",
    "y = data_plus['num_orders']\n",
    "\n",
    "X_train, X_test, y_train, y_test = train_test_split(\n",
    "    X, y, shuffle=False, test_size=TEST_SIZE)"
   ]
  },
  {
   "cell_type": "code",
   "execution_count": 16,
   "metadata": {},
   "outputs": [
    {
     "name": "stdout",
     "output_type": "stream",
     "text": [
      "Размеры выборок:\n",
      "train: 3823 - 87%\n",
      "test: 425 - 10%\n"
     ]
    }
   ],
   "source": [
    "print('Размеры выборок:')\n",
    "print(f'train: {len(X_train)} - {len(X_train)/len(data):.0%}')\n",
    "print(f'test: {len(X_test)} - {len(X_test)/len(data):.0%}')"
   ]
  },
  {
   "cell_type": "markdown",
   "metadata": {},
   "source": [
    "### Функция для обучения моделей\n",
    "<a name=\"52\"></a> <div style=\"text-align: left\">[Cодержание](#Содержание)</div>"
   ]
  },
  {
   "cell_type": "markdown",
   "metadata": {},
   "source": [
    "Создадим и обучим четыре модели: линейную регрессию (*Linear Regression*), случайный лес (*Random Forest*), градиентные бустинги *LightGBM* и *CatBoost*. Качество моделей оценим кросс-валидацией `GridSearchCV` с метрикой *RMSE* и разделением на фолды `TimeSeriesSplit`.\n",
    "\n",
    "Для начала напишем функцию `fit_model()`, которая будет подбирать лучшую модель с помощью `GridSearchCV`, выводить метрику *RMSE* и параметры лучшей модели.\n",
    "\n",
    "Укажем параметры для кроссвалидации: `n_splits` - количество фолдов."
   ]
  },
  {
   "cell_type": "code",
   "execution_count": 17,
   "metadata": {},
   "outputs": [],
   "source": [
    "ts_cv = TimeSeriesSplit(n_splits=4)"
   ]
  },
  {
   "cell_type": "code",
   "execution_count": 18,
   "metadata": {},
   "outputs": [],
   "source": [
    "def fit_model(estimator, param_grid, X_train, y_train):\n",
    "    model = GridSearchCV(estimator=estimator,\n",
    "                         param_grid=param_grid,\n",
    "                         n_jobs=-1,\n",
    "                         cv=ts_cv,\n",
    "                         scoring='neg_root_mean_squared_error')\n",
    "\n",
    "    model.fit(X_train, y_train)\n",
    "    best_rmse = abs(round(model.best_score_, 1))\n",
    "\n",
    "    print(f'Best RMSE: {best_rmse}')\n",
    "    print(f'Best params: {model.best_params_}')\n",
    "\n",
    "    return model.best_estimator_, best_rmse"
   ]
  },
  {
   "cell_type": "markdown",
   "metadata": {},
   "source": [
    "### `LinearRegression`\n",
    "<a name=\"53\"></a> <div style=\"text-align: left\">[Cодержание](#Содержание)</div>"
   ]
  },
  {
   "cell_type": "markdown",
   "metadata": {},
   "source": [
    "Построим модель линейной регрессии ***Linear Regression***. Будем использовать `Pipeline` для автоматизации предварительных преобразований данных перед обучением модели."
   ]
  },
  {
   "cell_type": "code",
   "execution_count": 19,
   "metadata": {},
   "outputs": [
    {
     "name": "stdout",
     "output_type": "stream",
     "text": [
      "RMSE: 22.9\n",
      "CPU times: user 606 ms, sys: 732 ms, total: 1.34 s\n",
      "Wall time: 1.33 s\n"
     ]
    }
   ],
   "source": [
    "%%time\n",
    "\n",
    "lr_estimator = Pipeline([('lr', LinearRegression())])\n",
    "\n",
    "scores = cross_val_score(lr_estimator, \n",
    "                         X_train, \n",
    "                         y_train, \n",
    "                         scoring='neg_root_mean_squared_error', \n",
    "                         cv=ts_cv)\n",
    "\n",
    "rmse_lr = abs(scores.mean())\n",
    "print(f'RMSE: {rmse_lr:.1f}')"
   ]
  },
  {
   "cell_type": "markdown",
   "metadata": {},
   "source": [
    "Построенная модель линейной регрессии **`LinearRegression`** имеет значение метрики оценки качества ***RMSE = 22.9***."
   ]
  },
  {
   "cell_type": "markdown",
   "metadata": {},
   "source": [
    "### `RandomForestRegressor`\n",
    "<a name=\"54\"></a> <div style=\"text-align: left\">[Cодержание](#Содержание)</div>"
   ]
  },
  {
   "cell_type": "markdown",
   "metadata": {},
   "source": [
    "Построим модель случайного леса ***Random Forest***, для задачи регрессии."
   ]
  },
  {
   "cell_type": "code",
   "execution_count": 20,
   "metadata": {
    "scrolled": false
   },
   "outputs": [
    {
     "name": "stdout",
     "output_type": "stream",
     "text": [
      "Best RMSE: 23.1\n",
      "Best params: {'max_depth': 11, 'n_estimators': 120}\n",
      "CPU times: user 15min 41s, sys: 1.31 s, total: 15min 43s\n",
      "Wall time: 15min 43s\n"
     ]
    }
   ],
   "source": [
    "%%time\n",
    "\n",
    "rf_param_grid = {\n",
    "    # максимальная глубина дерева:\n",
    "    'max_depth': list(range(5, 12, 2)), \n",
    "    # количество деревьев:\n",
    "    'n_estimators': list(range(50, 121, 10))}\n",
    "\n",
    "rf_best_model = fit_model(\n",
    "    estimator=RandomForestRegressor(random_state=RANDOM_STATE, n_jobs=-1),\n",
    "    param_grid=rf_param_grid,\n",
    "    X_train=X_train,\n",
    "    y_train=y_train)"
   ]
  },
  {
   "cell_type": "markdown",
   "metadata": {},
   "source": [
    "Лучшая модель случайного леса **`RandomForestRegressor`** имеет значение метрики оценки качества ***RMSE = 23.1*** при следующих гиперпараметрах:\n",
    "- глубина дерева: `max_depth` = 11;\n",
    "- количество деревьев: `n_estimators` = 120."
   ]
  },
  {
   "cell_type": "markdown",
   "metadata": {},
   "source": [
    "### `LGBMRegressor`\n",
    "<a name=\"55\"></a> <div style=\"text-align: left\">[Cодержание](#Содержание)</div>"
   ]
  },
  {
   "cell_type": "markdown",
   "metadata": {},
   "source": [
    "Построим модель градиентного бустинга ***LightGBM***, для задачи регрессии."
   ]
  },
  {
   "cell_type": "code",
   "execution_count": 21,
   "metadata": {},
   "outputs": [
    {
     "name": "stdout",
     "output_type": "stream",
     "text": [
      "Best RMSE: 22.8\n",
      "Best params: {'learning_rate': 0.05, 'max_depth': 4, 'n_estimators': 150}\n",
      "CPU times: user 21min 23s, sys: 10.3 s, total: 21min 33s\n",
      "Wall time: 21min 42s\n"
     ]
    }
   ],
   "source": [
    "%%time\n",
    "\n",
    "lgbm_param_grid = {\n",
    "    # максимальная глубина дерева:\n",
    "    'max_depth': range(4, 9, 2), \n",
    "    # количество деревьев (итераций):\n",
    "    'n_estimators': range(100, 201, 50),\n",
    "    # коэффициент скорости обучения (размер шага градиентного спуска):\n",
    "    'learning_rate': [0.01, 0.05, 0.1]}\n",
    "\n",
    "lgbm_best_model = fit_model(\n",
    "    estimator=LGBMRegressor(random_state=RANDOM_STATE, n_jobs=-1),\n",
    "    param_grid=lgbm_param_grid,\n",
    "    X_train=X_train,\n",
    "    y_train=y_train)"
   ]
  },
  {
   "cell_type": "markdown",
   "metadata": {},
   "source": [
    "Лучшая модель градиентного бустинга **`LGBMRegressor`** имеет значение метрики оценки качества ***RMSE = 22.8*** при следующих гиперпараметрах:\n",
    "- глубина дерева: `max_depth` = 4;\n",
    "- количество деревьев (итераций): `n_estimators` = 150;\n",
    "- коэффициент скорости обучения (размер шага градиентного спуска): `learning_rate` = 0.05."
   ]
  },
  {
   "cell_type": "markdown",
   "metadata": {},
   "source": [
    "### `CatBoostRegressor`\n",
    "<a name=\"56\"></a> <div style=\"text-align: left\">[Cодержание](#Содержание)</div>"
   ]
  },
  {
   "cell_type": "markdown",
   "metadata": {},
   "source": [
    "Построим модель градиентного бустинга ***CatBoost*** для задачи регрессии.\n",
    "\n",
    "Здесь нужно отметить, что `CatBoostRegressor` создает временные файлы для обучения. Укажем в модели параметр `allow_writing_files=False`, чтобы не появлялась ошибка о том, что по указанными путям у `CatBoostRegressor` нет доступа к созданию файлов."
   ]
  },
  {
   "cell_type": "code",
   "execution_count": 22,
   "metadata": {},
   "outputs": [
    {
     "name": "stdout",
     "output_type": "stream",
     "text": [
      "Best RMSE: 22.7\n",
      "Best params: {'depth': 5, 'iterations': 250, 'learning_rate': 0.05}\n",
      "CPU times: user 1h 5min 51s, sys: 6.83 s, total: 1h 5min 57s\n",
      "Wall time: 1h 5min 59s\n"
     ]
    }
   ],
   "source": [
    "%%time\n",
    "\n",
    "catboost_param_grid = {\n",
    "    # глубина дерева\n",
    "    'depth': range(2, 12, 3), \n",
    "    # количество итераций\n",
    "    'iterations': range(250, 301, 50), \n",
    "    # коэффициент скорости обучения (размер шага градиентного спуска)\n",
    "    'learning_rate': [0.05, 0.1, 0.15]}\n",
    "\n",
    "catboost_best_model = fit_model(\n",
    "    estimator=CatBoostRegressor(random_state=RANDOM_STATE, \n",
    "                                verbose=False, allow_writing_files=False),\n",
    "                                param_grid=catboost_param_grid,\n",
    "                                X_train=X_train, y_train=y_train)"
   ]
  },
  {
   "cell_type": "markdown",
   "metadata": {},
   "source": [
    "Лучшая модель градиентного бустинга **`CatBoostRegressor`** имеет значение метрики оценки качества ***RMSE = 22.7*** при следующих гиперпараметрах:\n",
    "- глубина дерева: `depth` = 5;\n",
    "- количество итераций: `iterations` = 250;\n",
    "- коэффициент скорости обучения (размер шага градиентного спуска): `learning_rate` = 0.05."
   ]
  },
  {
   "cell_type": "markdown",
   "metadata": {},
   "source": [
    "### Сравнение моделей\n",
    "<a name=\"57\"></a> <div style=\"text-align: left\">[Cодержание](#Содержание)</div>"
   ]
  },
  {
   "cell_type": "markdown",
   "metadata": {},
   "source": [
    "Выведем итоговые значения метрики *RMSE* различных моделей в виде таблицы."
   ]
  },
  {
   "cell_type": "code",
   "execution_count": 23,
   "metadata": {},
   "outputs": [
    {
     "data": {
      "text/html": [
       "<div>\n",
       "<style scoped>\n",
       "    .dataframe tbody tr th:only-of-type {\n",
       "        vertical-align: middle;\n",
       "    }\n",
       "\n",
       "    .dataframe tbody tr th {\n",
       "        vertical-align: top;\n",
       "    }\n",
       "\n",
       "    .dataframe thead th {\n",
       "        text-align: right;\n",
       "    }\n",
       "</style>\n",
       "<table border=\"1\" class=\"dataframe\">\n",
       "  <thead>\n",
       "    <tr style=\"text-align: right;\">\n",
       "      <th></th>\n",
       "      <th>model</th>\n",
       "      <th>RMSE</th>\n",
       "    </tr>\n",
       "  </thead>\n",
       "  <tbody>\n",
       "    <tr>\n",
       "      <th>0</th>\n",
       "      <td>LinearRegression</td>\n",
       "      <td>22.9</td>\n",
       "    </tr>\n",
       "    <tr>\n",
       "      <th>1</th>\n",
       "      <td>RandomForestRegressor</td>\n",
       "      <td>23.1</td>\n",
       "    </tr>\n",
       "    <tr>\n",
       "      <th>2</th>\n",
       "      <td>LGBMRegressor</td>\n",
       "      <td>22.8</td>\n",
       "    </tr>\n",
       "    <tr>\n",
       "      <th>3</th>\n",
       "      <td>CatBoostRegressor</td>\n",
       "      <td>22.7</td>\n",
       "    </tr>\n",
       "  </tbody>\n",
       "</table>\n",
       "</div>"
      ],
      "text/plain": [
       "                   model  RMSE\n",
       "0       LinearRegression  22.9\n",
       "1  RandomForestRegressor  23.1\n",
       "2          LGBMRegressor  22.8\n",
       "3      CatBoostRegressor  22.7"
      ]
     },
     "execution_count": 23,
     "metadata": {},
     "output_type": "execute_result"
    }
   ],
   "source": [
    "table = pd.DataFrame([\n",
    "    ['LinearRegression', f'{rmse_lr:.1f}'],\n",
    "    ['RandomForestRegressor', f'{rf_best_model[1]:.1f}'],\n",
    "    ['LGBMRegressor', f'{lgbm_best_model[1]:.1f}'],\n",
    "    ['CatBoostRegressor', f'{catboost_best_model[1]:.1f}']\n",
    "],\n",
    "columns=['model', 'RMSE'])\n",
    "\n",
    "table"
   ]
  },
  {
   "cell_type": "markdown",
   "metadata": {},
   "source": [
    "По итогу, в качестве лучшей модели нам следует выбрать модель **градиентного бустинга** **`CatBoostRegressor`**, т.к. значение метрики ***RMSE = 22.7*** у неё меньше остальных моделей."
   ]
  },
  {
   "cell_type": "markdown",
   "metadata": {},
   "source": [
    "### Вывод\n",
    "<a name=\"58\"></a> <div style=\"text-align: left\">[Cодержание](#Содержание)</div>"
   ]
  },
  {
   "cell_type": "markdown",
   "metadata": {},
   "source": [
    "В разделе [**Обучение моделей**](#5.-Обучение-моделей) были выполнены следующие задачи:\n",
    "1. Данные разделены на выборки, без перемешивания, в соотношении 9:1.\n",
    "2. Написана функция `fit_model()`, которая подбирает лучшую модель используя функцию `GridSearchCV`, выводит метрику *RMSE* и параметры лучшей модели.\n",
    "3. Обучены четыре модели (`LinearRegression`, `RandomForestRegressor`, `LGBMRegressor` и `CatBoostRegressor`) с различными гиперпараметрами.\n",
    "4. Выведены значения метрики *RMSE* различных моделей в виде таблицы.\n",
    "\n",
    "\n",
    "В результате выполнения задач этого раздела было выявлено следующее:\n",
    "- Лучшая модель градиентного бустинга **`CatBoostRegressor`** **на обучающей выборке** имеет значение метрики оценки качества ***RMSE = 26.0*** при следующих гиперпараметрах:\n",
    "    - глубина дерева: `max_depth` = 5;\n",
    "    - количество деревьев `n_estimators` (или итераций `iterations`):  250;\n",
    "    - коэффициент скорости обучения (размер шага градиентного спуска): `learning_rate` = 0.05."
   ]
  },
  {
   "cell_type": "markdown",
   "metadata": {},
   "source": [
    "## Тестирование лучшей модели\n",
    "<a name=\"6\"></a> <div style=\"text-align: left\">[Cодержание](#Содержание)</div>"
   ]
  },
  {
   "cell_type": "markdown",
   "metadata": {},
   "source": [
    "### Качество модели\n",
    "<a name=\"61\"></a> <div style=\"text-align: left\">[Cодержание](#Содержание)</div>"
   ]
  },
  {
   "cell_type": "markdown",
   "metadata": {},
   "source": [
    "Проверим качесто выбранной модели градиентного бустинга **`CatBoostRegressor`** на **тестовой** выборке."
   ]
  },
  {
   "cell_type": "code",
   "execution_count": 28,
   "metadata": {},
   "outputs": [
    {
     "name": "stdout",
     "output_type": "stream",
     "text": [
      "RMSE на тестовой выборке: 36.8\n"
     ]
    }
   ],
   "source": [
    "pred = catboost_best_model[0].predict(X_test)\n",
    "\n",
    "# параметр squared=False возвращает метрику RMSE\n",
    "rmse = mean_squared_error(y_test, pred, squared=False) \n",
    "print(f'RMSE на тестовой выборке: {rmse:.1f}')"
   ]
  },
  {
   "cell_type": "markdown",
   "metadata": {},
   "source": [
    "Итак, лучшая модель градиентного бустинга **`CatBoostRegressor`** на тестовой выборке имеет значение метрики оценки качества ***RMSE = 36.8***."
   ]
  },
  {
   "cell_type": "markdown",
   "metadata": {},
   "source": [
    "### Зависимость количества заказов от времени\n",
    "<a name=\"62\"></a> <div style=\"text-align: left\">[Cодержание](#Содержание)</div>"
   ]
  },
  {
   "cell_type": "markdown",
   "metadata": {},
   "source": [
    "Построим график зависимости истинных и предсказанных значений количества заказов от времени, для тестовой выборки."
   ]
  },
  {
   "cell_type": "code",
   "execution_count": 29,
   "metadata": {},
   "outputs": [
    {
     "data": {
      "image/png": "[encoded data removed]",
      "text/plain": [
       "<Figure size 1008x360 with 1 Axes>"
      ]
     },
     "metadata": {
      "needs_background": "light"
     },
     "output_type": "display_data"
    }
   ],
   "source": [
    "pred = pd.Series(pred, index=y_test.index)\n",
    "\n",
    "plt.figure(figsize=(14, 5))\n",
    "y_test.plot(label='true', title='Test')\n",
    "pred.plot(label='predicted')\n",
    "plt.legend()\n",
    "plt.xlabel(\"Время (дни)\")\n",
    "plt.ylabel('Количество заказов')\n",
    "plt.show()"
   ]
  },
  {
   "cell_type": "markdown",
   "metadata": {},
   "source": [
    "График показывает, что зависимости истинных и предсказанных значений количества заказов от времени имеют схожий характер."
   ]
  },
  {
   "cell_type": "markdown",
   "metadata": {},
   "source": [
    "### Вывод\n",
    "<a name=\"63\"></a> <div style=\"text-align: left\">[Cодержание](#Содержание)</div>"
   ]
  },
  {
   "cell_type": "markdown",
   "metadata": {},
   "source": [
    "В разделе [**Тестирование лучшей модели**](#6.-Тестирование-лучшей-модели) были выполнены следующие задачи:\n",
    "1. проверено качесто выбранной, лучшей модели **`CatBoostRegressor`** на тестовой выборке;\n",
    "2. построен график зависимости истинных и предсказанных значений количества заказов от времени, для тестовой выборки.\n",
    "\n",
    "В результате выполнения задач этого раздела было выявлено следующее:\n",
    "1. лучшая модель **градиентного бустинга** **`CatBoostRegressor`** на тестовой выборке имеет значение метрики оценки качества ***RMSE = 36.8***;\n",
    "2. значение метрики ***RMSE*** **на тестовой выборке** не превышает ***48***, что соответствует изначальному требованию в условии задачи проекта."
   ]
  },
  {
   "cell_type": "markdown",
   "metadata": {},
   "source": [
    "## Общий вывод\n",
    "<a name=\"7\"></a> <div style=\"text-align: left\">[Cодержание](#Содержание)</div>"
   ]
  },
  {
   "cell_type": "markdown",
   "metadata": {},
   "source": [
    "Нами проведено исследование, с целью построения модели машинного обучения, которая поможет предсказать количество заказов такси на следующий час.\n",
    "\n",
    "Входные данными были исторические данные о заказах такси в аэропортах за полгода - с 1 марта по 31 августа 2018 года.\n",
    "\n",
    "В разделе [**подготовки данных**](#3.-Подготовка-данных) данные были загружены, в качестве индекса датасета установлен признак datetime с типом данных datetime64. Выполнили ресемплирование данных по одному часу, создали новые признаки - календарные (день недели и час), отстающие значения и скользящее среднее. Даты и время в датафрейме расположены в хронологическом порядке.\n",
    "\n",
    "В разделе [**анализа данных**](#4.-Анализ-данных) были выполнены анализ тренда за полугодовой период с 1 марта по 31 августа 2018 года и анализ сезонных изменений в пределах недели и дня. \n",
    "\n",
    "В результате данного анализа выяснилось, что:\n",
    "1. в течение всего полугодового периода с 1 марта по 31 августа 2018 года прослеживается рост числа заказов такси в аэропорт;\n",
    "2. в пределах недели: больше всего заказов такси в аэропорт приходится на вторник и пятницу;\n",
    "3. в пределах дня: самое непопулярное время - 6:00. Затем в течение дня наблюдаются несколько пиков: в ~10:00, в ~16:00 и самое популярное,  загруженное время - в ~00:00.\n",
    "\n",
    "В разделе [**обучения моделей**](#5.-Обучение-моделей) данные были разделены на выборки, без перемешивания, в соотношении 9:1. Написана функция для подбора лучшей модели, вывода метрики *RMSE* и параметров лучшей модели. Обучены четыре модели (`LinearRegression`, `RandomForestRegressor`, `LGBMRegressor` и `CatBoostRegressor`) с различными гиперпараметрами. Выведены значения метрики *RMSE* различных моделей в виде таблицы.\n",
    "\n",
    "В ходе исследования удалось получить следующие результаты **на обучающей выборке**:\n",
    "\n",
    "1. Модель линейной регрессии **`LinearRegression`** имеет значение метрики оценки качества ***RMSE = 22.9***.\n",
    "\n",
    "\n",
    "2. Лучшая модель случайного леса **`RandomForestRegressor`** имеет значение метрики оценки качества ***RMSE = 23.1*** при следующих параметрах:\n",
    "    - глубина дерева: `max_depth` = 11;\n",
    "    - количество деревьев: `n_estimators` = 120.\n",
    "\n",
    "\n",
    "3. Лучшая модель градиентного бустинга **`LGBMRegressor`** имеет значение метрики оценки качества ***RMSE = 22.8*** при следующих параметрах:\n",
    "    - глубина дерева: `max_depth` = 4;\n",
    "    - количество деревьев (итераций): `n_estimators` = 150;\n",
    "    - коэффициент скорости обучения (размер шага градиентного спуска): `learning_rate` = 0.05.\n",
    "   \n",
    "\n",
    "4. Лучшая модель градиентного бустинга **`CatBoostRegressor`** имеет значение метрики оценки качества ***RMSE = 22.7*** при следующих параметрах:\n",
    "    - глубина дерева: `depth` = 5;\n",
    "    - количество итераций: `iterations` = 250;\n",
    "    - коэффициент скорости обучения (размер шага градиентного спуска): `learning_rate` = 0.05.\n",
    "   \n",
    "\n",
    "В разделе [**тестирования лучшей модели**](#6.-Тестирование-лучшей-модели) было проверено качесто выбранной, лучшей модели **`LGBMRegressor`** на тестовой выборке и построен график зависимости истинных и предсказанных значений количества заказов от времени, для тестовой выборки.\n",
    "\n",
    "В результате выполнения тестирования были получены результаты:\n",
    "- лучшая модель **градиентного бустинга** **`CatBoostRegressor`** на тестовой выборке имеет значение метрики оценки качества ***RMSE = 36.8***;\n",
    "\n",
    "______________________ ______________________ ______________________\n",
    "Исходя из полученных результатов, можно сделать следующий **вывод**:\n",
    "\n",
    "- лучшая модель **градиентного бустинга** **`CatBoostRegressor`** на **тестовой выборке** имеет значение метрики оценки качества ***RMSE = 36.8***, что не превышает ***48***, а значит соответствует изначальному требованию в условии задачи проекта.\n",
    "______________________ ______________________ ______________________   \n",
    "**Общие рекомендации:**\n",
    "\n",
    "Специалистам компании агрегатора такси, занимающимся вопросами регулирования количества водителей в различные периоды нагрузки, можно рекомендовать использовать полученную модель **`CatBoostRegressor`**.\n",
    "\n",
    "Результаты исследования позволят привлечь больше водителей в период пиковой нагрузки.\n",
    "______________________ ______________________ ______________________\n",
    "На этом мы заканчиваем. Благодарим вас за внимание, надеемся, что наше исследование вам понравилось и поможет сделать правильные выводы, принять правильные решения."
   ]
  }
 ],
 "metadata": {
  "ExecuteTimeLog": [
   {
    "duration": 1854,
    "start_time": "2023-07-22T15:28:58.363Z"
   },
   {
    "duration": 231,
    "start_time": "2023-07-22T15:29:00.219Z"
   },
   {
    "duration": 6,
    "start_time": "2023-07-22T15:29:00.452Z"
   },
   {
    "duration": 32,
    "start_time": "2023-07-22T15:29:00.461Z"
   },
   {
    "duration": 27,
    "start_time": "2023-07-22T15:29:00.495Z"
   },
   {
    "duration": 44,
    "start_time": "2023-07-22T15:29:00.525Z"
   },
   {
    "duration": 75,
    "start_time": "2023-07-22T15:29:00.571Z"
   },
   {
    "duration": 33,
    "start_time": "2023-07-22T15:29:00.648Z"
   },
   {
    "duration": 62,
    "start_time": "2023-07-22T15:29:00.683Z"
   },
   {
    "duration": 19,
    "start_time": "2023-07-22T15:29:00.748Z"
   },
   {
    "duration": 261,
    "start_time": "2023-07-22T15:29:00.769Z"
   },
   {
    "duration": 225,
    "start_time": "2023-07-22T15:29:01.032Z"
   },
   {
    "duration": 42,
    "start_time": "2023-07-22T15:29:01.260Z"
   },
   {
    "duration": 351,
    "start_time": "2023-07-22T15:29:01.304Z"
   },
   {
    "duration": 18,
    "start_time": "2023-07-22T15:29:01.657Z"
   },
   {
    "duration": 62,
    "start_time": "2023-07-22T15:29:01.677Z"
   },
   {
    "duration": 51,
    "start_time": "2023-07-22T15:29:01.741Z"
   },
   {
    "duration": 39,
    "start_time": "2023-07-22T15:29:01.794Z"
   },
   {
    "duration": 87,
    "start_time": "2023-07-22T15:29:01.835Z"
   },
   {
    "duration": 40832,
    "start_time": "2023-07-22T15:29:01.924Z"
   },
   {
    "duration": 93515,
    "start_time": "2023-07-22T15:29:42.758Z"
   },
   {
    "duration": 121509,
    "start_time": "2023-07-22T15:31:16.275Z"
   },
   {
    "duration": 9,
    "start_time": "2023-07-22T15:33:17.786Z"
   },
   {
    "duration": 18,
    "start_time": "2023-07-22T15:33:17.797Z"
   },
   {
    "duration": 332,
    "start_time": "2023-07-22T15:33:17.817Z"
   },
   {
    "duration": 1862,
    "start_time": "2023-07-22T19:55:28.903Z"
   },
   {
    "duration": 247,
    "start_time": "2023-07-22T19:55:30.767Z"
   },
   {
    "duration": 6,
    "start_time": "2023-07-22T19:55:31.015Z"
   },
   {
    "duration": 64,
    "start_time": "2023-07-22T19:55:31.023Z"
   },
   {
    "duration": 101,
    "start_time": "2023-07-22T19:55:31.088Z"
   },
   {
    "duration": 54,
    "start_time": "2023-07-22T19:55:31.190Z"
   },
   {
    "duration": 1568,
    "start_time": "2023-07-22T19:56:12.730Z"
   },
   {
    "duration": 107,
    "start_time": "2023-07-22T19:56:14.301Z"
   },
   {
    "duration": 5,
    "start_time": "2023-07-22T19:56:14.410Z"
   },
   {
    "duration": 17,
    "start_time": "2023-07-22T19:56:14.417Z"
   },
   {
    "duration": 10,
    "start_time": "2023-07-22T19:56:14.436Z"
   },
   {
    "duration": 10,
    "start_time": "2023-07-22T19:56:14.448Z"
   },
   {
    "duration": 16,
    "start_time": "2023-07-22T19:56:14.459Z"
   },
   {
    "duration": 4,
    "start_time": "2023-07-22T19:56:14.476Z"
   },
   {
    "duration": 47,
    "start_time": "2023-07-22T19:56:14.481Z"
   },
   {
    "duration": 9,
    "start_time": "2023-07-22T19:56:14.531Z"
   },
   {
    "duration": 241,
    "start_time": "2023-07-22T19:56:14.541Z"
   },
   {
    "duration": 210,
    "start_time": "2023-07-22T19:56:14.784Z"
   },
   {
    "duration": 18,
    "start_time": "2023-07-22T19:56:14.996Z"
   },
   {
    "duration": 300,
    "start_time": "2023-07-22T19:56:15.015Z"
   },
   {
    "duration": 8,
    "start_time": "2023-07-22T19:56:15.317Z"
   },
   {
    "duration": 8,
    "start_time": "2023-07-22T19:56:15.327Z"
   },
   {
    "duration": 12,
    "start_time": "2023-07-22T19:56:15.337Z"
   },
   {
    "duration": 8,
    "start_time": "2023-07-22T19:56:15.351Z"
   },
   {
    "duration": 56,
    "start_time": "2023-07-22T19:56:15.360Z"
   },
   {
    "duration": 38560,
    "start_time": "2023-07-22T19:56:15.418Z"
   },
   {
    "duration": 1624,
    "start_time": "2023-07-22T20:41:32.606Z"
   },
   {
    "duration": 123,
    "start_time": "2023-07-22T20:41:34.232Z"
   },
   {
    "duration": 6,
    "start_time": "2023-07-22T20:41:34.357Z"
   },
   {
    "duration": 13,
    "start_time": "2023-07-22T20:41:34.366Z"
   },
   {
    "duration": 13,
    "start_time": "2023-07-22T20:41:34.380Z"
   },
   {
    "duration": 35,
    "start_time": "2023-07-22T20:41:34.395Z"
   },
   {
    "duration": 14,
    "start_time": "2023-07-22T20:41:34.434Z"
   },
   {
    "duration": 4,
    "start_time": "2023-07-22T20:41:34.449Z"
   },
   {
    "duration": 23,
    "start_time": "2023-07-22T20:41:34.455Z"
   },
   {
    "duration": 8,
    "start_time": "2023-07-22T20:41:34.481Z"
   },
   {
    "duration": 254,
    "start_time": "2023-07-22T20:41:34.491Z"
   },
   {
    "duration": 223,
    "start_time": "2023-07-22T20:41:34.748Z"
   },
   {
    "duration": 8,
    "start_time": "2023-07-22T20:41:34.973Z"
   },
   {
    "duration": 283,
    "start_time": "2023-07-22T20:41:34.983Z"
   },
   {
    "duration": 10,
    "start_time": "2023-07-22T20:41:35.267Z"
   },
   {
    "duration": 50,
    "start_time": "2023-07-22T20:41:35.279Z"
   },
   {
    "duration": 16,
    "start_time": "2023-07-22T20:41:35.331Z"
   },
   {
    "duration": 9,
    "start_time": "2023-07-22T20:41:35.349Z"
   },
   {
    "duration": 48,
    "start_time": "2023-07-22T20:41:35.360Z"
   },
   {
    "duration": 40319,
    "start_time": "2023-07-22T20:41:35.410Z"
   },
   {
    "duration": 582079,
    "start_time": "2023-07-22T20:42:15.734Z"
   },
   {
    "duration": 109485,
    "start_time": "2023-07-22T20:51:57.815Z"
   },
   {
    "duration": 12,
    "start_time": "2023-07-22T20:53:47.302Z"
   },
   {
    "duration": 54,
    "start_time": "2023-07-22T20:53:47.316Z"
   },
   {
    "duration": 304,
    "start_time": "2023-07-22T20:53:47.371Z"
   },
   {
    "duration": 2529,
    "start_time": "2023-07-22T21:08:15.668Z"
   },
   {
    "duration": 157,
    "start_time": "2023-07-22T21:08:18.198Z"
   },
   {
    "duration": 6,
    "start_time": "2023-07-22T21:08:18.357Z"
   },
   {
    "duration": 31,
    "start_time": "2023-07-22T21:08:18.366Z"
   },
   {
    "duration": 27,
    "start_time": "2023-07-22T21:08:18.399Z"
   },
   {
    "duration": 17,
    "start_time": "2023-07-22T21:08:18.428Z"
   },
   {
    "duration": 32,
    "start_time": "2023-07-22T21:08:18.447Z"
   },
   {
    "duration": 6,
    "start_time": "2023-07-22T21:08:18.481Z"
   },
   {
    "duration": 40,
    "start_time": "2023-07-22T21:08:18.489Z"
   },
   {
    "duration": 49,
    "start_time": "2023-07-22T21:08:18.531Z"
   },
   {
    "duration": 251,
    "start_time": "2023-07-22T21:08:18.582Z"
   },
   {
    "duration": 220,
    "start_time": "2023-07-22T21:08:18.835Z"
   },
   {
    "duration": 9,
    "start_time": "2023-07-22T21:08:19.057Z"
   },
   {
    "duration": 277,
    "start_time": "2023-07-22T21:08:19.069Z"
   },
   {
    "duration": 10,
    "start_time": "2023-07-22T21:08:19.348Z"
   },
   {
    "duration": 78,
    "start_time": "2023-07-22T21:08:19.360Z"
   },
   {
    "duration": 40,
    "start_time": "2023-07-22T21:08:19.440Z"
   },
   {
    "duration": 32,
    "start_time": "2023-07-22T21:08:19.482Z"
   },
   {
    "duration": 71,
    "start_time": "2023-07-22T21:08:19.516Z"
   },
   {
    "duration": 79860,
    "start_time": "2023-07-22T21:08:19.590Z"
   },
   {
    "duration": 1296273,
    "start_time": "2023-07-22T21:09:39.452Z"
   },
   {
    "duration": 208898,
    "start_time": "2023-07-22T21:31:15.727Z"
   },
   {
    "duration": 9,
    "start_time": "2023-07-22T21:34:44.627Z"
   },
   {
    "duration": 90,
    "start_time": "2023-07-22T21:34:44.638Z"
   },
   {
    "duration": 628,
    "start_time": "2023-07-22T21:34:44.729Z"
   },
   {
    "duration": 3,
    "start_time": "2023-07-23T14:27:47.009Z"
   },
   {
    "duration": 44,
    "start_time": "2023-07-23T14:27:57.857Z"
   },
   {
    "duration": 1637,
    "start_time": "2023-07-23T14:28:06.984Z"
   },
   {
    "duration": 197,
    "start_time": "2023-07-23T14:28:08.623Z"
   },
   {
    "duration": 5,
    "start_time": "2023-07-23T14:28:08.822Z"
   },
   {
    "duration": 12,
    "start_time": "2023-07-23T14:28:08.828Z"
   },
   {
    "duration": 12,
    "start_time": "2023-07-23T14:28:08.842Z"
   },
   {
    "duration": 13,
    "start_time": "2023-07-23T14:28:08.856Z"
   },
   {
    "duration": 20,
    "start_time": "2023-07-23T14:28:08.870Z"
   },
   {
    "duration": 9,
    "start_time": "2023-07-23T14:28:08.892Z"
   },
   {
    "duration": 28,
    "start_time": "2023-07-23T14:28:08.903Z"
   },
   {
    "duration": 8,
    "start_time": "2023-07-23T14:28:08.933Z"
   },
   {
    "duration": 263,
    "start_time": "2023-07-23T14:28:08.943Z"
   },
   {
    "duration": 222,
    "start_time": "2023-07-23T14:31:04.281Z"
   },
   {
    "duration": 85,
    "start_time": "2023-07-23T14:31:22.196Z"
   },
   {
    "duration": 289,
    "start_time": "2023-07-23T14:31:32.947Z"
   },
   {
    "duration": 223,
    "start_time": "2023-07-23T14:38:19.263Z"
   },
   {
    "duration": 178,
    "start_time": "2023-07-23T14:38:39.334Z"
   },
   {
    "duration": 211,
    "start_time": "2023-07-23T14:40:01.004Z"
   },
   {
    "duration": 212,
    "start_time": "2023-07-23T14:40:21.534Z"
   },
   {
    "duration": 199,
    "start_time": "2023-07-23T14:41:55.238Z"
   },
   {
    "duration": 223,
    "start_time": "2023-07-23T14:42:09.877Z"
   },
   {
    "duration": 216,
    "start_time": "2023-07-23T14:42:47.521Z"
   },
   {
    "duration": 215,
    "start_time": "2023-07-23T14:45:09.587Z"
   },
   {
    "duration": 238,
    "start_time": "2023-07-23T14:45:42.358Z"
   },
   {
    "duration": 202,
    "start_time": "2023-07-23T14:45:59.717Z"
   },
   {
    "duration": 323,
    "start_time": "2023-07-23T14:46:59.043Z"
   },
   {
    "duration": 223,
    "start_time": "2023-07-23T14:47:07.317Z"
   },
   {
    "duration": 238,
    "start_time": "2023-07-23T14:47:13.199Z"
   },
   {
    "duration": 82,
    "start_time": "2023-07-23T14:54:19.811Z"
   },
   {
    "duration": 4,
    "start_time": "2023-07-23T14:54:49.813Z"
   },
   {
    "duration": 136,
    "start_time": "2023-07-23T14:54:49.827Z"
   },
   {
    "duration": 4,
    "start_time": "2023-07-23T14:54:49.965Z"
   },
   {
    "duration": 9,
    "start_time": "2023-07-23T14:54:49.971Z"
   },
   {
    "duration": 20,
    "start_time": "2023-07-23T14:54:49.982Z"
   },
   {
    "duration": 31,
    "start_time": "2023-07-23T14:54:50.004Z"
   },
   {
    "duration": 39,
    "start_time": "2023-07-23T14:54:50.037Z"
   },
   {
    "duration": 42,
    "start_time": "2023-07-23T14:54:50.077Z"
   },
   {
    "duration": 46,
    "start_time": "2023-07-23T14:54:50.121Z"
   },
   {
    "duration": 17,
    "start_time": "2023-07-23T14:54:50.168Z"
   },
   {
    "duration": 255,
    "start_time": "2023-07-23T14:54:50.188Z"
   },
   {
    "duration": 218,
    "start_time": "2023-07-23T14:54:50.445Z"
   },
   {
    "duration": 7,
    "start_time": "2023-07-23T14:54:50.664Z"
   },
   {
    "duration": 199,
    "start_time": "2023-07-23T14:54:50.673Z"
   },
   {
    "duration": 173,
    "start_time": "2023-07-23T14:55:09.884Z"
   },
   {
    "duration": 189,
    "start_time": "2023-07-23T14:55:47.128Z"
   },
   {
    "duration": 173,
    "start_time": "2023-07-23T14:56:27.392Z"
   },
   {
    "duration": 204,
    "start_time": "2023-07-23T14:57:04.612Z"
   },
   {
    "duration": 258,
    "start_time": "2023-07-23T14:59:31.759Z"
   },
   {
    "duration": 196,
    "start_time": "2023-07-23T14:59:45.203Z"
   },
   {
    "duration": 172,
    "start_time": "2023-07-23T15:00:07.166Z"
   },
   {
    "duration": 189,
    "start_time": "2023-07-23T15:01:07.550Z"
   },
   {
    "duration": 238,
    "start_time": "2023-07-23T15:01:16.552Z"
   },
   {
    "duration": 311,
    "start_time": "2023-07-23T15:01:27.473Z"
   },
   {
    "duration": 167,
    "start_time": "2023-07-23T15:01:55.113Z"
   },
   {
    "duration": 207,
    "start_time": "2023-07-23T15:02:19.419Z"
   },
   {
    "duration": 204,
    "start_time": "2023-07-23T15:02:53.970Z"
   },
   {
    "duration": 232,
    "start_time": "2023-07-23T15:03:08.403Z"
   },
   {
    "duration": 213,
    "start_time": "2023-07-23T15:04:09.906Z"
   },
   {
    "duration": 5,
    "start_time": "2023-07-23T15:08:09.160Z"
   },
   {
    "duration": 99,
    "start_time": "2023-07-23T15:08:09.183Z"
   },
   {
    "duration": 4,
    "start_time": "2023-07-23T15:08:09.284Z"
   },
   {
    "duration": 15,
    "start_time": "2023-07-23T15:08:09.290Z"
   },
   {
    "duration": 13,
    "start_time": "2023-07-23T15:08:09.307Z"
   },
   {
    "duration": 9,
    "start_time": "2023-07-23T15:08:09.322Z"
   },
   {
    "duration": 11,
    "start_time": "2023-07-23T15:08:09.333Z"
   },
   {
    "duration": 3,
    "start_time": "2023-07-23T15:08:09.346Z"
   },
   {
    "duration": 148,
    "start_time": "2023-07-23T15:08:09.351Z"
   },
   {
    "duration": 9,
    "start_time": "2023-07-23T15:08:09.500Z"
   },
   {
    "duration": 266,
    "start_time": "2023-07-23T15:08:09.511Z"
   },
   {
    "duration": 334,
    "start_time": "2023-07-23T15:08:09.778Z"
   },
   {
    "duration": 20,
    "start_time": "2023-07-23T15:08:10.115Z"
   },
   {
    "duration": 205,
    "start_time": "2023-07-23T15:08:10.136Z"
   },
   {
    "duration": 4,
    "start_time": "2023-07-23T15:08:41.182Z"
   },
   {
    "duration": 110,
    "start_time": "2023-07-23T15:08:41.195Z"
   },
   {
    "duration": 3,
    "start_time": "2023-07-23T15:08:41.307Z"
   },
   {
    "duration": 12,
    "start_time": "2023-07-23T15:08:41.312Z"
   },
   {
    "duration": 9,
    "start_time": "2023-07-23T15:08:41.325Z"
   },
   {
    "duration": 8,
    "start_time": "2023-07-23T15:08:41.336Z"
   },
   {
    "duration": 11,
    "start_time": "2023-07-23T15:08:41.345Z"
   },
   {
    "duration": 4,
    "start_time": "2023-07-23T15:08:41.358Z"
   },
   {
    "duration": 142,
    "start_time": "2023-07-23T15:08:41.364Z"
   },
   {
    "duration": 9,
    "start_time": "2023-07-23T15:08:41.508Z"
   },
   {
    "duration": 237,
    "start_time": "2023-07-23T15:08:41.532Z"
   },
   {
    "duration": 220,
    "start_time": "2023-07-23T15:08:41.771Z"
   },
   {
    "duration": 8,
    "start_time": "2023-07-23T15:08:41.993Z"
   },
   {
    "duration": 181,
    "start_time": "2023-07-23T15:08:42.003Z"
   },
   {
    "duration": 24,
    "start_time": "2023-07-23T15:08:42.186Z"
   },
   {
    "duration": 4,
    "start_time": "2023-07-23T15:08:42.212Z"
   },
   {
    "duration": 3,
    "start_time": "2023-07-23T15:08:42.232Z"
   },
   {
    "duration": 15,
    "start_time": "2023-07-23T15:08:42.237Z"
   },
   {
    "duration": 1279,
    "start_time": "2023-07-23T15:08:42.253Z"
   },
   {
    "duration": 1470,
    "start_time": "2023-07-23T16:01:25.129Z"
   },
   {
    "duration": 92,
    "start_time": "2023-07-23T16:01:26.601Z"
   },
   {
    "duration": 5,
    "start_time": "2023-07-23T16:01:26.695Z"
   },
   {
    "duration": 10,
    "start_time": "2023-07-23T16:01:26.702Z"
   },
   {
    "duration": 10,
    "start_time": "2023-07-23T16:01:26.713Z"
   },
   {
    "duration": 9,
    "start_time": "2023-07-23T16:01:26.725Z"
   },
   {
    "duration": 21,
    "start_time": "2023-07-23T16:01:26.736Z"
   },
   {
    "duration": 4,
    "start_time": "2023-07-23T16:01:26.759Z"
   },
   {
    "duration": 127,
    "start_time": "2023-07-23T16:01:26.765Z"
   },
   {
    "duration": 8,
    "start_time": "2023-07-23T16:01:26.894Z"
   },
   {
    "duration": 253,
    "start_time": "2023-07-23T16:01:26.903Z"
   },
   {
    "duration": 215,
    "start_time": "2023-07-23T16:01:27.158Z"
   },
   {
    "duration": 8,
    "start_time": "2023-07-23T16:01:27.375Z"
   },
   {
    "duration": 257,
    "start_time": "2023-07-23T16:01:27.385Z"
   },
   {
    "duration": 30,
    "start_time": "2023-07-23T16:01:27.643Z"
   },
   {
    "duration": 4,
    "start_time": "2023-07-23T16:01:27.675Z"
   },
   {
    "duration": 9,
    "start_time": "2023-07-23T16:01:27.681Z"
   },
   {
    "duration": 11,
    "start_time": "2023-07-23T16:01:27.691Z"
   },
   {
    "duration": 1336,
    "start_time": "2023-07-23T16:01:27.704Z"
   },
   {
    "duration": 943876,
    "start_time": "2023-07-23T16:01:29.042Z"
   },
   {
    "duration": 1302304,
    "start_time": "2023-07-23T16:17:12.929Z"
   },
   {
    "duration": 3959719,
    "start_time": "2023-07-23T16:38:55.235Z"
   },
   {
    "duration": 10,
    "start_time": "2023-07-23T17:44:54.956Z"
   },
   {
    "duration": 80,
    "start_time": "2023-07-23T17:44:54.968Z"
   },
   {
    "duration": 267,
    "start_time": "2023-07-23T17:44:55.049Z"
   },
   {
    "duration": 12,
    "start_time": "2023-07-23T18:13:28.113Z"
   },
   {
    "duration": 14,
    "start_time": "2023-07-23T18:13:36.206Z"
   },
   {
    "duration": 13,
    "start_time": "2023-07-23T18:13:44.512Z"
   },
   {
    "duration": 260,
    "start_time": "2023-07-23T18:15:08.398Z"
   },
   {
    "duration": 52,
    "start_time": "2023-07-24T06:23:56.296Z"
   },
   {
    "duration": 1551,
    "start_time": "2023-07-24T06:24:16.945Z"
   },
   {
    "duration": 159,
    "start_time": "2023-07-24T06:24:18.497Z"
   },
   {
    "duration": 4,
    "start_time": "2023-07-24T06:24:18.658Z"
   },
   {
    "duration": 13,
    "start_time": "2023-07-24T06:24:18.664Z"
   },
   {
    "duration": 11,
    "start_time": "2023-07-24T06:24:18.678Z"
   },
   {
    "duration": 8,
    "start_time": "2023-07-24T06:24:18.690Z"
   },
   {
    "duration": 12,
    "start_time": "2023-07-24T06:24:18.699Z"
   },
   {
    "duration": 3,
    "start_time": "2023-07-24T06:24:18.712Z"
   },
   {
    "duration": 123,
    "start_time": "2023-07-24T06:24:18.717Z"
   },
   {
    "duration": 8,
    "start_time": "2023-07-24T06:24:18.843Z"
   },
   {
    "duration": 202,
    "start_time": "2023-07-24T06:24:18.852Z"
   },
   {
    "duration": 178,
    "start_time": "2023-07-24T06:24:19.056Z"
   },
   {
    "duration": 300,
    "start_time": "2023-07-24T06:40:42.590Z"
   },
   {
    "duration": 223,
    "start_time": "2023-07-24T06:41:50.146Z"
   },
   {
    "duration": 296,
    "start_time": "2023-07-24T06:42:15.888Z"
   },
   {
    "duration": 236,
    "start_time": "2023-07-24T06:42:23.544Z"
   },
   {
    "duration": 237,
    "start_time": "2023-07-24T06:42:49.377Z"
   },
   {
    "duration": 259,
    "start_time": "2023-07-24T06:46:11.714Z"
   },
   {
    "duration": 212,
    "start_time": "2023-07-24T06:49:37.270Z"
   },
   {
    "duration": 287,
    "start_time": "2023-07-24T06:55:37.321Z"
   },
   {
    "duration": 271,
    "start_time": "2023-07-24T06:59:04.590Z"
   },
   {
    "duration": 340,
    "start_time": "2023-07-24T06:59:46.526Z"
   },
   {
    "duration": 268,
    "start_time": "2023-07-24T07:21:40.219Z"
   },
   {
    "duration": 2,
    "start_time": "2023-07-24T07:33:38.346Z"
   },
   {
    "duration": 335,
    "start_time": "2023-07-24T07:33:45.974Z"
   },
   {
    "duration": 311,
    "start_time": "2023-07-24T07:38:08.219Z"
   },
   {
    "duration": 470,
    "start_time": "2023-07-24T07:39:35.300Z"
   },
   {
    "duration": 314,
    "start_time": "2023-07-24T07:41:04.654Z"
   },
   {
    "duration": 299,
    "start_time": "2023-07-24T07:41:23.133Z"
   },
   {
    "duration": 312,
    "start_time": "2023-07-24T07:41:33.827Z"
   },
   {
    "duration": 409,
    "start_time": "2023-07-24T07:48:07.079Z"
   },
   {
    "duration": 195,
    "start_time": "2023-07-24T08:00:44.314Z"
   },
   {
    "duration": 195,
    "start_time": "2023-07-24T08:02:14.269Z"
   },
   {
    "duration": 89,
    "start_time": "2023-07-24T08:03:21.793Z"
   },
   {
    "duration": 4,
    "start_time": "2023-07-24T08:03:33.238Z"
   },
   {
    "duration": 372,
    "start_time": "2023-07-24T08:03:33.270Z"
   },
   {
    "duration": 4,
    "start_time": "2023-07-24T08:03:33.644Z"
   },
   {
    "duration": 22,
    "start_time": "2023-07-24T08:03:33.649Z"
   },
   {
    "duration": 17,
    "start_time": "2023-07-24T08:03:33.673Z"
   },
   {
    "duration": 45,
    "start_time": "2023-07-24T08:03:33.692Z"
   },
   {
    "duration": 21,
    "start_time": "2023-07-24T08:03:33.738Z"
   },
   {
    "duration": 3,
    "start_time": "2023-07-24T08:03:33.761Z"
   },
   {
    "duration": 125,
    "start_time": "2023-07-24T08:03:33.766Z"
   },
   {
    "duration": 383,
    "start_time": "2023-07-24T08:03:33.892Z"
   },
   {
    "duration": 9,
    "start_time": "2023-07-24T08:03:34.277Z"
   },
   {
    "duration": 245,
    "start_time": "2023-07-24T08:03:34.300Z"
   },
   {
    "duration": 206,
    "start_time": "2023-07-24T08:03:34.547Z"
   },
   {
    "duration": 6,
    "start_time": "2023-07-24T08:03:34.755Z"
   },
   {
    "duration": 196,
    "start_time": "2023-07-24T08:03:34.762Z"
   }
  ],
  "kernelspec": {
   "display_name": "Python 3 (ipykernel)",
   "language": "python",
   "name": "python3"
  },
  "language_info": {
   "codemirror_mode": {
    "name": "ipython",
    "version": 3
   },
   "file_extension": ".py",
   "mimetype": "text/x-python",
   "name": "python",
   "nbconvert_exporter": "python",
   "pygments_lexer": "ipython3",
   "version": "3.9.13"
  },
  "toc": {
   "base_numbering": 1,
   "nav_menu": {},
   "number_sections": true,
   "sideBar": true,
   "skip_h1_title": true,
   "title_cell": "Содержание",
   "title_sidebar": "Contents",
   "toc_cell": false,
   "toc_position": {
    "height": "calc(100% - 180px)",
    "left": "10px",
    "top": "150px",
    "width": "165px"
   },
   "toc_section_display": true,
   "toc_window_display": true
  }
 },
 "nbformat": 4,
 "nbformat_minor": 2
}
