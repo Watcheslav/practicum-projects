{
 "cells": [
  {
   "cell_type": "markdown",
   "metadata": {},
   "source": [
    "# Отток клиентов"
   ]
  },
  {
   "cell_type": "markdown",
   "metadata": {},
   "source": [
    "<a name=\"1\"></a>\n",
    "## Содержание"
   ]
  },
  {
   "cell_type": "markdown",
   "metadata": {},
   "source": [
    "1  [Содержание](#1)\n",
    "\n",
    "2  [Описание проекта](#2)\n",
    "\n",
    "*    2.1  [Цель проекта](#21)\n",
    "*    2.2  [Задачи проекта](#22)\n",
    "*    2.3  [Описание данных](#23)\n",
    "*    2.4  [План работы](#24)\n",
    "\n",
    "3  [Подготовка данных](#3)\n",
    "\n",
    "*    3.1  [Изучение данных](#31)\n",
    "*    3.2  [Пропуски](#32)\n",
    "*    3.3  [Удаление признаков](#33)\n",
    "*    3.4  [Разделение данных на выборки](#34)\n",
    "*    3.5  [Кодирование категориальных признаков](#35)\n",
    "*    3.6  [Масштабирование численных признаков](#36)\n",
    "*    3.7  [Вывод](#37)\n",
    "\n",
    "4  [Исследование задачи без учёта дисбаланса](#4)\n",
    "\n",
    "*    4.1  [`DecisionTreeClassifier` при дисбалансе в таргете](#41)\n",
    "*    4.2  [`RandomForestClassifier` при дисбалансе в таргете](#42)\n",
    "*    4.3  [`RandomForestClassifier` + `GridSearchCV` при дисбалансе в таргете](#43)\n",
    "*    4.4  [`LogisticRegression` при дисбалансе в таргете](#44)\n",
    "*    4.5  [Сравнение моделей](#45)\n",
    "*    4.6  [Матрица ошибок при дисбалансе в таргете](#46)\n",
    "*    4.7  [Вывод](#47)\n",
    "\n",
    "5  [Исследование задачи с учётом дисбаланса](#5)\n",
    "\n",
    "*    5.1  [*Upsampling*](#51)\n",
    "*    5.2  [*Downsampling*](#52)\n",
    "*    5.3  [`DecisionTreeClassifier` при сбалансированном таргете](#53)\n",
    "*    5.4  [`RandomForestClassifier` при сбалансированном таргете](#54)\n",
    "*    5.5  [`LogisticRegression` при сбалансированном таргете](#55)\n",
    "*    5.6  [Сравнение моделей](#56)\n",
    "*    5.7  [Матрица ошибок при сбалансированном таргете](#57)\n",
    "*    5.8  [Вывод](#58)\n",
    "\n",
    "6  [Тестирование модели](#6)\n",
    "\n",
    "*    6.1  [Качество модели](#61)\n",
    "*    6.2  [Итоговое сравнение моделей](#62)\n",
    "*    6.3  [`DummyClassifier`](#63)\n",
    "*    6.4  [Матрица ошибок](#64)\n",
    "*    6.5  [*ROC*-кривая](#65)\n",
    "*    6.6  [Вывод](#66)\n",
    "\n",
    "7  [Общий вывод](#7)"
   ]
  },
  {
   "cell_type": "markdown",
   "metadata": {},
   "source": [
    "## Описание проекта\n",
    "<a name=\"2\"></a> <div style=\"text-align: left\">[Cодержание](#Содержание)</div>"
   ]
  },
  {
   "cell_type": "markdown",
   "metadata": {},
   "source": [
    "Из банка стали уходить клиенты. Каждый месяц. Немного, но заметно. Банковские маркетологи посчитали: сохранять текущих клиентов дешевле, чем привлекать новых.\n",
    "\n",
    "Нужно спрогнозировать, уйдёт клиент из банка в ближайшее время или нет. Вам предоставлены исторические данные о поведении клиентов и расторжении договоров с банком. \n",
    "\n",
    "Постройте модель с предельно большим значением *F1*-меры. Чтобы сдать проект успешно, нужно довести метрику до 0.59. Проверьте *F1*-меру на тестовой выборке самостоятельно.\n",
    "\n",
    "Дополнительно измеряйте *AUC-ROC*, сравнивайте её значение с *F1*-мерой.\n",
    "\n",
    "Источник данных: [https://www.kaggle.com/barelydedicated/bank-customer-churn-modeling](https://www.kaggle.com/barelydedicated/bank-customer-churn-modeling)"
   ]
  },
  {
   "cell_type": "markdown",
   "metadata": {},
   "source": [
    "### Цель проекта\n",
    "<a name=\"21\"></a> <div style=\"text-align: left\">[Cодержание](#Содержание)</div>"
   ]
  },
  {
   "cell_type": "markdown",
   "metadata": {},
   "source": [
    "Провести исследование с целью построения модели машинного обучения, которая поможет прогнозировать уход клиентов из банка в ближайшее время.\n",
    "\n",
    "Результаты исследования позволят маркетологам сохранить текущих клиентов, т.к. это дешевле, чем привлекать новых."
   ]
  },
  {
   "cell_type": "markdown",
   "metadata": {},
   "source": [
    "### Задачи проекта\n",
    "<a name=\"22\"></a> <div style=\"text-align: left\">[Cодержание](#Содержание)</div>"
   ]
  },
  {
   "cell_type": "markdown",
   "metadata": {},
   "source": [
    "1. Изучить данные.\n",
    "2. Подготовить данные.\n",
    "3. Исследовать баланс классов, обучить модель без учёта дисбаланса.\n",
    "4. Улучшить качество модели, учитывая дисбаланс классов. Обучить разные модели и найти лучшую.\n",
    "5. Протестировать лучшую модель.\n",
    "6. Написать общий вывод.\n",
    "\n",
    "Необходимо соблюсти условие - значение метрики *F1*-мера должно быть доведено до 0.59."
   ]
  },
  {
   "cell_type": "markdown",
   "metadata": {},
   "source": [
    "### Описание данных\n",
    "<a name=\"23\"></a> <div style=\"text-align: left\">[Cодержание](#Содержание)</div>"
   ]
  },
  {
   "cell_type": "markdown",
   "metadata": {},
   "source": [
    "Нам предоставлены исторические данные о поведении клиентов и расторжении договоров с банком.\n",
    "\n",
    "Данные находятся в файле `Churn.csv` (англ. «отток клиентов»).\n",
    "\n",
    "Источник данных: [https://www.kaggle.com/barelydedicated/bank-customer-churn-modeling](https://www.kaggle.com/barelydedicated/bank-customer-churn-modeling)."
   ]
  },
  {
   "cell_type": "markdown",
   "metadata": {},
   "source": [
    "### План работы\n",
    "<a name=\"24\"></a> <div style=\"text-align: left\">[Cодержание](#Содержание)</div>"
   ]
  },
  {
   "cell_type": "markdown",
   "metadata": {},
   "source": [
    "1. Подготовка данных:\n",
    "\n",
    "    - Изучение данных\n",
    "    - Пропуски\n",
    "    - Удаление признаков\n",
    "    - Разделение данных на выборки\n",
    "    - Кодирование категориальных признаков\n",
    "    - Масштабирование численных признаков\n",
    "\n",
    "\n",
    "2. Исследование задачи без учёта дисбаланса:\n",
    "\n",
    "    - `DecisionTreeClassifier` при дисбалансе в таргете\n",
    "    - `RandomForestClassifier` при дисбалансе в таргете\n",
    "    - `RandomForestClassifier` + `GridSearchCV` при дисбалансе в таргете\n",
    "    - `LogisticRegression` при дисбалансе в таргете\n",
    "    - Сравнение моделей\n",
    "    - Матрица ошибок при дисбалансе в таргете\n",
    "\n",
    "\n",
    "3. Исследование задачи с учётом дисбаланса:\n",
    "\n",
    "    - *Upsampling*\n",
    "    - *Downsampling*\n",
    "    - `DecisionTreeClassifier` при сбалансированном таргете\n",
    "    - `RandomForestClassifier` при сбалансированном таргете\n",
    "    - `LogisticRegression` при сбалансированном таргете\n",
    "    - Сравнение моделей\n",
    "    - Матрица ошибок при сбалансированном таргете\n",
    "\n",
    "\n",
    "4. Тестирование лучшей модели:\n",
    "\n",
    "    - Качество модели\n",
    "    - Итоговое сравнение моделей\n",
    "    - `DummyClassifier`\n",
    "    - Матрица ошибок\n",
    "    - *ROC*-кривая\n",
    "\n",
    "\n",
    "5. Общий вывод."
   ]
  },
  {
   "cell_type": "markdown",
   "metadata": {},
   "source": [
    "## Подготовка данных\n",
    "<a name=\"3\"></a> <div style=\"text-align: left\">[Cодержание](#Содержание)</div>"
   ]
  },
  {
   "cell_type": "code",
   "execution_count": 2,
   "metadata": {},
   "outputs": [],
   "source": [
    "# импортируем необходимые библиотеки\n",
    "import pandas as pd\n",
    "import numpy as np\n",
    "import seaborn as sns\n",
    "import matplotlib.pyplot as plt\n",
    "\n",
    "import time\n",
    "import warnings\n",
    "warnings.simplefilter(action='ignore', category=FutureWarning)\n",
    "from random import randint\n",
    "from tqdm import tqdm\n",
    "\n",
    "from sklearn.dummy import DummyClassifier\n",
    "from sklearn.ensemble import RandomForestClassifier\n",
    "from sklearn.linear_model import LogisticRegression\n",
    "from sklearn.metrics import confusion_matrix, f1_score, roc_auc_score, roc_curve\n",
    "from sklearn.model_selection import GridSearchCV, train_test_split\n",
    "from sklearn.preprocessing import OneHotEncoder, StandardScaler\n",
    "from sklearn.tree import DecisionTreeClassifier\n",
    "from sklearn.utils import shuffle\n",
    "\n",
    "RANDOM_STATE = 12345"
   ]
  },
  {
   "cell_type": "markdown",
   "metadata": {},
   "source": [
    "### Изучение данных\n",
    "<a name=\"31\"></a> <div style=\"text-align: left\">[Cодержание](#Содержание)</div>"
   ]
  },
  {
   "cell_type": "code",
   "execution_count": 3,
   "metadata": {},
   "outputs": [],
   "source": [
    "try:\n",
    "    data = pd.read_csv('/datasets/Churn.csv')\n",
    "except:\n",
    "    data = pd.read_csv('/Churn.csv')"
   ]
  },
  {
   "cell_type": "markdown",
   "metadata": {},
   "source": [
    "Выведем размеры датасета:"
   ]
  },
  {
   "cell_type": "code",
   "execution_count": 4,
   "metadata": {},
   "outputs": [
    {
     "data": {
      "text/plain": [
       "(10000, 14)"
      ]
     },
     "execution_count": 4,
     "metadata": {},
     "output_type": "execute_result"
    }
   ],
   "source": [
    "data.shape"
   ]
  },
  {
   "cell_type": "code",
   "execution_count": 5,
   "metadata": {},
   "outputs": [
    {
     "data": {
      "text/html": [
       "<div>\n",
       "<style scoped>\n",
       "    .dataframe tbody tr th:only-of-type {\n",
       "        vertical-align: middle;\n",
       "    }\n",
       "\n",
       "    .dataframe tbody tr th {\n",
       "        vertical-align: top;\n",
       "    }\n",
       "\n",
       "    .dataframe thead th {\n",
       "        text-align: right;\n",
       "    }\n",
       "</style>\n",
       "<table border=\"1\" class=\"dataframe\">\n",
       "  <thead>\n",
       "    <tr style=\"text-align: right;\">\n",
       "      <th></th>\n",
       "      <th>RowNumber</th>\n",
       "      <th>CustomerId</th>\n",
       "      <th>Surname</th>\n",
       "      <th>CreditScore</th>\n",
       "      <th>Geography</th>\n",
       "      <th>Gender</th>\n",
       "      <th>Age</th>\n",
       "      <th>Tenure</th>\n",
       "      <th>Balance</th>\n",
       "      <th>NumOfProducts</th>\n",
       "      <th>HasCrCard</th>\n",
       "      <th>IsActiveMember</th>\n",
       "      <th>EstimatedSalary</th>\n",
       "      <th>Exited</th>\n",
       "    </tr>\n",
       "  </thead>\n",
       "  <tbody>\n",
       "    <tr>\n",
       "      <th>0</th>\n",
       "      <td>1</td>\n",
       "      <td>15634602</td>\n",
       "      <td>Hargrave</td>\n",
       "      <td>619</td>\n",
       "      <td>France</td>\n",
       "      <td>Female</td>\n",
       "      <td>42</td>\n",
       "      <td>2.0</td>\n",
       "      <td>0.00</td>\n",
       "      <td>1</td>\n",
       "      <td>1</td>\n",
       "      <td>1</td>\n",
       "      <td>101348.88</td>\n",
       "      <td>1</td>\n",
       "    </tr>\n",
       "    <tr>\n",
       "      <th>1</th>\n",
       "      <td>2</td>\n",
       "      <td>15647311</td>\n",
       "      <td>Hill</td>\n",
       "      <td>608</td>\n",
       "      <td>Spain</td>\n",
       "      <td>Female</td>\n",
       "      <td>41</td>\n",
       "      <td>1.0</td>\n",
       "      <td>83807.86</td>\n",
       "      <td>1</td>\n",
       "      <td>0</td>\n",
       "      <td>1</td>\n",
       "      <td>112542.58</td>\n",
       "      <td>0</td>\n",
       "    </tr>\n",
       "    <tr>\n",
       "      <th>2</th>\n",
       "      <td>3</td>\n",
       "      <td>15619304</td>\n",
       "      <td>Onio</td>\n",
       "      <td>502</td>\n",
       "      <td>France</td>\n",
       "      <td>Female</td>\n",
       "      <td>42</td>\n",
       "      <td>8.0</td>\n",
       "      <td>159660.80</td>\n",
       "      <td>3</td>\n",
       "      <td>1</td>\n",
       "      <td>0</td>\n",
       "      <td>113931.57</td>\n",
       "      <td>1</td>\n",
       "    </tr>\n",
       "    <tr>\n",
       "      <th>3</th>\n",
       "      <td>4</td>\n",
       "      <td>15701354</td>\n",
       "      <td>Boni</td>\n",
       "      <td>699</td>\n",
       "      <td>France</td>\n",
       "      <td>Female</td>\n",
       "      <td>39</td>\n",
       "      <td>1.0</td>\n",
       "      <td>0.00</td>\n",
       "      <td>2</td>\n",
       "      <td>0</td>\n",
       "      <td>0</td>\n",
       "      <td>93826.63</td>\n",
       "      <td>0</td>\n",
       "    </tr>\n",
       "    <tr>\n",
       "      <th>4</th>\n",
       "      <td>5</td>\n",
       "      <td>15737888</td>\n",
       "      <td>Mitchell</td>\n",
       "      <td>850</td>\n",
       "      <td>Spain</td>\n",
       "      <td>Female</td>\n",
       "      <td>43</td>\n",
       "      <td>2.0</td>\n",
       "      <td>125510.82</td>\n",
       "      <td>1</td>\n",
       "      <td>1</td>\n",
       "      <td>1</td>\n",
       "      <td>79084.10</td>\n",
       "      <td>0</td>\n",
       "    </tr>\n",
       "    <tr>\n",
       "      <th>5</th>\n",
       "      <td>6</td>\n",
       "      <td>15574012</td>\n",
       "      <td>Chu</td>\n",
       "      <td>645</td>\n",
       "      <td>Spain</td>\n",
       "      <td>Male</td>\n",
       "      <td>44</td>\n",
       "      <td>8.0</td>\n",
       "      <td>113755.78</td>\n",
       "      <td>2</td>\n",
       "      <td>1</td>\n",
       "      <td>0</td>\n",
       "      <td>149756.71</td>\n",
       "      <td>1</td>\n",
       "    </tr>\n",
       "    <tr>\n",
       "      <th>6</th>\n",
       "      <td>7</td>\n",
       "      <td>15592531</td>\n",
       "      <td>Bartlett</td>\n",
       "      <td>822</td>\n",
       "      <td>France</td>\n",
       "      <td>Male</td>\n",
       "      <td>50</td>\n",
       "      <td>7.0</td>\n",
       "      <td>0.00</td>\n",
       "      <td>2</td>\n",
       "      <td>1</td>\n",
       "      <td>1</td>\n",
       "      <td>10062.80</td>\n",
       "      <td>0</td>\n",
       "    </tr>\n",
       "    <tr>\n",
       "      <th>7</th>\n",
       "      <td>8</td>\n",
       "      <td>15656148</td>\n",
       "      <td>Obinna</td>\n",
       "      <td>376</td>\n",
       "      <td>Germany</td>\n",
       "      <td>Female</td>\n",
       "      <td>29</td>\n",
       "      <td>4.0</td>\n",
       "      <td>115046.74</td>\n",
       "      <td>4</td>\n",
       "      <td>1</td>\n",
       "      <td>0</td>\n",
       "      <td>119346.88</td>\n",
       "      <td>1</td>\n",
       "    </tr>\n",
       "    <tr>\n",
       "      <th>8</th>\n",
       "      <td>9</td>\n",
       "      <td>15792365</td>\n",
       "      <td>He</td>\n",
       "      <td>501</td>\n",
       "      <td>France</td>\n",
       "      <td>Male</td>\n",
       "      <td>44</td>\n",
       "      <td>4.0</td>\n",
       "      <td>142051.07</td>\n",
       "      <td>2</td>\n",
       "      <td>0</td>\n",
       "      <td>1</td>\n",
       "      <td>74940.50</td>\n",
       "      <td>0</td>\n",
       "    </tr>\n",
       "    <tr>\n",
       "      <th>9</th>\n",
       "      <td>10</td>\n",
       "      <td>15592389</td>\n",
       "      <td>H?</td>\n",
       "      <td>684</td>\n",
       "      <td>France</td>\n",
       "      <td>Male</td>\n",
       "      <td>27</td>\n",
       "      <td>2.0</td>\n",
       "      <td>134603.88</td>\n",
       "      <td>1</td>\n",
       "      <td>1</td>\n",
       "      <td>1</td>\n",
       "      <td>71725.73</td>\n",
       "      <td>0</td>\n",
       "    </tr>\n",
       "  </tbody>\n",
       "</table>\n",
       "</div>"
      ],
      "text/plain": [
       "   RowNumber  CustomerId   Surname  CreditScore Geography  Gender  Age  \\\n",
       "0          1    15634602  Hargrave          619    France  Female   42   \n",
       "1          2    15647311      Hill          608     Spain  Female   41   \n",
       "2          3    15619304      Onio          502    France  Female   42   \n",
       "3          4    15701354      Boni          699    France  Female   39   \n",
       "4          5    15737888  Mitchell          850     Spain  Female   43   \n",
       "5          6    15574012       Chu          645     Spain    Male   44   \n",
       "6          7    15592531  Bartlett          822    France    Male   50   \n",
       "7          8    15656148    Obinna          376   Germany  Female   29   \n",
       "8          9    15792365        He          501    France    Male   44   \n",
       "9         10    15592389        H?          684    France    Male   27   \n",
       "\n",
       "   Tenure    Balance  NumOfProducts  HasCrCard  IsActiveMember  \\\n",
       "0     2.0       0.00              1          1               1   \n",
       "1     1.0   83807.86              1          0               1   \n",
       "2     8.0  159660.80              3          1               0   \n",
       "3     1.0       0.00              2          0               0   \n",
       "4     2.0  125510.82              1          1               1   \n",
       "5     8.0  113755.78              2          1               0   \n",
       "6     7.0       0.00              2          1               1   \n",
       "7     4.0  115046.74              4          1               0   \n",
       "8     4.0  142051.07              2          0               1   \n",
       "9     2.0  134603.88              1          1               1   \n",
       "\n",
       "   EstimatedSalary  Exited  \n",
       "0        101348.88       1  \n",
       "1        112542.58       0  \n",
       "2        113931.57       1  \n",
       "3         93826.63       0  \n",
       "4         79084.10       0  \n",
       "5        149756.71       1  \n",
       "6         10062.80       0  \n",
       "7        119346.88       1  \n",
       "8         74940.50       0  \n",
       "9         71725.73       0  "
      ]
     },
     "execution_count": 5,
     "metadata": {},
     "output_type": "execute_result"
    }
   ],
   "source": [
    "data.head(10)"
   ]
  },
  {
   "cell_type": "markdown",
   "metadata": {},
   "source": [
    "Выведем общую информацию о датасете:"
   ]
  },
  {
   "cell_type": "code",
   "execution_count": 6,
   "metadata": {},
   "outputs": [
    {
     "name": "stdout",
     "output_type": "stream",
     "text": [
      "<class 'pandas.core.frame.DataFrame'>\n",
      "RangeIndex: 10000 entries, 0 to 9999\n",
      "Data columns (total 14 columns):\n",
      " #   Column           Non-Null Count  Dtype  \n",
      "---  ------           --------------  -----  \n",
      " 0   RowNumber        10000 non-null  int64  \n",
      " 1   CustomerId       10000 non-null  int64  \n",
      " 2   Surname          10000 non-null  object \n",
      " 3   CreditScore      10000 non-null  int64  \n",
      " 4   Geography        10000 non-null  object \n",
      " 5   Gender           10000 non-null  object \n",
      " 6   Age              10000 non-null  int64  \n",
      " 7   Tenure           9091 non-null   float64\n",
      " 8   Balance          10000 non-null  float64\n",
      " 9   NumOfProducts    10000 non-null  int64  \n",
      " 10  HasCrCard        10000 non-null  int64  \n",
      " 11  IsActiveMember   10000 non-null  int64  \n",
      " 12  EstimatedSalary  10000 non-null  float64\n",
      " 13  Exited           10000 non-null  int64  \n",
      "dtypes: float64(3), int64(8), object(3)\n",
      "memory usage: 1.1+ MB\n"
     ]
    }
   ],
   "source": [
    "data.info()"
   ]
  },
  {
   "cell_type": "markdown",
   "metadata": {},
   "source": [
    "Пропуски присутствуют только в признаке `Tenure`.\n",
    "\n",
    "Проверим явные дубликаты в датафрейме."
   ]
  },
  {
   "cell_type": "code",
   "execution_count": 7,
   "metadata": {},
   "outputs": [
    {
     "data": {
      "text/plain": [
       "0"
      ]
     },
     "execution_count": 7,
     "metadata": {},
     "output_type": "execute_result"
    }
   ],
   "source": [
    "data.duplicated().sum()"
   ]
  },
  {
   "cell_type": "markdown",
   "metadata": {},
   "source": [
    "Выведем числовое описание данных в признаке `Tenure`, применив метод `.describe()`."
   ]
  },
  {
   "cell_type": "code",
   "execution_count": 8,
   "metadata": {},
   "outputs": [
    {
     "data": {
      "text/plain": [
       "count    9091.000000\n",
       "mean        4.997690\n",
       "std         2.894723\n",
       "min         0.000000\n",
       "25%         2.000000\n",
       "50%         5.000000\n",
       "75%         7.000000\n",
       "max        10.000000\n",
       "Name: Tenure, dtype: float64"
      ]
     },
     "execution_count": 8,
     "metadata": {},
     "output_type": "execute_result"
    }
   ],
   "source": [
    "data['Tenure'].describe()"
   ]
  },
  {
   "cell_type": "markdown",
   "metadata": {},
   "source": [
    "Здесь мы видим, что значения среднего и медианы в признаке `Tenure` практически не отличаются друг от друга:\n",
    "```\n",
    "mean = 4.997690\n",
    "50% = 5.000000\n",
    "```"
   ]
  },
  {
   "cell_type": "markdown",
   "metadata": {},
   "source": [
    "Проверим датасет на дисбаланс в целевом признаке `Exited`:"
   ]
  },
  {
   "cell_type": "code",
   "execution_count": 9,
   "metadata": {},
   "outputs": [
    {
     "data": {
      "text/plain": [
       "0    7963\n",
       "1    2037\n",
       "Name: Exited, dtype: int64"
      ]
     },
     "execution_count": 9,
     "metadata": {},
     "output_type": "execute_result"
    }
   ],
   "source": [
    "data['Exited'].value_counts()"
   ]
  },
  {
   "cell_type": "markdown",
   "metadata": {},
   "source": [
    "Присутствует дисбаланс классов."
   ]
  },
  {
   "cell_type": "markdown",
   "metadata": {},
   "source": [
    "### Пропуски\n",
    "<a name=\"32\"></a> <div style=\"text-align: left\">[Cодержание](#Содержание)</div>"
   ]
  },
  {
   "cell_type": "markdown",
   "metadata": {},
   "source": [
    "Выведем количество пропусков в признаке `Tenure`:"
   ]
  },
  {
   "cell_type": "code",
   "execution_count": 10,
   "metadata": {},
   "outputs": [
    {
     "data": {
      "text/plain": [
       "909"
      ]
     },
     "execution_count": 10,
     "metadata": {},
     "output_type": "execute_result"
    }
   ],
   "source": [
    "data['Tenure'].isna().sum()"
   ]
  },
  {
   "cell_type": "markdown",
   "metadata": {},
   "source": [
    "Выведем количество каждого из значений признака `Tenure` и его размер до обработки пропусков:"
   ]
  },
  {
   "cell_type": "code",
   "execution_count": 11,
   "metadata": {},
   "outputs": [
    {
     "name": "stdout",
     "output_type": "stream",
     "text": [
      "1.0     952\n",
      "2.0     950\n",
      "8.0     933\n",
      "3.0     928\n",
      "5.0     927\n",
      "7.0     925\n",
      "4.0     885\n",
      "9.0     882\n",
      "6.0     881\n",
      "10.0    446\n",
      "0.0     382\n",
      "Name: Tenure, dtype: int64\n",
      "Размер признака 'Tenure': 9091\n"
     ]
    }
   ],
   "source": [
    "print(data['Tenure'].value_counts().sort_values(ascending=False))\n",
    "print(\"Размер признака 'Tenure':\", data['Tenure'].value_counts().sum())"
   ]
  },
  {
   "cell_type": "markdown",
   "metadata": {},
   "source": [
    "В признаке `Tenure`, примерно, равномерное распределение количества значений.\n",
    "\n",
    "Попробуем применить и затем оценить несколько способов обработки пропусков в признаке `Tenure`:\n",
    "1. Заменим пропуски на среднее значение.\n",
    "2. Заменим пропуски на медиану.\n",
    "3. Удалим пропуски.\n",
    "4. Заполним пропуски случайными числами.\n",
    "5. Сделаем `Tenure` категориальным признаком.\n",
    "6. Заменим пропуски на \"0\".\n",
    "\n",
    "Затем выберем наиболее подходящий нам способ."
   ]
  },
  {
   "cell_type": "markdown",
   "metadata": {},
   "source": [
    "**1. Замена на среднее значение.**"
   ]
  },
  {
   "cell_type": "markdown",
   "metadata": {},
   "source": [
    "Выполним заполнение пропусков в признаке `Tenure` средним значением и выведем количество каждого из его значений, а также его размер. \n",
    "\n",
    "Запишем результат в отдельную переменную `tenure_mean`."
   ]
  },
  {
   "cell_type": "code",
   "execution_count": 12,
   "metadata": {},
   "outputs": [
    {
     "name": "stdout",
     "output_type": "stream",
     "text": [
      "1.00000     952\n",
      "2.00000     950\n",
      "8.00000     933\n",
      "3.00000     928\n",
      "5.00000     927\n",
      "7.00000     925\n",
      "4.99769     909\n",
      "4.00000     885\n",
      "9.00000     882\n",
      "6.00000     881\n",
      "10.00000    446\n",
      "0.00000     382\n",
      "Name: Tenure, dtype: int64\n",
      "Размер признака 'Tenure': 10000\n"
     ]
    }
   ],
   "source": [
    "tenure_mean = data['Tenure'].fillna(data['Tenure'].mean())\n",
    "\n",
    "print(tenure_mean.value_counts().sort_values(ascending=False))\n",
    "print(\"Размер признака 'Tenure':\", tenure_mean.value_counts().sum())"
   ]
  },
  {
   "cell_type": "markdown",
   "metadata": {},
   "source": [
    "Количество значений \"5\" в признаке `Tenure` увеличилось почти в 2 раза засчёт значения \"4.99769\". Поэтому заменять пропуски на среднее значение будет некорректно."
   ]
  },
  {
   "cell_type": "markdown",
   "metadata": {},
   "source": [
    "**2. Замена на медиану.**"
   ]
  },
  {
   "cell_type": "markdown",
   "metadata": {},
   "source": [
    "Выполним заполнение пропусков в признаке `Tenure` медианой и выведем количество каждого из его значений и его размер. \n",
    "\n",
    "Запишем результат в отдельную переменную `tenure_median`."
   ]
  },
  {
   "cell_type": "code",
   "execution_count": 13,
   "metadata": {},
   "outputs": [
    {
     "name": "stdout",
     "output_type": "stream",
     "text": [
      "5.0     1836\n",
      "1.0      952\n",
      "2.0      950\n",
      "8.0      933\n",
      "3.0      928\n",
      "7.0      925\n",
      "4.0      885\n",
      "9.0      882\n",
      "6.0      881\n",
      "10.0     446\n",
      "0.0      382\n",
      "Name: Tenure, dtype: int64\n",
      "Размер признака 'Tenure': 10000\n"
     ]
    }
   ],
   "source": [
    "tenure_median = data['Tenure'].fillna(data['Tenure'].median())\n",
    "\n",
    "print(tenure_median.value_counts().sort_values(ascending=False))\n",
    "print(\"Размер признака 'Tenure':\", tenure_median.value_counts().sum())"
   ]
  },
  {
   "cell_type": "markdown",
   "metadata": {},
   "source": [
    "Количество значений \"5\" в признаке `Tenure` увеличилось почти в 2 раза. Поэтому заменять пропуски на медиану также некорректно."
   ]
  },
  {
   "cell_type": "markdown",
   "metadata": {},
   "source": [
    "**3. Удаление пропусков.**"
   ]
  },
  {
   "cell_type": "markdown",
   "metadata": {},
   "source": [
    "Удаление пропусков в признаке `Tenure` будет также не совсем корректно, т.к. пропуски составляют почти 10% от всего обьёма данных."
   ]
  },
  {
   "cell_type": "markdown",
   "metadata": {},
   "source": [
    "**4. Замена на случайные числа.**"
   ]
  },
  {
   "cell_type": "markdown",
   "metadata": {},
   "source": [
    "Выполним заполнение пропусков в признаке `Tenure` случайными числами и выведем количество каждого из его значений и его размер. Функция `randint()` генерирует целые случайные числа от 0 до 10.  \n",
    "\n",
    "Запишем результат в отдельную переменную `tenure_rand`."
   ]
  },
  {
   "cell_type": "code",
   "execution_count": 14,
   "metadata": {},
   "outputs": [
    {
     "name": "stdout",
     "output_type": "stream",
     "text": [
      "1.0     1046\n",
      "2.0     1028\n",
      "8.0     1024\n",
      "3.0     1013\n",
      "5.0     1010\n",
      "7.0      999\n",
      "4.0      976\n",
      "6.0      960\n",
      "9.0      959\n",
      "10.0     528\n",
      "0.0      457\n",
      "Name: Tenure, dtype: int64\n",
      "Размер признака 'Tenure': 10000\n"
     ]
    }
   ],
   "source": [
    "tenure_rand = data['Tenure'].fillna(pd.Series(np.random.randint(0, 11, size=len(data)), index=data.index))\n",
    "\n",
    "print(tenure_rand.value_counts().sort_values(ascending=False))\n",
    "print(\"Размер признака 'Tenure':\", tenure_rand.value_counts().sum())"
   ]
  },
  {
   "cell_type": "markdown",
   "metadata": {},
   "source": [
    "Если мы будем заполнять пропуски случайными числами, то значения гиперпараметров, а значит, и метрик моделей будут меняться при каждом запуске кода проекта вслед за изменением распределения классов внутри признака `Tenure`. Это значит, что не при каждом запуске кода может выполняться условие задачи: значение *F1*-меры > 0.59.\n",
    "\n",
    "Тем не менее, распределение количества значений в признаке `Tenure` сохраняет равномерность. Поэтому, имеет место быть вариант заполнения пропусков случайными числами."
   ]
  },
  {
   "cell_type": "markdown",
   "metadata": {},
   "source": [
    "**5. Преобразование в категориальный признак.**"
   ]
  },
  {
   "cell_type": "markdown",
   "metadata": {},
   "source": [
    "Так как значений в признаке `Tenure` ограниченное количество, можно было бы сделать его категориальным признаком. Пропуски можно было бы указать как отдельную категорию (заполнить значением \"-1\"). После этого, заменить тип данных признака `Tenure` на `object` и применить технику прямого кодирования *OHE*. Но тем не менее, категоризировать числовой показатель некорректно."
   ]
  },
  {
   "cell_type": "markdown",
   "metadata": {},
   "source": [
    "**6. Замена на \"0\".**"
   ]
  },
  {
   "cell_type": "markdown",
   "metadata": {},
   "source": [
    "Выполним заполнение пропусков в признаке `Tenure` на значение \"0\", подразумевая, что это новые клиенты, и выведем количество каждого из его значений и его размер. \n",
    "\n",
    "Запишем результат в отдельную переменную `tenure_zero`."
   ]
  },
  {
   "cell_type": "code",
   "execution_count": 15,
   "metadata": {},
   "outputs": [
    {
     "name": "stdout",
     "output_type": "stream",
     "text": [
      "0.0     1291\n",
      "1.0      952\n",
      "2.0      950\n",
      "8.0      933\n",
      "3.0      928\n",
      "5.0      927\n",
      "7.0      925\n",
      "4.0      885\n",
      "9.0      882\n",
      "6.0      881\n",
      "10.0     446\n",
      "Name: Tenure, dtype: int64\n",
      "Размер признака 'Tenure': 10000\n"
     ]
    }
   ],
   "source": [
    "tenure_zero = data['Tenure'].fillna(0)\n",
    "\n",
    "print(tenure_zero.value_counts().sort_values(ascending=False))\n",
    "print(\"Размер признака 'Tenure':\", tenure_zero.value_counts().sum())"
   ]
  },
  {
   "cell_type": "markdown",
   "metadata": {},
   "source": [
    "Количество значений \"0\" в признаке `Tenure` резко возрасло. Поэтому заменять пропуски на \"0\" было бы некорректно."
   ]
  },
  {
   "cell_type": "markdown",
   "metadata": {},
   "source": [
    "**Итог.**"
   ]
  },
  {
   "cell_type": "markdown",
   "metadata": {},
   "source": [
    "В нашем случае, самым оптимальным методом будет замена на случайные числа.\n",
    "\n",
    "Заменим пропуски в признаке `Tenure` на случайные числа."
   ]
  },
  {
   "cell_type": "code",
   "execution_count": 16,
   "metadata": {},
   "outputs": [
    {
     "name": "stdout",
     "output_type": "stream",
     "text": [
      "<class 'pandas.core.frame.DataFrame'>\n",
      "RangeIndex: 10000 entries, 0 to 9999\n",
      "Data columns (total 14 columns):\n",
      " #   Column           Non-Null Count  Dtype  \n",
      "---  ------           --------------  -----  \n",
      " 0   RowNumber        10000 non-null  int64  \n",
      " 1   CustomerId       10000 non-null  int64  \n",
      " 2   Surname          10000 non-null  object \n",
      " 3   CreditScore      10000 non-null  int64  \n",
      " 4   Geography        10000 non-null  object \n",
      " 5   Gender           10000 non-null  object \n",
      " 6   Age              10000 non-null  int64  \n",
      " 7   Tenure           10000 non-null  float64\n",
      " 8   Balance          10000 non-null  float64\n",
      " 9   NumOfProducts    10000 non-null  int64  \n",
      " 10  HasCrCard        10000 non-null  int64  \n",
      " 11  IsActiveMember   10000 non-null  int64  \n",
      " 12  EstimatedSalary  10000 non-null  float64\n",
      " 13  Exited           10000 non-null  int64  \n",
      "dtypes: float64(3), int64(8), object(3)\n",
      "memory usage: 1.1+ MB\n"
     ]
    }
   ],
   "source": [
    "data['Tenure'] = data['Tenure'].fillna(pd.Series(np.random.randint(0, 11, size=len(data)), index=data.index))\n",
    "data.info()"
   ]
  },
  {
   "cell_type": "markdown",
   "metadata": {},
   "source": [
    "### Удаление признаков\n",
    "<a name=\"33\"></a> <div style=\"text-align: left\">[Cодержание](#Содержание)</div>"
   ]
  },
  {
   "cell_type": "code",
   "execution_count": 17,
   "metadata": {},
   "outputs": [
    {
     "data": {
      "text/plain": [
       "(10000, 14)"
      ]
     },
     "execution_count": 17,
     "metadata": {},
     "output_type": "execute_result"
    }
   ],
   "source": [
    "data.shape"
   ]
  },
  {
   "cell_type": "markdown",
   "metadata": {},
   "source": [
    "Удалим из датасета те признаки, данные которых не влияют на целевой признак `Exited` (факт ухода клиента):\n",
    "- `RowNumber` — индекс строки в данных,\n",
    "- `Surname` — фамилия.\n",
    "\n",
    "Выведем оптимизированный датасет."
   ]
  },
  {
   "cell_type": "code",
   "execution_count": 18,
   "metadata": {},
   "outputs": [
    {
     "data": {
      "text/html": [
       "<div>\n",
       "<style scoped>\n",
       "    .dataframe tbody tr th:only-of-type {\n",
       "        vertical-align: middle;\n",
       "    }\n",
       "\n",
       "    .dataframe tbody tr th {\n",
       "        vertical-align: top;\n",
       "    }\n",
       "\n",
       "    .dataframe thead th {\n",
       "        text-align: right;\n",
       "    }\n",
       "</style>\n",
       "<table border=\"1\" class=\"dataframe\">\n",
       "  <thead>\n",
       "    <tr style=\"text-align: right;\">\n",
       "      <th></th>\n",
       "      <th>CustomerId</th>\n",
       "      <th>CreditScore</th>\n",
       "      <th>Geography</th>\n",
       "      <th>Gender</th>\n",
       "      <th>Age</th>\n",
       "      <th>Tenure</th>\n",
       "      <th>Balance</th>\n",
       "      <th>NumOfProducts</th>\n",
       "      <th>HasCrCard</th>\n",
       "      <th>IsActiveMember</th>\n",
       "      <th>EstimatedSalary</th>\n",
       "      <th>Exited</th>\n",
       "    </tr>\n",
       "  </thead>\n",
       "  <tbody>\n",
       "    <tr>\n",
       "      <th>0</th>\n",
       "      <td>15634602</td>\n",
       "      <td>619</td>\n",
       "      <td>France</td>\n",
       "      <td>Female</td>\n",
       "      <td>42</td>\n",
       "      <td>2.0</td>\n",
       "      <td>0.00</td>\n",
       "      <td>1</td>\n",
       "      <td>1</td>\n",
       "      <td>1</td>\n",
       "      <td>101348.88</td>\n",
       "      <td>1</td>\n",
       "    </tr>\n",
       "    <tr>\n",
       "      <th>1</th>\n",
       "      <td>15647311</td>\n",
       "      <td>608</td>\n",
       "      <td>Spain</td>\n",
       "      <td>Female</td>\n",
       "      <td>41</td>\n",
       "      <td>1.0</td>\n",
       "      <td>83807.86</td>\n",
       "      <td>1</td>\n",
       "      <td>0</td>\n",
       "      <td>1</td>\n",
       "      <td>112542.58</td>\n",
       "      <td>0</td>\n",
       "    </tr>\n",
       "    <tr>\n",
       "      <th>2</th>\n",
       "      <td>15619304</td>\n",
       "      <td>502</td>\n",
       "      <td>France</td>\n",
       "      <td>Female</td>\n",
       "      <td>42</td>\n",
       "      <td>8.0</td>\n",
       "      <td>159660.80</td>\n",
       "      <td>3</td>\n",
       "      <td>1</td>\n",
       "      <td>0</td>\n",
       "      <td>113931.57</td>\n",
       "      <td>1</td>\n",
       "    </tr>\n",
       "    <tr>\n",
       "      <th>3</th>\n",
       "      <td>15701354</td>\n",
       "      <td>699</td>\n",
       "      <td>France</td>\n",
       "      <td>Female</td>\n",
       "      <td>39</td>\n",
       "      <td>1.0</td>\n",
       "      <td>0.00</td>\n",
       "      <td>2</td>\n",
       "      <td>0</td>\n",
       "      <td>0</td>\n",
       "      <td>93826.63</td>\n",
       "      <td>0</td>\n",
       "    </tr>\n",
       "    <tr>\n",
       "      <th>4</th>\n",
       "      <td>15737888</td>\n",
       "      <td>850</td>\n",
       "      <td>Spain</td>\n",
       "      <td>Female</td>\n",
       "      <td>43</td>\n",
       "      <td>2.0</td>\n",
       "      <td>125510.82</td>\n",
       "      <td>1</td>\n",
       "      <td>1</td>\n",
       "      <td>1</td>\n",
       "      <td>79084.10</td>\n",
       "      <td>0</td>\n",
       "    </tr>\n",
       "    <tr>\n",
       "      <th>5</th>\n",
       "      <td>15574012</td>\n",
       "      <td>645</td>\n",
       "      <td>Spain</td>\n",
       "      <td>Male</td>\n",
       "      <td>44</td>\n",
       "      <td>8.0</td>\n",
       "      <td>113755.78</td>\n",
       "      <td>2</td>\n",
       "      <td>1</td>\n",
       "      <td>0</td>\n",
       "      <td>149756.71</td>\n",
       "      <td>1</td>\n",
       "    </tr>\n",
       "    <tr>\n",
       "      <th>6</th>\n",
       "      <td>15592531</td>\n",
       "      <td>822</td>\n",
       "      <td>France</td>\n",
       "      <td>Male</td>\n",
       "      <td>50</td>\n",
       "      <td>7.0</td>\n",
       "      <td>0.00</td>\n",
       "      <td>2</td>\n",
       "      <td>1</td>\n",
       "      <td>1</td>\n",
       "      <td>10062.80</td>\n",
       "      <td>0</td>\n",
       "    </tr>\n",
       "    <tr>\n",
       "      <th>7</th>\n",
       "      <td>15656148</td>\n",
       "      <td>376</td>\n",
       "      <td>Germany</td>\n",
       "      <td>Female</td>\n",
       "      <td>29</td>\n",
       "      <td>4.0</td>\n",
       "      <td>115046.74</td>\n",
       "      <td>4</td>\n",
       "      <td>1</td>\n",
       "      <td>0</td>\n",
       "      <td>119346.88</td>\n",
       "      <td>1</td>\n",
       "    </tr>\n",
       "    <tr>\n",
       "      <th>8</th>\n",
       "      <td>15792365</td>\n",
       "      <td>501</td>\n",
       "      <td>France</td>\n",
       "      <td>Male</td>\n",
       "      <td>44</td>\n",
       "      <td>4.0</td>\n",
       "      <td>142051.07</td>\n",
       "      <td>2</td>\n",
       "      <td>0</td>\n",
       "      <td>1</td>\n",
       "      <td>74940.50</td>\n",
       "      <td>0</td>\n",
       "    </tr>\n",
       "    <tr>\n",
       "      <th>9</th>\n",
       "      <td>15592389</td>\n",
       "      <td>684</td>\n",
       "      <td>France</td>\n",
       "      <td>Male</td>\n",
       "      <td>27</td>\n",
       "      <td>2.0</td>\n",
       "      <td>134603.88</td>\n",
       "      <td>1</td>\n",
       "      <td>1</td>\n",
       "      <td>1</td>\n",
       "      <td>71725.73</td>\n",
       "      <td>0</td>\n",
       "    </tr>\n",
       "  </tbody>\n",
       "</table>\n",
       "</div>"
      ],
      "text/plain": [
       "   CustomerId  CreditScore Geography  Gender  Age  Tenure    Balance  \\\n",
       "0    15634602          619    France  Female   42     2.0       0.00   \n",
       "1    15647311          608     Spain  Female   41     1.0   83807.86   \n",
       "2    15619304          502    France  Female   42     8.0  159660.80   \n",
       "3    15701354          699    France  Female   39     1.0       0.00   \n",
       "4    15737888          850     Spain  Female   43     2.0  125510.82   \n",
       "5    15574012          645     Spain    Male   44     8.0  113755.78   \n",
       "6    15592531          822    France    Male   50     7.0       0.00   \n",
       "7    15656148          376   Germany  Female   29     4.0  115046.74   \n",
       "8    15792365          501    France    Male   44     4.0  142051.07   \n",
       "9    15592389          684    France    Male   27     2.0  134603.88   \n",
       "\n",
       "   NumOfProducts  HasCrCard  IsActiveMember  EstimatedSalary  Exited  \n",
       "0              1          1               1        101348.88       1  \n",
       "1              1          0               1        112542.58       0  \n",
       "2              3          1               0        113931.57       1  \n",
       "3              2          0               0         93826.63       0  \n",
       "4              1          1               1         79084.10       0  \n",
       "5              2          1               0        149756.71       1  \n",
       "6              2          1               1         10062.80       0  \n",
       "7              4          1               0        119346.88       1  \n",
       "8              2          0               1         74940.50       0  \n",
       "9              1          1               1         71725.73       0  "
      ]
     },
     "execution_count": 18,
     "metadata": {},
     "output_type": "execute_result"
    }
   ],
   "source": [
    "data = data.drop(['RowNumber', 'Surname'], axis=1)\n",
    "data.head(10)"
   ]
  },
  {
   "cell_type": "code",
   "execution_count": 19,
   "metadata": {},
   "outputs": [
    {
     "data": {
      "text/plain": [
       "(10000, 12)"
      ]
     },
     "execution_count": 19,
     "metadata": {},
     "output_type": "execute_result"
    }
   ],
   "source": [
    "data.shape"
   ]
  },
  {
   "cell_type": "markdown",
   "metadata": {},
   "source": [
    "После обучения модели можно предсказать, кто из клиентов планирует уйти. В качестве идентификатора клиента имеет смысл использовать признак `CustomerId`, т.к. все его значения - уникальны. Поэтому сделаем признак `CustomerId` индексом."
   ]
  },
  {
   "cell_type": "code",
   "execution_count": 20,
   "metadata": {},
   "outputs": [
    {
     "data": {
      "text/plain": [
       "Index(['CreditScore', 'Geography', 'Gender', 'Age', 'Tenure', 'Balance',\n",
       "       'NumOfProducts', 'HasCrCard', 'IsActiveMember', 'EstimatedSalary',\n",
       "       'Exited'],\n",
       "      dtype='object')"
      ]
     },
     "execution_count": 20,
     "metadata": {},
     "output_type": "execute_result"
    }
   ],
   "source": [
    "data.set_index('CustomerId', inplace=True)\n",
    "data.columns"
   ]
  },
  {
   "cell_type": "code",
   "execution_count": 21,
   "metadata": {},
   "outputs": [
    {
     "data": {
      "text/plain": [
       "(10000, 11)"
      ]
     },
     "execution_count": 21,
     "metadata": {},
     "output_type": "execute_result"
    }
   ],
   "source": [
    "data.shape"
   ]
  },
  {
   "cell_type": "markdown",
   "metadata": {},
   "source": [
    "### Разделение данных на выборки\n",
    "<a name=\"34\"></a> <div style=\"text-align: left\">[Cодержание](#Содержание)</div>"
   ]
  },
  {
   "cell_type": "markdown",
   "metadata": {},
   "source": [
    "Выделим из датасета по отдельности целевой признак `target` (признак `Exited`) и оставшиеся признаки `features`:"
   ]
  },
  {
   "cell_type": "code",
   "execution_count": 22,
   "metadata": {},
   "outputs": [],
   "source": [
    "target = data['Exited']\n",
    "features = data.drop('Exited', axis=1)"
   ]
  },
  {
   "cell_type": "markdown",
   "metadata": {},
   "source": [
    "Разделим исходные данные на обучающую, валидационную и тестовую выборки, в пропорции 3:1:1. Для корректного разбиения датасета применим аргумент `stratify`.\n",
    "\n",
    "Сначала разделим полученые данные на промежуточную (`train_valid`) и тестовую выборки (20%):"
   ]
  },
  {
   "cell_type": "code",
   "execution_count": 23,
   "metadata": {},
   "outputs": [],
   "source": [
    "features_train_valid, features_test, target_train_valid, target_test = train_test_split(\n",
    "    features, target, test_size=0.20, random_state=RANDOM_STATE, stratify=target)"
   ]
  },
  {
   "cell_type": "markdown",
   "metadata": {},
   "source": [
    "Затем разделим промежуточную выборку (`train_valid`) на обучающую и валидационную (25% от промежуточной выборки - это 20% от исходного датасета):"
   ]
  },
  {
   "cell_type": "code",
   "execution_count": 24,
   "metadata": {},
   "outputs": [],
   "source": [
    "features_train, features_valid, target_train, target_valid = train_test_split(\n",
    "    features_train_valid, target_train_valid, test_size=0.25, \n",
    "    random_state=RANDOM_STATE, stratify=target_train_valid)"
   ]
  },
  {
   "cell_type": "code",
   "execution_count": 25,
   "metadata": {},
   "outputs": [
    {
     "name": "stdout",
     "output_type": "stream",
     "text": [
      "Размеры выборок:\n",
      "train: 6000 - 60%\n",
      "train_valid: 8000 - 80%\n",
      "valid: 2000 - 20%\n",
      "test: 2000 - 20%\n"
     ]
    }
   ],
   "source": [
    "print('Размеры выборок:')\n",
    "print(f'train: {len(features_train)} - {len(features_train)/len(data):.0%}')\n",
    "print(f'train_valid: {len(features_train_valid)} \\\n",
    "- {len(features_train_valid)/len(data):.0%}')\n",
    "print(f'valid: {len(features_valid)} - {len(features_valid)/len(data):.0%}')\n",
    "print(f'test: {len(features_test)} - {len(features_test)/len(data):.0%}')"
   ]
  },
  {
   "cell_type": "markdown",
   "metadata": {},
   "source": [
    "Теперь сбросим индексы. Это понадобится для последующего кодирования."
   ]
  },
  {
   "cell_type": "code",
   "execution_count": 26,
   "metadata": {},
   "outputs": [],
   "source": [
    "features_train = features_train.reset_index(drop=True)\n",
    "target_train = target_train.reset_index(drop=True)\n",
    "\n",
    "features_train_valid = features_train_valid.reset_index(drop=True)\n",
    "target_train_valid = target_train_valid.reset_index(drop=True)\n",
    "\n",
    "features_valid = features_valid.reset_index(drop=True)\n",
    "target_valid = target_valid.reset_index(drop=True)\n",
    "\n",
    "features_test = features_test.reset_index(drop=True)\n",
    "target_test = target_test.reset_index(drop=True)"
   ]
  },
  {
   "cell_type": "markdown",
   "metadata": {},
   "source": [
    "### Кодирование категориальных признаков\n",
    "<a name=\"35\"></a> <div style=\"text-align: left\">[Cодержание](#Содержание)</div>"
   ]
  },
  {
   "cell_type": "markdown",
   "metadata": {},
   "source": [
    "Давайте посмотрим, какие категориальные признаки нужно преобразовать в численные:"
   ]
  },
  {
   "cell_type": "code",
   "execution_count": 27,
   "metadata": {},
   "outputs": [
    {
     "name": "stdout",
     "output_type": "stream",
     "text": [
      "<class 'pandas.core.frame.DataFrame'>\n",
      "Int64Index: 10000 entries, 15634602 to 15628319\n",
      "Data columns (total 11 columns):\n",
      " #   Column           Non-Null Count  Dtype  \n",
      "---  ------           --------------  -----  \n",
      " 0   CreditScore      10000 non-null  int64  \n",
      " 1   Geography        10000 non-null  object \n",
      " 2   Gender           10000 non-null  object \n",
      " 3   Age              10000 non-null  int64  \n",
      " 4   Tenure           10000 non-null  float64\n",
      " 5   Balance          10000 non-null  float64\n",
      " 6   NumOfProducts    10000 non-null  int64  \n",
      " 7   HasCrCard        10000 non-null  int64  \n",
      " 8   IsActiveMember   10000 non-null  int64  \n",
      " 9   EstimatedSalary  10000 non-null  float64\n",
      " 10  Exited           10000 non-null  int64  \n",
      "dtypes: float64(3), int64(6), object(2)\n",
      "memory usage: 937.5+ KB\n"
     ]
    }
   ],
   "source": [
    "data.info()"
   ]
  },
  {
   "cell_type": "markdown",
   "metadata": {},
   "source": [
    "Преобразуем категориальные признаки в численные с помощью техники прямого кодирования (*One-Hot Encoding, OHE*). Для этого применим к данным функцию `OneHotEncoder()`.\n",
    "\n",
    "В переменной `categorical` сохраним список категориальных признаков."
   ]
  },
  {
   "cell_type": "code",
   "execution_count": 28,
   "metadata": {},
   "outputs": [],
   "source": [
    "categorical = ['Geography', 'Gender']"
   ]
  },
  {
   "cell_type": "code",
   "execution_count": 29,
   "metadata": {
    "scrolled": true
   },
   "outputs": [
    {
     "data": {
      "text/plain": [
       "\"Выборка 'train'\""
      ]
     },
     "metadata": {},
     "output_type": "display_data"
    },
    {
     "data": {
      "text/html": [
       "<div>\n",
       "<style scoped>\n",
       "    .dataframe tbody tr th:only-of-type {\n",
       "        vertical-align: middle;\n",
       "    }\n",
       "\n",
       "    .dataframe tbody tr th {\n",
       "        vertical-align: top;\n",
       "    }\n",
       "\n",
       "    .dataframe thead th {\n",
       "        text-align: right;\n",
       "    }\n",
       "</style>\n",
       "<table border=\"1\" class=\"dataframe\">\n",
       "  <thead>\n",
       "    <tr style=\"text-align: right;\">\n",
       "      <th></th>\n",
       "      <th>CreditScore</th>\n",
       "      <th>Age</th>\n",
       "      <th>Tenure</th>\n",
       "      <th>Balance</th>\n",
       "      <th>NumOfProducts</th>\n",
       "      <th>HasCrCard</th>\n",
       "      <th>IsActiveMember</th>\n",
       "      <th>EstimatedSalary</th>\n",
       "      <th>Geography_Germany</th>\n",
       "      <th>Geography_Spain</th>\n",
       "      <th>Gender_Male</th>\n",
       "    </tr>\n",
       "  </thead>\n",
       "  <tbody>\n",
       "    <tr>\n",
       "      <th>0</th>\n",
       "      <td>636</td>\n",
       "      <td>45</td>\n",
       "      <td>2.0</td>\n",
       "      <td>0.00</td>\n",
       "      <td>2</td>\n",
       "      <td>1</td>\n",
       "      <td>1</td>\n",
       "      <td>159463.80</td>\n",
       "      <td>0.0</td>\n",
       "      <td>1.0</td>\n",
       "      <td>1.0</td>\n",
       "    </tr>\n",
       "    <tr>\n",
       "      <th>1</th>\n",
       "      <td>808</td>\n",
       "      <td>33</td>\n",
       "      <td>2.0</td>\n",
       "      <td>103516.87</td>\n",
       "      <td>1</td>\n",
       "      <td>1</td>\n",
       "      <td>0</td>\n",
       "      <td>113907.80</td>\n",
       "      <td>0.0</td>\n",
       "      <td>0.0</td>\n",
       "      <td>0.0</td>\n",
       "    </tr>\n",
       "    <tr>\n",
       "      <th>2</th>\n",
       "      <td>758</td>\n",
       "      <td>34</td>\n",
       "      <td>1.0</td>\n",
       "      <td>154139.45</td>\n",
       "      <td>1</td>\n",
       "      <td>1</td>\n",
       "      <td>1</td>\n",
       "      <td>60728.89</td>\n",
       "      <td>0.0</td>\n",
       "      <td>0.0</td>\n",
       "      <td>0.0</td>\n",
       "    </tr>\n",
       "    <tr>\n",
       "      <th>3</th>\n",
       "      <td>809</td>\n",
       "      <td>39</td>\n",
       "      <td>5.0</td>\n",
       "      <td>0.00</td>\n",
       "      <td>1</td>\n",
       "      <td>1</td>\n",
       "      <td>0</td>\n",
       "      <td>77705.75</td>\n",
       "      <td>0.0</td>\n",
       "      <td>0.0</td>\n",
       "      <td>0.0</td>\n",
       "    </tr>\n",
       "    <tr>\n",
       "      <th>4</th>\n",
       "      <td>603</td>\n",
       "      <td>24</td>\n",
       "      <td>1.0</td>\n",
       "      <td>165149.13</td>\n",
       "      <td>2</td>\n",
       "      <td>1</td>\n",
       "      <td>0</td>\n",
       "      <td>21858.28</td>\n",
       "      <td>0.0</td>\n",
       "      <td>1.0</td>\n",
       "      <td>1.0</td>\n",
       "    </tr>\n",
       "  </tbody>\n",
       "</table>\n",
       "</div>"
      ],
      "text/plain": [
       "   CreditScore  Age  Tenure    Balance  NumOfProducts  HasCrCard  \\\n",
       "0          636   45     2.0       0.00              2          1   \n",
       "1          808   33     2.0  103516.87              1          1   \n",
       "2          758   34     1.0  154139.45              1          1   \n",
       "3          809   39     5.0       0.00              1          1   \n",
       "4          603   24     1.0  165149.13              2          1   \n",
       "\n",
       "   IsActiveMember  EstimatedSalary  Geography_Germany  Geography_Spain  \\\n",
       "0               1        159463.80                0.0              1.0   \n",
       "1               0        113907.80                0.0              0.0   \n",
       "2               1         60728.89                0.0              0.0   \n",
       "3               0         77705.75                0.0              0.0   \n",
       "4               0         21858.28                0.0              1.0   \n",
       "\n",
       "   Gender_Male  \n",
       "0          1.0  \n",
       "1          0.0  \n",
       "2          0.0  \n",
       "3          0.0  \n",
       "4          1.0  "
      ]
     },
     "metadata": {},
     "output_type": "display_data"
    },
    {
     "name": "stdout",
     "output_type": "stream",
     "text": [
      "(6000, 11)\n"
     ]
    },
    {
     "data": {
      "text/plain": [
       "\"Выборка 'train_valid'\""
      ]
     },
     "metadata": {},
     "output_type": "display_data"
    },
    {
     "data": {
      "text/html": [
       "<div>\n",
       "<style scoped>\n",
       "    .dataframe tbody tr th:only-of-type {\n",
       "        vertical-align: middle;\n",
       "    }\n",
       "\n",
       "    .dataframe tbody tr th {\n",
       "        vertical-align: top;\n",
       "    }\n",
       "\n",
       "    .dataframe thead th {\n",
       "        text-align: right;\n",
       "    }\n",
       "</style>\n",
       "<table border=\"1\" class=\"dataframe\">\n",
       "  <thead>\n",
       "    <tr style=\"text-align: right;\">\n",
       "      <th></th>\n",
       "      <th>CreditScore</th>\n",
       "      <th>Age</th>\n",
       "      <th>Tenure</th>\n",
       "      <th>Balance</th>\n",
       "      <th>NumOfProducts</th>\n",
       "      <th>HasCrCard</th>\n",
       "      <th>IsActiveMember</th>\n",
       "      <th>EstimatedSalary</th>\n",
       "      <th>Geography_Germany</th>\n",
       "      <th>Geography_Spain</th>\n",
       "      <th>Gender_Male</th>\n",
       "    </tr>\n",
       "  </thead>\n",
       "  <tbody>\n",
       "    <tr>\n",
       "      <th>0</th>\n",
       "      <td>644</td>\n",
       "      <td>40</td>\n",
       "      <td>4.0</td>\n",
       "      <td>77270.08</td>\n",
       "      <td>2</td>\n",
       "      <td>1</td>\n",
       "      <td>1</td>\n",
       "      <td>115800.10</td>\n",
       "      <td>1.0</td>\n",
       "      <td>0.0</td>\n",
       "      <td>0.0</td>\n",
       "    </tr>\n",
       "    <tr>\n",
       "      <th>1</th>\n",
       "      <td>607</td>\n",
       "      <td>27</td>\n",
       "      <td>5.0</td>\n",
       "      <td>100912.19</td>\n",
       "      <td>1</td>\n",
       "      <td>0</td>\n",
       "      <td>0</td>\n",
       "      <td>7631.27</td>\n",
       "      <td>0.0</td>\n",
       "      <td>1.0</td>\n",
       "      <td>0.0</td>\n",
       "    </tr>\n",
       "    <tr>\n",
       "      <th>2</th>\n",
       "      <td>599</td>\n",
       "      <td>46</td>\n",
       "      <td>7.0</td>\n",
       "      <td>81742.84</td>\n",
       "      <td>2</td>\n",
       "      <td>1</td>\n",
       "      <td>0</td>\n",
       "      <td>83282.21</td>\n",
       "      <td>0.0</td>\n",
       "      <td>1.0</td>\n",
       "      <td>0.0</td>\n",
       "    </tr>\n",
       "    <tr>\n",
       "      <th>3</th>\n",
       "      <td>632</td>\n",
       "      <td>38</td>\n",
       "      <td>6.0</td>\n",
       "      <td>86569.76</td>\n",
       "      <td>2</td>\n",
       "      <td>1</td>\n",
       "      <td>0</td>\n",
       "      <td>98090.91</td>\n",
       "      <td>1.0</td>\n",
       "      <td>0.0</td>\n",
       "      <td>0.0</td>\n",
       "    </tr>\n",
       "    <tr>\n",
       "      <th>4</th>\n",
       "      <td>429</td>\n",
       "      <td>60</td>\n",
       "      <td>7.0</td>\n",
       "      <td>0.00</td>\n",
       "      <td>2</td>\n",
       "      <td>1</td>\n",
       "      <td>1</td>\n",
       "      <td>163691.48</td>\n",
       "      <td>0.0</td>\n",
       "      <td>0.0</td>\n",
       "      <td>1.0</td>\n",
       "    </tr>\n",
       "  </tbody>\n",
       "</table>\n",
       "</div>"
      ],
      "text/plain": [
       "   CreditScore  Age  Tenure    Balance  NumOfProducts  HasCrCard  \\\n",
       "0          644   40     4.0   77270.08              2          1   \n",
       "1          607   27     5.0  100912.19              1          0   \n",
       "2          599   46     7.0   81742.84              2          1   \n",
       "3          632   38     6.0   86569.76              2          1   \n",
       "4          429   60     7.0       0.00              2          1   \n",
       "\n",
       "   IsActiveMember  EstimatedSalary  Geography_Germany  Geography_Spain  \\\n",
       "0               1        115800.10                1.0              0.0   \n",
       "1               0          7631.27                0.0              1.0   \n",
       "2               0         83282.21                0.0              1.0   \n",
       "3               0         98090.91                1.0              0.0   \n",
       "4               1        163691.48                0.0              0.0   \n",
       "\n",
       "   Gender_Male  \n",
       "0          0.0  \n",
       "1          0.0  \n",
       "2          0.0  \n",
       "3          0.0  \n",
       "4          1.0  "
      ]
     },
     "metadata": {},
     "output_type": "display_data"
    },
    {
     "name": "stdout",
     "output_type": "stream",
     "text": [
      "(8000, 11)\n"
     ]
    },
    {
     "data": {
      "text/plain": [
       "\"Выборка 'valid'\""
      ]
     },
     "metadata": {},
     "output_type": "display_data"
    },
    {
     "data": {
      "text/html": [
       "<div>\n",
       "<style scoped>\n",
       "    .dataframe tbody tr th:only-of-type {\n",
       "        vertical-align: middle;\n",
       "    }\n",
       "\n",
       "    .dataframe tbody tr th {\n",
       "        vertical-align: top;\n",
       "    }\n",
       "\n",
       "    .dataframe thead th {\n",
       "        text-align: right;\n",
       "    }\n",
       "</style>\n",
       "<table border=\"1\" class=\"dataframe\">\n",
       "  <thead>\n",
       "    <tr style=\"text-align: right;\">\n",
       "      <th></th>\n",
       "      <th>CreditScore</th>\n",
       "      <th>Age</th>\n",
       "      <th>Tenure</th>\n",
       "      <th>Balance</th>\n",
       "      <th>NumOfProducts</th>\n",
       "      <th>HasCrCard</th>\n",
       "      <th>IsActiveMember</th>\n",
       "      <th>EstimatedSalary</th>\n",
       "      <th>Geography_Germany</th>\n",
       "      <th>Geography_Spain</th>\n",
       "      <th>Gender_Male</th>\n",
       "    </tr>\n",
       "  </thead>\n",
       "  <tbody>\n",
       "    <tr>\n",
       "      <th>0</th>\n",
       "      <td>659</td>\n",
       "      <td>48</td>\n",
       "      <td>4.0</td>\n",
       "      <td>123593.22</td>\n",
       "      <td>2</td>\n",
       "      <td>1</td>\n",
       "      <td>0</td>\n",
       "      <td>82469.06</td>\n",
       "      <td>1.0</td>\n",
       "      <td>0.0</td>\n",
       "      <td>1.0</td>\n",
       "    </tr>\n",
       "    <tr>\n",
       "      <th>1</th>\n",
       "      <td>550</td>\n",
       "      <td>42</td>\n",
       "      <td>10.0</td>\n",
       "      <td>128707.31</td>\n",
       "      <td>1</td>\n",
       "      <td>1</td>\n",
       "      <td>0</td>\n",
       "      <td>63092.65</td>\n",
       "      <td>1.0</td>\n",
       "      <td>0.0</td>\n",
       "      <td>0.0</td>\n",
       "    </tr>\n",
       "    <tr>\n",
       "      <th>2</th>\n",
       "      <td>850</td>\n",
       "      <td>41</td>\n",
       "      <td>3.0</td>\n",
       "      <td>0.00</td>\n",
       "      <td>2</td>\n",
       "      <td>1</td>\n",
       "      <td>0</td>\n",
       "      <td>128892.36</td>\n",
       "      <td>0.0</td>\n",
       "      <td>0.0</td>\n",
       "      <td>1.0</td>\n",
       "    </tr>\n",
       "    <tr>\n",
       "      <th>3</th>\n",
       "      <td>755</td>\n",
       "      <td>36</td>\n",
       "      <td>8.0</td>\n",
       "      <td>0.00</td>\n",
       "      <td>2</td>\n",
       "      <td>1</td>\n",
       "      <td>0</td>\n",
       "      <td>176809.87</td>\n",
       "      <td>0.0</td>\n",
       "      <td>0.0</td>\n",
       "      <td>1.0</td>\n",
       "    </tr>\n",
       "    <tr>\n",
       "      <th>4</th>\n",
       "      <td>703</td>\n",
       "      <td>58</td>\n",
       "      <td>4.0</td>\n",
       "      <td>92930.92</td>\n",
       "      <td>1</td>\n",
       "      <td>0</td>\n",
       "      <td>1</td>\n",
       "      <td>85148.78</td>\n",
       "      <td>0.0</td>\n",
       "      <td>1.0</td>\n",
       "      <td>1.0</td>\n",
       "    </tr>\n",
       "  </tbody>\n",
       "</table>\n",
       "</div>"
      ],
      "text/plain": [
       "   CreditScore  Age  Tenure    Balance  NumOfProducts  HasCrCard  \\\n",
       "0          659   48     4.0  123593.22              2          1   \n",
       "1          550   42    10.0  128707.31              1          1   \n",
       "2          850   41     3.0       0.00              2          1   \n",
       "3          755   36     8.0       0.00              2          1   \n",
       "4          703   58     4.0   92930.92              1          0   \n",
       "\n",
       "   IsActiveMember  EstimatedSalary  Geography_Germany  Geography_Spain  \\\n",
       "0               0         82469.06                1.0              0.0   \n",
       "1               0         63092.65                1.0              0.0   \n",
       "2               0        128892.36                0.0              0.0   \n",
       "3               0        176809.87                0.0              0.0   \n",
       "4               1         85148.78                0.0              1.0   \n",
       "\n",
       "   Gender_Male  \n",
       "0          1.0  \n",
       "1          0.0  \n",
       "2          1.0  \n",
       "3          1.0  \n",
       "4          1.0  "
      ]
     },
     "metadata": {},
     "output_type": "display_data"
    },
    {
     "name": "stdout",
     "output_type": "stream",
     "text": [
      "(2000, 11)\n"
     ]
    },
    {
     "data": {
      "text/plain": [
       "\"Выборка 'test'\""
      ]
     },
     "metadata": {},
     "output_type": "display_data"
    },
    {
     "data": {
      "text/html": [
       "<div>\n",
       "<style scoped>\n",
       "    .dataframe tbody tr th:only-of-type {\n",
       "        vertical-align: middle;\n",
       "    }\n",
       "\n",
       "    .dataframe tbody tr th {\n",
       "        vertical-align: top;\n",
       "    }\n",
       "\n",
       "    .dataframe thead th {\n",
       "        text-align: right;\n",
       "    }\n",
       "</style>\n",
       "<table border=\"1\" class=\"dataframe\">\n",
       "  <thead>\n",
       "    <tr style=\"text-align: right;\">\n",
       "      <th></th>\n",
       "      <th>CreditScore</th>\n",
       "      <th>Age</th>\n",
       "      <th>Tenure</th>\n",
       "      <th>Balance</th>\n",
       "      <th>NumOfProducts</th>\n",
       "      <th>HasCrCard</th>\n",
       "      <th>IsActiveMember</th>\n",
       "      <th>EstimatedSalary</th>\n",
       "      <th>Geography_Germany</th>\n",
       "      <th>Geography_Spain</th>\n",
       "      <th>Gender_Male</th>\n",
       "    </tr>\n",
       "  </thead>\n",
       "  <tbody>\n",
       "    <tr>\n",
       "      <th>0</th>\n",
       "      <td>850</td>\n",
       "      <td>48</td>\n",
       "      <td>2.0</td>\n",
       "      <td>0.00</td>\n",
       "      <td>1</td>\n",
       "      <td>1</td>\n",
       "      <td>0</td>\n",
       "      <td>169425.30</td>\n",
       "      <td>0.0</td>\n",
       "      <td>1.0</td>\n",
       "      <td>1.0</td>\n",
       "    </tr>\n",
       "    <tr>\n",
       "      <th>1</th>\n",
       "      <td>651</td>\n",
       "      <td>28</td>\n",
       "      <td>10.0</td>\n",
       "      <td>79562.98</td>\n",
       "      <td>1</td>\n",
       "      <td>1</td>\n",
       "      <td>1</td>\n",
       "      <td>74687.37</td>\n",
       "      <td>0.0</td>\n",
       "      <td>0.0</td>\n",
       "      <td>1.0</td>\n",
       "    </tr>\n",
       "    <tr>\n",
       "      <th>2</th>\n",
       "      <td>714</td>\n",
       "      <td>34</td>\n",
       "      <td>10.0</td>\n",
       "      <td>0.00</td>\n",
       "      <td>2</td>\n",
       "      <td>1</td>\n",
       "      <td>1</td>\n",
       "      <td>80234.14</td>\n",
       "      <td>0.0</td>\n",
       "      <td>0.0</td>\n",
       "      <td>1.0</td>\n",
       "    </tr>\n",
       "    <tr>\n",
       "      <th>3</th>\n",
       "      <td>782</td>\n",
       "      <td>41</td>\n",
       "      <td>4.0</td>\n",
       "      <td>0.00</td>\n",
       "      <td>1</td>\n",
       "      <td>1</td>\n",
       "      <td>0</td>\n",
       "      <td>132943.88</td>\n",
       "      <td>0.0</td>\n",
       "      <td>1.0</td>\n",
       "      <td>0.0</td>\n",
       "    </tr>\n",
       "    <tr>\n",
       "      <th>4</th>\n",
       "      <td>521</td>\n",
       "      <td>41</td>\n",
       "      <td>2.0</td>\n",
       "      <td>0.00</td>\n",
       "      <td>2</td>\n",
       "      <td>1</td>\n",
       "      <td>1</td>\n",
       "      <td>113089.43</td>\n",
       "      <td>0.0</td>\n",
       "      <td>0.0</td>\n",
       "      <td>0.0</td>\n",
       "    </tr>\n",
       "  </tbody>\n",
       "</table>\n",
       "</div>"
      ],
      "text/plain": [
       "   CreditScore  Age  Tenure   Balance  NumOfProducts  HasCrCard  \\\n",
       "0          850   48     2.0      0.00              1          1   \n",
       "1          651   28    10.0  79562.98              1          1   \n",
       "2          714   34    10.0      0.00              2          1   \n",
       "3          782   41     4.0      0.00              1          1   \n",
       "4          521   41     2.0      0.00              2          1   \n",
       "\n",
       "   IsActiveMember  EstimatedSalary  Geography_Germany  Geography_Spain  \\\n",
       "0               0        169425.30                0.0              1.0   \n",
       "1               1         74687.37                0.0              0.0   \n",
       "2               1         80234.14                0.0              0.0   \n",
       "3               0        132943.88                0.0              1.0   \n",
       "4               1        113089.43                0.0              0.0   \n",
       "\n",
       "   Gender_Male  \n",
       "0          1.0  \n",
       "1          1.0  \n",
       "2          1.0  \n",
       "3          0.0  \n",
       "4          0.0  "
      ]
     },
     "metadata": {},
     "output_type": "display_data"
    },
    {
     "name": "stdout",
     "output_type": "stream",
     "text": [
      "(2000, 11)\n"
     ]
    }
   ],
   "source": [
    "# для последующего кодирования категориальных признаков создадим копии выборок\n",
    "features_train_ohe = features_train.copy()\n",
    "features_train_valid_ohe = features_train_valid.copy()\n",
    "features_valid_ohe = features_valid.copy()\n",
    "features_test_ohe = features_test.copy()\n",
    "\n",
    "# создадим объект класса OneHotEncoder(),\n",
    "# параметр sparse=False вернет массив (sparse=True - сжатую матрицу)\n",
    "encoder = OneHotEncoder(sparse=False, handle_unknown='error', drop='first')\n",
    "\n",
    "# Применим функцию fit_transform() для обучающей выборки:\n",
    "\n",
    "# создадим датафрейм с закодированными категориальными признаками categorical\n",
    "encoded_train = pd.DataFrame(encoder.fit_transform(features_train_ohe[categorical]))\n",
    "# используем вывод метода .get_feature_names_out(), чтобы добавить названия признаков\n",
    "encoded_train.columns = encoder.get_feature_names_out()\n",
    "\n",
    "# присоединим датафрейм encoded_train к исходному датафрейму, и удалим categorical\n",
    "features_train_ohe = features_train_ohe.join(encoded_train)\n",
    "features_train_ohe.drop(categorical, axis = 1, inplace = True)\n",
    "\n",
    "# Применим функцию transform() для промежуточной выборки:\n",
    "\n",
    "# создадим датафрейм с закодированными категориальными признаками categorical\n",
    "encoded_train_valid = pd.DataFrame(encoder.transform(features_train_valid_ohe[categorical]))\n",
    "\n",
    "# используем вывод метода .get_feature_names_out(), чтобы добавить названия признаков\n",
    "encoded_train_valid.columns = encoder.get_feature_names_out()\n",
    "\n",
    "# присоединим датафрейм encoded_train_valid к исходному датафрейму, и удалим categorical\n",
    "features_train_valid_ohe = features_train_valid_ohe.join(encoded_train_valid)\n",
    "features_train_valid_ohe.drop(categorical, axis = 1, inplace = True)\n",
    "\n",
    "# Применим функцию transform() для валидационной выборки:\n",
    "\n",
    "# создадим датафрейм с закодированными категориальными признаками categorical\n",
    "encoded_valid = pd.DataFrame(encoder.transform(features_valid_ohe[categorical]))\n",
    "\n",
    "# используем вывод метода .get_feature_names_out(), чтобы добавить названия признаков\n",
    "encoded_valid.columns = encoder.get_feature_names_out()\n",
    "\n",
    "# присоединим датафрейм encoded_valid к исходному датафрейму, удалим categorical\n",
    "features_valid_ohe = features_valid_ohe.join(encoded_valid)\n",
    "features_valid_ohe.drop(categorical, axis = 1, inplace = True)\n",
    "\n",
    "# Применим функцию transform() для тестовой выборки:\n",
    "\n",
    "# создадим датафрейм с закодированными категориальными признаками categorical\n",
    "encoded_test = pd.DataFrame(encoder.transform(features_test_ohe[categorical]))\n",
    "\n",
    "# используем вывод метода .get_feature_names_out(), чтобы добавить названия признаков\n",
    "encoded_test.columns = encoder.get_feature_names_out()\n",
    "\n",
    "# присоединим датафрейм encoded_test к исходному датафрейму, удалим categorical\n",
    "features_test_ohe = features_test_ohe.join(encoded_test)\n",
    "features_test_ohe.drop(categorical, axis = 1, inplace = True)\n",
    "\n",
    "display(\"Выборка 'train'\", features_train_ohe.head())\n",
    "print(features_train_ohe.shape)\n",
    "\n",
    "display(\"Выборка 'train_valid'\", features_train_valid_ohe.head())\n",
    "print(features_train_valid_ohe.shape)\n",
    "\n",
    "display(\"Выборка 'valid'\", features_valid_ohe.head())\n",
    "print(features_valid_ohe.shape)\n",
    "\n",
    "display(\"Выборка 'test'\", features_test_ohe.head())\n",
    "print(features_test_ohe.shape)"
   ]
  },
  {
   "cell_type": "markdown",
   "metadata": {},
   "source": [
    "### Масштабирование численных признаков\n",
    "<a name=\"36\"></a> <div style=\"text-align: left\">[Cодержание](#Содержание)</div>"
   ]
  },
  {
   "cell_type": "markdown",
   "metadata": {},
   "source": [
    "В данных присутствуют численные признаки с разными разбросами значений, поэтому масштабируем численные признаки. Для этого стандартизируем данные с помощью класса `StandardScaler()`. \n",
    "\n",
    "В переменной `numeric` сохраним список всех численных признаков. После кодирования - все признаки стали численными, поэтому можем указать названия всех признаков каждой из выборок."
   ]
  },
  {
   "cell_type": "code",
   "execution_count": 30,
   "metadata": {},
   "outputs": [
    {
     "data": {
      "text/plain": [
       "Index(['CreditScore', 'Age', 'Tenure', 'Balance', 'NumOfProducts', 'HasCrCard',\n",
       "       'IsActiveMember', 'EstimatedSalary', 'Geography_Germany',\n",
       "       'Geography_Spain', 'Gender_Male'],\n",
       "      dtype='object')"
      ]
     },
     "execution_count": 30,
     "metadata": {},
     "output_type": "execute_result"
    }
   ],
   "source": [
    "numeric = features_train_ohe.columns\n",
    "numeric"
   ]
  },
  {
   "cell_type": "code",
   "execution_count": 31,
   "metadata": {},
   "outputs": [
    {
     "data": {
      "text/plain": [
       "\"Выборка 'train'\""
      ]
     },
     "metadata": {},
     "output_type": "display_data"
    },
    {
     "data": {
      "text/html": [
       "<div>\n",
       "<style scoped>\n",
       "    .dataframe tbody tr th:only-of-type {\n",
       "        vertical-align: middle;\n",
       "    }\n",
       "\n",
       "    .dataframe tbody tr th {\n",
       "        vertical-align: top;\n",
       "    }\n",
       "\n",
       "    .dataframe thead th {\n",
       "        text-align: right;\n",
       "    }\n",
       "</style>\n",
       "<table border=\"1\" class=\"dataframe\">\n",
       "  <thead>\n",
       "    <tr style=\"text-align: right;\">\n",
       "      <th></th>\n",
       "      <th>CreditScore</th>\n",
       "      <th>Age</th>\n",
       "      <th>Tenure</th>\n",
       "      <th>Balance</th>\n",
       "      <th>NumOfProducts</th>\n",
       "      <th>HasCrCard</th>\n",
       "      <th>IsActiveMember</th>\n",
       "      <th>EstimatedSalary</th>\n",
       "      <th>Geography_Germany</th>\n",
       "      <th>Geography_Spain</th>\n",
       "      <th>Gender_Male</th>\n",
       "    </tr>\n",
       "  </thead>\n",
       "  <tbody>\n",
       "    <tr>\n",
       "      <th>0</th>\n",
       "      <td>-0.143332</td>\n",
       "      <td>0.577533</td>\n",
       "      <td>-1.021164</td>\n",
       "      <td>-1.220573</td>\n",
       "      <td>0.797767</td>\n",
       "      <td>0.652576</td>\n",
       "      <td>0.967527</td>\n",
       "      <td>1.029613</td>\n",
       "      <td>-0.572988</td>\n",
       "      <td>1.734363</td>\n",
       "      <td>0.915552</td>\n",
       "    </tr>\n",
       "    <tr>\n",
       "      <th>1</th>\n",
       "      <td>1.632702</td>\n",
       "      <td>-0.564119</td>\n",
       "      <td>-1.021164</td>\n",
       "      <td>0.435807</td>\n",
       "      <td>-0.916018</td>\n",
       "      <td>0.652576</td>\n",
       "      <td>-1.033563</td>\n",
       "      <td>0.237986</td>\n",
       "      <td>-0.572988</td>\n",
       "      <td>-0.576580</td>\n",
       "      <td>-1.092237</td>\n",
       "    </tr>\n",
       "    <tr>\n",
       "      <th>2</th>\n",
       "      <td>1.116413</td>\n",
       "      <td>-0.468981</td>\n",
       "      <td>-1.363473</td>\n",
       "      <td>1.245822</td>\n",
       "      <td>-0.916018</td>\n",
       "      <td>0.652576</td>\n",
       "      <td>0.967527</td>\n",
       "      <td>-0.686104</td>\n",
       "      <td>-0.572988</td>\n",
       "      <td>-0.576580</td>\n",
       "      <td>-1.092237</td>\n",
       "    </tr>\n",
       "    <tr>\n",
       "      <th>3</th>\n",
       "      <td>1.643028</td>\n",
       "      <td>0.006707</td>\n",
       "      <td>0.005762</td>\n",
       "      <td>-1.220573</td>\n",
       "      <td>-0.916018</td>\n",
       "      <td>0.652576</td>\n",
       "      <td>-1.033563</td>\n",
       "      <td>-0.391097</td>\n",
       "      <td>-0.572988</td>\n",
       "      <td>-0.576580</td>\n",
       "      <td>-1.092237</td>\n",
       "    </tr>\n",
       "    <tr>\n",
       "      <th>4</th>\n",
       "      <td>-0.484083</td>\n",
       "      <td>-1.420358</td>\n",
       "      <td>-1.363473</td>\n",
       "      <td>1.421989</td>\n",
       "      <td>0.797767</td>\n",
       "      <td>0.652576</td>\n",
       "      <td>-1.033563</td>\n",
       "      <td>-1.361559</td>\n",
       "      <td>-0.572988</td>\n",
       "      <td>1.734363</td>\n",
       "      <td>0.915552</td>\n",
       "    </tr>\n",
       "  </tbody>\n",
       "</table>\n",
       "</div>"
      ],
      "text/plain": [
       "   CreditScore       Age    Tenure   Balance  NumOfProducts  HasCrCard  \\\n",
       "0    -0.143332  0.577533 -1.021164 -1.220573       0.797767   0.652576   \n",
       "1     1.632702 -0.564119 -1.021164  0.435807      -0.916018   0.652576   \n",
       "2     1.116413 -0.468981 -1.363473  1.245822      -0.916018   0.652576   \n",
       "3     1.643028  0.006707  0.005762 -1.220573      -0.916018   0.652576   \n",
       "4    -0.484083 -1.420358 -1.363473  1.421989       0.797767   0.652576   \n",
       "\n",
       "   IsActiveMember  EstimatedSalary  Geography_Germany  Geography_Spain  \\\n",
       "0        0.967527         1.029613          -0.572988         1.734363   \n",
       "1       -1.033563         0.237986          -0.572988        -0.576580   \n",
       "2        0.967527        -0.686104          -0.572988        -0.576580   \n",
       "3       -1.033563        -0.391097          -0.572988        -0.576580   \n",
       "4       -1.033563        -1.361559          -0.572988         1.734363   \n",
       "\n",
       "   Gender_Male  \n",
       "0     0.915552  \n",
       "1    -1.092237  \n",
       "2    -1.092237  \n",
       "3    -1.092237  \n",
       "4     0.915552  "
      ]
     },
     "metadata": {},
     "output_type": "display_data"
    },
    {
     "name": "stdout",
     "output_type": "stream",
     "text": [
      "(6000, 11)\n"
     ]
    },
    {
     "data": {
      "text/plain": [
       "\"Выборка 'train_valid'\""
      ]
     },
     "metadata": {},
     "output_type": "display_data"
    },
    {
     "data": {
      "text/html": [
       "<div>\n",
       "<style scoped>\n",
       "    .dataframe tbody tr th:only-of-type {\n",
       "        vertical-align: middle;\n",
       "    }\n",
       "\n",
       "    .dataframe tbody tr th {\n",
       "        vertical-align: top;\n",
       "    }\n",
       "\n",
       "    .dataframe thead th {\n",
       "        text-align: right;\n",
       "    }\n",
       "</style>\n",
       "<table border=\"1\" class=\"dataframe\">\n",
       "  <thead>\n",
       "    <tr style=\"text-align: right;\">\n",
       "      <th></th>\n",
       "      <th>CreditScore</th>\n",
       "      <th>Age</th>\n",
       "      <th>Tenure</th>\n",
       "      <th>Balance</th>\n",
       "      <th>NumOfProducts</th>\n",
       "      <th>HasCrCard</th>\n",
       "      <th>IsActiveMember</th>\n",
       "      <th>EstimatedSalary</th>\n",
       "      <th>Geography_Germany</th>\n",
       "      <th>Geography_Spain</th>\n",
       "      <th>Gender_Male</th>\n",
       "    </tr>\n",
       "  </thead>\n",
       "  <tbody>\n",
       "    <tr>\n",
       "      <th>0</th>\n",
       "      <td>-0.060726</td>\n",
       "      <td>0.101845</td>\n",
       "      <td>-0.336547</td>\n",
       "      <td>0.015831</td>\n",
       "      <td>0.797767</td>\n",
       "      <td>0.652576</td>\n",
       "      <td>0.967527</td>\n",
       "      <td>0.270868</td>\n",
       "      <td>1.745237</td>\n",
       "      <td>-0.576580</td>\n",
       "      <td>-1.092237</td>\n",
       "    </tr>\n",
       "    <tr>\n",
       "      <th>1</th>\n",
       "      <td>-0.442780</td>\n",
       "      <td>-1.134945</td>\n",
       "      <td>0.005762</td>\n",
       "      <td>0.394130</td>\n",
       "      <td>-0.916018</td>\n",
       "      <td>-1.532388</td>\n",
       "      <td>-1.033563</td>\n",
       "      <td>-1.608781</td>\n",
       "      <td>-0.572988</td>\n",
       "      <td>1.734363</td>\n",
       "      <td>-1.092237</td>\n",
       "    </tr>\n",
       "    <tr>\n",
       "      <th>2</th>\n",
       "      <td>-0.525386</td>\n",
       "      <td>0.672671</td>\n",
       "      <td>0.690380</td>\n",
       "      <td>0.087400</td>\n",
       "      <td>0.797767</td>\n",
       "      <td>0.652576</td>\n",
       "      <td>-1.033563</td>\n",
       "      <td>-0.294195</td>\n",
       "      <td>-0.572988</td>\n",
       "      <td>1.734363</td>\n",
       "      <td>-1.092237</td>\n",
       "    </tr>\n",
       "    <tr>\n",
       "      <th>3</th>\n",
       "      <td>-0.184635</td>\n",
       "      <td>-0.088430</td>\n",
       "      <td>0.348071</td>\n",
       "      <td>0.164636</td>\n",
       "      <td>0.797767</td>\n",
       "      <td>0.652576</td>\n",
       "      <td>-1.033563</td>\n",
       "      <td>-0.036864</td>\n",
       "      <td>1.745237</td>\n",
       "      <td>-0.576580</td>\n",
       "      <td>-1.092237</td>\n",
       "    </tr>\n",
       "    <tr>\n",
       "      <th>4</th>\n",
       "      <td>-2.280768</td>\n",
       "      <td>2.004598</td>\n",
       "      <td>0.690380</td>\n",
       "      <td>-1.220573</td>\n",
       "      <td>0.797767</td>\n",
       "      <td>0.652576</td>\n",
       "      <td>0.967527</td>\n",
       "      <td>1.103077</td>\n",
       "      <td>-0.572988</td>\n",
       "      <td>-0.576580</td>\n",
       "      <td>0.915552</td>\n",
       "    </tr>\n",
       "  </tbody>\n",
       "</table>\n",
       "</div>"
      ],
      "text/plain": [
       "   CreditScore       Age    Tenure   Balance  NumOfProducts  HasCrCard  \\\n",
       "0    -0.060726  0.101845 -0.336547  0.015831       0.797767   0.652576   \n",
       "1    -0.442780 -1.134945  0.005762  0.394130      -0.916018  -1.532388   \n",
       "2    -0.525386  0.672671  0.690380  0.087400       0.797767   0.652576   \n",
       "3    -0.184635 -0.088430  0.348071  0.164636       0.797767   0.652576   \n",
       "4    -2.280768  2.004598  0.690380 -1.220573       0.797767   0.652576   \n",
       "\n",
       "   IsActiveMember  EstimatedSalary  Geography_Germany  Geography_Spain  \\\n",
       "0        0.967527         0.270868           1.745237        -0.576580   \n",
       "1       -1.033563        -1.608781          -0.572988         1.734363   \n",
       "2       -1.033563        -0.294195          -0.572988         1.734363   \n",
       "3       -1.033563        -0.036864           1.745237        -0.576580   \n",
       "4        0.967527         1.103077          -0.572988        -0.576580   \n",
       "\n",
       "   Gender_Male  \n",
       "0    -1.092237  \n",
       "1    -1.092237  \n",
       "2    -1.092237  \n",
       "3    -1.092237  \n",
       "4     0.915552  "
      ]
     },
     "metadata": {},
     "output_type": "display_data"
    },
    {
     "name": "stdout",
     "output_type": "stream",
     "text": [
      "(8000, 11)\n"
     ]
    },
    {
     "data": {
      "text/plain": [
       "\"Выборка 'valid'\""
      ]
     },
     "metadata": {},
     "output_type": "display_data"
    },
    {
     "data": {
      "text/html": [
       "<div>\n",
       "<style scoped>\n",
       "    .dataframe tbody tr th:only-of-type {\n",
       "        vertical-align: middle;\n",
       "    }\n",
       "\n",
       "    .dataframe tbody tr th {\n",
       "        vertical-align: top;\n",
       "    }\n",
       "\n",
       "    .dataframe thead th {\n",
       "        text-align: right;\n",
       "    }\n",
       "</style>\n",
       "<table border=\"1\" class=\"dataframe\">\n",
       "  <thead>\n",
       "    <tr style=\"text-align: right;\">\n",
       "      <th></th>\n",
       "      <th>CreditScore</th>\n",
       "      <th>Age</th>\n",
       "      <th>Tenure</th>\n",
       "      <th>Balance</th>\n",
       "      <th>NumOfProducts</th>\n",
       "      <th>HasCrCard</th>\n",
       "      <th>IsActiveMember</th>\n",
       "      <th>EstimatedSalary</th>\n",
       "      <th>Geography_Germany</th>\n",
       "      <th>Geography_Spain</th>\n",
       "      <th>Gender_Male</th>\n",
       "    </tr>\n",
       "  </thead>\n",
       "  <tbody>\n",
       "    <tr>\n",
       "      <th>0</th>\n",
       "      <td>0.094161</td>\n",
       "      <td>0.862946</td>\n",
       "      <td>-0.336547</td>\n",
       "      <td>0.757050</td>\n",
       "      <td>0.797767</td>\n",
       "      <td>0.652576</td>\n",
       "      <td>-1.033563</td>\n",
       "      <td>-0.308325</td>\n",
       "      <td>1.745237</td>\n",
       "      <td>-0.576580</td>\n",
       "      <td>0.915552</td>\n",
       "    </tr>\n",
       "    <tr>\n",
       "      <th>1</th>\n",
       "      <td>-1.031349</td>\n",
       "      <td>0.292120</td>\n",
       "      <td>1.717307</td>\n",
       "      <td>0.838881</td>\n",
       "      <td>-0.916018</td>\n",
       "      <td>0.652576</td>\n",
       "      <td>-1.033563</td>\n",
       "      <td>-0.645029</td>\n",
       "      <td>1.745237</td>\n",
       "      <td>-0.576580</td>\n",
       "      <td>-1.092237</td>\n",
       "    </tr>\n",
       "    <tr>\n",
       "      <th>2</th>\n",
       "      <td>2.066384</td>\n",
       "      <td>0.196983</td>\n",
       "      <td>-0.678856</td>\n",
       "      <td>-1.220573</td>\n",
       "      <td>0.797767</td>\n",
       "      <td>0.652576</td>\n",
       "      <td>-1.033563</td>\n",
       "      <td>0.498373</td>\n",
       "      <td>-0.572988</td>\n",
       "      <td>-0.576580</td>\n",
       "      <td>0.915552</td>\n",
       "    </tr>\n",
       "    <tr>\n",
       "      <th>3</th>\n",
       "      <td>1.085435</td>\n",
       "      <td>-0.278706</td>\n",
       "      <td>1.032689</td>\n",
       "      <td>-1.220573</td>\n",
       "      <td>0.797767</td>\n",
       "      <td>0.652576</td>\n",
       "      <td>-1.033563</td>\n",
       "      <td>1.331035</td>\n",
       "      <td>-0.572988</td>\n",
       "      <td>-0.576580</td>\n",
       "      <td>0.915552</td>\n",
       "    </tr>\n",
       "    <tr>\n",
       "      <th>4</th>\n",
       "      <td>0.548495</td>\n",
       "      <td>1.814323</td>\n",
       "      <td>-0.336547</td>\n",
       "      <td>0.266421</td>\n",
       "      <td>-0.916018</td>\n",
       "      <td>-1.532388</td>\n",
       "      <td>0.967527</td>\n",
       "      <td>-0.261760</td>\n",
       "      <td>-0.572988</td>\n",
       "      <td>1.734363</td>\n",
       "      <td>0.915552</td>\n",
       "    </tr>\n",
       "  </tbody>\n",
       "</table>\n",
       "</div>"
      ],
      "text/plain": [
       "   CreditScore       Age    Tenure   Balance  NumOfProducts  HasCrCard  \\\n",
       "0     0.094161  0.862946 -0.336547  0.757050       0.797767   0.652576   \n",
       "1    -1.031349  0.292120  1.717307  0.838881      -0.916018   0.652576   \n",
       "2     2.066384  0.196983 -0.678856 -1.220573       0.797767   0.652576   \n",
       "3     1.085435 -0.278706  1.032689 -1.220573       0.797767   0.652576   \n",
       "4     0.548495  1.814323 -0.336547  0.266421      -0.916018  -1.532388   \n",
       "\n",
       "   IsActiveMember  EstimatedSalary  Geography_Germany  Geography_Spain  \\\n",
       "0       -1.033563        -0.308325           1.745237        -0.576580   \n",
       "1       -1.033563        -0.645029           1.745237        -0.576580   \n",
       "2       -1.033563         0.498373          -0.572988        -0.576580   \n",
       "3       -1.033563         1.331035          -0.572988        -0.576580   \n",
       "4        0.967527        -0.261760          -0.572988         1.734363   \n",
       "\n",
       "   Gender_Male  \n",
       "0     0.915552  \n",
       "1    -1.092237  \n",
       "2     0.915552  \n",
       "3     0.915552  \n",
       "4     0.915552  "
      ]
     },
     "metadata": {},
     "output_type": "display_data"
    },
    {
     "name": "stdout",
     "output_type": "stream",
     "text": [
      "(2000, 11)\n"
     ]
    },
    {
     "data": {
      "text/plain": [
       "\"Выборка 'test'\""
      ]
     },
     "metadata": {},
     "output_type": "display_data"
    },
    {
     "data": {
      "text/html": [
       "<div>\n",
       "<style scoped>\n",
       "    .dataframe tbody tr th:only-of-type {\n",
       "        vertical-align: middle;\n",
       "    }\n",
       "\n",
       "    .dataframe tbody tr th {\n",
       "        vertical-align: top;\n",
       "    }\n",
       "\n",
       "    .dataframe thead th {\n",
       "        text-align: right;\n",
       "    }\n",
       "</style>\n",
       "<table border=\"1\" class=\"dataframe\">\n",
       "  <thead>\n",
       "    <tr style=\"text-align: right;\">\n",
       "      <th></th>\n",
       "      <th>CreditScore</th>\n",
       "      <th>Age</th>\n",
       "      <th>Tenure</th>\n",
       "      <th>Balance</th>\n",
       "      <th>NumOfProducts</th>\n",
       "      <th>HasCrCard</th>\n",
       "      <th>IsActiveMember</th>\n",
       "      <th>EstimatedSalary</th>\n",
       "      <th>Geography_Germany</th>\n",
       "      <th>Geography_Spain</th>\n",
       "      <th>Gender_Male</th>\n",
       "    </tr>\n",
       "  </thead>\n",
       "  <tbody>\n",
       "    <tr>\n",
       "      <th>0</th>\n",
       "      <td>2.066384</td>\n",
       "      <td>0.862946</td>\n",
       "      <td>-1.021164</td>\n",
       "      <td>-1.220573</td>\n",
       "      <td>-0.916018</td>\n",
       "      <td>0.652576</td>\n",
       "      <td>-1.033563</td>\n",
       "      <td>1.202714</td>\n",
       "      <td>-0.572988</td>\n",
       "      <td>1.734363</td>\n",
       "      <td>0.915552</td>\n",
       "    </tr>\n",
       "    <tr>\n",
       "      <th>1</th>\n",
       "      <td>0.011555</td>\n",
       "      <td>-1.039807</td>\n",
       "      <td>1.717307</td>\n",
       "      <td>0.052520</td>\n",
       "      <td>-0.916018</td>\n",
       "      <td>0.652576</td>\n",
       "      <td>0.967527</td>\n",
       "      <td>-0.443548</td>\n",
       "      <td>-0.572988</td>\n",
       "      <td>-0.576580</td>\n",
       "      <td>0.915552</td>\n",
       "    </tr>\n",
       "    <tr>\n",
       "      <th>2</th>\n",
       "      <td>0.662079</td>\n",
       "      <td>-0.468981</td>\n",
       "      <td>1.717307</td>\n",
       "      <td>-1.220573</td>\n",
       "      <td>0.797767</td>\n",
       "      <td>0.652576</td>\n",
       "      <td>0.967527</td>\n",
       "      <td>-0.347161</td>\n",
       "      <td>-0.572988</td>\n",
       "      <td>-0.576580</td>\n",
       "      <td>0.915552</td>\n",
       "    </tr>\n",
       "    <tr>\n",
       "      <th>3</th>\n",
       "      <td>1.364231</td>\n",
       "      <td>0.196983</td>\n",
       "      <td>-0.336547</td>\n",
       "      <td>-1.220573</td>\n",
       "      <td>-0.916018</td>\n",
       "      <td>0.652576</td>\n",
       "      <td>-1.033563</td>\n",
       "      <td>0.568776</td>\n",
       "      <td>-0.572988</td>\n",
       "      <td>1.734363</td>\n",
       "      <td>-1.092237</td>\n",
       "    </tr>\n",
       "    <tr>\n",
       "      <th>4</th>\n",
       "      <td>-1.330797</td>\n",
       "      <td>0.196983</td>\n",
       "      <td>-1.021164</td>\n",
       "      <td>-1.220573</td>\n",
       "      <td>0.797767</td>\n",
       "      <td>0.652576</td>\n",
       "      <td>0.967527</td>\n",
       "      <td>0.223765</td>\n",
       "      <td>-0.572988</td>\n",
       "      <td>-0.576580</td>\n",
       "      <td>-1.092237</td>\n",
       "    </tr>\n",
       "  </tbody>\n",
       "</table>\n",
       "</div>"
      ],
      "text/plain": [
       "   CreditScore       Age    Tenure   Balance  NumOfProducts  HasCrCard  \\\n",
       "0     2.066384  0.862946 -1.021164 -1.220573      -0.916018   0.652576   \n",
       "1     0.011555 -1.039807  1.717307  0.052520      -0.916018   0.652576   \n",
       "2     0.662079 -0.468981  1.717307 -1.220573       0.797767   0.652576   \n",
       "3     1.364231  0.196983 -0.336547 -1.220573      -0.916018   0.652576   \n",
       "4    -1.330797  0.196983 -1.021164 -1.220573       0.797767   0.652576   \n",
       "\n",
       "   IsActiveMember  EstimatedSalary  Geography_Germany  Geography_Spain  \\\n",
       "0       -1.033563         1.202714          -0.572988         1.734363   \n",
       "1        0.967527        -0.443548          -0.572988        -0.576580   \n",
       "2        0.967527        -0.347161          -0.572988        -0.576580   \n",
       "3       -1.033563         0.568776          -0.572988         1.734363   \n",
       "4        0.967527         0.223765          -0.572988        -0.576580   \n",
       "\n",
       "   Gender_Male  \n",
       "0     0.915552  \n",
       "1     0.915552  \n",
       "2     0.915552  \n",
       "3    -1.092237  \n",
       "4    -1.092237  "
      ]
     },
     "metadata": {},
     "output_type": "display_data"
    },
    {
     "name": "stdout",
     "output_type": "stream",
     "text": [
      "(2000, 11)\n"
     ]
    }
   ],
   "source": [
    "# создадим копии выборок для последующего масштабирования численных признаков\n",
    "features_train_ohe_scaler = features_train_ohe.copy()\n",
    "features_train_valid_ohe_scaler = features_train_valid_ohe.copy()\n",
    "features_valid_ohe_scaler = features_valid_ohe.copy()\n",
    "features_test_ohe_scaler = features_test_ohe.copy()\n",
    "\n",
    "# чтобы не появлялось предупреждение 'SettingWithCopy', добавим данную строку\n",
    "pd.options.mode.chained_assignment = None \n",
    "\n",
    "# создадим объект класса StandardScaler()\n",
    "scaler = StandardScaler()\n",
    "\n",
    "# с помощью метода .fit() настроим объект на обучающих данных,\n",
    "# где настройка — это вычисление среднего и дисперсии\n",
    "scaler.fit(features_train_ohe_scaler[numeric]) \n",
    "\n",
    "# преобразуем обучающую выборку функцией transform(), \n",
    "# т.е. нормируем значения признаков - все значения\n",
    "# становятся в диапазоне от 0 до 1\n",
    "features_train_ohe_scaler[numeric] = scaler.transform(\n",
    "    features_train_ohe_scaler[numeric])  \n",
    "\n",
    "# преобразуем промежуточную выборку функцией transform()\n",
    "features_train_valid_ohe_scaler[numeric] = scaler.transform(\n",
    "    features_train_valid_ohe_scaler[numeric])\n",
    "                                                                    \n",
    "# преобразуем валидационную выборку функцией transform()\n",
    "features_valid_ohe_scaler[numeric] = scaler.transform(\n",
    "    features_valid_ohe_scaler[numeric])\n",
    "\n",
    "# преобразуем тестовую выборку функцией transform()\n",
    "features_test_ohe_scaler[numeric] = scaler.transform(\n",
    "    features_test_ohe_scaler[numeric])  \n",
    "\n",
    "display(\"Выборка 'train'\", features_train_ohe_scaler.head())\n",
    "print(features_train_ohe_scaler.shape)\n",
    "\n",
    "display(\"Выборка 'train_valid'\", features_train_valid_ohe_scaler.head())\n",
    "print(features_train_valid_ohe_scaler.shape)\n",
    "\n",
    "display(\"Выборка 'valid'\", features_valid_ohe_scaler.head())\n",
    "print(features_valid_ohe_scaler.shape)\n",
    "\n",
    "display(\"Выборка 'test'\", features_test_ohe_scaler.head())\n",
    "print(features_test_ohe_scaler.shape)"
   ]
  },
  {
   "cell_type": "markdown",
   "metadata": {},
   "source": [
    "Проверим типы данных признаков."
   ]
  },
  {
   "cell_type": "code",
   "execution_count": 32,
   "metadata": {},
   "outputs": [
    {
     "name": "stdout",
     "output_type": "stream",
     "text": [
      "<class 'pandas.core.frame.DataFrame'>\n",
      "RangeIndex: 6000 entries, 0 to 5999\n",
      "Data columns (total 11 columns):\n",
      " #   Column             Non-Null Count  Dtype  \n",
      "---  ------             --------------  -----  \n",
      " 0   CreditScore        6000 non-null   float64\n",
      " 1   Age                6000 non-null   float64\n",
      " 2   Tenure             6000 non-null   float64\n",
      " 3   Balance            6000 non-null   float64\n",
      " 4   NumOfProducts      6000 non-null   float64\n",
      " 5   HasCrCard          6000 non-null   float64\n",
      " 6   IsActiveMember     6000 non-null   float64\n",
      " 7   EstimatedSalary    6000 non-null   float64\n",
      " 8   Geography_Germany  6000 non-null   float64\n",
      " 9   Geography_Spain    6000 non-null   float64\n",
      " 10  Gender_Male        6000 non-null   float64\n",
      "dtypes: float64(11)\n",
      "memory usage: 515.8 KB\n"
     ]
    }
   ],
   "source": [
    "features_train_ohe_scaler.info()"
   ]
  },
  {
   "cell_type": "markdown",
   "metadata": {},
   "source": [
    "### Вывод\n",
    "<a name=\"37\"></a> <div style=\"text-align: left\">[Cодержание](#Содержание)</div>"
   ]
  },
  {
   "cell_type": "markdown",
   "metadata": {},
   "source": [
    "В разделе [**Подготовка данных**](#Подготовка-данных) были выполнены следующие задачи:\n",
    "1. Получена общая информация о датасете.\n",
    "2. Обработаны пропуски.\n",
    "3. Удалены лишние признаки.\n",
    "4. Данные разделены на выборки.\n",
    "5. Выполнено кодирование категориальных признаков с помощью техники прямого кодирования *One-Hot Encoding* (*OHE*).\n",
    "6. Выполнено масштабирование численных признаков.\n",
    "\n",
    "\n",
    "В результате выполнения задач этого раздела было выявлено следующее:\n",
    "- В датасете содержатся и численные, и категориальные признаки.\n",
    "- Явные дубликаты в датафрейме отсутствуют.\n",
    "- Пропуски присутствовали только в признаке `Tenure`.\n",
    "- Лучшим способом обработки пропусков в признаке `Tenure` было выбрано заполнение случайными числами.\n",
    "- В таргете `Exited` присутствует дисбаланс классов.\n",
    "\n",
    "**В нашем проекте решается задача бинарной классификации.**\n",
    "\n",
    "Таким образом, данные подготовлены для обучения моделей."
   ]
  },
  {
   "cell_type": "markdown",
   "metadata": {},
   "source": [
    "## Исследование задачи без учёта дисбаланса\n",
    "<a name=\"4\"></a> <div style=\"text-align: left\">[Cодержание](#Содержание)</div>"
   ]
  },
  {
   "cell_type": "markdown",
   "metadata": {},
   "source": [
    "Исследуем баланс классов, обучим модели без учёта дисбаланса.\n",
    "\n",
    "Как уже отмечалось выше, датасет не сбалансирован в таргете, т.е в целевом признаке `Exited`.\n",
    "\n",
    "К сведению, в исследовании встречается слово `таргет`, обозначающее целевой признак."
   ]
  },
  {
   "cell_type": "code",
   "execution_count": 33,
   "metadata": {},
   "outputs": [
    {
     "data": {
      "text/plain": [
       "0    7963\n",
       "1    2037\n",
       "Name: Exited, dtype: int64"
      ]
     },
     "execution_count": 33,
     "metadata": {},
     "output_type": "execute_result"
    }
   ],
   "source": [
    "target.value_counts()"
   ]
  },
  {
   "cell_type": "markdown",
   "metadata": {},
   "source": [
    "Состав классов в таргете показывает, что количество ушедших клиентов (положительных ответов) почти в 4 раза меньше, чем оставшихся в банке.\n",
    "\n",
    "Исследуем качество разных моделей, меняя гиперпараметры. Т.к. в таргете только два класса объектов (\"0\" и \"1\"), то в нашем случае решается задача бинарной классификации."
   ]
  },
  {
   "cell_type": "markdown",
   "metadata": {},
   "source": [
    "### `DecisionTreeClassifier` при дисбалансе в таргете\n",
    "<a name=\"41\"></a> <div style=\"text-align: left\">[Cодержание](#Содержание)</div>"
   ]
  },
  {
   "cell_type": "markdown",
   "metadata": {},
   "source": [
    "Классифицируем валидационные данные с помощью модели **дерева решений *Decision Tree*** при дисбалансе классов в таргете.\n",
    "\n",
    "Для построения графиков зависимости *F1*-меры от глубины дерева `max_depth` на обучающей и валидационной выборках дополнительно создадим следующие списки:\n",
    "- `list_depth_dt` - список со значениями глубины дерева `max_depth`;\n",
    "- `list_f1_dt_train` - список со значениями *F1*-меры на обучающей выборке;\n",
    "- `list_f1_dt_valid` - список со значениями *F1*-меры на валидационной выборке.\n",
    "\n",
    "Библиотека `tqdm` позволяет наглядно проиллюстрировать ход выполнения программы."
   ]
  },
  {
   "cell_type": "code",
   "execution_count": 34,
   "metadata": {},
   "outputs": [
    {
     "name": "stderr",
     "output_type": "stream",
     "text": [
      "100%|██████████| 10/10 [00:00<00:00, 37.12it/s]"
     ]
    },
    {
     "name": "stdout",
     "output_type": "stream",
     "text": [
      "Best model DT valid: DecisionTreeClassifier(max_depth=8, random_state=12345)\n",
      "Best max_depth DT valid: 8\n",
      "Best F1-score DT valid: 0.59\n",
      "Best AUC-ROC DT valid: 0.81\n",
      "CPU times: user 277 ms, sys: 0 ns, total: 277 ms\n",
      "Wall time: 275 ms\n"
     ]
    },
    {
     "name": "stderr",
     "output_type": "stream",
     "text": [
      "\n"
     ]
    }
   ],
   "source": [
    "%%time\n",
    "\n",
    "# лучшая модель (модель с самым высоким значением F1-меры)\n",
    "best_model_dt = None\n",
    "# глубина дерева лучшей модели\n",
    "best_depth_dt = 0\n",
    "# F1-мера лучшей модели\n",
    "best_f1_dt = 0\n",
    "# AUC-ROC лучшей модели\n",
    "best_roc_auc_dt = 0\n",
    "\n",
    "# список с глубиной дерева max_depth \n",
    "list_depth_dt = []\n",
    "# список с F1-мерой на обучающей выборке\n",
    "list_f1_dt_train = []\n",
    "# список с F1-мерой на валидационной выборке\n",
    "list_f1_dt_valid = []\n",
    "\n",
    "# напишем цикл для гиперпараметра max_depth от 1 до 10\n",
    "for depth in tqdm(range(1, 11, 1)):\n",
    "    # построим модель дерева решений model_dt, \n",
    "    # указав максимально допустимую глубину дерева max_depth\n",
    "    model_dt = DecisionTreeClassifier(random_state=RANDOM_STATE, \n",
    "                                      max_depth=depth)\n",
    "    # обучим модель на обучающей выборке\n",
    "    model_dt.fit(features_train_ohe_scaler, target_train)\n",
    "        \n",
    "    # получим предсказания модели на обучающей выборке\n",
    "    predictions_dt_train = pd.Series(\n",
    "        model_dt.predict(features_train_ohe_scaler))\n",
    "    # рассчитаем F1-меру на обучающей выборке\n",
    "    f1_dt_train = f1_score(target_train, predictions_dt_train)    \n",
    "    \n",
    "    # получим предсказания модели на валидационной выборке\n",
    "    predictions_dt_valid = pd.Series(\n",
    "        model_dt.predict(features_valid_ohe_scaler))\n",
    "    # рассчитаем F1-меру на валидационной выборке\n",
    "    f1_dt_valid = f1_score(\n",
    "        target_valid, predictions_dt_valid)     \n",
    "    \n",
    "    # список с глубиной дерева max_depth\n",
    "    list_depth_dt.append(depth) \n",
    "    # список с F1-мерой модели на обучающей выборке\n",
    "    list_f1_dt_train.append(f1_dt_train)\n",
    "    # список с F1-мерой модели на валидационной выборке\n",
    "    list_f1_dt_valid.append(f1_dt_valid)    \n",
    "    \n",
    "    # найдём значения вероятностей классов на валидационной выборке\n",
    "    probabilities_dt_valid = model_dt.predict_proba(\n",
    "        features_valid_ohe_scaler)\n",
    "    # в переменной probabilities_one_dt_valid сохраним значения \n",
    "    # вероятностей класса «1»\n",
    "    probabilities_one_dt_valid = probabilities_dt_valid[:, 1]\n",
    "    # посчитаем AUC-ROC\n",
    "    roc_auc_dt_valid = roc_auc_score(\n",
    "        target_valid, probabilities_one_dt_valid)\n",
    "    \n",
    "    # сохраним лучшие параметры\n",
    "    if f1_dt_valid > best_f1_dt:\n",
    "        # сохраним лучшую модель\n",
    "        best_model_dt = model_dt\n",
    "        # сохраним глубину дерева лучшей модели \n",
    "        # на валидационной выборке\n",
    "        best_depth_dt = depth \n",
    "        # сохраним F1-меру лучшей модели на валидационной выборке\n",
    "        best_f1_dt = f1_dt_valid\n",
    "        # сохраним AUC-ROC лучшей модели на валидационной выборке\n",
    "        best_roc_auc_dt = roc_auc_dt_valid\n",
    "            \n",
    "\n",
    "print('Best model DT valid:', best_model_dt)\n",
    "print('Best max_depth DT valid:', best_depth_dt)\n",
    "print(f'Best F1-score DT valid: {best_f1_dt:.2f}')\n",
    "print(f'Best AUC-ROC DT valid: {best_roc_auc_dt:.2f}')"
   ]
  },
  {
   "cell_type": "markdown",
   "metadata": {},
   "source": [
    "Лучшая модель дерева решений **`DecisionTreeClassifier`** на валидационной выборке при дисбалансе в таргете имеет значения метрик оценки качества:\n",
    "- ***F1-мера = 0.59***\n",
    "- ***AUC-ROC = 0.81*** \n",
    "\n",
    "при следующих параметрах:\n",
    "- глубина дерева: `max_depth` = 8\n",
    "\n",
    "Т.е. *F1*-мера достигает заданный порог 0,59."
   ]
  },
  {
   "cell_type": "markdown",
   "metadata": {},
   "source": [
    "Выведем полученные списки `list_depth_dt`, `list_f1_dt_train` и `list_f1_dt_valid`."
   ]
  },
  {
   "cell_type": "code",
   "execution_count": 35,
   "metadata": {},
   "outputs": [
    {
     "data": {
      "text/plain": [
       "[1, 2, 3, 4, 5, 6, 7, 8, 9, 10]"
      ]
     },
     "execution_count": 35,
     "metadata": {},
     "output_type": "execute_result"
    }
   ],
   "source": [
    "# список с глубиной дерева max_depth\n",
    "list_depth_dt"
   ]
  },
  {
   "cell_type": "code",
   "execution_count": 36,
   "metadata": {},
   "outputs": [
    {
     "data": {
      "text/plain": [
       "[0.0,\n",
       " 0.510659395141299,\n",
       " 0.42576687116564416,\n",
       " 0.5267712276906437,\n",
       " 0.5067290813341135,\n",
       " 0.5794491525423728,\n",
       " 0.6149162861491629,\n",
       " 0.6685878962536023,\n",
       " 0.7049258727881398,\n",
       " 0.7335606429615198]"
      ]
     },
     "execution_count": 36,
     "metadata": {},
     "output_type": "execute_result"
    }
   ],
   "source": [
    "# список с F1-мерой модели на обучающей выборке\n",
    "list_f1_dt_train"
   ]
  },
  {
   "cell_type": "code",
   "execution_count": 37,
   "metadata": {},
   "outputs": [
    {
     "data": {
      "text/plain": [
       "[0.0,\n",
       " 0.514792899408284,\n",
       " 0.375,\n",
       " 0.5168539325842697,\n",
       " 0.46315789473684216,\n",
       " 0.5344,\n",
       " 0.558641975308642,\n",
       " 0.5939741750358679,\n",
       " 0.5819209039548023,\n",
       " 0.5354558610709117]"
      ]
     },
     "execution_count": 37,
     "metadata": {},
     "output_type": "execute_result"
    }
   ],
   "source": [
    "# список с F1-мерой модели на валидационной выборке\n",
    "list_f1_dt_valid"
   ]
  },
  {
   "cell_type": "markdown",
   "metadata": {},
   "source": [
    "Построим график зависимости *F1*-меры модели дерева решений от глубины дерева `max_depth` на обучающей и валидационной выборках."
   ]
  },
  {
   "cell_type": "code",
   "execution_count": 38,
   "metadata": {},
   "outputs": [
    {
     "data": {
      "image/png": "[encoded data removed]",
      "text/plain": [
       "<Figure size 1008x432 with 1 Axes>"
      ]
     },
     "metadata": {
      "needs_background": "light"
     },
     "output_type": "display_data"
    }
   ],
   "source": [
    "plt.figure(figsize=(14, 6))\n",
    "plt.grid(True)\n",
    "plt.plot(list_depth_dt, list_f1_dt_train)\n",
    "plt.plot(list_depth_dt, list_f1_dt_valid)\n",
    "plt.legend(['Обучающая выборка', 'Валидационная выборка'])\n",
    "plt.xlabel('Глубина дерева (max_depth)')\n",
    "plt.ylabel('F1-мера')\n",
    "plt.title('Зависимость F1-меры модели дерева решений \\\n",
    "от глубины дерева при дисбалансе классов в таргете')\n",
    "plt.show()"
   ]
  },
  {
   "cell_type": "markdown",
   "metadata": {},
   "source": [
    "На графике видно, что переобучение наступает при глубине дерева `max_depth` > 6."
   ]
  },
  {
   "cell_type": "markdown",
   "metadata": {},
   "source": [
    "### `RandomForestClassifier` при дисбалансе в таргете\n",
    "<a name=\"42\"></a> <div style=\"text-align: left\">[Cодержание](#Содержание)</div>"
   ]
  },
  {
   "cell_type": "markdown",
   "metadata": {},
   "source": [
    "Классифицируем валидационные данные с помощью модели **случайного леса *Random Forest*** при дисбалансе классов в таргете.\n",
    "\n",
    "Добавим дополнительный гиперпараметр `n_estimators` - количество деревьев."
   ]
  },
  {
   "cell_type": "code",
   "execution_count": 39,
   "metadata": {},
   "outputs": [
    {
     "name": "stderr",
     "output_type": "stream",
     "text": [
      "100%|██████████| 4/4 [00:02<00:00,  1.67it/s]"
     ]
    },
    {
     "name": "stdout",
     "output_type": "stream",
     "text": [
      "Best model RF valid: RandomForestClassifier(max_depth=10, n_estimators=26, random_state=12345)\n",
      "Best max_depth RF valid: 10\n",
      "Best n_estimators RF valid: 26\n",
      "Best F1-score RF valid: 0.56\n",
      "Best AUC-ROC RF valid: 0.86\n",
      "CPU times: user 2.37 s, sys: 11.6 ms, total: 2.38 s\n",
      "Wall time: 2.39 s\n"
     ]
    },
    {
     "name": "stderr",
     "output_type": "stream",
     "text": [
      "\n"
     ]
    }
   ],
   "source": [
    "%%time\n",
    "\n",
    "# лучшая модель (модель с самым высоким значением F1-меры)\n",
    "best_model_rf = None\n",
    "# количество деревьев лучшей модели\n",
    "best_est_rf = 0\n",
    "# глубина дерева лучшей модели\n",
    "best_depth_rf = 0\n",
    "# F1-мера лучшей модели\n",
    "best_f1_rf = 0\n",
    "# AUC-ROC лучшей модели\n",
    "best_roc_auc_rf = 0\n",
    "\n",
    "# напишем два цикла для гиперпараметров n_estimators и max_depth\n",
    "for est in tqdm(range(23, 27, 1)):\n",
    "    for depth in range (7, 11, 1):\n",
    "        # построим модель случайного леса с заданным количеством деревьев \n",
    "        # n_estimators и глубиной дерева max_depth,\n",
    "        model_rf = RandomForestClassifier(max_depth=depth, \n",
    "                                          n_estimators=est, \n",
    "                                          random_state=RANDOM_STATE)\n",
    "        # обучим модель на обучающей выборке\n",
    "        model_rf.fit(features_train_ohe_scaler, target_train)\n",
    "        \n",
    "        # получим предсказания модели на валидационной выборке\n",
    "        predictions_rf_valid = pd.Series(\n",
    "            model_rf.predict(features_valid_ohe_scaler))\n",
    "        # рассчитаем F1-меру на валидационной выборке\n",
    "        f1_rf_valid = f1_score(\n",
    "            target_valid, predictions_rf_valid)\n",
    "        \n",
    "        # найдём значения вероятностей классов на валидационной выборке\n",
    "        probabilities_rf_valid = model_rf.predict_proba(\n",
    "            features_valid_ohe_scaler)\n",
    "        # в переменной probabilities_one_rf_valid сохраним значения \n",
    "        # вероятностей класса «1»\n",
    "        probabilities_one_rf_valid = probabilities_rf_valid[:, 1]\n",
    "        # посчитаем AUC-ROC\n",
    "        roc_auc_rf_valid = roc_auc_score(\n",
    "            target_valid, probabilities_one_rf_valid)\n",
    "        \n",
    "        # сохраним лучшие параметры\n",
    "        if f1_rf_valid > best_f1_rf:\n",
    "            # сохраним лучшую модель\n",
    "            best_model_rf = model_rf\n",
    "            # сохраним количество деревьев лучшей модели\n",
    "            # на валидационной выборке\n",
    "            best_est_rf = est \n",
    "            # сохраним глубину дерева лучшей модели \n",
    "            # на валидационной выборке\n",
    "            best_depth_rf = depth\n",
    "            # сохраним F1-меру лучшей модели на валидационной выборке\n",
    "            best_f1_rf = f1_rf_valid\n",
    "            # сохраним AUC-ROC лучшей модели на валидационной выборке\n",
    "            best_roc_auc_rf = roc_auc_rf_valid\n",
    "\n",
    "            \n",
    "print('Best model RF valid:', best_model_rf)\n",
    "print('Best max_depth RF valid:', best_depth_rf)\n",
    "print('Best n_estimators RF valid:', best_est_rf)\n",
    "print(f'Best F1-score RF valid: {best_f1_rf:.2f}')\n",
    "print(f'Best AUC-ROC RF valid: {best_roc_auc_rf:.2f}')"
   ]
  },
  {
   "cell_type": "markdown",
   "metadata": {},
   "source": [
    "Лучшая модель случайного леса **`RandomForestClassifier`** на валидационной выборке при дисбалансе в таргете имеет значения метрик оценки качества:\n",
    "- ***F1-мера = 0.63***\n",
    "- ***AUC-ROC = 0.87*** \n",
    "\n",
    "при следующих параметрах:\n",
    "- глубина дерева: `max_depth` = 10\n",
    "- количество деревьев: `n_estimators` = 26\n",
    "\n",
    "Т.е. *F1*-мера превышает заданный порог 0,59. Значение *F1*-меры модели случайного леса на валидационной выборке выше, чем у модели дерева решений."
   ]
  },
  {
   "cell_type": "markdown",
   "metadata": {},
   "source": [
    "### `RandomForestClassifier`+ `GridSearchCV` при дисбалансе в таргете\n",
    "<a name=\"43\"></a> <div style=\"text-align: left\">[Cодержание](#Содержание)</div>"
   ]
  },
  {
   "cell_type": "markdown",
   "metadata": {},
   "source": [
    "Для получения лучшей модели **случайного леса *Random Forest*** можно автоматически подбирать гиперпараметры с помощью функции **`GridSearchCV`**. Функция `GridSearchCV` самостоятельно делит выборку на обучающую и валидационную. Поэтому мы можем её применить к промежуточной выборке `train_valid`, оставшейся после выделения тестовой выборки из исходных данных.\n",
    "\n",
    "Построим модель `model_rf_grid` с помощью функции `GridSearchCV`, укажем значение параметра кроссвалидации `cv=5`. В параметре `scoring` указываем метрики, которые нам необходимо расчитать - `'f1'` и `'roc_auc'`, а в `refit` указываем метрику, по которой будут сравниваться модели - `'f1'` (она выводится в `best_score_`)."
   ]
  },
  {
   "cell_type": "code",
   "execution_count": 40,
   "metadata": {},
   "outputs": [
    {
     "name": "stdout",
     "output_type": "stream",
     "text": [
      "Best model RF+GridSearchCV: RandomForestClassifier(max_depth=14, n_estimators=65, random_state=12345)\n",
      "Best params RF+GridSearchCV: {'max_depth': 14, 'n_estimators': 65}\n",
      "Best F1-score RF+GridSearchCV: 0.57\n",
      "Best AUC-ROC RF+GridSearchCV: 0.85\n",
      "CPU times: user 40.3 s, sys: 86 ms, total: 40.4 s\n",
      "Wall time: 40.4 s\n"
     ]
    }
   ],
   "source": [
    "%%time\n",
    "\n",
    "# построим модель случайного леса rf\n",
    "rf = RandomForestClassifier(random_state=RANDOM_STATE)\n",
    "\n",
    "# отдельно создадим словарь с гиперпараметрами n_estimators и max_depth\n",
    "parameters = {'n_estimators': range (65, 69, 1), 'max_depth': range (12, 16, 1)}\n",
    "                                          \n",
    "model_rf_grid = GridSearchCV(rf, parameters, cv=5, scoring=['f1', 'roc_auc'], refit='f1')\n",
    "# обучим модель model_grid на обучающей выборке\n",
    "model_rf_grid.fit(features_train_valid_ohe_scaler, target_train_valid)\n",
    "\n",
    "print(f'Best model RF+GridSearchCV: {model_rf_grid.best_estimator_}')\n",
    "print(f'Best params RF+GridSearchCV: {model_rf_grid.best_params_}')\n",
    "print(f'Best F1-score RF+GridSearchCV: {model_rf_grid.best_score_:.2f}')\n",
    "\n",
    "# AUC-ROC лучшей модели случайного леса можно получить \n",
    "# из словаря cv_results_ при помощи нахождения среднего значения \n",
    "# в списке с ключом 'mean_test_roc_auc' \n",
    "print(f'Best AUC-ROC RF+GridSearchCV: {model_rf_grid.cv_results_[\"mean_test_roc_auc\"].mean():.2f}')"
   ]
  },
  {
   "cell_type": "markdown",
   "metadata": {},
   "source": [
    "Лучшая модель случайного леса **`RandomForestClassifier`** с помощью функции `GridSearchCV` на валидационной выборке при дисбалансе в таргете получила значения метрик оценки качества:\n",
    "- ***F1-мера = 0.57***\n",
    "- ***AUC-ROC = 0.85*** \n",
    "\n",
    "при следующих параметрах:\n",
    "- глубина дерева: `max_depth` = 14\n",
    "- количество деревьев: `n_estimators` = 65\n",
    "\n",
    "Т.е. *F1*-мера не превышает заданный порог 0,59. Таким образом, функция `GridSearchCV` в качестве лучшей вывела менее качественную модель случайного леса по сравнению с первым вариантом без использования кросс-валидации."
   ]
  },
  {
   "cell_type": "markdown",
   "metadata": {},
   "source": [
    "### `LogisticRegression` при дисбалансе в таргете\n",
    "<a name=\"44\"></a> <div style=\"text-align: left\">[Cодержание](#Содержание)</div>"
   ]
  },
  {
   "cell_type": "markdown",
   "metadata": {},
   "source": [
    "Классифицируем валидационные данные с помощью модели **логистической регрессии *Logistic Regression*** при дисбалансе классов в таргете.\n",
    "\n",
    "Добавим дополнительные гиперпараметры: `solver='lbfgs'` и `max_iter=1000`. Первый гиперпараметр позволяет выбрать алгоритм, который будет строить модель. Алгоритм `'lbfgs'` — один из самых распространённых. Он подходит для большинства задач. Гиперпараметром `max_iter` задаётся максимальное количество итераций обучения. Значение этого параметра по умолчанию равно 100, но в некоторых случаях понадобится больше итераций."
   ]
  },
  {
   "cell_type": "code",
   "execution_count": 41,
   "metadata": {},
   "outputs": [
    {
     "name": "stdout",
     "output_type": "stream",
     "text": [
      "Best F1-score LR valid: 0.32\n",
      "Best AUC-ROC LR valid: 0.79\n",
      "CPU times: user 62.5 ms, sys: 32.1 ms, total: 94.6 ms\n",
      "Wall time: 111 ms\n"
     ]
    }
   ],
   "source": [
    "%%time\n",
    "\n",
    "model_lr = LogisticRegression(random_state=RANDOM_STATE, solver='lbfgs', max_iter=1000) \n",
    "model_lr.fit(features_train_ohe_scaler, target_train) \n",
    "\n",
    "# получим предсказания модели на валидационной выборке\n",
    "predictions_lr_valid = pd.Series(model_lr.predict(features_valid_ohe_scaler))\n",
    "# рассчитаем F1-меру на валидационной выборке\n",
    "f1_lr_valid = f1_score(target_valid, predictions_lr_valid)\n",
    "\n",
    "# найдём значения вероятностей классов на валидационной выборке\n",
    "probabilities_lr_valid = model_lr.predict_proba(features_valid_ohe_scaler)\n",
    "# в переменной probabilities_one_lr_valid сохраним значения \n",
    "# вероятностей класса «1»\n",
    "probabilities_one_lr_valid = probabilities_lr_valid[:, 1]\n",
    "# посчитаем AUC-ROC \n",
    "roc_auc_lr_valid = roc_auc_score(target_valid, probabilities_one_lr_valid)\n",
    "\n",
    "print(f'Best F1-score LR valid: {f1_lr_valid:.2f}')\n",
    "print(f'Best AUC-ROC LR valid: {roc_auc_lr_valid:.2f}')"
   ]
  },
  {
   "cell_type": "markdown",
   "metadata": {},
   "source": [
    "Модель логистической регрессии **`LogisticRegression`** на валидационной выборке при дисбалансе в таргете имеет значения метрик оценки качества:\n",
    "- ***F1-мера = 0.32***\n",
    "- ***AUC-ROC = 0.79***\n",
    "\n",
    "Т.е. *F1*-мера не превышает заданный порог 0,59 и существенно ниже, чем у моделей дерева решений и случайного леса.\n",
    " \n",
    "Итак, на валидационной выборке по метрике *F1*-мера лидирует модель случайного леса `RandomForestClassifier` без использования функции `GridSearchCV`."
   ]
  },
  {
   "cell_type": "markdown",
   "metadata": {},
   "source": [
    "### Сравнение моделей\n",
    "<a name=\"45\"></a> <div style=\"text-align: left\">[Cодержание](#Содержание)</div>"
   ]
  },
  {
   "cell_type": "markdown",
   "metadata": {},
   "source": [
    "Выведем значения метрик *F1*-мера и *AUC-ROC* разных моделей на валидационной выборке при дисбалансе классов в виде таблицы `table`."
   ]
  },
  {
   "cell_type": "code",
   "execution_count": 42,
   "metadata": {},
   "outputs": [
    {
     "name": "stdout",
     "output_type": "stream",
     "text": [
      "F1-мера и AUC-ROC разных моделей при дисбалансе классов\n"
     ]
    },
    {
     "data": {
      "text/html": [
       "<div>\n",
       "<style scoped>\n",
       "    .dataframe tbody tr th:only-of-type {\n",
       "        vertical-align: middle;\n",
       "    }\n",
       "\n",
       "    .dataframe tbody tr th {\n",
       "        vertical-align: top;\n",
       "    }\n",
       "\n",
       "    .dataframe thead th {\n",
       "        text-align: right;\n",
       "    }\n",
       "</style>\n",
       "<table border=\"1\" class=\"dataframe\">\n",
       "  <thead>\n",
       "    <tr style=\"text-align: right;\">\n",
       "      <th></th>\n",
       "      <th>model</th>\n",
       "      <th>F1-score valid</th>\n",
       "      <th>AUC-ROC valid</th>\n",
       "    </tr>\n",
       "  </thead>\n",
       "  <tbody>\n",
       "    <tr>\n",
       "      <th>0</th>\n",
       "      <td>DecisionTreeClassifier</td>\n",
       "      <td>0.59</td>\n",
       "      <td>0.81</td>\n",
       "    </tr>\n",
       "    <tr>\n",
       "      <th>1</th>\n",
       "      <td>RandomForestClassifier</td>\n",
       "      <td>0.56</td>\n",
       "      <td>0.86</td>\n",
       "    </tr>\n",
       "    <tr>\n",
       "      <th>2</th>\n",
       "      <td>RandomForestClassifier + GridSearchCV</td>\n",
       "      <td>0.57</td>\n",
       "      <td>0.85</td>\n",
       "    </tr>\n",
       "    <tr>\n",
       "      <th>3</th>\n",
       "      <td>LogisticRegression</td>\n",
       "      <td>0.32</td>\n",
       "      <td>0.79</td>\n",
       "    </tr>\n",
       "  </tbody>\n",
       "</table>\n",
       "</div>"
      ],
      "text/plain": [
       "                                   model F1-score valid AUC-ROC valid\n",
       "0                 DecisionTreeClassifier           0.59          0.81\n",
       "1                 RandomForestClassifier           0.56          0.86\n",
       "2  RandomForestClassifier + GridSearchCV           0.57          0.85\n",
       "3                     LogisticRegression           0.32          0.79"
      ]
     },
     "execution_count": 42,
     "metadata": {},
     "output_type": "execute_result"
    }
   ],
   "source": [
    "table = pd.DataFrame([\n",
    "    ['DecisionTreeClassifier', \n",
    "     f'{best_f1_dt:.2f}', f'{best_roc_auc_dt:.2f}'],\n",
    "    ['RandomForestClassifier', \n",
    "     f'{best_f1_rf:.2f}', f'{best_roc_auc_rf:.2f}'],\n",
    "    ['RandomForestClassifier + GridSearchCV', \n",
    "     f'{model_rf_grid.best_score_:.2f}',\n",
    "     f'{model_rf_grid.cv_results_[\"mean_test_roc_auc\"].mean():.2f}'],\n",
    "    ['LogisticRegression', f'{f1_lr_valid:.2f}', f'{roc_auc_lr_valid:.2f}']\n",
    "],\n",
    "    columns=['model', 'F1-score valid', 'AUC-ROC valid'])\n",
    "\n",
    "\n",
    "print('F1-мера и AUC-ROC разных моделей при дисбалансе классов')\n",
    "table"
   ]
  },
  {
   "cell_type": "markdown",
   "metadata": {},
   "source": [
    "Из таблицы видно, что при несбалансированном таргете только для одной модели случайного леса `RandomForestClassifier` без использования функции `GridSearchCV` метрика *F1*-мера > 0.59."
   ]
  },
  {
   "cell_type": "markdown",
   "metadata": {},
   "source": [
    "### Матрица ошибок при дисбалансе в таргете\n",
    "<a name=\"46\"></a> <div style=\"text-align: left\">[Cодержание](#Содержание)</div>"
   ]
  },
  {
   "cell_type": "markdown",
   "metadata": {},
   "source": [
    "Матрица ошибок выглядит так:\n",
    "\n",
    "|        |       |                          |                         |\n",
    "| ------ |-------| :----------------------: | :---------------------: |\n",
    "| Ответы | **0** | **True <br/> Negative**  | **False <br/> Positive**|\n",
    "| Ответы | **1** | **False <br/> Negative** | **True <br/> Positive** |\n",
    "|        |       |          **0**           |          **1**          |\n",
    "|        |       |      Предсказания        |      Предсказания       |\n",
    "\n",
    "\n",
    "Поясним обозначения:\n",
    "\n",
    "- *True Positive, TP* - истинно положительные ответы в правом нижнем углу матрицы,\n",
    "- *False Positive, FP* - ложноположительные ответы в правом верхнем углу,\n",
    "- *True Negative, TN* - истинно отрицательные ответы в левом верхнем углу,\n",
    "- *False Negative, FN* - ложноотрицательные ответы в левом нижнем углу,\n",
    "- *P = TP + FN* - общее количество положительных ответов (объекты класса \"1\"),\n",
    "- *N = FP + TN* - общее количество отрицательных ответов (объекты класса \"0\")."
   ]
  },
  {
   "cell_type": "markdown",
   "metadata": {},
   "source": [
    "Рассчитаем на валидационной выборке матрицу ошибок для модели случайного леса **`RandomForestClassifier`** при дисбалансе классов в таргете."
   ]
  },
  {
   "cell_type": "code",
   "execution_count": 43,
   "metadata": {},
   "outputs": [
    {
     "data": {
      "text/plain": [
       "0    1593\n",
       "1     407\n",
       "Name: Exited, dtype: int64"
      ]
     },
     "execution_count": 43,
     "metadata": {},
     "output_type": "execute_result"
    }
   ],
   "source": [
    "# выведем баланс классов в таргете на валидационной выборке\n",
    "target_valid.value_counts()"
   ]
  },
  {
   "cell_type": "code",
   "execution_count": 44,
   "metadata": {},
   "outputs": [
    {
     "data": {
      "image/png": "[encoded data removed]",
      "text/plain": [
       "<Figure size 600x600 with 2 Axes>"
      ]
     },
     "metadata": {
      "needs_background": "light"
     },
     "output_type": "display_data"
    }
   ],
   "source": [
    "# построим матрицу ошибок\n",
    "matrix = confusion_matrix(target_valid, \n",
    "pd.Series(model_rf.predict(features_valid_ohe_scaler)))\n",
    "\n",
    "# построим тепловую карту (хитмэп) матрицы ошибок\n",
    "plt.figure(figsize=(6, 6), dpi=100)\n",
    "sns.heatmap(matrix, annot=True, fmt='g', cmap='Oranges')\n",
    "plt.title('Матрица ошибок на RF valid при дисбалансе в таргете')\n",
    "plt.xlabel('Предсказания')\n",
    "plt.ylabel('Истинные значения')\n",
    "plt.show()"
   ]
  },
  {
   "cell_type": "markdown",
   "metadata": {},
   "source": [
    "По матрице ошибок нам необходимо определить:\n",
    "- долю ложноположительных ответов, *FP / N* (маркетологи спрогнозировали уход клиентам, которые не планировали уходить);\n",
    "- долю ложноотрицательных ответов, *FN / P* (маркетологи спрогнозировали, что клиенты останутся, при этом клиенты ушли).\n",
    "\n",
    "Для расчёта значений воспользуемся формулами:\n",
    "\n",
    "*FP / N = (FP / (FP + TN))*\n",
    "\n",
    "*FN / P = (FN / (TP + FN))*\n",
    "\n",
    "|        |        |\n",
    "| ------ | ------ |\n",
    "| **TN** | **FP** |\n",
    "| **FN** | **TP** |"
   ]
  },
  {
   "cell_type": "code",
   "execution_count": 45,
   "metadata": {},
   "outputs": [
    {
     "data": {
      "text/plain": [
       "array([[1559,   34],\n",
       "       [ 236,  171]])"
      ]
     },
     "execution_count": 45,
     "metadata": {},
     "output_type": "execute_result"
    }
   ],
   "source": [
    "matrix = confusion_matrix(target_valid, pd.Series(model_rf.predict(features_valid_ohe_scaler)))\n",
    "\n",
    "matrix"
   ]
  },
  {
   "cell_type": "markdown",
   "metadata": {},
   "source": [
    "Доля ложноположительных ответов *FP / N* на валидационной выборке."
   ]
  },
  {
   "cell_type": "code",
   "execution_count": 46,
   "metadata": {},
   "outputs": [
    {
     "name": "stdout",
     "output_type": "stream",
     "text": [
      "2%\n"
     ]
    }
   ],
   "source": [
    "fp_n = (matrix[0][1] / (matrix[0][1] + matrix[0][0]))\n",
    "print(f'{fp_n:.0%}')"
   ]
  },
  {
   "cell_type": "markdown",
   "metadata": {},
   "source": [
    "Доля ложноотрицательных ответов *FN / P* на валидационной выборке."
   ]
  },
  {
   "cell_type": "code",
   "execution_count": 47,
   "metadata": {},
   "outputs": [
    {
     "name": "stdout",
     "output_type": "stream",
     "text": [
      "58%\n"
     ]
    }
   ],
   "source": [
    "fn_p = (matrix[1][0] / (matrix[1][1] + matrix[1][0]))\n",
    "print(f'{fn_p:.0%}')"
   ]
  },
  {
   "cell_type": "markdown",
   "metadata": {},
   "source": [
    "На валидационной выборке при дисбалансе в таргете доля ложноотрицательных ответов (58%) почти в 25 раз превышает долю ложноположительных (2%), а значит модель лучше прогнозирует объекты отрицательного класса (клиенты остались), что является следствием дисбаланса классов в таргете."
   ]
  },
  {
   "cell_type": "markdown",
   "metadata": {},
   "source": [
    "### Вывод\n",
    "<a name=\"47\"></a> <div style=\"text-align: left\">[Cодержание](#Содержание)</div>"
   ]
  },
  {
   "cell_type": "markdown",
   "metadata": {},
   "source": [
    "В разделе [**Исследование задачи без учёта дисбаланса**](#Исследование-задачи-без-учёта-дисбаланса) были выполнены следующие задачи:\n",
    "1. При дисбалансе классов в таргете построены и обучены следующие модели:\n",
    "    - модель дерева решений `DecisionTreeClassifier`;\n",
    "    - модель случайного леса `RandomForestClassifier`;\n",
    "    - модель случайного леса `RandomForestClassifier` с применением функции `GridSearchCV` для автоматического подбора гиперпараметров;\n",
    "    - модель логистической регрессии `LogisticRegression`.\n",
    "2. Выведена таблица сравнения метрик *F1*-мера и *AUC-ROC* разных моделей на валидационной выборке.\n",
    "3. Рассчитана матрица ошибок.\n",
    "\n",
    "\n",
    "В результате выполнения задач этого раздела было выявлено следующее:\n",
    "- Из таблицы метрик видно, что при несбалансированном таргете для модели случайного леса `RandomForestClassifier` без использования функции `GridSearchCV` метрика *F1*-мера > 0.59. Модель дерева решений `DecisionTreeClassifier` показывает 0.59, что также соответствует условиям задачи.\n",
    "- Матрица ошибок показала, что на валидационной выборке при дисбалансе в таргете доля ложноотрицательных ответов (58%) почти в 25 раз превышает долю ложноположительных (2%), а значит модель лучше прогнозирует объекты отрицательного класса (клиенты остались), что является следствием дисбаланса классов в таргете."
   ]
  },
  {
   "cell_type": "markdown",
   "metadata": {},
   "source": [
    "## Исследование задачи с учётом дисбаланса\n",
    "<a name=\"5\"></a> <div style=\"text-align: left\">[Cодержание](#Содержание)</div>"
   ]
  },
  {
   "cell_type": "markdown",
   "metadata": {},
   "source": [
    "Улучшим качество модели, учитывая дисбаланс классов. Обучим разные модели и найдём лучшую.\n",
    "\n",
    "Проделаем те же самые действия, что и в разделе [**Исследование задачи без учёта дисбаланса**](#Исследование-задачи-без-учёта-дисбаланса), но при этом улучшим качество моделей при помощи:\n",
    "- техники *upsampling* - увеличение обучающей выборки засчёт объектов положительного класса в таргете;\n",
    "- техники *downsampling* - уменьшение обучающей выборки засчёт объектов отрицательного класса в таргете;\n",
    "- добавления в модели параметра `class_weight='balanced'` - взвешивание классов.\n",
    "\n",
    "Сэмплировать допустимо только обучающую выборку. Поэтому мы не можем здесь использовать `GridSearchCV` для построения модели случайного леса, т.к. функция `GridSearchCV` использует промежуточную выборку (`train_valid`), которую она самостоятельно делит на обучающую и валидационную.\n",
    "\n",
    "Напомним, что состав классов в таргете показывает, что количество ушедших клиентов (положительных ответов) почти в 4 раза меньше чем оставшихся в банке (отрицательных ответов)."
   ]
  },
  {
   "cell_type": "code",
   "execution_count": 48,
   "metadata": {},
   "outputs": [
    {
     "data": {
      "text/plain": [
       "0    7963\n",
       "1    2037\n",
       "Name: Exited, dtype: int64"
      ]
     },
     "execution_count": 48,
     "metadata": {},
     "output_type": "execute_result"
    }
   ],
   "source": [
    "target.value_counts()"
   ]
  },
  {
   "cell_type": "markdown",
   "metadata": {},
   "source": [
    "По этой причине, увеличим количество объектов положительного класса в 2 раза, и, одновременно, уменьшим количество объектов отрицательного класса также в 2 раза."
   ]
  },
  {
   "cell_type": "markdown",
   "metadata": {},
   "source": [
    "### *Upsampling*\n",
    "<a name=\"51\"></a> <div style=\"text-align: left\">[Cодержание](#Содержание)</div>"
   ]
  },
  {
   "cell_type": "markdown",
   "metadata": {},
   "source": [
    "Улучшим качество моделей при помощи увеличения количества объектов положительного класса \"1\" в таргете обучающей выборки.\n",
    "\n",
    "Выведем исходные размеры признаков и таргета."
   ]
  },
  {
   "cell_type": "code",
   "execution_count": 49,
   "metadata": {},
   "outputs": [
    {
     "name": "stdout",
     "output_type": "stream",
     "text": [
      "(6000, 11)\n",
      "(6000,)\n"
     ]
    }
   ],
   "source": [
    "print(features_train_ohe_scaler.shape)\n",
    "print(target_train.shape)"
   ]
  },
  {
   "cell_type": "markdown",
   "metadata": {},
   "source": [
    "Напишем функцию, которая улучшит качество моделей с помощью увеличения количества объектов положительного класса в 2 раза. Для этого разделим данные на объекты отрицательного \"0\" и положительного \"1\" классов."
   ]
  },
  {
   "cell_type": "code",
   "execution_count": 50,
   "metadata": {},
   "outputs": [],
   "source": [
    "def upsample(features, target, repeat):\n",
    "    features_zeros = features[target == 0]\n",
    "    features_ones = features[target == 1]\n",
    "    target_zeros = target[target == 0]\n",
    "    target_ones = target[target == 1]\n",
    "    \n",
    "    # продублируем объекты положительного класса \"1\"\n",
    "    # и объединим их с объектами отрицательного класса \"0\"\n",
    "    repeat = 2\n",
    "    features_upsampled = pd.concat([features_zeros] + [features_ones] * repeat)\n",
    "    target_upsampled = pd.concat([target_zeros] + [target_ones] * repeat)\n",
    "    \n",
    "    # добавим перемешивание данных\n",
    "    features_upsampled, target_upsampled = shuffle(\n",
    "        features_upsampled, target_upsampled, random_state=RANDOM_STATE)\n",
    "\n",
    "    return features_upsampled, target_upsampled"
   ]
  },
  {
   "cell_type": "markdown",
   "metadata": {},
   "source": [
    "Сэмплируем обучающую выборку `train`:"
   ]
  },
  {
   "cell_type": "code",
   "execution_count": 51,
   "metadata": {},
   "outputs": [
    {
     "name": "stdout",
     "output_type": "stream",
     "text": [
      "(7223, 11)\n",
      "(7223,)\n"
     ]
    }
   ],
   "source": [
    "features_train_upsampled, target_train_upsampled = upsample(\n",
    "    features_train_ohe_scaler, target_train, 2)\n",
    "\n",
    "print(features_train_upsampled.shape)\n",
    "print(target_train_upsampled.shape)"
   ]
  },
  {
   "cell_type": "markdown",
   "metadata": {},
   "source": [
    "### *Downsampling*\n",
    "<a name=\"52\"></a> <div style=\"text-align: left\">[Cодержание](#Содержание)</div>"
   ]
  },
  {
   "cell_type": "markdown",
   "metadata": {},
   "source": [
    "Улучшим качество моделей при помощи уменьшения количества объектов отрицательного класса \"0\" в таргете сэмплированной выше обучающей выборки.\n",
    "\n",
    "Напишем функцию, которая улучшит качество моделей с помощью уменьшения количества объектов отрицательного класса в 2 раза. Для этого разделим данные на объекты отрицательного \"0\" и положительного \"1\" классов."
   ]
  },
  {
   "cell_type": "code",
   "execution_count": 52,
   "metadata": {},
   "outputs": [],
   "source": [
    "def downsample(features, target, fraction):\n",
    "    features_zeros = features[target == 0]\n",
    "    features_ones = features[target == 1]\n",
    "    target_zeros = target[target == 0]\n",
    "    target_ones = target[target == 1]\n",
    "\n",
    "    # оставим долю объектов отрицательного класса \"0\"\n",
    "    # и объединим их с объектами положительного класса \"1\"\n",
    "    fraction = 0.5\n",
    "    features_downsampled = pd.concat(\n",
    "        [features_zeros.sample(\n",
    "            frac=fraction, random_state=RANDOM_STATE)] + [features_ones])\n",
    "    target_downsampled = pd.concat(\n",
    "        [target_zeros.sample(\n",
    "            frac=fraction, random_state=RANDOM_STATE)] + [target_ones])\n",
    "        \n",
    "    # добавим перемешивание данных\n",
    "    features_downsampled, target_downsampled = shuffle(\n",
    "        features_downsampled, target_downsampled, random_state=RANDOM_STATE)\n",
    "        \n",
    "    return features_downsampled, target_downsampled"
   ]
  },
  {
   "cell_type": "markdown",
   "metadata": {},
   "source": [
    "Сэмплируем обучающую выборку `train_upsampled`."
   ]
  },
  {
   "cell_type": "code",
   "execution_count": 53,
   "metadata": {},
   "outputs": [
    {
     "name": "stdout",
     "output_type": "stream",
     "text": [
      "(4834, 11)\n",
      "(4834,)\n"
     ]
    }
   ],
   "source": [
    "features_train_updownsampled, target_train_updownsampled = downsample(\n",
    "    features_train_upsampled, target_train_upsampled, 0.5)\n",
    "\n",
    "print(features_train_updownsampled.shape)\n",
    "print(target_train_updownsampled.shape)"
   ]
  },
  {
   "cell_type": "markdown",
   "metadata": {},
   "source": [
    "Выведем итоговые размеры признаков и таргета."
   ]
  },
  {
   "cell_type": "code",
   "execution_count": 54,
   "metadata": {},
   "outputs": [
    {
     "data": {
      "text/plain": [
       "1    2446\n",
       "0    2388\n",
       "Name: Exited, dtype: int64"
      ]
     },
     "execution_count": 54,
     "metadata": {},
     "output_type": "execute_result"
    }
   ],
   "source": [
    "target_train_updownsampled.value_counts()"
   ]
  },
  {
   "cell_type": "markdown",
   "metadata": {},
   "source": [
    "Итак, таргет обучающей выборки стал сбалансированным.\n",
    "\n",
    "Исследуем *F1*-меры разных моделей, меняя гиперпараметры, с учётом устранения дисбаланса классов (используем выборку `updownsampled`).\n",
    "\n",
    "Ко всем моделям применим взвешивание классов - добавление в модели параметра `class_weight='balanced'`."
   ]
  },
  {
   "cell_type": "markdown",
   "metadata": {},
   "source": [
    "### `DecisionTreeClassifier` при сбалансированном таргете\n",
    "<a name=\"53\"></a> <div style=\"text-align: left\">[Cодержание](#Содержание)</div>"
   ]
  },
  {
   "cell_type": "markdown",
   "metadata": {},
   "source": [
    "Классифицируем валидационные данные с помощью модели **дерева решений *Decision Tree*** при сбалансированном таргете.\n",
    "\n",
    "Для построения графиков зависимости *F1*-меры от глубины дерева `max_depth` на обучающей и валидационной выборках дополнительно создадим следующие списки:\n",
    "- `list_depth_dt_updownsampled` - список со значениями глубины дерева `max_depth`;\n",
    "- `list_f1_dt_train_updownsampled` - список со значениями *F1*-меры на обучающей выборке;\n",
    "- `list_f1_dt_valid_updownsampled` - список со значениями *F1*-меры на валидационной выборке."
   ]
  },
  {
   "cell_type": "code",
   "execution_count": 55,
   "metadata": {},
   "outputs": [
    {
     "name": "stderr",
     "output_type": "stream",
     "text": [
      "100%|██████████| 9/9 [00:00<00:00, 41.57it/s]"
     ]
    },
    {
     "name": "stdout",
     "output_type": "stream",
     "text": [
      "Best model DT valid_updownsampled: DecisionTreeClassifier(max_depth=8, random_state=12345)\n",
      "Best max_depth DT valid_updownsampled: 8\n",
      "Best F1-score DT valid_updownsampled: 0.57\n",
      "Best AUC-ROC DT valid_updownsampled: 0.80\n",
      "CPU times: user 182 ms, sys: 3.97 ms, total: 186 ms\n",
      "Wall time: 220 ms\n"
     ]
    },
    {
     "name": "stderr",
     "output_type": "stream",
     "text": [
      "\n"
     ]
    }
   ],
   "source": [
    "%%time\n",
    "\n",
    "# лучшая модель (модель с самым высоким значением F1-меры)\n",
    "best_model_dt_updownsampled = None\n",
    "# глубина дерева лучшей модели\n",
    "best_depth_dt_updownsampled = 0\n",
    "# F1-мера лучшей модели\n",
    "best_f1_dt_updownsampled = 0\n",
    "# AUC-ROC лучшей модели\n",
    "best_roc_auc_dt_updownsampled = 0\n",
    "\n",
    "# список с глубиной дерева max_depth \n",
    "list_depth_dt_updownsampled = []\n",
    "# список с F1-мерой на обучающей выборке\n",
    "list_f1_dt_train_updownsampled = []\n",
    "# список с F1-мерой на валидационной выборке\n",
    "list_f1_dt_valid_updownsampled = []\n",
    "\n",
    "# напишем цикл для гиперпараметра max_depth от 1 до 10\n",
    "for depth in tqdm(range(1, 10, 1)):\n",
    "    # построим модель дерева решений model_dt_updownsampled, \n",
    "    # указав максимально допустимую глубину дерева max_depth \n",
    "    model_dt_updownsampled = DecisionTreeClassifier(max_depth=depth,\n",
    "                                                    random_state=RANDOM_STATE)\n",
    "    # обучим модель на обучающей выборке\n",
    "    model_dt_updownsampled.fit(\n",
    "        features_train_updownsampled, target_train_updownsampled) \n",
    "        \n",
    "    # получим предсказания модели на обучающей выборке\n",
    "    predictions_dt_train_updownsampled = pd.Series(\n",
    "        model_dt_updownsampled.predict(features_train_updownsampled))\n",
    "    # рассчитаем F1-меру на обучающей выборке\n",
    "    f1_dt_train_updownsampled = f1_score(\n",
    "        target_train_updownsampled, predictions_dt_train_updownsampled)    \n",
    "    \n",
    "    # получим предсказания модели на валидационной выборке\n",
    "    predictions_dt_valid_updownsampled = pd.Series(\n",
    "        model_dt_updownsampled.predict(features_valid_ohe_scaler))\n",
    "    # рассчитаем F1-меру на валидационной выборке\n",
    "    f1_dt_valid_updownsampled = f1_score(\n",
    "        target_valid, predictions_dt_valid_updownsampled)     \n",
    "    \n",
    "    # список с глубиной дерева max_depth\n",
    "    list_depth_dt_updownsampled.append(depth) \n",
    "    # список с F1-мерой модели на обучающей выборке\n",
    "    list_f1_dt_train_updownsampled.append(f1_dt_train_updownsampled)\n",
    "    # список с F1-мерой модели на валидационной выборке\n",
    "    list_f1_dt_valid_updownsampled.append(f1_dt_valid_updownsampled)\n",
    "    \n",
    "    # найдём значения вероятностей классов на валидационной выборке\n",
    "    probabilities_dt_valid_updownsampled = model_dt_updownsampled.\\\n",
    "    predict_proba(features_valid_ohe_scaler)\n",
    "    # в переменной probabilities_one_dt_valid_updownsampled \n",
    "    # сохраним значения вероятностей класса «1»\n",
    "    probabilities_one_dt_valid_updownsampled = \\\n",
    "    probabilities_dt_valid_updownsampled[:, 1]\n",
    "    # посчитаем AUC-ROC\n",
    "    roc_auc_dt_valid_updownsampled = roc_auc_score(\n",
    "        target_valid, probabilities_one_dt_valid_updownsampled)    \n",
    "    \n",
    "    # сохраним лучшие параметры\n",
    "    if f1_dt_valid_updownsampled > best_f1_dt_updownsampled:\n",
    "        # сохраним лучшую модель:\n",
    "        best_model_dt_updownsampled = model_dt_updownsampled\n",
    "        # сохраним глубину дерева лучшей модели \n",
    "        # на валидационной выборке\n",
    "        best_depth_dt_updownsampled = depth \n",
    "        # сохраним F1-меру лучшей модели на валидационной выборке\n",
    "        best_f1_dt_updownsampled = f1_dt_valid_updownsampled\n",
    "        # сохраним AUC-ROC лучшей модели на валидационной выборке\n",
    "        best_roc_auc_dt_updownsampled = roc_auc_dt_valid_updownsampled\n",
    "        \n",
    "        \n",
    "print('Best model DT valid_updownsampled:', best_model_dt_updownsampled)\n",
    "print('Best max_depth DT valid_updownsampled:', best_depth_dt_updownsampled)\n",
    "print(f'Best F1-score DT valid_updownsampled: {best_f1_dt_updownsampled:.2f}')\n",
    "print(f'Best AUC-ROC DT valid_updownsampled: {best_roc_auc_dt_updownsampled:.2f}')"
   ]
  },
  {
   "cell_type": "markdown",
   "metadata": {},
   "source": [
    "Лучшая модель дерева решений **`DecisionTreeClassifier`** на валидационной выборке при сбалансированном таргете имеет значения метрик оценки качества:\n",
    "- ***F1-мера = 0.57***\n",
    "- ***AUC-ROC = 0.80*** \n",
    "\n",
    "при следующих параметрах:\n",
    "- глубина дерева: `max_depth` = 8\n",
    "\n",
    "Т.е. *F1*-мера не превышает заданный порог 0,59."
   ]
  },
  {
   "cell_type": "markdown",
   "metadata": {},
   "source": [
    "Выведем полученные списки `list_depth_dt_updownsampled`, `list_f1_dt_train_updownsampled` и `list_f1_dt_valid_updownsampled`."
   ]
  },
  {
   "cell_type": "code",
   "execution_count": 56,
   "metadata": {},
   "outputs": [
    {
     "data": {
      "text/plain": [
       "[1, 2, 3, 4, 5, 6, 7, 8, 9]"
      ]
     },
     "execution_count": 56,
     "metadata": {},
     "output_type": "execute_result"
    }
   ],
   "source": [
    "# список с глубиной дерева max_depth\n",
    "list_depth_dt_updownsampled"
   ]
  },
  {
   "cell_type": "code",
   "execution_count": 57,
   "metadata": {},
   "outputs": [
    {
     "data": {
      "text/plain": [
       "[0.6973478939157566,\n",
       " 0.7189292543021033,\n",
       " 0.6517448856799037,\n",
       " 0.749611197511664,\n",
       " 0.7731897067624178,\n",
       " 0.785350966429298,\n",
       " 0.8015075376884422,\n",
       " 0.8180677540777918,\n",
       " 0.8427780144865786]"
      ]
     },
     "execution_count": 57,
     "metadata": {},
     "output_type": "execute_result"
    }
   ],
   "source": [
    "# список с F1-мерой модели на обучающей выборке\n",
    "list_f1_dt_train_updownsampled"
   ]
  },
  {
   "cell_type": "code",
   "execution_count": 58,
   "metadata": {},
   "outputs": [
    {
     "data": {
      "text/plain": [
       "[0.4804381846635367,\n",
       " 0.4860681114551083,\n",
       " 0.5159817351598174,\n",
       " 0.5220883534136547,\n",
       " 0.5556514236410699,\n",
       " 0.5575539568345325,\n",
       " 0.568359375,\n",
       " 0.573134328358209,\n",
       " 0.5479166666666667]"
      ]
     },
     "execution_count": 58,
     "metadata": {},
     "output_type": "execute_result"
    }
   ],
   "source": [
    "# список с F1-мерой модели на валидационной выборке\n",
    "list_f1_dt_valid_updownsampled"
   ]
  },
  {
   "cell_type": "markdown",
   "metadata": {},
   "source": [
    "Построим график зависимости *F1*-меры модели дерева решений от глубины дерева `max_depth` на обучающей и валидационной выборках."
   ]
  },
  {
   "cell_type": "code",
   "execution_count": 59,
   "metadata": {},
   "outputs": [
    {
     "data": {
      "image/png": "[encoded data removed]",
      "text/plain": [
       "<Figure size 1008x432 with 1 Axes>"
      ]
     },
     "metadata": {
      "needs_background": "light"
     },
     "output_type": "display_data"
    }
   ],
   "source": [
    "plt.figure(figsize=(14, 6))\n",
    "plt.grid(True)\n",
    "plt.plot(list_depth_dt_updownsampled, list_f1_dt_train_updownsampled)\n",
    "plt.plot(list_depth_dt_updownsampled, list_f1_dt_valid_updownsampled)\n",
    "plt.legend(['Обучающая выборка', 'Валидационная выборка'])\n",
    "plt.xlabel('Глубина дерева (max_depth)')\n",
    "plt.ylabel('F1-мера')\n",
    "plt.title('Зависимость F1-меры модели дерева решений \\\n",
    "от глубины дерева при сбалансированном таргете')\n",
    "plt.show()"
   ]
  },
  {
   "cell_type": "markdown",
   "metadata": {},
   "source": [
    "На графике видно существенное расстояние между кривыми для обучающей и валидационной выборок. Видимо, это связано с тем, что в качестве обучающей использовалась сэмплированная обучающая выборка, а валидационная выборка при этом осталась без изменений."
   ]
  },
  {
   "cell_type": "markdown",
   "metadata": {},
   "source": [
    "Классифицируем валидационные данные с помощью модели **дерева решений *Decision Tree*** с параметром class_weight='balanced' для сравнения с up/downsampled.\n",
    "\n",
    "Для построения графиков зависимости *F1*-меры от глубины дерева `max_depth` на обучающей и валидационной выборках дополнительно создадим следующие списки:\n",
    "- `list_depth_dt_balanced` - список со значениями глубины дерева `max_depth`;\n",
    "- `list_f1_dt_train_balanced` - список со значениями *F1*-меры на обучающей выборке;\n",
    "- `list_f1_dt_valid_balanced` - список со значениями *F1*-меры на валидационной выборке."
   ]
  },
  {
   "cell_type": "code",
   "execution_count": 60,
   "metadata": {},
   "outputs": [
    {
     "name": "stderr",
     "output_type": "stream",
     "text": [
      "100%|██████████| 9/9 [00:00<00:00, 38.84it/s]"
     ]
    },
    {
     "name": "stdout",
     "output_type": "stream",
     "text": [
      "Best model DT valid_balanced: DecisionTreeClassifier(class_weight='balanced', max_depth=6, random_state=12345)\n",
      "Best max_depth DT valid_balanced: 6\n",
      "Best F1-score DT valid_balanced: 0.57\n",
      "Best AUC-ROC DT valid_balanced: 0.84\n",
      "CPU times: user 225 ms, sys: 0 ns, total: 225 ms\n",
      "Wall time: 236 ms\n"
     ]
    },
    {
     "name": "stderr",
     "output_type": "stream",
     "text": [
      "\n"
     ]
    }
   ],
   "source": [
    "%%time\n",
    "\n",
    "# лучшая модель (модель с самым высоким значением F1-меры)\n",
    "best_model_dt_balanced = None\n",
    "# глубина дерева лучшей модели\n",
    "best_depth_dt_balanced = 0\n",
    "# F1-мера лучшей модели\n",
    "best_f1_dt_balanced = 0\n",
    "# AUC-ROC лучшей модели\n",
    "best_roc_auc_dt_balanced = 0\n",
    "\n",
    "# список с глубиной дерева max_depth \n",
    "list_depth_dt_balanced = []\n",
    "# список с F1-мерой на обучающей выборке\n",
    "list_f1_dt_train_balanced = []\n",
    "# список с F1-мерой на валидационной выборке\n",
    "list_f1_dt_valid_balanced = []\n",
    "\n",
    "# напишем цикл для гиперпараметра max_depth от 1 до 10\n",
    "for depth in tqdm(range(1, 10, 1)):\n",
    "    # построим модель дерева решений model_dt_updownsampled, \n",
    "    # указав максимально допустимую глубину дерева max_depth \n",
    "    # и добавив взвешивание классов (параметр class_weight='balanced')\n",
    "    model_dt_balanced = DecisionTreeClassifier(class_weight='balanced',\n",
    "                                                    max_depth=depth,\n",
    "                                                    random_state=RANDOM_STATE)\n",
    "    # обучим модель на обучающей выборке\n",
    "    model_dt_balanced.fit(\n",
    "        features_train_ohe_scaler, target_train) \n",
    "        \n",
    "    # получим предсказания модели на обучающей выборке\n",
    "    predictions_dt_train_balanced = pd.Series(\n",
    "        model_dt_balanced.predict(features_train_ohe_scaler))\n",
    "    # рассчитаем F1-меру на обучающей выборке\n",
    "    f1_dt_train_balanced = f1_score(\n",
    "        target_train, predictions_dt_train_balanced)    \n",
    "    \n",
    "    # получим предсказания модели на валидационной выборке\n",
    "    predictions_dt_valid_balanced = pd.Series(\n",
    "        model_dt_balanced.predict(features_valid_ohe_scaler))\n",
    "    # рассчитаем F1-меру на валидационной выборке\n",
    "    f1_dt_valid_balanced = f1_score(\n",
    "        target_valid, predictions_dt_valid_balanced)     \n",
    "    \n",
    "    # список с глубиной дерева max_depth\n",
    "    list_depth_dt_balanced.append(depth) \n",
    "    # список с F1-мерой модели на обучающей выборке\n",
    "    list_f1_dt_train_balanced.append(f1_dt_train_balanced)\n",
    "    # список с F1-мерой модели на валидационной выборке\n",
    "    list_f1_dt_valid_balanced.append(f1_dt_valid_balanced)\n",
    "    \n",
    "    # найдём значения вероятностей классов на валидационной выборке\n",
    "    probabilities_dt_valid_balanced = model_dt_balanced.\\\n",
    "    predict_proba(features_valid_ohe_scaler)\n",
    "    # в переменной probabilities_one_dt_valid_balanced \n",
    "    # сохраним значения вероятностей класса «1»\n",
    "    probabilities_one_dt_valid_balanced = \\\n",
    "    probabilities_dt_valid_balanced[:, 1]\n",
    "    # посчитаем AUC-ROC\n",
    "    roc_auc_dt_valid_balanced = roc_auc_score(\n",
    "        target_valid, probabilities_one_dt_valid_balanced)    \n",
    "    \n",
    "    # сохраним лучшие параметры\n",
    "    if f1_dt_valid_balanced > best_f1_dt_balanced:\n",
    "        # сохраним лучшую модель:\n",
    "        best_model_dt_balanced = model_dt_balanced\n",
    "        # сохраним глубину дерева лучшей модели \n",
    "        # на валидационной выборке\n",
    "        best_depth_dt_balanced = depth \n",
    "        # сохраним F1-меру лучшей модели на валидационной выборке\n",
    "        best_f1_dt_balanced = f1_dt_valid_balanced\n",
    "        # сохраним AUC-ROC лучшей модели на валидационной выборке\n",
    "        best_roc_auc_dt_balanced = roc_auc_dt_valid_balanced\n",
    "        \n",
    "        \n",
    "print('Best model DT valid_balanced:', best_model_dt_balanced)\n",
    "print('Best max_depth DT valid_balanced:', best_depth_dt_balanced)\n",
    "print(f'Best F1-score DT valid_balanced: {best_f1_dt_balanced:.2f}')\n",
    "print(f'Best AUC-ROC DT valid_balanced: {best_roc_auc_dt_balanced:.2f}')"
   ]
  },
  {
   "cell_type": "markdown",
   "metadata": {},
   "source": [
    "Построим график зависимости *F1*-меры модели дерева решений от глубины дерева `max_depth` на обучающей и валидационной выборках."
   ]
  },
  {
   "cell_type": "code",
   "execution_count": 61,
   "metadata": {},
   "outputs": [
    {
     "data": {
      "image/png": "[encoded data removed]",
      "text/plain": [
       "<Figure size 1008x432 with 1 Axes>"
      ]
     },
     "metadata": {
      "needs_background": "light"
     },
     "output_type": "display_data"
    }
   ],
   "source": [
    "plt.figure(figsize=(14, 6))\n",
    "plt.grid(True)\n",
    "plt.plot(list_depth_dt_balanced, list_f1_dt_train_balanced)\n",
    "plt.plot(list_depth_dt_balanced, list_f1_dt_valid_balanced)\n",
    "plt.legend(['Обучающая выборка', 'Валидационная выборка'])\n",
    "plt.xlabel('Глубина дерева (max_depth)')\n",
    "plt.ylabel('F1-мера')\n",
    "plt.title('Зависимость F1-меры модели дерева решений \\\n",
    "от глубины дерева при сбалансированном таргете')\n",
    "plt.show()"
   ]
  },
  {
   "cell_type": "markdown",
   "metadata": {},
   "source": [
    "На графике видно существенное расстояние между кривыми для обучающей и валидационной выборок после глубины дерева `max_depth`=6. Видимо, это связано с тем, что в качестве обучающей использовалась сэмплированная обучающая выборка, а валидационная выборка при этом осталась без изменений."
   ]
  },
  {
   "cell_type": "markdown",
   "metadata": {},
   "source": [
    "### `RandomForestClassifier` при сбалансированном таргете\n",
    "<a name=\"54\"></a> <div style=\"text-align: left\">[Cодержание](#Содержание)</div>"
   ]
  },
  {
   "cell_type": "markdown",
   "metadata": {},
   "source": [
    "Классифицируем валидационные данные с помощью модели **случайного леса *Random Forest*** при сбалансированном таргете."
   ]
  },
  {
   "cell_type": "code",
   "execution_count": 62,
   "metadata": {},
   "outputs": [
    {
     "name": "stderr",
     "output_type": "stream",
     "text": [
      "100%|██████████| 4/4 [00:01<00:00,  2.51it/s]"
     ]
    },
    {
     "name": "stdout",
     "output_type": "stream",
     "text": [
      "Best model RF valid_updownsampled: RandomForestClassifier(max_depth=9, n_estimators=17, random_state=12345)\n",
      "Best max_depth RF valid_updownsampled: 17\n",
      "Best n_estimators RF valid_updownsampled: 9\n",
      "Best F1-score RF valid_updownsampled: 0.62\n",
      "Best AUC-ROC RF valid_updownsampled: 0.87\n",
      "CPU times: user 1.57 s, sys: 15.8 ms, total: 1.59 s\n",
      "Wall time: 1.6 s\n"
     ]
    },
    {
     "name": "stderr",
     "output_type": "stream",
     "text": [
      "\n"
     ]
    }
   ],
   "source": [
    "%%time\n",
    "\n",
    "# лучшая модель (модель с самым высоким значением F1-меры)\n",
    "best_model_rf_updownsampled = None\n",
    "# количество деревьев лучшей модели\n",
    "best_est_rf_updownsampled = 0\n",
    "# глубина дерева лучшей модели\n",
    "best_depth_rf_updownsampled = 0\n",
    "# F1-мера лучшей модели\n",
    "best_f1_rf_updownsampled = 0\n",
    "# AUC-ROC лучшей модели\n",
    "best_roc_auc_rf_updownsampled = 0\n",
    "\n",
    "# напишем два цикла для гиперпараметров n_estimators и max_depth\n",
    "for est in tqdm(range(17, 21, 1)):\n",
    "    for depth in range (6, 10, 1):\n",
    "        # построим модель случайного леса с заданным количеством деревьев \n",
    "        # n_estimators и глубиной дерева max_depth,\n",
    "        model_rf_updownsampled = RandomForestClassifier(max_depth=depth, \n",
    "                                                        n_estimators=est, \n",
    "                                                        random_state=RANDOM_STATE)\n",
    "        # обучим модель на обучающей выборке\n",
    "        model_rf_updownsampled.fit(\n",
    "            features_train_updownsampled, target_train_updownsampled)\n",
    "        \n",
    "        # получим предсказания модели на валидационной выборке\n",
    "        predictions_rf_valid_updownsampled = pd.Series(\n",
    "            model_rf_updownsampled.predict(features_valid_ohe_scaler))\n",
    "        # рассчитаем F1-меру на валидационной выборке\n",
    "        f1_rf_valid_updownsampled = f1_score(\n",
    "            target_valid, predictions_rf_valid_updownsampled)\n",
    "        \n",
    "        # найдём значения вероятностей классов на валидационной выборке\n",
    "        probabilities_rf_valid_updownsampled = model_rf_updownsampled.\\\n",
    "        predict_proba(features_valid_ohe_scaler)\n",
    "        # в переменной probabilities_one_rf_valid_updownsampled \n",
    "        # сохраним значения вероятностей класса «1»\n",
    "        probabilities_one_rf_valid_updownsampled = \\\n",
    "        probabilities_rf_valid_updownsampled[:, 1]\n",
    "        # посчитаем AUC-ROC\n",
    "        roc_auc_rf_valid_updownsampled = roc_auc_score(\n",
    "            target_valid, probabilities_one_rf_valid_updownsampled)       \n",
    "        \n",
    "        # сохраним лучшие параметры\n",
    "        if f1_rf_valid_updownsampled > best_f1_rf_updownsampled:\n",
    "            # сохраним лучшую модель\n",
    "            best_model_rf_updownsampled = model_rf_updownsampled\n",
    "            # сохраним количество деревьев лучшей модели\n",
    "            # на валидационной выборке\n",
    "            best_est_rf_updownsampled = est \n",
    "            # сохраним глубину дерева лучшей модели \n",
    "            # на валидационной выборке\n",
    "            best_depth_rf_updownsampled = depth\n",
    "            # сохраним F1-меру лучшей модели на валидационной выборке\n",
    "            best_f1_rf_updownsampled = f1_rf_valid_updownsampled\n",
    "            # сохраним AUC-ROC лучшей модели на валидационной выборке\n",
    "            best_roc_auc_rf_updownsampled = roc_auc_rf_valid_updownsampled\n",
    "          \n",
    "            \n",
    "print('Best model RF valid_updownsampled:', best_model_rf_updownsampled)\n",
    "print('Best max_depth RF valid_updownsampled:', best_est_rf_updownsampled)\n",
    "print('Best n_estimators RF valid_updownsampled:', best_depth_rf_updownsampled)\n",
    "print(f'Best F1-score RF valid_updownsampled: {best_f1_rf_updownsampled:.2f}')\n",
    "print(f'Best AUC-ROC RF valid_updownsampled: {best_roc_auc_rf_updownsampled:.2f}')"
   ]
  },
  {
   "cell_type": "markdown",
   "metadata": {},
   "source": [
    "Лучшая модель случайного леса **`RandomForestClassifier`** на валидационной выборке при сбалансированном таргете имеет значения метрик оценки качества:\n",
    "- ***F1-мера = 0.62***\n",
    "- ***AUC-ROC = 0.87*** \n",
    "\n",
    "при следующих параметрах:\n",
    "- глубина дерева: `max_depth` = 17\n",
    "- количество деревьев: `n_estimators` = 9\n",
    "\n",
    "Т.е. *F1*-мера превышает заданный порог 0,59."
   ]
  },
  {
   "cell_type": "markdown",
   "metadata": {},
   "source": [
    "Классифицируем валидационные данные с помощью модели **случайного леса *Random Forest*** с параметром class_weight='balanced' для сравнения с up/downsampled."
   ]
  },
  {
   "cell_type": "code",
   "execution_count": 63,
   "metadata": {},
   "outputs": [
    {
     "name": "stderr",
     "output_type": "stream",
     "text": [
      "100%|██████████| 4/4 [00:01<00:00,  2.34it/s]"
     ]
    },
    {
     "name": "stdout",
     "output_type": "stream",
     "text": [
      "Best model RF valid_balanced: RandomForestClassifier(class_weight='balanced', max_depth=9, n_estimators=20,\n",
      "                       random_state=12345)\n",
      "Best max_depth RF valid_balanced: 20\n",
      "Best n_estimators RF valid_balanced: 9\n",
      "Best F1-score RF valid_balanced: 0.64\n",
      "Best AUC-ROC RF valid_balanced: 0.86\n",
      "CPU times: user 1.68 s, sys: 7.95 ms, total: 1.69 s\n",
      "Wall time: 1.72 s\n"
     ]
    },
    {
     "name": "stderr",
     "output_type": "stream",
     "text": [
      "\n"
     ]
    }
   ],
   "source": [
    "%%time\n",
    "\n",
    "# лучшая модель (модель с самым высоким значением F1-меры)\n",
    "best_model_rf_balanced = None\n",
    "# количество деревьев лучшей модели\n",
    "best_est_rf_balanced = 0\n",
    "# глубина дерева лучшей модели\n",
    "best_depth_rf_balanced = 0\n",
    "# F1-мера лучшей модели\n",
    "best_f1_rf_balanced = 0\n",
    "# AUC-ROC лучшей модели\n",
    "best_roc_auc_rf_balanced = 0\n",
    "\n",
    "# напишем два цикла для гиперпараметров n_estimators и max_depth\n",
    "for est in tqdm(range(17, 21, 1)):\n",
    "    for depth in range (6, 10, 1):\n",
    "        # построим модель случайного леса с заданным количеством деревьев \n",
    "        # n_estimators и глубиной дерева max_depth,\n",
    "        # и добавим взвешивание классов (параметр class_weight='balanced')\n",
    "        model_rf_balanced = RandomForestClassifier(class_weight='balanced', \n",
    "                                                        max_depth=depth, \n",
    "                                                        n_estimators=est, \n",
    "                                                        random_state=RANDOM_STATE)\n",
    "        # обучим модель на обучающей выборке\n",
    "        model_rf_balanced.fit(features_train_ohe_scaler, target_train)\n",
    "        \n",
    "        # получим предсказания модели на валидационной выборке\n",
    "        predictions_rf_valid_balanced = pd.Series(\n",
    "            model_rf_balanced.predict(features_valid_ohe_scaler))\n",
    "        # рассчитаем F1-меру на валидационной выборке\n",
    "        f1_rf_valid_balanced = f1_score(\n",
    "            target_valid, predictions_rf_valid_balanced)\n",
    "        \n",
    "        # найдём значения вероятностей классов на валидационной выборке\n",
    "        probabilities_rf_valid_balanced = model_rf_balanced.\\\n",
    "        predict_proba(features_valid_ohe_scaler)\n",
    "        # в переменной probabilities_one_rf_valid_balanced \n",
    "        # сохраним значения вероятностей класса «1»\n",
    "        probabilities_one_rf_valid_balanced = \\\n",
    "        probabilities_rf_valid_balanced[:, 1]\n",
    "        # посчитаем AUC-ROC\n",
    "        roc_auc_rf_valid_balanced = roc_auc_score(\n",
    "            target_valid, probabilities_one_rf_valid_balanced)       \n",
    "        \n",
    "        # сохраним лучшие параметры\n",
    "        if f1_rf_valid_balanced > best_f1_rf_balanced:\n",
    "            # сохраним лучшую модель\n",
    "            best_model_rf_balanced = model_rf_balanced\n",
    "            # сохраним количество деревьев лучшей модели\n",
    "            # на валидационной выборке\n",
    "            best_est_rf_balanced = est \n",
    "            # сохраним глубину дерева лучшей модели \n",
    "            # на валидационной выборке\n",
    "            best_depth_rf_balanced = depth\n",
    "            # сохраним F1-меру лучшей модели на валидационной выборке\n",
    "            best_f1_rf_balanced = f1_rf_valid_balanced\n",
    "            # сохраним AUC-ROC лучшей модели на валидационной выборке\n",
    "            best_roc_auc_rf_balanced = roc_auc_rf_valid_balanced\n",
    "          \n",
    "            \n",
    "print('Best model RF valid_balanced:', best_model_rf_balanced)\n",
    "print('Best max_depth RF valid_balanced:', best_est_rf_balanced)\n",
    "print('Best n_estimators RF valid_balanced:', best_depth_rf_balanced)\n",
    "print(f'Best F1-score RF valid_balanced: {best_f1_rf_balanced:.2f}')\n",
    "print(f'Best AUC-ROC RF valid_balanced: {best_roc_auc_rf_balanced:.2f}')"
   ]
  },
  {
   "cell_type": "markdown",
   "metadata": {},
   "source": [
    "Лучшая модель случайного леса **`RandomForestClassifier`** на валидационной выборке с параметром class_weight='balanced' имеет значения метрик оценки качества:\n",
    "- ***F1-мера = 0.64***\n",
    "- ***AUC-ROC = 0.86*** \n",
    "\n",
    "при следующих параметрах:\n",
    "- глубина дерева: `max_depth` = 20\n",
    "- количество деревьев: `n_estimators` = 9\n",
    "\n",
    "Т.е. *F1*-мера превышает заданный порог 0,59."
   ]
  },
  {
   "cell_type": "markdown",
   "metadata": {},
   "source": [
    "### `LogisticRegression` при сбалансированном таргете\n",
    "<a name=\"55\"></a> <div style=\"text-align: left\">[Cодержание](#Содержание)</div>"
   ]
  },
  {
   "cell_type": "markdown",
   "metadata": {},
   "source": [
    "Классифицируем валидационные данные с помощью модели **логистической регрессии *Logistic Regression*** при сбалансированном таргете."
   ]
  },
  {
   "cell_type": "code",
   "execution_count": 64,
   "metadata": {},
   "outputs": [
    {
     "name": "stdout",
     "output_type": "stream",
     "text": [
      "Best F1-score LR valid_updownsampled: 0.51\n",
      "Best AUC-ROC LR valid_updownsampled: 0.79\n",
      "CPU times: user 35.1 ms, sys: 76 ms, total: 111 ms\n",
      "Wall time: 70.3 ms\n"
     ]
    }
   ],
   "source": [
    "%%time\n",
    "\n",
    "model_lr_updownsampled = LogisticRegression(random_state=RANDOM_STATE, \n",
    "                                            solver='lbfgs', \n",
    "                                            max_iter=1000) \n",
    "model_lr_updownsampled.fit(features_train_updownsampled, target_train_updownsampled) \n",
    "\n",
    "# получим предсказания модели на валидационной выборке\n",
    "predictions_lr_valid_updownsampled = pd.Series(\n",
    "    model_lr_updownsampled.predict(features_valid_ohe_scaler))\n",
    "# рассчитаем F1-меру на валидационной выборке\n",
    "f1_lr_valid_updownsampled = f1_score(\n",
    "    target_valid, predictions_lr_valid_updownsampled)\n",
    "\n",
    "# найдём значения вероятностей классов на валидационной выборке\n",
    "probabilities_lr_valid_updownsampled = model_lr_updownsampled.\\\n",
    "predict_proba(features_valid_ohe_scaler)\n",
    "# в переменной probabilities_one_lr_valid_updownsampled \n",
    "# сохраним значения вероятностей класса «1»\n",
    "probabilities_one_lr_valid_updownsampled = \\\n",
    "probabilities_lr_valid_updownsampled[:, 1]\n",
    "# посчитаем AUC-ROC\n",
    "roc_auc_lr_valid_updownsampled = roc_auc_score(\n",
    "    target_valid, probabilities_one_lr_valid_updownsampled)\n",
    "\n",
    "\n",
    "print(f'Best F1-score LR valid_updownsampled: {f1_lr_valid_updownsampled:.2f}')\n",
    "print(f'Best AUC-ROC LR valid_updownsampled: {roc_auc_lr_valid_updownsampled:.2f}')"
   ]
  },
  {
   "cell_type": "markdown",
   "metadata": {},
   "source": [
    "Модель логистической регрессии **`LogisticRegression`** на валидационной выборке при сбалансированном таргете имеет значения метрик оценки качества:\n",
    "- ***F1-мера = 0.51***\n",
    "- ***AUC-ROC = 0.79***\n",
    "\n",
    "Т.е. *F1*-мера не превышает заданный порог 0,59, хотя после сэмплирования обучающей выборки её величина существенно увеличилась.\n",
    " \n",
    "Итак, на валидационной выборке по метрике *F1*-мера лидирует модель случайного леса `RandomForestClassifier`."
   ]
  },
  {
   "cell_type": "markdown",
   "metadata": {},
   "source": [
    "Классифицируем валидационные данные с помощью модели **логистической регрессии *Logistic Regression*** с параметром class_weight='balanced' для сравнения с up/downsampled."
   ]
  },
  {
   "cell_type": "code",
   "execution_count": 65,
   "metadata": {},
   "outputs": [
    {
     "name": "stdout",
     "output_type": "stream",
     "text": [
      "Best F1-score LR valid_updownsampled: 0.51\n",
      "Best AUC-ROC LR valid_updownsampled: 0.79\n",
      "CPU times: user 57.6 ms, sys: 95.7 ms, total: 153 ms\n",
      "Wall time: 194 ms\n"
     ]
    }
   ],
   "source": [
    "%%time\n",
    "\n",
    "model_lr_balanced = LogisticRegression(class_weight='balanced', \n",
    "                                            random_state=RANDOM_STATE, \n",
    "                                            solver='lbfgs', \n",
    "                                            max_iter=1000) \n",
    "model_lr_balanced.fit(features_train_ohe_scaler, target_train) \n",
    "\n",
    "# получим предсказания модели на валидационной выборке\n",
    "predictions_lr_valid_balanced = pd.Series(\n",
    "    model_lr_balanced.predict(features_valid_ohe_scaler))\n",
    "# рассчитаем F1-меру на валидационной выборке\n",
    "f1_lr_valid_balanced = f1_score(\n",
    "    target_valid, predictions_lr_valid_balanced)\n",
    "\n",
    "# найдём значения вероятностей классов на валидационной выборке\n",
    "probabilities_lr_valid_balanced = model_lr_balanced.\\\n",
    "predict_proba(features_valid_ohe_scaler)\n",
    "# в переменной probabilities_one_lr_valid_balanced \n",
    "# сохраним значения вероятностей класса «1»\n",
    "probabilities_one_lr_valid_balanced = \\\n",
    "probabilities_lr_valid_balanced[:, 1]\n",
    "# посчитаем AUC-ROC\n",
    "roc_auc_lr_valid_balanced = roc_auc_score(\n",
    "    target_valid, probabilities_one_lr_valid_balanced)\n",
    "\n",
    "\n",
    "print(f'Best F1-score LR valid_updownsampled: {f1_lr_valid_balanced:.2f}')\n",
    "print(f'Best AUC-ROC LR valid_updownsampled: {roc_auc_lr_valid_balanced:.2f}')"
   ]
  },
  {
   "cell_type": "markdown",
   "metadata": {},
   "source": [
    "Модель логистической регрессии **`LogisticRegression`** на валидационной выборке с параметром class_weight='balanced' имеет значения метрик оценки качества:\n",
    "- ***F1-мера = 0.51***\n",
    "- ***AUC-ROC = 0.79***\n",
    "\n",
    "Т.е. *F1*-мера не превышает заданный порог 0,59, хотя после сэмплирования обучающей выборки её величина существенно увеличилась.\n",
    " \n",
    "Итак, на валидационной выборке по метрике *F1*-мера лидирует модель случайного леса `RandomForestClassifier`."
   ]
  },
  {
   "cell_type": "markdown",
   "metadata": {},
   "source": [
    "### Сравнение моделей\n",
    "<a name=\"56\"></a> <div style=\"text-align: left\">[Cодержание](#Содержание)</div>"
   ]
  },
  {
   "cell_type": "markdown",
   "metadata": {},
   "source": [
    "Дополним таблицу `table` метриками *F1*-мера и *AUC-ROC*, полученными разными моделями на валидационной выборке при сбалансированном таргете и создадим таблицу с результатами моделей на валидационной выборке с параметром class_weight='balanced'."
   ]
  },
  {
   "cell_type": "code",
   "execution_count": 66,
   "metadata": {},
   "outputs": [],
   "source": [
    "table_add1 = pd.DataFrame([\n",
    "    ['DecisionTreeClassifier', f'{best_f1_dt_updownsampled:.2f}',\n",
    "     f'{best_roc_auc_dt_updownsampled:.2f}'],\n",
    "    ['RandomForestClassifier', f'{best_f1_rf_updownsampled:.2f}',\n",
    "     f'{best_roc_auc_rf_updownsampled:.2f}'],\n",
    "    ['RandomForestClassifier + GridSearchCV', '-', '-'],\n",
    "    ['LogisticRegression', f'{f1_lr_valid_updownsampled:.2f}',\n",
    "     f'{roc_auc_lr_valid_updownsampled:.2f}']\n",
    "],\n",
    "columns=['model', 'F1-score valid_updownsampled', 'AUC-ROC valid_updownsampled'])\n",
    "table = table.merge(table_add1, on='model', how='left')"
   ]
  },
  {
   "cell_type": "code",
   "execution_count": 67,
   "metadata": {},
   "outputs": [],
   "source": [
    "table_add2 = pd.DataFrame([\n",
    "    ['DecisionTreeClassifier', f'{best_f1_dt_balanced:.2f}',\n",
    "     f'{best_roc_auc_dt_balanced:.2f}'],\n",
    "    ['RandomForestClassifier', f'{best_f1_rf_balanced:.2f}',\n",
    "     f'{best_roc_auc_rf_balanced:.2f}'],\n",
    "    ['LogisticRegression', f'{f1_lr_valid_balanced:.2f}',\n",
    "     f'{roc_auc_lr_valid_balanced:.2f}']\n",
    "],\n",
    "columns=['model', 'F1-score valid_balanced', 'AUC-ROC valid_balanced'])"
   ]
  },
  {
   "cell_type": "markdown",
   "metadata": {},
   "source": [
    "Теперь выведем данные таблицы:"
   ]
  },
  {
   "cell_type": "code",
   "execution_count": 68,
   "metadata": {},
   "outputs": [
    {
     "name": "stdout",
     "output_type": "stream",
     "text": [
      "F1-мера и AUC-ROC разных моделей при несбалансированном и сбалансированном таргете\n"
     ]
    },
    {
     "data": {
      "text/html": [
       "<div>\n",
       "<style scoped>\n",
       "    .dataframe tbody tr th:only-of-type {\n",
       "        vertical-align: middle;\n",
       "    }\n",
       "\n",
       "    .dataframe tbody tr th {\n",
       "        vertical-align: top;\n",
       "    }\n",
       "\n",
       "    .dataframe thead th {\n",
       "        text-align: right;\n",
       "    }\n",
       "</style>\n",
       "<table border=\"1\" class=\"dataframe\">\n",
       "  <thead>\n",
       "    <tr style=\"text-align: right;\">\n",
       "      <th></th>\n",
       "      <th>model</th>\n",
       "      <th>F1-score valid</th>\n",
       "      <th>AUC-ROC valid</th>\n",
       "      <th>F1-score valid_updownsampled</th>\n",
       "      <th>AUC-ROC valid_updownsampled</th>\n",
       "    </tr>\n",
       "  </thead>\n",
       "  <tbody>\n",
       "    <tr>\n",
       "      <th>0</th>\n",
       "      <td>DecisionTreeClassifier</td>\n",
       "      <td>0.59</td>\n",
       "      <td>0.81</td>\n",
       "      <td>0.57</td>\n",
       "      <td>0.80</td>\n",
       "    </tr>\n",
       "    <tr>\n",
       "      <th>1</th>\n",
       "      <td>RandomForestClassifier</td>\n",
       "      <td>0.56</td>\n",
       "      <td>0.86</td>\n",
       "      <td>0.62</td>\n",
       "      <td>0.87</td>\n",
       "    </tr>\n",
       "    <tr>\n",
       "      <th>2</th>\n",
       "      <td>RandomForestClassifier + GridSearchCV</td>\n",
       "      <td>0.57</td>\n",
       "      <td>0.85</td>\n",
       "      <td>-</td>\n",
       "      <td>-</td>\n",
       "    </tr>\n",
       "    <tr>\n",
       "      <th>3</th>\n",
       "      <td>LogisticRegression</td>\n",
       "      <td>0.32</td>\n",
       "      <td>0.79</td>\n",
       "      <td>0.51</td>\n",
       "      <td>0.79</td>\n",
       "    </tr>\n",
       "  </tbody>\n",
       "</table>\n",
       "</div>"
      ],
      "text/plain": [
       "                                   model F1-score valid AUC-ROC valid  \\\n",
       "0                 DecisionTreeClassifier           0.59          0.81   \n",
       "1                 RandomForestClassifier           0.56          0.86   \n",
       "2  RandomForestClassifier + GridSearchCV           0.57          0.85   \n",
       "3                     LogisticRegression           0.32          0.79   \n",
       "\n",
       "  F1-score valid_updownsampled AUC-ROC valid_updownsampled  \n",
       "0                         0.57                        0.80  \n",
       "1                         0.62                        0.87  \n",
       "2                            -                           -  \n",
       "3                         0.51                        0.79  "
      ]
     },
     "execution_count": 68,
     "metadata": {},
     "output_type": "execute_result"
    }
   ],
   "source": [
    "print('F1-мера и AUC-ROC разных моделей при несбалансированном и сбалансированном таргете')\n",
    "table"
   ]
  },
  {
   "cell_type": "code",
   "execution_count": 69,
   "metadata": {},
   "outputs": [
    {
     "name": "stdout",
     "output_type": "stream",
     "text": [
      "F1-мера и AUC-ROC разных моделей при сбалансированном таргете с параметром class_weight=\"balanced\"\n"
     ]
    },
    {
     "data": {
      "text/html": [
       "<div>\n",
       "<style scoped>\n",
       "    .dataframe tbody tr th:only-of-type {\n",
       "        vertical-align: middle;\n",
       "    }\n",
       "\n",
       "    .dataframe tbody tr th {\n",
       "        vertical-align: top;\n",
       "    }\n",
       "\n",
       "    .dataframe thead th {\n",
       "        text-align: right;\n",
       "    }\n",
       "</style>\n",
       "<table border=\"1\" class=\"dataframe\">\n",
       "  <thead>\n",
       "    <tr style=\"text-align: right;\">\n",
       "      <th></th>\n",
       "      <th>model</th>\n",
       "      <th>F1-score valid_balanced</th>\n",
       "      <th>AUC-ROC valid_balanced</th>\n",
       "    </tr>\n",
       "  </thead>\n",
       "  <tbody>\n",
       "    <tr>\n",
       "      <th>0</th>\n",
       "      <td>DecisionTreeClassifier</td>\n",
       "      <td>0.57</td>\n",
       "      <td>0.84</td>\n",
       "    </tr>\n",
       "    <tr>\n",
       "      <th>1</th>\n",
       "      <td>RandomForestClassifier</td>\n",
       "      <td>0.64</td>\n",
       "      <td>0.86</td>\n",
       "    </tr>\n",
       "    <tr>\n",
       "      <th>2</th>\n",
       "      <td>LogisticRegression</td>\n",
       "      <td>0.51</td>\n",
       "      <td>0.79</td>\n",
       "    </tr>\n",
       "  </tbody>\n",
       "</table>\n",
       "</div>"
      ],
      "text/plain": [
       "                    model F1-score valid_balanced AUC-ROC valid_balanced\n",
       "0  DecisionTreeClassifier                    0.57                   0.84\n",
       "1  RandomForestClassifier                    0.64                   0.86\n",
       "2      LogisticRegression                    0.51                   0.79"
      ]
     },
     "execution_count": 69,
     "metadata": {},
     "output_type": "execute_result"
    }
   ],
   "source": [
    "print('F1-мера и AUC-ROC разных моделей при сбалансированном таргете с параметром class_weight=\"balanced\"')\n",
    "table_add2"
   ]
  },
  {
   "cell_type": "markdown",
   "metadata": {},
   "source": [
    "Из таблиц видно, что при сбалансированном таргете, при любом методе борьбы с дисбалансом, только для одной модели - случайного леса `RandomForestClassifier` метрика *F1*-мера > 0.59. При этом видно, что с ростом *F1*-меры растёт и площадь под *ROC*-кривой - метрика *AUC-ROC*. \n",
    "\n",
    "Так же по метрикам мы видим, что между методом с upsampling/downsampling  и методом с параметром class_weight='balanced' особой разницы нет. Оба метода показывают метрики, удовлетворяющие условию нашей задачи.\n",
    "\n",
    "Далее в исследовании, за основу возьмём модель **случайного леса `RandomForestClassifier`** с методом upsampling/downsampling."
   ]
  },
  {
   "cell_type": "markdown",
   "metadata": {},
   "source": [
    "### Матрица ошибок при сбалансированном таргете\n",
    "<a name=\"57\"></a> <div style=\"text-align: left\">[Cодержание](#Содержание)</div>"
   ]
  },
  {
   "cell_type": "markdown",
   "metadata": {},
   "source": [
    "Рассчитаем на валидационной выборке матрицу ошибок для модели случайного леса **`RandomForestClassifier`** при сбалансированном таргете."
   ]
  },
  {
   "cell_type": "code",
   "execution_count": 70,
   "metadata": {},
   "outputs": [
    {
     "data": {
      "text/plain": [
       "0    1593\n",
       "1     407\n",
       "Name: Exited, dtype: int64"
      ]
     },
     "execution_count": 70,
     "metadata": {},
     "output_type": "execute_result"
    }
   ],
   "source": [
    "# выведем баланс классов в таргете на валидационной выборке\n",
    "target_valid.value_counts()"
   ]
  },
  {
   "cell_type": "code",
   "execution_count": 71,
   "metadata": {},
   "outputs": [
    {
     "data": {
      "image/png": "[encoded data removed]",
      "text/plain": [
       "<Figure size 600x600 with 2 Axes>"
      ]
     },
     "metadata": {
      "needs_background": "light"
     },
     "output_type": "display_data"
    }
   ],
   "source": [
    "# построим матрицу ошибок\n",
    "matrix = confusion_matrix(target_valid, \n",
    "pd.Series(model_rf_updownsampled.predict(features_valid_ohe_scaler)))\n",
    "\n",
    "# построим тепловую карту матрицы ошибок\n",
    "plt.figure(figsize=(6, 6), dpi=100)\n",
    "sns.heatmap(matrix, annot=True, fmt='g', cmap='Oranges')\n",
    "plt.title('Матрица ошибок на RF valid при сбалансированном таргете')\n",
    "plt.xlabel('Предсказания')\n",
    "plt.ylabel('Истинные значения')\n",
    "plt.show()"
   ]
  },
  {
   "cell_type": "markdown",
   "metadata": {},
   "source": [
    "По матрице ошибок нам необходимо определить:\n",
    "- долю ложноположительных ответов, *FP / N* (маркетологи спрогнозировали уход клиентам, которые не планировали уходить);\n",
    "- долю ложноотрицательных ответов, *FN / P* (маркетологи спрогнозировали, что клиенты останутся, при этом клиенты ушли).\n",
    "\n",
    "Для расчёта значений воспользуемся формулами:\n",
    "\n",
    "*FP / N = (FP / (FP + TN))*\n",
    "\n",
    "*FN / P = (FN / (TP + FN))*\n",
    "\n",
    "|        |        |\n",
    "| ------ | ------ |\n",
    "| **TN** | **FP** |\n",
    "| **FN** | **TP** |"
   ]
  },
  {
   "cell_type": "code",
   "execution_count": 72,
   "metadata": {},
   "outputs": [
    {
     "data": {
      "text/plain": [
       "array([[1309,  284],\n",
       "       [ 107,  300]])"
      ]
     },
     "execution_count": 72,
     "metadata": {},
     "output_type": "execute_result"
    }
   ],
   "source": [
    "matrix = confusion_matrix(target_valid, pd.Series(model_rf_updownsampled.predict(features_valid_ohe_scaler)))\n",
    "\n",
    "matrix"
   ]
  },
  {
   "cell_type": "markdown",
   "metadata": {},
   "source": [
    "Доля ложноположительных ответов *FP / N* на валидационной выборке."
   ]
  },
  {
   "cell_type": "code",
   "execution_count": 73,
   "metadata": {},
   "outputs": [
    {
     "name": "stdout",
     "output_type": "stream",
     "text": [
      "18%\n"
     ]
    }
   ],
   "source": [
    "fp_n = (matrix[0][1] / (matrix[0][1] + matrix[0][0]))\n",
    "print(f'{fp_n:.0%}')"
   ]
  },
  {
   "cell_type": "markdown",
   "metadata": {},
   "source": [
    "Доля ложноотрицательных ответов *FN / P* на валидационной выборке."
   ]
  },
  {
   "cell_type": "code",
   "execution_count": 74,
   "metadata": {},
   "outputs": [
    {
     "name": "stdout",
     "output_type": "stream",
     "text": [
      "26%\n"
     ]
    }
   ],
   "source": [
    "fn_p = (matrix[1][0] / (matrix[1][1] + matrix[1][0]))\n",
    "print(f'{fn_p:.0%}')"
   ]
  },
  {
   "cell_type": "markdown",
   "metadata": {},
   "source": [
    "На валидационной выборке при сбалансированном таргете доля ложноотрицательных ответов (26%) почти в 1,5 раза превышает долю ложноположительных (18%), а значит после сэмплирования обучающей выборки модель стала гораздо лучше прогнозировать объекты положительного класса (клиенты ушли).  Но, тем не менее, модель по-прежнему лучше прогнозирует объекты отрицательного класса (клиенты остались)."
   ]
  },
  {
   "cell_type": "markdown",
   "metadata": {},
   "source": [
    "### Вывод\n",
    "<a name=\"58\"></a> <div style=\"text-align: left\">[Cодержание](#Содержание)</div>"
   ]
  },
  {
   "cell_type": "markdown",
   "metadata": {},
   "source": [
    "В разделе [**Исследование задачи с учётом дисбаланса**](#Исследование-задачи-с-учётом-дисбаланса) были выполнены следующие задачи:\n",
    "1. При сбалансированном таргете построены и обучены следующие модели:\n",
    "    - модель дерева решений `DecisionTreeClassifier`;\n",
    "    - модель случайного леса `RandomForestClassifier`;\n",
    "    - модель логистической регрессии `LogisticRegression`.\n",
    "    с двумя методами борьбы с дисбалансом:\n",
    "    - метод с upsampling/downsampling;\n",
    "    - метод с параметром class_weight='balanced'.\n",
    "2. Выведена таблица сравнения метрик *F1*-мера и *AUC-ROC* разных моделей на валидационной выборке.\n",
    "3. Рассчитана матрица ошибок.\n",
    "\n",
    "\n",
    "В результате выполнения задач этого раздела было выявлено следующее:\n",
    "- Из таблицы видно, что при сбалансированном таргете, при любом методе борьбы с дисбалансом, только для модели случайного леса `RandomForestClassifier` метрика *F1*-мера > 0.59. При этом видно, что с ростом *F1*-меры растёт и площадь под *ROC*-кривой - метрика *AUC-ROC*.\n",
    "- По полученным метрикам мы видим, что между методом с upsampling/downsampling и методом с параметром class_weight='balanced' особой разницы нет. Оба метода показывают метрики, удовлетворяющие условию нашей задачи.\n",
    "- Лучшей моделью мы определили модель **случайного леса `RandomForestClassifier`** с методом upsampling/downsampling.\n",
    "- Матрица ошибок показала, что на валидационной выборке при сбалансированном таргете доля ложноотрицательных ответов (26%) почти в 1,5 раза превышает долю ложноположительных (18%), а значит после сэмплирования обучающей выборки модель стала гораздо лучше прогнозировать объекты положительного класса (клиенты ушли).  Но, тем не менее, модель по-прежнему лучше прогнозирует объекты отрицательного класса (клиенты остались)."
   ]
  },
  {
   "cell_type": "markdown",
   "metadata": {},
   "source": [
    "## Тестирование модели\n",
    "<a name=\"6\"></a> <div style=\"text-align: left\">[Cодержание](#Содержание)</div>"
   ]
  },
  {
   "cell_type": "markdown",
   "metadata": {},
   "source": [
    "### Качество модели\n",
    "<a name=\"61\"></a> <div style=\"text-align: left\">[Cодержание](#Содержание)</div>"
   ]
  },
  {
   "cell_type": "markdown",
   "metadata": {},
   "source": [
    "При сбалансированном таргете на валидационной выборке по метрике *F1*-мера лидирует модель **случайного леса `RandomForestClassifier`**. Проверим качество этой модели на тестовой выборке."
   ]
  },
  {
   "cell_type": "code",
   "execution_count": 75,
   "metadata": {},
   "outputs": [
    {
     "name": "stdout",
     "output_type": "stream",
     "text": [
      "Best model RF valid_updownsampled: RandomForestClassifier(max_depth=9, n_estimators=17, random_state=12345)\n",
      "Best max_depth RF valid_updownsampled: 17\n",
      "Best n_estimators RF valid_updownsampled: 9\n",
      "Best F1-score RF test_updownsampled: 0.62\n",
      "Best AUC-ROC RF test_updownsampled: 0.86\n"
     ]
    }
   ],
   "source": [
    "# получим предсказания модели на тестовой выборке\n",
    "predictions_rf_test_updownsampled = pd.Series(model_rf_updownsampled.predict(features_test_ohe_scaler))\n",
    "# рассчитаем F1-меру на тестовой выборке\n",
    "f1_rf_test_updownsampled = f1_score(target_test, predictions_rf_test_updownsampled)\n",
    "        \n",
    "# найдём значения вероятностей классов на тестовой выборке\n",
    "probabilities_rf_test_updownsampled = model_rf_updownsampled.predict_proba(features_test_ohe_scaler)\n",
    "# в переменной probabilities_one_rf_test_updownsampled\n",
    "# сохраним значения вероятностей класса «1»\n",
    "probabilities_one_rf_test_updownsampled = probabilities_rf_test_updownsampled[:, 1]\n",
    "# посчитаем AUC-ROC\n",
    "roc_auc_rf_test_updownsampled = roc_auc_score(target_test, probabilities_one_rf_test_updownsampled)   \n",
    "\n",
    "\n",
    "print('Best model RF valid_updownsampled:', best_model_rf_updownsampled)\n",
    "print('Best max_depth RF valid_updownsampled:', best_est_rf_updownsampled)\n",
    "print('Best n_estimators RF valid_updownsampled:', best_depth_rf_updownsampled)\n",
    "print(f'Best F1-score RF test_updownsampled: {f1_rf_test_updownsampled:.2f}')\n",
    "print(f'Best AUC-ROC RF test_updownsampled: {roc_auc_rf_test_updownsampled:.2f}')"
   ]
  },
  {
   "cell_type": "markdown",
   "metadata": {},
   "source": [
    "Лучшая модель случайного леса **`RandomForestClassifier`** на тестовой выборке имеет значения метрик оценки качества:\n",
    "- ***F1-мера = 0.62***\n",
    "- ***AUC-ROC = 0.86***\n",
    "\n",
    "Т.е. *F1*-мера превышает заданный порог 0,59."
   ]
  },
  {
   "cell_type": "markdown",
   "metadata": {},
   "source": [
    "### Итоговое сравнение моделей\n",
    "<a name=\"62\"></a> <div style=\"text-align: left\">[Cодержание](#Содержание)</div>"
   ]
  },
  {
   "cell_type": "markdown",
   "metadata": {},
   "source": [
    "Дополним таблицу `table` метриками *F1*-мера и *AUC-ROC*, полученными моделью случайного леса **`RandomForestClassifier`** на тестовой выборке при сбалансированном таргете."
   ]
  },
  {
   "cell_type": "code",
   "execution_count": 76,
   "metadata": {},
   "outputs": [
    {
     "name": "stdout",
     "output_type": "stream",
     "text": [
      "F1-мера и AUC-ROC разных моделей при несбалансированном и сбалансированном таргете\n"
     ]
    },
    {
     "data": {
      "text/html": [
       "<div>\n",
       "<style scoped>\n",
       "    .dataframe tbody tr th:only-of-type {\n",
       "        vertical-align: middle;\n",
       "    }\n",
       "\n",
       "    .dataframe tbody tr th {\n",
       "        vertical-align: top;\n",
       "    }\n",
       "\n",
       "    .dataframe thead th {\n",
       "        text-align: right;\n",
       "    }\n",
       "</style>\n",
       "<table border=\"1\" class=\"dataframe\">\n",
       "  <thead>\n",
       "    <tr style=\"text-align: right;\">\n",
       "      <th></th>\n",
       "      <th>model</th>\n",
       "      <th>F1-score valid</th>\n",
       "      <th>AUC-ROC valid</th>\n",
       "      <th>F1-score valid_updownsampled</th>\n",
       "      <th>AUC-ROC valid_updownsampled</th>\n",
       "      <th>F1-score test_updownsampled</th>\n",
       "      <th>AUC-ROC test_updownsampled</th>\n",
       "    </tr>\n",
       "  </thead>\n",
       "  <tbody>\n",
       "    <tr>\n",
       "      <th>0</th>\n",
       "      <td>DecisionTreeClassifier</td>\n",
       "      <td>0.59</td>\n",
       "      <td>0.81</td>\n",
       "      <td>0.57</td>\n",
       "      <td>0.80</td>\n",
       "      <td>-</td>\n",
       "      <td>-</td>\n",
       "    </tr>\n",
       "    <tr>\n",
       "      <th>1</th>\n",
       "      <td>RandomForestClassifier</td>\n",
       "      <td>0.56</td>\n",
       "      <td>0.86</td>\n",
       "      <td>0.62</td>\n",
       "      <td>0.87</td>\n",
       "      <td>0.62</td>\n",
       "      <td>0.86</td>\n",
       "    </tr>\n",
       "    <tr>\n",
       "      <th>2</th>\n",
       "      <td>RandomForestClassifier + GridSearchCV</td>\n",
       "      <td>0.57</td>\n",
       "      <td>0.85</td>\n",
       "      <td>-</td>\n",
       "      <td>-</td>\n",
       "      <td>-</td>\n",
       "      <td>-</td>\n",
       "    </tr>\n",
       "    <tr>\n",
       "      <th>3</th>\n",
       "      <td>LogisticRegression</td>\n",
       "      <td>0.32</td>\n",
       "      <td>0.79</td>\n",
       "      <td>0.51</td>\n",
       "      <td>0.79</td>\n",
       "      <td>-</td>\n",
       "      <td>-</td>\n",
       "    </tr>\n",
       "  </tbody>\n",
       "</table>\n",
       "</div>"
      ],
      "text/plain": [
       "                                   model F1-score valid AUC-ROC valid  \\\n",
       "0                 DecisionTreeClassifier           0.59          0.81   \n",
       "1                 RandomForestClassifier           0.56          0.86   \n",
       "2  RandomForestClassifier + GridSearchCV           0.57          0.85   \n",
       "3                     LogisticRegression           0.32          0.79   \n",
       "\n",
       "  F1-score valid_updownsampled AUC-ROC valid_updownsampled  \\\n",
       "0                         0.57                        0.80   \n",
       "1                         0.62                        0.87   \n",
       "2                            -                           -   \n",
       "3                         0.51                        0.79   \n",
       "\n",
       "  F1-score test_updownsampled AUC-ROC test_updownsampled  \n",
       "0                           -                          -  \n",
       "1                        0.62                       0.86  \n",
       "2                           -                          -  \n",
       "3                           -                          -  "
      ]
     },
     "execution_count": 76,
     "metadata": {},
     "output_type": "execute_result"
    }
   ],
   "source": [
    "table_add3 = pd.DataFrame([\n",
    "    ['DecisionTreeClassifier', '-', '-'],\n",
    "    ['RandomForestClassifier', f'{f1_rf_test_updownsampled:.2f}',\n",
    "     f'{roc_auc_rf_test_updownsampled:.2f}'],\n",
    "    ['RandomForestClassifier + GridSearchCV', '-', '-'],\n",
    "    ['LogisticRegression', '-', '-']\n",
    "],\n",
    "columns=['model', 'F1-score test_updownsampled', 'AUC-ROC test_updownsampled'])\n",
    "\n",
    "\n",
    "table = table.merge(table_add3, on='model', how='left')\n",
    "print('F1-мера и AUC-ROC разных моделей при несбалансированном и сбалансированном таргете')\n",
    "table"
   ]
  },
  {
   "cell_type": "markdown",
   "metadata": {},
   "source": [
    "Из таблицы видно, что при тестировании модели случайного леса `RandomForestClassifier` метрика *F1*-мера = 0.62. Т.е. при сбалансированном таргете и для тестовой, и для валидационной выборки *F1*-мера превышает заданный порог 0,59. При этом видно, что с ростом *F1*-меры растёт и площадь под *ROC*-кривой - метрика *AUC-ROC*."
   ]
  },
  {
   "cell_type": "markdown",
   "metadata": {},
   "source": [
    "### `DummyClassifier`\n",
    "<a name=\"63\"></a> <div style=\"text-align: left\">[Cодержание](#Содержание)</div>"
   ]
  },
  {
   "cell_type": "markdown",
   "metadata": {},
   "source": [
    "Проверим полученную модель случайного леса `RandomForestClassifier` на адекватность.\n",
    "\n",
    "С помощью константной модели сделаем наивные прогнозы *F1*-меры и *AUC-ROC* на тестовой выборке при сбалансированном таргете. Для построения константной модели используем классификатор `DummyClassifier`."
   ]
  },
  {
   "cell_type": "code",
   "execution_count": 77,
   "metadata": {},
   "outputs": [
    {
     "data": {
      "text/plain": [
       "0    0.7965\n",
       "1    0.2035\n",
       "Name: Exited, dtype: float64"
      ]
     },
     "execution_count": 77,
     "metadata": {},
     "output_type": "execute_result"
    }
   ],
   "source": [
    "# выведем относительные частоты классов \n",
    "# в таргете тестовой выборки (от 0 до 1)\n",
    "target_test.value_counts(normalize=True)"
   ]
  },
  {
   "cell_type": "code",
   "execution_count": 78,
   "metadata": {},
   "outputs": [
    {
     "name": "stdout",
     "output_type": "stream",
     "text": [
      "Наивный прогноз F1-меры: 0.34\n",
      "Наивный прогноз AUC-ROC: 0.50\n"
     ]
    }
   ],
   "source": [
    "# построим константную модель model_dummy\n",
    "model_dummy = DummyClassifier(strategy='most_frequent', random_state=RANDOM_STATE)\n",
    "# обучим модель model_dummy на обучающей выборке\n",
    "model_dummy.fit(features_train_updownsampled, target_train_updownsampled) \n",
    "\n",
    "# F1-мера:\n",
    "\n",
    "# получим предсказания модели на тестовой выборке\n",
    "predictions_dummy = pd.Series(model_dummy.predict(features_test_ohe_scaler))\n",
    "# рассчитаем F1-меру для модели на тестовой выборке\n",
    "f1_dummy = f1_score(target_test, predictions_dummy)\n",
    "\n",
    "# AUC-ROC:\n",
    "\n",
    "# найдём значения вероятностей классов на тестовой выборке\n",
    "probabilities_dummy = model_dummy.predict_proba(features_test_ohe_scaler)\n",
    "# в переменной probabilities_one_dummy сохраним значения \n",
    "# вероятностей положительного класса «1»\n",
    "probabilities_one_dummy = probabilities_dummy[:, 1]\n",
    "# посчитаем AUC-ROC\n",
    "roc_auc_dummy = roc_auc_score(target_test, probabilities_one_dummy) \n",
    "\n",
    "\n",
    "print(f'Наивный прогноз F1-меры: {f1_dummy:.2f}')\n",
    "print(f'Наивный прогноз AUC-ROC: {roc_auc_dummy:.2f}')"
   ]
  },
  {
   "cell_type": "markdown",
   "metadata": {},
   "source": [
    "Наивные прогнозы *F1*-меры = 0.34 и *AUC-ROC* = 0.50, что существенно ниже значений этих метрик, полученных с помощью модели случайного леса `RandomForestClassifier` на тестовой выборке при сбалансированном таргете. Поэтому модель `RandomForestClassifier` можно считать адекватной."
   ]
  },
  {
   "cell_type": "markdown",
   "metadata": {},
   "source": [
    "### Матрица ошибок\n",
    "<a name=\"64\"></a> <div style=\"text-align: left\">[Cодержание](#Содержание)</div>"
   ]
  },
  {
   "cell_type": "markdown",
   "metadata": {},
   "source": [
    "Рассчитаем на тестовой выборке матрицу ошибок для модели случайного леса **`RandomForestClassifier`** при сбалансированном таргете."
   ]
  },
  {
   "cell_type": "code",
   "execution_count": 79,
   "metadata": {},
   "outputs": [
    {
     "data": {
      "text/plain": [
       "0    1593\n",
       "1     407\n",
       "Name: Exited, dtype: int64"
      ]
     },
     "execution_count": 79,
     "metadata": {},
     "output_type": "execute_result"
    }
   ],
   "source": [
    "# выведем баланс классов в таргете на тестовой выборке\n",
    "target_test.value_counts()"
   ]
  },
  {
   "cell_type": "code",
   "execution_count": 80,
   "metadata": {},
   "outputs": [
    {
     "data": {
      "image/png": "[encoded data removed]",
      "text/plain": [
       "<Figure size 600x600 with 2 Axes>"
      ]
     },
     "metadata": {
      "needs_background": "light"
     },
     "output_type": "display_data"
    }
   ],
   "source": [
    "# построим матрицу ошибок\n",
    "matrix = confusion_matrix(target_test, \n",
    "pd.Series(model_rf_updownsampled.predict(features_test_ohe_scaler)))\n",
    "\n",
    "# построим тепловую карту (хитмэп) матрицы ошибок\n",
    "plt.figure(figsize=(6, 6), dpi=100)\n",
    "sns.heatmap(matrix, annot=True, fmt='g', cmap='Oranges')\n",
    "plt.title('Матрица ошибок для RF test при сбалансированном таргете')\n",
    "plt.xlabel('Предсказания')\n",
    "plt.ylabel('Истинные значения')\n",
    "plt.show()"
   ]
  },
  {
   "cell_type": "markdown",
   "metadata": {},
   "source": [
    "По матрице ошибок нам необходимо определить:\n",
    "- долю ложноположительных ответов, *FP / N* (маркетологи спрогнозировали уход клиентам, которые не планировали уходить);\n",
    "- долю ложноотрицательных ответов, *FN / P* (маркетологи спрогнозировали, что клиенты останутся, при этом клиенты ушли).\n",
    "\n",
    "Для расчёта значений воспользуемся формулами:\n",
    "\n",
    "*FP / N = (FP / (FP + TN))*\n",
    "\n",
    "*FN / P = (FN / (TP + FN))*\n",
    "\n",
    "|        |        |\n",
    "| ------ | ------ |\n",
    "| **TN** | **FP** |\n",
    "| **FN** | **TP** |"
   ]
  },
  {
   "cell_type": "code",
   "execution_count": 81,
   "metadata": {},
   "outputs": [
    {
     "data": {
      "text/plain": [
       "array([[1327,  266],\n",
       "       [ 108,  299]])"
      ]
     },
     "execution_count": 81,
     "metadata": {},
     "output_type": "execute_result"
    }
   ],
   "source": [
    "matrix = confusion_matrix(target_test, pd.Series(model_rf_updownsampled.predict(features_test_ohe_scaler)))\n",
    "\n",
    "matrix"
   ]
  },
  {
   "cell_type": "markdown",
   "metadata": {},
   "source": [
    "Доля ложноположительных ответов *FP / N* на тестовой выборке."
   ]
  },
  {
   "cell_type": "code",
   "execution_count": 82,
   "metadata": {},
   "outputs": [
    {
     "name": "stdout",
     "output_type": "stream",
     "text": [
      "17%\n"
     ]
    }
   ],
   "source": [
    "fp_n = (matrix[0][1] / (matrix[0][1] + matrix[0][0]))\n",
    "print(f'{fp_n:.0%}')"
   ]
  },
  {
   "cell_type": "markdown",
   "metadata": {},
   "source": [
    "Доля ложноотрицательных ответов *FN / P* на тестовой выборке."
   ]
  },
  {
   "cell_type": "code",
   "execution_count": 83,
   "metadata": {},
   "outputs": [
    {
     "name": "stdout",
     "output_type": "stream",
     "text": [
      "27%\n"
     ]
    }
   ],
   "source": [
    "fn_p = (matrix[1][0] / (matrix[1][1] + matrix[1][0]))\n",
    "print(f'{fn_p:.0%}')"
   ]
  },
  {
   "cell_type": "markdown",
   "metadata": {},
   "source": [
    "На тестовой выборке при сбалансированном таргете доля ложноотрицательных ответов (27%) почти в 1,5 раза превышает долю ложноположительных (17%), что немного выше, чем на валидационной выборке. Модель по-прежнему лучше прогнозирует объекты отрицательного класса (клиенты остались)."
   ]
  },
  {
   "cell_type": "markdown",
   "metadata": {},
   "source": [
    "### *ROC* - кривая\n",
    "<a name=\"65\"></a> <div style=\"text-align: left\">[Cодержание](#Содержание)</div>"
   ]
  },
  {
   "cell_type": "markdown",
   "metadata": {},
   "source": [
    "Построим *ROC*-кривую для модели случайного леса **`RandomForestClassifier`** на тестовой выборке при сбалансированном таргете.\n",
    "\n",
    "Для построения *ROC*-кривой необходимо на графике отобразить по горизонтали характеристику *FPR*, а по вертикали - *TPR*. \n",
    "\n",
    "При этом:\n",
    "- *TPR = TP / P*, где *P = TP + FN*,\n",
    "- *FPR = FP / N*, где *N = FP + TN*,\n",
    "\n",
    "где\n",
    "- *True Positive Rate, TPR* - доля верно предсказанных объектов к общему числу объектов класса (*recall*, \"полнота\"), \n",
    "- *False Positive Rate, FPR* - доля ложных срабатываний к общему числу объектов за пределами класса.\n",
    "\n",
    "Переберём значения порога `thresholds` случайного леса `RandomForestClassifier` и проведём кривую. Она называется *ROC*-кривая, или кривая ошибок (от англ. *receiver operating characteristic*, «характеристика работы приёмника»; термин пришёл из теории обработки сигналов).\n",
    "\n",
    "Для модели, которая всегда отвечает случайно, *ROC*-кривая выглядит как прямая, идущая из левого нижнего угла в верхний правый. Чем график выше, тем больше значение *TPR* и лучше качество модели."
   ]
  },
  {
   "cell_type": "code",
   "execution_count": 84,
   "metadata": {},
   "outputs": [
    {
     "data": {
      "image/png": "[encoded data removed]",
      "text/plain": [
       "<Figure size 576x432 with 1 Axes>"
      ]
     },
     "metadata": {
      "needs_background": "light"
     },
     "output_type": "display_data"
    }
   ],
   "source": [
    "# построим ROC-кривую для модели случайного леса RandomForestClassifier \n",
    "# на тестовой выборке при сбалансированном таргете\n",
    "fpr_rf_test_updownsampled, tpr_rf_test_updownsampled, thresholds = \\\n",
    "roc_curve(target_test, probabilities_one_rf_test_updownsampled)\n",
    "\n",
    "plt.figure(figsize=(8,6))\n",
    "\n",
    "# построим график\n",
    "plt.plot(fpr_rf_test_updownsampled, tpr_rf_test_updownsampled)\n",
    "\n",
    "# ROC-кривая случайной модели (выглядит как прямая)\n",
    "plt.plot([0, 1], [0, 1], linestyle='--')\n",
    "\n",
    "# применим функции plt.xlim() и plt.ylim(), \n",
    "# чтобы установить границы осей от 0 до 1\n",
    "plt.xlim([0.0, 1.0])\n",
    "plt.ylim([0.0, 1.0])\n",
    "\n",
    "# подпишем кривые\n",
    "plt.legend(['ROC-кривая модели RandomForestClassifier (area = %0.2f)' % \\\n",
    "            roc_auc_rf_test_updownsampled, 'ROC-кривая случайной модели'])\n",
    "\n",
    "# применим функции plt.xlabel() и plt.ylabel(), чтобы подписать оси\n",
    "plt.xlabel('False Positive Rate')\n",
    "plt.ylabel('True Positive Rate')\n",
    "\n",
    "# добавим к графику заголовок \"ROC-кривая\" функцией plt.title()\n",
    "plt.title('ROC-кривая для модели RF test при сбалансированном таргете')\n",
    "\n",
    "plt.show()"
   ]
  },
  {
   "cell_type": "markdown",
   "metadata": {},
   "source": [
    "На графике видно, что площадь под *ROC*-кривой модели случайного леса `RandomForestClassifier` *AUC-ROC* = 0.86, что значительно превышает площадь под *ROC*-кривой случайной модели *AUC-ROC* = 0.5."
   ]
  },
  {
   "cell_type": "markdown",
   "metadata": {},
   "source": [
    "### Вывод\n",
    "<a name=\"66\"></a> <div style=\"text-align: left\">[Cодержание](#Содержание)</div>"
   ]
  },
  {
   "cell_type": "markdown",
   "metadata": {},
   "source": [
    "В разделе [**Тестирование модели**](#Тестирование-модели) были выполнены следующие задачи:\n",
    "1. качесто выбранной модели проверено на тестовой выборке;\n",
    "2. полученная модель проверена на адекватность;\n",
    "3. рассчитана матрица ошибок;\n",
    "4. построена *ROC*-кривая.\n",
    "\n",
    "\n",
    "В результате выполнения задач этого раздела было выявлено следующее:\n",
    "- Лучшая модель случайного леса **`RandomForestClassifier`** на тестовой выборке имеет значения метрик ***F1-мера = 0.62*** и ***AUC-ROC = 0.86***.\n",
    "- Наивные прогнозы *F1*-меры = 0.34 и *AUC-ROC* = 0.50, что существенно ниже значений этих метрик, полученных с помощью модели случайного леса `RandomForestClassifier` на тестовой выборке при сбалансированном таргете. Поэтому модель `RandomForestClassifier` можно считать адекватной.\n",
    "- На тестовой выборке при сбалансированном таргете доля ложноотрицательных ответов (27%) почти в 1,5 раза превышает долю ложноположительных (17%), что немного выше, чем на валидационной выборке. Модель по-прежнему лучше прогнозирует объекты отрицательного класса (клиенты остались).\n",
    "- Площадь под *ROC*-кривой модели случайного леса `RandomForestClassifier` *AUC-ROC* = 0.86, что значительно превышает площадь под *ROC*-кривой случайной модели *AUC-ROC* = 0.5."
   ]
  },
  {
   "cell_type": "markdown",
   "metadata": {},
   "source": [
    "## Общий вывод\n",
    "<a name=\"7\"></a> <div style=\"text-align: left\">[Cодержание](#Содержание)</div>"
   ]
  },
  {
   "cell_type": "markdown",
   "metadata": {},
   "source": [
    "Проведено исследование с целью построения модели машинного обучения, которая поможет прогнозировать уход клиентов из банка в ближайшее время.\n",
    "\n",
    "Входные данные: исторические данные о поведении клиентов и расторжении договоров с банком.\n",
    "\n",
    "На этапе [**подготовки данных**](#Подготовка-данных) была получена общая информация о датасете. Затем мы обработали пропуски - провели обзор нескольких методов обработки и выбрали самый оптимальный. Удалили лишние признаки, которые не влияют на целевой признак, после этого разбили данные на выборки. Выполнили кодирование категориальных признаков с помощью техники прямого кодирования One-Hot Encoding (OHE) с последующим масштабированием численных признаков. Выявили дисбаланс классов. Также определили, что в нашем проекте решается задача бинарной классификации.\n",
    "\n",
    "На этапе [**исследования задачи без учёта дисбаланса**](#Исследование-задачи-без-учёта-дисбаланса) при дисбалансе классов в таргете мы построили и обучили  модели дерева решений, случайного леса, случайного леса с GridSearchCV и логистической регрессии. Затем вывели таблицу сравнения метрик F1-мера и AUC-ROC разных моделей на валидационной выборке и рассчитали матрицу ошибок.\n",
    "\n",
    "На этапе [**исследования задачи с учётом дисбаланса**](#Исследование-задачи-с-учётом-дисбаланса) мы проделали действия, что и на прошлом этапе, но уже при сбалансированных классах.\n",
    "\n",
    "В ходе исследования удалось получить следующие результаты **на валидационной выборке** при сбалансированном таргете:\n",
    "\n",
    "1. Лучшая модель дерева решений **`DecisionTreeClassifier`** имеет значения метрик оценки качества:\n",
    "    - ***F1-мера = 0.57***\n",
    "    - ***AUC-ROC = 0.80*** \n",
    "\n",
    "   при следующих параметрах:\n",
    "    - глубина дерева: `max_depth` = 8\n",
    "\n",
    "\n",
    "2. Лучшая модель случайного леса **`RandomForestClassifier`** имеет значения метрик оценки качества:\n",
    "    - ***F1-мера = 0.62***\n",
    "    - ***AUC-ROC = 0.87*** \n",
    "\n",
    "   при следующих параметрах:\n",
    "    - глубина дерева: `max_depth` = 17\n",
    "    - количество деревьев: `n_estimators` = 9\n",
    "\n",
    "\n",
    "3. Модель логистической регрессии **`LogisticRegression`** имеет значения метрик оценки качества:\n",
    "    - ***F1-мера = 0.51***\n",
    "    - ***AUC-ROC = 0.79***\n",
    "\n",
    "Также мы изучили два метода борьбы с дисбалансом:\n",
    "   - метод с upsampling/downsampling;\n",
    "   - метод с параметром `class_weight='balanced'`.\n",
    "\n",
    "Исходя из полученных результатов, можно сделать следующие **выводы**:\n",
    "\n",
    "- По полученным метрикам мы видим, что между методом с upsampling/downsampling и методом с параметром class_weight='balanced' особой разницы нет. Оба метода показывают метрики, удовлетворяющие условию нашей задачи.\n",
    "- По итогам исследования, лучшей моделью стала модель случайного леса **`RandomForestClassifier`** с методом upsampling/downsampling.\n",
    "\n",
    "На этапе [**тестирования модели**](#Тестирование-модели) мы провели финальное тестирование нашей лучшей модели.\n",
    "\n",
    "Лучшая модель случайного леса **`RandomForestClassifier` на тестовой выборке** имеет значения метрик оценки качества:\n",
    "- ***F1-мера = 0.62***\n",
    "- ***AUC-ROC = 0.86***\n",
    "\n",
    "Т.е. значение метрики ***F1-мера*** на тестовой выборке превышает ***0.59***, что соответствует изначальному требованию в условии задачи проекта.\n",
    "\n",
    "Затем полученная модель успешно прошла проверку на адекватность после сравнения с константной моделью DummyClassifier. После этого была рассчитана матрица ошибок для модели, по итогу выяснилось, что модель всё ёщё лучше прогнозирует объекты отрицательного класса, хотя здесь ситуация лучше, чем была при дисбалансе классов. Затем была построена ROC-кривая, метрика *AUC-ROC* составила 0.86, что является хорошим показателем т.к. чем она выше, тем лучше.\n",
    " ______________________ ______________________ ______________________\n",
    "\n",
    "В результате удалось сформулировать следующие общие рекомендации:\n",
    "\n",
    "На валидационной выборке при сбалансированном целевом признаке:\n",
    "- ***F1-мера = 0.57*** для модели дерева решений **`DecisionTreeClassifier`**;\n",
    "- ***F1-мера = 0.62*** для модели случайного леса **`RandomForestClassifier`**;\n",
    "- ***F1-мера = 0.51*** для модели логистической регрессии **`LogisticRegression`**.\n",
    "\n",
    "Рекомендация 1: для улучшения работы модели случайного леса можно обогатить данные - собрать и добавить в исследуемый датасет дополнительные данные об ушедших клиентах (т.е. добавить в датасет данные с объектами положительного класса в таргете).\n",
    "\n",
    "\n",
    "На валидационной выборке при сбалансированном целевом признаке:\n",
    "- ***F1-мера = 0.62*** для модели случайного леса **`RandomForestClassifier`**.\n",
    "\n",
    "Рекомендация 2: для увеличения метрики *F1*-мера можно собрать более полные данные о том, сколько лет человек является клиентом банка (`Tenure`).\n",
    "\n",
    "\n",
    "На валидационной выборке при сбалансированном целевом признаке:\n",
    "- ***AUC-ROC = 0.80*** для модели дерева решений **`DecisionTreeClassifier`**;\n",
    "- ***AUC-ROC = 0.87*** для модели случайного леса **`RandomForestClassifier`**;\n",
    "- ***AUC-ROC = 0.79*** для модели логистической регрессии **`LogisticRegression`**.\n",
    "\n",
    "Рекомендация 3: для увеличения метрики *AUC-ROC* можно собрать более полные данные о том, сколько лет человек является клиентом банка (`Tenure`).\n",
    "\n",
    "На тестовой выборке при сбалансированном таргете доля ложноотрицательных ответов (27%) почти в 1,5 раза превышает долю ложноположительных (16%), что немного выше, чем на валидационной выборке. Модель по-прежнему лучше прогнозирует объекты отрицательного класса (клиенты остались).\n",
    "\n",
    "Рекомендация 4: для улучшения предсказания лучшей модели нужно выполнить действия, аналогичные в рекомендации 1.\n",
    "\n",
    "\n",
    "Банковским маркетологам, которые занимаются исследованием поведения пользователей и планированием увеличения прибыли, можно использовать вышеприведённые рекомендации. Результаты исследования позволят маркетологам сохранить текущих клиентов, т.к. это дешевле, чем привлекать новых.\n",
    "\n",
    " ______________________ ______________________ ______________________\n",
    " \n",
    "На этом мы заканчиваем - благодарим вас за внимание, надеемся, что наше исследование вам понравилось и поможет сделать правильные выводы, принять правильные решения."
   ]
  }
 ],
 "metadata": {
  "ExecuteTimeLog": [
   {
    "duration": 1879,
    "start_time": "2023-05-23T16:43:02.331Z"
   },
   {
    "duration": 2,
    "start_time": "2023-05-23T16:43:04.212Z"
   },
   {
    "duration": 158,
    "start_time": "2023-05-23T16:43:04.216Z"
   },
   {
    "duration": 0,
    "start_time": "2023-05-23T16:43:04.377Z"
   },
   {
    "duration": 0,
    "start_time": "2023-05-23T16:43:04.378Z"
   },
   {
    "duration": 0,
    "start_time": "2023-05-23T16:43:04.380Z"
   },
   {
    "duration": 0,
    "start_time": "2023-05-23T16:43:04.382Z"
   },
   {
    "duration": 0,
    "start_time": "2023-05-23T16:43:04.382Z"
   },
   {
    "duration": 0,
    "start_time": "2023-05-23T16:43:04.385Z"
   },
   {
    "duration": 0,
    "start_time": "2023-05-23T16:43:04.385Z"
   },
   {
    "duration": 0,
    "start_time": "2023-05-23T16:43:04.387Z"
   },
   {
    "duration": 0,
    "start_time": "2023-05-23T16:43:04.388Z"
   },
   {
    "duration": 0,
    "start_time": "2023-05-23T16:43:04.388Z"
   },
   {
    "duration": 0,
    "start_time": "2023-05-23T16:43:04.390Z"
   },
   {
    "duration": 0,
    "start_time": "2023-05-23T16:43:04.391Z"
   },
   {
    "duration": 0,
    "start_time": "2023-05-23T16:43:04.391Z"
   },
   {
    "duration": 0,
    "start_time": "2023-05-23T16:43:04.392Z"
   },
   {
    "duration": 0,
    "start_time": "2023-05-23T16:43:04.393Z"
   },
   {
    "duration": 0,
    "start_time": "2023-05-23T16:43:04.394Z"
   },
   {
    "duration": 0,
    "start_time": "2023-05-23T16:43:04.395Z"
   },
   {
    "duration": 0,
    "start_time": "2023-05-23T16:43:04.396Z"
   },
   {
    "duration": 0,
    "start_time": "2023-05-23T16:43:04.397Z"
   },
   {
    "duration": 0,
    "start_time": "2023-05-23T16:43:04.398Z"
   },
   {
    "duration": 0,
    "start_time": "2023-05-23T16:43:04.399Z"
   },
   {
    "duration": 0,
    "start_time": "2023-05-23T16:43:04.400Z"
   },
   {
    "duration": 0,
    "start_time": "2023-05-23T16:43:04.401Z"
   },
   {
    "duration": 0,
    "start_time": "2023-05-23T16:43:04.402Z"
   },
   {
    "duration": 0,
    "start_time": "2023-05-23T16:43:04.403Z"
   },
   {
    "duration": 0,
    "start_time": "2023-05-23T16:43:04.404Z"
   },
   {
    "duration": 0,
    "start_time": "2023-05-23T16:43:04.405Z"
   },
   {
    "duration": 0,
    "start_time": "2023-05-23T16:43:04.406Z"
   },
   {
    "duration": 0,
    "start_time": "2023-05-23T16:43:04.407Z"
   },
   {
    "duration": 0,
    "start_time": "2023-05-23T16:43:04.408Z"
   },
   {
    "duration": 0,
    "start_time": "2023-05-23T16:43:04.409Z"
   },
   {
    "duration": 0,
    "start_time": "2023-05-23T16:43:04.410Z"
   },
   {
    "duration": 0,
    "start_time": "2023-05-23T16:43:04.411Z"
   },
   {
    "duration": 0,
    "start_time": "2023-05-23T16:43:04.412Z"
   },
   {
    "duration": 0,
    "start_time": "2023-05-23T16:43:04.413Z"
   },
   {
    "duration": 0,
    "start_time": "2023-05-23T16:43:04.414Z"
   },
   {
    "duration": 0,
    "start_time": "2023-05-23T16:43:04.415Z"
   },
   {
    "duration": 0,
    "start_time": "2023-05-23T16:43:04.416Z"
   },
   {
    "duration": 0,
    "start_time": "2023-05-23T16:43:04.417Z"
   },
   {
    "duration": 0,
    "start_time": "2023-05-23T16:43:04.419Z"
   },
   {
    "duration": 0,
    "start_time": "2023-05-23T16:43:04.420Z"
   },
   {
    "duration": 0,
    "start_time": "2023-05-23T16:43:04.485Z"
   },
   {
    "duration": 0,
    "start_time": "2023-05-23T16:43:04.486Z"
   },
   {
    "duration": 0,
    "start_time": "2023-05-23T16:43:04.487Z"
   },
   {
    "duration": 0,
    "start_time": "2023-05-23T16:43:04.488Z"
   },
   {
    "duration": 0,
    "start_time": "2023-05-23T16:43:04.490Z"
   },
   {
    "duration": 0,
    "start_time": "2023-05-23T16:43:04.491Z"
   },
   {
    "duration": 0,
    "start_time": "2023-05-23T16:43:04.492Z"
   },
   {
    "duration": 0,
    "start_time": "2023-05-23T16:43:04.493Z"
   },
   {
    "duration": 0,
    "start_time": "2023-05-23T16:43:04.494Z"
   },
   {
    "duration": 0,
    "start_time": "2023-05-23T16:43:04.495Z"
   },
   {
    "duration": 0,
    "start_time": "2023-05-23T16:43:04.496Z"
   },
   {
    "duration": 0,
    "start_time": "2023-05-23T16:43:04.497Z"
   },
   {
    "duration": 0,
    "start_time": "2023-05-23T16:43:04.499Z"
   },
   {
    "duration": 0,
    "start_time": "2023-05-23T16:43:04.500Z"
   },
   {
    "duration": 0,
    "start_time": "2023-05-23T16:43:04.501Z"
   },
   {
    "duration": 0,
    "start_time": "2023-05-23T16:43:04.503Z"
   },
   {
    "duration": 0,
    "start_time": "2023-05-23T16:43:04.506Z"
   },
   {
    "duration": 0,
    "start_time": "2023-05-23T16:43:04.507Z"
   },
   {
    "duration": 0,
    "start_time": "2023-05-23T16:43:04.508Z"
   },
   {
    "duration": 0,
    "start_time": "2023-05-23T16:43:04.509Z"
   },
   {
    "duration": 0,
    "start_time": "2023-05-23T16:43:04.510Z"
   },
   {
    "duration": 0,
    "start_time": "2023-05-23T16:43:04.512Z"
   },
   {
    "duration": 0,
    "start_time": "2023-05-23T16:43:04.513Z"
   },
   {
    "duration": 0,
    "start_time": "2023-05-23T16:43:04.514Z"
   },
   {
    "duration": 0,
    "start_time": "2023-05-23T16:43:04.515Z"
   },
   {
    "duration": 0,
    "start_time": "2023-05-23T16:43:04.516Z"
   },
   {
    "duration": 0,
    "start_time": "2023-05-23T16:43:04.517Z"
   },
   {
    "duration": 0,
    "start_time": "2023-05-23T16:43:04.518Z"
   },
   {
    "duration": 0,
    "start_time": "2023-05-23T16:43:04.520Z"
   },
   {
    "duration": 0,
    "start_time": "2023-05-23T16:43:04.521Z"
   },
   {
    "duration": 0,
    "start_time": "2023-05-23T16:43:04.522Z"
   },
   {
    "duration": 0,
    "start_time": "2023-05-23T16:43:04.585Z"
   },
   {
    "duration": 0,
    "start_time": "2023-05-23T16:43:04.586Z"
   },
   {
    "duration": 77,
    "start_time": "2023-05-23T16:44:53.477Z"
   },
   {
    "duration": 5,
    "start_time": "2023-05-23T16:44:53.555Z"
   },
   {
    "duration": 27,
    "start_time": "2023-05-23T16:44:53.561Z"
   },
   {
    "duration": 11,
    "start_time": "2023-05-23T16:44:53.589Z"
   },
   {
    "duration": 15,
    "start_time": "2023-05-23T16:44:53.602Z"
   },
   {
    "duration": 22,
    "start_time": "2023-05-23T16:44:53.618Z"
   },
   {
    "duration": 9,
    "start_time": "2023-05-23T16:44:53.641Z"
   },
   {
    "duration": 16,
    "start_time": "2023-05-23T16:44:53.652Z"
   },
   {
    "duration": 33,
    "start_time": "2023-05-23T16:44:53.669Z"
   },
   {
    "duration": 33,
    "start_time": "2023-05-23T16:44:53.704Z"
   },
   {
    "duration": 38,
    "start_time": "2023-05-23T16:44:53.738Z"
   },
   {
    "duration": 7,
    "start_time": "2023-05-23T16:44:53.777Z"
   },
   {
    "duration": 6,
    "start_time": "2023-05-23T16:44:53.785Z"
   },
   {
    "duration": 15,
    "start_time": "2023-05-23T16:44:53.793Z"
   },
   {
    "duration": 3,
    "start_time": "2023-05-23T16:44:53.810Z"
   },
   {
    "duration": 28,
    "start_time": "2023-05-23T16:44:53.814Z"
   },
   {
    "duration": 19,
    "start_time": "2023-05-23T16:44:53.843Z"
   },
   {
    "duration": 12,
    "start_time": "2023-05-23T16:44:53.864Z"
   },
   {
    "duration": 11,
    "start_time": "2023-05-23T16:44:53.877Z"
   },
   {
    "duration": 13,
    "start_time": "2023-05-23T16:44:53.889Z"
   },
   {
    "duration": 18,
    "start_time": "2023-05-23T16:44:53.903Z"
   },
   {
    "duration": 17,
    "start_time": "2023-05-23T16:44:53.922Z"
   },
   {
    "duration": 20,
    "start_time": "2023-05-23T16:44:53.940Z"
   },
   {
    "duration": 24,
    "start_time": "2023-05-23T16:44:53.961Z"
   },
   {
    "duration": 12,
    "start_time": "2023-05-23T16:44:53.986Z"
   },
   {
    "duration": 2,
    "start_time": "2023-05-23T16:44:53.999Z"
   },
   {
    "duration": 18,
    "start_time": "2023-05-23T16:44:54.002Z"
   },
   {
    "duration": 0,
    "start_time": "2023-05-23T16:44:54.022Z"
   },
   {
    "duration": 0,
    "start_time": "2023-05-23T16:44:54.023Z"
   },
   {
    "duration": 0,
    "start_time": "2023-05-23T16:44:54.023Z"
   },
   {
    "duration": 0,
    "start_time": "2023-05-23T16:44:54.024Z"
   },
   {
    "duration": 0,
    "start_time": "2023-05-23T16:44:54.025Z"
   },
   {
    "duration": 0,
    "start_time": "2023-05-23T16:44:54.025Z"
   },
   {
    "duration": 0,
    "start_time": "2023-05-23T16:44:54.026Z"
   },
   {
    "duration": 0,
    "start_time": "2023-05-23T16:44:54.027Z"
   },
   {
    "duration": 0,
    "start_time": "2023-05-23T16:44:54.028Z"
   },
   {
    "duration": 0,
    "start_time": "2023-05-23T16:44:54.029Z"
   },
   {
    "duration": 0,
    "start_time": "2023-05-23T16:44:54.030Z"
   },
   {
    "duration": 0,
    "start_time": "2023-05-23T16:44:54.031Z"
   },
   {
    "duration": 0,
    "start_time": "2023-05-23T16:44:54.032Z"
   },
   {
    "duration": 0,
    "start_time": "2023-05-23T16:44:54.032Z"
   },
   {
    "duration": 0,
    "start_time": "2023-05-23T16:44:54.033Z"
   },
   {
    "duration": 0,
    "start_time": "2023-05-23T16:44:54.034Z"
   },
   {
    "duration": 0,
    "start_time": "2023-05-23T16:44:54.035Z"
   },
   {
    "duration": 0,
    "start_time": "2023-05-23T16:44:54.036Z"
   },
   {
    "duration": 0,
    "start_time": "2023-05-23T16:44:54.036Z"
   },
   {
    "duration": 0,
    "start_time": "2023-05-23T16:44:54.037Z"
   },
   {
    "duration": 0,
    "start_time": "2023-05-23T16:44:54.038Z"
   },
   {
    "duration": 0,
    "start_time": "2023-05-23T16:44:54.039Z"
   },
   {
    "duration": 0,
    "start_time": "2023-05-23T16:44:54.040Z"
   },
   {
    "duration": 0,
    "start_time": "2023-05-23T16:44:54.041Z"
   },
   {
    "duration": 0,
    "start_time": "2023-05-23T16:44:54.084Z"
   },
   {
    "duration": 0,
    "start_time": "2023-05-23T16:44:54.085Z"
   },
   {
    "duration": 0,
    "start_time": "2023-05-23T16:44:54.086Z"
   },
   {
    "duration": 0,
    "start_time": "2023-05-23T16:44:54.087Z"
   },
   {
    "duration": 0,
    "start_time": "2023-05-23T16:44:54.088Z"
   },
   {
    "duration": 0,
    "start_time": "2023-05-23T16:44:54.089Z"
   },
   {
    "duration": 0,
    "start_time": "2023-05-23T16:44:54.090Z"
   },
   {
    "duration": 0,
    "start_time": "2023-05-23T16:44:54.091Z"
   },
   {
    "duration": 0,
    "start_time": "2023-05-23T16:44:54.092Z"
   },
   {
    "duration": 0,
    "start_time": "2023-05-23T16:44:54.093Z"
   },
   {
    "duration": 0,
    "start_time": "2023-05-23T16:44:54.095Z"
   },
   {
    "duration": 0,
    "start_time": "2023-05-23T16:44:54.096Z"
   },
   {
    "duration": 0,
    "start_time": "2023-05-23T16:44:54.097Z"
   },
   {
    "duration": 0,
    "start_time": "2023-05-23T16:44:54.098Z"
   },
   {
    "duration": 0,
    "start_time": "2023-05-23T16:44:54.099Z"
   },
   {
    "duration": 0,
    "start_time": "2023-05-23T16:44:54.100Z"
   },
   {
    "duration": 0,
    "start_time": "2023-05-23T16:44:54.101Z"
   },
   {
    "duration": 0,
    "start_time": "2023-05-23T16:44:54.103Z"
   },
   {
    "duration": 0,
    "start_time": "2023-05-23T16:44:54.104Z"
   },
   {
    "duration": 0,
    "start_time": "2023-05-23T16:44:54.105Z"
   },
   {
    "duration": 1,
    "start_time": "2023-05-23T16:44:54.105Z"
   },
   {
    "duration": 0,
    "start_time": "2023-05-23T16:44:54.107Z"
   },
   {
    "duration": 0,
    "start_time": "2023-05-23T16:44:54.107Z"
   },
   {
    "duration": 0,
    "start_time": "2023-05-23T16:44:54.108Z"
   },
   {
    "duration": 8713,
    "start_time": "2023-05-23T16:45:40.825Z"
   },
   {
    "duration": 5,
    "start_time": "2023-05-23T16:45:49.540Z"
   },
   {
    "duration": 8,
    "start_time": "2023-05-23T16:45:49.546Z"
   },
   {
    "duration": 58,
    "start_time": "2023-05-23T16:45:49.555Z"
   },
   {
    "duration": 0,
    "start_time": "2023-05-23T16:45:49.616Z"
   },
   {
    "duration": 0,
    "start_time": "2023-05-23T16:45:49.617Z"
   },
   {
    "duration": 0,
    "start_time": "2023-05-23T16:45:49.618Z"
   },
   {
    "duration": 0,
    "start_time": "2023-05-23T16:45:49.619Z"
   },
   {
    "duration": 0,
    "start_time": "2023-05-23T16:45:49.620Z"
   },
   {
    "duration": 0,
    "start_time": "2023-05-23T16:45:49.621Z"
   },
   {
    "duration": 0,
    "start_time": "2023-05-23T16:45:49.622Z"
   },
   {
    "duration": 1,
    "start_time": "2023-05-23T16:45:49.623Z"
   },
   {
    "duration": 0,
    "start_time": "2023-05-23T16:45:49.625Z"
   },
   {
    "duration": 0,
    "start_time": "2023-05-23T16:45:49.626Z"
   },
   {
    "duration": 0,
    "start_time": "2023-05-23T16:45:49.627Z"
   },
   {
    "duration": 0,
    "start_time": "2023-05-23T16:45:49.628Z"
   },
   {
    "duration": 0,
    "start_time": "2023-05-23T16:45:49.629Z"
   },
   {
    "duration": 0,
    "start_time": "2023-05-23T16:45:49.630Z"
   },
   {
    "duration": 0,
    "start_time": "2023-05-23T16:45:49.631Z"
   },
   {
    "duration": 0,
    "start_time": "2023-05-23T16:45:49.632Z"
   },
   {
    "duration": 0,
    "start_time": "2023-05-23T16:45:49.633Z"
   },
   {
    "duration": 0,
    "start_time": "2023-05-23T16:45:49.634Z"
   },
   {
    "duration": 0,
    "start_time": "2023-05-23T16:45:49.635Z"
   },
   {
    "duration": 0,
    "start_time": "2023-05-23T16:45:49.636Z"
   },
   {
    "duration": 0,
    "start_time": "2023-05-23T16:45:49.636Z"
   },
   {
    "duration": 0,
    "start_time": "2023-05-23T16:45:49.637Z"
   },
   {
    "duration": 0,
    "start_time": "2023-05-23T16:45:49.638Z"
   },
   {
    "duration": 0,
    "start_time": "2023-05-23T16:45:49.639Z"
   },
   {
    "duration": 0,
    "start_time": "2023-05-23T16:45:49.640Z"
   },
   {
    "duration": 0,
    "start_time": "2023-05-23T16:45:49.640Z"
   },
   {
    "duration": 0,
    "start_time": "2023-05-23T16:45:49.641Z"
   },
   {
    "duration": 0,
    "start_time": "2023-05-23T16:45:49.642Z"
   },
   {
    "duration": 0,
    "start_time": "2023-05-23T16:45:49.643Z"
   },
   {
    "duration": 0,
    "start_time": "2023-05-23T16:45:49.644Z"
   },
   {
    "duration": 0,
    "start_time": "2023-05-23T16:45:49.644Z"
   },
   {
    "duration": 0,
    "start_time": "2023-05-23T16:45:49.645Z"
   },
   {
    "duration": 0,
    "start_time": "2023-05-23T16:45:49.646Z"
   },
   {
    "duration": 0,
    "start_time": "2023-05-23T16:45:49.647Z"
   },
   {
    "duration": 0,
    "start_time": "2023-05-23T16:45:49.648Z"
   },
   {
    "duration": 0,
    "start_time": "2023-05-23T16:45:49.648Z"
   },
   {
    "duration": 0,
    "start_time": "2023-05-23T16:45:49.649Z"
   },
   {
    "duration": 0,
    "start_time": "2023-05-23T16:45:49.684Z"
   },
   {
    "duration": 0,
    "start_time": "2023-05-23T16:45:49.685Z"
   },
   {
    "duration": 0,
    "start_time": "2023-05-23T16:45:49.686Z"
   },
   {
    "duration": 0,
    "start_time": "2023-05-23T16:45:49.687Z"
   },
   {
    "duration": 0,
    "start_time": "2023-05-23T16:45:49.687Z"
   },
   {
    "duration": 0,
    "start_time": "2023-05-23T16:45:49.688Z"
   },
   {
    "duration": 0,
    "start_time": "2023-05-23T16:45:49.689Z"
   },
   {
    "duration": 0,
    "start_time": "2023-05-23T16:45:49.690Z"
   },
   {
    "duration": 0,
    "start_time": "2023-05-23T16:45:49.691Z"
   },
   {
    "duration": 0,
    "start_time": "2023-05-23T16:45:49.692Z"
   },
   {
    "duration": 0,
    "start_time": "2023-05-23T16:45:49.693Z"
   },
   {
    "duration": 0,
    "start_time": "2023-05-23T16:45:49.694Z"
   },
   {
    "duration": 0,
    "start_time": "2023-05-23T16:45:49.695Z"
   },
   {
    "duration": 0,
    "start_time": "2023-05-23T16:45:49.695Z"
   },
   {
    "duration": 0,
    "start_time": "2023-05-23T16:45:49.696Z"
   },
   {
    "duration": 0,
    "start_time": "2023-05-23T16:45:49.697Z"
   },
   {
    "duration": 0,
    "start_time": "2023-05-23T16:45:49.698Z"
   },
   {
    "duration": 0,
    "start_time": "2023-05-23T16:45:49.699Z"
   },
   {
    "duration": 0,
    "start_time": "2023-05-23T16:45:49.700Z"
   },
   {
    "duration": 0,
    "start_time": "2023-05-23T16:45:49.701Z"
   },
   {
    "duration": 0,
    "start_time": "2023-05-23T16:45:49.702Z"
   },
   {
    "duration": 0,
    "start_time": "2023-05-23T16:45:49.702Z"
   },
   {
    "duration": 0,
    "start_time": "2023-05-23T16:45:49.703Z"
   },
   {
    "duration": 0,
    "start_time": "2023-05-23T16:45:49.704Z"
   },
   {
    "duration": 0,
    "start_time": "2023-05-23T16:45:49.705Z"
   },
   {
    "duration": 0,
    "start_time": "2023-05-23T16:45:49.706Z"
   },
   {
    "duration": 0,
    "start_time": "2023-05-23T16:45:49.707Z"
   },
   {
    "duration": 0,
    "start_time": "2023-05-23T16:45:49.708Z"
   },
   {
    "duration": 0,
    "start_time": "2023-05-23T16:45:49.709Z"
   },
   {
    "duration": 0,
    "start_time": "2023-05-23T16:45:49.709Z"
   },
   {
    "duration": 0,
    "start_time": "2023-05-23T16:45:49.710Z"
   },
   {
    "duration": 0,
    "start_time": "2023-05-23T16:45:49.711Z"
   },
   {
    "duration": 0,
    "start_time": "2023-05-23T16:45:49.712Z"
   },
   {
    "duration": 0,
    "start_time": "2023-05-23T16:45:49.713Z"
   },
   {
    "duration": 0,
    "start_time": "2023-05-23T16:45:49.714Z"
   },
   {
    "duration": 0,
    "start_time": "2023-05-23T16:45:49.715Z"
   },
   {
    "duration": 0,
    "start_time": "2023-05-23T16:45:49.716Z"
   },
   {
    "duration": 0,
    "start_time": "2023-05-23T16:45:49.716Z"
   },
   {
    "duration": 1881,
    "start_time": "2023-05-23T16:45:59.573Z"
   },
   {
    "duration": 1111,
    "start_time": "2023-05-23T16:46:01.456Z"
   },
   {
    "duration": 2,
    "start_time": "2023-05-23T16:46:02.569Z"
   },
   {
    "duration": 169,
    "start_time": "2023-05-23T16:46:02.573Z"
   },
   {
    "duration": 0,
    "start_time": "2023-05-23T16:46:02.745Z"
   },
   {
    "duration": 0,
    "start_time": "2023-05-23T16:46:02.746Z"
   },
   {
    "duration": 0,
    "start_time": "2023-05-23T16:46:02.746Z"
   },
   {
    "duration": 0,
    "start_time": "2023-05-23T16:46:02.747Z"
   },
   {
    "duration": 0,
    "start_time": "2023-05-23T16:46:02.748Z"
   },
   {
    "duration": 0,
    "start_time": "2023-05-23T16:46:02.749Z"
   },
   {
    "duration": 0,
    "start_time": "2023-05-23T16:46:02.749Z"
   },
   {
    "duration": 0,
    "start_time": "2023-05-23T16:46:02.750Z"
   },
   {
    "duration": 0,
    "start_time": "2023-05-23T16:46:02.752Z"
   },
   {
    "duration": 0,
    "start_time": "2023-05-23T16:46:02.753Z"
   },
   {
    "duration": 0,
    "start_time": "2023-05-23T16:46:02.754Z"
   },
   {
    "duration": 0,
    "start_time": "2023-05-23T16:46:02.755Z"
   },
   {
    "duration": 0,
    "start_time": "2023-05-23T16:46:02.756Z"
   },
   {
    "duration": 0,
    "start_time": "2023-05-23T16:46:02.757Z"
   },
   {
    "duration": 0,
    "start_time": "2023-05-23T16:46:02.758Z"
   },
   {
    "duration": 0,
    "start_time": "2023-05-23T16:46:02.760Z"
   },
   {
    "duration": 0,
    "start_time": "2023-05-23T16:46:02.785Z"
   },
   {
    "duration": 0,
    "start_time": "2023-05-23T16:46:02.786Z"
   },
   {
    "duration": 0,
    "start_time": "2023-05-23T16:46:02.787Z"
   },
   {
    "duration": 0,
    "start_time": "2023-05-23T16:46:02.788Z"
   },
   {
    "duration": 0,
    "start_time": "2023-05-23T16:46:02.790Z"
   },
   {
    "duration": 0,
    "start_time": "2023-05-23T16:46:02.792Z"
   },
   {
    "duration": 0,
    "start_time": "2023-05-23T16:46:02.793Z"
   },
   {
    "duration": 0,
    "start_time": "2023-05-23T16:46:02.795Z"
   },
   {
    "duration": 0,
    "start_time": "2023-05-23T16:46:02.796Z"
   },
   {
    "duration": 0,
    "start_time": "2023-05-23T16:46:02.797Z"
   },
   {
    "duration": 0,
    "start_time": "2023-05-23T16:46:02.799Z"
   },
   {
    "duration": 0,
    "start_time": "2023-05-23T16:46:02.800Z"
   },
   {
    "duration": 1,
    "start_time": "2023-05-23T16:46:02.801Z"
   },
   {
    "duration": 0,
    "start_time": "2023-05-23T16:46:02.803Z"
   },
   {
    "duration": 0,
    "start_time": "2023-05-23T16:46:02.804Z"
   },
   {
    "duration": 0,
    "start_time": "2023-05-23T16:46:02.805Z"
   },
   {
    "duration": 0,
    "start_time": "2023-05-23T16:46:02.806Z"
   },
   {
    "duration": 0,
    "start_time": "2023-05-23T16:46:02.807Z"
   },
   {
    "duration": 0,
    "start_time": "2023-05-23T16:46:02.809Z"
   },
   {
    "duration": 0,
    "start_time": "2023-05-23T16:46:02.810Z"
   },
   {
    "duration": 0,
    "start_time": "2023-05-23T16:46:02.811Z"
   },
   {
    "duration": 0,
    "start_time": "2023-05-23T16:46:02.812Z"
   },
   {
    "duration": 0,
    "start_time": "2023-05-23T16:46:02.814Z"
   },
   {
    "duration": 0,
    "start_time": "2023-05-23T16:46:02.815Z"
   },
   {
    "duration": 0,
    "start_time": "2023-05-23T16:46:02.816Z"
   },
   {
    "duration": 1,
    "start_time": "2023-05-23T16:46:02.817Z"
   },
   {
    "duration": 0,
    "start_time": "2023-05-23T16:46:02.819Z"
   },
   {
    "duration": 0,
    "start_time": "2023-05-23T16:46:02.820Z"
   },
   {
    "duration": 0,
    "start_time": "2023-05-23T16:46:02.821Z"
   },
   {
    "duration": 0,
    "start_time": "2023-05-23T16:46:02.822Z"
   },
   {
    "duration": 0,
    "start_time": "2023-05-23T16:46:02.823Z"
   },
   {
    "duration": 0,
    "start_time": "2023-05-23T16:46:02.884Z"
   },
   {
    "duration": 0,
    "start_time": "2023-05-23T16:46:02.886Z"
   },
   {
    "duration": 0,
    "start_time": "2023-05-23T16:46:02.887Z"
   },
   {
    "duration": 0,
    "start_time": "2023-05-23T16:46:02.888Z"
   },
   {
    "duration": 0,
    "start_time": "2023-05-23T16:46:02.890Z"
   },
   {
    "duration": 0,
    "start_time": "2023-05-23T16:46:02.891Z"
   },
   {
    "duration": 0,
    "start_time": "2023-05-23T16:46:02.892Z"
   },
   {
    "duration": 0,
    "start_time": "2023-05-23T16:46:02.894Z"
   },
   {
    "duration": 0,
    "start_time": "2023-05-23T16:46:02.895Z"
   },
   {
    "duration": 0,
    "start_time": "2023-05-23T16:46:02.896Z"
   },
   {
    "duration": 0,
    "start_time": "2023-05-23T16:46:02.898Z"
   },
   {
    "duration": 0,
    "start_time": "2023-05-23T16:46:02.899Z"
   },
   {
    "duration": 0,
    "start_time": "2023-05-23T16:46:02.900Z"
   },
   {
    "duration": 0,
    "start_time": "2023-05-23T16:46:02.901Z"
   },
   {
    "duration": 0,
    "start_time": "2023-05-23T16:46:02.902Z"
   },
   {
    "duration": 0,
    "start_time": "2023-05-23T16:46:02.904Z"
   },
   {
    "duration": 0,
    "start_time": "2023-05-23T16:46:02.905Z"
   },
   {
    "duration": 0,
    "start_time": "2023-05-23T16:46:02.906Z"
   },
   {
    "duration": 0,
    "start_time": "2023-05-23T16:46:02.907Z"
   },
   {
    "duration": 0,
    "start_time": "2023-05-23T16:46:02.908Z"
   },
   {
    "duration": 0,
    "start_time": "2023-05-23T16:46:02.910Z"
   },
   {
    "duration": 0,
    "start_time": "2023-05-23T16:46:02.911Z"
   },
   {
    "duration": 0,
    "start_time": "2023-05-23T16:46:02.912Z"
   },
   {
    "duration": 0,
    "start_time": "2023-05-23T16:46:02.913Z"
   },
   {
    "duration": 0,
    "start_time": "2023-05-23T16:46:02.914Z"
   },
   {
    "duration": 0,
    "start_time": "2023-05-23T16:46:02.915Z"
   },
   {
    "duration": 0,
    "start_time": "2023-05-23T16:46:02.916Z"
   },
   {
    "duration": 0,
    "start_time": "2023-05-23T16:46:02.916Z"
   },
   {
    "duration": 39,
    "start_time": "2023-05-23T16:46:18.487Z"
   },
   {
    "duration": 5,
    "start_time": "2023-05-23T16:46:18.528Z"
   },
   {
    "duration": 29,
    "start_time": "2023-05-23T16:46:18.535Z"
   },
   {
    "duration": 20,
    "start_time": "2023-05-23T16:46:18.566Z"
   },
   {
    "duration": 12,
    "start_time": "2023-05-23T16:46:18.588Z"
   },
   {
    "duration": 15,
    "start_time": "2023-05-23T16:46:18.601Z"
   },
   {
    "duration": 10,
    "start_time": "2023-05-23T16:46:18.618Z"
   },
   {
    "duration": 5,
    "start_time": "2023-05-23T16:46:18.629Z"
   },
   {
    "duration": 13,
    "start_time": "2023-05-23T16:46:18.635Z"
   },
   {
    "duration": 9,
    "start_time": "2023-05-23T16:46:18.650Z"
   },
   {
    "duration": 8,
    "start_time": "2023-05-23T16:46:18.660Z"
   },
   {
    "duration": 16,
    "start_time": "2023-05-23T16:46:18.670Z"
   },
   {
    "duration": 5,
    "start_time": "2023-05-23T16:46:18.687Z"
   },
   {
    "duration": 15,
    "start_time": "2023-05-23T16:46:18.694Z"
   },
   {
    "duration": 6,
    "start_time": "2023-05-23T16:46:18.711Z"
   },
   {
    "duration": 27,
    "start_time": "2023-05-23T16:46:18.718Z"
   },
   {
    "duration": 10,
    "start_time": "2023-05-23T16:46:18.747Z"
   },
   {
    "duration": 14,
    "start_time": "2023-05-23T16:46:18.760Z"
   },
   {
    "duration": 7,
    "start_time": "2023-05-23T16:46:18.776Z"
   },
   {
    "duration": 6,
    "start_time": "2023-05-23T16:46:18.784Z"
   },
   {
    "duration": 25,
    "start_time": "2023-05-23T16:46:18.791Z"
   },
   {
    "duration": 16,
    "start_time": "2023-05-23T16:46:18.817Z"
   },
   {
    "duration": 12,
    "start_time": "2023-05-23T16:46:18.834Z"
   },
   {
    "duration": 13,
    "start_time": "2023-05-23T16:46:18.847Z"
   },
   {
    "duration": 20,
    "start_time": "2023-05-23T16:46:18.861Z"
   },
   {
    "duration": 3,
    "start_time": "2023-05-23T16:46:18.882Z"
   },
   {
    "duration": 66,
    "start_time": "2023-05-23T16:46:18.886Z"
   },
   {
    "duration": 4,
    "start_time": "2023-05-23T16:46:18.955Z"
   },
   {
    "duration": 100,
    "start_time": "2023-05-23T16:46:18.960Z"
   },
   {
    "duration": 10,
    "start_time": "2023-05-23T16:46:19.084Z"
   },
   {
    "duration": 4,
    "start_time": "2023-05-23T16:46:19.095Z"
   },
   {
    "duration": 238,
    "start_time": "2023-05-23T16:46:19.100Z"
   },
   {
    "duration": 3,
    "start_time": "2023-05-23T16:46:19.340Z"
   },
   {
    "duration": 8,
    "start_time": "2023-05-23T16:46:19.344Z"
   },
   {
    "duration": 6,
    "start_time": "2023-05-23T16:46:19.353Z"
   },
   {
    "duration": 175,
    "start_time": "2023-05-23T16:46:19.360Z"
   },
   {
    "duration": 2105,
    "start_time": "2023-05-23T16:46:19.537Z"
   },
   {
    "duration": 36257,
    "start_time": "2023-05-23T16:46:21.643Z"
   },
   {
    "duration": 93,
    "start_time": "2023-05-23T16:46:57.901Z"
   },
   {
    "duration": 97,
    "start_time": "2023-05-23T16:46:57.996Z"
   },
   {
    "duration": 6,
    "start_time": "2023-05-23T16:46:58.184Z"
   },
   {
    "duration": 305,
    "start_time": "2023-05-23T16:46:58.192Z"
   },
   {
    "duration": 16,
    "start_time": "2023-05-23T16:46:58.499Z"
   },
   {
    "duration": 3,
    "start_time": "2023-05-23T16:46:58.516Z"
   },
   {
    "duration": 13,
    "start_time": "2023-05-23T16:46:58.521Z"
   },
   {
    "duration": 11,
    "start_time": "2023-05-23T16:46:58.536Z"
   },
   {
    "duration": 8,
    "start_time": "2023-05-23T16:46:58.549Z"
   },
   {
    "duration": 5,
    "start_time": "2023-05-23T16:46:58.559Z"
   },
   {
    "duration": 25,
    "start_time": "2023-05-23T16:46:58.565Z"
   },
   {
    "duration": 4,
    "start_time": "2023-05-23T16:46:58.591Z"
   },
   {
    "duration": 14,
    "start_time": "2023-05-23T16:46:58.597Z"
   },
   {
    "duration": 5,
    "start_time": "2023-05-23T16:46:58.613Z"
   },
   {
    "duration": 217,
    "start_time": "2023-05-23T16:46:58.619Z"
   },
   {
    "duration": 4,
    "start_time": "2023-05-23T16:46:58.837Z"
   },
   {
    "duration": 8,
    "start_time": "2023-05-23T16:46:58.842Z"
   },
   {
    "duration": 9,
    "start_time": "2023-05-23T16:46:58.851Z"
   },
   {
    "duration": 208,
    "start_time": "2023-05-23T16:46:58.861Z"
   },
   {
    "duration": 1495,
    "start_time": "2023-05-23T16:46:59.071Z"
   },
   {
    "duration": 118,
    "start_time": "2023-05-23T16:47:00.568Z"
   },
   {
    "duration": 100,
    "start_time": "2023-05-23T16:47:00.688Z"
   },
   {
    "duration": 29,
    "start_time": "2023-05-23T16:47:00.790Z"
   },
   {
    "duration": 276,
    "start_time": "2023-05-23T16:47:00.820Z"
   },
   {
    "duration": 11,
    "start_time": "2023-05-23T16:47:01.098Z"
   },
   {
    "duration": 34,
    "start_time": "2023-05-23T16:47:01.111Z"
   },
   {
    "duration": 50,
    "start_time": "2023-05-23T16:47:01.147Z"
   },
   {
    "duration": 58,
    "start_time": "2023-05-23T16:47:01.199Z"
   },
   {
    "duration": 56,
    "start_time": "2023-05-23T16:47:01.258Z"
   },
   {
    "duration": 46,
    "start_time": "2023-05-23T16:47:01.315Z"
   },
   {
    "duration": 39,
    "start_time": "2023-05-23T16:47:01.362Z"
   },
   {
    "duration": 59,
    "start_time": "2023-05-23T16:47:01.402Z"
   },
   {
    "duration": 289,
    "start_time": "2023-05-23T16:47:01.462Z"
   },
   {
    "duration": 13,
    "start_time": "2023-05-23T16:47:01.753Z"
   },
   {
    "duration": 58,
    "start_time": "2023-05-23T16:47:01.768Z"
   },
   {
    "duration": 70,
    "start_time": "2023-05-23T16:47:01.828Z"
   },
   {
    "duration": 169,
    "start_time": "2023-05-23T16:47:01.899Z"
   },
   {
    "duration": 88,
    "start_time": "2023-05-24T12:37:01.857Z"
   },
   {
    "duration": 137,
    "start_time": "2023-05-24T12:37:34.894Z"
   },
   {
    "duration": 10103,
    "start_time": "2023-05-24T14:01:51.860Z"
   },
   {
    "duration": 1570,
    "start_time": "2023-05-24T14:02:01.966Z"
   },
   {
    "duration": 414,
    "start_time": "2023-05-24T14:02:03.538Z"
   },
   {
    "duration": 5,
    "start_time": "2023-05-24T14:02:03.954Z"
   },
   {
    "duration": 36,
    "start_time": "2023-05-24T14:02:03.960Z"
   },
   {
    "duration": 16,
    "start_time": "2023-05-24T14:02:03.999Z"
   },
   {
    "duration": 10,
    "start_time": "2023-05-24T14:02:04.016Z"
   },
   {
    "duration": 12,
    "start_time": "2023-05-24T14:02:04.028Z"
   },
   {
    "duration": 15,
    "start_time": "2023-05-24T14:02:04.042Z"
   },
   {
    "duration": 7,
    "start_time": "2023-05-24T14:02:04.081Z"
   },
   {
    "duration": 16,
    "start_time": "2023-05-24T14:02:04.090Z"
   },
   {
    "duration": 9,
    "start_time": "2023-05-24T14:02:04.108Z"
   },
   {
    "duration": 8,
    "start_time": "2023-05-24T14:02:04.120Z"
   },
   {
    "duration": 8,
    "start_time": "2023-05-24T14:02:04.131Z"
   },
   {
    "duration": 39,
    "start_time": "2023-05-24T14:02:04.141Z"
   },
   {
    "duration": 31,
    "start_time": "2023-05-24T14:02:04.182Z"
   },
   {
    "duration": 7,
    "start_time": "2023-05-24T14:02:04.217Z"
   },
   {
    "duration": 19,
    "start_time": "2023-05-24T14:02:04.226Z"
   },
   {
    "duration": 5,
    "start_time": "2023-05-24T14:02:04.248Z"
   },
   {
    "duration": 28,
    "start_time": "2023-05-24T14:02:04.255Z"
   },
   {
    "duration": 11,
    "start_time": "2023-05-24T14:02:04.287Z"
   },
   {
    "duration": 7,
    "start_time": "2023-05-24T14:02:04.302Z"
   },
   {
    "duration": 9,
    "start_time": "2023-05-24T14:02:04.312Z"
   },
   {
    "duration": 8,
    "start_time": "2023-05-24T14:02:04.323Z"
   },
   {
    "duration": 6,
    "start_time": "2023-05-24T14:02:04.333Z"
   },
   {
    "duration": 8,
    "start_time": "2023-05-24T14:02:04.340Z"
   },
   {
    "duration": 38,
    "start_time": "2023-05-24T14:02:04.350Z"
   },
   {
    "duration": 2,
    "start_time": "2023-05-24T14:02:04.394Z"
   },
   {
    "duration": 134,
    "start_time": "2023-05-24T14:02:04.398Z"
   },
   {
    "duration": 4,
    "start_time": "2023-05-24T14:02:04.534Z"
   },
   {
    "duration": 138,
    "start_time": "2023-05-24T14:02:04.540Z"
   },
   {
    "duration": 12,
    "start_time": "2023-05-24T14:02:04.680Z"
   },
   {
    "duration": 10,
    "start_time": "2023-05-24T14:02:04.694Z"
   },
   {
    "duration": 327,
    "start_time": "2023-05-24T14:02:04.705Z"
   },
   {
    "duration": 4,
    "start_time": "2023-05-24T14:02:05.033Z"
   },
   {
    "duration": 16,
    "start_time": "2023-05-24T14:02:05.039Z"
   },
   {
    "duration": 10,
    "start_time": "2023-05-24T14:02:05.057Z"
   },
   {
    "duration": 251,
    "start_time": "2023-05-24T14:02:05.069Z"
   },
   {
    "duration": 2647,
    "start_time": "2023-05-24T14:02:05.323Z"
   },
   {
    "duration": 46437,
    "start_time": "2023-05-24T14:02:07.980Z"
   },
   {
    "duration": 212,
    "start_time": "2023-05-24T14:02:54.419Z"
   },
   {
    "duration": 97,
    "start_time": "2023-05-24T14:02:54.679Z"
   },
   {
    "duration": 13,
    "start_time": "2023-05-24T14:02:54.779Z"
   },
   {
    "duration": 358,
    "start_time": "2023-05-24T14:02:54.795Z"
   },
   {
    "duration": 27,
    "start_time": "2023-05-24T14:02:55.155Z"
   },
   {
    "duration": 5,
    "start_time": "2023-05-24T14:02:55.184Z"
   },
   {
    "duration": 19,
    "start_time": "2023-05-24T14:02:55.190Z"
   },
   {
    "duration": 10,
    "start_time": "2023-05-24T14:02:55.211Z"
   },
   {
    "duration": 5,
    "start_time": "2023-05-24T14:02:55.224Z"
   },
   {
    "duration": 8,
    "start_time": "2023-05-24T14:02:55.232Z"
   },
   {
    "duration": 12,
    "start_time": "2023-05-24T14:02:55.242Z"
   },
   {
    "duration": 5,
    "start_time": "2023-05-24T14:02:55.255Z"
   },
   {
    "duration": 28,
    "start_time": "2023-05-24T14:02:55.261Z"
   },
   {
    "duration": 7,
    "start_time": "2023-05-24T14:02:55.291Z"
   },
   {
    "duration": 259,
    "start_time": "2023-05-24T14:02:55.302Z"
   },
   {
    "duration": 14,
    "start_time": "2023-05-24T14:02:55.564Z"
   },
   {
    "duration": 16,
    "start_time": "2023-05-24T14:02:55.580Z"
   },
   {
    "duration": 7,
    "start_time": "2023-05-24T14:02:55.598Z"
   },
   {
    "duration": 291,
    "start_time": "2023-05-24T14:02:55.607Z"
   },
   {
    "duration": 288,
    "start_time": "2023-05-24T14:02:55.900Z"
   },
   {
    "duration": 251,
    "start_time": "2023-05-24T14:02:56.190Z"
   },
   {
    "duration": 1927,
    "start_time": "2023-05-24T14:02:56.443Z"
   },
   {
    "duration": 2038,
    "start_time": "2023-05-24T14:02:58.388Z"
   },
   {
    "duration": 278,
    "start_time": "2023-05-24T14:03:00.428Z"
   },
   {
    "duration": 396,
    "start_time": "2023-05-24T14:03:00.709Z"
   },
   {
    "duration": 303,
    "start_time": "2023-05-24T14:03:01.110Z"
   },
   {
    "duration": 0,
    "start_time": "2023-05-24T14:03:01.416Z"
   },
   {
    "duration": 0,
    "start_time": "2023-05-24T14:03:01.418Z"
   },
   {
    "duration": 0,
    "start_time": "2023-05-24T14:03:01.419Z"
   },
   {
    "duration": 0,
    "start_time": "2023-05-24T14:03:01.421Z"
   },
   {
    "duration": 0,
    "start_time": "2023-05-24T14:03:01.422Z"
   },
   {
    "duration": 0,
    "start_time": "2023-05-24T14:03:01.423Z"
   },
   {
    "duration": 0,
    "start_time": "2023-05-24T14:03:01.424Z"
   },
   {
    "duration": 0,
    "start_time": "2023-05-24T14:03:01.425Z"
   },
   {
    "duration": 0,
    "start_time": "2023-05-24T14:03:01.426Z"
   },
   {
    "duration": 0,
    "start_time": "2023-05-24T14:03:01.427Z"
   },
   {
    "duration": 0,
    "start_time": "2023-05-24T14:03:01.429Z"
   },
   {
    "duration": 0,
    "start_time": "2023-05-24T14:03:01.431Z"
   },
   {
    "duration": 0,
    "start_time": "2023-05-24T14:03:01.433Z"
   },
   {
    "duration": 0,
    "start_time": "2023-05-24T14:03:01.435Z"
   },
   {
    "duration": 0,
    "start_time": "2023-05-24T14:03:01.436Z"
   },
   {
    "duration": 15,
    "start_time": "2023-05-24T14:18:41.892Z"
   },
   {
    "duration": 12,
    "start_time": "2023-05-24T14:20:02.719Z"
   },
   {
    "duration": 15,
    "start_time": "2023-05-24T14:25:05.612Z"
   },
   {
    "duration": 13,
    "start_time": "2023-05-24T14:25:58.160Z"
   },
   {
    "duration": 25,
    "start_time": "2023-05-24T14:43:26.292Z"
   },
   {
    "duration": 17,
    "start_time": "2023-05-24T14:50:57.407Z"
   },
   {
    "duration": 2647,
    "start_time": "2023-05-24T14:53:47.467Z"
   },
   {
    "duration": 1238,
    "start_time": "2023-05-24T14:53:50.116Z"
   },
   {
    "duration": 40,
    "start_time": "2023-05-24T14:53:51.356Z"
   },
   {
    "duration": 6,
    "start_time": "2023-05-24T14:53:51.399Z"
   },
   {
    "duration": 22,
    "start_time": "2023-05-24T14:53:51.407Z"
   },
   {
    "duration": 14,
    "start_time": "2023-05-24T14:53:51.430Z"
   },
   {
    "duration": 30,
    "start_time": "2023-05-24T14:53:51.446Z"
   },
   {
    "duration": 10,
    "start_time": "2023-05-24T14:53:51.478Z"
   },
   {
    "duration": 6,
    "start_time": "2023-05-24T14:53:51.490Z"
   },
   {
    "duration": 4,
    "start_time": "2023-05-24T14:53:51.499Z"
   },
   {
    "duration": 8,
    "start_time": "2023-05-24T14:53:51.505Z"
   },
   {
    "duration": 10,
    "start_time": "2023-05-24T14:53:51.514Z"
   },
   {
    "duration": 51,
    "start_time": "2023-05-24T14:53:51.526Z"
   },
   {
    "duration": 9,
    "start_time": "2023-05-24T14:53:51.579Z"
   },
   {
    "duration": 8,
    "start_time": "2023-05-24T14:53:51.590Z"
   },
   {
    "duration": 14,
    "start_time": "2023-05-24T14:53:51.600Z"
   },
   {
    "duration": 4,
    "start_time": "2023-05-24T14:53:51.616Z"
   },
   {
    "duration": 61,
    "start_time": "2023-05-24T14:53:51.622Z"
   },
   {
    "duration": 10,
    "start_time": "2023-05-24T14:53:51.687Z"
   },
   {
    "duration": 8,
    "start_time": "2023-05-24T14:53:51.699Z"
   },
   {
    "duration": 18,
    "start_time": "2023-05-24T14:53:51.709Z"
   },
   {
    "duration": 20,
    "start_time": "2023-05-24T14:53:51.729Z"
   },
   {
    "duration": 15,
    "start_time": "2023-05-24T14:53:51.751Z"
   },
   {
    "duration": 9,
    "start_time": "2023-05-24T14:53:51.768Z"
   },
   {
    "duration": 5,
    "start_time": "2023-05-24T14:53:51.779Z"
   },
   {
    "duration": 15,
    "start_time": "2023-05-24T14:53:51.786Z"
   },
   {
    "duration": 14,
    "start_time": "2023-05-24T14:53:51.803Z"
   },
   {
    "duration": 3,
    "start_time": "2023-05-24T14:53:51.821Z"
   },
   {
    "duration": 118,
    "start_time": "2023-05-24T14:53:51.826Z"
   },
   {
    "duration": 5,
    "start_time": "2023-05-24T14:53:52.091Z"
   },
   {
    "duration": 140,
    "start_time": "2023-05-24T14:53:52.099Z"
   },
   {
    "duration": 12,
    "start_time": "2023-05-24T14:53:52.241Z"
   },
   {
    "duration": 121,
    "start_time": "2023-05-24T14:53:52.256Z"
   },
   {
    "duration": 244,
    "start_time": "2023-05-24T14:53:52.379Z"
   },
   {
    "duration": 5,
    "start_time": "2023-05-24T14:53:52.625Z"
   },
   {
    "duration": 12,
    "start_time": "2023-05-24T14:53:52.632Z"
   },
   {
    "duration": 6,
    "start_time": "2023-05-24T14:53:52.646Z"
   },
   {
    "duration": 300,
    "start_time": "2023-05-24T14:53:52.655Z"
   },
   {
    "duration": 2573,
    "start_time": "2023-05-24T14:53:52.956Z"
   },
   {
    "duration": 41495,
    "start_time": "2023-05-24T14:53:55.531Z"
   },
   {
    "duration": 165,
    "start_time": "2023-05-24T14:54:37.028Z"
   },
   {
    "duration": 98,
    "start_time": "2023-05-24T14:54:37.279Z"
   },
   {
    "duration": 6,
    "start_time": "2023-05-24T14:54:37.379Z"
   },
   {
    "duration": 313,
    "start_time": "2023-05-24T14:54:37.387Z"
   },
   {
    "duration": 22,
    "start_time": "2023-05-24T14:54:37.701Z"
   },
   {
    "duration": 4,
    "start_time": "2023-05-24T14:54:37.725Z"
   },
   {
    "duration": 10,
    "start_time": "2023-05-24T14:54:37.731Z"
   },
   {
    "duration": 14,
    "start_time": "2023-05-24T14:54:37.743Z"
   },
   {
    "duration": 4,
    "start_time": "2023-05-24T14:54:37.775Z"
   },
   {
    "duration": 7,
    "start_time": "2023-05-24T14:54:37.780Z"
   },
   {
    "duration": 12,
    "start_time": "2023-05-24T14:54:37.789Z"
   },
   {
    "duration": 5,
    "start_time": "2023-05-24T14:54:37.803Z"
   },
   {
    "duration": 16,
    "start_time": "2023-05-24T14:54:37.809Z"
   },
   {
    "duration": 5,
    "start_time": "2023-05-24T14:54:37.827Z"
   },
   {
    "duration": 266,
    "start_time": "2023-05-24T14:54:37.834Z"
   },
   {
    "duration": 4,
    "start_time": "2023-05-24T14:54:38.101Z"
   },
   {
    "duration": 8,
    "start_time": "2023-05-24T14:54:38.107Z"
   },
   {
    "duration": 6,
    "start_time": "2023-05-24T14:54:38.116Z"
   },
   {
    "duration": 236,
    "start_time": "2023-05-24T14:54:38.124Z"
   },
   {
    "duration": 256,
    "start_time": "2023-05-24T14:54:38.362Z"
   },
   {
    "duration": 247,
    "start_time": "2023-05-24T14:54:38.620Z"
   },
   {
    "duration": 1625,
    "start_time": "2023-05-24T14:54:38.869Z"
   },
   {
    "duration": 1857,
    "start_time": "2023-05-24T14:54:40.496Z"
   },
   {
    "duration": 121,
    "start_time": "2023-05-24T14:54:42.355Z"
   },
   {
    "duration": 205,
    "start_time": "2023-05-24T14:54:42.478Z"
   },
   {
    "duration": 102,
    "start_time": "2023-05-24T14:54:42.687Z"
   },
   {
    "duration": 173,
    "start_time": "2023-05-24T14:59:13.291Z"
   },
   {
    "duration": 15,
    "start_time": "2023-05-24T14:59:30.651Z"
   },
   {
    "duration": 34,
    "start_time": "2023-05-24T15:00:01.747Z"
   },
   {
    "duration": 21,
    "start_time": "2023-05-24T15:00:45.526Z"
   },
   {
    "duration": 3034,
    "start_time": "2023-05-24T15:06:34.167Z"
   },
   {
    "duration": 1647,
    "start_time": "2023-05-24T15:06:37.204Z"
   },
   {
    "duration": 49,
    "start_time": "2023-05-24T15:06:38.853Z"
   },
   {
    "duration": 10,
    "start_time": "2023-05-24T15:06:38.905Z"
   },
   {
    "duration": 33,
    "start_time": "2023-05-24T15:06:38.916Z"
   },
   {
    "duration": 25,
    "start_time": "2023-05-24T15:06:38.951Z"
   },
   {
    "duration": 14,
    "start_time": "2023-05-24T15:06:38.978Z"
   },
   {
    "duration": 11,
    "start_time": "2023-05-24T15:06:38.994Z"
   },
   {
    "duration": 14,
    "start_time": "2023-05-24T15:06:39.007Z"
   },
   {
    "duration": 9,
    "start_time": "2023-05-24T15:06:39.024Z"
   },
   {
    "duration": 8,
    "start_time": "2023-05-24T15:06:39.035Z"
   },
   {
    "duration": 39,
    "start_time": "2023-05-24T15:06:39.045Z"
   },
   {
    "duration": 10,
    "start_time": "2023-05-24T15:06:39.086Z"
   },
   {
    "duration": 12,
    "start_time": "2023-05-24T15:06:39.097Z"
   },
   {
    "duration": 11,
    "start_time": "2023-05-24T15:06:39.111Z"
   },
   {
    "duration": 17,
    "start_time": "2023-05-24T15:06:39.124Z"
   },
   {
    "duration": 6,
    "start_time": "2023-05-24T15:06:39.174Z"
   },
   {
    "duration": 26,
    "start_time": "2023-05-24T15:06:39.183Z"
   },
   {
    "duration": 4,
    "start_time": "2023-05-24T15:06:39.211Z"
   },
   {
    "duration": 7,
    "start_time": "2023-05-24T15:06:39.218Z"
   },
   {
    "duration": 5,
    "start_time": "2023-05-24T15:06:39.227Z"
   },
   {
    "duration": 7,
    "start_time": "2023-05-24T15:06:39.233Z"
   },
   {
    "duration": 42,
    "start_time": "2023-05-24T15:06:39.242Z"
   },
   {
    "duration": 11,
    "start_time": "2023-05-24T15:06:39.286Z"
   },
   {
    "duration": 6,
    "start_time": "2023-05-24T15:06:39.298Z"
   },
   {
    "duration": 17,
    "start_time": "2023-05-24T15:06:39.306Z"
   },
   {
    "duration": 15,
    "start_time": "2023-05-24T15:06:39.325Z"
   },
   {
    "duration": 30,
    "start_time": "2023-05-24T15:06:39.346Z"
   },
   {
    "duration": 138,
    "start_time": "2023-05-24T15:06:39.378Z"
   },
   {
    "duration": 7,
    "start_time": "2023-05-24T15:06:39.518Z"
   },
   {
    "duration": 197,
    "start_time": "2023-05-24T15:06:39.528Z"
   },
   {
    "duration": 15,
    "start_time": "2023-05-24T15:06:39.728Z"
   },
   {
    "duration": 33,
    "start_time": "2023-05-24T15:06:39.746Z"
   },
   {
    "duration": 372,
    "start_time": "2023-05-24T15:06:39.782Z"
   },
   {
    "duration": 4,
    "start_time": "2023-05-24T15:06:40.156Z"
   },
   {
    "duration": 4,
    "start_time": "2023-05-24T15:06:40.175Z"
   },
   {
    "duration": 10,
    "start_time": "2023-05-24T15:06:40.181Z"
   },
   {
    "duration": 314,
    "start_time": "2023-05-24T15:06:40.193Z"
   },
   {
    "duration": 3425,
    "start_time": "2023-05-24T15:06:40.509Z"
   },
   {
    "duration": 52232,
    "start_time": "2023-05-24T15:06:43.938Z"
   },
   {
    "duration": 407,
    "start_time": "2023-05-24T15:07:36.172Z"
   },
   {
    "duration": 94,
    "start_time": "2023-05-24T15:07:36.583Z"
   },
   {
    "duration": 11,
    "start_time": "2023-05-24T15:07:36.679Z"
   },
   {
    "duration": 423,
    "start_time": "2023-05-24T15:07:36.692Z"
   },
   {
    "duration": 25,
    "start_time": "2023-05-24T15:07:37.120Z"
   },
   {
    "duration": 4,
    "start_time": "2023-05-24T15:07:37.148Z"
   },
   {
    "duration": 21,
    "start_time": "2023-05-24T15:07:37.154Z"
   },
   {
    "duration": 20,
    "start_time": "2023-05-24T15:07:37.177Z"
   },
   {
    "duration": 6,
    "start_time": "2023-05-24T15:07:37.199Z"
   },
   {
    "duration": 8,
    "start_time": "2023-05-24T15:07:37.208Z"
   },
   {
    "duration": 13,
    "start_time": "2023-05-24T15:07:37.218Z"
   },
   {
    "duration": 6,
    "start_time": "2023-05-24T15:07:37.233Z"
   },
   {
    "duration": 34,
    "start_time": "2023-05-24T15:07:37.241Z"
   },
   {
    "duration": 7,
    "start_time": "2023-05-24T15:07:37.278Z"
   },
   {
    "duration": 299,
    "start_time": "2023-05-24T15:07:37.287Z"
   },
   {
    "duration": 4,
    "start_time": "2023-05-24T15:07:37.588Z"
   },
   {
    "duration": 9,
    "start_time": "2023-05-24T15:07:37.594Z"
   },
   {
    "duration": 16,
    "start_time": "2023-05-24T15:07:37.605Z"
   },
   {
    "duration": 339,
    "start_time": "2023-05-24T15:07:37.623Z"
   },
   {
    "duration": 335,
    "start_time": "2023-05-24T15:07:37.964Z"
   },
   {
    "duration": 306,
    "start_time": "2023-05-24T15:07:38.301Z"
   },
   {
    "duration": 2134,
    "start_time": "2023-05-24T15:07:38.609Z"
   },
   {
    "duration": 2518,
    "start_time": "2023-05-24T15:07:40.745Z"
   },
   {
    "duration": 111,
    "start_time": "2023-05-24T15:07:43.265Z"
   },
   {
    "duration": 204,
    "start_time": "2023-05-24T15:07:43.379Z"
   },
   {
    "duration": 95,
    "start_time": "2023-05-24T15:07:43.588Z"
   },
   {
    "duration": 179,
    "start_time": "2023-05-24T15:08:41.139Z"
   },
   {
    "duration": 26,
    "start_time": "2023-05-24T15:09:28.042Z"
   },
   {
    "duration": 26,
    "start_time": "2023-05-24T15:09:56.040Z"
   },
   {
    "duration": 2501,
    "start_time": "2023-05-24T15:12:50.198Z"
   },
   {
    "duration": 1464,
    "start_time": "2023-05-24T15:12:52.704Z"
   },
   {
    "duration": 70,
    "start_time": "2023-05-24T15:12:54.171Z"
   },
   {
    "duration": 8,
    "start_time": "2023-05-24T15:12:54.243Z"
   },
   {
    "duration": 23,
    "start_time": "2023-05-24T15:12:54.252Z"
   },
   {
    "duration": 20,
    "start_time": "2023-05-24T15:12:54.277Z"
   },
   {
    "duration": 18,
    "start_time": "2023-05-24T15:12:54.299Z"
   },
   {
    "duration": 14,
    "start_time": "2023-05-24T15:12:54.319Z"
   },
   {
    "duration": 11,
    "start_time": "2023-05-24T15:12:54.335Z"
   },
   {
    "duration": 24,
    "start_time": "2023-05-24T15:12:54.349Z"
   },
   {
    "duration": 19,
    "start_time": "2023-05-24T15:12:54.378Z"
   },
   {
    "duration": 10,
    "start_time": "2023-05-24T15:12:54.399Z"
   },
   {
    "duration": 28,
    "start_time": "2023-05-24T15:12:54.411Z"
   },
   {
    "duration": 13,
    "start_time": "2023-05-24T15:12:54.442Z"
   },
   {
    "duration": 9,
    "start_time": "2023-05-24T15:12:54.457Z"
   },
   {
    "duration": 31,
    "start_time": "2023-05-24T15:12:54.468Z"
   },
   {
    "duration": 6,
    "start_time": "2023-05-24T15:12:54.500Z"
   },
   {
    "duration": 36,
    "start_time": "2023-05-24T15:12:54.508Z"
   },
   {
    "duration": 13,
    "start_time": "2023-05-24T15:12:54.546Z"
   },
   {
    "duration": 34,
    "start_time": "2023-05-24T15:12:54.560Z"
   },
   {
    "duration": 16,
    "start_time": "2023-05-24T15:12:54.596Z"
   },
   {
    "duration": 32,
    "start_time": "2023-05-24T15:12:54.614Z"
   },
   {
    "duration": 40,
    "start_time": "2023-05-24T15:12:54.648Z"
   },
   {
    "duration": 16,
    "start_time": "2023-05-24T15:12:54.690Z"
   },
   {
    "duration": 27,
    "start_time": "2023-05-24T15:12:54.715Z"
   },
   {
    "duration": 31,
    "start_time": "2023-05-24T15:12:54.744Z"
   },
   {
    "duration": 28,
    "start_time": "2023-05-24T15:12:54.778Z"
   },
   {
    "duration": 32,
    "start_time": "2023-05-24T15:12:54.812Z"
   },
   {
    "duration": 136,
    "start_time": "2023-05-24T15:12:54.847Z"
   },
   {
    "duration": 6,
    "start_time": "2023-05-24T15:12:54.984Z"
   },
   {
    "duration": 156,
    "start_time": "2023-05-24T15:12:54.991Z"
   },
   {
    "duration": 41,
    "start_time": "2023-05-24T15:12:55.149Z"
   },
   {
    "duration": 8,
    "start_time": "2023-05-24T15:12:55.193Z"
   },
   {
    "duration": 329,
    "start_time": "2023-05-24T15:12:55.203Z"
   },
   {
    "duration": 5,
    "start_time": "2023-05-24T15:12:55.534Z"
   },
   {
    "duration": 7,
    "start_time": "2023-05-24T15:12:55.542Z"
   },
   {
    "duration": 24,
    "start_time": "2023-05-24T15:12:55.551Z"
   },
   {
    "duration": 256,
    "start_time": "2023-05-24T15:12:55.577Z"
   },
   {
    "duration": 2788,
    "start_time": "2023-05-24T15:12:55.835Z"
   },
   {
    "duration": 45093,
    "start_time": "2023-05-24T15:12:58.625Z"
   },
   {
    "duration": 267,
    "start_time": "2023-05-24T15:13:43.720Z"
   },
   {
    "duration": 88,
    "start_time": "2023-05-24T15:13:43.994Z"
   },
   {
    "duration": 10,
    "start_time": "2023-05-24T15:13:44.085Z"
   },
   {
    "duration": 406,
    "start_time": "2023-05-24T15:13:44.098Z"
   },
   {
    "duration": 22,
    "start_time": "2023-05-24T15:13:44.506Z"
   },
   {
    "duration": 4,
    "start_time": "2023-05-24T15:13:44.530Z"
   },
   {
    "duration": 9,
    "start_time": "2023-05-24T15:13:44.536Z"
   },
   {
    "duration": 29,
    "start_time": "2023-05-24T15:13:44.547Z"
   },
   {
    "duration": 4,
    "start_time": "2023-05-24T15:13:44.578Z"
   },
   {
    "duration": 6,
    "start_time": "2023-05-24T15:13:44.584Z"
   },
   {
    "duration": 15,
    "start_time": "2023-05-24T15:13:44.593Z"
   },
   {
    "duration": 6,
    "start_time": "2023-05-24T15:13:44.610Z"
   },
   {
    "duration": 29,
    "start_time": "2023-05-24T15:13:44.617Z"
   },
   {
    "duration": 11,
    "start_time": "2023-05-24T15:13:44.648Z"
   },
   {
    "duration": 253,
    "start_time": "2023-05-24T15:13:44.675Z"
   },
   {
    "duration": 5,
    "start_time": "2023-05-24T15:13:44.931Z"
   },
   {
    "duration": 9,
    "start_time": "2023-05-24T15:13:44.939Z"
   },
   {
    "duration": 7,
    "start_time": "2023-05-24T15:13:44.950Z"
   },
   {
    "duration": 268,
    "start_time": "2023-05-24T15:13:44.975Z"
   },
   {
    "duration": 286,
    "start_time": "2023-05-24T15:13:45.245Z"
   },
   {
    "duration": 221,
    "start_time": "2023-05-24T15:13:45.534Z"
   },
   {
    "duration": 1777,
    "start_time": "2023-05-24T15:13:45.757Z"
   },
   {
    "duration": 2073,
    "start_time": "2023-05-24T15:13:47.537Z"
   },
   {
    "duration": 395,
    "start_time": "2023-05-24T15:13:49.611Z"
   },
   {
    "duration": 211,
    "start_time": "2023-05-24T15:13:50.074Z"
   },
   {
    "duration": 108,
    "start_time": "2023-05-24T15:13:50.296Z"
   },
   {
    "duration": 19,
    "start_time": "2023-05-24T15:13:50.406Z"
   },
   {
    "duration": 22,
    "start_time": "2023-05-24T15:15:59.243Z"
   },
   {
    "duration": 25,
    "start_time": "2023-05-24T15:27:39.873Z"
   },
   {
    "duration": 13,
    "start_time": "2023-05-24T15:29:27.300Z"
   },
   {
    "duration": 10,
    "start_time": "2023-05-24T15:30:40.446Z"
   },
   {
    "duration": 13,
    "start_time": "2023-05-24T15:31:21.539Z"
   },
   {
    "duration": 13,
    "start_time": "2023-05-24T15:31:26.873Z"
   },
   {
    "duration": 11,
    "start_time": "2023-05-24T15:32:16.774Z"
   },
   {
    "duration": 25,
    "start_time": "2023-05-24T15:36:01.532Z"
   },
   {
    "duration": 16,
    "start_time": "2023-05-24T15:36:36.735Z"
   },
   {
    "duration": 16,
    "start_time": "2023-05-24T15:40:43.251Z"
   },
   {
    "duration": 19,
    "start_time": "2023-05-24T15:41:15.026Z"
   },
   {
    "duration": 22,
    "start_time": "2023-05-24T15:42:26.305Z"
   },
   {
    "duration": 17,
    "start_time": "2023-05-24T15:42:36.393Z"
   },
   {
    "duration": 119,
    "start_time": "2023-05-24T15:44:11.457Z"
   },
   {
    "duration": 17,
    "start_time": "2023-05-24T15:44:33.447Z"
   },
   {
    "duration": 16,
    "start_time": "2023-05-24T16:04:38.946Z"
   },
   {
    "duration": 15,
    "start_time": "2023-05-24T16:05:33.612Z"
   },
   {
    "duration": 15,
    "start_time": "2023-05-24T16:06:20.572Z"
   },
   {
    "duration": 18,
    "start_time": "2023-05-24T16:07:43.045Z"
   },
   {
    "duration": 2100,
    "start_time": "2023-05-24T16:08:16.500Z"
   },
   {
    "duration": 1205,
    "start_time": "2023-05-24T16:08:18.603Z"
   },
   {
    "duration": 39,
    "start_time": "2023-05-24T16:08:19.810Z"
   },
   {
    "duration": 6,
    "start_time": "2023-05-24T16:08:19.851Z"
   },
   {
    "duration": 22,
    "start_time": "2023-05-24T16:08:19.859Z"
   },
   {
    "duration": 17,
    "start_time": "2023-05-24T16:08:19.883Z"
   },
   {
    "duration": 11,
    "start_time": "2023-05-24T16:08:19.901Z"
   },
   {
    "duration": 9,
    "start_time": "2023-05-24T16:08:19.914Z"
   },
   {
    "duration": 6,
    "start_time": "2023-05-24T16:08:19.924Z"
   },
   {
    "duration": 8,
    "start_time": "2023-05-24T16:08:19.932Z"
   },
   {
    "duration": 38,
    "start_time": "2023-05-24T16:08:19.942Z"
   },
   {
    "duration": 7,
    "start_time": "2023-05-24T16:08:19.982Z"
   },
   {
    "duration": 7,
    "start_time": "2023-05-24T16:08:19.991Z"
   },
   {
    "duration": 7,
    "start_time": "2023-05-24T16:08:20.000Z"
   },
   {
    "duration": 7,
    "start_time": "2023-05-24T16:08:20.008Z"
   },
   {
    "duration": 13,
    "start_time": "2023-05-24T16:08:20.016Z"
   },
   {
    "duration": 4,
    "start_time": "2023-05-24T16:08:20.031Z"
   },
   {
    "duration": 57,
    "start_time": "2023-05-24T16:08:20.037Z"
   },
   {
    "duration": 6,
    "start_time": "2023-05-24T16:08:20.096Z"
   },
   {
    "duration": 14,
    "start_time": "2023-05-24T16:08:20.104Z"
   },
   {
    "duration": 7,
    "start_time": "2023-05-24T16:08:20.120Z"
   },
   {
    "duration": 13,
    "start_time": "2023-05-24T16:08:20.128Z"
   },
   {
    "duration": 32,
    "start_time": "2023-05-24T16:08:20.143Z"
   },
   {
    "duration": 9,
    "start_time": "2023-05-24T16:08:20.177Z"
   },
   {
    "duration": 7,
    "start_time": "2023-05-24T16:08:20.188Z"
   },
   {
    "duration": 14,
    "start_time": "2023-05-24T16:08:20.197Z"
   },
   {
    "duration": 11,
    "start_time": "2023-05-24T16:08:20.213Z"
   },
   {
    "duration": 3,
    "start_time": "2023-05-24T16:08:20.227Z"
   },
   {
    "duration": 146,
    "start_time": "2023-05-24T16:08:20.231Z"
   },
   {
    "duration": 4,
    "start_time": "2023-05-24T16:08:20.378Z"
   },
   {
    "duration": 123,
    "start_time": "2023-05-24T16:08:20.384Z"
   },
   {
    "duration": 11,
    "start_time": "2023-05-24T16:08:20.509Z"
   },
   {
    "duration": 5,
    "start_time": "2023-05-24T16:08:20.521Z"
   },
   {
    "duration": 300,
    "start_time": "2023-05-24T16:08:20.527Z"
   },
   {
    "duration": 4,
    "start_time": "2023-05-24T16:08:20.828Z"
   },
   {
    "duration": 11,
    "start_time": "2023-05-24T16:08:20.834Z"
   },
   {
    "duration": 5,
    "start_time": "2023-05-24T16:08:20.847Z"
   },
   {
    "duration": 221,
    "start_time": "2023-05-24T16:08:20.854Z"
   },
   {
    "duration": 2283,
    "start_time": "2023-05-24T16:08:21.077Z"
   },
   {
    "duration": 39515,
    "start_time": "2023-05-24T16:08:23.362Z"
   },
   {
    "duration": 105,
    "start_time": "2023-05-24T16:09:02.879Z"
   },
   {
    "duration": 11,
    "start_time": "2023-05-24T16:09:03.074Z"
   },
   {
    "duration": 6,
    "start_time": "2023-05-24T16:09:03.086Z"
   },
   {
    "duration": 406,
    "start_time": "2023-05-24T16:09:03.093Z"
   },
   {
    "duration": 20,
    "start_time": "2023-05-24T16:09:03.501Z"
   },
   {
    "duration": 4,
    "start_time": "2023-05-24T16:09:03.522Z"
   },
   {
    "duration": 13,
    "start_time": "2023-05-24T16:09:03.527Z"
   },
   {
    "duration": 7,
    "start_time": "2023-05-24T16:09:03.541Z"
   },
   {
    "duration": 4,
    "start_time": "2023-05-24T16:09:03.550Z"
   },
   {
    "duration": 21,
    "start_time": "2023-05-24T16:09:03.556Z"
   },
   {
    "duration": 15,
    "start_time": "2023-05-24T16:09:03.579Z"
   },
   {
    "duration": 6,
    "start_time": "2023-05-24T16:09:03.596Z"
   },
   {
    "duration": 26,
    "start_time": "2023-05-24T16:09:03.604Z"
   },
   {
    "duration": 5,
    "start_time": "2023-05-24T16:09:03.632Z"
   },
   {
    "duration": 197,
    "start_time": "2023-05-24T16:09:03.639Z"
   },
   {
    "duration": 3,
    "start_time": "2023-05-24T16:09:03.838Z"
   },
   {
    "duration": 14,
    "start_time": "2023-05-24T16:09:03.842Z"
   },
   {
    "duration": 17,
    "start_time": "2023-05-24T16:09:03.858Z"
   },
   {
    "duration": 248,
    "start_time": "2023-05-24T16:09:03.876Z"
   },
   {
    "duration": 280,
    "start_time": "2023-05-24T16:09:04.126Z"
   },
   {
    "duration": 210,
    "start_time": "2023-05-24T16:09:04.407Z"
   },
   {
    "duration": 1611,
    "start_time": "2023-05-24T16:09:04.619Z"
   },
   {
    "duration": 1732,
    "start_time": "2023-05-24T16:09:06.232Z"
   },
   {
    "duration": 512,
    "start_time": "2023-05-24T16:09:07.966Z"
   },
   {
    "duration": 196,
    "start_time": "2023-05-24T16:09:08.481Z"
   },
   {
    "duration": 99,
    "start_time": "2023-05-24T16:09:08.679Z"
   },
   {
    "duration": 8,
    "start_time": "2023-05-24T16:12:48.793Z"
   },
   {
    "duration": 5,
    "start_time": "2023-05-24T16:12:50.454Z"
   },
   {
    "duration": 12,
    "start_time": "2023-05-24T16:12:52.750Z"
   },
   {
    "duration": 9,
    "start_time": "2023-05-24T16:12:58.165Z"
   },
   {
    "duration": 14,
    "start_time": "2023-05-24T16:13:50.041Z"
   },
   {
    "duration": 2257,
    "start_time": "2023-05-24T16:16:58.864Z"
   },
   {
    "duration": 1352,
    "start_time": "2023-05-24T16:17:01.124Z"
   },
   {
    "duration": 54,
    "start_time": "2023-05-24T16:17:02.477Z"
   },
   {
    "duration": 7,
    "start_time": "2023-05-24T16:17:02.533Z"
   },
   {
    "duration": 36,
    "start_time": "2023-05-24T16:17:02.542Z"
   },
   {
    "duration": 26,
    "start_time": "2023-05-24T16:17:02.579Z"
   },
   {
    "duration": 18,
    "start_time": "2023-05-24T16:17:02.607Z"
   },
   {
    "duration": 10,
    "start_time": "2023-05-24T16:17:02.626Z"
   },
   {
    "duration": 5,
    "start_time": "2023-05-24T16:17:02.638Z"
   },
   {
    "duration": 18,
    "start_time": "2023-05-24T16:17:02.646Z"
   },
   {
    "duration": 27,
    "start_time": "2023-05-24T16:17:02.674Z"
   },
   {
    "duration": 12,
    "start_time": "2023-05-24T16:17:02.702Z"
   },
   {
    "duration": 9,
    "start_time": "2023-05-24T16:17:02.716Z"
   },
   {
    "duration": 13,
    "start_time": "2023-05-24T16:17:02.727Z"
   },
   {
    "duration": 9,
    "start_time": "2023-05-24T16:17:02.742Z"
   },
   {
    "duration": 28,
    "start_time": "2023-05-24T16:17:02.753Z"
   },
   {
    "duration": 5,
    "start_time": "2023-05-24T16:17:02.783Z"
   },
   {
    "duration": 17,
    "start_time": "2023-05-24T16:17:02.790Z"
   },
   {
    "duration": 8,
    "start_time": "2023-05-24T16:17:02.809Z"
   },
   {
    "duration": 8,
    "start_time": "2023-05-24T16:17:02.819Z"
   },
   {
    "duration": 11,
    "start_time": "2023-05-24T16:17:02.829Z"
   },
   {
    "duration": 36,
    "start_time": "2023-05-24T16:17:02.841Z"
   },
   {
    "duration": 49,
    "start_time": "2023-05-24T16:17:02.879Z"
   },
   {
    "duration": 7,
    "start_time": "2023-05-24T16:17:02.930Z"
   },
   {
    "duration": 6,
    "start_time": "2023-05-24T16:17:02.939Z"
   },
   {
    "duration": 8,
    "start_time": "2023-05-24T16:17:02.947Z"
   },
   {
    "duration": 16,
    "start_time": "2023-05-24T16:17:02.957Z"
   },
   {
    "duration": 3,
    "start_time": "2023-05-24T16:17:02.978Z"
   },
   {
    "duration": 124,
    "start_time": "2023-05-24T16:17:02.983Z"
   },
   {
    "duration": 5,
    "start_time": "2023-05-24T16:17:03.109Z"
   },
   {
    "duration": 175,
    "start_time": "2023-05-24T16:17:03.116Z"
   },
   {
    "duration": 10,
    "start_time": "2023-05-24T16:17:03.293Z"
   },
   {
    "duration": 19,
    "start_time": "2023-05-24T16:17:03.305Z"
   },
   {
    "duration": 281,
    "start_time": "2023-05-24T16:17:03.327Z"
   },
   {
    "duration": 6,
    "start_time": "2023-05-24T16:17:03.609Z"
   },
   {
    "duration": 11,
    "start_time": "2023-05-24T16:17:03.616Z"
   },
   {
    "duration": 13,
    "start_time": "2023-05-24T16:17:03.629Z"
   },
   {
    "duration": 209,
    "start_time": "2023-05-24T16:17:03.644Z"
   },
   {
    "duration": 2613,
    "start_time": "2023-05-24T16:17:03.854Z"
   },
   {
    "duration": 41091,
    "start_time": "2023-05-24T16:17:06.468Z"
   },
   {
    "duration": 615,
    "start_time": "2023-05-24T16:17:47.561Z"
   },
   {
    "duration": 13,
    "start_time": "2023-05-24T16:17:48.178Z"
   },
   {
    "duration": 25,
    "start_time": "2023-05-24T16:17:48.193Z"
   },
   {
    "duration": 364,
    "start_time": "2023-05-24T16:17:48.220Z"
   },
   {
    "duration": 20,
    "start_time": "2023-05-24T16:17:48.588Z"
   },
   {
    "duration": 3,
    "start_time": "2023-05-24T16:17:48.610Z"
   },
   {
    "duration": 18,
    "start_time": "2023-05-24T16:17:48.615Z"
   },
   {
    "duration": 11,
    "start_time": "2023-05-24T16:17:48.634Z"
   },
   {
    "duration": 28,
    "start_time": "2023-05-24T16:17:48.647Z"
   },
   {
    "duration": 6,
    "start_time": "2023-05-24T16:17:48.677Z"
   },
   {
    "duration": 13,
    "start_time": "2023-05-24T16:17:48.684Z"
   },
   {
    "duration": 4,
    "start_time": "2023-05-24T16:17:48.699Z"
   },
   {
    "duration": 11,
    "start_time": "2023-05-24T16:17:48.705Z"
   },
   {
    "duration": 5,
    "start_time": "2023-05-24T16:17:48.717Z"
   },
   {
    "duration": 222,
    "start_time": "2023-05-24T16:17:48.723Z"
   },
   {
    "duration": 4,
    "start_time": "2023-05-24T16:17:48.947Z"
   },
   {
    "duration": 23,
    "start_time": "2023-05-24T16:17:48.953Z"
   },
   {
    "duration": 5,
    "start_time": "2023-05-24T16:17:48.978Z"
   },
   {
    "duration": 227,
    "start_time": "2023-05-24T16:17:48.985Z"
   },
   {
    "duration": 231,
    "start_time": "2023-05-24T16:17:49.214Z"
   },
   {
    "duration": 208,
    "start_time": "2023-05-24T16:17:49.447Z"
   },
   {
    "duration": 1554,
    "start_time": "2023-05-24T16:17:49.657Z"
   },
   {
    "duration": 1840,
    "start_time": "2023-05-24T16:17:51.213Z"
   },
   {
    "duration": 723,
    "start_time": "2023-05-24T16:17:53.055Z"
   },
   {
    "duration": 418,
    "start_time": "2023-05-24T16:17:53.782Z"
   },
   {
    "duration": 76,
    "start_time": "2023-05-24T16:17:54.211Z"
   },
   {
    "duration": 11,
    "start_time": "2023-05-24T16:17:54.289Z"
   },
   {
    "duration": 25,
    "start_time": "2023-05-24T16:17:54.302Z"
   },
   {
    "duration": 10,
    "start_time": "2023-05-24T16:17:54.329Z"
   },
   {
    "duration": 9,
    "start_time": "2023-05-24T16:28:06.543Z"
   },
   {
    "duration": 2151,
    "start_time": "2023-05-24T16:33:45.850Z"
   },
   {
    "duration": 1227,
    "start_time": "2023-05-24T16:33:52.797Z"
   },
   {
    "duration": 45,
    "start_time": "2023-05-24T16:33:54.028Z"
   },
   {
    "duration": 6,
    "start_time": "2023-05-24T16:33:54.609Z"
   },
   {
    "duration": 19,
    "start_time": "2023-05-24T16:33:54.616Z"
   },
   {
    "duration": 13,
    "start_time": "2023-05-24T16:33:54.636Z"
   },
   {
    "duration": 15,
    "start_time": "2023-05-24T16:33:54.651Z"
   },
   {
    "duration": 12,
    "start_time": "2023-05-24T16:33:54.668Z"
   },
   {
    "duration": 6,
    "start_time": "2023-05-24T16:33:54.681Z"
   },
   {
    "duration": 5,
    "start_time": "2023-05-24T16:33:54.689Z"
   },
   {
    "duration": 8,
    "start_time": "2023-05-24T16:33:59.180Z"
   },
   {
    "duration": 12,
    "start_time": "2023-05-24T16:33:59.190Z"
   },
   {
    "duration": 9,
    "start_time": "2023-05-24T16:33:59.204Z"
   },
   {
    "duration": 9,
    "start_time": "2023-05-24T16:33:59.215Z"
   },
   {
    "duration": 12,
    "start_time": "2023-05-24T16:33:59.225Z"
   },
   {
    "duration": 47,
    "start_time": "2023-05-24T16:33:59.238Z"
   },
   {
    "duration": 4,
    "start_time": "2023-05-24T16:33:59.287Z"
   },
   {
    "duration": 16,
    "start_time": "2023-05-24T16:33:59.293Z"
   },
   {
    "duration": 4,
    "start_time": "2023-05-24T16:34:08.140Z"
   },
   {
    "duration": 12,
    "start_time": "2023-05-24T16:34:08.146Z"
   },
   {
    "duration": 4,
    "start_time": "2023-05-24T16:34:08.159Z"
   },
   {
    "duration": 5,
    "start_time": "2023-05-24T16:34:15.339Z"
   },
   {
    "duration": 11,
    "start_time": "2023-05-24T16:34:15.346Z"
   },
   {
    "duration": 10,
    "start_time": "2023-05-24T16:34:20.307Z"
   },
   {
    "duration": 7,
    "start_time": "2023-05-24T16:34:20.320Z"
   },
   {
    "duration": 20,
    "start_time": "2023-05-24T16:34:20.330Z"
   },
   {
    "duration": 15,
    "start_time": "2023-05-24T16:34:20.352Z"
   },
   {
    "duration": 14,
    "start_time": "2023-05-24T16:34:20.369Z"
   },
   {
    "duration": 91,
    "start_time": "2023-05-24T16:34:25.019Z"
   },
   {
    "duration": 6,
    "start_time": "2023-05-24T16:34:25.112Z"
   },
   {
    "duration": 183,
    "start_time": "2023-05-24T16:34:25.120Z"
   },
   {
    "duration": 16,
    "start_time": "2023-05-24T16:34:29.526Z"
   },
   {
    "duration": 7,
    "start_time": "2023-05-24T16:34:29.544Z"
   },
   {
    "duration": 283,
    "start_time": "2023-05-24T16:34:32.100Z"
   },
   {
    "duration": 4,
    "start_time": "2023-05-24T16:34:32.385Z"
   },
   {
    "duration": 21,
    "start_time": "2023-05-24T16:34:32.390Z"
   },
   {
    "duration": 4,
    "start_time": "2023-05-24T16:34:32.413Z"
   },
   {
    "duration": 216,
    "start_time": "2023-05-24T16:34:32.419Z"
   },
   {
    "duration": 2399,
    "start_time": "2023-05-24T16:34:33.357Z"
   },
   {
    "duration": 40403,
    "start_time": "2023-05-24T16:34:35.757Z"
   },
   {
    "duration": 115,
    "start_time": "2023-05-24T16:35:16.161Z"
   },
   {
    "duration": 13,
    "start_time": "2023-05-24T16:35:16.279Z"
   },
   {
    "duration": 78,
    "start_time": "2023-05-24T16:35:16.298Z"
   },
   {
    "duration": 312,
    "start_time": "2023-05-24T16:35:16.378Z"
   },
   {
    "duration": 20,
    "start_time": "2023-05-24T16:35:16.692Z"
   },
   {
    "duration": 4,
    "start_time": "2023-05-24T16:35:16.714Z"
   },
   {
    "duration": 7,
    "start_time": "2023-05-24T16:35:16.719Z"
   },
   {
    "duration": 6,
    "start_time": "2023-05-24T16:35:16.728Z"
   },
   {
    "duration": 39,
    "start_time": "2023-05-24T16:35:16.736Z"
   },
   {
    "duration": 6,
    "start_time": "2023-05-24T16:35:16.777Z"
   },
   {
    "duration": 10,
    "start_time": "2023-05-24T16:35:16.785Z"
   },
   {
    "duration": 4,
    "start_time": "2023-05-24T16:35:16.798Z"
   },
   {
    "duration": 12,
    "start_time": "2023-05-24T16:35:16.803Z"
   },
   {
    "duration": 4,
    "start_time": "2023-05-24T16:35:16.817Z"
   },
   {
    "duration": 228,
    "start_time": "2023-05-24T16:35:16.823Z"
   },
   {
    "duration": 4,
    "start_time": "2023-05-24T16:35:17.053Z"
   },
   {
    "duration": 19,
    "start_time": "2023-05-24T16:35:17.059Z"
   },
   {
    "duration": 6,
    "start_time": "2023-05-24T16:35:17.080Z"
   },
   {
    "duration": 230,
    "start_time": "2023-05-24T16:35:17.087Z"
   },
   {
    "duration": 243,
    "start_time": "2023-05-24T16:35:17.320Z"
   },
   {
    "duration": 212,
    "start_time": "2023-05-24T16:35:17.565Z"
   },
   {
    "duration": 1607,
    "start_time": "2023-05-24T16:35:17.779Z"
   },
   {
    "duration": 1725,
    "start_time": "2023-05-24T16:35:19.387Z"
   },
   {
    "duration": 75,
    "start_time": "2023-05-24T16:35:21.114Z"
   },
   {
    "duration": 201,
    "start_time": "2023-05-24T16:35:21.276Z"
   },
   {
    "duration": 12,
    "start_time": "2023-05-24T16:35:21.479Z"
   },
   {
    "duration": 13,
    "start_time": "2023-05-24T16:35:21.576Z"
   },
   {
    "duration": 17,
    "start_time": "2023-05-24T16:35:21.590Z"
   },
   {
    "duration": 14,
    "start_time": "2023-05-24T16:35:21.609Z"
   },
   {
    "duration": 6,
    "start_time": "2023-05-24T16:54:53.607Z"
   },
   {
    "duration": 293,
    "start_time": "2023-05-24T16:54:56.715Z"
   },
   {
    "duration": 18,
    "start_time": "2023-05-24T16:55:03.313Z"
   },
   {
    "duration": 3,
    "start_time": "2023-05-24T16:55:10.123Z"
   },
   {
    "duration": 5,
    "start_time": "2023-05-24T16:55:15.944Z"
   },
   {
    "duration": 29,
    "start_time": "2023-05-24T17:06:51.622Z"
   },
   {
    "duration": 19,
    "start_time": "2023-05-24T17:08:35.147Z"
   },
   {
    "duration": 7,
    "start_time": "2023-05-24T17:09:48.141Z"
   },
   {
    "duration": 14,
    "start_time": "2023-05-24T17:10:13.940Z"
   },
   {
    "duration": 5,
    "start_time": "2023-05-24T17:10:31.226Z"
   },
   {
    "duration": 287,
    "start_time": "2023-05-24T17:10:36.096Z"
   },
   {
    "duration": 17,
    "start_time": "2023-05-24T17:10:57.368Z"
   },
   {
    "duration": 4,
    "start_time": "2023-05-24T17:12:01.160Z"
   },
   {
    "duration": 4,
    "start_time": "2023-05-24T17:12:06.145Z"
   },
   {
    "duration": 157,
    "start_time": "2023-05-24T17:16:07.046Z"
   },
   {
    "duration": 11,
    "start_time": "2023-05-24T17:50:15.561Z"
   },
   {
    "duration": 22,
    "start_time": "2023-05-24T17:52:53.606Z"
   },
   {
    "duration": 21,
    "start_time": "2023-05-24T17:54:37.418Z"
   },
   {
    "duration": 15,
    "start_time": "2023-05-24T17:55:38.683Z"
   },
   {
    "duration": 18,
    "start_time": "2023-05-24T17:56:07.754Z"
   }
  ],
  "kernelspec": {
   "display_name": "Python 3 (ipykernel)",
   "language": "python",
   "name": "python3"
  },
  "language_info": {
   "codemirror_mode": {
    "name": "ipython",
    "version": 3
   },
   "file_extension": ".py",
   "mimetype": "text/x-python",
   "name": "python",
   "nbconvert_exporter": "python",
   "pygments_lexer": "ipython3",
   "version": "3.9.13"
  },
  "toc": {
   "base_numbering": 1,
   "nav_menu": {
    "height": "265px",
    "width": "337px"
   },
   "number_sections": true,
   "sideBar": true,
   "skip_h1_title": true,
   "title_cell": "Содержание",
   "title_sidebar": "Contents",
   "toc_cell": false,
   "toc_position": {
    "height": "calc(100% - 180px)",
    "left": "10px",
    "top": "150px",
    "width": "255px"
   },
   "toc_section_display": true,
   "toc_window_display": false
  }
 },
 "nbformat": 4,
 "nbformat_minor": 2
}
