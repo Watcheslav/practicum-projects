{
 "cells": [
  {
   "cell_type": "markdown",
   "metadata": {},
   "source": [
    "# Выбор локации для скважины"
   ]
  },
  {
   "cell_type": "markdown",
   "metadata": {},
   "source": [
    "<a name=\"1\"></a>\n",
    "## Содержание"
   ]
  },
  {
   "cell_type": "markdown",
   "metadata": {},
   "source": [
    "1  [Содержание](#1)\n",
    "\n",
    "2  [Описание проекта](#2)\n",
    "\n",
    "*    2.1  [Цель проекта](#21)\n",
    "*    2.2  [Задачи проекта](#22)\n",
    "*    2.3  [Описание данных](#23)\n",
    "*    2.4  [План работы](#24)\n",
    "\n",
    "3  [Подготовка данных](#3)\n",
    "\n",
    "*    3.1  [Исследование данных](#31)\n",
    "\n",
    "   *    3.1.1  [Регион `geo_data_0`](#311)\n",
    "   *    3.1.2  [Регион `geo_data_1`](#312)\n",
    "   *    3.1.3  [Регион `geo_data_2`](#313)\n",
    "   *    3.1.4  [Вывод по п. 3.1](#314)\n",
    "    \n",
    "*    3.2  [Удаление признаков](#32)\n",
    "*    3.3  [Изучение распределения переменных](#33)\n",
    "\n",
    "   *    3.3.1  [Регион `geo_data_0`](#331)\n",
    "   *    3.3.2  [Регион `geo_data_1`](#332)\n",
    "   *    3.3.3  [Регион `geo_data_2`](#333)\n",
    "   *    3.3.4  [Вывод по п. 3.3](#334)\n",
    "    \n",
    "*    3.4  [Корреляционный анализ](#34)\n",
    "*    3.5  [Вывод](#35)\n",
    "\n",
    "4  [Обучение и проверка модели](#4)\n",
    "\n",
    "*    4.1  [`LinearRegression`](#41)\n",
    "*    4.2  [Вывод](#42)\n",
    "\n",
    "5  [Подготовка к расчёту прибыли](#5)\n",
    "\n",
    "*    5.1  [Расчёт безубыточности](#51)\n",
    "*    5.2  [Вывод](#52)\n",
    "\n",
    "6  [Расчёт прибыли и рисков](#6)\n",
    "\n",
    "*    6.1  [Функция для расчёта прибыли](#61)\n",
    "*    6.2  [Расчёт прибыли и рисков для каждого региона](#62)\n",
    "*    6.3  [Вывод](#63)\n",
    "\n",
    "7  [Общий вывод](#7)"
   ]
  },
  {
   "cell_type": "markdown",
   "metadata": {},
   "source": [
    "## Описание проекта\n",
    "<a name=\"2\"></a> <div style=\"text-align: left\">[Cодержание](#Содержание)</div>"
   ]
  },
  {
   "cell_type": "markdown",
   "metadata": {},
   "source": [
    "Допустим, мы работаем в добывающей компании «ГлавРосГосНефть». Нужно решить, где бурить новую скважину.\n",
    "\n",
    "Шаги для выбора локации:\n",
    "\n",
    "- В избранном регионе собираем характеристики для скважин: качество нефти и объём её запасов;\n",
    "- Построим модель для предсказания объёма запасов в новых скважинах и оценим объём запасов;\n",
    "- Выберем месторождения с самым высокими оценками значений;\n",
    "- Определяем регион с максимальной суммарной прибылью отобранных скважин.\n",
    "\n",
    "Нам предоставлены пробы нефти в трёх регионах: в каждом 10 000 месторождений, где измерили качество нефти и объём её запасов. Необходимо построить модель машинного обучения, которая поможет определить регион, где добыча принесёт наибольшую прибыль. Проанализируем возможную прибыль и риски техникой *Bootstrap.*"
   ]
  },
  {
   "cell_type": "markdown",
   "metadata": {},
   "source": [
    "### Цель проекта\n",
    "<a name=\"21\"></a> <div style=\"text-align: left\">[Cодержание](#Содержание)</div>"
   ]
  },
  {
   "cell_type": "markdown",
   "metadata": {},
   "source": [
    "Провести исследование с целью создания модели машинного обучения, которая поможет определить регион, где добыча нефти принесёт наибольшую прибыль.\n",
    "\n",
    "Результаты исследования позволят увеличить прибыль добывающей компании «ГлавРосГосНефть»."
   ]
  },
  {
   "cell_type": "markdown",
   "metadata": {},
   "source": [
    "### Задачи проекта\n",
    "<a name=\"22\"></a> <div style=\"text-align: left\">[Cодержание](#Содержание)</div>"
   ]
  },
  {
   "cell_type": "markdown",
   "metadata": {},
   "source": [
    "1. Изучить данные.\n",
    "2. Подготовить данные.\n",
    "3. Обучить и проверить модель.\n",
    "4. Подготовить данные к расчёту прибыли.\n",
    "5. Рассчитать прибыль и риски.\n",
    "6. Написать общий вывод.\n",
    "\n",
    "\n",
    "**Условия задачи:**\n",
    "\n",
    "- Для обучения модели подходит только линейная регрессия (остальные — недостаточно предсказуемые).\n",
    "- При разведке региона нужно исследовать 500 точек, из которых с помощью машинного обучения нужно выбрать 200 лучших для разработки.\n",
    "- Бюджет на разработку скважин в регионе — 10 млрд рублей.\n",
    "- При нынешних ценах один баррель сырья приносит 450 рублей дохода. Доход с каждой единицы продукта составляет 450 тыс. рублей, поскольку объём указан в тысячах баррелей.\n",
    "- После оценки рисков нужно оставить лишь те регионы, в которых вероятность убытков меньше 2.5%. Среди них нужно выбрать регион с наибольшей средней прибылью.\n",
    "\n",
    "Данные синтетические: детали контрактов и характеристики месторождений не разглашаются."
   ]
  },
  {
   "cell_type": "markdown",
   "metadata": {},
   "source": [
    "### Описание данных\n",
    "<a name=\"23\"></a> <div style=\"text-align: left\">[Cодержание](#Содержание)</div>"
   ]
  },
  {
   "cell_type": "markdown",
   "metadata": {},
   "source": [
    "Нам предоставлены пробы нефти в трёх регионах. Характеристики для каждой скважины в регионе уже известны.\n",
    "\n",
    "Данные геологоразведки трёх регионов находятся в файлах:\n",
    "- `geo_data_0.csv`\n",
    "- `geo_data_1.csv`\n",
    "- `geo_data_2.csv`\n",
    "\n",
    "**Признаки:**\n",
    "- `id` — уникальный идентификатор скважины\n",
    "- `f0`, `f1`, `f2` — три признака точек (неважно, что они означают, но сами признаки значимы)\n",
    "\n",
    "**Целевой признак:**\n",
    "- `product` — объём запасов в скважине (тыс. баррелей)"
   ]
  },
  {
   "cell_type": "markdown",
   "metadata": {},
   "source": [
    "### План работы\n",
    "<a name=\"24\"></a> <div style=\"text-align: left\">[Cодержание](#Содержание)</div>"
   ]
  },
  {
   "cell_type": "markdown",
   "metadata": {},
   "source": [
    "1. Загрузим и подготовим данные. Поясним порядок действий.\n",
    "\n",
    "\n",
    "2. Обучим и проверим модель для каждого региона:\n",
    "\n",
    "   2.1. Разобьём данные на обучающую и валидационную выборки в соотношении 75:25.\n",
    "   \n",
    "   2.2. Обучим модель и сделаем предсказания на валидационной выборке.\n",
    "   \n",
    "   2.3. Сохраним предсказания и правильные ответы на валидационной выборке.\n",
    "   \n",
    "   2.4. Напечатаем на экране средний запас предсказанного сырья и *RMSE* модели.\n",
    "   \n",
    "   2.5. Проанализируем результаты.\n",
    "\n",
    "\n",
    "3. Подготовимся к расчёту прибыли:\n",
    "\n",
    "   3.1. Все ключевые значения для расчётов сохраним в отдельных переменных.\n",
    "   \n",
    "   3.2. Рассчитаем достаточный объём сырья для безубыточной разработки новой скважины. Сравним полученный объём сырья со средним запасом в каждом регионе.\n",
    "   \n",
    "   3.3. Напишем выводы по этапу подготовки расчёта прибыли.\n",
    "   \n",
    "   \n",
    "4. Напишем функцию для расчёта прибыли по выбранным скважинам и предсказаниям модели:\n",
    "\n",
    "   4.1. Выберем скважины с максимальными значениями предсказаний.\n",
    "   \n",
    "   4.2. Просуммируем целевое значение объёма сырья, соответствующее этим предсказаниям.\n",
    "   \n",
    "   4.3. Рассчитаем прибыль для полученного объёма сырья.\n",
    "   \n",
    "   \n",
    "5. Посчитаем риски и прибыль для каждого региона:\n",
    "\n",
    "   5.1. Применим технику Bootstrap с 1000 выборок, чтобы найти распределение прибыли.\n",
    "   \n",
    "   5.2. Найдём среднюю прибыль, 95%-й доверительный интервал и риск убытков. Убыток — это отрицательная прибыль.\n",
    "   \n",
    "   5.3. Напишем выводы: предложим регион для разработки скважин и обоснуем выбор."
   ]
  },
  {
   "cell_type": "markdown",
   "metadata": {},
   "source": [
    "## Подготовка данных\n",
    "<a name=\"3\"></a> <div style=\"text-align: left\">[Cодержание](#Содержание)</div>"
   ]
  },
  {
   "cell_type": "code",
   "execution_count": 1,
   "metadata": {},
   "outputs": [],
   "source": [
    "import matplotlib.pyplot as plt\n",
    "import numpy as np\n",
    "import pandas as pd\n",
    "\n",
    "from sklearn.linear_model import LinearRegression\n",
    "from sklearn.metrics import mean_squared_error\n",
    "from sklearn.model_selection import train_test_split\n",
    "\n",
    "RANDOM_STATE = 12345\n",
    "COST = 10_000_000\n",
    "COUNT = 200\n",
    "REVENUE_PER_UNIT = 450\n",
    "\n",
    "SAMPLE_SIZE = 500\n",
    "BOOTSTRAP_SIZE = 1000\n",
    "TEST_SIZE = 0.25"
   ]
  },
  {
   "cell_type": "markdown",
   "metadata": {},
   "source": [
    "### Исследование данных\n",
    "<a name=\"31\"></a> <div style=\"text-align: left\">[Cодержание](#Содержание)</div>"
   ]
  },
  {
   "cell_type": "markdown",
   "metadata": {},
   "source": [
    "Проведём исследование данных трёх регионов:\n",
    "- `geo_data_0`;\n",
    "- `geo_data_1`;\n",
    "- `geo_data_2`."
   ]
  },
  {
   "cell_type": "markdown",
   "metadata": {},
   "source": [
    "#### Регион `geo_data_0`\n",
    "<a name=\"311\"></a> <div style=\"text-align: left\">[Cодержание](#Содержание)</div>"
   ]
  },
  {
   "cell_type": "markdown",
   "metadata": {},
   "source": [
    "Загрузим данные и выведем размеры и первые 10 строк датасета `geo_data_0`."
   ]
  },
  {
   "cell_type": "code",
   "execution_count": 2,
   "metadata": {},
   "outputs": [],
   "source": [
    "try:\n",
    "    data_0 = pd.read_csv('/datasets/geo_data_0.csv')\n",
    "except:\n",
    "    data_0 = pd.read_csv('/geo_data_0.csv')"
   ]
  },
  {
   "cell_type": "code",
   "execution_count": 3,
   "metadata": {},
   "outputs": [
    {
     "data": {
      "text/plain": [
       "(100000, 5)"
      ]
     },
     "execution_count": 3,
     "metadata": {},
     "output_type": "execute_result"
    }
   ],
   "source": [
    "data_0.shape"
   ]
  },
  {
   "cell_type": "code",
   "execution_count": 4,
   "metadata": {},
   "outputs": [
    {
     "data": {
      "text/html": [
       "<div>\n",
       "<style scoped>\n",
       "    .dataframe tbody tr th:only-of-type {\n",
       "        vertical-align: middle;\n",
       "    }\n",
       "\n",
       "    .dataframe tbody tr th {\n",
       "        vertical-align: top;\n",
       "    }\n",
       "\n",
       "    .dataframe thead th {\n",
       "        text-align: right;\n",
       "    }\n",
       "</style>\n",
       "<table border=\"1\" class=\"dataframe\">\n",
       "  <thead>\n",
       "    <tr style=\"text-align: right;\">\n",
       "      <th></th>\n",
       "      <th>id</th>\n",
       "      <th>f0</th>\n",
       "      <th>f1</th>\n",
       "      <th>f2</th>\n",
       "      <th>product</th>\n",
       "    </tr>\n",
       "  </thead>\n",
       "  <tbody>\n",
       "    <tr>\n",
       "      <th>0</th>\n",
       "      <td>txEyH</td>\n",
       "      <td>0.705745</td>\n",
       "      <td>-0.497823</td>\n",
       "      <td>1.221170</td>\n",
       "      <td>105.280062</td>\n",
       "    </tr>\n",
       "    <tr>\n",
       "      <th>1</th>\n",
       "      <td>2acmU</td>\n",
       "      <td>1.334711</td>\n",
       "      <td>-0.340164</td>\n",
       "      <td>4.365080</td>\n",
       "      <td>73.037750</td>\n",
       "    </tr>\n",
       "    <tr>\n",
       "      <th>2</th>\n",
       "      <td>409Wp</td>\n",
       "      <td>1.022732</td>\n",
       "      <td>0.151990</td>\n",
       "      <td>1.419926</td>\n",
       "      <td>85.265647</td>\n",
       "    </tr>\n",
       "    <tr>\n",
       "      <th>3</th>\n",
       "      <td>iJLyR</td>\n",
       "      <td>-0.032172</td>\n",
       "      <td>0.139033</td>\n",
       "      <td>2.978566</td>\n",
       "      <td>168.620776</td>\n",
       "    </tr>\n",
       "    <tr>\n",
       "      <th>4</th>\n",
       "      <td>Xdl7t</td>\n",
       "      <td>1.988431</td>\n",
       "      <td>0.155413</td>\n",
       "      <td>4.751769</td>\n",
       "      <td>154.036647</td>\n",
       "    </tr>\n",
       "    <tr>\n",
       "      <th>5</th>\n",
       "      <td>wX4Hy</td>\n",
       "      <td>0.969570</td>\n",
       "      <td>0.489775</td>\n",
       "      <td>-0.735383</td>\n",
       "      <td>64.741541</td>\n",
       "    </tr>\n",
       "    <tr>\n",
       "      <th>6</th>\n",
       "      <td>tL6pL</td>\n",
       "      <td>0.645075</td>\n",
       "      <td>0.530656</td>\n",
       "      <td>1.780266</td>\n",
       "      <td>49.055285</td>\n",
       "    </tr>\n",
       "    <tr>\n",
       "      <th>7</th>\n",
       "      <td>BYPU6</td>\n",
       "      <td>-0.400648</td>\n",
       "      <td>0.808337</td>\n",
       "      <td>-5.624670</td>\n",
       "      <td>72.943292</td>\n",
       "    </tr>\n",
       "    <tr>\n",
       "      <th>8</th>\n",
       "      <td>j9Oui</td>\n",
       "      <td>0.643105</td>\n",
       "      <td>-0.551583</td>\n",
       "      <td>2.372141</td>\n",
       "      <td>113.356160</td>\n",
       "    </tr>\n",
       "    <tr>\n",
       "      <th>9</th>\n",
       "      <td>OLuZU</td>\n",
       "      <td>2.173381</td>\n",
       "      <td>0.563698</td>\n",
       "      <td>9.441852</td>\n",
       "      <td>127.910945</td>\n",
       "    </tr>\n",
       "  </tbody>\n",
       "</table>\n",
       "</div>"
      ],
      "text/plain": [
       "      id        f0        f1        f2     product\n",
       "0  txEyH  0.705745 -0.497823  1.221170  105.280062\n",
       "1  2acmU  1.334711 -0.340164  4.365080   73.037750\n",
       "2  409Wp  1.022732  0.151990  1.419926   85.265647\n",
       "3  iJLyR -0.032172  0.139033  2.978566  168.620776\n",
       "4  Xdl7t  1.988431  0.155413  4.751769  154.036647\n",
       "5  wX4Hy  0.969570  0.489775 -0.735383   64.741541\n",
       "6  tL6pL  0.645075  0.530656  1.780266   49.055285\n",
       "7  BYPU6 -0.400648  0.808337 -5.624670   72.943292\n",
       "8  j9Oui  0.643105 -0.551583  2.372141  113.356160\n",
       "9  OLuZU  2.173381  0.563698  9.441852  127.910945"
      ]
     },
     "execution_count": 4,
     "metadata": {},
     "output_type": "execute_result"
    }
   ],
   "source": [
    "data_0.head(10)"
   ]
  },
  {
   "cell_type": "markdown",
   "metadata": {},
   "source": [
    "Проверим на явные дубликаты датасет `data_0`."
   ]
  },
  {
   "cell_type": "code",
   "execution_count": 5,
   "metadata": {},
   "outputs": [
    {
     "data": {
      "text/plain": [
       "0"
      ]
     },
     "execution_count": 5,
     "metadata": {},
     "output_type": "execute_result"
    }
   ],
   "source": [
    "data_0.duplicated().sum()"
   ]
  },
  {
   "cell_type": "markdown",
   "metadata": {},
   "source": [
    "Выведем общую информацию о датасете `data_0`."
   ]
  },
  {
   "cell_type": "code",
   "execution_count": 6,
   "metadata": {
    "scrolled": false
   },
   "outputs": [
    {
     "name": "stdout",
     "output_type": "stream",
     "text": [
      "<class 'pandas.core.frame.DataFrame'>\n",
      "RangeIndex: 100000 entries, 0 to 99999\n",
      "Data columns (total 5 columns):\n",
      " #   Column   Non-Null Count   Dtype  \n",
      "---  ------   --------------   -----  \n",
      " 0   id       100000 non-null  object \n",
      " 1   f0       100000 non-null  float64\n",
      " 2   f1       100000 non-null  float64\n",
      " 3   f2       100000 non-null  float64\n",
      " 4   product  100000 non-null  float64\n",
      "dtypes: float64(4), object(1)\n",
      "memory usage: 3.8+ MB\n"
     ]
    }
   ],
   "source": [
    "data_0.info()"
   ]
  },
  {
   "cell_type": "markdown",
   "metadata": {},
   "source": [
    "#### Регион `geo_data_1`\n",
    "<a name=\"312\"></a> <div style=\"text-align: left\">[Cодержание](#Содержание)</div>"
   ]
  },
  {
   "cell_type": "markdown",
   "metadata": {},
   "source": [
    "Загрузим данные и выведем размеры и первые 10 строк датасета `geo_data_1`."
   ]
  },
  {
   "cell_type": "code",
   "execution_count": 7,
   "metadata": {},
   "outputs": [],
   "source": [
    "try:\n",
    "    data_1 = pd.read_csv('/datasets/geo_data_1.csv')\n",
    "except:\n",
    "    data_1 = pd.read_csv('/geo_data_1.csv')"
   ]
  },
  {
   "cell_type": "code",
   "execution_count": 8,
   "metadata": {},
   "outputs": [
    {
     "data": {
      "text/plain": [
       "(100000, 5)"
      ]
     },
     "execution_count": 8,
     "metadata": {},
     "output_type": "execute_result"
    }
   ],
   "source": [
    "data_1.shape"
   ]
  },
  {
   "cell_type": "code",
   "execution_count": 9,
   "metadata": {},
   "outputs": [
    {
     "data": {
      "text/html": [
       "<div>\n",
       "<style scoped>\n",
       "    .dataframe tbody tr th:only-of-type {\n",
       "        vertical-align: middle;\n",
       "    }\n",
       "\n",
       "    .dataframe tbody tr th {\n",
       "        vertical-align: top;\n",
       "    }\n",
       "\n",
       "    .dataframe thead th {\n",
       "        text-align: right;\n",
       "    }\n",
       "</style>\n",
       "<table border=\"1\" class=\"dataframe\">\n",
       "  <thead>\n",
       "    <tr style=\"text-align: right;\">\n",
       "      <th></th>\n",
       "      <th>id</th>\n",
       "      <th>f0</th>\n",
       "      <th>f1</th>\n",
       "      <th>f2</th>\n",
       "      <th>product</th>\n",
       "    </tr>\n",
       "  </thead>\n",
       "  <tbody>\n",
       "    <tr>\n",
       "      <th>0</th>\n",
       "      <td>kBEdx</td>\n",
       "      <td>-15.001348</td>\n",
       "      <td>-8.276000</td>\n",
       "      <td>-0.005876</td>\n",
       "      <td>3.179103</td>\n",
       "    </tr>\n",
       "    <tr>\n",
       "      <th>1</th>\n",
       "      <td>62mP7</td>\n",
       "      <td>14.272088</td>\n",
       "      <td>-3.475083</td>\n",
       "      <td>0.999183</td>\n",
       "      <td>26.953261</td>\n",
       "    </tr>\n",
       "    <tr>\n",
       "      <th>2</th>\n",
       "      <td>vyE1P</td>\n",
       "      <td>6.263187</td>\n",
       "      <td>-5.948386</td>\n",
       "      <td>5.001160</td>\n",
       "      <td>134.766305</td>\n",
       "    </tr>\n",
       "    <tr>\n",
       "      <th>3</th>\n",
       "      <td>KcrkZ</td>\n",
       "      <td>-13.081196</td>\n",
       "      <td>-11.506057</td>\n",
       "      <td>4.999415</td>\n",
       "      <td>137.945408</td>\n",
       "    </tr>\n",
       "    <tr>\n",
       "      <th>4</th>\n",
       "      <td>AHL4O</td>\n",
       "      <td>12.702195</td>\n",
       "      <td>-8.147433</td>\n",
       "      <td>5.004363</td>\n",
       "      <td>134.766305</td>\n",
       "    </tr>\n",
       "    <tr>\n",
       "      <th>5</th>\n",
       "      <td>HHckp</td>\n",
       "      <td>-3.327590</td>\n",
       "      <td>-2.205276</td>\n",
       "      <td>3.003647</td>\n",
       "      <td>84.038886</td>\n",
       "    </tr>\n",
       "    <tr>\n",
       "      <th>6</th>\n",
       "      <td>h5Ujo</td>\n",
       "      <td>-11.142655</td>\n",
       "      <td>-10.133399</td>\n",
       "      <td>4.002382</td>\n",
       "      <td>110.992147</td>\n",
       "    </tr>\n",
       "    <tr>\n",
       "      <th>7</th>\n",
       "      <td>muH9x</td>\n",
       "      <td>4.234715</td>\n",
       "      <td>-0.001354</td>\n",
       "      <td>2.004588</td>\n",
       "      <td>53.906522</td>\n",
       "    </tr>\n",
       "    <tr>\n",
       "      <th>8</th>\n",
       "      <td>YiRkx</td>\n",
       "      <td>13.355129</td>\n",
       "      <td>-0.332068</td>\n",
       "      <td>4.998647</td>\n",
       "      <td>134.766305</td>\n",
       "    </tr>\n",
       "    <tr>\n",
       "      <th>9</th>\n",
       "      <td>jG6Gi</td>\n",
       "      <td>1.069227</td>\n",
       "      <td>-11.025667</td>\n",
       "      <td>4.997844</td>\n",
       "      <td>137.945408</td>\n",
       "    </tr>\n",
       "  </tbody>\n",
       "</table>\n",
       "</div>"
      ],
      "text/plain": [
       "      id         f0         f1        f2     product\n",
       "0  kBEdx -15.001348  -8.276000 -0.005876    3.179103\n",
       "1  62mP7  14.272088  -3.475083  0.999183   26.953261\n",
       "2  vyE1P   6.263187  -5.948386  5.001160  134.766305\n",
       "3  KcrkZ -13.081196 -11.506057  4.999415  137.945408\n",
       "4  AHL4O  12.702195  -8.147433  5.004363  134.766305\n",
       "5  HHckp  -3.327590  -2.205276  3.003647   84.038886\n",
       "6  h5Ujo -11.142655 -10.133399  4.002382  110.992147\n",
       "7  muH9x   4.234715  -0.001354  2.004588   53.906522\n",
       "8  YiRkx  13.355129  -0.332068  4.998647  134.766305\n",
       "9  jG6Gi   1.069227 -11.025667  4.997844  137.945408"
      ]
     },
     "execution_count": 9,
     "metadata": {},
     "output_type": "execute_result"
    }
   ],
   "source": [
    "data_1.head(10)"
   ]
  },
  {
   "cell_type": "markdown",
   "metadata": {},
   "source": [
    "Проверим на явные дубликаты датасет `data_1`."
   ]
  },
  {
   "cell_type": "code",
   "execution_count": 10,
   "metadata": {},
   "outputs": [
    {
     "data": {
      "text/plain": [
       "0"
      ]
     },
     "execution_count": 10,
     "metadata": {},
     "output_type": "execute_result"
    }
   ],
   "source": [
    "data_1.duplicated().sum()"
   ]
  },
  {
   "cell_type": "markdown",
   "metadata": {},
   "source": [
    "Выведем общую информацию о датасете `data_1`."
   ]
  },
  {
   "cell_type": "code",
   "execution_count": 11,
   "metadata": {},
   "outputs": [
    {
     "name": "stdout",
     "output_type": "stream",
     "text": [
      "<class 'pandas.core.frame.DataFrame'>\n",
      "RangeIndex: 100000 entries, 0 to 99999\n",
      "Data columns (total 5 columns):\n",
      " #   Column   Non-Null Count   Dtype  \n",
      "---  ------   --------------   -----  \n",
      " 0   id       100000 non-null  object \n",
      " 1   f0       100000 non-null  float64\n",
      " 2   f1       100000 non-null  float64\n",
      " 3   f2       100000 non-null  float64\n",
      " 4   product  100000 non-null  float64\n",
      "dtypes: float64(4), object(1)\n",
      "memory usage: 3.8+ MB\n"
     ]
    }
   ],
   "source": [
    "data_1.info()"
   ]
  },
  {
   "cell_type": "markdown",
   "metadata": {},
   "source": [
    "#### Регион `geo_data_2`\n",
    "<a name=\"313\"></a> <div style=\"text-align: left\">[Cодержание](#Содержание)</div>"
   ]
  },
  {
   "cell_type": "markdown",
   "metadata": {},
   "source": [
    "Загрузим данные и выведем размеры и первые 10 строк датасета `geo_data_2`."
   ]
  },
  {
   "cell_type": "code",
   "execution_count": 12,
   "metadata": {},
   "outputs": [],
   "source": [
    "try:\n",
    "    data_2 = pd.read_csv('/datasets/geo_data_2.csv')\n",
    "except:\n",
    "    data_2 = pd.read_csv('/geo_data_2.csv')"
   ]
  },
  {
   "cell_type": "code",
   "execution_count": 13,
   "metadata": {},
   "outputs": [
    {
     "data": {
      "text/plain": [
       "(100000, 5)"
      ]
     },
     "execution_count": 13,
     "metadata": {},
     "output_type": "execute_result"
    }
   ],
   "source": [
    "data_2.shape"
   ]
  },
  {
   "cell_type": "code",
   "execution_count": 14,
   "metadata": {},
   "outputs": [
    {
     "data": {
      "text/html": [
       "<div>\n",
       "<style scoped>\n",
       "    .dataframe tbody tr th:only-of-type {\n",
       "        vertical-align: middle;\n",
       "    }\n",
       "\n",
       "    .dataframe tbody tr th {\n",
       "        vertical-align: top;\n",
       "    }\n",
       "\n",
       "    .dataframe thead th {\n",
       "        text-align: right;\n",
       "    }\n",
       "</style>\n",
       "<table border=\"1\" class=\"dataframe\">\n",
       "  <thead>\n",
       "    <tr style=\"text-align: right;\">\n",
       "      <th></th>\n",
       "      <th>id</th>\n",
       "      <th>f0</th>\n",
       "      <th>f1</th>\n",
       "      <th>f2</th>\n",
       "      <th>product</th>\n",
       "    </tr>\n",
       "  </thead>\n",
       "  <tbody>\n",
       "    <tr>\n",
       "      <th>0</th>\n",
       "      <td>fwXo0</td>\n",
       "      <td>-1.146987</td>\n",
       "      <td>0.963328</td>\n",
       "      <td>-0.828965</td>\n",
       "      <td>27.758673</td>\n",
       "    </tr>\n",
       "    <tr>\n",
       "      <th>1</th>\n",
       "      <td>WJtFt</td>\n",
       "      <td>0.262778</td>\n",
       "      <td>0.269839</td>\n",
       "      <td>-2.530187</td>\n",
       "      <td>56.069697</td>\n",
       "    </tr>\n",
       "    <tr>\n",
       "      <th>2</th>\n",
       "      <td>ovLUW</td>\n",
       "      <td>0.194587</td>\n",
       "      <td>0.289035</td>\n",
       "      <td>-5.586433</td>\n",
       "      <td>62.871910</td>\n",
       "    </tr>\n",
       "    <tr>\n",
       "      <th>3</th>\n",
       "      <td>q6cA6</td>\n",
       "      <td>2.236060</td>\n",
       "      <td>-0.553760</td>\n",
       "      <td>0.930038</td>\n",
       "      <td>114.572842</td>\n",
       "    </tr>\n",
       "    <tr>\n",
       "      <th>4</th>\n",
       "      <td>WPMUX</td>\n",
       "      <td>-0.515993</td>\n",
       "      <td>1.716266</td>\n",
       "      <td>5.899011</td>\n",
       "      <td>149.600746</td>\n",
       "    </tr>\n",
       "    <tr>\n",
       "      <th>5</th>\n",
       "      <td>LzZXx</td>\n",
       "      <td>-0.758092</td>\n",
       "      <td>0.710691</td>\n",
       "      <td>2.585887</td>\n",
       "      <td>90.222465</td>\n",
       "    </tr>\n",
       "    <tr>\n",
       "      <th>6</th>\n",
       "      <td>WBHRv</td>\n",
       "      <td>-0.574891</td>\n",
       "      <td>0.317727</td>\n",
       "      <td>1.773745</td>\n",
       "      <td>45.641478</td>\n",
       "    </tr>\n",
       "    <tr>\n",
       "      <th>7</th>\n",
       "      <td>XO8fn</td>\n",
       "      <td>-1.906649</td>\n",
       "      <td>-2.458350</td>\n",
       "      <td>-0.177097</td>\n",
       "      <td>72.480640</td>\n",
       "    </tr>\n",
       "    <tr>\n",
       "      <th>8</th>\n",
       "      <td>ybmQ5</td>\n",
       "      <td>1.776292</td>\n",
       "      <td>-0.279356</td>\n",
       "      <td>3.004156</td>\n",
       "      <td>106.616832</td>\n",
       "    </tr>\n",
       "    <tr>\n",
       "      <th>9</th>\n",
       "      <td>OilcN</td>\n",
       "      <td>-1.214452</td>\n",
       "      <td>-0.439314</td>\n",
       "      <td>5.922514</td>\n",
       "      <td>52.954532</td>\n",
       "    </tr>\n",
       "  </tbody>\n",
       "</table>\n",
       "</div>"
      ],
      "text/plain": [
       "      id        f0        f1        f2     product\n",
       "0  fwXo0 -1.146987  0.963328 -0.828965   27.758673\n",
       "1  WJtFt  0.262778  0.269839 -2.530187   56.069697\n",
       "2  ovLUW  0.194587  0.289035 -5.586433   62.871910\n",
       "3  q6cA6  2.236060 -0.553760  0.930038  114.572842\n",
       "4  WPMUX -0.515993  1.716266  5.899011  149.600746\n",
       "5  LzZXx -0.758092  0.710691  2.585887   90.222465\n",
       "6  WBHRv -0.574891  0.317727  1.773745   45.641478\n",
       "7  XO8fn -1.906649 -2.458350 -0.177097   72.480640\n",
       "8  ybmQ5  1.776292 -0.279356  3.004156  106.616832\n",
       "9  OilcN -1.214452 -0.439314  5.922514   52.954532"
      ]
     },
     "execution_count": 14,
     "metadata": {},
     "output_type": "execute_result"
    }
   ],
   "source": [
    "data_2.head(10)"
   ]
  },
  {
   "cell_type": "markdown",
   "metadata": {},
   "source": [
    "Проверим на явные дубликаты датасет `data_2`."
   ]
  },
  {
   "cell_type": "code",
   "execution_count": 15,
   "metadata": {},
   "outputs": [
    {
     "data": {
      "text/plain": [
       "0"
      ]
     },
     "execution_count": 15,
     "metadata": {},
     "output_type": "execute_result"
    }
   ],
   "source": [
    "data_2.duplicated().sum()"
   ]
  },
  {
   "cell_type": "markdown",
   "metadata": {},
   "source": [
    "Выведем общую информацию о датасете `data_2`."
   ]
  },
  {
   "cell_type": "code",
   "execution_count": 16,
   "metadata": {
    "scrolled": false
   },
   "outputs": [
    {
     "name": "stdout",
     "output_type": "stream",
     "text": [
      "<class 'pandas.core.frame.DataFrame'>\n",
      "RangeIndex: 100000 entries, 0 to 99999\n",
      "Data columns (total 5 columns):\n",
      " #   Column   Non-Null Count   Dtype  \n",
      "---  ------   --------------   -----  \n",
      " 0   id       100000 non-null  object \n",
      " 1   f0       100000 non-null  float64\n",
      " 2   f1       100000 non-null  float64\n",
      " 3   f2       100000 non-null  float64\n",
      " 4   product  100000 non-null  float64\n",
      "dtypes: float64(4), object(1)\n",
      "memory usage: 3.8+ MB\n"
     ]
    }
   ],
   "source": [
    "data_2.info()"
   ]
  },
  {
   "cell_type": "markdown",
   "metadata": {},
   "source": [
    "#### Вывод по п. 3.1\n",
    "<a name=\"314\"></a> <div style=\"text-align: left\">[Cодержание](#Содержание)</div>"
   ]
  },
  {
   "cell_type": "markdown",
   "metadata": {},
   "source": [
    "В подразделе [**Исследование данных**](#Исследование-данных) исследованы данные трёх регионов: `geo_data_0`, `geo_data_1` и `geo_data_2`.\n",
    "\n",
    "\n",
    "В результате выполнения задач этого подраздела было выявлено следующее:\n",
    "- в каждом регионе - по 100000 скважин;\n",
    "- явных дубликатов и пропусков нет;\n",
    "- в кодировании категориальных признаков нет необходимости, т.к. все признаки в датасетах - численные;\n",
    "- в масштабировании численных признаков также нет необходимости, т.к. для обучения моделей будет применяться линейная регрессия.\n",
    "\n",
    "**В проекте решается задача регрессии.**"
   ]
  },
  {
   "cell_type": "markdown",
   "metadata": {},
   "source": [
    "### Удаление признаков\n",
    "<a name=\"32\"></a> <div style=\"text-align: left\">[Cодержание](#Содержание)</div>"
   ]
  },
  {
   "cell_type": "markdown",
   "metadata": {},
   "source": [
    "После обучения модели можно предсказать объём запасов в скважине (тыс. баррелей). В качестве идентификатора скважины можно использовать признак `id`, т.к. все его значения - уникальны. Сделаем признак `id` индексом для всех трёх датасетов `data_0`, `data_1` и `data_2`."
   ]
  },
  {
   "cell_type": "code",
   "execution_count": 17,
   "metadata": {},
   "outputs": [
    {
     "name": "stdout",
     "output_type": "stream",
     "text": [
      "(100000, 5)\n",
      "(100000, 5)\n",
      "(100000, 5)\n"
     ]
    }
   ],
   "source": [
    "print(data_0.shape)\n",
    "print(data_1.shape)\n",
    "print(data_2.shape)"
   ]
  },
  {
   "cell_type": "code",
   "execution_count": 18,
   "metadata": {},
   "outputs": [],
   "source": [
    "data_0.set_index('id', inplace=True)\n",
    "data_1.set_index('id', inplace=True)\n",
    "data_2.set_index('id', inplace=True)"
   ]
  },
  {
   "cell_type": "markdown",
   "metadata": {},
   "source": [
    "Введём новую переменную `all_data` и сохраним в ней в виде списка все три обновлённых датасета `data_0`, `data_1` и `data_2`."
   ]
  },
  {
   "cell_type": "code",
   "execution_count": 19,
   "metadata": {},
   "outputs": [
    {
     "data": {
      "text/plain": [
       "[             f0        f1        f2     product\n",
       " id                                             \n",
       " txEyH  0.705745 -0.497823  1.221170  105.280062\n",
       " 2acmU  1.334711 -0.340164  4.365080   73.037750\n",
       " 409Wp  1.022732  0.151990  1.419926   85.265647\n",
       " iJLyR -0.032172  0.139033  2.978566  168.620776\n",
       " Xdl7t  1.988431  0.155413  4.751769  154.036647\n",
       " ...         ...       ...       ...         ...\n",
       " DLsed  0.971957  0.370953  6.075346  110.744026\n",
       " QKivN  1.392429 -0.382606  1.273912  122.346843\n",
       " 3rnvd  1.029585  0.018787 -1.348308   64.375443\n",
       " 7kl59  0.998163 -0.528582  1.583869   74.040764\n",
       " 1CWhH  1.764754 -0.266417  5.722849  149.633246\n",
       " \n",
       " [100000 rows x 4 columns],\n",
       "               f0         f1        f2     product\n",
       " id                                               \n",
       " kBEdx -15.001348  -8.276000 -0.005876    3.179103\n",
       " 62mP7  14.272088  -3.475083  0.999183   26.953261\n",
       " vyE1P   6.263187  -5.948386  5.001160  134.766305\n",
       " KcrkZ -13.081196 -11.506057  4.999415  137.945408\n",
       " AHL4O  12.702195  -8.147433  5.004363  134.766305\n",
       " ...          ...        ...       ...         ...\n",
       " QywKC   9.535637  -6.878139  1.998296   53.906522\n",
       " ptvty -10.160631 -12.558096  5.005581  137.945408\n",
       " 09gWa  -7.378891  -3.084104  4.998651  137.945408\n",
       " rqwUm   0.665714  -6.152593  1.000146   30.132364\n",
       " relB0  -3.426139  -7.794274 -0.003299    3.179103\n",
       " \n",
       " [100000 rows x 4 columns],\n",
       "              f0        f1        f2     product\n",
       " id                                             \n",
       " fwXo0 -1.146987  0.963328 -0.828965   27.758673\n",
       " WJtFt  0.262778  0.269839 -2.530187   56.069697\n",
       " ovLUW  0.194587  0.289035 -5.586433   62.871910\n",
       " q6cA6  2.236060 -0.553760  0.930038  114.572842\n",
       " WPMUX -0.515993  1.716266  5.899011  149.600746\n",
       " ...         ...       ...       ...         ...\n",
       " 4GxBu -1.777037  1.125220  6.263374  172.327046\n",
       " YKFjq -1.261523 -0.894828  2.524545  138.748846\n",
       " tKPY3 -1.199934 -2.957637  5.219411  157.080080\n",
       " nmxp2 -2.419896  2.417221 -5.548444   51.795253\n",
       " V9kWn -2.551421 -2.025625  6.090891  102.775767\n",
       " \n",
       " [100000 rows x 4 columns]]"
      ]
     },
     "metadata": {},
     "output_type": "display_data"
    }
   ],
   "source": [
    "all_data = [data_0, data_1, data_2]\n",
    "\n",
    "display(all_data)"
   ]
  },
  {
   "cell_type": "markdown",
   "metadata": {},
   "source": [
    "### Изучение распределения переменных\n",
    "<a name=\"33\"></a> <div style=\"text-align: left\">[Cодержание](#Содержание)</div>"
   ]
  },
  {
   "cell_type": "markdown",
   "metadata": {},
   "source": [
    "#### Регион `geo_data_0`\n",
    "<a name=\"331\"></a> <div style=\"text-align: left\">[Cодержание](#Содержание)</div>"
   ]
  },
  {
   "cell_type": "markdown",
   "metadata": {},
   "source": [
    "Выведем числовое описание данных в датасете `data_0`, применяя метод `.describe()`."
   ]
  },
  {
   "cell_type": "code",
   "execution_count": 20,
   "metadata": {
    "scrolled": false
   },
   "outputs": [
    {
     "data": {
      "text/html": [
       "<div>\n",
       "<style scoped>\n",
       "    .dataframe tbody tr th:only-of-type {\n",
       "        vertical-align: middle;\n",
       "    }\n",
       "\n",
       "    .dataframe tbody tr th {\n",
       "        vertical-align: top;\n",
       "    }\n",
       "\n",
       "    .dataframe thead th {\n",
       "        text-align: right;\n",
       "    }\n",
       "</style>\n",
       "<table border=\"1\" class=\"dataframe\">\n",
       "  <thead>\n",
       "    <tr style=\"text-align: right;\">\n",
       "      <th></th>\n",
       "      <th>f0</th>\n",
       "      <th>f1</th>\n",
       "      <th>f2</th>\n",
       "      <th>product</th>\n",
       "    </tr>\n",
       "  </thead>\n",
       "  <tbody>\n",
       "    <tr>\n",
       "      <th>count</th>\n",
       "      <td>100000.000000</td>\n",
       "      <td>100000.000000</td>\n",
       "      <td>100000.000000</td>\n",
       "      <td>100000.000000</td>\n",
       "    </tr>\n",
       "    <tr>\n",
       "      <th>mean</th>\n",
       "      <td>0.500419</td>\n",
       "      <td>0.250143</td>\n",
       "      <td>2.502647</td>\n",
       "      <td>92.500000</td>\n",
       "    </tr>\n",
       "    <tr>\n",
       "      <th>std</th>\n",
       "      <td>0.871832</td>\n",
       "      <td>0.504433</td>\n",
       "      <td>3.248248</td>\n",
       "      <td>44.288691</td>\n",
       "    </tr>\n",
       "    <tr>\n",
       "      <th>min</th>\n",
       "      <td>-1.408605</td>\n",
       "      <td>-0.848218</td>\n",
       "      <td>-12.088328</td>\n",
       "      <td>0.000000</td>\n",
       "    </tr>\n",
       "    <tr>\n",
       "      <th>25%</th>\n",
       "      <td>-0.072580</td>\n",
       "      <td>-0.200881</td>\n",
       "      <td>0.287748</td>\n",
       "      <td>56.497507</td>\n",
       "    </tr>\n",
       "    <tr>\n",
       "      <th>50%</th>\n",
       "      <td>0.502360</td>\n",
       "      <td>0.250252</td>\n",
       "      <td>2.515969</td>\n",
       "      <td>91.849972</td>\n",
       "    </tr>\n",
       "    <tr>\n",
       "      <th>75%</th>\n",
       "      <td>1.073581</td>\n",
       "      <td>0.700646</td>\n",
       "      <td>4.715088</td>\n",
       "      <td>128.564089</td>\n",
       "    </tr>\n",
       "    <tr>\n",
       "      <th>max</th>\n",
       "      <td>2.362331</td>\n",
       "      <td>1.343769</td>\n",
       "      <td>16.003790</td>\n",
       "      <td>185.364347</td>\n",
       "    </tr>\n",
       "  </tbody>\n",
       "</table>\n",
       "</div>"
      ],
      "text/plain": [
       "                  f0             f1             f2        product\n",
       "count  100000.000000  100000.000000  100000.000000  100000.000000\n",
       "mean        0.500419       0.250143       2.502647      92.500000\n",
       "std         0.871832       0.504433       3.248248      44.288691\n",
       "min        -1.408605      -0.848218     -12.088328       0.000000\n",
       "25%        -0.072580      -0.200881       0.287748      56.497507\n",
       "50%         0.502360       0.250252       2.515969      91.849972\n",
       "75%         1.073581       0.700646       4.715088     128.564089\n",
       "max         2.362331       1.343769      16.003790     185.364347"
      ]
     },
     "execution_count": 20,
     "metadata": {},
     "output_type": "execute_result"
    }
   ],
   "source": [
    "data_0.describe()"
   ]
  },
  {
   "cell_type": "markdown",
   "metadata": {},
   "source": [
    "Визуализируем распределения переменных при помощи гистограмм для региона `geo_data_0`."
   ]
  },
  {
   "cell_type": "code",
   "execution_count": 21,
   "metadata": {},
   "outputs": [
    {
     "data": {
      "image/png": "[encoded data removed]",
      "text/plain": [
       "<Figure size 1008x576 with 4 Axes>"
      ]
     },
     "metadata": {
      "needs_background": "light"
     },
     "output_type": "display_data"
    }
   ],
   "source": [
    "data_0.hist(figsize=(14, 8), bins=50, alpha=0.7, color='deepskyblue', ec='red')\n",
    "plt.show()"
   ]
  },
  {
   "cell_type": "markdown",
   "metadata": {},
   "source": [
    "#### Регион `geo_data_1`\n",
    "<a name=\"332\"></a> <div style=\"text-align: left\">[Cодержание](#Содержание)</div>"
   ]
  },
  {
   "cell_type": "markdown",
   "metadata": {},
   "source": [
    "Выведем числовое описание данных в датасете `data_1`, применив метод `.describe()`."
   ]
  },
  {
   "cell_type": "code",
   "execution_count": 22,
   "metadata": {
    "scrolled": true
   },
   "outputs": [
    {
     "data": {
      "text/html": [
       "<div>\n",
       "<style scoped>\n",
       "    .dataframe tbody tr th:only-of-type {\n",
       "        vertical-align: middle;\n",
       "    }\n",
       "\n",
       "    .dataframe tbody tr th {\n",
       "        vertical-align: top;\n",
       "    }\n",
       "\n",
       "    .dataframe thead th {\n",
       "        text-align: right;\n",
       "    }\n",
       "</style>\n",
       "<table border=\"1\" class=\"dataframe\">\n",
       "  <thead>\n",
       "    <tr style=\"text-align: right;\">\n",
       "      <th></th>\n",
       "      <th>f0</th>\n",
       "      <th>f1</th>\n",
       "      <th>f2</th>\n",
       "      <th>product</th>\n",
       "    </tr>\n",
       "  </thead>\n",
       "  <tbody>\n",
       "    <tr>\n",
       "      <th>count</th>\n",
       "      <td>100000.000000</td>\n",
       "      <td>100000.000000</td>\n",
       "      <td>100000.000000</td>\n",
       "      <td>100000.000000</td>\n",
       "    </tr>\n",
       "    <tr>\n",
       "      <th>mean</th>\n",
       "      <td>1.141296</td>\n",
       "      <td>-4.796579</td>\n",
       "      <td>2.494541</td>\n",
       "      <td>68.825000</td>\n",
       "    </tr>\n",
       "    <tr>\n",
       "      <th>std</th>\n",
       "      <td>8.965932</td>\n",
       "      <td>5.119872</td>\n",
       "      <td>1.703572</td>\n",
       "      <td>45.944423</td>\n",
       "    </tr>\n",
       "    <tr>\n",
       "      <th>min</th>\n",
       "      <td>-31.609576</td>\n",
       "      <td>-26.358598</td>\n",
       "      <td>-0.018144</td>\n",
       "      <td>0.000000</td>\n",
       "    </tr>\n",
       "    <tr>\n",
       "      <th>25%</th>\n",
       "      <td>-6.298551</td>\n",
       "      <td>-8.267985</td>\n",
       "      <td>1.000021</td>\n",
       "      <td>26.953261</td>\n",
       "    </tr>\n",
       "    <tr>\n",
       "      <th>50%</th>\n",
       "      <td>1.153055</td>\n",
       "      <td>-4.813172</td>\n",
       "      <td>2.011479</td>\n",
       "      <td>57.085625</td>\n",
       "    </tr>\n",
       "    <tr>\n",
       "      <th>75%</th>\n",
       "      <td>8.621015</td>\n",
       "      <td>-1.332816</td>\n",
       "      <td>3.999904</td>\n",
       "      <td>107.813044</td>\n",
       "    </tr>\n",
       "    <tr>\n",
       "      <th>max</th>\n",
       "      <td>29.421755</td>\n",
       "      <td>18.734063</td>\n",
       "      <td>5.019721</td>\n",
       "      <td>137.945408</td>\n",
       "    </tr>\n",
       "  </tbody>\n",
       "</table>\n",
       "</div>"
      ],
      "text/plain": [
       "                  f0             f1             f2        product\n",
       "count  100000.000000  100000.000000  100000.000000  100000.000000\n",
       "mean        1.141296      -4.796579       2.494541      68.825000\n",
       "std         8.965932       5.119872       1.703572      45.944423\n",
       "min       -31.609576     -26.358598      -0.018144       0.000000\n",
       "25%        -6.298551      -8.267985       1.000021      26.953261\n",
       "50%         1.153055      -4.813172       2.011479      57.085625\n",
       "75%         8.621015      -1.332816       3.999904     107.813044\n",
       "max        29.421755      18.734063       5.019721     137.945408"
      ]
     },
     "execution_count": 22,
     "metadata": {},
     "output_type": "execute_result"
    }
   ],
   "source": [
    "data_1.describe()"
   ]
  },
  {
   "cell_type": "markdown",
   "metadata": {},
   "source": [
    "Визуализируем распределения переменных при помощи гистограмм для региона `geo_data_1`."
   ]
  },
  {
   "cell_type": "code",
   "execution_count": 23,
   "metadata": {},
   "outputs": [
    {
     "data": {
      "image/png": "[encoded data removed]",
      "text/plain": [
       "<Figure size 1008x576 with 4 Axes>"
      ]
     },
     "metadata": {
      "needs_background": "light"
     },
     "output_type": "display_data"
    }
   ],
   "source": [
    "data_1.hist(figsize=(14, 8), bins=50, alpha=0.7, color='deepskyblue', ec='red')\n",
    "plt.show()"
   ]
  },
  {
   "cell_type": "markdown",
   "metadata": {},
   "source": [
    "#### Регион `geo_data_2`\n",
    "<a name=\"333\"></a> <div style=\"text-align: left\">[Cодержание](#Содержание)</div>"
   ]
  },
  {
   "cell_type": "markdown",
   "metadata": {},
   "source": [
    "Выведем числовое описание данных в датасете `data_2`, применив метод `.describe()`."
   ]
  },
  {
   "cell_type": "code",
   "execution_count": 24,
   "metadata": {
    "scrolled": false
   },
   "outputs": [
    {
     "data": {
      "text/html": [
       "<div>\n",
       "<style scoped>\n",
       "    .dataframe tbody tr th:only-of-type {\n",
       "        vertical-align: middle;\n",
       "    }\n",
       "\n",
       "    .dataframe tbody tr th {\n",
       "        vertical-align: top;\n",
       "    }\n",
       "\n",
       "    .dataframe thead th {\n",
       "        text-align: right;\n",
       "    }\n",
       "</style>\n",
       "<table border=\"1\" class=\"dataframe\">\n",
       "  <thead>\n",
       "    <tr style=\"text-align: right;\">\n",
       "      <th></th>\n",
       "      <th>f0</th>\n",
       "      <th>f1</th>\n",
       "      <th>f2</th>\n",
       "      <th>product</th>\n",
       "    </tr>\n",
       "  </thead>\n",
       "  <tbody>\n",
       "    <tr>\n",
       "      <th>count</th>\n",
       "      <td>100000.000000</td>\n",
       "      <td>100000.000000</td>\n",
       "      <td>100000.000000</td>\n",
       "      <td>100000.000000</td>\n",
       "    </tr>\n",
       "    <tr>\n",
       "      <th>mean</th>\n",
       "      <td>0.002023</td>\n",
       "      <td>-0.002081</td>\n",
       "      <td>2.495128</td>\n",
       "      <td>95.000000</td>\n",
       "    </tr>\n",
       "    <tr>\n",
       "      <th>std</th>\n",
       "      <td>1.732045</td>\n",
       "      <td>1.730417</td>\n",
       "      <td>3.473445</td>\n",
       "      <td>44.749921</td>\n",
       "    </tr>\n",
       "    <tr>\n",
       "      <th>min</th>\n",
       "      <td>-8.760004</td>\n",
       "      <td>-7.084020</td>\n",
       "      <td>-11.970335</td>\n",
       "      <td>0.000000</td>\n",
       "    </tr>\n",
       "    <tr>\n",
       "      <th>25%</th>\n",
       "      <td>-1.162288</td>\n",
       "      <td>-1.174820</td>\n",
       "      <td>0.130359</td>\n",
       "      <td>59.450441</td>\n",
       "    </tr>\n",
       "    <tr>\n",
       "      <th>50%</th>\n",
       "      <td>0.009424</td>\n",
       "      <td>-0.009482</td>\n",
       "      <td>2.484236</td>\n",
       "      <td>94.925613</td>\n",
       "    </tr>\n",
       "    <tr>\n",
       "      <th>75%</th>\n",
       "      <td>1.158535</td>\n",
       "      <td>1.163678</td>\n",
       "      <td>4.858794</td>\n",
       "      <td>130.595027</td>\n",
       "    </tr>\n",
       "    <tr>\n",
       "      <th>max</th>\n",
       "      <td>7.238262</td>\n",
       "      <td>7.844801</td>\n",
       "      <td>16.739402</td>\n",
       "      <td>190.029838</td>\n",
       "    </tr>\n",
       "  </tbody>\n",
       "</table>\n",
       "</div>"
      ],
      "text/plain": [
       "                  f0             f1             f2        product\n",
       "count  100000.000000  100000.000000  100000.000000  100000.000000\n",
       "mean        0.002023      -0.002081       2.495128      95.000000\n",
       "std         1.732045       1.730417       3.473445      44.749921\n",
       "min        -8.760004      -7.084020     -11.970335       0.000000\n",
       "25%        -1.162288      -1.174820       0.130359      59.450441\n",
       "50%         0.009424      -0.009482       2.484236      94.925613\n",
       "75%         1.158535       1.163678       4.858794     130.595027\n",
       "max         7.238262       7.844801      16.739402     190.029838"
      ]
     },
     "execution_count": 24,
     "metadata": {},
     "output_type": "execute_result"
    }
   ],
   "source": [
    "data_2.describe()"
   ]
  },
  {
   "cell_type": "markdown",
   "metadata": {},
   "source": [
    "Визуализируем распределения переменных при помощи гистограмм для региона `geo_data_2`."
   ]
  },
  {
   "cell_type": "code",
   "execution_count": 25,
   "metadata": {},
   "outputs": [
    {
     "data": {
      "image/png": "[encoded data removed]",
      "text/plain": [
       "<Figure size 1008x576 with 4 Axes>"
      ]
     },
     "metadata": {
      "needs_background": "light"
     },
     "output_type": "display_data"
    }
   ],
   "source": [
    "data_2.hist(figsize=(14, 8), bins=50, alpha=0.7, color='deepskyblue', ec='red')\n",
    "plt.show()"
   ]
  },
  {
   "cell_type": "markdown",
   "metadata": {},
   "source": [
    "Глядя на числовое описание данных трёх датасетов мы видим, что средние и медианы не сильно отличаются между собой, кроме признака `product` в датасете `data_1`. Но присутствует сильный разброс значений - стандартное отклонение ***std***: для данных из признаков `f0`, `f1` и `f2` стандартное отклонение даже превышает среднее значение.\n",
    "\n",
    "С другой стороны, гистограммы показывают нам, что распределения переменных сильно отличаются друг от друга для разных регионов. Особенно сильно выделяются аномалии в данных признаков `f2` и `product` в датасете `data_1`, которые будут мешать процессу обучения."
   ]
  },
  {
   "cell_type": "markdown",
   "metadata": {},
   "source": [
    "#### Вывод по п. 3.3\n",
    "<a name=\"334\"></a> <div style=\"text-align: left\">[Cодержание](#Содержание)</div>"
   ]
  },
  {
   "cell_type": "markdown",
   "metadata": {},
   "source": [
    "В подразделе [**Изучение распределения переменных**](#Изучение-распределения-переменных) исследованы данные трёх регионов: `geo_data_0`, `geo_data_1` и `geo_data_2`.\n",
    "\n",
    "\n",
    "В результате выполнения задач этого подраздела было выявлено следующее:\n",
    "1. Во всех трёх датасетах средние и медианы не сильно отличаются между собой (кроме признака `product` в датасете `data_1`), но существует сильный разброс значений - стандартное отклонение ***std***: для данных из признаков `f0`, `f1` и `f2` стандартное отклонение даже превышает среднее значение.\n",
    "2. Гистограммы показывают, что распределения переменных сильно отличаются друг от друга для разных регионов. Особенно сильно выделяются аномалии в данных признаков `f2` и `product` в датасете `data_1`, которые будут мешать процессу обучения."
   ]
  },
  {
   "cell_type": "markdown",
   "metadata": {},
   "source": [
    "### Корреляционный анализ\n",
    "<a name=\"34\"></a> <div style=\"text-align: left\">[Cодержание](#Содержание)</div>"
   ]
  },
  {
   "cell_type": "markdown",
   "metadata": {},
   "source": [
    "Проведём корреляционный анализ и посмотрим, как переменные взаимосвязаны между собой - рассчитаем коэффициенты корреляции Пирсона для трёх наших датасетов `data_0`, `data_1` и `data_2`."
   ]
  },
  {
   "cell_type": "code",
   "execution_count": 26,
   "metadata": {},
   "outputs": [
    {
     "name": "stdout",
     "output_type": "stream",
     "text": [
      "Для региона geo_data_0:\n"
     ]
    },
    {
     "data": {
      "text/html": [
       "<div>\n",
       "<style scoped>\n",
       "    .dataframe tbody tr th:only-of-type {\n",
       "        vertical-align: middle;\n",
       "    }\n",
       "\n",
       "    .dataframe tbody tr th {\n",
       "        vertical-align: top;\n",
       "    }\n",
       "\n",
       "    .dataframe thead th {\n",
       "        text-align: right;\n",
       "    }\n",
       "</style>\n",
       "<table border=\"1\" class=\"dataframe\">\n",
       "  <thead>\n",
       "    <tr style=\"text-align: right;\">\n",
       "      <th></th>\n",
       "      <th>f0</th>\n",
       "      <th>f1</th>\n",
       "      <th>f2</th>\n",
       "      <th>product</th>\n",
       "    </tr>\n",
       "  </thead>\n",
       "  <tbody>\n",
       "    <tr>\n",
       "      <th>f0</th>\n",
       "      <td>1.000000</td>\n",
       "      <td>-0.440723</td>\n",
       "      <td>-0.003153</td>\n",
       "      <td>0.143536</td>\n",
       "    </tr>\n",
       "    <tr>\n",
       "      <th>f1</th>\n",
       "      <td>-0.440723</td>\n",
       "      <td>1.000000</td>\n",
       "      <td>0.001724</td>\n",
       "      <td>-0.192356</td>\n",
       "    </tr>\n",
       "    <tr>\n",
       "      <th>f2</th>\n",
       "      <td>-0.003153</td>\n",
       "      <td>0.001724</td>\n",
       "      <td>1.000000</td>\n",
       "      <td>0.483663</td>\n",
       "    </tr>\n",
       "    <tr>\n",
       "      <th>product</th>\n",
       "      <td>0.143536</td>\n",
       "      <td>-0.192356</td>\n",
       "      <td>0.483663</td>\n",
       "      <td>1.000000</td>\n",
       "    </tr>\n",
       "  </tbody>\n",
       "</table>\n",
       "</div>"
      ],
      "text/plain": [
       "               f0        f1        f2   product\n",
       "f0       1.000000 -0.440723 -0.003153  0.143536\n",
       "f1      -0.440723  1.000000  0.001724 -0.192356\n",
       "f2      -0.003153  0.001724  1.000000  0.483663\n",
       "product  0.143536 -0.192356  0.483663  1.000000"
      ]
     },
     "metadata": {},
     "output_type": "display_data"
    },
    {
     "name": "stdout",
     "output_type": "stream",
     "text": [
      "Для региона geo_data_1:\n"
     ]
    },
    {
     "data": {
      "text/html": [
       "<div>\n",
       "<style scoped>\n",
       "    .dataframe tbody tr th:only-of-type {\n",
       "        vertical-align: middle;\n",
       "    }\n",
       "\n",
       "    .dataframe tbody tr th {\n",
       "        vertical-align: top;\n",
       "    }\n",
       "\n",
       "    .dataframe thead th {\n",
       "        text-align: right;\n",
       "    }\n",
       "</style>\n",
       "<table border=\"1\" class=\"dataframe\">\n",
       "  <thead>\n",
       "    <tr style=\"text-align: right;\">\n",
       "      <th></th>\n",
       "      <th>f0</th>\n",
       "      <th>f1</th>\n",
       "      <th>f2</th>\n",
       "      <th>product</th>\n",
       "    </tr>\n",
       "  </thead>\n",
       "  <tbody>\n",
       "    <tr>\n",
       "      <th>f0</th>\n",
       "      <td>1.000000</td>\n",
       "      <td>0.182287</td>\n",
       "      <td>-0.001777</td>\n",
       "      <td>-0.030491</td>\n",
       "    </tr>\n",
       "    <tr>\n",
       "      <th>f1</th>\n",
       "      <td>0.182287</td>\n",
       "      <td>1.000000</td>\n",
       "      <td>-0.002595</td>\n",
       "      <td>-0.010155</td>\n",
       "    </tr>\n",
       "    <tr>\n",
       "      <th>f2</th>\n",
       "      <td>-0.001777</td>\n",
       "      <td>-0.002595</td>\n",
       "      <td>1.000000</td>\n",
       "      <td>0.999397</td>\n",
       "    </tr>\n",
       "    <tr>\n",
       "      <th>product</th>\n",
       "      <td>-0.030491</td>\n",
       "      <td>-0.010155</td>\n",
       "      <td>0.999397</td>\n",
       "      <td>1.000000</td>\n",
       "    </tr>\n",
       "  </tbody>\n",
       "</table>\n",
       "</div>"
      ],
      "text/plain": [
       "               f0        f1        f2   product\n",
       "f0       1.000000  0.182287 -0.001777 -0.030491\n",
       "f1       0.182287  1.000000 -0.002595 -0.010155\n",
       "f2      -0.001777 -0.002595  1.000000  0.999397\n",
       "product -0.030491 -0.010155  0.999397  1.000000"
      ]
     },
     "metadata": {},
     "output_type": "display_data"
    },
    {
     "name": "stdout",
     "output_type": "stream",
     "text": [
      "Для региона geo_data_2:\n"
     ]
    },
    {
     "data": {
      "text/html": [
       "<div>\n",
       "<style scoped>\n",
       "    .dataframe tbody tr th:only-of-type {\n",
       "        vertical-align: middle;\n",
       "    }\n",
       "\n",
       "    .dataframe tbody tr th {\n",
       "        vertical-align: top;\n",
       "    }\n",
       "\n",
       "    .dataframe thead th {\n",
       "        text-align: right;\n",
       "    }\n",
       "</style>\n",
       "<table border=\"1\" class=\"dataframe\">\n",
       "  <thead>\n",
       "    <tr style=\"text-align: right;\">\n",
       "      <th></th>\n",
       "      <th>f0</th>\n",
       "      <th>f1</th>\n",
       "      <th>f2</th>\n",
       "      <th>product</th>\n",
       "    </tr>\n",
       "  </thead>\n",
       "  <tbody>\n",
       "    <tr>\n",
       "      <th>f0</th>\n",
       "      <td>1.000000</td>\n",
       "      <td>0.000528</td>\n",
       "      <td>-0.000448</td>\n",
       "      <td>-0.001987</td>\n",
       "    </tr>\n",
       "    <tr>\n",
       "      <th>f1</th>\n",
       "      <td>0.000528</td>\n",
       "      <td>1.000000</td>\n",
       "      <td>0.000779</td>\n",
       "      <td>-0.001012</td>\n",
       "    </tr>\n",
       "    <tr>\n",
       "      <th>f2</th>\n",
       "      <td>-0.000448</td>\n",
       "      <td>0.000779</td>\n",
       "      <td>1.000000</td>\n",
       "      <td>0.445871</td>\n",
       "    </tr>\n",
       "    <tr>\n",
       "      <th>product</th>\n",
       "      <td>-0.001987</td>\n",
       "      <td>-0.001012</td>\n",
       "      <td>0.445871</td>\n",
       "      <td>1.000000</td>\n",
       "    </tr>\n",
       "  </tbody>\n",
       "</table>\n",
       "</div>"
      ],
      "text/plain": [
       "               f0        f1        f2   product\n",
       "f0       1.000000  0.000528 -0.000448 -0.001987\n",
       "f1       0.000528  1.000000  0.000779 -0.001012\n",
       "f2      -0.000448  0.000779  1.000000  0.445871\n",
       "product -0.001987 -0.001012  0.445871  1.000000"
      ]
     },
     "metadata": {},
     "output_type": "display_data"
    }
   ],
   "source": [
    "for region in range(len(all_data)):\n",
    "    print(f'Для региона geo_data_{region}:')\n",
    "    display(all_data[region].corr())"
   ]
  },
  {
   "cell_type": "markdown",
   "metadata": {},
   "source": [
    "Сильная линейная зависимость присутствует между данными признаков `f2` и `product` в датасете `data_1` (коэффициенты корреляции Пирсона = 0.999397), что подтверждает полученные ранее на гистограммах аномалии в данных признаков `f2` и `product` в датасете `data_1`, которые будут мешать процессу обучения. Это ухудшает качество предсказаний моделью линейной регрессии. Для остальных датасетов эта зависимость выражена слабее."
   ]
  },
  {
   "cell_type": "markdown",
   "metadata": {},
   "source": [
    "### Вывод\n",
    "<a name=\"35\"></a> <div style=\"text-align: left\">[Cодержание](#Содержание)</div>"
   ]
  },
  {
   "cell_type": "markdown",
   "metadata": {},
   "source": [
    "В разделе [**Подготовка данных**](#Подготовка-данных) были выполнены следующие задачи:\n",
    "1. исследованы данные трёх регионов `geo_data_0`, `geo_data_1` и `geo_data_2`;\n",
    "2. удалены лишние признаки в датасетах;\n",
    "3. изучено распределение переменных;\n",
    "4. проведён корреляционный анализ.\n",
    "\n",
    "В результате выполнения задач этого раздела было выявлено следующее:\n",
    "- Исходя из числового описания данных трёх датасетов видно, что средние и медианы не сильно отличаются между собой (кроме признака `product` в датасете `data_1`), но присутствует сильный разброс значений - стандартное отклонение ***std***: для данных из признаков `f0`, `f1` и `f2` стандартное отклонение даже превышает среднее значение.\n",
    "- Гистограммы показывают, что распределения переменных сильно отличаются друг от друга для разных регионов. Особенно сильно выделяются аномалии в данных признаков `f2` и `product` в датасете `data_1`, которые будут мешать процессу обучения.\n",
    "- Сильная линейная зависимость присутствует между данными признаков `f2` и `product` в датасете `data_1` (коэффициенты корреляции Пирсона = 0.999397), что подтверждает полученные ранее на гистограммах аномалии в данных признаков `f2` и `product` в датасете `data_1`, которые будут мешать процессу обучения. Это ухудшает качество предсказаний моделью линейной регрессии. Для остальных датасетов эта зависимость выражена слабее.\n",
    "\n",
    "**В проекте решается задача регрессии.**\n",
    "\n",
    "Таким образом, данные подготовлены для обучения моделей."
   ]
  },
  {
   "cell_type": "markdown",
   "metadata": {},
   "source": [
    "## Обучение и проверка модели\n",
    "<a name=\"4\"></a> <div style=\"text-align: left\">[Cодержание](#Содержание)</div>"
   ]
  },
  {
   "cell_type": "markdown",
   "metadata": {},
   "source": [
    "### `LinearRegression`\n",
    "<a name=\"41\"></a> <div style=\"text-align: left\">[Cодержание](#Содержание)</div>"
   ]
  },
  {
   "cell_type": "markdown",
   "metadata": {},
   "source": [
    "Обучим и проверим модель **линейной регрессии *Linear Regression*** для каждого из трёх регионов `geo_data_0`, `geo_data_1` и `geo_data_2`.\n",
    "\n",
    "Создадим цикл для списка `all_data` с данными по всем трём регионам. В данном цикле выполним следующие задачи:\n",
    "1. Разобьём данные на обучающую и валидационную выборки в соотношении 75:25.\n",
    "2. Обучим модель и сделаем предсказания на валидационной выборке.\n",
    "3. Сохраним предсказания и правильные ответы на валидационной выборке.\n",
    "4. Напечатаем на экране средний запас предсказанного сырья и *RMSE* модели."
   ]
  },
  {
   "cell_type": "code",
   "execution_count": 27,
   "metadata": {
    "scrolled": true
   },
   "outputs": [
    {
     "name": "stdout",
     "output_type": "stream",
     "text": [
      "Сумма правильных ответов по объёму сырья на валидационной выборке \n",
      "для трёх регионов geo_data_0, geo_data_1 и geo_data_2 (тыс. баррелей): \n"
     ]
    },
    {
     "data": {
      "text/plain": [
       "['2301965', '1719291', '2368724']"
      ]
     },
     "metadata": {},
     "output_type": "display_data"
    },
    {
     "name": "stdout",
     "output_type": "stream",
     "text": [
      "\n",
      "Средний запас предсказанного сырья на валидационной выборке \n",
      "для трёх регионов geo_data_0, geo_data_1 и geo_data_2 (тыс. баррелей): \n"
     ]
    },
    {
     "data": {
      "text/plain": [
       "['92.59', '68.77', '95.09']"
      ]
     },
     "metadata": {},
     "output_type": "display_data"
    },
    {
     "name": "stdout",
     "output_type": "stream",
     "text": [
      "\n",
      "RMSE модели линейной регрессии LinearRegression на валидационной выборке \n",
      "для трёх регионов geo_data_0, geo_data_1 и geo_data_2 (тыс. баррелей): \n"
     ]
    },
    {
     "data": {
      "text/plain": [
       "['37.58', '0.89', '39.96']"
      ]
     },
     "metadata": {},
     "output_type": "display_data"
    },
    {
     "name": "stdout",
     "output_type": "stream",
     "text": [
      "\n",
      "CPU times: user 249 ms, sys: 287 ms, total: 536 ms\n",
      "Wall time: 505 ms\n"
     ]
    }
   ],
   "source": [
    "%%time\n",
    "\n",
    "state = np.random.RandomState(RANDOM_STATE)\n",
    "\n",
    "# список правильных ответов по объёму сырья в скважине \n",
    "# на валидационной выборке (тыс. баррелей)\n",
    "samples_target = []\n",
    "\n",
    "# список предсказаний по объёму сырья в скважине \n",
    "# на валидационной выборке (тыс. баррелей)\n",
    "samples_predictions = [] \n",
    "\n",
    "# список суммы правильных ответов по объёму сырья, \n",
    "# на валидационной выборке (тыс. баррелей)\n",
    "samples_target_sum = []\n",
    "\n",
    "# список среднего запаса предсказанного сырья (тыс. баррелей)\n",
    "samples_mean_product = []\n",
    "\n",
    "# список RMSE модели (тыс. баррелей)\n",
    "samples_model_rmse = []\n",
    "\n",
    "# создадим цикл для списка all_data с данными по всем трём регионам,\n",
    "# здесь len(all_data) = 3 (количество регионов)\n",
    "for region in range(len(all_data)):\n",
    "    data = all_data[region]\n",
    "    # выделим из всех трёх датасетов по отдельности целевые признаки\n",
    "    # target (признак 'product') и оставшиеся признаки features\n",
    "    features = data.drop('product', axis=1)\n",
    "    target = data['product']\n",
    "    \n",
    "    # разобьём данные на обучающую и валидационную выборки \n",
    "    # в соотношении 75:25\n",
    "    features_train, features_valid, target_train, target_valid = \\\n",
    "    train_test_split(features, target, test_size=TEST_SIZE, random_state=state)\n",
    "    \n",
    "    # обучим модель и сделаем предсказания на валидационной выборке\n",
    "    model = LinearRegression()\n",
    "    model.fit(features_train, target_train)\n",
    "    predictions = model.predict(features_valid)\n",
    "    \n",
    "    # просуммируем правильные ответы по объёму сырья  \n",
    "    # на валидационной выборке (тыс. баррелей)\n",
    "    samples_target_sum.append(f'{target_valid.sum():.0f}')\n",
    "    \n",
    "    # сбросим индекс таргета на валидационной выборке\n",
    "    # и добавим в список правильных ответов    \n",
    "    samples_target.append(target_valid.reset_index(drop=True))\n",
    "    \n",
    "    # преобразуем исходный список с предсказаниями в проиндексированный\n",
    "    samples_predictions.append(pd.Series(predictions))\n",
    "    \n",
    "    # рассчитаем средний запас предсказанного сырья\n",
    "    mean_product = predictions.mean()\n",
    "    samples_mean_product.append(f'{mean_product:.2f}')\n",
    "    \n",
    "    # рассчитаем RMSE модели\n",
    "    model_rmse = mean_squared_error(target_valid, predictions)**0.5\n",
    "    samples_model_rmse.append(f'{model_rmse:.2f}')\n",
    "    \n",
    "    \n",
    "print('Сумма правильных ответов по объёму сырья на валидационной выборке ')\n",
    "print('для трёх регионов geo_data_0, geo_data_1 и geo_data_2 (тыс. баррелей): ')\n",
    "display(samples_target_sum)\n",
    "print('')\n",
    "print('Средний запас предсказанного сырья на валидационной выборке ')\n",
    "print('для трёх регионов geo_data_0, geo_data_1 и geo_data_2 (тыс. баррелей): ')\n",
    "display(samples_mean_product)\n",
    "print('')\n",
    "print('RMSE модели линейной регрессии LinearRegression на валидационной выборке ')\n",
    "print('для трёх регионов geo_data_0, geo_data_1 и geo_data_2 (тыс. баррелей): ')\n",
    "display(samples_model_rmse)\n",
    "print('')"
   ]
  },
  {
   "cell_type": "markdown",
   "metadata": {},
   "source": [
    "### Вывод\n",
    "<a name=\"42\"></a> <div style=\"text-align: left\">[Cодержание](#Содержание)</div>"
   ]
  },
  {
   "cell_type": "markdown",
   "metadata": {},
   "source": [
    "В разделе [**Обучение и проверка модели**](#Обучение-и-проверка-модели) был написан цикл с применением модели линейной регрессии `LinearRegression` для каждого из трёх регионов `geo_data_0`, `geo_data_1` и `geo_data_2`.\n",
    "\n",
    "\n",
    "В результате выполнения задач этого раздела были получены следующие результаты на валидационной выборке для трёх регионов `geo_data_0`, `geo_data_1` и `geo_data_2`:\n",
    "\n",
    "1. Получены суммы правильных ответов по объёму сырья (тыс. баррелей):\n",
    "\n",
    "    - `target_valid.sum()` = *2301965* для данных региона `geo_data_0`;\n",
    "    - `target_valid.sum()` = *1719291* для данных региона `geo_data_1`;\n",
    "    - `target_valid.sum()` = *2368724* для данных региона `geo_data_2`.\n",
    "\n",
    "\n",
    "2. Получены значения среднего запаса предсказанного сырья `mean_product` (тыс. баррелей): \n",
    "\n",
    "    - `mean_product` = *92.59* для данных региона `geo_data_0`;\n",
    "    - `mean_product` = *68.77* для данных региона `geo_data_1`;\n",
    "    - `mean_product` = *95.09* для данных региона `geo_data_2`.\n",
    "\n",
    "\n",
    "3. Получены значения *RMSE* модели линейной регрессии `LinearRegression` (тыс. баррелей):\n",
    "\n",
    "    - *RMSE = 37.6* для данных региона `geo_data_0`;\n",
    "    - *RMSE = 0.89* для данных региона `geo_data_1`;\n",
    "    - *RMSE = 39.96* для данных региона `geo_data_2`.\n",
    "    \n",
    "    \n",
    "4. Значения *RMSE* для регионов `geo_data_0` и `geo_data_2` велики относительно среднего запаса предсказанного сырья. Это говорит о сильном разбросе значений в таргетах этих датасетов."
   ]
  },
  {
   "cell_type": "markdown",
   "metadata": {},
   "source": [
    "## Подготовка к расчёту прибыли\n",
    "<a name=\"5\"></a> <div style=\"text-align: left\">[Cодержание](#Содержание)</div>"
   ]
  },
  {
   "cell_type": "markdown",
   "metadata": {},
   "source": [
    "### Расчёт безубыточности\n",
    "<a name=\"51\"></a> <div style=\"text-align: left\">[Cодержание](#Содержание)</div>"
   ]
  },
  {
   "cell_type": "markdown",
   "metadata": {},
   "source": [
    "Давайте рассчитаем достаточный объём сырья для безубыточной разработки новой скважины. Сравним полученный объём сырья со средним запасом в каждом регионе."
   ]
  },
  {
   "cell_type": "markdown",
   "metadata": {},
   "source": [
    "Напоминаем **условия задачи**:\n",
    "\n",
    "- При разведке региона нужно исследовать 500 точек, из которых с помощью машинного обучения нужно выбрать 200 лучших для разработки.\n",
    "- Бюджет на разработку скважин в регионе — 10 млрд рублей.\n",
    "- При нынешних ценах один баррель сырья приносит 450 рублей дохода. Доход с каждой единицы продукта составляет 450 тыс. рублей, поскольку объём указан в тысячах баррелей.\n",
    "- После оценки рисков нужно оставить лишь те регионы, в которых вероятность убытков меньше 2.5%. Среди них нужно выбрать регион с наибольшей средней прибылью.\n",
    "\n",
    "\n",
    "Также напоминаем **целевой признак:**\n",
    "- `product` — объём запасов в скважине (тыс. баррелей)"
   ]
  },
  {
   "cell_type": "markdown",
   "metadata": {},
   "source": [
    "Поясним значения переменных:\n",
    "- `COST = 10_000_000` - бюджет (расходы) на разработку заданного количества лучших скважин в каждом регионе (тыс. рублей);\n",
    "- `COUNT = 200` - количество лучших скважин, которые нужно выбрать для разработки в каждом регионе с помощью машинного обучения;\n",
    "- `REVENUE_PER_UNIT = 450` - доход с каждой единицы продукта (рублей за 1 баррель);\n",
    "- `SAMPLE_SIZE = 500` - количество скважин, которое нужно исследовать при разведке каждого региона.\n",
    "\n",
    "\n",
    "*COST / COUNT* - бюджет, заложенный на одну скважину (тыс. рублей)."
   ]
  },
  {
   "cell_type": "markdown",
   "metadata": {},
   "source": [
    "Рассчитаем достаточный объём сырья для одной скважины, при котором доходы равны расходам (тыс. баррелей)."
   ]
  },
  {
   "cell_type": "code",
   "execution_count": 28,
   "metadata": {},
   "outputs": [
    {
     "data": {
      "text/plain": [
       "'111.11'"
      ]
     },
     "execution_count": 28,
     "metadata": {},
     "output_type": "execute_result"
    }
   ],
   "source": [
    "product_balance = (f'{COST / (COUNT * REVENUE_PER_UNIT):.2f}')\n",
    "product_balance"
   ]
  },
  {
   "cell_type": "markdown",
   "metadata": {},
   "source": [
    "Сравним полученный объём сырья со средним запасом в каждом регионе (тыс. баррелей)."
   ]
  },
  {
   "cell_type": "code",
   "execution_count": 29,
   "metadata": {},
   "outputs": [
    {
     "data": {
      "text/plain": [
       "['92.59', '68.77', '95.09']"
      ]
     },
     "metadata": {},
     "output_type": "display_data"
    }
   ],
   "source": [
    "display(samples_mean_product)"
   ]
  },
  {
   "cell_type": "markdown",
   "metadata": {},
   "source": [
    "### Вывод\n",
    "<a name=\"52\"></a> <div style=\"text-align: left\">[Cодержание](#Содержание)</div>"
   ]
  },
  {
   "cell_type": "markdown",
   "metadata": {},
   "source": [
    "В разделе [**Подготовка к расчёту прибыли**](#Подготовка-к-расчёту-прибыли) были выполнены следующие задачи:\n",
    "1. Рассчитан достаточный объём сырья для безубыточной разработки новой скважины. \n",
    "2. Выполнено сравнение полученного объёма сырья со средним запасом в каждом регионе.\n",
    "\n",
    "\n",
    "В результате выполнения задач этого раздела было выявлено следующее:\n",
    "- Во всех регионах средний запас предсказанного сырья (тыс. баррелей)\n",
    "    - `mean_product` = *92.59* для данных региона `geo_data_0`,\n",
    "    - `mean_product` = *68.77* для данных региона `geo_data_1`,\n",
    "    - `mean_product` = *95.09* для данных региона `geo_data_2`\n",
    "    \n",
    "  ниже объёма сырья для безубыточной разработки новой скважины (тыс. баррелей)\n",
    "    - `product_balance` = *111.11*.\n",
    "    \n",
    "  Т.е. концентрация продукта слишком низкая, чтобы выбирать точки случайно. Поэтому заданные 200 лучших скважин необходимо выбрать с помощью машинного обучения."
   ]
  },
  {
   "cell_type": "markdown",
   "metadata": {},
   "source": [
    "## Расчёт прибыли и рисков\n",
    "<a name=\"6\"></a> <div style=\"text-align: left\">[Cодержание](#Содержание)</div>"
   ]
  },
  {
   "cell_type": "markdown",
   "metadata": {},
   "source": [
    "### Функция для расчёта прибыли\n",
    "<a name=\"61\"></a> <div style=\"text-align: left\">[Cодержание](#Содержание)</div>"
   ]
  },
  {
   "cell_type": "markdown",
   "metadata": {},
   "source": [
    "Создадим функцию для расчёта прибыли по выбранным скважинам и предсказаниям модели.\n",
    "\n",
    "Напишем функцию `profit()`, которая производит подсчёт и возвращает прибыль `revenue - COST`, где `revenue` - это выручка от полученного объёма сырья. \n",
    "\n",
    "Функция `profit()` получает на вход:\n",
    "- список правильных ответов `target` - объём запасов в скважине `product` (тыс. баррелей);\n",
    "- список предсказаний `predictions` - с помощью сортировки модель выводит максимальные значения предсказаний (тыс. баррелей);\n",
    "- `COUNT` - количество лучших скважин, которые нужно выбрать для разработки в каждом регионе с помощью машинного обучения.\n",
    "\n",
    "Функция должна выбрать 200 скважин с наибольшим объёмом запасов и на основе ответов подсчитать прибыль `revenue - COST`.\n",
    "\n",
    "В функции `profit()` выполним следующие задачи:\n",
    "1. Выберем скважины с максимальными значениями предсказаний.\n",
    "2. Просуммируем целевое значение объёма сырья, соответствующее этим предсказаниям.\n",
    "3. Рассчитаем прибыль для полученного объёма сырья."
   ]
  },
  {
   "cell_type": "code",
   "execution_count": 30,
   "metadata": {},
   "outputs": [],
   "source": [
    "def profit(target, predictions, COUNT):\n",
    "    # выбираем скважины с максимальными значениями предсказаний\n",
    "    predictions_sorted = predictions.sort_values(ascending=False)\n",
    "    selected_points = target[predictions_sorted.index][:COUNT]\n",
    "    \n",
    "    # просуммируем целевое значение объёма сырья, \n",
    "    # соответствующее этим предсказаниям\n",
    "    product = selected_points.sum()\n",
    "    \n",
    "    # рассчитаем выручку от полученного объёма сырья\n",
    "    revenue = product * REVENUE_PER_UNIT\n",
    "    \n",
    "    # рассчитаем прибыль для полученного объёма сырья\n",
    "    return revenue - COST"
   ]
  },
  {
   "cell_type": "markdown",
   "metadata": {},
   "source": [
    "### Расчёт прибыли и рисков для каждого региона\n",
    "<a name=\"62\"></a> <div style=\"text-align: left\">[Cодержание](#Содержание)</div>"
   ]
  },
  {
   "cell_type": "markdown",
   "metadata": {},
   "source": [
    "Создадим цикл, в котором выполним следующие задачи:\n",
    "1. Применим технику *Bootstrap* с 1000 выборок (`BOOTSTRAP_SIZE = 1000`), чтобы найти распределение прибыли.\n",
    "2. Найдём среднюю прибыль, 95%-й доверительный интервал и риск убытков для каждого региона. Убыток — это отрицательная прибыль."
   ]
  },
  {
   "cell_type": "code",
   "execution_count": 31,
   "metadata": {
    "scrolled": false
   },
   "outputs": [
    {
     "data": {
      "image/png": "[encoded data removed]",
      "text/plain": [
       "<Figure size 1008x360 with 1 Axes>"
      ]
     },
     "metadata": {
      "needs_background": "light"
     },
     "output_type": "display_data"
    },
    {
     "data": {
      "image/png": "[encoded data removed]",
      "text/plain": [
       "<Figure size 1008x360 with 1 Axes>"
      ]
     },
     "metadata": {
      "needs_background": "light"
     },
     "output_type": "display_data"
    },
    {
     "data": {
      "image/png": "[encoded data removed]",
      "text/plain": [
       "<Figure size 1008x360 with 1 Axes>"
      ]
     },
     "metadata": {
      "needs_background": "light"
     },
     "output_type": "display_data"
    },
    {
     "name": "stdout",
     "output_type": "stream",
     "text": [
      "\u001b[1mСредняя прибыль, 95%-й доверительный интервал и риск убытков от 200 лучших скважин:\u001b[0m\n"
     ]
    },
    {
     "data": {
      "text/html": [
       "<div>\n",
       "<style scoped>\n",
       "    .dataframe tbody tr th:only-of-type {\n",
       "        vertical-align: middle;\n",
       "    }\n",
       "\n",
       "    .dataframe tbody tr th {\n",
       "        vertical-align: top;\n",
       "    }\n",
       "\n",
       "    .dataframe thead th {\n",
       "        text-align: right;\n",
       "    }\n",
       "</style>\n",
       "<table border=\"1\" class=\"dataframe\">\n",
       "  <thead>\n",
       "    <tr style=\"text-align: right;\">\n",
       "      <th></th>\n",
       "      <th>Регион</th>\n",
       "      <th>Средняя прибыль от 200 лучших скважин (млн рублей)</th>\n",
       "      <th>95%-й доверительный интервал от 200 лучших скважин (млн рублей)</th>\n",
       "      <th>Риск убытков от 200 лучших скважин (%)</th>\n",
       "    </tr>\n",
       "  </thead>\n",
       "  <tbody>\n",
       "    <tr>\n",
       "      <th>0</th>\n",
       "      <td>geo_data_0:</td>\n",
       "      <td>396</td>\n",
       "      <td>(-111, 910)</td>\n",
       "      <td>6.9</td>\n",
       "    </tr>\n",
       "    <tr>\n",
       "      <th>1</th>\n",
       "      <td>geo_data_1:</td>\n",
       "      <td>443</td>\n",
       "      <td>(56, 831)</td>\n",
       "      <td>1.6</td>\n",
       "    </tr>\n",
       "    <tr>\n",
       "      <th>2</th>\n",
       "      <td>geo_data_2:</td>\n",
       "      <td>345</td>\n",
       "      <td>(-198, 836)</td>\n",
       "      <td>10.8</td>\n",
       "    </tr>\n",
       "  </tbody>\n",
       "</table>\n",
       "</div>"
      ],
      "text/plain": [
       "        Регион Средняя прибыль от 200 лучших скважин (млн рублей)  \\\n",
       "0  geo_data_0:                                                396   \n",
       "1  geo_data_1:                                                443   \n",
       "2  geo_data_2:                                                345   \n",
       "\n",
       "  95%-й доверительный интервал от 200 лучших скважин (млн рублей)  \\\n",
       "0                                        (-111, 910)                \n",
       "1                                          (56, 831)                \n",
       "2                                        (-198, 836)                \n",
       "\n",
       "   Риск убытков от 200 лучших скважин (%)  \n",
       "0                                     6.9  \n",
       "1                                     1.6  \n",
       "2                                    10.8  "
      ]
     },
     "metadata": {},
     "output_type": "display_data"
    }
   ],
   "source": [
    "# создадим пустой датафрейм table, \n",
    "# чтобы потом добавлять в него в цикле по одной строке row\n",
    "table = pd.DataFrame(columns=['Регион',\n",
    "             'Средняя прибыль от 200 лучших скважин (млн рублей)', \n",
    "             '95%-й доверительный интервал от 200 лучших скважин (млн рублей)', \n",
    "             'Риск убытков от 200 лучших скважин (%)'])\n",
    "\n",
    "\n",
    "state = np.random.RandomState(RANDOM_STATE)\n",
    "\n",
    "# создадим цикл, в котором мы найдём среднюю прибыль, \n",
    "# 95%-й доверительный интервал и риск убытков для каждого региона\n",
    "for region in range(len(all_data)):\n",
    "    # выбираем элемент region по порядку из списка правильных ответов \n",
    "    # на валидационной выборке\n",
    "    target = samples_target[region]\n",
    "    # выбираем элемент region из списка предсказаний \n",
    "    # на валидационной выборке\n",
    "    predictions = samples_predictions[region]\n",
    "    \n",
    "    # список с прибылью от 200 лучших скважин для разработки \n",
    "    # в каждом регионе (тыс. рублей)\n",
    "    profit_values = []\n",
    "    \n",
    "    # применим технику Bootstrap с 1000 выборок, \n",
    "    # чтобы найти распределение прибыли\n",
    "    for i in range(BOOTSTRAP_SIZE):\n",
    "        # выбираем 500 скважин из таргета\n",
    "        target_sample = target.sample(\n",
    "            SAMPLE_SIZE, replace=True, random_state=state)\n",
    "        # выбираем соответствующие этим 500 скважинам предсказания\n",
    "        predictions_sample = predictions[target_sample.index]\n",
    "        # сбросим индекс для таргета\n",
    "        target_sample = target_sample.reset_index(drop = True)\n",
    "        # сбросим индекс для предсказаний\n",
    "        predictions_sample = predictions_sample.reset_index(drop = True)\n",
    "        # список с прибылью от 200 лучших скважин (тыс. рублей)\n",
    "        profit_values.append(profit(\n",
    "            target_sample, predictions_sample, COUNT))\n",
    "\n",
    "    # преобразуем список с прибылью от 200 лучших скважин \n",
    "    # в объект Series (тыс. рублей)    \n",
    "    profit_values = pd.Series(profit_values)\n",
    "    \n",
    "    # средняя прибыль от 200 лучших скважин \n",
    "    # для каждого региона (млн рублей)\n",
    "    mean_profit = round(profit_values.mean()/1000)\n",
    "\n",
    "    # 95%-й доверительный интервал от 200 лучших скважин \n",
    "    # для каждого региона (млн рублей)\n",
    "    confidence_interval = (f'{profit_values.quantile(0.025)/1000:.0f}', \n",
    "                           f'{profit_values.quantile(0.975)/1000:.0f}') \n",
    "\n",
    "    # риск убытков от 200 лучших скважин для каждого региона (%)\n",
    "    negative_profit_chance = (profit_values < 0).mean()*100\n",
    "\n",
    "    # выведем все искомые параметры в виде таблицы table:\n",
    "    row = [f'geo_data_{region}:', mean_profit, \n",
    "           confidence_interval, negative_profit_chance]\n",
    "    table.loc[len(table)] = row\n",
    "   \n",
    "    # построим гистограммы распределения прибыли для трёх регионов\n",
    "    (profit_values/1000).hist(figsize=(14, 5), bins=50, alpha=0.7, \n",
    "                       range = (-0.6*10**3, 1.5*10**3), color='deepskyblue', ec='red')\n",
    "    plt.grid(True)\n",
    "    plt.axvline(profit_values.quantile(0.025)/1000, color='firebrick')\n",
    "    plt.axvline(profit_values.quantile(0.975)/1000, color='orangered')\n",
    "    plt.legend(['Нижняя граница 95%-го доверительного интервала', \n",
    "                'Верхняя граница 95%-го доверительного интервала', \n",
    "                f'Распределение прибыли для региона geo_data_{region}'])\n",
    "    plt.xlabel('Прибыль, млн рублей')\n",
    "    plt.ylabel('Количество скважин из 200')\n",
    "    plt.title(f'Распределение прибыли для региона geo_data_{region}')\n",
    "    plt.show()\n",
    "\n",
    "    \n",
    "print('\\033[1m' + 'Средняя прибыль, 95%-й доверительный интервал \\\n",
    "и риск убытков от 200 лучших скважин:' + '\\033[0m')\n",
    "display(table)"
   ]
  },
  {
   "cell_type": "markdown",
   "metadata": {},
   "source": [
    "### Вывод\n",
    "<a name=\"63\"></a> <div style=\"text-align: left\">[Cодержание](#Содержание)</div>"
   ]
  },
  {
   "cell_type": "markdown",
   "metadata": {},
   "source": [
    "В разделе [**Расчёт прибыли и рисков**](#Расчёт-прибыли-и-рисков) были выполнены следующие задачи:\n",
    "1. написана функция для расчёта прибыли по выбранным скважинам и предсказаниям модели;\n",
    "2. подсчитана прибыль и риски для каждого региона.\n",
    "\n",
    "В результате выполнения задач этого раздела было выявлено следующее:\n",
    "- Риск убытков от 200 лучших скважин составляет:\n",
    "    - 6.9% - для региона `geo_data_0`,\n",
    "    - 1.6% - для региона `geo_data_1`,\n",
    "    - 10.8% - для региона `geo_data_2`. \n",
    "\n",
    "Таким образом, только в регионе `geo_data_1` вероятность убытков меньше 2.5%, что является условием задачи. А значит, для разработки скважин можно предложить регион `geo_data_1`. Средняя прибыль в этом регионе состаляет 443 млн рублей, а также 95%-й доверительный интервал не содержит отрицательных значений (убыточных скважин)."
   ]
  },
  {
   "cell_type": "markdown",
   "metadata": {},
   "source": [
    "## Общий вывод\n",
    "<a name=\"7\"></a> <div style=\"text-align: left\">[Cодержание](#Содержание)</div>"
   ]
  },
  {
   "cell_type": "markdown",
   "metadata": {},
   "source": [
    "Мы провели исследование с целью построения модели машинного обучения, которая поможет определить регион, где добыча нефти принесёт наибольшую прибыль.\n",
    "\n",
    "Входными данными были данные геологоразведки в трёх регионах. Характеристики для каждой скважины в регионе уже известны.\n",
    "\n",
    "В разделе [**подготовки данных**](#Подготовка-данных) нами были исследованы данные трёх регионов - `geo_data_0`, `geo_data_1` и `geo_data_2`, удалены лишние признаки в датасетах, изучено распределение переменных и проведён корреляционный анализ. Таким образом, данные подготовлены для обучения моделей. Было определено, что в проекте решается задача регрессии. \n",
    "\n",
    "В разделе [**обучения и проверки модели**](#Обучение-и-проверка-модели) мы создали цикл с применением модели линейной регрессии `LinearRegression` для каждого из трёх регионов `geo_data_0`, `geo_data_1` и `geo_data_2`. В результате выполнения задач этого раздела были получены суммы правильных ответов по объёму сырья, значения среднего запаса предсказанного сырья, значения *RMSE* модели линейной регрессии.\n",
    "\n",
    "В разделе [**подготовки к расчёту прибыли**](#Подготовка-к-расчёту-прибыли) нами был рассчитан достаточный объём сырья для безубыточной разработки новой скважины, а также выполнено сравнение полученного объёма сырья со средним запасом в каждом регионе. Было выявлено, что выбирать точки разработки случайно не имеет смысла. Поэтому заданные 200 лучших скважин необходимо выбрать с помощью машинного обучения.\n",
    "\n",
    "В разделе [**расчёта прибыли и рисков**](#Расчёт-прибыли-и-рисков) была создана функция для расчёта прибыли по выбранным скважинам и предсказаниям модели, подсчитаны прибыль и риски для каждого региона. Было выявлено, что регион `geo_data_1` имеет наименьший риск убытков в 1.6%, что удовлетворяет условием задачи (<2.5%), имеет наибольшую среднюю прибыль в 443 млн рублей, а также 95%-й доверительный интервал не содержит отрицательных значений (убыточных скважин).\n",
    "\n",
    "\n",
    "В ходе нашего исследования удалось получить следующие результаты **на валидационной выборке**:\n",
    "\n",
    "1. Средняя прибыль от 200 лучших скважин (млн рублей):\n",
    "    - `mean_profit` = 396 - для региона `geo_data_0`;\n",
    "    - `mean_profit` = 443 - для региона `geo_data_1`;\n",
    "    - `mean_profit` = 345 - для региона `geo_data_2`.\n",
    "\n",
    "\n",
    "2. 95%-й доверительный интервал от 200 лучших скважин (млн рублей):\n",
    "    - `confidence_interval` = (-111, 910) - для региона `geo_data_0`;\n",
    "    - `confidence_interval` = (56, 831) - для региона `geo_data_1`;\n",
    "    - `confidence_interval` = (-198, 836) - для региона `geo_data_2`.\n",
    "    \n",
    "\n",
    "3. Риск убытков от 200 лучших скважин (%):\n",
    "    - `negative_profit_chance` = 6.9% - для региона `geo_data_0`;\n",
    "    - `negative_profit_chance` = 1.6% - для региона `geo_data_1`;\n",
    "    - `negative_profit_chance` = 10.8% - для региона `geo_data_2`.\n",
    "\n",
    "\n",
    "<b>Общая рекомендация:</b>\n",
    "\n",
    "Специалистам, которые занимаются исследованием с целью увеличения прибыли добывающей компании «ГлавРосГосНефть», можно рекомендовать регион `geo_data_1` для разработки скважин. Этот регион также позволяет получить наибольшую среднюю прибыль - 443 млн рублей. \n",
    "\n",
    "Результаты исследования позволят увеличить прибыль добывающей компании «ГлавРосГосНефть».\n",
    "\n",
    " ______________________ ______________________ ______________________\n",
    " \n",
    "На этом мы заканчиваем - благодарим вас за внимание, надеемся, что наше исследование вам понравилось и поможет сделать правильные выводы, принять правильные решения."
   ]
  }
 ],
 "metadata": {
  "ExecuteTimeLog": [
   {
    "duration": 2054,
    "start_time": "2023-05-27T00:06:23.227Z"
   },
   {
    "duration": 376,
    "start_time": "2023-05-27T00:06:25.283Z"
   },
   {
    "duration": 5,
    "start_time": "2023-05-27T00:06:25.661Z"
   },
   {
    "duration": 16,
    "start_time": "2023-05-27T00:06:25.667Z"
   },
   {
    "duration": 45,
    "start_time": "2023-05-27T00:06:25.685Z"
   },
   {
    "duration": 15,
    "start_time": "2023-05-27T00:06:25.732Z"
   },
   {
    "duration": 184,
    "start_time": "2023-05-27T00:06:25.748Z"
   },
   {
    "duration": 3,
    "start_time": "2023-05-27T00:06:25.934Z"
   },
   {
    "duration": 21,
    "start_time": "2023-05-27T00:06:25.938Z"
   },
   {
    "duration": 58,
    "start_time": "2023-05-27T00:06:25.961Z"
   },
   {
    "duration": 15,
    "start_time": "2023-05-27T00:06:26.020Z"
   },
   {
    "duration": 242,
    "start_time": "2023-05-27T00:06:26.037Z"
   },
   {
    "duration": 4,
    "start_time": "2023-05-27T00:06:26.281Z"
   },
   {
    "duration": 10,
    "start_time": "2023-05-27T00:06:26.287Z"
   },
   {
    "duration": 47,
    "start_time": "2023-05-27T00:06:26.299Z"
   },
   {
    "duration": 12,
    "start_time": "2023-05-27T00:06:26.347Z"
   },
   {
    "duration": 6,
    "start_time": "2023-05-27T00:06:26.361Z"
   },
   {
    "duration": 13,
    "start_time": "2023-05-27T00:06:26.368Z"
   },
   {
    "duration": 17,
    "start_time": "2023-05-27T00:06:26.383Z"
   },
   {
    "duration": 49,
    "start_time": "2023-05-27T00:06:26.401Z"
   },
   {
    "duration": 671,
    "start_time": "2023-05-27T00:06:26.452Z"
   },
   {
    "duration": 39,
    "start_time": "2023-05-27T00:06:27.125Z"
   },
   {
    "duration": 741,
    "start_time": "2023-05-27T00:06:27.166Z"
   },
   {
    "duration": 46,
    "start_time": "2023-05-27T00:06:27.908Z"
   },
   {
    "duration": 722,
    "start_time": "2023-05-27T00:06:27.956Z"
   },
   {
    "duration": 38,
    "start_time": "2023-05-27T00:06:28.680Z"
   },
   {
    "duration": 537,
    "start_time": "2023-05-27T00:06:28.720Z"
   },
   {
    "duration": 4,
    "start_time": "2023-05-27T00:06:29.342Z"
   },
   {
    "duration": 18,
    "start_time": "2023-05-27T00:06:29.347Z"
   },
   {
    "duration": 6,
    "start_time": "2023-05-27T00:06:29.366Z"
   },
   {
    "duration": 4667,
    "start_time": "2023-05-27T00:06:29.373Z"
   }
  ],
  "kernelspec": {
   "display_name": "Python 3 (ipykernel)",
   "language": "python",
   "name": "python3"
  },
  "language_info": {
   "codemirror_mode": {
    "name": "ipython",
    "version": 3
   },
   "file_extension": ".py",
   "mimetype": "text/x-python",
   "name": "python",
   "nbconvert_exporter": "python",
   "pygments_lexer": "ipython3",
   "version": "3.9.13"
  },
  "toc": {
   "base_numbering": 1,
   "nav_menu": {},
   "number_sections": true,
   "sideBar": true,
   "skip_h1_title": true,
   "title_cell": "Table of Contents",
   "title_sidebar": "Contents",
   "toc_cell": false,
   "toc_position": {},
   "toc_section_display": true,
   "toc_window_display": false
  }
 },
 "nbformat": 4,
 "nbformat_minor": 2
}
