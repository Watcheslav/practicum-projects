{
 "cells": [
  {
   "cell_type": "markdown",
   "metadata": {
    "id": "H4zkoI9l9POl"
   },
   "source": [
    "# Поиск токсичных комментариев"
   ]
  },
  {
   "cell_type": "markdown",
   "metadata": {
    "id": "24TSb5oe9POm"
   },
   "source": [
    "<a name=\"1\"></a>\n",
    "## Содержание"
   ]
  },
  {
   "cell_type": "markdown",
   "metadata": {
    "id": "3XeCCM-N9POn"
   },
   "source": [
    "[1. Содержание](#1)\n",
    "\n",
    "[2. Описание проекта](#2)\n",
    "\n",
    "*    [2.1. Цель проекта](#21)\n",
    "*    [2.2. Задачи проекта](#22)\n",
    "*    [2.3. Описание данных](#23)\n",
    "*    [2.4. План работы](#24)\n",
    "\n",
    "[3. Подготовка данных](#3)\n",
    "\n",
    "*    [3.1. Изучение данных](#31)\n",
    "*    [3.2. Сэмплирование данных](#32)\n",
    "*    [3.3. Разделение сэмпла на выборки](#33)\n",
    "*    [3.4. Получение эмбеддингов (с *BERT*)](#34)\n",
    "*    [3.5. Вывод](#35)\n",
    "\n",
    "[4. Обучение и тестирование моделей](#4)\n",
    "\n",
    "*    [4.1. Функция для обучения моделей](#41)\n",
    "*    [4.2. `LogisticRegression`](#42)\n",
    "*    [4.3. `RandomForestClassifier`](#43)\n",
    "*    [4.4. `LGBMClassifier`](#44)\n",
    "*    [4.5. `CatBoostClassifier`](#45)\n",
    "*    [4.6. Сравнение моделей](#46)\n",
    "*    [4.7. Тестирование лучшей модели](#47)\n",
    "*    [4.8. Вывод](#48)\n",
    "\n",
    "[5. Общий вывод](#5)"
   ]
  },
  {
   "cell_type": "markdown",
   "metadata": {
    "id": "Pp4UoYjf9POp"
   },
   "source": [
    "## Описание проекта\n",
    "<a name=\"2\"></a> <div style=\"text-align: left\">[Cодержание](#Содержание)</div>"
   ]
  },
  {
   "cell_type": "markdown",
   "metadata": {
    "id": "N_DCjGTt9POp"
   },
   "source": [
    "Интернет-магазин запускает новый сервис. Теперь пользователи могут редактировать и дополнять описания товаров, как в вики-сообществах. То есть клиенты предлагают свои правки и комментируют изменения других. Магазину нужен инструмент, который будет искать токсичные комментарии и отправлять их на модерацию.\n",
    "\n",
    "Обучим модель классифицировать комментарии на позитивные и негативные. В нашем распоряжении набор данных с разметкой о токсичности правок.\n",
    "\n",
    "Построим модель со значением метрики качества *F1* не меньше 0.75."
   ]
  },
  {
   "cell_type": "markdown",
   "metadata": {
    "id": "F6S6SyhR9POq"
   },
   "source": [
    "### Цель проекта\n",
    "<a name=\"21\"></a> <div style=\"text-align: left\">[Cодержание](#Содержание)</div>"
   ]
  },
  {
   "cell_type": "markdown",
   "metadata": {
    "id": "4OvS7eAV9POr"
   },
   "source": [
    "Проведение исследования с целью построения модели машинного обучения, которая поможет классифицировать комментарии на позитивные и негативные.\n",
    "\n",
    "Результаты исследования позволят магазину искать токсичные комментарии и отправлять их на модерацию."
   ]
  },
  {
   "cell_type": "markdown",
   "metadata": {
    "id": "bnUHd9Ig9POs"
   },
   "source": [
    "### Задачи проекта\n",
    "<a name=\"22\"></a> <div style=\"text-align: left\">[Cодержание](#Содержание)</div>"
   ]
  },
  {
   "cell_type": "markdown",
   "metadata": {
    "id": "pvLyjovg9POt"
   },
   "source": [
    "1. Загрузить и изучить данные.\n",
    "2. Сэмплировать данные.\n",
    "3. Разделить сэмплы на выборки.\n",
    "4. Получить эмбеддинги.\n",
    "5. Построить и обучить модели.\n",
    "6. Протестировать лучшую модель.\n",
    "7. Написать общий вывод.\n",
    "\n",
    "Решим поставленную в проекте задачу, применяя **нейронную сеть *BERT***.\n",
    "\n",
    "Построим модель со значением метрики качества *F1* не меньше 0.75."
   ]
  },
  {
   "cell_type": "markdown",
   "metadata": {
    "id": "e0SEKpL_9POu"
   },
   "source": [
    "### Описание данных\n",
    "<a name=\"23\"></a> <div style=\"text-align: left\">[Cодержание](#Содержание)</div>"
   ]
  },
  {
   "cell_type": "markdown",
   "metadata": {
    "id": "wJmtEdYo9POu"
   },
   "source": [
    "В нашем распоряжении набор данных с разметкой о токсичности правок.\n",
    "\n",
    "Данные находятся в файле `/datasets/toxic_comments.csv`.\n",
    "\n",
    "Столбец `text` в нём содержит текст комментария, а `toxic` - целевой признак."
   ]
  },
  {
   "cell_type": "markdown",
   "metadata": {
    "id": "7eYpEypQ9POv"
   },
   "source": [
    "### План работы\n",
    "<a name=\"24\"></a> <div style=\"text-align: left\">[Cодержание](#Содержание)</div>"
   ]
  },
  {
   "cell_type": "markdown",
   "metadata": {
    "id": "GaPnDfd59POw"
   },
   "source": [
    "1. Загрузим и изучим данные.\n",
    "2. Сэмплируем данные: возьмём из датасета выборку из 1000 случайных элементов.\n",
    "3. Разделим сэмплированную выборку на обучающую и тестовую выборки в соотношении 4:1.\n",
    "4. Переведём текст комментариев в векторные представления (эмбеддинги) на базе нейронной сети *BERT*. Используем библиотеки  `torch` и `transformers`.\n",
    "7. Обучим 4 модели: `LogisticRegression`, `RandomForestClassifier`, `LGBMClassifier` и `CatBoostClassifier` с различными гиперпараметрами.\n",
    "8. Сравненим модели.\n",
    "9. Протестируем лучшую модель и напишем вывод."
   ]
  },
  {
   "cell_type": "markdown",
   "metadata": {
    "id": "OzoLgCBb9POx"
   },
   "source": [
    "## Подготовка данных\n",
    "<a name=\"3\"></a> <div style=\"text-align: left\">[Cодержание](#Содержание)</div>"
   ]
  },
  {
   "cell_type": "code",
   "execution_count": 3,
   "metadata": {
    "id": "_q4SDdXW9POy"
   },
   "outputs": [],
   "source": [
    "import numpy as np\n",
    "import pandas as pd\n",
    "import torch\n",
    "import transformers\n",
    "import os\n",
    "import warnings\n",
    "warnings.simplefilter(action='ignore', category=UserWarning)\n",
    "\n",
    "from catboost import CatBoostClassifier\n",
    "from lightgbm import LGBMClassifier\n",
    "from sklearn.ensemble import RandomForestClassifier\n",
    "from sklearn.linear_model import LogisticRegression\n",
    "from sklearn.metrics import f1_score\n",
    "from sklearn.model_selection import cross_val_score, \\\n",
    "GridSearchCV, KFold, train_test_split\n",
    "from sklearn.utils.class_weight import compute_class_weight\n",
    "from tqdm import notebook\n",
    "\n",
    "RANDOM_STATE = 12345\n",
    "TEST_SIZE = 0.2"
   ]
  },
  {
   "cell_type": "markdown",
   "metadata": {
    "id": "IWezr2LY9PO0"
   },
   "source": [
    "### Изучение данных\n",
    "<a name=\"31\"></a> <div style=\"text-align: left\">[Cодержание](#Содержание)</div>"
   ]
  },
  {
   "cell_type": "markdown",
   "metadata": {
    "id": "jr1Fmldi9PO1"
   },
   "source": [
    "Загрузим данные."
   ]
  },
  {
   "cell_type": "code",
   "execution_count": 4,
   "metadata": {
    "id": "V4Z0iy8z9PO2"
   },
   "outputs": [],
   "source": [
    "pth1 = r'C:/Users/Васильев/Desktop/dataframes/toxic_comments.csv'\n",
    "pth2 = '/datasets/toxic_comments.csv'\n",
    "pth3 = '/toxic_comments.csv'\n",
    "pth4 = 'https://code.s3.yandex.net/datasets/toxic_comments.csv'\n",
    "pth5 = '/content/toxic_comments.csv'\n",
    "\n",
    "if os.path.exists(pth1):\n",
    "    data = pd.read_csv(pth1)\n",
    "elif os.path.exists(pth2):\n",
    "    data = pd.read_csv(pth2)\n",
    "elif os.path.exists(pth3):\n",
    "    data = pd.read_csv(pth3)\n",
    "elif os.path.exists(pth4):\n",
    "    data = pd.read_csv(pth4)\n",
    "elif os.path.exists(pth5):\n",
    "    data = pd.read_csv(pth5)\n",
    "else:\n",
    "    print('Something is wrong')"
   ]
  },
  {
   "cell_type": "code",
   "execution_count": 5,
   "metadata": {
    "colab": {
     "base_uri": "https://localhost:8080/",
     "height": 206
    },
    "id": "pajBMHct9PO2",
    "outputId": "e6451155-8c49-4d03-806d-643405920eb4"
   },
   "outputs": [
    {
     "data": {
      "text/html": [
       "\n",
       "\n",
       "  <div id=\"df-d90991c1-16d7-4f68-8cfd-2fbacb97adc7\">\n",
       "    <div class=\"colab-df-container\">\n",
       "      <div>\n",
       "<style scoped>\n",
       "    .dataframe tbody tr th:only-of-type {\n",
       "        vertical-align: middle;\n",
       "    }\n",
       "\n",
       "    .dataframe tbody tr th {\n",
       "        vertical-align: top;\n",
       "    }\n",
       "\n",
       "    .dataframe thead th {\n",
       "        text-align: right;\n",
       "    }\n",
       "</style>\n",
       "<table border=\"1\" class=\"dataframe\">\n",
       "  <thead>\n",
       "    <tr style=\"text-align: right;\">\n",
       "      <th></th>\n",
       "      <th>Unnamed: 0</th>\n",
       "      <th>text</th>\n",
       "      <th>toxic</th>\n",
       "    </tr>\n",
       "  </thead>\n",
       "  <tbody>\n",
       "    <tr>\n",
       "      <th>136873</th>\n",
       "      <td>137011</td>\n",
       "      <td>\"\\n\\nThe user Goldorack keeps on reverting the...</td>\n",
       "      <td>0</td>\n",
       "    </tr>\n",
       "    <tr>\n",
       "      <th>58870</th>\n",
       "      <td>58936</td>\n",
       "      <td>http://catalogue.statelibrary.tas.gov.au/find/...</td>\n",
       "      <td>0</td>\n",
       "    </tr>\n",
       "    <tr>\n",
       "      <th>2808</th>\n",
       "      <td>2808</td>\n",
       "      <td>Scott's boss whom he almost killed was called ...</td>\n",
       "      <td>0</td>\n",
       "    </tr>\n",
       "    <tr>\n",
       "      <th>158193</th>\n",
       "      <td>158352</td>\n",
       "      <td>Is this drug really that expensive?  You can g...</td>\n",
       "      <td>0</td>\n",
       "    </tr>\n",
       "    <tr>\n",
       "      <th>6447</th>\n",
       "      <td>6451</td>\n",
       "      <td>Explain on their Talk page that they need to u...</td>\n",
       "      <td>0</td>\n",
       "    </tr>\n",
       "  </tbody>\n",
       "</table>\n",
       "</div>\n",
       "      <button class=\"colab-df-convert\" onclick=\"convertToInteractive('df-d90991c1-16d7-4f68-8cfd-2fbacb97adc7')\"\n",
       "              title=\"Convert this dataframe to an interactive table.\"\n",
       "              style=\"display:none;\">\n",
       "\n",
       "  <svg xmlns=\"http://www.w3.org/2000/svg\" height=\"24px\"viewBox=\"0 0 24 24\"\n",
       "       width=\"24px\">\n",
       "    <path d=\"M0 0h24v24H0V0z\" fill=\"none\"/>\n",
       "    <path d=\"M18.56 5.44l.94 2.06.94-2.06 2.06-.94-2.06-.94-.94-2.06-.94 2.06-2.06.94zm-11 1L8.5 8.5l.94-2.06 2.06-.94-2.06-.94L8.5 2.5l-.94 2.06-2.06.94zm10 10l.94 2.06.94-2.06 2.06-.94-2.06-.94-.94-2.06-.94 2.06-2.06.94z\"/><path d=\"M17.41 7.96l-1.37-1.37c-.4-.4-.92-.59-1.43-.59-.52 0-1.04.2-1.43.59L10.3 9.45l-7.72 7.72c-.78.78-.78 2.05 0 2.83L4 21.41c.39.39.9.59 1.41.59.51 0 1.02-.2 1.41-.59l7.78-7.78 2.81-2.81c.8-.78.8-2.07 0-2.86zM5.41 20L4 18.59l7.72-7.72 1.47 1.35L5.41 20z\"/>\n",
       "  </svg>\n",
       "      </button>\n",
       "\n",
       "\n",
       "\n",
       "    <div id=\"df-4539736f-33d6-425d-a80f-c6067ae00b36\">\n",
       "      <button class=\"colab-df-quickchart\" onclick=\"quickchart('df-4539736f-33d6-425d-a80f-c6067ae00b36')\"\n",
       "              title=\"Suggest charts.\"\n",
       "              style=\"display:none;\">\n",
       "\n",
       "<svg xmlns=\"http://www.w3.org/2000/svg\" height=\"24px\"viewBox=\"0 0 24 24\"\n",
       "     width=\"24px\">\n",
       "    <g>\n",
       "        <path d=\"M19 3H5c-1.1 0-2 .9-2 2v14c0 1.1.9 2 2 2h14c1.1 0 2-.9 2-2V5c0-1.1-.9-2-2-2zM9 17H7v-7h2v7zm4 0h-2V7h2v10zm4 0h-2v-4h2v4z\"/>\n",
       "    </g>\n",
       "</svg>\n",
       "      </button>\n",
       "    </div>\n",
       "\n",
       "<style>\n",
       "  .colab-df-quickchart {\n",
       "    background-color: #E8F0FE;\n",
       "    border: none;\n",
       "    border-radius: 50%;\n",
       "    cursor: pointer;\n",
       "    display: none;\n",
       "    fill: #1967D2;\n",
       "    height: 32px;\n",
       "    padding: 0 0 0 0;\n",
       "    width: 32px;\n",
       "  }\n",
       "\n",
       "  .colab-df-quickchart:hover {\n",
       "    background-color: #E2EBFA;\n",
       "    box-shadow: 0px 1px 2px rgba(60, 64, 67, 0.3), 0px 1px 3px 1px rgba(60, 64, 67, 0.15);\n",
       "    fill: #174EA6;\n",
       "  }\n",
       "\n",
       "  [theme=dark] .colab-df-quickchart {\n",
       "    background-color: #3B4455;\n",
       "    fill: #D2E3FC;\n",
       "  }\n",
       "\n",
       "  [theme=dark] .colab-df-quickchart:hover {\n",
       "    background-color: #434B5C;\n",
       "    box-shadow: 0px 1px 3px 1px rgba(0, 0, 0, 0.15);\n",
       "    filter: drop-shadow(0px 1px 2px rgba(0, 0, 0, 0.3));\n",
       "    fill: #FFFFFF;\n",
       "  }\n",
       "</style>\n",
       "\n",
       "    <script>\n",
       "      async function quickchart(key) {\n",
       "        const containerElement = document.querySelector('#' + key);\n",
       "        const charts = await google.colab.kernel.invokeFunction(\n",
       "            'suggestCharts', [key], {});\n",
       "      }\n",
       "    </script>\n",
       "\n",
       "      <script>\n",
       "\n",
       "function displayQuickchartButton(domScope) {\n",
       "  let quickchartButtonEl =\n",
       "    domScope.querySelector('#df-4539736f-33d6-425d-a80f-c6067ae00b36 button.colab-df-quickchart');\n",
       "  quickchartButtonEl.style.display =\n",
       "    google.colab.kernel.accessAllowed ? 'block' : 'none';\n",
       "}\n",
       "\n",
       "        displayQuickchartButton(document);\n",
       "      </script>\n",
       "      <style>\n",
       "    .colab-df-container {\n",
       "      display:flex;\n",
       "      flex-wrap:wrap;\n",
       "      gap: 12px;\n",
       "    }\n",
       "\n",
       "    .colab-df-convert {\n",
       "      background-color: #E8F0FE;\n",
       "      border: none;\n",
       "      border-radius: 50%;\n",
       "      cursor: pointer;\n",
       "      display: none;\n",
       "      fill: #1967D2;\n",
       "      height: 32px;\n",
       "      padding: 0 0 0 0;\n",
       "      width: 32px;\n",
       "    }\n",
       "\n",
       "    .colab-df-convert:hover {\n",
       "      background-color: #E2EBFA;\n",
       "      box-shadow: 0px 1px 2px rgba(60, 64, 67, 0.3), 0px 1px 3px 1px rgba(60, 64, 67, 0.15);\n",
       "      fill: #174EA6;\n",
       "    }\n",
       "\n",
       "    [theme=dark] .colab-df-convert {\n",
       "      background-color: #3B4455;\n",
       "      fill: #D2E3FC;\n",
       "    }\n",
       "\n",
       "    [theme=dark] .colab-df-convert:hover {\n",
       "      background-color: #434B5C;\n",
       "      box-shadow: 0px 1px 3px 1px rgba(0, 0, 0, 0.15);\n",
       "      filter: drop-shadow(0px 1px 2px rgba(0, 0, 0, 0.3));\n",
       "      fill: #FFFFFF;\n",
       "    }\n",
       "  </style>\n",
       "\n",
       "      <script>\n",
       "        const buttonEl =\n",
       "          document.querySelector('#df-d90991c1-16d7-4f68-8cfd-2fbacb97adc7 button.colab-df-convert');\n",
       "        buttonEl.style.display =\n",
       "          google.colab.kernel.accessAllowed ? 'block' : 'none';\n",
       "\n",
       "        async function convertToInteractive(key) {\n",
       "          const element = document.querySelector('#df-d90991c1-16d7-4f68-8cfd-2fbacb97adc7');\n",
       "          const dataTable =\n",
       "            await google.colab.kernel.invokeFunction('convertToInteractive',\n",
       "                                                     [key], {});\n",
       "          if (!dataTable) return;\n",
       "\n",
       "          const docLinkHtml = 'Like what you see? Visit the ' +\n",
       "            '<a target=\"_blank\" href=https://colab.research.google.com/notebooks/data_table.ipynb>data table notebook</a>'\n",
       "            + ' to learn more about interactive tables.';\n",
       "          element.innerHTML = '';\n",
       "          dataTable['output_type'] = 'display_data';\n",
       "          await google.colab.output.renderOutput(dataTable, element);\n",
       "          const docLink = document.createElement('div');\n",
       "          docLink.innerHTML = docLinkHtml;\n",
       "          element.appendChild(docLink);\n",
       "        }\n",
       "      </script>\n",
       "    </div>\n",
       "  </div>\n"
      ],
      "text/plain": [
       "        Unnamed: 0                                               text  toxic\n",
       "136873      137011  \"\\n\\nThe user Goldorack keeps on reverting the...      0\n",
       "58870        58936  http://catalogue.statelibrary.tas.gov.au/find/...      0\n",
       "2808          2808  Scott's boss whom he almost killed was called ...      0\n",
       "158193      158352  Is this drug really that expensive?  You can g...      0\n",
       "6447          6451  Explain on their Talk page that they need to u...      0"
      ]
     },
     "metadata": {},
     "output_type": "display_data"
    }
   ],
   "source": [
    "display(data.sample(5))"
   ]
  },
  {
   "cell_type": "code",
   "execution_count": 6,
   "metadata": {
    "colab": {
     "base_uri": "https://localhost:8080/"
    },
    "id": "ge5tQ68w9PO4",
    "outputId": "fab7734f-9be0-434a-8e3e-800113857d4c"
   },
   "outputs": [
    {
     "name": "stdout",
     "output_type": "stream",
     "text": [
      "<class 'pandas.core.frame.DataFrame'>\n",
      "RangeIndex: 159292 entries, 0 to 159291\n",
      "Data columns (total 3 columns):\n",
      " #   Column      Non-Null Count   Dtype \n",
      "---  ------      --------------   ----- \n",
      " 0   Unnamed: 0  159292 non-null  int64 \n",
      " 1   text        159292 non-null  object\n",
      " 2   toxic       159292 non-null  int64 \n",
      "dtypes: int64(2), object(1)\n",
      "memory usage: 3.6+ MB\n"
     ]
    }
   ],
   "source": [
    "data.info()"
   ]
  },
  {
   "cell_type": "markdown",
   "metadata": {
    "id": "5DHnLQpo9PO4"
   },
   "source": [
    "Видно, что загруженный датасет имеет большой размер."
   ]
  },
  {
   "cell_type": "code",
   "execution_count": 7,
   "metadata": {
    "colab": {
     "base_uri": "https://localhost:8080/"
    },
    "id": "yG1AaVvE9PO5",
    "outputId": "9d3fbd06-d892-40a1-d01b-9ca1aa110d1a"
   },
   "outputs": [
    {
     "name": "stdout",
     "output_type": "stream",
     "text": [
      "(159292, 3)\n"
     ]
    }
   ],
   "source": [
    "print(data.shape)"
   ]
  },
  {
   "cell_type": "code",
   "execution_count": 8,
   "metadata": {
    "colab": {
     "base_uri": "https://localhost:8080/",
     "height": 300
    },
    "id": "d_RcI9lW9PO6",
    "outputId": "5db36110-1fba-4f04-d117-dd830f62745b"
   },
   "outputs": [
    {
     "data": {
      "text/html": [
       "\n",
       "\n",
       "  <div id=\"df-e6b869dc-d17c-4360-8927-27f9d7dcb474\">\n",
       "    <div class=\"colab-df-container\">\n",
       "      <div>\n",
       "<style scoped>\n",
       "    .dataframe tbody tr th:only-of-type {\n",
       "        vertical-align: middle;\n",
       "    }\n",
       "\n",
       "    .dataframe tbody tr th {\n",
       "        vertical-align: top;\n",
       "    }\n",
       "\n",
       "    .dataframe thead th {\n",
       "        text-align: right;\n",
       "    }\n",
       "</style>\n",
       "<table border=\"1\" class=\"dataframe\">\n",
       "  <thead>\n",
       "    <tr style=\"text-align: right;\">\n",
       "      <th></th>\n",
       "      <th>Unnamed: 0</th>\n",
       "      <th>toxic</th>\n",
       "    </tr>\n",
       "  </thead>\n",
       "  <tbody>\n",
       "    <tr>\n",
       "      <th>count</th>\n",
       "      <td>159292.000000</td>\n",
       "      <td>159292.000000</td>\n",
       "    </tr>\n",
       "    <tr>\n",
       "      <th>mean</th>\n",
       "      <td>79725.697242</td>\n",
       "      <td>0.101612</td>\n",
       "    </tr>\n",
       "    <tr>\n",
       "      <th>std</th>\n",
       "      <td>46028.837471</td>\n",
       "      <td>0.302139</td>\n",
       "    </tr>\n",
       "    <tr>\n",
       "      <th>min</th>\n",
       "      <td>0.000000</td>\n",
       "      <td>0.000000</td>\n",
       "    </tr>\n",
       "    <tr>\n",
       "      <th>25%</th>\n",
       "      <td>39872.750000</td>\n",
       "      <td>0.000000</td>\n",
       "    </tr>\n",
       "    <tr>\n",
       "      <th>50%</th>\n",
       "      <td>79721.500000</td>\n",
       "      <td>0.000000</td>\n",
       "    </tr>\n",
       "    <tr>\n",
       "      <th>75%</th>\n",
       "      <td>119573.250000</td>\n",
       "      <td>0.000000</td>\n",
       "    </tr>\n",
       "    <tr>\n",
       "      <th>max</th>\n",
       "      <td>159450.000000</td>\n",
       "      <td>1.000000</td>\n",
       "    </tr>\n",
       "  </tbody>\n",
       "</table>\n",
       "</div>\n",
       "      <button class=\"colab-df-convert\" onclick=\"convertToInteractive('df-e6b869dc-d17c-4360-8927-27f9d7dcb474')\"\n",
       "              title=\"Convert this dataframe to an interactive table.\"\n",
       "              style=\"display:none;\">\n",
       "\n",
       "  <svg xmlns=\"http://www.w3.org/2000/svg\" height=\"24px\"viewBox=\"0 0 24 24\"\n",
       "       width=\"24px\">\n",
       "    <path d=\"M0 0h24v24H0V0z\" fill=\"none\"/>\n",
       "    <path d=\"M18.56 5.44l.94 2.06.94-2.06 2.06-.94-2.06-.94-.94-2.06-.94 2.06-2.06.94zm-11 1L8.5 8.5l.94-2.06 2.06-.94-2.06-.94L8.5 2.5l-.94 2.06-2.06.94zm10 10l.94 2.06.94-2.06 2.06-.94-2.06-.94-.94-2.06-.94 2.06-2.06.94z\"/><path d=\"M17.41 7.96l-1.37-1.37c-.4-.4-.92-.59-1.43-.59-.52 0-1.04.2-1.43.59L10.3 9.45l-7.72 7.72c-.78.78-.78 2.05 0 2.83L4 21.41c.39.39.9.59 1.41.59.51 0 1.02-.2 1.41-.59l7.78-7.78 2.81-2.81c.8-.78.8-2.07 0-2.86zM5.41 20L4 18.59l7.72-7.72 1.47 1.35L5.41 20z\"/>\n",
       "  </svg>\n",
       "      </button>\n",
       "\n",
       "\n",
       "\n",
       "    <div id=\"df-9e783fa5-1012-4596-b8bc-621940a5c7ed\">\n",
       "      <button class=\"colab-df-quickchart\" onclick=\"quickchart('df-9e783fa5-1012-4596-b8bc-621940a5c7ed')\"\n",
       "              title=\"Suggest charts.\"\n",
       "              style=\"display:none;\">\n",
       "\n",
       "<svg xmlns=\"http://www.w3.org/2000/svg\" height=\"24px\"viewBox=\"0 0 24 24\"\n",
       "     width=\"24px\">\n",
       "    <g>\n",
       "        <path d=\"M19 3H5c-1.1 0-2 .9-2 2v14c0 1.1.9 2 2 2h14c1.1 0 2-.9 2-2V5c0-1.1-.9-2-2-2zM9 17H7v-7h2v7zm4 0h-2V7h2v10zm4 0h-2v-4h2v4z\"/>\n",
       "    </g>\n",
       "</svg>\n",
       "      </button>\n",
       "    </div>\n",
       "\n",
       "<style>\n",
       "  .colab-df-quickchart {\n",
       "    background-color: #E8F0FE;\n",
       "    border: none;\n",
       "    border-radius: 50%;\n",
       "    cursor: pointer;\n",
       "    display: none;\n",
       "    fill: #1967D2;\n",
       "    height: 32px;\n",
       "    padding: 0 0 0 0;\n",
       "    width: 32px;\n",
       "  }\n",
       "\n",
       "  .colab-df-quickchart:hover {\n",
       "    background-color: #E2EBFA;\n",
       "    box-shadow: 0px 1px 2px rgba(60, 64, 67, 0.3), 0px 1px 3px 1px rgba(60, 64, 67, 0.15);\n",
       "    fill: #174EA6;\n",
       "  }\n",
       "\n",
       "  [theme=dark] .colab-df-quickchart {\n",
       "    background-color: #3B4455;\n",
       "    fill: #D2E3FC;\n",
       "  }\n",
       "\n",
       "  [theme=dark] .colab-df-quickchart:hover {\n",
       "    background-color: #434B5C;\n",
       "    box-shadow: 0px 1px 3px 1px rgba(0, 0, 0, 0.15);\n",
       "    filter: drop-shadow(0px 1px 2px rgba(0, 0, 0, 0.3));\n",
       "    fill: #FFFFFF;\n",
       "  }\n",
       "</style>\n",
       "\n",
       "    <script>\n",
       "      async function quickchart(key) {\n",
       "        const containerElement = document.querySelector('#' + key);\n",
       "        const charts = await google.colab.kernel.invokeFunction(\n",
       "            'suggestCharts', [key], {});\n",
       "      }\n",
       "    </script>\n",
       "\n",
       "      <script>\n",
       "\n",
       "function displayQuickchartButton(domScope) {\n",
       "  let quickchartButtonEl =\n",
       "    domScope.querySelector('#df-9e783fa5-1012-4596-b8bc-621940a5c7ed button.colab-df-quickchart');\n",
       "  quickchartButtonEl.style.display =\n",
       "    google.colab.kernel.accessAllowed ? 'block' : 'none';\n",
       "}\n",
       "\n",
       "        displayQuickchartButton(document);\n",
       "      </script>\n",
       "      <style>\n",
       "    .colab-df-container {\n",
       "      display:flex;\n",
       "      flex-wrap:wrap;\n",
       "      gap: 12px;\n",
       "    }\n",
       "\n",
       "    .colab-df-convert {\n",
       "      background-color: #E8F0FE;\n",
       "      border: none;\n",
       "      border-radius: 50%;\n",
       "      cursor: pointer;\n",
       "      display: none;\n",
       "      fill: #1967D2;\n",
       "      height: 32px;\n",
       "      padding: 0 0 0 0;\n",
       "      width: 32px;\n",
       "    }\n",
       "\n",
       "    .colab-df-convert:hover {\n",
       "      background-color: #E2EBFA;\n",
       "      box-shadow: 0px 1px 2px rgba(60, 64, 67, 0.3), 0px 1px 3px 1px rgba(60, 64, 67, 0.15);\n",
       "      fill: #174EA6;\n",
       "    }\n",
       "\n",
       "    [theme=dark] .colab-df-convert {\n",
       "      background-color: #3B4455;\n",
       "      fill: #D2E3FC;\n",
       "    }\n",
       "\n",
       "    [theme=dark] .colab-df-convert:hover {\n",
       "      background-color: #434B5C;\n",
       "      box-shadow: 0px 1px 3px 1px rgba(0, 0, 0, 0.15);\n",
       "      filter: drop-shadow(0px 1px 2px rgba(0, 0, 0, 0.3));\n",
       "      fill: #FFFFFF;\n",
       "    }\n",
       "  </style>\n",
       "\n",
       "      <script>\n",
       "        const buttonEl =\n",
       "          document.querySelector('#df-e6b869dc-d17c-4360-8927-27f9d7dcb474 button.colab-df-convert');\n",
       "        buttonEl.style.display =\n",
       "          google.colab.kernel.accessAllowed ? 'block' : 'none';\n",
       "\n",
       "        async function convertToInteractive(key) {\n",
       "          const element = document.querySelector('#df-e6b869dc-d17c-4360-8927-27f9d7dcb474');\n",
       "          const dataTable =\n",
       "            await google.colab.kernel.invokeFunction('convertToInteractive',\n",
       "                                                     [key], {});\n",
       "          if (!dataTable) return;\n",
       "\n",
       "          const docLinkHtml = 'Like what you see? Visit the ' +\n",
       "            '<a target=\"_blank\" href=https://colab.research.google.com/notebooks/data_table.ipynb>data table notebook</a>'\n",
       "            + ' to learn more about interactive tables.';\n",
       "          element.innerHTML = '';\n",
       "          dataTable['output_type'] = 'display_data';\n",
       "          await google.colab.output.renderOutput(dataTable, element);\n",
       "          const docLink = document.createElement('div');\n",
       "          docLink.innerHTML = docLinkHtml;\n",
       "          element.appendChild(docLink);\n",
       "        }\n",
       "      </script>\n",
       "    </div>\n",
       "  </div>\n"
      ],
      "text/plain": [
       "          Unnamed: 0          toxic\n",
       "count  159292.000000  159292.000000\n",
       "mean    79725.697242       0.101612\n",
       "std     46028.837471       0.302139\n",
       "min         0.000000       0.000000\n",
       "25%     39872.750000       0.000000\n",
       "50%     79721.500000       0.000000\n",
       "75%    119573.250000       0.000000\n",
       "max    159450.000000       1.000000"
      ]
     },
     "execution_count": 8,
     "metadata": {},
     "output_type": "execute_result"
    }
   ],
   "source": [
    "data.describe()"
   ]
  },
  {
   "cell_type": "markdown",
   "metadata": {
    "id": "l8PepRKp9PO6"
   },
   "source": [
    "Проверим данные на наличие явных дубликатов."
   ]
  },
  {
   "cell_type": "code",
   "execution_count": 9,
   "metadata": {
    "colab": {
     "base_uri": "https://localhost:8080/"
    },
    "id": "o8oFCRXU9PO7",
    "outputId": "5235f369-ebf7-4b13-a9c7-c38af8900f73"
   },
   "outputs": [
    {
     "data": {
      "text/plain": [
       "0"
      ]
     },
     "execution_count": 9,
     "metadata": {},
     "output_type": "execute_result"
    }
   ],
   "source": [
    "data.duplicated().sum()"
   ]
  },
  {
   "cell_type": "markdown",
   "metadata": {
    "id": "5vHWA8d89PO7"
   },
   "source": [
    "Посчитаем количество классов в таргете."
   ]
  },
  {
   "cell_type": "code",
   "execution_count": 10,
   "metadata": {
    "colab": {
     "base_uri": "https://localhost:8080/"
    },
    "id": "BAFf6ej99PO8",
    "outputId": "eafa7260-bf10-4d97-83cd-157c2c8c6e95"
   },
   "outputs": [
    {
     "data": {
      "text/plain": [
       "0    143106\n",
       "1     16186\n",
       "Name: toxic, dtype: int64"
      ]
     },
     "execution_count": 10,
     "metadata": {},
     "output_type": "execute_result"
    }
   ],
   "source": [
    "data['toxic'].value_counts()"
   ]
  },
  {
   "cell_type": "markdown",
   "metadata": {
    "id": "prFQJKeD9PO8"
   },
   "source": [
    "Вывод нам показывает сильный дисбаланс классов в таргете."
   ]
  },
  {
   "cell_type": "markdown",
   "metadata": {
    "id": "9Uvjizvx9PO9"
   },
   "source": [
    "### Сэмплирование данных\n",
    "<a name=\"32\"></a> <div style=\"text-align: left\">[Cодержание](#Содержание)</div>"
   ]
  },
  {
   "cell_type": "markdown",
   "metadata": {
    "id": "qO5RuLg69PO9"
   },
   "source": [
    "Будем решать поставленную в проекте задачу с помощью **нейронной сети *BERT*** (от англ. *Bidirectional Encoder Representations from Transformers*, «двунаправленная нейронная сеть-кодировщик») - нейронная сеть для создания модели языка.\n",
    "\n",
    "Чтобы машины воспринимали слова, картинки или аудио, их преобразовывают в векторный вид. Когда работают с текстом, его тоже переводят в векторный формат, или векторные представления. Частный случай этих представлений - *word embeddings* (англ. «слова-вложения»; «эмбеддинги»). Работают они так: сложная структура (текст) вкладывается в более простую - вектор.\n",
    "Векторы-эмбеддинги содержат данные о соотношении разных слов и их свойствах. Привычное понимание свойства слова, его смысла и контекста справедливо и для машинного обучения.\n",
    "\n",
    "Чтобы не создавать эмбеддинги слишком долго, возьмём из датасета выборку из 1000 случайных элементов."
   ]
  },
  {
   "cell_type": "code",
   "execution_count": 11,
   "metadata": {
    "id": "e5d9FAYV9PO-"
   },
   "outputs": [],
   "source": [
    "data_sample = data.sample(\n",
    "    n=1000, random_state=RANDOM_STATE).reset_index(drop=True)"
   ]
  },
  {
   "cell_type": "markdown",
   "metadata": {
    "id": "fZczJM689PO_"
   },
   "source": [
    "Проверим, сохранилось ли в таргете сэмплированной выборки соотношение количества классов."
   ]
  },
  {
   "cell_type": "code",
   "execution_count": 12,
   "metadata": {
    "colab": {
     "base_uri": "https://localhost:8080/"
    },
    "id": "LBwVyiHs9PPA",
    "outputId": "82163b35-0ee5-4645-c7ec-37b90aefed76"
   },
   "outputs": [
    {
     "data": {
      "text/plain": [
       "0    890\n",
       "1    110\n",
       "Name: toxic, dtype: int64"
      ]
     },
     "execution_count": 12,
     "metadata": {},
     "output_type": "execute_result"
    }
   ],
   "source": [
    "data_sample['toxic'].value_counts()"
   ]
  },
  {
   "cell_type": "markdown",
   "metadata": {
    "id": "bNmIvMON9PPB"
   },
   "source": [
    "### Разделение сэмпла на выборки\n",
    "<a name=\"33\"></a> <div style=\"text-align: left\">[Cодержание](#Содержание)</div>"
   ]
  },
  {
   "cell_type": "markdown",
   "metadata": {
    "id": "irRowJkw9PPC"
   },
   "source": [
    "Разделим сэмплированную выборку `data_sample` на обучающую и тестовую, в соотношении 4:1."
   ]
  },
  {
   "cell_type": "code",
   "execution_count": 13,
   "metadata": {
    "colab": {
     "base_uri": "https://localhost:8080/"
    },
    "id": "1tHlsQIU9PPC",
    "outputId": "95e337de-327c-475d-9110-b2e669bf3cbd"
   },
   "outputs": [
    {
     "name": "stdout",
     "output_type": "stream",
     "text": [
      "Размеры выборок:\n",
      "train - 800 - 80%\n",
      "test - 200 - 20%\n"
     ]
    }
   ],
   "source": [
    "data_sample_train, data_sample_test, target_train, target_test = train_test_split(\n",
    "    data_sample['text'], data_sample['toxic'], test_size=TEST_SIZE,\n",
    "    stratify=data_sample['toxic'], random_state=RANDOM_STATE)\n",
    "\n",
    "print('Размеры выборок:')\n",
    "print(f\"train - {len(data_sample_train)} \\\n",
    "- {len(data_sample_train)/len(data_sample['text']):.0%}\")\n",
    "\n",
    "print(f\"test - {len(data_sample_test)} \\\n",
    "- {len(data_sample_test)/len(data_sample['text']):.0%}\")"
   ]
  },
  {
   "cell_type": "markdown",
   "metadata": {
    "id": "NV2-fARP9PPD"
   },
   "source": [
    "### Получение эмбеддингов (с *BERT*)\n",
    "<a name=\"34\"></a> <div style=\"text-align: left\">[Cодержание](#Содержание)</div>"
   ]
  },
  {
   "cell_type": "markdown",
   "metadata": {
    "id": "iOaLTXpX9PPE"
   },
   "source": [
    "Переведём текст комментариев в векторные представления, также известные как эмбеддинги, с помощью **нейронной сети *BERT***. \n",
    "\n",
    "Для этого используем модель [unitary/toxic-bert](https://huggingface.co/unitary/toxic-bert/tree/main), предобученную специально для идентификации токсичных комментариев. У *BERT* имеется собственный токенизатор. Лемматизация для *BERT* не требуется.\n",
    "\n",
    "Решим задачу проекта на *PyTorch* (англ. «факел для Python»). Библиотека `torch` применяется в задачах обработки естественного текста и компьютерного зрения. А нам нужна для работы с моделью *BERT*, которая находится в библиотеке `transformers` (англ. «трансформеры»).\n",
    "\n",
    "Для получения эмбеддингов, напишем функцию `make_embeddings()`."
   ]
  },
  {
   "cell_type": "code",
   "execution_count": 129,
   "metadata": {
    "id": "-R8ZSsqm9PPX"
   },
   "outputs": [],
   "source": [
    "def make_embeddings(data_sample):\n",
    "\n",
    "    # Инициализируем токенизатор как объект класса 'BertTokenizer()'.\n",
    "    # Передадим ему файл со словарём, на котором обучалась модель. \n",
    "    # Он может быть, например,в текстовом формате (txt). \n",
    "    # Зададим длину текстов 'max_length=512'.\n",
    "    tokenizer = transformers.BertTokenizer.from_pretrained('vocab.txt', max_length=512)\n",
    "\n",
    "    # Токенизируем комментарии:\n",
    "    # Преобразуем текст в номера токенов из словаря методом 'encode()'\n",
    "    # (англ. «закодировать»). Для корректной работы модели мы указали\n",
    "    # аргумент 'add_special_tokens=True'. Это значит, что к любому преобразуемому\n",
    "    # тексту добавляется токен начала (101) и токен конца текста (102).\n",
    "    tokenized = data_sample.apply(\n",
    "        (lambda x: tokenizer.encode(x, add_special_tokens=True)))\n",
    "\n",
    "    # Применим метод padding (англ. «отступ»), чтобы после токенизации\n",
    "    # длины исходных текстов в корпусе были равными - только при таком \n",
    "    # условии будет работать модель BERT. Стандартная длина вектора\n",
    "    # будет 'max_len=512', остальные векторы дополним нулями.\n",
    "    max_len = 512\n",
    "    padded = np.array([i + [0]*(max_len - len(i)) if len(i)<512 \\\n",
    "                       else i[:512] for i in tokenized.values])\n",
    "\n",
    "    # Cоздадим маску для выделения важных токенов:\n",
    "    # Поясним модели, что нули не несут значимой информации. Это нужно\n",
    "    # для компоненты модели, которая называется «внимание» (англ. attention).\n",
    "    # Отбросим эти токены и «создадим маску» для действительно важных\n",
    "    # токенов, то есть укажем нулевые и не нулевые значения.\n",
    "    attention_mask = np.where(padded != 0, 1, 0)\n",
    "\n",
    "    # отобразим размеры преобразованных данных\n",
    "    print(f\"tokenized shape: {tokenized.shape}\")\n",
    "    print(f\"padded shape: {padded.shape}\")\n",
    "    print(f\"attention_mask shape: {attention_mask.shape}\")\n",
    "\n",
    "    # Инициализируем конфигурацию 'BertConfig' (англ. Bert Configuration).\n",
    "    # В качестве аргумента передадим ей JSON-файл с описанием настроек модели.\n",
    "    config = transformers.BertConfig.from_json_file('config.json')\n",
    "    \n",
    "    # Затем инициализируем саму модель класса 'BertModel'.\n",
    "    # Передадим ей файл с предобученной моделью и конфигурацией.\n",
    "    model = transformers.BertModel.from_pretrained('pytorch_model.bin', config=config)\n",
    "    \n",
    "    # Модель BERT создаёт эмбеддинги батчами. Чтобы хватило оперативной памяти,\n",
    "    # сделаем размер батча небольшим - создадим эмбеддинги батчами по 20 текстов.\n",
    "    batch_size = 20\n",
    "    # Напишемм цикл по батчам. Отображать прогресс будет функция 'notebook()'.\n",
    "    # Для хранения эмбеддингов твитов сделаем список 'embeddings'.\n",
    "    embeddings = []\n",
    "    for i in notebook.tqdm(range(padded.shape[0] // batch_size)):\n",
    "            # Преобразуем данные в формат тензоров - многомерных векторов\n",
    "            # в библиотеке torch. Тип данных 'LongTensor' хранит числа в длинном формате,\n",
    "            # т.е. выделяет на каждое число по 64 бита.\n",
    "            batch = torch.LongTensor(padded[batch_size*i:batch_size*(i+1)])\n",
    "            # Преобразуем маску.\n",
    "            attention_mask_batch = torch.LongTensor(\n",
    "                attention_mask[batch_size*i:batch_size*(i+1)])\n",
    "\n",
    "            # Получим эмбеддинги для батча:\n",
    "            # Для ускорения вычисления функцией 'no_grad()' в библиотеке torch укажем, \n",
    "            # что градиенты не нужны - модель BERT обучать не будем.\n",
    "            with torch.no_grad():\n",
    "                # чтобы получить эмбеддинги для батча, передадим модели данные и маску\n",
    "                batch_embeddings = model(batch, attention_mask=attention_mask_batch)\n",
    "\n",
    "            # Из полученного тензора извлечём нужные элементы и добавим их в список\n",
    "            # всех эмбеддингов. Преобразуем элементы методом 'numpy()' к типу 'numpy.array'.\n",
    "            embeddings.append(batch_embeddings[0][:,0,:].numpy())\n",
    "\n",
    "    # Вызовом функции concatenate() cоберём и выведем все эмбеддинги в матрицу признаков\n",
    "    return np.concatenate(embeddings)"
   ]
  },
  {
   "cell_type": "markdown",
   "metadata": {
    "id": "0TPyTDiU9PPZ"
   },
   "source": [
    "Применим функцию `make_embeddings()` к обучающей выборке `data_sample_train`, получим эмбеддинги `feature_train` - признаки для обучения наших моделей."
   ]
  },
  {
   "cell_type": "code",
   "execution_count": 130,
   "metadata": {
    "colab": {
     "base_uri": "https://localhost:8080/",
     "height": 208,
     "referenced_widgets": [
      "aea3b55544134141bd10cb631d63ebc5",
      "33ba4ff3c14f4b0ca5f056bb403091bf",
      "fea610506e224ae5b96da9f5c34903b5",
      "221dba0d0ed5479a801e450e3f8ca16c",
      "4e34b8e4e55d42959c6d32ddf0352a48",
      "7331a0c666ba4e0388673784910f75a0",
      "722bdd16a1834020953a759608dd4cef",
      "3556dd77ae554ae2a3baebe3406bd6cb",
      "fb979c00f15547eb8c8c541806887f96",
      "c11a4db28f8b45f4a47dab16f3a2d8b2",
      "6b218dd6a2544b27ae5e98bad97010ba"
     ]
    },
    "id": "LfoVFoM79PPZ",
    "outputId": "648ae077-a68e-4385-d600-5d40f42f6324"
   },
   "outputs": [
    {
     "name": "stderr",
     "output_type": "stream",
     "text": [
      "/usr/local/lib/python3.10/dist-packages/transformers/tokenization_utils_base.py:1743: FutureWarning: Calling BertTokenizer.from_pretrained() with the path to a single file or url is deprecated and won't be possible anymore in v5. Use a model identifier or the path to a directory instead.\n",
      "  warnings.warn(\n"
     ]
    },
    {
     "name": "stdout",
     "output_type": "stream",
     "text": [
      "tokenized shape: (800,)\n",
      "padded shape: (800, 512)\n",
      "attention_mask shape: (800, 512)\n"
     ]
    },
    {
     "data": {
      "application/vnd.jupyter.widget-view+json": {
       "model_id": "aea3b55544134141bd10cb631d63ebc5",
       "version_major": 2,
       "version_minor": 0
      },
      "text/plain": [
       "  0%|          | 0/40 [00:00<?, ?it/s]"
      ]
     },
     "metadata": {},
     "output_type": "display_data"
    },
    {
     "name": "stdout",
     "output_type": "stream",
     "text": [
      "features shape: (800, 768)\n",
      "CPU times: user 26min 36s, sys: 4min 44s, total: 31min 21s\n",
      "Wall time: 31min 35s\n"
     ]
    }
   ],
   "source": [
    "%%time\n",
    "\n",
    "feature_train = make_embeddings(data_sample_train)\n",
    "print(f\"features shape: {feature_train.shape}\")"
   ]
  },
  {
   "cell_type": "markdown",
   "metadata": {
    "id": "MCGFc4s99PPa"
   },
   "source": [
    "Применим функцию `make_embeddings()` к тестовой выборке `data_sample_test`, получим эмбеддинги `feature_test` - это признаки для тестирования лучшей модели."
   ]
  },
  {
   "cell_type": "code",
   "execution_count": 131,
   "metadata": {
    "colab": {
     "base_uri": "https://localhost:8080/",
     "height": 153,
     "referenced_widgets": [
      "5269ecda415d4642a998034d1d246569",
      "59d1c37a65f84d048c497ac8a2b49d85",
      "773fad8f925a41429e3f1ad2c79c19f4",
      "d5efb55c100045a5a53f1166b6e3e677",
      "146afc85637d4549b3f001eeb558a58a",
      "229edb39a81b4a028354c655e4b90541",
      "35d87ffee7624277afec140eb17ca86f",
      "65af9692345b410599e96f14e374ceab",
      "748867d982aa426dbe8e5fc031613621",
      "4de9ae4f528546e494091fc9981e18aa",
      "8a2de78d1cb8479fabe238fc7a0c6d1f"
     ]
    },
    "id": "4gsFVcck9PPa",
    "outputId": "3c44ce01-d8d7-41d3-f692-90c7b4c30453"
   },
   "outputs": [
    {
     "name": "stdout",
     "output_type": "stream",
     "text": [
      "tokenized shape: (200,)\n",
      "padded shape: (200, 512)\n",
      "attention_mask shape: (200, 512)\n"
     ]
    },
    {
     "data": {
      "application/vnd.jupyter.widget-view+json": {
       "model_id": "5269ecda415d4642a998034d1d246569",
       "version_major": 2,
       "version_minor": 0
      },
      "text/plain": [
       "  0%|          | 0/10 [00:00<?, ?it/s]"
      ]
     },
     "metadata": {},
     "output_type": "display_data"
    },
    {
     "name": "stdout",
     "output_type": "stream",
     "text": [
      "features shape: (200, 768)\n",
      "CPU times: user 6min 37s, sys: 720 ms, total: 6min 38s\n",
      "Wall time: 6min 42s\n"
     ]
    }
   ],
   "source": [
    "%%time\n",
    "\n",
    "feature_test = make_embeddings(data_sample_test)\n",
    "print(f\"features shape: {feature_test.shape}\")"
   ]
  },
  {
   "cell_type": "markdown",
   "metadata": {
    "id": "CUg0iHWb9PPb"
   },
   "source": [
    "### Вывод\n",
    "<a name=\"35\"></a> <div style=\"text-align: left\">[Cодержание](#Содержание)</div>"
   ]
  },
  {
   "cell_type": "markdown",
   "metadata": {
    "id": "m-XMueEw9PPc"
   },
   "source": [
    "В разделе [**Подготовка данных**](#Подготовка-данных) были выполнены следующие задачи:\n",
    "1. данные изучены;\n",
    "2. данные сэмплированы - из датасета взята выборка `data_sample` из 1000 случайных элементов;\n",
    "3. сэмплированная выборка разделена на обучающую и тестовую выборки, в соотношении 4:1;\n",
    "4. получены эмбеддинги, для обучения и тестирования.\n",
    "\n",
    "\n",
    "В результате выполнения задач данного раздела было выявлено следующее:\n",
    "1. пропуски в данных отсутствуют;\n",
    "2. типы данных соответствуют их содержанию;\n",
    "3. датасет имеет большой размер - содержит 159 292 текстовых комментария;\n",
    "4. явных дубликаты отсутствуют;\n",
    "5. наблюдается сильный дисбаланс классов в таргете.\n",
    "\n",
    "**В проекте решается задача бинарной классификации.**\n",
    "\n",
    "Таким образом, данные подготовлены для обучения моделей."
   ]
  },
  {
   "cell_type": "markdown",
   "metadata": {
    "id": "Br8GvwvV9PPd"
   },
   "source": [
    "## Обучение и тестирование моделей\n",
    "<a name=\"4\"></a> <div style=\"text-align: left\">[Cодержание](#Содержание)</div>"
   ]
  },
  {
   "cell_type": "markdown",
   "metadata": {
    "id": "8e5XXXGp9PPd"
   },
   "source": [
    "Выполним обучение четырех моделей: логистическую регрессию (*Logistic Regression*), случайный лес (*Random Forest*), градиентные бустинги *LightGBM* и *CatBoost* для задачи классификации. Для обучения логистической регрессии используем функцию `cross_val_score()`, а для последних трёх моделей применим поиск гиперпараметров с помощью функции `GridSearchCV`.\n",
    "\n",
    "Реализуем учёт баланса классов в модели с помощью параметра `class_weight`."
   ]
  },
  {
   "cell_type": "markdown",
   "metadata": {
    "id": "mqM-FBG39PPe"
   },
   "source": [
    "### Функция для обучения моделей\n",
    "<a name=\"41\"></a> <div style=\"text-align: left\">[Cодержание](#Содержание)</div>"
   ]
  },
  {
   "cell_type": "markdown",
   "metadata": {
    "id": "-6UppndG9PPe"
   },
   "source": [
    "Напишем функцию `fit_model()` для обучения моделей `RandomForestClassifier`, `LGBMClassifier` и `CatBoostClassifier` и вычисления метрики качества *F1*. Метрика *F1* лучшей модели будет выводиться как `model.best_score_`.\n",
    "\n",
    "Используем разделение на фолды с помощью *KFold*. Зададим параметры для кроссвалидации - `n_splits`, количество фолдов."
   ]
  },
  {
   "cell_type": "code",
   "execution_count": 132,
   "metadata": {
    "id": "S43zRUdn9PPf"
   },
   "outputs": [],
   "source": [
    "k_fold = KFold(n_splits=3, random_state=RANDOM_STATE, shuffle=True)"
   ]
  },
  {
   "cell_type": "code",
   "execution_count": 133,
   "metadata": {
    "id": "NPXQPVYV9PPf"
   },
   "outputs": [],
   "source": [
    "def fit_model(estimator, param_grid, feature_train, target_train):\n",
    "    model = GridSearchCV(estimator=estimator,\n",
    "                         param_grid=param_grid,\n",
    "                         cv=k_fold,\n",
    "                         scoring='f1')\n",
    "\n",
    "    model.fit(feature_train, target_train)\n",
    "    best_f1 = round(model.best_score_, 2)\n",
    "\n",
    "    print(f\"Best F1: {best_f1}\")\n",
    "    print(f\"Best params: {model.best_params_}\")\n",
    "\n",
    "    return model.best_estimator_, best_f1"
   ]
  },
  {
   "cell_type": "markdown",
   "metadata": {
    "id": "zje02d8x9PPg"
   },
   "source": [
    "### `LogisticRegression`\n",
    "<a name=\"42\"></a> <div style=\"text-align: left\">[Cодержание](#Содержание)</div>"
   ]
  },
  {
   "cell_type": "markdown",
   "metadata": {
    "id": "xBEKbePd9PPh"
   },
   "source": [
    "Классифицируем обучающие данные с помощью модели логистической регрессии ***Logistic Regression*** - `LogisticRegression`. Для автоматизации предварительных преобразований данных перед обучением модели используем функцию `cross_val_score()` ."
   ]
  },
  {
   "cell_type": "code",
   "execution_count": 134,
   "metadata": {
    "colab": {
     "base_uri": "https://localhost:8080/"
    },
    "id": "BTscFAH49PPh",
    "outputId": "748da333-672f-48ba-acec-c5ccd41efdba"
   },
   "outputs": [
    {
     "name": "stdout",
     "output_type": "stream",
     "text": [
      "F1: 0.93\n",
      "CPU times: user 681 ms, sys: 369 ms, total: 1.05 s\n",
      "Wall time: 612 ms\n"
     ]
    }
   ],
   "source": [
    "%%time\n",
    "\n",
    "model_lr = LogisticRegression(random_state=RANDOM_STATE,\n",
    "                              class_weight='balanced')\n",
    "model_lr.fit(feature_train, target_train)\n",
    "\n",
    "f1_lr = cross_val_score(model_lr, feature_train, target_train,\n",
    "                        scoring='f1', cv=4).mean()\n",
    "\n",
    "print('F1:', f'{f1_lr:.2f}')"
   ]
  },
  {
   "cell_type": "markdown",
   "metadata": {
    "id": "1eDQa5cZ9PPi"
   },
   "source": [
    "На обучающей выборке, модель логистической регрессии **`LogisticRegression`**  имеет следующее значение метрики оценки качества:\n",
    "- ***F1 = 0.93***"
   ]
  },
  {
   "cell_type": "markdown",
   "metadata": {
    "id": "4ECYq27y9PPi"
   },
   "source": [
    "### `RandomForestClassifier`\n",
    "<a name=\"43\"></a> <div style=\"text-align: left\">[Cодержание](#Содержание)</div>"
   ]
  },
  {
   "cell_type": "markdown",
   "metadata": {
    "id": "FtU5yIBM9PPj"
   },
   "source": [
    "Построим модель случайного леса ***Random Forest*** - `RandomForestClassifier`."
   ]
  },
  {
   "cell_type": "code",
   "execution_count": 135,
   "metadata": {
    "colab": {
     "base_uri": "https://localhost:8080/"
    },
    "id": "ciZrwEJ69PPk",
    "outputId": "7c7962e8-0184-49a7-d92b-a818eedf8ec5",
    "scrolled": true
   },
   "outputs": [
    {
     "name": "stdout",
     "output_type": "stream",
     "text": [
      "Best F1: 0.94\n",
      "Best params: {'max_depth': 7, 'n_estimators': 60}\n",
      "CPU times: user 11 s, sys: 87.7 ms, total: 11 s\n",
      "Wall time: 11.1 s\n"
     ]
    }
   ],
   "source": [
    "%%time\n",
    "\n",
    "rf_estimator = RandomForestClassifier(random_state=RANDOM_STATE,\n",
    "                                      class_weight='balanced')\n",
    "\n",
    "rf_param_grid = {\n",
    "    # количество деревьев\n",
    "    'n_estimators': list(range(60, 121, 30)),\n",
    "    # максимальная глубина дерева\n",
    "    'max_depth': list(range(2, 13, 5)),\n",
    "}\n",
    "\n",
    "rf_best_model = fit_model(estimator=rf_estimator,\n",
    "                          param_grid=rf_param_grid,\n",
    "                          feature_train=feature_train,\n",
    "                          target_train=target_train)"
   ]
  },
  {
   "cell_type": "markdown",
   "metadata": {
    "id": "1g6DXls29PPl"
   },
   "source": [
    "На обучающей выборке, лучшая модель случайного леса **`RandomForestClassifier`** имеет следующее значение метрики оценки качества:\n",
    "- ***F1 = 0.94***\n",
    "\n",
    "при следующих гиперпараметрах:\n",
    "- глубина дерева: `max_depth` = 7\n",
    "- количество деревьев: `n_estimators` = 60"
   ]
  },
  {
   "cell_type": "markdown",
   "metadata": {
    "id": "4aDS3_z19PPl"
   },
   "source": [
    "### `LGBMClassifier`\n",
    "<a name=\"44\"></a> <div style=\"text-align: left\">[Cодержание](#Содержание)</div>"
   ]
  },
  {
   "cell_type": "markdown",
   "metadata": {
    "id": "d6J982Az9PPm"
   },
   "source": [
    "Построим модель градиентного бустинга ***LightGBM*** - `LGBMClassifier`."
   ]
  },
  {
   "cell_type": "code",
   "execution_count": 136,
   "metadata": {
    "colab": {
     "base_uri": "https://localhost:8080/"
    },
    "id": "rXW8oId69PPm",
    "outputId": "b944808d-785b-4c47-b7b2-8635e0a8d9d3",
    "scrolled": true
   },
   "outputs": [
    {
     "name": "stdout",
     "output_type": "stream",
     "text": [
      "Best F1: 0.94\n",
      "Best params: {'learning_rate': 0.2, 'max_depth': 10, 'n_estimators': 50}\n",
      "CPU times: user 3min, sys: 381 ms, total: 3min 1s\n",
      "Wall time: 3min 1s\n"
     ]
    }
   ],
   "source": [
    "%%time\n",
    "\n",
    "lgbm_estimator = LGBMClassifier(random_state=RANDOM_STATE,\n",
    "                                class_weight='balanced')\n",
    "\n",
    "lgbm_param_grid = {\n",
    "    # количество деревьев (итераций)\n",
    "    \"n_estimators\": range(25, 101, 25),\n",
    "    # максимальная глубина дерева\n",
    "    \"max_depth\": range(5, 16, 5),\n",
    "    # коэффициент скорости обучения (размер шага градиентного спуска)\n",
    "    'learning_rate': [0.15, 0.2, 0.25]\n",
    "}\n",
    "\n",
    "lgbm_best_model = fit_model(estimator=lgbm_estimator,\n",
    "                            param_grid=lgbm_param_grid,\n",
    "                            feature_train=feature_train,\n",
    "                            target_train=target_train)"
   ]
  },
  {
   "cell_type": "markdown",
   "metadata": {
    "id": "FBurXxtK9PPn"
   },
   "source": [
    "На обучающей выборке, лучшая модель градиентного бустинга **`LGBMClassifier`** имеет следующее значение метрики оценки качества:\n",
    "- ***F1 = 0.94***\n",
    "\n",
    "при следующих гиперпараметрах:\n",
    "- глубина дерева: `max_depth` = 10\n",
    "- количество деревьев: `n_estimators` = 50\n",
    "- коэффициент скорости обучения (размер шага градиентного спуска): `learning_rate` = 0.2"
   ]
  },
  {
   "cell_type": "markdown",
   "metadata": {
    "id": "QbPdr-l19PPn"
   },
   "source": [
    "### `CatBoostClassifier`\n",
    "<a name=\"45\"></a> <div style=\"text-align: left\">[Cодержание](#Содержание)</div>"
   ]
  },
  {
   "cell_type": "markdown",
   "metadata": {
    "id": "WJttPpPO9PPo"
   },
   "source": [
    "Построим модель градиентного бустинга ***CatBoost*** - `CatBoostClassifier`.\n",
    "\n",
    "Здесь нужно отметить, что `CatBoostClassifier` создает временные файлы для обучения. \n",
    "\n",
    "Укажем в модели параметр `allow_writing_files=False`, чтобы это предотвратить и не появлялась ошибка о том, что по указанными путям у `CatBoostClassifier` нет доступа к созданию файлов."
   ]
  },
  {
   "cell_type": "code",
   "execution_count": 137,
   "metadata": {
    "colab": {
     "base_uri": "https://localhost:8080/"
    },
    "id": "jP79IfjJ9PPo",
    "outputId": "a07d7f32-1883-4881-eb8c-04418cbcaec4",
    "scrolled": true
   },
   "outputs": [
    {
     "name": "stdout",
     "output_type": "stream",
     "text": [
      "Best F1: 0.92\n",
      "Best params: {'depth': 4, 'iterations': 200, 'learning_rate': 0.15}\n",
      "CPU times: user 37min 58s, sys: 13.4 s, total: 38min 11s\n",
      "Wall time: 23min 27s\n"
     ]
    }
   ],
   "source": [
    "%%time\n",
    "\n",
    "classes = np.unique(target_train)\n",
    "weights = compute_class_weight(class_weight='balanced',\n",
    "                               classes=classes,\n",
    "                               y=target_train)\n",
    "class_weights = dict(zip(classes, weights))\n",
    "\n",
    "catboost_estimator = CatBoostClassifier(random_state=RANDOM_STATE,\n",
    "                                        verbose=False,\n",
    "                                        class_weights=class_weights,\n",
    "                                        allow_writing_files=False)\n",
    "\n",
    "\n",
    "catboost_param_grid = {\n",
    "    # количество итераций\n",
    "    \"iterations\": range(100, 201, 50),\n",
    "    # глубина дерева\n",
    "    \"depth\": range(2, 7, 2),\n",
    "    # коэффициент скорости обучения (размер шага градиентного спуска)\n",
    "    \"learning_rate\": [0.1, 0.15, 0.2]}\n",
    "\n",
    "catboost_best_model = fit_model(estimator=catboost_estimator,\n",
    "                                param_grid=catboost_param_grid,\n",
    "                                feature_train=feature_train,\n",
    "                                target_train=target_train)"
   ]
  },
  {
   "cell_type": "markdown",
   "metadata": {
    "id": "XaCuKpE-9PPp"
   },
   "source": [
    "На обучающей выборке, лучшая модель градиентного бустинга **`CatBoostClassifier`** имеет следующее значение метрики оценки качества:\n",
    "- ***F1 = 0.92***\n",
    "\n",
    "при следующих параметрах:\n",
    "- глубина дерева: `depth` = 4\n",
    "- количество итераций: `iterations` = 200\n",
    "- коэффициент скорости обучения (размер шага градиентного спуска): `learning_rate` = 0.15"
   ]
  },
  {
   "cell_type": "markdown",
   "metadata": {
    "id": "R8uvWVcH9PPq"
   },
   "source": [
    "### Сравнение моделей\n",
    "<a name=\"46\"></a> <div style=\"text-align: left\">[Cодержание](#Содержание)</div>"
   ]
  },
  {
   "cell_type": "markdown",
   "metadata": {
    "id": "4r5jdy5d9PPq"
   },
   "source": [
    "В виде таблицы `table`, выведем значения метрики *F1* разных моделей на обучающей выборке."
   ]
  },
  {
   "cell_type": "code",
   "execution_count": 138,
   "metadata": {
    "colab": {
     "base_uri": "https://localhost:8080/",
     "height": 192
    },
    "id": "_pUoviT19PPr",
    "outputId": "c4f5c350-0e55-4a79-ec6f-1f36367ca266",
    "scrolled": true
   },
   "outputs": [
    {
     "name": "stdout",
     "output_type": "stream",
     "text": [
      "F1 для разных моделей\n"
     ]
    },
    {
     "data": {
      "text/html": [
       "\n",
       "\n",
       "  <div id=\"df-8ec1d82f-447e-43aa-9d74-bbc455bc4a7f\">\n",
       "    <div class=\"colab-df-container\">\n",
       "      <div>\n",
       "<style scoped>\n",
       "    .dataframe tbody tr th:only-of-type {\n",
       "        vertical-align: middle;\n",
       "    }\n",
       "\n",
       "    .dataframe tbody tr th {\n",
       "        vertical-align: top;\n",
       "    }\n",
       "\n",
       "    .dataframe thead th {\n",
       "        text-align: right;\n",
       "    }\n",
       "</style>\n",
       "<table border=\"1\" class=\"dataframe\">\n",
       "  <thead>\n",
       "    <tr style=\"text-align: right;\">\n",
       "      <th></th>\n",
       "      <th>model</th>\n",
       "      <th>F1</th>\n",
       "    </tr>\n",
       "  </thead>\n",
       "  <tbody>\n",
       "    <tr>\n",
       "      <th>0</th>\n",
       "      <td>LogisticRegression</td>\n",
       "      <td>0.93</td>\n",
       "    </tr>\n",
       "    <tr>\n",
       "      <th>1</th>\n",
       "      <td>RandomForestClassifier</td>\n",
       "      <td>0.94</td>\n",
       "    </tr>\n",
       "    <tr>\n",
       "      <th>2</th>\n",
       "      <td>LGBMClassifier</td>\n",
       "      <td>0.94</td>\n",
       "    </tr>\n",
       "    <tr>\n",
       "      <th>3</th>\n",
       "      <td>CatBoostClassifier</td>\n",
       "      <td>0.92</td>\n",
       "    </tr>\n",
       "  </tbody>\n",
       "</table>\n",
       "</div>\n",
       "      <button class=\"colab-df-convert\" onclick=\"convertToInteractive('df-8ec1d82f-447e-43aa-9d74-bbc455bc4a7f')\"\n",
       "              title=\"Convert this dataframe to an interactive table.\"\n",
       "              style=\"display:none;\">\n",
       "\n",
       "  <svg xmlns=\"http://www.w3.org/2000/svg\" height=\"24px\"viewBox=\"0 0 24 24\"\n",
       "       width=\"24px\">\n",
       "    <path d=\"M0 0h24v24H0V0z\" fill=\"none\"/>\n",
       "    <path d=\"M18.56 5.44l.94 2.06.94-2.06 2.06-.94-2.06-.94-.94-2.06-.94 2.06-2.06.94zm-11 1L8.5 8.5l.94-2.06 2.06-.94-2.06-.94L8.5 2.5l-.94 2.06-2.06.94zm10 10l.94 2.06.94-2.06 2.06-.94-2.06-.94-.94-2.06-.94 2.06-2.06.94z\"/><path d=\"M17.41 7.96l-1.37-1.37c-.4-.4-.92-.59-1.43-.59-.52 0-1.04.2-1.43.59L10.3 9.45l-7.72 7.72c-.78.78-.78 2.05 0 2.83L4 21.41c.39.39.9.59 1.41.59.51 0 1.02-.2 1.41-.59l7.78-7.78 2.81-2.81c.8-.78.8-2.07 0-2.86zM5.41 20L4 18.59l7.72-7.72 1.47 1.35L5.41 20z\"/>\n",
       "  </svg>\n",
       "      </button>\n",
       "\n",
       "\n",
       "\n",
       "    <div id=\"df-17ec2ec7-9bcd-4594-861a-ff3778ceb824\">\n",
       "      <button class=\"colab-df-quickchart\" onclick=\"quickchart('df-17ec2ec7-9bcd-4594-861a-ff3778ceb824')\"\n",
       "              title=\"Suggest charts.\"\n",
       "              style=\"display:none;\">\n",
       "\n",
       "<svg xmlns=\"http://www.w3.org/2000/svg\" height=\"24px\"viewBox=\"0 0 24 24\"\n",
       "     width=\"24px\">\n",
       "    <g>\n",
       "        <path d=\"M19 3H5c-1.1 0-2 .9-2 2v14c0 1.1.9 2 2 2h14c1.1 0 2-.9 2-2V5c0-1.1-.9-2-2-2zM9 17H7v-7h2v7zm4 0h-2V7h2v10zm4 0h-2v-4h2v4z\"/>\n",
       "    </g>\n",
       "</svg>\n",
       "      </button>\n",
       "    </div>\n",
       "\n",
       "<style>\n",
       "  .colab-df-quickchart {\n",
       "    background-color: #E8F0FE;\n",
       "    border: none;\n",
       "    border-radius: 50%;\n",
       "    cursor: pointer;\n",
       "    display: none;\n",
       "    fill: #1967D2;\n",
       "    height: 32px;\n",
       "    padding: 0 0 0 0;\n",
       "    width: 32px;\n",
       "  }\n",
       "\n",
       "  .colab-df-quickchart:hover {\n",
       "    background-color: #E2EBFA;\n",
       "    box-shadow: 0px 1px 2px rgba(60, 64, 67, 0.3), 0px 1px 3px 1px rgba(60, 64, 67, 0.15);\n",
       "    fill: #174EA6;\n",
       "  }\n",
       "\n",
       "  [theme=dark] .colab-df-quickchart {\n",
       "    background-color: #3B4455;\n",
       "    fill: #D2E3FC;\n",
       "  }\n",
       "\n",
       "  [theme=dark] .colab-df-quickchart:hover {\n",
       "    background-color: #434B5C;\n",
       "    box-shadow: 0px 1px 3px 1px rgba(0, 0, 0, 0.15);\n",
       "    filter: drop-shadow(0px 1px 2px rgba(0, 0, 0, 0.3));\n",
       "    fill: #FFFFFF;\n",
       "  }\n",
       "</style>\n",
       "\n",
       "    <script>\n",
       "      async function quickchart(key) {\n",
       "        const containerElement = document.querySelector('#' + key);\n",
       "        const charts = await google.colab.kernel.invokeFunction(\n",
       "            'suggestCharts', [key], {});\n",
       "      }\n",
       "    </script>\n",
       "\n",
       "      <script>\n",
       "\n",
       "function displayQuickchartButton(domScope) {\n",
       "  let quickchartButtonEl =\n",
       "    domScope.querySelector('#df-17ec2ec7-9bcd-4594-861a-ff3778ceb824 button.colab-df-quickchart');\n",
       "  quickchartButtonEl.style.display =\n",
       "    google.colab.kernel.accessAllowed ? 'block' : 'none';\n",
       "}\n",
       "\n",
       "        displayQuickchartButton(document);\n",
       "      </script>\n",
       "      <style>\n",
       "    .colab-df-container {\n",
       "      display:flex;\n",
       "      flex-wrap:wrap;\n",
       "      gap: 12px;\n",
       "    }\n",
       "\n",
       "    .colab-df-convert {\n",
       "      background-color: #E8F0FE;\n",
       "      border: none;\n",
       "      border-radius: 50%;\n",
       "      cursor: pointer;\n",
       "      display: none;\n",
       "      fill: #1967D2;\n",
       "      height: 32px;\n",
       "      padding: 0 0 0 0;\n",
       "      width: 32px;\n",
       "    }\n",
       "\n",
       "    .colab-df-convert:hover {\n",
       "      background-color: #E2EBFA;\n",
       "      box-shadow: 0px 1px 2px rgba(60, 64, 67, 0.3), 0px 1px 3px 1px rgba(60, 64, 67, 0.15);\n",
       "      fill: #174EA6;\n",
       "    }\n",
       "\n",
       "    [theme=dark] .colab-df-convert {\n",
       "      background-color: #3B4455;\n",
       "      fill: #D2E3FC;\n",
       "    }\n",
       "\n",
       "    [theme=dark] .colab-df-convert:hover {\n",
       "      background-color: #434B5C;\n",
       "      box-shadow: 0px 1px 3px 1px rgba(0, 0, 0, 0.15);\n",
       "      filter: drop-shadow(0px 1px 2px rgba(0, 0, 0, 0.3));\n",
       "      fill: #FFFFFF;\n",
       "    }\n",
       "  </style>\n",
       "\n",
       "      <script>\n",
       "        const buttonEl =\n",
       "          document.querySelector('#df-8ec1d82f-447e-43aa-9d74-bbc455bc4a7f button.colab-df-convert');\n",
       "        buttonEl.style.display =\n",
       "          google.colab.kernel.accessAllowed ? 'block' : 'none';\n",
       "\n",
       "        async function convertToInteractive(key) {\n",
       "          const element = document.querySelector('#df-8ec1d82f-447e-43aa-9d74-bbc455bc4a7f');\n",
       "          const dataTable =\n",
       "            await google.colab.kernel.invokeFunction('convertToInteractive',\n",
       "                                                     [key], {});\n",
       "          if (!dataTable) return;\n",
       "\n",
       "          const docLinkHtml = 'Like what you see? Visit the ' +\n",
       "            '<a target=\"_blank\" href=https://colab.research.google.com/notebooks/data_table.ipynb>data table notebook</a>'\n",
       "            + ' to learn more about interactive tables.';\n",
       "          element.innerHTML = '';\n",
       "          dataTable['output_type'] = 'display_data';\n",
       "          await google.colab.output.renderOutput(dataTable, element);\n",
       "          const docLink = document.createElement('div');\n",
       "          docLink.innerHTML = docLinkHtml;\n",
       "          element.appendChild(docLink);\n",
       "        }\n",
       "      </script>\n",
       "    </div>\n",
       "  </div>\n"
      ],
      "text/plain": [
       "                    model    F1\n",
       "0      LogisticRegression  0.93\n",
       "1  RandomForestClassifier  0.94\n",
       "2          LGBMClassifier  0.94\n",
       "3      CatBoostClassifier  0.92"
      ]
     },
     "execution_count": 138,
     "metadata": {},
     "output_type": "execute_result"
    }
   ],
   "source": [
    "table = pd.DataFrame([\n",
    "     ['LogisticRegression', f'{f1_lr:.2f}'],\n",
    "     ['RandomForestClassifier', f'{rf_best_model[1]:.2f}'],\n",
    "     ['LGBMClassifier', f'{lgbm_best_model[1]:.2f}' ],\n",
    "     ['CatBoostClassifier', f'{catboost_best_model[1]:.2f}']\n",
    "    ],\n",
    "columns=['model', 'F1'])\n",
    "\n",
    "print('F1 для разных моделей')\n",
    "table"
   ]
  },
  {
   "cell_type": "markdown",
   "metadata": {
    "id": "7tuOT0Jt9PPs"
   },
   "source": [
    "В качестве лучшей, выберем модель градиентного бустинга **`LGBMClassifier`**, со значением метрики ***F1 = 0.94***."
   ]
  },
  {
   "cell_type": "markdown",
   "metadata": {
    "id": "NzA6h9FP9PPs"
   },
   "source": [
    "### Тестирование лучшей модели\n",
    "<a name=\"47\"></a> <div style=\"text-align: left\">[Cодержание](#Содержание)</div>"
   ]
  },
  {
   "cell_type": "markdown",
   "metadata": {
    "id": "zqgbq_s39PPt"
   },
   "source": [
    "Проверим на тестовой выборке качество выбранной модели градиентного бустинга **`LGBMClassifier`**."
   ]
  },
  {
   "cell_type": "code",
   "execution_count": 139,
   "metadata": {
    "colab": {
     "base_uri": "https://localhost:8080/"
    },
    "id": "I8BWol1a9PPt",
    "outputId": "da3caf48-224a-47b4-9ad8-681b38782999",
    "scrolled": true
   },
   "outputs": [
    {
     "name": "stdout",
     "output_type": "stream",
     "text": [
      "F1 на тестовой выборке: 0.95\n"
     ]
    }
   ],
   "source": [
    "f1_lgbm_test = f1_score(target_test, lgbm_best_model[0].predict(feature_test))\n",
    "print('F1 на тестовой выборке:', f'{f1_lgbm_test:.2f}')"
   ]
  },
  {
   "cell_type": "markdown",
   "metadata": {
    "id": "NA4PP_OI9PPu"
   },
   "source": [
    "На тестовой выборке, лучшая модель градиентного бустинга **`LGBMClassifier`** имеет следующее значение метрики оценки качества:\n",
    "- ***F1 = 0.95***\n",
    "\n",
    "Видно, что по сравнению с обучающей выборкой, качество на тестовой не ухудшилось.\n",
    "\n",
    "Также, значение метрики *F1* на тестовой выборке 0.95 > 0.75, что соответствует требованию в условии задачи проекта."
   ]
  },
  {
   "cell_type": "markdown",
   "metadata": {
    "id": "DBVzsVDB9PPv"
   },
   "source": [
    "### Вывод\n",
    "<a name=\"48\"></a> <div style=\"text-align: left\">[Cодержание](#Содержание)</div>"
   ]
  },
  {
   "cell_type": "markdown",
   "metadata": {
    "id": "nVgBnUqt9PPv"
   },
   "source": [
    "В разделе [**Обучение и тестирование моделей**](#Обучение-и-тестирование-моделей) были выполнены следующие задачи:\n",
    "1. написана функция `fit_model()` для обучения и вычисления метрики *F1* для моделей с использованием `GridSearchCV`;\n",
    "2. обучено четыре модели: `LogisticRegression`, `RandomForestClassifier`, `LGBMClassifier` и `CatBoostClassifier` с различными гиперпараметрами;\n",
    "3. выбрана лучшая модель, её качество проверено на тестовой выборке.\n",
    "\n",
    "В результате выполнения задач этого раздела было выявлено следующее:\n",
    "1. В качестве лучшей выбрана модель **`LGBMClassifier`**, у которой на обучающей выборке значение метрики оценки качества ***F1 = 0,94***.\n",
    "2. Лучшая модель градиентного бустинга **`LGBMClassifier`** на тестовой выборке имеет следующее значение метрики оценки качества:\n",
    "- ***F1 = 0.95***\n",
    "\n",
    "По сравнению с обучающей выборкой, качество лучшей модели на тестовой выборке не ухудшилось.\n",
    "\n",
    "Значение метрики *F1* на тестовой выборке превышает 0.75, что соответствует требованию в условии задачи проекта."
   ]
  },
  {
   "cell_type": "markdown",
   "metadata": {
    "id": "xeBIeHb89PPw"
   },
   "source": [
    "## Общий вывод\n",
    "<a name=\"5\"></a> <div style=\"text-align: left\">[Cодержание](#Содержание)</div>"
   ]
  },
  {
   "cell_type": "markdown",
   "metadata": {
    "id": "3psM1ViD9PPx"
   },
   "source": [
    "Нами проведено исследование, с целью построения модели машинного обучения, которая поможет классифицировать комментарии на позитивные и негативные. \n",
    "\n",
    "Поставленная задача была решена с помощью **нейронной сети *BERT***.\n",
    "\n",
    "Входные данными был набор данных с разметкой о токсичности правок.\n",
    "\n",
    "В разделе [**подготовки данных**](#Подготовка-данных) данные сначала были изучены, было выявлено, что:\n",
    "\n",
    "1. пропуски в данных отсутствовали;\n",
    "2. типы данных соответствовали их содержанию;\n",
    "3. датасет имел большой размер и содержал 159 292 текстовых комментария;\n",
    "4. явных дубликаты отсутствовали;\n",
    "5. наблюдался сильный дисбаланс классов в таргете.\n",
    "\n",
    "После изучения, данные были сэмплированы, взята выборка из 1000 случайных элементов. Далее, сэмплированная выборка разделена на обучающую и тестовую выборки в пропорции 4:1. Затем создана функция, благодаря которой были получены эмбеддинги, для обучения и тестирования. Таким образом, данные были подготовлены для обучения моделей.\n",
    "\n",
    "В разделе [**обучения и тестирования моделей**](#Обучение-и-тестирование-моделей) перед обучением моделей была написана функция для обучения и вычисления метрики *F1* - для моделей с использованием `GridSearchCV`. Затем были обучены четыре модели: `LogisticRegression`, `RandomForestClassifier`, `LGBMClassifier` и `CatBoostClassifier` с различными гиперпараметрами.\n",
    "\n",
    "\n",
    "В ходе исследования удалось получить следующие результаты **на обучающей выборке**:\n",
    "\n",
    "\n",
    "1. Модель логистической регрессии **`LogisticRegression`** имеет следующее значение метрики оценки качества:\n",
    "    - ***F1 = 0.93***\n",
    "\n",
    "\n",
    "2. Лучшая модель случайного леса **`RandomForestClassifier`** имеет следующее значение метрики оценки качества:\n",
    "    - ***F1 = 0.94***\n",
    "\n",
    "   при следующих параметрах:\n",
    "    - глубина дерева: `max_depth` = 7\n",
    "    - количество деревьев: `n_estimators` = 60\n",
    "\n",
    "\n",
    "3. Лучшая модель градиентного бустинга **`LGBMClassifier`** имеет следующее значение метрики оценки качества:\n",
    "    - ***F1 = 0.94***\n",
    "\n",
    "   при следующих параметрах:\n",
    "    - глубина дерева: `max_depth` = 10\n",
    "    - количество деревьев: `n_estimators` = 50\n",
    "    - коэффициент скорости обучения (размер шага градиентного спуска): `learning_rate` = 0.2\n",
    "\n",
    "\n",
    "4. Лучшая модель градиентного бустинга **`CatBoostClassifier`** имеет следующее значение метрики оценки качества:\n",
    "    - ***F1 = 0.92***\n",
    "\n",
    "   при следующих параметрах:\n",
    "    - глубина дерева: `depth` = 4\n",
    "    - количество итераций: `iterations` = 200\n",
    "    - коэффициент скорости обучения (размер шага градиентного спуска): `learning_rate` = 0.15\n",
    "    \n",
    "\n",
    "После обучения всех моделей, была создана [**сводная таблица**](#Сравнение-моделей) и в качестве лучшей выбрана модель **`LGBMClassifier`**, у которой на обучающей выборке значение метрики оценки качества ***F1 = 0,94***.\n",
    "\n",
    "Затем качество лучшей модели было [**проверено на тестовой выборке**](#Тестирование-лучшей-модели). Лучшая модель градиентного бустинга **`LGBMClassifier`** на тестовой выборке имеет значение метрики оценки качества ***F1 = 0.95***\n",
    "\n",
    "По сравнению с обучающей выборкой, качество лучшей модели на тестовой выборке не ухудшилось.\n",
    "\n",
    "_____________________ ______________________ ______________________      \n",
    "Исходя из полученных результатов, можно сделать следующие **выводы**:\n",
    "\n",
    "\n",
    "1. В качестве лучшей модели выбрана модель **градиентного бустинга `LGBMClassifier`**, которая **на тестовой выборке** имеет следующее значение метрики оценки качества  - ***F1 = 0.95***\n",
    "\n",
    "   \n",
    "2. Для выбранной лучшей модели значение метрики качества ***F1* превышает 0.75**, что соответсвует требованию в условии задачи проекта.\n",
    "   \n",
    "______________________ ______________________ ______________________   \n",
    "**Общие рекомендации:**\n",
    "\n",
    "Магазину можно рекомендовать использовать полученную модель **`LGBMClassifier`** в качестве инструмента, который будет искать токсичные комментарии и отправлять их на модерацию.\n",
    "\n",
    "Результаты исследования позволят магазину искать токсичные комментарии и отправлять их на модерацию.\n",
    "______________________ ______________________ ______________________\n",
    "На этом мы заканчиваем и благодарим вас за внимание. Надеемся, что наше исследование вам понравилось и поможет сделать правильные выводы, принять правильные решения."
   ]
  }
 ],
 "metadata": {
  "ExecuteTimeLog": [
   {
    "duration": 106,
    "start_time": "2023-07-26T12:31:12.346Z"
   }
  ],
  "colab": {
   "provenance": []
  },
  "kernelspec": {
   "display_name": "Python 3 (ipykernel)",
   "language": "python",
   "name": "python3"
  },
  "language_info": {
   "codemirror_mode": {
    "name": "ipython",
    "version": 3
   },
   "file_extension": ".py",
   "mimetype": "text/x-python",
   "name": "python",
   "nbconvert_exporter": "python",
   "pygments_lexer": "ipython3",
   "version": "3.9.13"
  },
  "toc": {
   "base_numbering": 1,
   "nav_menu": {
    "height": "233px",
    "width": "285px"
   },
   "number_sections": true,
   "sideBar": true,
   "skip_h1_title": true,
   "title_cell": "Содержание",
   "title_sidebar": "Contents",
   "toc_cell": true,
   "toc_position": {
    "height": "calc(100% - 180px)",
    "left": "10px",
    "top": "150px",
    "width": "302.391px"
   },
   "toc_section_display": true,
   "toc_window_display": false
  },
  "widgets": {
   "application/vnd.jupyter.widget-state+json": {
    "146afc85637d4549b3f001eeb558a58a": {
     "model_module": "@jupyter-widgets/base",
     "model_module_version": "1.2.0",
     "model_name": "LayoutModel",
     "state": {
      "_model_module": "@jupyter-widgets/base",
      "_model_module_version": "1.2.0",
      "_model_name": "LayoutModel",
      "_view_count": null,
      "_view_module": "@jupyter-widgets/base",
      "_view_module_version": "1.2.0",
      "_view_name": "LayoutView",
      "align_content": null,
      "align_items": null,
      "align_self": null,
      "border": null,
      "bottom": null,
      "display": null,
      "flex": null,
      "flex_flow": null,
      "grid_area": null,
      "grid_auto_columns": null,
      "grid_auto_flow": null,
      "grid_auto_rows": null,
      "grid_column": null,
      "grid_gap": null,
      "grid_row": null,
      "grid_template_areas": null,
      "grid_template_columns": null,
      "grid_template_rows": null,
      "height": null,
      "justify_content": null,
      "justify_items": null,
      "left": null,
      "margin": null,
      "max_height": null,
      "max_width": null,
      "min_height": null,
      "min_width": null,
      "object_fit": null,
      "object_position": null,
      "order": null,
      "overflow": null,
      "overflow_x": null,
      "overflow_y": null,
      "padding": null,
      "right": null,
      "top": null,
      "visibility": null,
      "width": null
     }
    },
    "221dba0d0ed5479a801e450e3f8ca16c": {
     "model_module": "@jupyter-widgets/controls",
     "model_module_version": "1.5.0",
     "model_name": "HTMLModel",
     "state": {
      "_dom_classes": [],
      "_model_module": "@jupyter-widgets/controls",
      "_model_module_version": "1.5.0",
      "_model_name": "HTMLModel",
      "_view_count": null,
      "_view_module": "@jupyter-widgets/controls",
      "_view_module_version": "1.5.0",
      "_view_name": "HTMLView",
      "description": "",
      "description_tooltip": null,
      "layout": "IPY_MODEL_c11a4db28f8b45f4a47dab16f3a2d8b2",
      "placeholder": "​",
      "style": "IPY_MODEL_6b218dd6a2544b27ae5e98bad97010ba",
      "value": " 40/40 [31:31&lt;00:00, 48.10s/it]"
     }
    },
    "229edb39a81b4a028354c655e4b90541": {
     "model_module": "@jupyter-widgets/base",
     "model_module_version": "1.2.0",
     "model_name": "LayoutModel",
     "state": {
      "_model_module": "@jupyter-widgets/base",
      "_model_module_version": "1.2.0",
      "_model_name": "LayoutModel",
      "_view_count": null,
      "_view_module": "@jupyter-widgets/base",
      "_view_module_version": "1.2.0",
      "_view_name": "LayoutView",
      "align_content": null,
      "align_items": null,
      "align_self": null,
      "border": null,
      "bottom": null,
      "display": null,
      "flex": null,
      "flex_flow": null,
      "grid_area": null,
      "grid_auto_columns": null,
      "grid_auto_flow": null,
      "grid_auto_rows": null,
      "grid_column": null,
      "grid_gap": null,
      "grid_row": null,
      "grid_template_areas": null,
      "grid_template_columns": null,
      "grid_template_rows": null,
      "height": null,
      "justify_content": null,
      "justify_items": null,
      "left": null,
      "margin": null,
      "max_height": null,
      "max_width": null,
      "min_height": null,
      "min_width": null,
      "object_fit": null,
      "object_position": null,
      "order": null,
      "overflow": null,
      "overflow_x": null,
      "overflow_y": null,
      "padding": null,
      "right": null,
      "top": null,
      "visibility": null,
      "width": null
     }
    },
    "33ba4ff3c14f4b0ca5f056bb403091bf": {
     "model_module": "@jupyter-widgets/controls",
     "model_module_version": "1.5.0",
     "model_name": "HTMLModel",
     "state": {
      "_dom_classes": [],
      "_model_module": "@jupyter-widgets/controls",
      "_model_module_version": "1.5.0",
      "_model_name": "HTMLModel",
      "_view_count": null,
      "_view_module": "@jupyter-widgets/controls",
      "_view_module_version": "1.5.0",
      "_view_name": "HTMLView",
      "description": "",
      "description_tooltip": null,
      "layout": "IPY_MODEL_7331a0c666ba4e0388673784910f75a0",
      "placeholder": "​",
      "style": "IPY_MODEL_722bdd16a1834020953a759608dd4cef",
      "value": "100%"
     }
    },
    "3556dd77ae554ae2a3baebe3406bd6cb": {
     "model_module": "@jupyter-widgets/base",
     "model_module_version": "1.2.0",
     "model_name": "LayoutModel",
     "state": {
      "_model_module": "@jupyter-widgets/base",
      "_model_module_version": "1.2.0",
      "_model_name": "LayoutModel",
      "_view_count": null,
      "_view_module": "@jupyter-widgets/base",
      "_view_module_version": "1.2.0",
      "_view_name": "LayoutView",
      "align_content": null,
      "align_items": null,
      "align_self": null,
      "border": null,
      "bottom": null,
      "display": null,
      "flex": null,
      "flex_flow": null,
      "grid_area": null,
      "grid_auto_columns": null,
      "grid_auto_flow": null,
      "grid_auto_rows": null,
      "grid_column": null,
      "grid_gap": null,
      "grid_row": null,
      "grid_template_areas": null,
      "grid_template_columns": null,
      "grid_template_rows": null,
      "height": null,
      "justify_content": null,
      "justify_items": null,
      "left": null,
      "margin": null,
      "max_height": null,
      "max_width": null,
      "min_height": null,
      "min_width": null,
      "object_fit": null,
      "object_position": null,
      "order": null,
      "overflow": null,
      "overflow_x": null,
      "overflow_y": null,
      "padding": null,
      "right": null,
      "top": null,
      "visibility": null,
      "width": null
     }
    },
    "35d87ffee7624277afec140eb17ca86f": {
     "model_module": "@jupyter-widgets/controls",
     "model_module_version": "1.5.0",
     "model_name": "DescriptionStyleModel",
     "state": {
      "_model_module": "@jupyter-widgets/controls",
      "_model_module_version": "1.5.0",
      "_model_name": "DescriptionStyleModel",
      "_view_count": null,
      "_view_module": "@jupyter-widgets/base",
      "_view_module_version": "1.2.0",
      "_view_name": "StyleView",
      "description_width": ""
     }
    },
    "4de9ae4f528546e494091fc9981e18aa": {
     "model_module": "@jupyter-widgets/base",
     "model_module_version": "1.2.0",
     "model_name": "LayoutModel",
     "state": {
      "_model_module": "@jupyter-widgets/base",
      "_model_module_version": "1.2.0",
      "_model_name": "LayoutModel",
      "_view_count": null,
      "_view_module": "@jupyter-widgets/base",
      "_view_module_version": "1.2.0",
      "_view_name": "LayoutView",
      "align_content": null,
      "align_items": null,
      "align_self": null,
      "border": null,
      "bottom": null,
      "display": null,
      "flex": null,
      "flex_flow": null,
      "grid_area": null,
      "grid_auto_columns": null,
      "grid_auto_flow": null,
      "grid_auto_rows": null,
      "grid_column": null,
      "grid_gap": null,
      "grid_row": null,
      "grid_template_areas": null,
      "grid_template_columns": null,
      "grid_template_rows": null,
      "height": null,
      "justify_content": null,
      "justify_items": null,
      "left": null,
      "margin": null,
      "max_height": null,
      "max_width": null,
      "min_height": null,
      "min_width": null,
      "object_fit": null,
      "object_position": null,
      "order": null,
      "overflow": null,
      "overflow_x": null,
      "overflow_y": null,
      "padding": null,
      "right": null,
      "top": null,
      "visibility": null,
      "width": null
     }
    },
    "4e34b8e4e55d42959c6d32ddf0352a48": {
     "model_module": "@jupyter-widgets/base",
     "model_module_version": "1.2.0",
     "model_name": "LayoutModel",
     "state": {
      "_model_module": "@jupyter-widgets/base",
      "_model_module_version": "1.2.0",
      "_model_name": "LayoutModel",
      "_view_count": null,
      "_view_module": "@jupyter-widgets/base",
      "_view_module_version": "1.2.0",
      "_view_name": "LayoutView",
      "align_content": null,
      "align_items": null,
      "align_self": null,
      "border": null,
      "bottom": null,
      "display": null,
      "flex": null,
      "flex_flow": null,
      "grid_area": null,
      "grid_auto_columns": null,
      "grid_auto_flow": null,
      "grid_auto_rows": null,
      "grid_column": null,
      "grid_gap": null,
      "grid_row": null,
      "grid_template_areas": null,
      "grid_template_columns": null,
      "grid_template_rows": null,
      "height": null,
      "justify_content": null,
      "justify_items": null,
      "left": null,
      "margin": null,
      "max_height": null,
      "max_width": null,
      "min_height": null,
      "min_width": null,
      "object_fit": null,
      "object_position": null,
      "order": null,
      "overflow": null,
      "overflow_x": null,
      "overflow_y": null,
      "padding": null,
      "right": null,
      "top": null,
      "visibility": null,
      "width": null
     }
    },
    "5269ecda415d4642a998034d1d246569": {
     "model_module": "@jupyter-widgets/controls",
     "model_module_version": "1.5.0",
     "model_name": "HBoxModel",
     "state": {
      "_dom_classes": [],
      "_model_module": "@jupyter-widgets/controls",
      "_model_module_version": "1.5.0",
      "_model_name": "HBoxModel",
      "_view_count": null,
      "_view_module": "@jupyter-widgets/controls",
      "_view_module_version": "1.5.0",
      "_view_name": "HBoxView",
      "box_style": "",
      "children": [
       "IPY_MODEL_59d1c37a65f84d048c497ac8a2b49d85",
       "IPY_MODEL_773fad8f925a41429e3f1ad2c79c19f4",
       "IPY_MODEL_d5efb55c100045a5a53f1166b6e3e677"
      ],
      "layout": "IPY_MODEL_146afc85637d4549b3f001eeb558a58a"
     }
    },
    "59d1c37a65f84d048c497ac8a2b49d85": {
     "model_module": "@jupyter-widgets/controls",
     "model_module_version": "1.5.0",
     "model_name": "HTMLModel",
     "state": {
      "_dom_classes": [],
      "_model_module": "@jupyter-widgets/controls",
      "_model_module_version": "1.5.0",
      "_model_name": "HTMLModel",
      "_view_count": null,
      "_view_module": "@jupyter-widgets/controls",
      "_view_module_version": "1.5.0",
      "_view_name": "HTMLView",
      "description": "",
      "description_tooltip": null,
      "layout": "IPY_MODEL_229edb39a81b4a028354c655e4b90541",
      "placeholder": "​",
      "style": "IPY_MODEL_35d87ffee7624277afec140eb17ca86f",
      "value": "100%"
     }
    },
    "65af9692345b410599e96f14e374ceab": {
     "model_module": "@jupyter-widgets/base",
     "model_module_version": "1.2.0",
     "model_name": "LayoutModel",
     "state": {
      "_model_module": "@jupyter-widgets/base",
      "_model_module_version": "1.2.0",
      "_model_name": "LayoutModel",
      "_view_count": null,
      "_view_module": "@jupyter-widgets/base",
      "_view_module_version": "1.2.0",
      "_view_name": "LayoutView",
      "align_content": null,
      "align_items": null,
      "align_self": null,
      "border": null,
      "bottom": null,
      "display": null,
      "flex": null,
      "flex_flow": null,
      "grid_area": null,
      "grid_auto_columns": null,
      "grid_auto_flow": null,
      "grid_auto_rows": null,
      "grid_column": null,
      "grid_gap": null,
      "grid_row": null,
      "grid_template_areas": null,
      "grid_template_columns": null,
      "grid_template_rows": null,
      "height": null,
      "justify_content": null,
      "justify_items": null,
      "left": null,
      "margin": null,
      "max_height": null,
      "max_width": null,
      "min_height": null,
      "min_width": null,
      "object_fit": null,
      "object_position": null,
      "order": null,
      "overflow": null,
      "overflow_x": null,
      "overflow_y": null,
      "padding": null,
      "right": null,
      "top": null,
      "visibility": null,
      "width": null
     }
    },
    "6b218dd6a2544b27ae5e98bad97010ba": {
     "model_module": "@jupyter-widgets/controls",
     "model_module_version": "1.5.0",
     "model_name": "DescriptionStyleModel",
     "state": {
      "_model_module": "@jupyter-widgets/controls",
      "_model_module_version": "1.5.0",
      "_model_name": "DescriptionStyleModel",
      "_view_count": null,
      "_view_module": "@jupyter-widgets/base",
      "_view_module_version": "1.2.0",
      "_view_name": "StyleView",
      "description_width": ""
     }
    },
    "722bdd16a1834020953a759608dd4cef": {
     "model_module": "@jupyter-widgets/controls",
     "model_module_version": "1.5.0",
     "model_name": "DescriptionStyleModel",
     "state": {
      "_model_module": "@jupyter-widgets/controls",
      "_model_module_version": "1.5.0",
      "_model_name": "DescriptionStyleModel",
      "_view_count": null,
      "_view_module": "@jupyter-widgets/base",
      "_view_module_version": "1.2.0",
      "_view_name": "StyleView",
      "description_width": ""
     }
    },
    "7331a0c666ba4e0388673784910f75a0": {
     "model_module": "@jupyter-widgets/base",
     "model_module_version": "1.2.0",
     "model_name": "LayoutModel",
     "state": {
      "_model_module": "@jupyter-widgets/base",
      "_model_module_version": "1.2.0",
      "_model_name": "LayoutModel",
      "_view_count": null,
      "_view_module": "@jupyter-widgets/base",
      "_view_module_version": "1.2.0",
      "_view_name": "LayoutView",
      "align_content": null,
      "align_items": null,
      "align_self": null,
      "border": null,
      "bottom": null,
      "display": null,
      "flex": null,
      "flex_flow": null,
      "grid_area": null,
      "grid_auto_columns": null,
      "grid_auto_flow": null,
      "grid_auto_rows": null,
      "grid_column": null,
      "grid_gap": null,
      "grid_row": null,
      "grid_template_areas": null,
      "grid_template_columns": null,
      "grid_template_rows": null,
      "height": null,
      "justify_content": null,
      "justify_items": null,
      "left": null,
      "margin": null,
      "max_height": null,
      "max_width": null,
      "min_height": null,
      "min_width": null,
      "object_fit": null,
      "object_position": null,
      "order": null,
      "overflow": null,
      "overflow_x": null,
      "overflow_y": null,
      "padding": null,
      "right": null,
      "top": null,
      "visibility": null,
      "width": null
     }
    },
    "748867d982aa426dbe8e5fc031613621": {
     "model_module": "@jupyter-widgets/controls",
     "model_module_version": "1.5.0",
     "model_name": "ProgressStyleModel",
     "state": {
      "_model_module": "@jupyter-widgets/controls",
      "_model_module_version": "1.5.0",
      "_model_name": "ProgressStyleModel",
      "_view_count": null,
      "_view_module": "@jupyter-widgets/base",
      "_view_module_version": "1.2.0",
      "_view_name": "StyleView",
      "bar_color": null,
      "description_width": ""
     }
    },
    "773fad8f925a41429e3f1ad2c79c19f4": {
     "model_module": "@jupyter-widgets/controls",
     "model_module_version": "1.5.0",
     "model_name": "FloatProgressModel",
     "state": {
      "_dom_classes": [],
      "_model_module": "@jupyter-widgets/controls",
      "_model_module_version": "1.5.0",
      "_model_name": "FloatProgressModel",
      "_view_count": null,
      "_view_module": "@jupyter-widgets/controls",
      "_view_module_version": "1.5.0",
      "_view_name": "ProgressView",
      "bar_style": "success",
      "description": "",
      "description_tooltip": null,
      "layout": "IPY_MODEL_65af9692345b410599e96f14e374ceab",
      "max": 10,
      "min": 0,
      "orientation": "horizontal",
      "style": "IPY_MODEL_748867d982aa426dbe8e5fc031613621",
      "value": 10
     }
    },
    "8a2de78d1cb8479fabe238fc7a0c6d1f": {
     "model_module": "@jupyter-widgets/controls",
     "model_module_version": "1.5.0",
     "model_name": "DescriptionStyleModel",
     "state": {
      "_model_module": "@jupyter-widgets/controls",
      "_model_module_version": "1.5.0",
      "_model_name": "DescriptionStyleModel",
      "_view_count": null,
      "_view_module": "@jupyter-widgets/base",
      "_view_module_version": "1.2.0",
      "_view_name": "StyleView",
      "description_width": ""
     }
    },
    "aea3b55544134141bd10cb631d63ebc5": {
     "model_module": "@jupyter-widgets/controls",
     "model_module_version": "1.5.0",
     "model_name": "HBoxModel",
     "state": {
      "_dom_classes": [],
      "_model_module": "@jupyter-widgets/controls",
      "_model_module_version": "1.5.0",
      "_model_name": "HBoxModel",
      "_view_count": null,
      "_view_module": "@jupyter-widgets/controls",
      "_view_module_version": "1.5.0",
      "_view_name": "HBoxView",
      "box_style": "",
      "children": [
       "IPY_MODEL_33ba4ff3c14f4b0ca5f056bb403091bf",
       "IPY_MODEL_fea610506e224ae5b96da9f5c34903b5",
       "IPY_MODEL_221dba0d0ed5479a801e450e3f8ca16c"
      ],
      "layout": "IPY_MODEL_4e34b8e4e55d42959c6d32ddf0352a48"
     }
    },
    "c11a4db28f8b45f4a47dab16f3a2d8b2": {
     "model_module": "@jupyter-widgets/base",
     "model_module_version": "1.2.0",
     "model_name": "LayoutModel",
     "state": {
      "_model_module": "@jupyter-widgets/base",
      "_model_module_version": "1.2.0",
      "_model_name": "LayoutModel",
      "_view_count": null,
      "_view_module": "@jupyter-widgets/base",
      "_view_module_version": "1.2.0",
      "_view_name": "LayoutView",
      "align_content": null,
      "align_items": null,
      "align_self": null,
      "border": null,
      "bottom": null,
      "display": null,
      "flex": null,
      "flex_flow": null,
      "grid_area": null,
      "grid_auto_columns": null,
      "grid_auto_flow": null,
      "grid_auto_rows": null,
      "grid_column": null,
      "grid_gap": null,
      "grid_row": null,
      "grid_template_areas": null,
      "grid_template_columns": null,
      "grid_template_rows": null,
      "height": null,
      "justify_content": null,
      "justify_items": null,
      "left": null,
      "margin": null,
      "max_height": null,
      "max_width": null,
      "min_height": null,
      "min_width": null,
      "object_fit": null,
      "object_position": null,
      "order": null,
      "overflow": null,
      "overflow_x": null,
      "overflow_y": null,
      "padding": null,
      "right": null,
      "top": null,
      "visibility": null,
      "width": null
     }
    },
    "d5efb55c100045a5a53f1166b6e3e677": {
     "model_module": "@jupyter-widgets/controls",
     "model_module_version": "1.5.0",
     "model_name": "HTMLModel",
     "state": {
      "_dom_classes": [],
      "_model_module": "@jupyter-widgets/controls",
      "_model_module_version": "1.5.0",
      "_model_name": "HTMLModel",
      "_view_count": null,
      "_view_module": "@jupyter-widgets/controls",
      "_view_module_version": "1.5.0",
      "_view_name": "HTMLView",
      "description": "",
      "description_tooltip": null,
      "layout": "IPY_MODEL_4de9ae4f528546e494091fc9981e18aa",
      "placeholder": "​",
      "style": "IPY_MODEL_8a2de78d1cb8479fabe238fc7a0c6d1f",
      "value": " 10/10 [06:38&lt;00:00, 39.72s/it]"
     }
    },
    "fb979c00f15547eb8c8c541806887f96": {
     "model_module": "@jupyter-widgets/controls",
     "model_module_version": "1.5.0",
     "model_name": "ProgressStyleModel",
     "state": {
      "_model_module": "@jupyter-widgets/controls",
      "_model_module_version": "1.5.0",
      "_model_name": "ProgressStyleModel",
      "_view_count": null,
      "_view_module": "@jupyter-widgets/base",
      "_view_module_version": "1.2.0",
      "_view_name": "StyleView",
      "bar_color": null,
      "description_width": ""
     }
    },
    "fea610506e224ae5b96da9f5c34903b5": {
     "model_module": "@jupyter-widgets/controls",
     "model_module_version": "1.5.0",
     "model_name": "FloatProgressModel",
     "state": {
      "_dom_classes": [],
      "_model_module": "@jupyter-widgets/controls",
      "_model_module_version": "1.5.0",
      "_model_name": "FloatProgressModel",
      "_view_count": null,
      "_view_module": "@jupyter-widgets/controls",
      "_view_module_version": "1.5.0",
      "_view_name": "ProgressView",
      "bar_style": "success",
      "description": "",
      "description_tooltip": null,
      "layout": "IPY_MODEL_3556dd77ae554ae2a3baebe3406bd6cb",
      "max": 40,
      "min": 0,
      "orientation": "horizontal",
      "style": "IPY_MODEL_fb979c00f15547eb8c8c541806887f96",
      "value": 40
     }
    }
   }
  }
 },
 "nbformat": 4,
 "nbformat_minor": 1
}
