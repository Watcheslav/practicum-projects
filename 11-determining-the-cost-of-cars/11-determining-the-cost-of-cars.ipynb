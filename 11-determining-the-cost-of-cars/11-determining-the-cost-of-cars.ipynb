{
 "cells": [
  {
   "cell_type": "markdown",
   "metadata": {},
   "source": [
    "# Определение стоимости автомобилей"
   ]
  },
  {
   "cell_type": "markdown",
   "metadata": {},
   "source": [
    "<a name=\"1\"></a>\n",
    "## Содержание"
   ]
  },
  {
   "cell_type": "markdown",
   "metadata": {},
   "source": [
    "[1. Содержание](#1)\n",
    "\n",
    "[2. Описание проекта](#2)\n",
    "\n",
    "*    [2.1. Цель проекта](#21)\n",
    "*    [2.2. Задачи проекта](#22)\n",
    "*    [2.3. Описание данных](#23)\n",
    "*    [2.4. План работы](#24)\n",
    "\n",
    "[3. Исследование данных](#3)\n",
    "\n",
    "*    [3.1. Изучение данных](#31)\n",
    "*    [3.2. Удаление признаков](#32)\n",
    "*    [3.3. Исследование данных после первичной предобработки](#33)\n",
    "*    [3.4. Обработка аномалий](#34)\n",
    "*    [3.5. Обработка пропусков](#35)\n",
    "*    [3.6. Исследование данных после итоговой предобработки](#36)\n",
    "*    [3.7. Вывод](#37)\n",
    "\n",
    "[4. Подготовка данных к обучению](#4)\n",
    "\n",
    "*    [4.1. Разделение данных на выборки](#41)\n",
    "*    [4.2. Кодирование категориальных признаков](#42)\n",
    "*    [4.3. Масштабирование численных признаков](#43)\n",
    "\n",
    "   *    [4.3.1. Для моделей `LGBMRegressor` и `RandomForestRegressor`](#431)\n",
    "   *    [4.3.2. Для модели `CatBoostRegressor`](#432)\n",
    "        \n",
    "*    [4.4. Вывод](#44)\n",
    "\n",
    "[5. Обучение моделей](#5)\n",
    "\n",
    "*    [5.1. `RandomForestRegressor` + `GridSearchCV`](#51)\n",
    "*    [5.2. `LGBMRegressor`](#52)\n",
    "*    [5.3. `LGBMRegressor` + `GridSearchCV`](#53)\n",
    "*    [5.4. `CatBoostRegressor`](#54)\n",
    "*    [5.5. `CatBoostRegressor` + `GridSearchCV`](#55)\n",
    "*    [5.6. Вывод](#56)\n",
    "\n",
    "[6. Анализ моделей](#6)\n",
    "\n",
    "*    [6.1. Сравнение моделей](#61)\n",
    "*    [6.2. Тестирование лучшей модели](#62)\n",
    "*    [6.3. Итоговое сравнение моделей](#63)\n",
    "*    [6.4. Вывод](#64)\n",
    "\n",
    "[7. Общий вывод](#7)"
   ]
  },
  {
   "cell_type": "markdown",
   "metadata": {},
   "source": [
    "## Описание проекта\n",
    "<a name=\"2\"></a> <div style=\"text-align: left\">[Cодержание](#Содержание)</div>"
   ]
  },
  {
   "cell_type": "markdown",
   "metadata": {},
   "source": [
    "Сервис по продаже автомобилей с пробегом разрабатывает приложение для привлечения новых клиентов. В нём можно будет узнать рыночную стоимость своего автомобиля. Нам нужно построить модель, которая умеет её определять. В нашем распоряжении данные о технических характеристиках, комплектации и ценах других автомобилей.\n",
    "\n",
    "Критерии, которые важны заказчику:\n",
    "\n",
    "- качество предсказания;\n",
    "- время обучения модели;\n",
    "- время предсказания модели."
   ]
  },
  {
   "cell_type": "markdown",
   "metadata": {},
   "source": [
    "### Цель проекта\n",
    "<a name=\"21\"></a> <div style=\"text-align: left\">[Cодержание](#Содержание)</div>"
   ]
  },
  {
   "cell_type": "markdown",
   "metadata": {},
   "source": [
    "Провести исследование с целью построения модели машинного обучения, которая поможет определить рыночную стоимость автомобиля.\n",
    "\n",
    "Результаты исследования позволят сервису по продаже автомобилей разработать приложение для привлечения новых клиентов."
   ]
  },
  {
   "cell_type": "markdown",
   "metadata": {},
   "source": [
    "### Задачи проекта\n",
    "<a name=\"22\"></a> <div style=\"text-align: left\">[Cодержание](#Содержание)</div>"
   ]
  },
  {
   "cell_type": "markdown",
   "metadata": {},
   "source": [
    "1. Исследовать данные.\n",
    "2. Построить и обучить модели.\n",
    "3. Проанализировать модели.\n",
    "4. Протестировать лучшую модель.\n",
    "5. Написать общий вывод.\n",
    "\n",
    "Значение метрики *RMSE* должно быть меньше 2500."
   ]
  },
  {
   "cell_type": "markdown",
   "metadata": {},
   "source": [
    "### Описание данных\n",
    "<a name=\"23\"></a> <div style=\"text-align: left\">[Cодержание](#Содержание)</div>"
   ]
  },
  {
   "cell_type": "markdown",
   "metadata": {},
   "source": [
    "В нашем распоряжении исторические данные: технические характеристики, комплектации и цены автомобилей. \n",
    "\n",
    "Файл датасета - `autos.csv`."
   ]
  },
  {
   "cell_type": "markdown",
   "metadata": {},
   "source": [
    "### План работы\n",
    "<a name=\"24\"></a> <div style=\"text-align: left\">[Cодержание](#Содержание)</div>"
   ]
  },
  {
   "cell_type": "markdown",
   "metadata": {},
   "source": [
    "1. Загрузим данные.\n",
    "2. Изучим данные. Заполним пропущенные значения и обработаем аномалии в столбцах. Если среди признаков имеются неинформативные, удалим их.\n",
    "3. Подготовим выборки для обучения моделей.\n",
    "4. Обучим разные модели, одна из которых — *LightGBM*, как минимум одна — не бустинг. Для каждой модели попробуем разные гиперпараметры.\n",
    "5. Проанализируем время обучения, время предсказания и качество моделей.\n",
    "6. Опираясь на критерии заказчика, выберем лучшую модель, проверим её качество на тестовой выборке.\n",
    "\n",
    "\n",
    "\n",
    "\n",
    "**Инструкция по выполнению проекта**\n",
    "\n",
    "Чтобы усилить исследование, не будем ограничиваться градиентным бустингом. \n",
    "\n",
    "Попробуем более простые модели — иногда они работают лучше. Эти редкие случаи легко пропустить, если всегда применять только бустинг.\n",
    "\n",
    "Поэкспериментируем и сравним характеристики моделей: время обучения, время предсказания, точность результата.\n",
    "\n",
    "\n",
    "**Примечания**:\n",
    "\n",
    "- Для оценки качества моделей применим метрику *RMSE*.\n",
    "- Значение метрики *RMSE* должно быть меньше *2500*.\n",
    "- Самостоятельно освоим библиотеку *LightGBM* и её средствами построим модели градиентного бустинга.\n",
    "- Время выполнения ячейки кода *Jupyter Notebook* можно получить специальной командой. Найдём её.\n",
    "- Модель градиентного бустинга может долго обучаться, поэтому изменим у неё только два-три параметра.\n",
    "- Если перестанет работать *Jupyter Notebook*, удалим лишние переменные оператором `del`.\n",
    "```\n",
    "del features_train\n",
    "```"
   ]
  },
  {
   "cell_type": "markdown",
   "metadata": {},
   "source": [
    "## Исследование данных\n",
    "<a name=\"3\"></a> <div style=\"text-align: left\">[Cодержание](#Содержание)</div>"
   ]
  },
  {
   "cell_type": "code",
   "execution_count": 1,
   "metadata": {},
   "outputs": [],
   "source": [
    "import matplotlib.pyplot as plt\n",
    "import numpy as np\n",
    "import pandas as pd\n",
    "import seaborn as sns\n",
    "import time\n",
    "import warnings\n",
    "warnings.simplefilter(action='ignore', category=UserWarning)\n",
    "import os\n",
    "\n",
    "from catboost import CatBoostRegressor\n",
    "from lightgbm import LGBMRegressor\n",
    "from random import randint\n",
    "from sklearn.ensemble import RandomForestRegressor\n",
    "from sklearn.metrics import mean_squared_error\n",
    "from sklearn.model_selection import GridSearchCV, KFold, train_test_split\n",
    "from sklearn.preprocessing import OrdinalEncoder, StandardScaler\n",
    "\n",
    "RANDOM_STATE = 12345"
   ]
  },
  {
   "cell_type": "markdown",
   "metadata": {},
   "source": [
    "### Изучение данных\n",
    "<a name=\"31\"></a> <div style=\"text-align: left\">[Cодержание](#Содержание)</div>"
   ]
  },
  {
   "cell_type": "markdown",
   "metadata": {},
   "source": [
    "Загрузим данные."
   ]
  },
  {
   "cell_type": "code",
   "execution_count": 2,
   "metadata": {},
   "outputs": [],
   "source": [
    "pth1 = r'C:/Users/Васильев/Desktop/dataframes/autos.csv'\n",
    "pth2 = '/datasets/autos.csv'\n",
    "pth3 = '/autos.csv'\n",
    "pth4 = 'https://code.s3.yandex.net/datasets/autos.csv'\n",
    "\n",
    "if os.path.exists(pth1):\n",
    "    data = pd.read_csv(pth1)\n",
    "elif os.path.exists(pth2):\n",
    "    data = pd.read_csv(pth2)\n",
    "elif os.path.exists(pth3):\n",
    "    data = pd.read_csv(pth3)\n",
    "elif os.path.exists(pth4):\n",
    "    data = pd.read_csv(pth4)\n",
    "else:\n",
    "    print('Something is wrong')"
   ]
  },
  {
   "cell_type": "code",
   "execution_count": 3,
   "metadata": {},
   "outputs": [
    {
     "data": {
      "text/html": [
       "<div>\n",
       "<style scoped>\n",
       "    .dataframe tbody tr th:only-of-type {\n",
       "        vertical-align: middle;\n",
       "    }\n",
       "\n",
       "    .dataframe tbody tr th {\n",
       "        vertical-align: top;\n",
       "    }\n",
       "\n",
       "    .dataframe thead th {\n",
       "        text-align: right;\n",
       "    }\n",
       "</style>\n",
       "<table border=\"1\" class=\"dataframe\">\n",
       "  <thead>\n",
       "    <tr style=\"text-align: right;\">\n",
       "      <th></th>\n",
       "      <th>DateCrawled</th>\n",
       "      <th>Price</th>\n",
       "      <th>VehicleType</th>\n",
       "      <th>RegistrationYear</th>\n",
       "      <th>Gearbox</th>\n",
       "      <th>Power</th>\n",
       "      <th>Model</th>\n",
       "      <th>Kilometer</th>\n",
       "      <th>RegistrationMonth</th>\n",
       "      <th>FuelType</th>\n",
       "      <th>Brand</th>\n",
       "      <th>Repaired</th>\n",
       "      <th>DateCreated</th>\n",
       "      <th>NumberOfPictures</th>\n",
       "      <th>PostalCode</th>\n",
       "      <th>LastSeen</th>\n",
       "    </tr>\n",
       "  </thead>\n",
       "  <tbody>\n",
       "    <tr>\n",
       "      <th>0</th>\n",
       "      <td>2016-03-24 11:52:17</td>\n",
       "      <td>480</td>\n",
       "      <td>NaN</td>\n",
       "      <td>1993</td>\n",
       "      <td>manual</td>\n",
       "      <td>0</td>\n",
       "      <td>golf</td>\n",
       "      <td>150000</td>\n",
       "      <td>0</td>\n",
       "      <td>petrol</td>\n",
       "      <td>volkswagen</td>\n",
       "      <td>NaN</td>\n",
       "      <td>2016-03-24 00:00:00</td>\n",
       "      <td>0</td>\n",
       "      <td>70435</td>\n",
       "      <td>2016-04-07 03:16:57</td>\n",
       "    </tr>\n",
       "    <tr>\n",
       "      <th>1</th>\n",
       "      <td>2016-03-24 10:58:45</td>\n",
       "      <td>18300</td>\n",
       "      <td>coupe</td>\n",
       "      <td>2011</td>\n",
       "      <td>manual</td>\n",
       "      <td>190</td>\n",
       "      <td>NaN</td>\n",
       "      <td>125000</td>\n",
       "      <td>5</td>\n",
       "      <td>gasoline</td>\n",
       "      <td>audi</td>\n",
       "      <td>yes</td>\n",
       "      <td>2016-03-24 00:00:00</td>\n",
       "      <td>0</td>\n",
       "      <td>66954</td>\n",
       "      <td>2016-04-07 01:46:50</td>\n",
       "    </tr>\n",
       "    <tr>\n",
       "      <th>2</th>\n",
       "      <td>2016-03-14 12:52:21</td>\n",
       "      <td>9800</td>\n",
       "      <td>suv</td>\n",
       "      <td>2004</td>\n",
       "      <td>auto</td>\n",
       "      <td>163</td>\n",
       "      <td>grand</td>\n",
       "      <td>125000</td>\n",
       "      <td>8</td>\n",
       "      <td>gasoline</td>\n",
       "      <td>jeep</td>\n",
       "      <td>NaN</td>\n",
       "      <td>2016-03-14 00:00:00</td>\n",
       "      <td>0</td>\n",
       "      <td>90480</td>\n",
       "      <td>2016-04-05 12:47:46</td>\n",
       "    </tr>\n",
       "    <tr>\n",
       "      <th>3</th>\n",
       "      <td>2016-03-17 16:54:04</td>\n",
       "      <td>1500</td>\n",
       "      <td>small</td>\n",
       "      <td>2001</td>\n",
       "      <td>manual</td>\n",
       "      <td>75</td>\n",
       "      <td>golf</td>\n",
       "      <td>150000</td>\n",
       "      <td>6</td>\n",
       "      <td>petrol</td>\n",
       "      <td>volkswagen</td>\n",
       "      <td>no</td>\n",
       "      <td>2016-03-17 00:00:00</td>\n",
       "      <td>0</td>\n",
       "      <td>91074</td>\n",
       "      <td>2016-03-17 17:40:17</td>\n",
       "    </tr>\n",
       "    <tr>\n",
       "      <th>4</th>\n",
       "      <td>2016-03-31 17:25:20</td>\n",
       "      <td>3600</td>\n",
       "      <td>small</td>\n",
       "      <td>2008</td>\n",
       "      <td>manual</td>\n",
       "      <td>69</td>\n",
       "      <td>fabia</td>\n",
       "      <td>90000</td>\n",
       "      <td>7</td>\n",
       "      <td>gasoline</td>\n",
       "      <td>skoda</td>\n",
       "      <td>no</td>\n",
       "      <td>2016-03-31 00:00:00</td>\n",
       "      <td>0</td>\n",
       "      <td>60437</td>\n",
       "      <td>2016-04-06 10:17:21</td>\n",
       "    </tr>\n",
       "  </tbody>\n",
       "</table>\n",
       "</div>"
      ],
      "text/plain": [
       "           DateCrawled  Price VehicleType  RegistrationYear Gearbox  Power  \\\n",
       "0  2016-03-24 11:52:17    480         NaN              1993  manual      0   \n",
       "1  2016-03-24 10:58:45  18300       coupe              2011  manual    190   \n",
       "2  2016-03-14 12:52:21   9800         suv              2004    auto    163   \n",
       "3  2016-03-17 16:54:04   1500       small              2001  manual     75   \n",
       "4  2016-03-31 17:25:20   3600       small              2008  manual     69   \n",
       "\n",
       "   Model  Kilometer  RegistrationMonth  FuelType       Brand Repaired  \\\n",
       "0   golf     150000                  0    petrol  volkswagen      NaN   \n",
       "1    NaN     125000                  5  gasoline        audi      yes   \n",
       "2  grand     125000                  8  gasoline        jeep      NaN   \n",
       "3   golf     150000                  6    petrol  volkswagen       no   \n",
       "4  fabia      90000                  7  gasoline       skoda       no   \n",
       "\n",
       "           DateCreated  NumberOfPictures  PostalCode             LastSeen  \n",
       "0  2016-03-24 00:00:00                 0       70435  2016-04-07 03:16:57  \n",
       "1  2016-03-24 00:00:00                 0       66954  2016-04-07 01:46:50  \n",
       "2  2016-03-14 00:00:00                 0       90480  2016-04-05 12:47:46  \n",
       "3  2016-03-17 00:00:00                 0       91074  2016-03-17 17:40:17  \n",
       "4  2016-03-31 00:00:00                 0       60437  2016-04-06 10:17:21  "
      ]
     },
     "execution_count": 3,
     "metadata": {},
     "output_type": "execute_result"
    }
   ],
   "source": [
    "data.head()"
   ]
  },
  {
   "cell_type": "code",
   "execution_count": 4,
   "metadata": {},
   "outputs": [
    {
     "data": {
      "text/plain": [
       "(354369, 16)"
      ]
     },
     "execution_count": 4,
     "metadata": {},
     "output_type": "execute_result"
    }
   ],
   "source": [
    "data.shape"
   ]
  },
  {
   "cell_type": "code",
   "execution_count": 5,
   "metadata": {
    "scrolled": true
   },
   "outputs": [
    {
     "name": "stdout",
     "output_type": "stream",
     "text": [
      "<class 'pandas.core.frame.DataFrame'>\n",
      "RangeIndex: 354369 entries, 0 to 354368\n",
      "Data columns (total 16 columns):\n",
      " #   Column             Non-Null Count   Dtype \n",
      "---  ------             --------------   ----- \n",
      " 0   DateCrawled        354369 non-null  object\n",
      " 1   Price              354369 non-null  int64 \n",
      " 2   VehicleType        316879 non-null  object\n",
      " 3   RegistrationYear   354369 non-null  int64 \n",
      " 4   Gearbox            334536 non-null  object\n",
      " 5   Power              354369 non-null  int64 \n",
      " 6   Model              334664 non-null  object\n",
      " 7   Kilometer          354369 non-null  int64 \n",
      " 8   RegistrationMonth  354369 non-null  int64 \n",
      " 9   FuelType           321474 non-null  object\n",
      " 10  Brand              354369 non-null  object\n",
      " 11  Repaired           283215 non-null  object\n",
      " 12  DateCreated        354369 non-null  object\n",
      " 13  NumberOfPictures   354369 non-null  int64 \n",
      " 14  PostalCode         354369 non-null  int64 \n",
      " 15  LastSeen           354369 non-null  object\n",
      "dtypes: int64(7), object(9)\n",
      "memory usage: 43.3+ MB\n"
     ]
    }
   ],
   "source": [
    "data.info()"
   ]
  },
  {
   "cell_type": "markdown",
   "metadata": {},
   "source": [
    "Проверим датасет на наличие явных дубликатов и удалим их."
   ]
  },
  {
   "cell_type": "code",
   "execution_count": 6,
   "metadata": {},
   "outputs": [
    {
     "name": "stdout",
     "output_type": "stream",
     "text": [
      "4\n",
      "(354365, 16)\n"
     ]
    }
   ],
   "source": [
    "print(data.duplicated().sum())\n",
    "data = data.drop_duplicates()\n",
    "print(data.shape)"
   ]
  },
  {
   "cell_type": "markdown",
   "metadata": {},
   "source": [
    "### Удаление признаков\n",
    "<a name=\"32\"></a> <div style=\"text-align: left\">[Cодержание](#Содержание)</div>"
   ]
  },
  {
   "cell_type": "markdown",
   "metadata": {},
   "source": [
    "Имеется 6 неинформативных для модели признаков: \n",
    "- `DateCrawled` - дата скачивания анкеты из базы, \n",
    "- `RegistrationMonth` - месяц регистрации автомобиля,\n",
    "- `DateCreated` - дата создания анкеты,\n",
    "- `NumberOfPictures` - количество фотографий автомобиля,\n",
    "- `PostalCode` - почтовый индекс владельца анкеты (пользователя),\n",
    "- `LastSeen` - дата последней активности пользователя.\n",
    "\n",
    "Удалим данные признаки, т.к. они не пригодятся для дальнейшего исследования."
   ]
  },
  {
   "cell_type": "code",
   "execution_count": 7,
   "metadata": {
    "scrolled": false
   },
   "outputs": [
    {
     "data": {
      "text/html": [
       "<div>\n",
       "<style scoped>\n",
       "    .dataframe tbody tr th:only-of-type {\n",
       "        vertical-align: middle;\n",
       "    }\n",
       "\n",
       "    .dataframe tbody tr th {\n",
       "        vertical-align: top;\n",
       "    }\n",
       "\n",
       "    .dataframe thead th {\n",
       "        text-align: right;\n",
       "    }\n",
       "</style>\n",
       "<table border=\"1\" class=\"dataframe\">\n",
       "  <thead>\n",
       "    <tr style=\"text-align: right;\">\n",
       "      <th></th>\n",
       "      <th>Price</th>\n",
       "      <th>VehicleType</th>\n",
       "      <th>RegistrationYear</th>\n",
       "      <th>Gearbox</th>\n",
       "      <th>Power</th>\n",
       "      <th>Model</th>\n",
       "      <th>Kilometer</th>\n",
       "      <th>FuelType</th>\n",
       "      <th>Brand</th>\n",
       "      <th>Repaired</th>\n",
       "    </tr>\n",
       "  </thead>\n",
       "  <tbody>\n",
       "    <tr>\n",
       "      <th>0</th>\n",
       "      <td>480</td>\n",
       "      <td>NaN</td>\n",
       "      <td>1993</td>\n",
       "      <td>manual</td>\n",
       "      <td>0</td>\n",
       "      <td>golf</td>\n",
       "      <td>150000</td>\n",
       "      <td>petrol</td>\n",
       "      <td>volkswagen</td>\n",
       "      <td>NaN</td>\n",
       "    </tr>\n",
       "    <tr>\n",
       "      <th>1</th>\n",
       "      <td>18300</td>\n",
       "      <td>coupe</td>\n",
       "      <td>2011</td>\n",
       "      <td>manual</td>\n",
       "      <td>190</td>\n",
       "      <td>NaN</td>\n",
       "      <td>125000</td>\n",
       "      <td>gasoline</td>\n",
       "      <td>audi</td>\n",
       "      <td>yes</td>\n",
       "    </tr>\n",
       "    <tr>\n",
       "      <th>2</th>\n",
       "      <td>9800</td>\n",
       "      <td>suv</td>\n",
       "      <td>2004</td>\n",
       "      <td>auto</td>\n",
       "      <td>163</td>\n",
       "      <td>grand</td>\n",
       "      <td>125000</td>\n",
       "      <td>gasoline</td>\n",
       "      <td>jeep</td>\n",
       "      <td>NaN</td>\n",
       "    </tr>\n",
       "    <tr>\n",
       "      <th>3</th>\n",
       "      <td>1500</td>\n",
       "      <td>small</td>\n",
       "      <td>2001</td>\n",
       "      <td>manual</td>\n",
       "      <td>75</td>\n",
       "      <td>golf</td>\n",
       "      <td>150000</td>\n",
       "      <td>petrol</td>\n",
       "      <td>volkswagen</td>\n",
       "      <td>no</td>\n",
       "    </tr>\n",
       "    <tr>\n",
       "      <th>4</th>\n",
       "      <td>3600</td>\n",
       "      <td>small</td>\n",
       "      <td>2008</td>\n",
       "      <td>manual</td>\n",
       "      <td>69</td>\n",
       "      <td>fabia</td>\n",
       "      <td>90000</td>\n",
       "      <td>gasoline</td>\n",
       "      <td>skoda</td>\n",
       "      <td>no</td>\n",
       "    </tr>\n",
       "  </tbody>\n",
       "</table>\n",
       "</div>"
      ],
      "text/plain": [
       "   Price VehicleType  RegistrationYear Gearbox  Power  Model  Kilometer  \\\n",
       "0    480         NaN              1993  manual      0   golf     150000   \n",
       "1  18300       coupe              2011  manual    190    NaN     125000   \n",
       "2   9800         suv              2004    auto    163  grand     125000   \n",
       "3   1500       small              2001  manual     75   golf     150000   \n",
       "4   3600       small              2008  manual     69  fabia      90000   \n",
       "\n",
       "   FuelType       Brand Repaired  \n",
       "0    petrol  volkswagen      NaN  \n",
       "1  gasoline        audi      yes  \n",
       "2  gasoline        jeep      NaN  \n",
       "3    petrol  volkswagen       no  \n",
       "4  gasoline       skoda       no  "
      ]
     },
     "execution_count": 7,
     "metadata": {},
     "output_type": "execute_result"
    }
   ],
   "source": [
    "data = data.drop(['DateCrawled', 'RegistrationMonth', 'DateCreated', \n",
    "                  'NumberOfPictures', 'PostalCode', 'LastSeen'], axis=1)\n",
    "data.head()"
   ]
  },
  {
   "cell_type": "code",
   "execution_count": 8,
   "metadata": {},
   "outputs": [
    {
     "name": "stdout",
     "output_type": "stream",
     "text": [
      "<class 'pandas.core.frame.DataFrame'>\n",
      "Int64Index: 354365 entries, 0 to 354368\n",
      "Data columns (total 10 columns):\n",
      " #   Column            Non-Null Count   Dtype \n",
      "---  ------            --------------   ----- \n",
      " 0   Price             354365 non-null  int64 \n",
      " 1   VehicleType       316875 non-null  object\n",
      " 2   RegistrationYear  354365 non-null  int64 \n",
      " 3   Gearbox           334532 non-null  object\n",
      " 4   Power             354365 non-null  int64 \n",
      " 5   Model             334660 non-null  object\n",
      " 6   Kilometer         354365 non-null  int64 \n",
      " 7   FuelType          321470 non-null  object\n",
      " 8   Brand             354365 non-null  object\n",
      " 9   Repaired          283211 non-null  object\n",
      "dtypes: int64(4), object(6)\n",
      "memory usage: 29.7+ MB\n"
     ]
    }
   ],
   "source": [
    "data.info()"
   ]
  },
  {
   "cell_type": "markdown",
   "metadata": {},
   "source": [
    "Типы данных соответствуют значениям в признаках."
   ]
  },
  {
   "cell_type": "markdown",
   "metadata": {},
   "source": [
    "### Исследование данных после первичной предобработки\n",
    "<a name=\"33\"></a> <div style=\"text-align: left\">[Cодержание](#Содержание)</div>"
   ]
  },
  {
   "cell_type": "markdown",
   "metadata": {},
   "source": [
    "Посмотрим описание численных данных."
   ]
  },
  {
   "cell_type": "code",
   "execution_count": 9,
   "metadata": {},
   "outputs": [
    {
     "data": {
      "text/html": [
       "<div>\n",
       "<style scoped>\n",
       "    .dataframe tbody tr th:only-of-type {\n",
       "        vertical-align: middle;\n",
       "    }\n",
       "\n",
       "    .dataframe tbody tr th {\n",
       "        vertical-align: top;\n",
       "    }\n",
       "\n",
       "    .dataframe thead th {\n",
       "        text-align: right;\n",
       "    }\n",
       "</style>\n",
       "<table border=\"1\" class=\"dataframe\">\n",
       "  <thead>\n",
       "    <tr style=\"text-align: right;\">\n",
       "      <th></th>\n",
       "      <th>Price</th>\n",
       "      <th>RegistrationYear</th>\n",
       "      <th>Power</th>\n",
       "      <th>Kilometer</th>\n",
       "    </tr>\n",
       "  </thead>\n",
       "  <tbody>\n",
       "    <tr>\n",
       "      <th>count</th>\n",
       "      <td>354365.000000</td>\n",
       "      <td>354365.000000</td>\n",
       "      <td>354365.000000</td>\n",
       "      <td>354365.000000</td>\n",
       "    </tr>\n",
       "    <tr>\n",
       "      <th>mean</th>\n",
       "      <td>4416.679830</td>\n",
       "      <td>2004.234481</td>\n",
       "      <td>110.093816</td>\n",
       "      <td>128211.363989</td>\n",
       "    </tr>\n",
       "    <tr>\n",
       "      <th>std</th>\n",
       "      <td>4514.176349</td>\n",
       "      <td>90.228466</td>\n",
       "      <td>189.851330</td>\n",
       "      <td>37905.083858</td>\n",
       "    </tr>\n",
       "    <tr>\n",
       "      <th>min</th>\n",
       "      <td>0.000000</td>\n",
       "      <td>1000.000000</td>\n",
       "      <td>0.000000</td>\n",
       "      <td>5000.000000</td>\n",
       "    </tr>\n",
       "    <tr>\n",
       "      <th>25%</th>\n",
       "      <td>1050.000000</td>\n",
       "      <td>1999.000000</td>\n",
       "      <td>69.000000</td>\n",
       "      <td>125000.000000</td>\n",
       "    </tr>\n",
       "    <tr>\n",
       "      <th>50%</th>\n",
       "      <td>2700.000000</td>\n",
       "      <td>2003.000000</td>\n",
       "      <td>105.000000</td>\n",
       "      <td>150000.000000</td>\n",
       "    </tr>\n",
       "    <tr>\n",
       "      <th>75%</th>\n",
       "      <td>6400.000000</td>\n",
       "      <td>2008.000000</td>\n",
       "      <td>143.000000</td>\n",
       "      <td>150000.000000</td>\n",
       "    </tr>\n",
       "    <tr>\n",
       "      <th>max</th>\n",
       "      <td>20000.000000</td>\n",
       "      <td>9999.000000</td>\n",
       "      <td>20000.000000</td>\n",
       "      <td>150000.000000</td>\n",
       "    </tr>\n",
       "  </tbody>\n",
       "</table>\n",
       "</div>"
      ],
      "text/plain": [
       "               Price  RegistrationYear          Power      Kilometer\n",
       "count  354365.000000     354365.000000  354365.000000  354365.000000\n",
       "mean     4416.679830       2004.234481     110.093816  128211.363989\n",
       "std      4514.176349         90.228466     189.851330   37905.083858\n",
       "min         0.000000       1000.000000       0.000000    5000.000000\n",
       "25%      1050.000000       1999.000000      69.000000  125000.000000\n",
       "50%      2700.000000       2003.000000     105.000000  150000.000000\n",
       "75%      6400.000000       2008.000000     143.000000  150000.000000\n",
       "max     20000.000000       9999.000000   20000.000000  150000.000000"
      ]
     },
     "execution_count": 9,
     "metadata": {},
     "output_type": "execute_result"
    }
   ],
   "source": [
    "data.describe()"
   ]
  },
  {
   "cell_type": "markdown",
   "metadata": {},
   "source": [
    "При помощи гистограмм визуализируем распределение переменных в датасете."
   ]
  },
  {
   "cell_type": "code",
   "execution_count": 10,
   "metadata": {},
   "outputs": [
    {
     "data": {
      "image/png": "[encoded data removed]",
      "text/plain": [
       "<Figure size 576x576 with 4 Axes>"
      ]
     },
     "metadata": {
      "needs_background": "light"
     },
     "output_type": "display_data"
    }
   ],
   "source": [
    "data.hist(figsize=(8, 8), bins=50, alpha=0.7, color='deepskyblue')\n",
    "plt.show()"
   ]
  },
  {
   "cell_type": "markdown",
   "metadata": {},
   "source": [
    "Аномалиями здесь можно считать неправдоподобные значения:\n",
    "\n",
    "- года регистрации; \n",
    "- мощности автомобилей;\n",
    "- нулевые значения признаков.\n",
    "\n",
    "Построим диаграммы размаха («ящик с усами»), по распределению численных данных при помощи метода `.boxplot()`.\n",
    "\n",
    "Особенности этой диаграммы:\n",
    "\n",
    "«Ящик» ограничен первым и третьим квартилями (нижняя и верхняя стороны прямоугольника - границы ящика). Внутри ящика зелёной линией обозначена медиана (второй квартиль).\n",
    "«Усы» простираются вниз и вверх от границ ящика (чёрные линии ниже и выше границ ящика) на расстояние, равное 1,5 межквартильного размаха (сокращённо *IQR*, от англ. *interquartile range*, «межквартильный размах»). В размах «усов» попадают нормальные значения, а за пределами находятся выбросы, изображённые точками. Если верхний «ус» длиннее максимума, то он заканчивается максимумом. То же - для минимума и нижнего «уса»."
   ]
  },
  {
   "cell_type": "markdown",
   "metadata": {},
   "source": [
    "**1. Диаграмма размаха по распределению цены автомобиля (с выбросами).**"
   ]
  },
  {
   "cell_type": "code",
   "execution_count": 11,
   "metadata": {},
   "outputs": [
    {
     "data": {
      "image/png": "[encoded data removed]",
      "text/plain": [
       "<Figure size 864x360 with 1 Axes>"
      ]
     },
     "metadata": {
      "needs_background": "light"
     },
     "output_type": "display_data"
    }
   ],
   "source": [
    "data.boxplot(column='Price', figsize=(12, 5))\n",
    "plt.xlabel(\"Признак 'Price' (цена автомобиля)\")\n",
    "plt.ylabel('Цена автомобиля (евро)')\n",
    "plt.title('Распределение цены автомобиля (с выбросами)')\n",
    "plt.show()"
   ]
  },
  {
   "cell_type": "markdown",
   "metadata": {},
   "source": [
    "**2. Диаграмма размаха по распределению года регистрации автомобиля (с выбросами).**"
   ]
  },
  {
   "cell_type": "code",
   "execution_count": 12,
   "metadata": {},
   "outputs": [
    {
     "data": {
      "image/png": "[encoded data removed]",
      "text/plain": [
       "<Figure size 864x360 with 1 Axes>"
      ]
     },
     "metadata": {
      "needs_background": "light"
     },
     "output_type": "display_data"
    }
   ],
   "source": [
    "data.boxplot(column='RegistrationYear', figsize=(12, 5))\n",
    "plt.xlabel(\"Признак 'RegistrationYear' (год регистрации автомобиля)\")\n",
    "plt.ylabel('Год регистрации автомобиля')\n",
    "plt.title('Распределение года регистрации автомобиля (с выбросами)')\n",
    "plt.show()"
   ]
  },
  {
   "cell_type": "markdown",
   "metadata": {},
   "source": [
    "**3. Диаграмма размаха по распределению мощности автомобиля (с выбросами).**"
   ]
  },
  {
   "cell_type": "code",
   "execution_count": 13,
   "metadata": {},
   "outputs": [
    {
     "data": {
      "image/png": "[encoded data removed]",
      "text/plain": [
       "<Figure size 864x360 with 1 Axes>"
      ]
     },
     "metadata": {
      "needs_background": "light"
     },
     "output_type": "display_data"
    }
   ],
   "source": [
    "data.boxplot(column='Power', figsize=(12, 5))\n",
    "plt.xlabel(\"Признак 'Power' (мощность автомобиля)\")\n",
    "plt.ylabel('Мощность автомобиля (л. с.)')\n",
    "plt.title('Распределение мощности автомобиля (с выбросами)')\n",
    "plt.show()"
   ]
  },
  {
   "cell_type": "markdown",
   "metadata": {},
   "source": [
    "**4. Диаграмма размаха по распределению пробега автомобиля (с выбросами).**"
   ]
  },
  {
   "cell_type": "code",
   "execution_count": 14,
   "metadata": {},
   "outputs": [
    {
     "data": {
      "image/png": "[encoded data removed]",
      "text/plain": [
       "<Figure size 864x360 with 1 Axes>"
      ]
     },
     "metadata": {
      "needs_background": "light"
     },
     "output_type": "display_data"
    }
   ],
   "source": [
    "data.boxplot(column='Kilometer', figsize=(12, 5))\n",
    "plt.xlabel(\"Признак 'Kilometer' (пробег автомобиля)\")\n",
    "plt.ylabel('Пробег автомобиля (км)')\n",
    "plt.title('Распределение пробега автомобиля (с выбросами)')\n",
    "plt.show()"
   ]
  },
  {
   "cell_type": "markdown",
   "metadata": {},
   "source": [
    "Из-за выбросов, рассмотреть распределение внутри ящиков становится сложно. Поэтому сделаем графики без выбросов, указав параметр `showfliers=False`."
   ]
  },
  {
   "cell_type": "markdown",
   "metadata": {},
   "source": [
    "**5. Диаграмма размаха по распределению цены автомобиля (без выбросов).**"
   ]
  },
  {
   "cell_type": "code",
   "execution_count": 15,
   "metadata": {},
   "outputs": [
    {
     "data": {
      "image/png": "[encoded data removed]",
      "text/plain": [
       "<Figure size 864x360 with 1 Axes>"
      ]
     },
     "metadata": {
      "needs_background": "light"
     },
     "output_type": "display_data"
    }
   ],
   "source": [
    "data.boxplot(column='Price', showfliers=False, figsize=(12, 5))\n",
    "plt.xlabel(\"Признак 'Price' (цена автомобиля)\")\n",
    "plt.ylabel('Цена автомобиля (евро)')\n",
    "plt.title('Распределение цены автомобиля (без выбросов)')\n",
    "plt.show()"
   ]
  },
  {
   "cell_type": "markdown",
   "metadata": {},
   "source": [
    "**6. Диаграмма размаха по распределению года регистрации автомобиля (без выбросов).**"
   ]
  },
  {
   "cell_type": "code",
   "execution_count": 16,
   "metadata": {},
   "outputs": [
    {
     "data": {
      "image/png": "[encoded data removed]",
      "text/plain": [
       "<Figure size 864x360 with 1 Axes>"
      ]
     },
     "metadata": {
      "needs_background": "light"
     },
     "output_type": "display_data"
    }
   ],
   "source": [
    "data.boxplot(column='RegistrationYear', showfliers=False, figsize=(12, 5))\n",
    "plt.xlabel(\"Признак 'RegistrationYear' (год регистрации автомобиля)\")\n",
    "plt.ylabel('Год регистрации автомобиля')\n",
    "plt.title('Распределение года регистрации автомобиля (без выбросов)')\n",
    "plt.show()"
   ]
  },
  {
   "cell_type": "markdown",
   "metadata": {},
   "source": [
    "**7. Диаграмма размаха по распределению мощности автомобиля (без выбросов).**"
   ]
  },
  {
   "cell_type": "code",
   "execution_count": 17,
   "metadata": {},
   "outputs": [
    {
     "data": {
      "image/png": "[encoded data removed]",
      "text/plain": [
       "<Figure size 864x360 with 1 Axes>"
      ]
     },
     "metadata": {
      "needs_background": "light"
     },
     "output_type": "display_data"
    }
   ],
   "source": [
    "data.boxplot(column='Power', showfliers=False, figsize=(12, 5))\n",
    "plt.xlabel(\"Признак 'Power' (мощность автомобиля)\")\n",
    "plt.ylabel('Мощность автомобиля (л. с.)')\n",
    "plt.title('Распределение мощности автомобиля (без выбросов)')\n",
    "plt.show()"
   ]
  },
  {
   "cell_type": "markdown",
   "metadata": {},
   "source": [
    "**8. Диаграмма размаха по распределению пробега автомобиля (без выбросов).**"
   ]
  },
  {
   "cell_type": "code",
   "execution_count": 18,
   "metadata": {},
   "outputs": [
    {
     "data": {
      "image/png": "[encoded data removed]",
      "text/plain": [
       "<Figure size 864x360 with 1 Axes>"
      ]
     },
     "metadata": {
      "needs_background": "light"
     },
     "output_type": "display_data"
    }
   ],
   "source": [
    "data.boxplot(column='Kilometer', showfliers=False, figsize=(12, 5))\n",
    "plt.xlabel(\"Признак 'Kilometer' (пробег автомобиля)\")\n",
    "plt.ylabel('Пробег автомобиля (км)')\n",
    "plt.title('Распределение пробега автомобиля (без выбросов)')\n",
    "plt.show()"
   ]
  },
  {
   "cell_type": "markdown",
   "metadata": {},
   "source": [
    "У признака `Kilometer` получается интересная ситуация: у него медиана и 75%-ый квартиль равны максимальному значению данных.\n",
    "\n",
    "Очевидно, что выбросы в признаках `RegistrationYear` и `Power` необходимо корректировать.\n",
    "\n",
    "Выведем коэффициенты корреляции Пирсона для переменных датасета."
   ]
  },
  {
   "cell_type": "code",
   "execution_count": 19,
   "metadata": {},
   "outputs": [
    {
     "data": {
      "text/html": [
       "<div>\n",
       "<style scoped>\n",
       "    .dataframe tbody tr th:only-of-type {\n",
       "        vertical-align: middle;\n",
       "    }\n",
       "\n",
       "    .dataframe tbody tr th {\n",
       "        vertical-align: top;\n",
       "    }\n",
       "\n",
       "    .dataframe thead th {\n",
       "        text-align: right;\n",
       "    }\n",
       "</style>\n",
       "<table border=\"1\" class=\"dataframe\">\n",
       "  <thead>\n",
       "    <tr style=\"text-align: right;\">\n",
       "      <th></th>\n",
       "      <th>Price</th>\n",
       "      <th>RegistrationYear</th>\n",
       "      <th>Power</th>\n",
       "      <th>Kilometer</th>\n",
       "    </tr>\n",
       "  </thead>\n",
       "  <tbody>\n",
       "    <tr>\n",
       "      <th>Price</th>\n",
       "      <td>1.000000</td>\n",
       "      <td>0.026916</td>\n",
       "      <td>0.158872</td>\n",
       "      <td>-0.333207</td>\n",
       "    </tr>\n",
       "    <tr>\n",
       "      <th>RegistrationYear</th>\n",
       "      <td>0.026916</td>\n",
       "      <td>1.000000</td>\n",
       "      <td>-0.000828</td>\n",
       "      <td>-0.053448</td>\n",
       "    </tr>\n",
       "    <tr>\n",
       "      <th>Power</th>\n",
       "      <td>0.158872</td>\n",
       "      <td>-0.000828</td>\n",
       "      <td>1.000000</td>\n",
       "      <td>0.024006</td>\n",
       "    </tr>\n",
       "    <tr>\n",
       "      <th>Kilometer</th>\n",
       "      <td>-0.333207</td>\n",
       "      <td>-0.053448</td>\n",
       "      <td>0.024006</td>\n",
       "      <td>1.000000</td>\n",
       "    </tr>\n",
       "  </tbody>\n",
       "</table>\n",
       "</div>"
      ],
      "text/plain": [
       "                     Price  RegistrationYear     Power  Kilometer\n",
       "Price             1.000000          0.026916  0.158872  -0.333207\n",
       "RegistrationYear  0.026916          1.000000 -0.000828  -0.053448\n",
       "Power             0.158872         -0.000828  1.000000   0.024006\n",
       "Kilometer        -0.333207         -0.053448  0.024006   1.000000"
      ]
     },
     "execution_count": 19,
     "metadata": {},
     "output_type": "execute_result"
    }
   ],
   "source": [
    "data.corr()"
   ]
  },
  {
   "cell_type": "markdown",
   "metadata": {},
   "source": [
    "Построим тепловую карту коэффициентов корреляции Пирсона для переменных датасета."
   ]
  },
  {
   "cell_type": "code",
   "execution_count": 20,
   "metadata": {},
   "outputs": [
    {
     "data": {
      "image/png": "[encoded data removed]",
      "text/plain": [
       "<Figure size 720x576 with 2 Axes>"
      ]
     },
     "metadata": {
      "needs_background": "light"
     },
     "output_type": "display_data"
    }
   ],
   "source": [
    "plt.figure(figsize=(10,8))\n",
    "sns.heatmap(\n",
    "    data.corr(), annot=True, fmt = '.2f', \n",
    "    vmin=-1, vmax=1, center=0, cmap='coolwarm')\n",
    "plt.show()"
   ]
  },
  {
   "cell_type": "markdown",
   "metadata": {},
   "source": [
    "Виднеется незначительная обратная корреляция между признаками `Kilometer` и `Price`, что логично - чем больше пробег, тем ниже цена."
   ]
  },
  {
   "cell_type": "markdown",
   "metadata": {},
   "source": [
    "### Обработка аномалий\n",
    "<a name=\"34\"></a> <div style=\"text-align: left\">[Cодержание](#Содержание)</div>"
   ]
  },
  {
   "cell_type": "markdown",
   "metadata": {},
   "source": [
    "Взглянем на состав численных признаков `Price`, `RegistrationYear`, `Power` и `Kilometer`."
   ]
  },
  {
   "cell_type": "code",
   "execution_count": 21,
   "metadata": {
    "scrolled": false
   },
   "outputs": [
    {
     "data": {
      "text/html": [
       "<div>\n",
       "<style scoped>\n",
       "    .dataframe tbody tr th:only-of-type {\n",
       "        vertical-align: middle;\n",
       "    }\n",
       "\n",
       "    .dataframe tbody tr th {\n",
       "        vertical-align: top;\n",
       "    }\n",
       "\n",
       "    .dataframe thead th {\n",
       "        text-align: right;\n",
       "    }\n",
       "</style>\n",
       "<table border=\"1\" class=\"dataframe\">\n",
       "  <thead>\n",
       "    <tr style=\"text-align: right;\">\n",
       "      <th></th>\n",
       "      <th>Price</th>\n",
       "      <th>RegistrationYear</th>\n",
       "      <th>Power</th>\n",
       "      <th>Kilometer</th>\n",
       "    </tr>\n",
       "  </thead>\n",
       "  <tbody>\n",
       "    <tr>\n",
       "      <th>count</th>\n",
       "      <td>354365.000000</td>\n",
       "      <td>354365.000000</td>\n",
       "      <td>354365.000000</td>\n",
       "      <td>354365.000000</td>\n",
       "    </tr>\n",
       "    <tr>\n",
       "      <th>mean</th>\n",
       "      <td>4416.679830</td>\n",
       "      <td>2004.234481</td>\n",
       "      <td>110.093816</td>\n",
       "      <td>128211.363989</td>\n",
       "    </tr>\n",
       "    <tr>\n",
       "      <th>std</th>\n",
       "      <td>4514.176349</td>\n",
       "      <td>90.228466</td>\n",
       "      <td>189.851330</td>\n",
       "      <td>37905.083858</td>\n",
       "    </tr>\n",
       "    <tr>\n",
       "      <th>min</th>\n",
       "      <td>0.000000</td>\n",
       "      <td>1000.000000</td>\n",
       "      <td>0.000000</td>\n",
       "      <td>5000.000000</td>\n",
       "    </tr>\n",
       "    <tr>\n",
       "      <th>25%</th>\n",
       "      <td>1050.000000</td>\n",
       "      <td>1999.000000</td>\n",
       "      <td>69.000000</td>\n",
       "      <td>125000.000000</td>\n",
       "    </tr>\n",
       "    <tr>\n",
       "      <th>50%</th>\n",
       "      <td>2700.000000</td>\n",
       "      <td>2003.000000</td>\n",
       "      <td>105.000000</td>\n",
       "      <td>150000.000000</td>\n",
       "    </tr>\n",
       "    <tr>\n",
       "      <th>75%</th>\n",
       "      <td>6400.000000</td>\n",
       "      <td>2008.000000</td>\n",
       "      <td>143.000000</td>\n",
       "      <td>150000.000000</td>\n",
       "    </tr>\n",
       "    <tr>\n",
       "      <th>max</th>\n",
       "      <td>20000.000000</td>\n",
       "      <td>9999.000000</td>\n",
       "      <td>20000.000000</td>\n",
       "      <td>150000.000000</td>\n",
       "    </tr>\n",
       "  </tbody>\n",
       "</table>\n",
       "</div>"
      ],
      "text/plain": [
       "               Price  RegistrationYear          Power      Kilometer\n",
       "count  354365.000000     354365.000000  354365.000000  354365.000000\n",
       "mean     4416.679830       2004.234481     110.093816  128211.363989\n",
       "std      4514.176349         90.228466     189.851330   37905.083858\n",
       "min         0.000000       1000.000000       0.000000    5000.000000\n",
       "25%      1050.000000       1999.000000      69.000000  125000.000000\n",
       "50%      2700.000000       2003.000000     105.000000  150000.000000\n",
       "75%      6400.000000       2008.000000     143.000000  150000.000000\n",
       "max     20000.000000       9999.000000   20000.000000  150000.000000"
      ]
     },
     "execution_count": 21,
     "metadata": {},
     "output_type": "execute_result"
    }
   ],
   "source": [
    "data[['Price', 'RegistrationYear', 'Power', 'Kilometer']].describe()"
   ]
  },
  {
   "cell_type": "markdown",
   "metadata": {},
   "source": [
    "Здесь аномалиями можно считать неправдоподобные значения года регистрации автомобилей и нулевые значения признаков.\n",
    "\n",
    "Давайте посмотрим выборочно количество уникальных значений в признаках."
   ]
  },
  {
   "cell_type": "code",
   "execution_count": 22,
   "metadata": {},
   "outputs": [
    {
     "name": "stdout",
     "output_type": "stream",
     "text": [
      "151\n",
      "251\n",
      "40\n"
     ]
    }
   ],
   "source": [
    "print(len(data['RegistrationYear'].unique()))\n",
    "print(len(data['Model'].unique()))\n",
    "print(len(data['Brand'].unique()))"
   ]
  },
  {
   "cell_type": "markdown",
   "metadata": {},
   "source": [
    "Посмотрим на содержание признаков `DateCrawled`, `RegistrationYear` и `DateCreated`."
   ]
  },
  {
   "cell_type": "code",
   "execution_count": 23,
   "metadata": {},
   "outputs": [
    {
     "data": {
      "text/html": [
       "<div>\n",
       "<style scoped>\n",
       "    .dataframe tbody tr th:only-of-type {\n",
       "        vertical-align: middle;\n",
       "    }\n",
       "\n",
       "    .dataframe tbody tr th {\n",
       "        vertical-align: top;\n",
       "    }\n",
       "\n",
       "    .dataframe thead th {\n",
       "        text-align: right;\n",
       "    }\n",
       "</style>\n",
       "<table border=\"1\" class=\"dataframe\">\n",
       "  <thead>\n",
       "    <tr style=\"text-align: right;\">\n",
       "      <th></th>\n",
       "      <th>DateCrawled</th>\n",
       "      <th>RegistrationYear</th>\n",
       "      <th>DateCreated</th>\n",
       "    </tr>\n",
       "  </thead>\n",
       "  <tbody>\n",
       "    <tr>\n",
       "      <th>0</th>\n",
       "      <td>2016-03-24 11:52:17</td>\n",
       "      <td>1993</td>\n",
       "      <td>2016-03-24 00:00:00</td>\n",
       "    </tr>\n",
       "    <tr>\n",
       "      <th>1</th>\n",
       "      <td>2016-03-24 10:58:45</td>\n",
       "      <td>2011</td>\n",
       "      <td>2016-03-24 00:00:00</td>\n",
       "    </tr>\n",
       "    <tr>\n",
       "      <th>2</th>\n",
       "      <td>2016-03-14 12:52:21</td>\n",
       "      <td>2004</td>\n",
       "      <td>2016-03-14 00:00:00</td>\n",
       "    </tr>\n",
       "    <tr>\n",
       "      <th>3</th>\n",
       "      <td>2016-03-17 16:54:04</td>\n",
       "      <td>2001</td>\n",
       "      <td>2016-03-17 00:00:00</td>\n",
       "    </tr>\n",
       "    <tr>\n",
       "      <th>4</th>\n",
       "      <td>2016-03-31 17:25:20</td>\n",
       "      <td>2008</td>\n",
       "      <td>2016-03-31 00:00:00</td>\n",
       "    </tr>\n",
       "    <tr>\n",
       "      <th>...</th>\n",
       "      <td>...</td>\n",
       "      <td>...</td>\n",
       "      <td>...</td>\n",
       "    </tr>\n",
       "    <tr>\n",
       "      <th>354364</th>\n",
       "      <td>2016-03-21 09:50:58</td>\n",
       "      <td>2005</td>\n",
       "      <td>2016-03-21 00:00:00</td>\n",
       "    </tr>\n",
       "    <tr>\n",
       "      <th>354365</th>\n",
       "      <td>2016-03-14 17:48:27</td>\n",
       "      <td>2005</td>\n",
       "      <td>2016-03-14 00:00:00</td>\n",
       "    </tr>\n",
       "    <tr>\n",
       "      <th>354366</th>\n",
       "      <td>2016-03-05 19:56:21</td>\n",
       "      <td>2000</td>\n",
       "      <td>2016-03-05 00:00:00</td>\n",
       "    </tr>\n",
       "    <tr>\n",
       "      <th>354367</th>\n",
       "      <td>2016-03-19 18:57:12</td>\n",
       "      <td>1996</td>\n",
       "      <td>2016-03-19 00:00:00</td>\n",
       "    </tr>\n",
       "    <tr>\n",
       "      <th>354368</th>\n",
       "      <td>2016-03-20 19:41:08</td>\n",
       "      <td>2002</td>\n",
       "      <td>2016-03-20 00:00:00</td>\n",
       "    </tr>\n",
       "  </tbody>\n",
       "</table>\n",
       "<p>354369 rows × 3 columns</p>\n",
       "</div>"
      ],
      "text/plain": [
       "                DateCrawled  RegistrationYear          DateCreated\n",
       "0       2016-03-24 11:52:17              1993  2016-03-24 00:00:00\n",
       "1       2016-03-24 10:58:45              2011  2016-03-24 00:00:00\n",
       "2       2016-03-14 12:52:21              2004  2016-03-14 00:00:00\n",
       "3       2016-03-17 16:54:04              2001  2016-03-17 00:00:00\n",
       "4       2016-03-31 17:25:20              2008  2016-03-31 00:00:00\n",
       "...                     ...               ...                  ...\n",
       "354364  2016-03-21 09:50:58              2005  2016-03-21 00:00:00\n",
       "354365  2016-03-14 17:48:27              2005  2016-03-14 00:00:00\n",
       "354366  2016-03-05 19:56:21              2000  2016-03-05 00:00:00\n",
       "354367  2016-03-19 18:57:12              1996  2016-03-19 00:00:00\n",
       "354368  2016-03-20 19:41:08              2002  2016-03-20 00:00:00\n",
       "\n",
       "[354369 rows x 3 columns]"
      ]
     },
     "metadata": {},
     "output_type": "display_data"
    }
   ],
   "source": [
    "try:\n",
    "    display(pd.read_csv(r'C:/Users/Васильев/Desktop/dataframes/autos.csv')[\n",
    "        ['DateCrawled', 'RegistrationYear', 'DateCreated']])\n",
    "except:\n",
    "    try:\n",
    "        display(pd.read_csv('/datasets/autos.csv')[\n",
    "            ['DateCrawled', 'RegistrationYear', 'DateCreated']])\n",
    "    except:\n",
    "        try:\n",
    "            display(pd.read_csv('/autos.csv')[\n",
    "                ['DateCrawled', 'RegistrationYear', 'DateCreated']])\n",
    "        except:\n",
    "            display(pd.read_csv('https://code.s3.yandex.net/datasets/autos.csv')[\n",
    "                ['DateCrawled', 'RegistrationYear', 'DateCreated']])"
   ]
  },
  {
   "cell_type": "markdown",
   "metadata": {},
   "source": [
    "Даты скачивания и создания анкеты приходятся на 2016 год. Поэтому, нам нужно удалить все строки, в которых автомобили были зарегистрированы позднее 2016 года.\n",
    "\n",
    "Сохраним в датасете только те автомобили, год регистрации которых не позже 2016 года, и при этом не раньше 1940 года."
   ]
  },
  {
   "cell_type": "code",
   "execution_count": 24,
   "metadata": {},
   "outputs": [
    {
     "data": {
      "text/html": [
       "<div>\n",
       "<style scoped>\n",
       "    .dataframe tbody tr th:only-of-type {\n",
       "        vertical-align: middle;\n",
       "    }\n",
       "\n",
       "    .dataframe tbody tr th {\n",
       "        vertical-align: top;\n",
       "    }\n",
       "\n",
       "    .dataframe thead th {\n",
       "        text-align: right;\n",
       "    }\n",
       "</style>\n",
       "<table border=\"1\" class=\"dataframe\">\n",
       "  <thead>\n",
       "    <tr style=\"text-align: right;\">\n",
       "      <th></th>\n",
       "      <th>Price</th>\n",
       "      <th>VehicleType</th>\n",
       "      <th>RegistrationYear</th>\n",
       "      <th>Gearbox</th>\n",
       "      <th>Power</th>\n",
       "      <th>Model</th>\n",
       "      <th>Kilometer</th>\n",
       "      <th>FuelType</th>\n",
       "      <th>Brand</th>\n",
       "      <th>Repaired</th>\n",
       "    </tr>\n",
       "  </thead>\n",
       "  <tbody>\n",
       "    <tr>\n",
       "      <th>0</th>\n",
       "      <td>480</td>\n",
       "      <td>NaN</td>\n",
       "      <td>1993</td>\n",
       "      <td>manual</td>\n",
       "      <td>0</td>\n",
       "      <td>golf</td>\n",
       "      <td>150000</td>\n",
       "      <td>petrol</td>\n",
       "      <td>volkswagen</td>\n",
       "      <td>NaN</td>\n",
       "    </tr>\n",
       "    <tr>\n",
       "      <th>1</th>\n",
       "      <td>18300</td>\n",
       "      <td>coupe</td>\n",
       "      <td>2011</td>\n",
       "      <td>manual</td>\n",
       "      <td>190</td>\n",
       "      <td>NaN</td>\n",
       "      <td>125000</td>\n",
       "      <td>gasoline</td>\n",
       "      <td>audi</td>\n",
       "      <td>yes</td>\n",
       "    </tr>\n",
       "    <tr>\n",
       "      <th>2</th>\n",
       "      <td>9800</td>\n",
       "      <td>suv</td>\n",
       "      <td>2004</td>\n",
       "      <td>auto</td>\n",
       "      <td>163</td>\n",
       "      <td>grand</td>\n",
       "      <td>125000</td>\n",
       "      <td>gasoline</td>\n",
       "      <td>jeep</td>\n",
       "      <td>NaN</td>\n",
       "    </tr>\n",
       "    <tr>\n",
       "      <th>3</th>\n",
       "      <td>1500</td>\n",
       "      <td>small</td>\n",
       "      <td>2001</td>\n",
       "      <td>manual</td>\n",
       "      <td>75</td>\n",
       "      <td>golf</td>\n",
       "      <td>150000</td>\n",
       "      <td>petrol</td>\n",
       "      <td>volkswagen</td>\n",
       "      <td>no</td>\n",
       "    </tr>\n",
       "    <tr>\n",
       "      <th>4</th>\n",
       "      <td>3600</td>\n",
       "      <td>small</td>\n",
       "      <td>2008</td>\n",
       "      <td>manual</td>\n",
       "      <td>69</td>\n",
       "      <td>fabia</td>\n",
       "      <td>90000</td>\n",
       "      <td>gasoline</td>\n",
       "      <td>skoda</td>\n",
       "      <td>no</td>\n",
       "    </tr>\n",
       "    <tr>\n",
       "      <th>...</th>\n",
       "      <td>...</td>\n",
       "      <td>...</td>\n",
       "      <td>...</td>\n",
       "      <td>...</td>\n",
       "      <td>...</td>\n",
       "      <td>...</td>\n",
       "      <td>...</td>\n",
       "      <td>...</td>\n",
       "      <td>...</td>\n",
       "      <td>...</td>\n",
       "    </tr>\n",
       "    <tr>\n",
       "      <th>354364</th>\n",
       "      <td>0</td>\n",
       "      <td>NaN</td>\n",
       "      <td>2005</td>\n",
       "      <td>manual</td>\n",
       "      <td>0</td>\n",
       "      <td>colt</td>\n",
       "      <td>150000</td>\n",
       "      <td>petrol</td>\n",
       "      <td>mitsubishi</td>\n",
       "      <td>yes</td>\n",
       "    </tr>\n",
       "    <tr>\n",
       "      <th>354365</th>\n",
       "      <td>2200</td>\n",
       "      <td>NaN</td>\n",
       "      <td>2005</td>\n",
       "      <td>NaN</td>\n",
       "      <td>0</td>\n",
       "      <td>NaN</td>\n",
       "      <td>20000</td>\n",
       "      <td>NaN</td>\n",
       "      <td>sonstige_autos</td>\n",
       "      <td>NaN</td>\n",
       "    </tr>\n",
       "    <tr>\n",
       "      <th>354366</th>\n",
       "      <td>1199</td>\n",
       "      <td>convertible</td>\n",
       "      <td>2000</td>\n",
       "      <td>auto</td>\n",
       "      <td>101</td>\n",
       "      <td>fortwo</td>\n",
       "      <td>125000</td>\n",
       "      <td>petrol</td>\n",
       "      <td>smart</td>\n",
       "      <td>no</td>\n",
       "    </tr>\n",
       "    <tr>\n",
       "      <th>354367</th>\n",
       "      <td>9200</td>\n",
       "      <td>bus</td>\n",
       "      <td>1996</td>\n",
       "      <td>manual</td>\n",
       "      <td>102</td>\n",
       "      <td>transporter</td>\n",
       "      <td>150000</td>\n",
       "      <td>gasoline</td>\n",
       "      <td>volkswagen</td>\n",
       "      <td>no</td>\n",
       "    </tr>\n",
       "    <tr>\n",
       "      <th>354368</th>\n",
       "      <td>3400</td>\n",
       "      <td>wagon</td>\n",
       "      <td>2002</td>\n",
       "      <td>manual</td>\n",
       "      <td>100</td>\n",
       "      <td>golf</td>\n",
       "      <td>150000</td>\n",
       "      <td>gasoline</td>\n",
       "      <td>volkswagen</td>\n",
       "      <td>NaN</td>\n",
       "    </tr>\n",
       "  </tbody>\n",
       "</table>\n",
       "<p>339613 rows × 10 columns</p>\n",
       "</div>"
      ],
      "text/plain": [
       "        Price  VehicleType  RegistrationYear Gearbox  Power        Model  \\\n",
       "0         480          NaN              1993  manual      0         golf   \n",
       "1       18300        coupe              2011  manual    190          NaN   \n",
       "2        9800          suv              2004    auto    163        grand   \n",
       "3        1500        small              2001  manual     75         golf   \n",
       "4        3600        small              2008  manual     69        fabia   \n",
       "...       ...          ...               ...     ...    ...          ...   \n",
       "354364      0          NaN              2005  manual      0         colt   \n",
       "354365   2200          NaN              2005     NaN      0          NaN   \n",
       "354366   1199  convertible              2000    auto    101       fortwo   \n",
       "354367   9200          bus              1996  manual    102  transporter   \n",
       "354368   3400        wagon              2002  manual    100         golf   \n",
       "\n",
       "        Kilometer  FuelType           Brand Repaired  \n",
       "0          150000    petrol      volkswagen      NaN  \n",
       "1          125000  gasoline            audi      yes  \n",
       "2          125000  gasoline            jeep      NaN  \n",
       "3          150000    petrol      volkswagen       no  \n",
       "4           90000  gasoline           skoda       no  \n",
       "...           ...       ...             ...      ...  \n",
       "354364     150000    petrol      mitsubishi      yes  \n",
       "354365      20000       NaN  sonstige_autos      NaN  \n",
       "354366     125000    petrol           smart       no  \n",
       "354367     150000  gasoline      volkswagen       no  \n",
       "354368     150000  gasoline      volkswagen      NaN  \n",
       "\n",
       "[339613 rows x 10 columns]"
      ]
     },
     "execution_count": 24,
     "metadata": {},
     "output_type": "execute_result"
    }
   ],
   "source": [
    "data = data[(data['RegistrationYear'] <= 2016) & (data['RegistrationYear'] >= 1940)]\n",
    "data"
   ]
  },
  {
   "cell_type": "markdown",
   "metadata": {},
   "source": [
    "Ещё раз посмотрим количество уникальных значений в признаках."
   ]
  },
  {
   "cell_type": "code",
   "execution_count": 25,
   "metadata": {
    "scrolled": false
   },
   "outputs": [
    {
     "name": "stdout",
     "output_type": "stream",
     "text": [
      "77\n",
      "251\n",
      "40\n"
     ]
    }
   ],
   "source": [
    "print(len(data['RegistrationYear'].unique()))\n",
    "print(len(data['Model'].unique()))\n",
    "print(len(data['Brand'].unique()))"
   ]
  },
  {
   "cell_type": "markdown",
   "metadata": {},
   "source": [
    "После удаления нами аномалий, количество уникальных значений в признаке `RegistrationYear` уменьшилось. При этом, количество уникальных значений в признаке `Model` не изменилось. Это означает, что мы сохранили в датасете все возможные модели автомобилей, включая ретро автомобили.\n",
    "\n",
    "Удалим нулевые значения в признаке `Price`, поставим ограничение на значения в `Power`, затем сбросим индекс в датасете."
   ]
  },
  {
   "cell_type": "code",
   "execution_count": 26,
   "metadata": {
    "scrolled": false
   },
   "outputs": [
    {
     "data": {
      "text/html": [
       "<div>\n",
       "<style scoped>\n",
       "    .dataframe tbody tr th:only-of-type {\n",
       "        vertical-align: middle;\n",
       "    }\n",
       "\n",
       "    .dataframe tbody tr th {\n",
       "        vertical-align: top;\n",
       "    }\n",
       "\n",
       "    .dataframe thead th {\n",
       "        text-align: right;\n",
       "    }\n",
       "</style>\n",
       "<table border=\"1\" class=\"dataframe\">\n",
       "  <thead>\n",
       "    <tr style=\"text-align: right;\">\n",
       "      <th></th>\n",
       "      <th>Price</th>\n",
       "      <th>VehicleType</th>\n",
       "      <th>RegistrationYear</th>\n",
       "      <th>Gearbox</th>\n",
       "      <th>Power</th>\n",
       "      <th>Model</th>\n",
       "      <th>Kilometer</th>\n",
       "      <th>FuelType</th>\n",
       "      <th>Brand</th>\n",
       "      <th>Repaired</th>\n",
       "    </tr>\n",
       "  </thead>\n",
       "  <tbody>\n",
       "    <tr>\n",
       "      <th>0</th>\n",
       "      <td>480</td>\n",
       "      <td>NaN</td>\n",
       "      <td>1993</td>\n",
       "      <td>manual</td>\n",
       "      <td>0</td>\n",
       "      <td>golf</td>\n",
       "      <td>150000</td>\n",
       "      <td>petrol</td>\n",
       "      <td>volkswagen</td>\n",
       "      <td>NaN</td>\n",
       "    </tr>\n",
       "    <tr>\n",
       "      <th>1</th>\n",
       "      <td>18300</td>\n",
       "      <td>coupe</td>\n",
       "      <td>2011</td>\n",
       "      <td>manual</td>\n",
       "      <td>190</td>\n",
       "      <td>NaN</td>\n",
       "      <td>125000</td>\n",
       "      <td>gasoline</td>\n",
       "      <td>audi</td>\n",
       "      <td>yes</td>\n",
       "    </tr>\n",
       "    <tr>\n",
       "      <th>2</th>\n",
       "      <td>9800</td>\n",
       "      <td>suv</td>\n",
       "      <td>2004</td>\n",
       "      <td>auto</td>\n",
       "      <td>163</td>\n",
       "      <td>grand</td>\n",
       "      <td>125000</td>\n",
       "      <td>gasoline</td>\n",
       "      <td>jeep</td>\n",
       "      <td>NaN</td>\n",
       "    </tr>\n",
       "    <tr>\n",
       "      <th>3</th>\n",
       "      <td>1500</td>\n",
       "      <td>small</td>\n",
       "      <td>2001</td>\n",
       "      <td>manual</td>\n",
       "      <td>75</td>\n",
       "      <td>golf</td>\n",
       "      <td>150000</td>\n",
       "      <td>petrol</td>\n",
       "      <td>volkswagen</td>\n",
       "      <td>no</td>\n",
       "    </tr>\n",
       "    <tr>\n",
       "      <th>4</th>\n",
       "      <td>3600</td>\n",
       "      <td>small</td>\n",
       "      <td>2008</td>\n",
       "      <td>manual</td>\n",
       "      <td>69</td>\n",
       "      <td>fabia</td>\n",
       "      <td>90000</td>\n",
       "      <td>gasoline</td>\n",
       "      <td>skoda</td>\n",
       "      <td>no</td>\n",
       "    </tr>\n",
       "    <tr>\n",
       "      <th>...</th>\n",
       "      <td>...</td>\n",
       "      <td>...</td>\n",
       "      <td>...</td>\n",
       "      <td>...</td>\n",
       "      <td>...</td>\n",
       "      <td>...</td>\n",
       "      <td>...</td>\n",
       "      <td>...</td>\n",
       "      <td>...</td>\n",
       "      <td>...</td>\n",
       "    </tr>\n",
       "    <tr>\n",
       "      <th>329479</th>\n",
       "      <td>1150</td>\n",
       "      <td>bus</td>\n",
       "      <td>2000</td>\n",
       "      <td>manual</td>\n",
       "      <td>0</td>\n",
       "      <td>zafira</td>\n",
       "      <td>150000</td>\n",
       "      <td>petrol</td>\n",
       "      <td>opel</td>\n",
       "      <td>no</td>\n",
       "    </tr>\n",
       "    <tr>\n",
       "      <th>329480</th>\n",
       "      <td>2200</td>\n",
       "      <td>NaN</td>\n",
       "      <td>2005</td>\n",
       "      <td>NaN</td>\n",
       "      <td>0</td>\n",
       "      <td>NaN</td>\n",
       "      <td>20000</td>\n",
       "      <td>NaN</td>\n",
       "      <td>sonstige_autos</td>\n",
       "      <td>NaN</td>\n",
       "    </tr>\n",
       "    <tr>\n",
       "      <th>329481</th>\n",
       "      <td>1199</td>\n",
       "      <td>convertible</td>\n",
       "      <td>2000</td>\n",
       "      <td>auto</td>\n",
       "      <td>101</td>\n",
       "      <td>fortwo</td>\n",
       "      <td>125000</td>\n",
       "      <td>petrol</td>\n",
       "      <td>smart</td>\n",
       "      <td>no</td>\n",
       "    </tr>\n",
       "    <tr>\n",
       "      <th>329482</th>\n",
       "      <td>9200</td>\n",
       "      <td>bus</td>\n",
       "      <td>1996</td>\n",
       "      <td>manual</td>\n",
       "      <td>102</td>\n",
       "      <td>transporter</td>\n",
       "      <td>150000</td>\n",
       "      <td>gasoline</td>\n",
       "      <td>volkswagen</td>\n",
       "      <td>no</td>\n",
       "    </tr>\n",
       "    <tr>\n",
       "      <th>329483</th>\n",
       "      <td>3400</td>\n",
       "      <td>wagon</td>\n",
       "      <td>2002</td>\n",
       "      <td>manual</td>\n",
       "      <td>100</td>\n",
       "      <td>golf</td>\n",
       "      <td>150000</td>\n",
       "      <td>gasoline</td>\n",
       "      <td>volkswagen</td>\n",
       "      <td>NaN</td>\n",
       "    </tr>\n",
       "  </tbody>\n",
       "</table>\n",
       "<p>329484 rows × 10 columns</p>\n",
       "</div>"
      ],
      "text/plain": [
       "        Price  VehicleType  RegistrationYear Gearbox  Power        Model  \\\n",
       "0         480          NaN              1993  manual      0         golf   \n",
       "1       18300        coupe              2011  manual    190          NaN   \n",
       "2        9800          suv              2004    auto    163        grand   \n",
       "3        1500        small              2001  manual     75         golf   \n",
       "4        3600        small              2008  manual     69        fabia   \n",
       "...       ...          ...               ...     ...    ...          ...   \n",
       "329479   1150          bus              2000  manual      0       zafira   \n",
       "329480   2200          NaN              2005     NaN      0          NaN   \n",
       "329481   1199  convertible              2000    auto    101       fortwo   \n",
       "329482   9200          bus              1996  manual    102  transporter   \n",
       "329483   3400        wagon              2002  manual    100         golf   \n",
       "\n",
       "        Kilometer  FuelType           Brand Repaired  \n",
       "0          150000    petrol      volkswagen      NaN  \n",
       "1          125000  gasoline            audi      yes  \n",
       "2          125000  gasoline            jeep      NaN  \n",
       "3          150000    petrol      volkswagen       no  \n",
       "4           90000  gasoline           skoda       no  \n",
       "...           ...       ...             ...      ...  \n",
       "329479     150000    petrol            opel       no  \n",
       "329480      20000       NaN  sonstige_autos      NaN  \n",
       "329481     125000    petrol           smart       no  \n",
       "329482     150000  gasoline      volkswagen       no  \n",
       "329483     150000  gasoline      volkswagen      NaN  \n",
       "\n",
       "[329484 rows x 10 columns]"
      ]
     },
     "execution_count": 26,
     "metadata": {},
     "output_type": "execute_result"
    }
   ],
   "source": [
    "data = data[data['Price'] != 0]\n",
    "data = data[data['Power'] <= 1500]\n",
    "data = data.reset_index(drop=True)\n",
    "data"
   ]
  },
  {
   "cell_type": "markdown",
   "metadata": {},
   "source": [
    "Посмотрим количество нулевых значений в признаке `Power`."
   ]
  },
  {
   "cell_type": "code",
   "execution_count": 27,
   "metadata": {},
   "outputs": [
    {
     "data": {
      "text/plain": [
       "(32794, 10)"
      ]
     },
     "execution_count": 27,
     "metadata": {},
     "output_type": "execute_result"
    }
   ],
   "source": [
    "data[data['Power'] == 0].shape"
   ]
  },
  {
   "cell_type": "markdown",
   "metadata": {},
   "source": [
    "Заменим нулевые значения в признаке `Power` на медиану по бренду."
   ]
  },
  {
   "cell_type": "code",
   "execution_count": 28,
   "metadata": {
    "scrolled": true
   },
   "outputs": [
    {
     "data": {
      "text/plain": [
       "(0, 10)"
      ]
     },
     "execution_count": 28,
     "metadata": {},
     "output_type": "execute_result"
    }
   ],
   "source": [
    "data.loc[data['Power'] == 0, 'Power'] = np.NaN\n",
    "data['Power'] = data['Power'].fillna(\n",
    "    data.groupby('Brand')['Power'].transform(\n",
    "        lambda x: x.median() if x.median() else np.nan))\n",
    "data[data['Power'] == 0].shape"
   ]
  },
  {
   "cell_type": "markdown",
   "metadata": {},
   "source": [
    "Теперь повторно посмотрим количество уникальных значений в признаках."
   ]
  },
  {
   "cell_type": "code",
   "execution_count": 29,
   "metadata": {},
   "outputs": [
    {
     "name": "stdout",
     "output_type": "stream",
     "text": [
      "77\n",
      "251\n",
      "40\n"
     ]
    }
   ],
   "source": [
    "print(len(data['RegistrationYear'].unique()))\n",
    "print(len(data['Model'].unique()))\n",
    "print(len(data['Brand'].unique()))"
   ]
  },
  {
   "cell_type": "markdown",
   "metadata": {},
   "source": [
    "После удаления нулевых значений, количество уникальных значений в признаках `RegistrationYear` и `Model` не изменилось."
   ]
  },
  {
   "cell_type": "code",
   "execution_count": 30,
   "metadata": {},
   "outputs": [
    {
     "data": {
      "text/html": [
       "<div>\n",
       "<style scoped>\n",
       "    .dataframe tbody tr th:only-of-type {\n",
       "        vertical-align: middle;\n",
       "    }\n",
       "\n",
       "    .dataframe tbody tr th {\n",
       "        vertical-align: top;\n",
       "    }\n",
       "\n",
       "    .dataframe thead th {\n",
       "        text-align: right;\n",
       "    }\n",
       "</style>\n",
       "<table border=\"1\" class=\"dataframe\">\n",
       "  <thead>\n",
       "    <tr style=\"text-align: right;\">\n",
       "      <th></th>\n",
       "      <th>Price</th>\n",
       "      <th>RegistrationYear</th>\n",
       "      <th>Power</th>\n",
       "      <th>Kilometer</th>\n",
       "    </tr>\n",
       "  </thead>\n",
       "  <tbody>\n",
       "    <tr>\n",
       "      <th>count</th>\n",
       "      <td>329484.000000</td>\n",
       "      <td>329484.000000</td>\n",
       "      <td>329484.000000</td>\n",
       "      <td>329484.000000</td>\n",
       "    </tr>\n",
       "    <tr>\n",
       "      <th>mean</th>\n",
       "      <td>4607.664491</td>\n",
       "      <td>2002.620088</td>\n",
       "      <td>120.140456</td>\n",
       "      <td>128231.067366</td>\n",
       "    </tr>\n",
       "    <tr>\n",
       "      <th>std</th>\n",
       "      <td>4546.198371</td>\n",
       "      <td>6.771335</td>\n",
       "      <td>55.971133</td>\n",
       "      <td>37486.631643</td>\n",
       "    </tr>\n",
       "    <tr>\n",
       "      <th>min</th>\n",
       "      <td>1.000000</td>\n",
       "      <td>1940.000000</td>\n",
       "      <td>1.000000</td>\n",
       "      <td>5000.000000</td>\n",
       "    </tr>\n",
       "    <tr>\n",
       "      <th>25%</th>\n",
       "      <td>1200.000000</td>\n",
       "      <td>1999.000000</td>\n",
       "      <td>80.000000</td>\n",
       "      <td>125000.000000</td>\n",
       "    </tr>\n",
       "    <tr>\n",
       "      <th>50%</th>\n",
       "      <td>2900.000000</td>\n",
       "      <td>2003.000000</td>\n",
       "      <td>109.000000</td>\n",
       "      <td>150000.000000</td>\n",
       "    </tr>\n",
       "    <tr>\n",
       "      <th>75%</th>\n",
       "      <td>6600.000000</td>\n",
       "      <td>2007.000000</td>\n",
       "      <td>150.000000</td>\n",
       "      <td>150000.000000</td>\n",
       "    </tr>\n",
       "    <tr>\n",
       "      <th>max</th>\n",
       "      <td>20000.000000</td>\n",
       "      <td>2016.000000</td>\n",
       "      <td>1500.000000</td>\n",
       "      <td>150000.000000</td>\n",
       "    </tr>\n",
       "  </tbody>\n",
       "</table>\n",
       "</div>"
      ],
      "text/plain": [
       "               Price  RegistrationYear          Power      Kilometer\n",
       "count  329484.000000     329484.000000  329484.000000  329484.000000\n",
       "mean     4607.664491       2002.620088     120.140456  128231.067366\n",
       "std      4546.198371          6.771335      55.971133   37486.631643\n",
       "min         1.000000       1940.000000       1.000000    5000.000000\n",
       "25%      1200.000000       1999.000000      80.000000  125000.000000\n",
       "50%      2900.000000       2003.000000     109.000000  150000.000000\n",
       "75%      6600.000000       2007.000000     150.000000  150000.000000\n",
       "max     20000.000000       2016.000000    1500.000000  150000.000000"
      ]
     },
     "execution_count": 30,
     "metadata": {},
     "output_type": "execute_result"
    }
   ],
   "source": [
    "data[['Price', 'RegistrationYear', 'Power', 'Kilometer']].describe()"
   ]
  },
  {
   "cell_type": "markdown",
   "metadata": {},
   "source": [
    "### Обработка пропусков\n",
    "<a name=\"35\"></a> <div style=\"text-align: left\">[Cодержание](#Содержание)</div>"
   ]
  },
  {
   "cell_type": "markdown",
   "metadata": {},
   "source": [
    "Модель градиентного бустинга *Catboost* имеет один нюанс - она не распознаёт тип данных `NaN`. \n",
    "\n",
    "Поэтому, для её применения в датасете необходимо заполнить пропуски.\n",
    "\n",
    "Пропуски имеются у следующих признаков:\n",
    "- `VehicleType` - тип автомобильного кузова;\n",
    "- `Gearbox` - тип коробки передач;\n",
    "- `Model` - модель автомобиля;\n",
    "- `FuelType` - тип топлива;\n",
    "- `Repaired` - была машина в ремонте или нет."
   ]
  },
  {
   "cell_type": "code",
   "execution_count": 31,
   "metadata": {},
   "outputs": [
    {
     "data": {
      "text/plain": [
       "Price                   0\n",
       "VehicleType         19884\n",
       "RegistrationYear        0\n",
       "Gearbox             15542\n",
       "Power                   0\n",
       "Model               15573\n",
       "Kilometer               0\n",
       "FuelType            24099\n",
       "Brand                   0\n",
       "Repaired            59751\n",
       "dtype: int64"
      ]
     },
     "execution_count": 31,
     "metadata": {},
     "output_type": "execute_result"
    }
   ],
   "source": [
    "data.isna().sum()"
   ]
  },
  {
   "cell_type": "markdown",
   "metadata": {},
   "source": [
    "Посмотрим на состав признаков с пропусками."
   ]
  },
  {
   "cell_type": "code",
   "execution_count": 32,
   "metadata": {},
   "outputs": [
    {
     "data": {
      "text/plain": [
       "sedan          89334\n",
       "small          77970\n",
       "wagon          63652\n",
       "bus            28328\n",
       "convertible    19846\n",
       "coupe          15621\n",
       "suv            11784\n",
       "other           3065\n",
       "Name: VehicleType, dtype: int64"
      ]
     },
     "execution_count": 32,
     "metadata": {},
     "output_type": "execute_result"
    }
   ],
   "source": [
    "data['VehicleType'].value_counts()"
   ]
  },
  {
   "cell_type": "code",
   "execution_count": 33,
   "metadata": {},
   "outputs": [
    {
     "data": {
      "text/plain": [
       "manual    250987\n",
       "auto       62955\n",
       "Name: Gearbox, dtype: int64"
      ]
     },
     "execution_count": 33,
     "metadata": {},
     "output_type": "execute_result"
    }
   ],
   "source": [
    "data['Gearbox'].value_counts()"
   ]
  },
  {
   "cell_type": "code",
   "execution_count": 34,
   "metadata": {},
   "outputs": [
    {
     "data": {
      "text/plain": [
       "golf                  26723\n",
       "other                 23142\n",
       "3er                   18663\n",
       "polo                  12023\n",
       "corsa                 11586\n",
       "                      ...  \n",
       "kalina                    6\n",
       "serie_3                   3\n",
       "rangerover                3\n",
       "range_rover_evoque        2\n",
       "serie_1                   1\n",
       "Name: Model, Length: 250, dtype: int64"
      ]
     },
     "execution_count": 34,
     "metadata": {},
     "output_type": "execute_result"
    }
   ],
   "source": [
    "data['Model'].value_counts()"
   ]
  },
  {
   "cell_type": "code",
   "execution_count": 35,
   "metadata": {},
   "outputs": [
    {
     "data": {
      "text/plain": [
       "array(['golf', nan, 'grand', 'fabia', '3er', '2_reihe', 'c_max',\n",
       "       '3_reihe', 'passat', 'navara', 'polo', 'twingo', 'a_klasse',\n",
       "       'scirocco', '5er', 'arosa', 'other', 'civic', 'transporter',\n",
       "       'punto', 'e_klasse', 'clio', 'kadett', 'kangoo', 'one', 'fortwo',\n",
       "       '1er', 'b_klasse', 'signum', 'astra', 'a8', 'jetta', 'fiesta',\n",
       "       'c_klasse', 'micra', 'vito', 'sprinter', '156', 'escort',\n",
       "       'forester', 'xc_reihe', 'scenic', 'a4', 'ka', 'a1', 'insignia',\n",
       "       'combo', 'focus', 'tt', 'corsa', 'a6', 'jazz', 'omega', 'slk',\n",
       "       '7er', '80', '147', '100', 'z_reihe', 'sorento', 'v40', 'ibiza',\n",
       "       'mustang', 'eos', 'touran', 'getz', 'a3', 'almera', 'megane',\n",
       "       'lupo', 'r19', 'caddy', 'mondeo', 'cordoba', 'colt', 'impreza',\n",
       "       'vectra', 'berlingo', 'tiguan', 'sharan', '6_reihe', 'c4', 'panda',\n",
       "       'up', 'i_reihe', 'ceed', '5_reihe', 'yeti', 'octavia', 'zafira',\n",
       "       'mii', 'rx_reihe', '6er', 'modus', 'fox', 'matiz', 'beetle', 'c1',\n",
       "       'rio', 'touareg', 'logan', 'spider', 'cuore', 's_max', 'a2',\n",
       "       'galaxy', 'c3', 'viano', 's_klasse', '1_reihe', 'avensis',\n",
       "       'roomster', 'sl', 'kaefer', 'santa', 'cooper', 'leon', '4_reihe',\n",
       "       'a5', 'sportage', 'laguna', 'ptcruiser', 'clk', 'primera',\n",
       "       'espace', 'x_reihe', 'exeo', '159', 'transit', 'juke', 'qashqai',\n",
       "       'carisma', 'accord', 'corolla', 'lanos', 'phaeton', 'verso',\n",
       "       'swift', 'rav', 'picanto', 'boxster', 'kalos', 'superb', 'stilo',\n",
       "       'alhambra', 'mx_reihe', 'roadster', 'ypsilon', 'cayenne', 'galant',\n",
       "       'justy', '90', 'sirion', 'crossfire', 'agila', 'duster', 'v50',\n",
       "       '500', 'meriva', 'c_reihe', 'v_klasse', 'm_klasse', 'yaris', 'c5',\n",
       "       'aygo', 'seicento', 'cc', 'carnival', 'fusion', '911', 'bora',\n",
       "       'forfour', 'cl', 'tigra', '300c', 'cr_reihe', 'spark', 'v70',\n",
       "       'kuga', 'x_type', 'ducato', 's_type', 'x_trail', 'toledo', 'altea',\n",
       "       'voyager', 'calibra', 'bravo', 'antara', 'tucson', 'citigo',\n",
       "       'jimny', 'wrangler', 'lybra', 'q7', 'lancer', 'captiva',\n",
       "       'discovery', 'freelander', 'sandero', 'note', '900', 'cherokee',\n",
       "       'clubman', 'samara', 'defender', 'cx_reihe', 'legacy', 'pajero',\n",
       "       'auris', 'c2', 'niva', 's60', 'm_reihe', 'nubira', 'vivaro',\n",
       "       'g_klasse', 'lodgy', '850', 'range_rover', '601', 'q3', 'serie_2',\n",
       "       'glk', 'charade', 'croma', 'outlander', 'doblo', 'musa', 'move',\n",
       "       '9000', 'v60', '145', '200', 'b_max', 'range_rover_sport', 'aveo',\n",
       "       'terios', 'rangerover', 'q5', 'range_rover_evoque', 'materia',\n",
       "       'delta', 'gl', 'kalina', 'elefantino', 'i3', 'amarok', 'kappa',\n",
       "       'serie_3', 'serie_1'], dtype=object)"
      ]
     },
     "execution_count": 35,
     "metadata": {},
     "output_type": "execute_result"
    }
   ],
   "source": [
    "data['Model'].unique()"
   ]
  },
  {
   "cell_type": "code",
   "execution_count": 36,
   "metadata": {},
   "outputs": [
    {
     "data": {
      "text/plain": [
       "petrol      204561\n",
       "gasoline     94803\n",
       "lpg           5021\n",
       "cng            531\n",
       "hybrid         220\n",
       "other          162\n",
       "electric        87\n",
       "Name: FuelType, dtype: int64"
      ]
     },
     "execution_count": 36,
     "metadata": {},
     "output_type": "execute_result"
    }
   ],
   "source": [
    "data['FuelType'].value_counts()"
   ]
  },
  {
   "cell_type": "code",
   "execution_count": 37,
   "metadata": {},
   "outputs": [
    {
     "data": {
      "text/plain": [
       "no     236809\n",
       "yes     32924\n",
       "Name: Repaired, dtype: int64"
      ]
     },
     "execution_count": 37,
     "metadata": {},
     "output_type": "execute_result"
    }
   ],
   "source": [
    "data['Repaired'].value_counts()"
   ]
  },
  {
   "cell_type": "markdown",
   "metadata": {},
   "source": [
    "У признаков `VehicleType`, `Model` и `FuelType` одним из значений является \"other\", поэтому мы заменим пропуски в данных признаках на дополнительную категорию \"another\"."
   ]
  },
  {
   "cell_type": "code",
   "execution_count": 38,
   "metadata": {},
   "outputs": [
    {
     "data": {
      "text/html": [
       "<div>\n",
       "<style scoped>\n",
       "    .dataframe tbody tr th:only-of-type {\n",
       "        vertical-align: middle;\n",
       "    }\n",
       "\n",
       "    .dataframe tbody tr th {\n",
       "        vertical-align: top;\n",
       "    }\n",
       "\n",
       "    .dataframe thead th {\n",
       "        text-align: right;\n",
       "    }\n",
       "</style>\n",
       "<table border=\"1\" class=\"dataframe\">\n",
       "  <thead>\n",
       "    <tr style=\"text-align: right;\">\n",
       "      <th></th>\n",
       "      <th>Price</th>\n",
       "      <th>VehicleType</th>\n",
       "      <th>RegistrationYear</th>\n",
       "      <th>Gearbox</th>\n",
       "      <th>Power</th>\n",
       "      <th>Model</th>\n",
       "      <th>Kilometer</th>\n",
       "      <th>FuelType</th>\n",
       "      <th>Brand</th>\n",
       "      <th>Repaired</th>\n",
       "    </tr>\n",
       "  </thead>\n",
       "  <tbody>\n",
       "    <tr>\n",
       "      <th>0</th>\n",
       "      <td>480</td>\n",
       "      <td>another</td>\n",
       "      <td>1993</td>\n",
       "      <td>manual</td>\n",
       "      <td>101.0</td>\n",
       "      <td>golf</td>\n",
       "      <td>150000</td>\n",
       "      <td>petrol</td>\n",
       "      <td>volkswagen</td>\n",
       "      <td>NaN</td>\n",
       "    </tr>\n",
       "    <tr>\n",
       "      <th>1</th>\n",
       "      <td>18300</td>\n",
       "      <td>coupe</td>\n",
       "      <td>2011</td>\n",
       "      <td>manual</td>\n",
       "      <td>190.0</td>\n",
       "      <td>another</td>\n",
       "      <td>125000</td>\n",
       "      <td>gasoline</td>\n",
       "      <td>audi</td>\n",
       "      <td>yes</td>\n",
       "    </tr>\n",
       "    <tr>\n",
       "      <th>2</th>\n",
       "      <td>9800</td>\n",
       "      <td>suv</td>\n",
       "      <td>2004</td>\n",
       "      <td>auto</td>\n",
       "      <td>163.0</td>\n",
       "      <td>grand</td>\n",
       "      <td>125000</td>\n",
       "      <td>gasoline</td>\n",
       "      <td>jeep</td>\n",
       "      <td>NaN</td>\n",
       "    </tr>\n",
       "    <tr>\n",
       "      <th>3</th>\n",
       "      <td>1500</td>\n",
       "      <td>small</td>\n",
       "      <td>2001</td>\n",
       "      <td>manual</td>\n",
       "      <td>75.0</td>\n",
       "      <td>golf</td>\n",
       "      <td>150000</td>\n",
       "      <td>petrol</td>\n",
       "      <td>volkswagen</td>\n",
       "      <td>no</td>\n",
       "    </tr>\n",
       "    <tr>\n",
       "      <th>4</th>\n",
       "      <td>3600</td>\n",
       "      <td>small</td>\n",
       "      <td>2008</td>\n",
       "      <td>manual</td>\n",
       "      <td>69.0</td>\n",
       "      <td>fabia</td>\n",
       "      <td>90000</td>\n",
       "      <td>gasoline</td>\n",
       "      <td>skoda</td>\n",
       "      <td>no</td>\n",
       "    </tr>\n",
       "    <tr>\n",
       "      <th>...</th>\n",
       "      <td>...</td>\n",
       "      <td>...</td>\n",
       "      <td>...</td>\n",
       "      <td>...</td>\n",
       "      <td>...</td>\n",
       "      <td>...</td>\n",
       "      <td>...</td>\n",
       "      <td>...</td>\n",
       "      <td>...</td>\n",
       "      <td>...</td>\n",
       "    </tr>\n",
       "    <tr>\n",
       "      <th>329479</th>\n",
       "      <td>1150</td>\n",
       "      <td>bus</td>\n",
       "      <td>2000</td>\n",
       "      <td>manual</td>\n",
       "      <td>101.0</td>\n",
       "      <td>zafira</td>\n",
       "      <td>150000</td>\n",
       "      <td>petrol</td>\n",
       "      <td>opel</td>\n",
       "      <td>no</td>\n",
       "    </tr>\n",
       "    <tr>\n",
       "      <th>329480</th>\n",
       "      <td>2200</td>\n",
       "      <td>another</td>\n",
       "      <td>2005</td>\n",
       "      <td>NaN</td>\n",
       "      <td>140.0</td>\n",
       "      <td>another</td>\n",
       "      <td>20000</td>\n",
       "      <td>another</td>\n",
       "      <td>sonstige_autos</td>\n",
       "      <td>NaN</td>\n",
       "    </tr>\n",
       "    <tr>\n",
       "      <th>329481</th>\n",
       "      <td>1199</td>\n",
       "      <td>convertible</td>\n",
       "      <td>2000</td>\n",
       "      <td>auto</td>\n",
       "      <td>101.0</td>\n",
       "      <td>fortwo</td>\n",
       "      <td>125000</td>\n",
       "      <td>petrol</td>\n",
       "      <td>smart</td>\n",
       "      <td>no</td>\n",
       "    </tr>\n",
       "    <tr>\n",
       "      <th>329482</th>\n",
       "      <td>9200</td>\n",
       "      <td>bus</td>\n",
       "      <td>1996</td>\n",
       "      <td>manual</td>\n",
       "      <td>102.0</td>\n",
       "      <td>transporter</td>\n",
       "      <td>150000</td>\n",
       "      <td>gasoline</td>\n",
       "      <td>volkswagen</td>\n",
       "      <td>no</td>\n",
       "    </tr>\n",
       "    <tr>\n",
       "      <th>329483</th>\n",
       "      <td>3400</td>\n",
       "      <td>wagon</td>\n",
       "      <td>2002</td>\n",
       "      <td>manual</td>\n",
       "      <td>100.0</td>\n",
       "      <td>golf</td>\n",
       "      <td>150000</td>\n",
       "      <td>gasoline</td>\n",
       "      <td>volkswagen</td>\n",
       "      <td>NaN</td>\n",
       "    </tr>\n",
       "  </tbody>\n",
       "</table>\n",
       "<p>329484 rows × 10 columns</p>\n",
       "</div>"
      ],
      "text/plain": [
       "        Price  VehicleType  RegistrationYear Gearbox  Power        Model  \\\n",
       "0         480      another              1993  manual  101.0         golf   \n",
       "1       18300        coupe              2011  manual  190.0      another   \n",
       "2        9800          suv              2004    auto  163.0        grand   \n",
       "3        1500        small              2001  manual   75.0         golf   \n",
       "4        3600        small              2008  manual   69.0        fabia   \n",
       "...       ...          ...               ...     ...    ...          ...   \n",
       "329479   1150          bus              2000  manual  101.0       zafira   \n",
       "329480   2200      another              2005     NaN  140.0      another   \n",
       "329481   1199  convertible              2000    auto  101.0       fortwo   \n",
       "329482   9200          bus              1996  manual  102.0  transporter   \n",
       "329483   3400        wagon              2002  manual  100.0         golf   \n",
       "\n",
       "        Kilometer  FuelType           Brand Repaired  \n",
       "0          150000    petrol      volkswagen      NaN  \n",
       "1          125000  gasoline            audi      yes  \n",
       "2          125000  gasoline            jeep      NaN  \n",
       "3          150000    petrol      volkswagen       no  \n",
       "4           90000  gasoline           skoda       no  \n",
       "...           ...       ...             ...      ...  \n",
       "329479     150000    petrol            opel       no  \n",
       "329480      20000   another  sonstige_autos      NaN  \n",
       "329481     125000    petrol           smart       no  \n",
       "329482     150000  gasoline      volkswagen       no  \n",
       "329483     150000  gasoline      volkswagen      NaN  \n",
       "\n",
       "[329484 rows x 10 columns]"
      ]
     },
     "execution_count": 38,
     "metadata": {},
     "output_type": "execute_result"
    }
   ],
   "source": [
    "data['VehicleType'] = data['VehicleType'].fillna('another')\n",
    "data['Model'] = data['Model'].fillna('another')\n",
    "data['FuelType'] = data['FuelType'].fillna('another')\n",
    "data"
   ]
  },
  {
   "cell_type": "markdown",
   "metadata": {},
   "source": [
    "Категориальные признаки `Gearbox` и `Repaired` принимают только два значения, т.е. являются бинарными. Для работы модели необходимы численные признаки, поэтому мы можем соответственно преобразовать значения этих признаков в числа \"0\" и \"1\".\n",
    "\n",
    "Для начала, заполним пропуски в признаках `Gearbox` и `Repaired` случайными числами \"0\" или \"1\". Для этого применим функцию `randint()`, которая генерирует целые случайные числа в заданном диапазоне."
   ]
  },
  {
   "cell_type": "code",
   "execution_count": 39,
   "metadata": {},
   "outputs": [
    {
     "name": "stdout",
     "output_type": "stream",
     "text": [
      "['manual' 'auto' 0 1]\n",
      "[0 'yes' 1 'no']\n"
     ]
    },
    {
     "data": {
      "text/html": [
       "<div>\n",
       "<style scoped>\n",
       "    .dataframe tbody tr th:only-of-type {\n",
       "        vertical-align: middle;\n",
       "    }\n",
       "\n",
       "    .dataframe tbody tr th {\n",
       "        vertical-align: top;\n",
       "    }\n",
       "\n",
       "    .dataframe thead th {\n",
       "        text-align: right;\n",
       "    }\n",
       "</style>\n",
       "<table border=\"1\" class=\"dataframe\">\n",
       "  <thead>\n",
       "    <tr style=\"text-align: right;\">\n",
       "      <th></th>\n",
       "      <th>Price</th>\n",
       "      <th>VehicleType</th>\n",
       "      <th>RegistrationYear</th>\n",
       "      <th>Gearbox</th>\n",
       "      <th>Power</th>\n",
       "      <th>Model</th>\n",
       "      <th>Kilometer</th>\n",
       "      <th>FuelType</th>\n",
       "      <th>Brand</th>\n",
       "      <th>Repaired</th>\n",
       "    </tr>\n",
       "  </thead>\n",
       "  <tbody>\n",
       "    <tr>\n",
       "      <th>0</th>\n",
       "      <td>480</td>\n",
       "      <td>another</td>\n",
       "      <td>1993</td>\n",
       "      <td>manual</td>\n",
       "      <td>101.0</td>\n",
       "      <td>golf</td>\n",
       "      <td>150000</td>\n",
       "      <td>petrol</td>\n",
       "      <td>volkswagen</td>\n",
       "      <td>0</td>\n",
       "    </tr>\n",
       "    <tr>\n",
       "      <th>1</th>\n",
       "      <td>18300</td>\n",
       "      <td>coupe</td>\n",
       "      <td>2011</td>\n",
       "      <td>manual</td>\n",
       "      <td>190.0</td>\n",
       "      <td>another</td>\n",
       "      <td>125000</td>\n",
       "      <td>gasoline</td>\n",
       "      <td>audi</td>\n",
       "      <td>yes</td>\n",
       "    </tr>\n",
       "    <tr>\n",
       "      <th>2</th>\n",
       "      <td>9800</td>\n",
       "      <td>suv</td>\n",
       "      <td>2004</td>\n",
       "      <td>auto</td>\n",
       "      <td>163.0</td>\n",
       "      <td>grand</td>\n",
       "      <td>125000</td>\n",
       "      <td>gasoline</td>\n",
       "      <td>jeep</td>\n",
       "      <td>1</td>\n",
       "    </tr>\n",
       "    <tr>\n",
       "      <th>3</th>\n",
       "      <td>1500</td>\n",
       "      <td>small</td>\n",
       "      <td>2001</td>\n",
       "      <td>manual</td>\n",
       "      <td>75.0</td>\n",
       "      <td>golf</td>\n",
       "      <td>150000</td>\n",
       "      <td>petrol</td>\n",
       "      <td>volkswagen</td>\n",
       "      <td>no</td>\n",
       "    </tr>\n",
       "    <tr>\n",
       "      <th>4</th>\n",
       "      <td>3600</td>\n",
       "      <td>small</td>\n",
       "      <td>2008</td>\n",
       "      <td>manual</td>\n",
       "      <td>69.0</td>\n",
       "      <td>fabia</td>\n",
       "      <td>90000</td>\n",
       "      <td>gasoline</td>\n",
       "      <td>skoda</td>\n",
       "      <td>no</td>\n",
       "    </tr>\n",
       "    <tr>\n",
       "      <th>...</th>\n",
       "      <td>...</td>\n",
       "      <td>...</td>\n",
       "      <td>...</td>\n",
       "      <td>...</td>\n",
       "      <td>...</td>\n",
       "      <td>...</td>\n",
       "      <td>...</td>\n",
       "      <td>...</td>\n",
       "      <td>...</td>\n",
       "      <td>...</td>\n",
       "    </tr>\n",
       "    <tr>\n",
       "      <th>329479</th>\n",
       "      <td>1150</td>\n",
       "      <td>bus</td>\n",
       "      <td>2000</td>\n",
       "      <td>manual</td>\n",
       "      <td>101.0</td>\n",
       "      <td>zafira</td>\n",
       "      <td>150000</td>\n",
       "      <td>petrol</td>\n",
       "      <td>opel</td>\n",
       "      <td>no</td>\n",
       "    </tr>\n",
       "    <tr>\n",
       "      <th>329480</th>\n",
       "      <td>2200</td>\n",
       "      <td>another</td>\n",
       "      <td>2005</td>\n",
       "      <td>0</td>\n",
       "      <td>140.0</td>\n",
       "      <td>another</td>\n",
       "      <td>20000</td>\n",
       "      <td>another</td>\n",
       "      <td>sonstige_autos</td>\n",
       "      <td>0</td>\n",
       "    </tr>\n",
       "    <tr>\n",
       "      <th>329481</th>\n",
       "      <td>1199</td>\n",
       "      <td>convertible</td>\n",
       "      <td>2000</td>\n",
       "      <td>auto</td>\n",
       "      <td>101.0</td>\n",
       "      <td>fortwo</td>\n",
       "      <td>125000</td>\n",
       "      <td>petrol</td>\n",
       "      <td>smart</td>\n",
       "      <td>no</td>\n",
       "    </tr>\n",
       "    <tr>\n",
       "      <th>329482</th>\n",
       "      <td>9200</td>\n",
       "      <td>bus</td>\n",
       "      <td>1996</td>\n",
       "      <td>manual</td>\n",
       "      <td>102.0</td>\n",
       "      <td>transporter</td>\n",
       "      <td>150000</td>\n",
       "      <td>gasoline</td>\n",
       "      <td>volkswagen</td>\n",
       "      <td>no</td>\n",
       "    </tr>\n",
       "    <tr>\n",
       "      <th>329483</th>\n",
       "      <td>3400</td>\n",
       "      <td>wagon</td>\n",
       "      <td>2002</td>\n",
       "      <td>manual</td>\n",
       "      <td>100.0</td>\n",
       "      <td>golf</td>\n",
       "      <td>150000</td>\n",
       "      <td>gasoline</td>\n",
       "      <td>volkswagen</td>\n",
       "      <td>1</td>\n",
       "    </tr>\n",
       "  </tbody>\n",
       "</table>\n",
       "<p>329484 rows × 10 columns</p>\n",
       "</div>"
      ],
      "text/plain": [
       "        Price  VehicleType  RegistrationYear Gearbox  Power        Model  \\\n",
       "0         480      another              1993  manual  101.0         golf   \n",
       "1       18300        coupe              2011  manual  190.0      another   \n",
       "2        9800          suv              2004    auto  163.0        grand   \n",
       "3        1500        small              2001  manual   75.0         golf   \n",
       "4        3600        small              2008  manual   69.0        fabia   \n",
       "...       ...          ...               ...     ...    ...          ...   \n",
       "329479   1150          bus              2000  manual  101.0       zafira   \n",
       "329480   2200      another              2005       0  140.0      another   \n",
       "329481   1199  convertible              2000    auto  101.0       fortwo   \n",
       "329482   9200          bus              1996  manual  102.0  transporter   \n",
       "329483   3400        wagon              2002  manual  100.0         golf   \n",
       "\n",
       "        Kilometer  FuelType           Brand Repaired  \n",
       "0          150000    petrol      volkswagen        0  \n",
       "1          125000  gasoline            audi      yes  \n",
       "2          125000  gasoline            jeep        1  \n",
       "3          150000    petrol      volkswagen       no  \n",
       "4           90000  gasoline           skoda       no  \n",
       "...           ...       ...             ...      ...  \n",
       "329479     150000    petrol            opel       no  \n",
       "329480      20000   another  sonstige_autos        0  \n",
       "329481     125000    petrol           smart       no  \n",
       "329482     150000  gasoline      volkswagen       no  \n",
       "329483     150000  gasoline      volkswagen        1  \n",
       "\n",
       "[329484 rows x 10 columns]"
      ]
     },
     "metadata": {},
     "output_type": "display_data"
    }
   ],
   "source": [
    "data['Gearbox'] = data['Gearbox'].fillna(pd.Series(\n",
    "    np.random.randint(0, 2, size=len(data)), index=data.index))\n",
    "data['Repaired'] = data['Repaired'].fillna(pd.Series(\n",
    "    np.random.randint(0, 2, size=len(data)), index=data.index))\n",
    "\n",
    "print(data['Gearbox'].unique())\n",
    "print(data['Repaired'].unique())\n",
    "display(data)"
   ]
  },
  {
   "cell_type": "markdown",
   "metadata": {},
   "source": [
    "Проверим наш датасет на наличие пропусков:"
   ]
  },
  {
   "cell_type": "code",
   "execution_count": 40,
   "metadata": {},
   "outputs": [
    {
     "data": {
      "text/plain": [
       "Price               0\n",
       "VehicleType         0\n",
       "RegistrationYear    0\n",
       "Gearbox             0\n",
       "Power               0\n",
       "Model               0\n",
       "Kilometer           0\n",
       "FuelType            0\n",
       "Brand               0\n",
       "Repaired            0\n",
       "dtype: int64"
      ]
     },
     "execution_count": 40,
     "metadata": {},
     "output_type": "execute_result"
    }
   ],
   "source": [
    "data.isna().sum()"
   ]
  },
  {
   "cell_type": "markdown",
   "metadata": {},
   "source": [
    "Затем давайте преобразуем исходные категориальные значения признаков `Gearbox` и `Repaired` в числа \"0\" и \"1\".\n",
    "\n",
    "Для признака `Gearbox` обозначим:\n",
    "- \"0\" - для \"manual\" т.е. ручная кпп,\n",
    "- \"1\" - для \"auto\"  т.е. автоматическая кпп.\n",
    "\n",
    "Для признака `Repaired` обозначим:\n",
    "- \"0\" - для \"no\" т.е. не был в ремонте,\n",
    "- \"1\" - для \"yes\" т.е. был в ремонте."
   ]
  },
  {
   "cell_type": "code",
   "execution_count": 41,
   "metadata": {},
   "outputs": [
    {
     "data": {
      "text/html": [
       "<div>\n",
       "<style scoped>\n",
       "    .dataframe tbody tr th:only-of-type {\n",
       "        vertical-align: middle;\n",
       "    }\n",
       "\n",
       "    .dataframe tbody tr th {\n",
       "        vertical-align: top;\n",
       "    }\n",
       "\n",
       "    .dataframe thead th {\n",
       "        text-align: right;\n",
       "    }\n",
       "</style>\n",
       "<table border=\"1\" class=\"dataframe\">\n",
       "  <thead>\n",
       "    <tr style=\"text-align: right;\">\n",
       "      <th></th>\n",
       "      <th>Price</th>\n",
       "      <th>VehicleType</th>\n",
       "      <th>RegistrationYear</th>\n",
       "      <th>Gearbox</th>\n",
       "      <th>Power</th>\n",
       "      <th>Model</th>\n",
       "      <th>Kilometer</th>\n",
       "      <th>FuelType</th>\n",
       "      <th>Brand</th>\n",
       "      <th>Repaired</th>\n",
       "    </tr>\n",
       "  </thead>\n",
       "  <tbody>\n",
       "    <tr>\n",
       "      <th>0</th>\n",
       "      <td>480</td>\n",
       "      <td>another</td>\n",
       "      <td>1993</td>\n",
       "      <td>0</td>\n",
       "      <td>101.0</td>\n",
       "      <td>golf</td>\n",
       "      <td>150000</td>\n",
       "      <td>petrol</td>\n",
       "      <td>volkswagen</td>\n",
       "      <td>0</td>\n",
       "    </tr>\n",
       "    <tr>\n",
       "      <th>1</th>\n",
       "      <td>18300</td>\n",
       "      <td>coupe</td>\n",
       "      <td>2011</td>\n",
       "      <td>0</td>\n",
       "      <td>190.0</td>\n",
       "      <td>another</td>\n",
       "      <td>125000</td>\n",
       "      <td>gasoline</td>\n",
       "      <td>audi</td>\n",
       "      <td>1</td>\n",
       "    </tr>\n",
       "    <tr>\n",
       "      <th>2</th>\n",
       "      <td>9800</td>\n",
       "      <td>suv</td>\n",
       "      <td>2004</td>\n",
       "      <td>1</td>\n",
       "      <td>163.0</td>\n",
       "      <td>grand</td>\n",
       "      <td>125000</td>\n",
       "      <td>gasoline</td>\n",
       "      <td>jeep</td>\n",
       "      <td>1</td>\n",
       "    </tr>\n",
       "    <tr>\n",
       "      <th>3</th>\n",
       "      <td>1500</td>\n",
       "      <td>small</td>\n",
       "      <td>2001</td>\n",
       "      <td>0</td>\n",
       "      <td>75.0</td>\n",
       "      <td>golf</td>\n",
       "      <td>150000</td>\n",
       "      <td>petrol</td>\n",
       "      <td>volkswagen</td>\n",
       "      <td>0</td>\n",
       "    </tr>\n",
       "    <tr>\n",
       "      <th>4</th>\n",
       "      <td>3600</td>\n",
       "      <td>small</td>\n",
       "      <td>2008</td>\n",
       "      <td>0</td>\n",
       "      <td>69.0</td>\n",
       "      <td>fabia</td>\n",
       "      <td>90000</td>\n",
       "      <td>gasoline</td>\n",
       "      <td>skoda</td>\n",
       "      <td>0</td>\n",
       "    </tr>\n",
       "    <tr>\n",
       "      <th>...</th>\n",
       "      <td>...</td>\n",
       "      <td>...</td>\n",
       "      <td>...</td>\n",
       "      <td>...</td>\n",
       "      <td>...</td>\n",
       "      <td>...</td>\n",
       "      <td>...</td>\n",
       "      <td>...</td>\n",
       "      <td>...</td>\n",
       "      <td>...</td>\n",
       "    </tr>\n",
       "    <tr>\n",
       "      <th>329479</th>\n",
       "      <td>1150</td>\n",
       "      <td>bus</td>\n",
       "      <td>2000</td>\n",
       "      <td>0</td>\n",
       "      <td>101.0</td>\n",
       "      <td>zafira</td>\n",
       "      <td>150000</td>\n",
       "      <td>petrol</td>\n",
       "      <td>opel</td>\n",
       "      <td>0</td>\n",
       "    </tr>\n",
       "    <tr>\n",
       "      <th>329480</th>\n",
       "      <td>2200</td>\n",
       "      <td>another</td>\n",
       "      <td>2005</td>\n",
       "      <td>0</td>\n",
       "      <td>140.0</td>\n",
       "      <td>another</td>\n",
       "      <td>20000</td>\n",
       "      <td>another</td>\n",
       "      <td>sonstige_autos</td>\n",
       "      <td>0</td>\n",
       "    </tr>\n",
       "    <tr>\n",
       "      <th>329481</th>\n",
       "      <td>1199</td>\n",
       "      <td>convertible</td>\n",
       "      <td>2000</td>\n",
       "      <td>1</td>\n",
       "      <td>101.0</td>\n",
       "      <td>fortwo</td>\n",
       "      <td>125000</td>\n",
       "      <td>petrol</td>\n",
       "      <td>smart</td>\n",
       "      <td>0</td>\n",
       "    </tr>\n",
       "    <tr>\n",
       "      <th>329482</th>\n",
       "      <td>9200</td>\n",
       "      <td>bus</td>\n",
       "      <td>1996</td>\n",
       "      <td>0</td>\n",
       "      <td>102.0</td>\n",
       "      <td>transporter</td>\n",
       "      <td>150000</td>\n",
       "      <td>gasoline</td>\n",
       "      <td>volkswagen</td>\n",
       "      <td>0</td>\n",
       "    </tr>\n",
       "    <tr>\n",
       "      <th>329483</th>\n",
       "      <td>3400</td>\n",
       "      <td>wagon</td>\n",
       "      <td>2002</td>\n",
       "      <td>0</td>\n",
       "      <td>100.0</td>\n",
       "      <td>golf</td>\n",
       "      <td>150000</td>\n",
       "      <td>gasoline</td>\n",
       "      <td>volkswagen</td>\n",
       "      <td>1</td>\n",
       "    </tr>\n",
       "  </tbody>\n",
       "</table>\n",
       "<p>329484 rows × 10 columns</p>\n",
       "</div>"
      ],
      "text/plain": [
       "        Price  VehicleType  RegistrationYear Gearbox  Power        Model  \\\n",
       "0         480      another              1993       0  101.0         golf   \n",
       "1       18300        coupe              2011       0  190.0      another   \n",
       "2        9800          suv              2004       1  163.0        grand   \n",
       "3        1500        small              2001       0   75.0         golf   \n",
       "4        3600        small              2008       0   69.0        fabia   \n",
       "...       ...          ...               ...     ...    ...          ...   \n",
       "329479   1150          bus              2000       0  101.0       zafira   \n",
       "329480   2200      another              2005       0  140.0      another   \n",
       "329481   1199  convertible              2000       1  101.0       fortwo   \n",
       "329482   9200          bus              1996       0  102.0  transporter   \n",
       "329483   3400        wagon              2002       0  100.0         golf   \n",
       "\n",
       "        Kilometer  FuelType           Brand Repaired  \n",
       "0          150000    petrol      volkswagen        0  \n",
       "1          125000  gasoline            audi        1  \n",
       "2          125000  gasoline            jeep        1  \n",
       "3          150000    petrol      volkswagen        0  \n",
       "4           90000  gasoline           skoda        0  \n",
       "...           ...       ...             ...      ...  \n",
       "329479     150000    petrol            opel        0  \n",
       "329480      20000   another  sonstige_autos        0  \n",
       "329481     125000    petrol           smart        0  \n",
       "329482     150000  gasoline      volkswagen        0  \n",
       "329483     150000  gasoline      volkswagen        1  \n",
       "\n",
       "[329484 rows x 10 columns]"
      ]
     },
     "metadata": {},
     "output_type": "display_data"
    }
   ],
   "source": [
    "data.loc[data['Gearbox'] == 'manual', 'Gearbox'] = 0\n",
    "data.loc[data['Gearbox'] == 'auto', 'Gearbox'] = 1\n",
    "\n",
    "data.loc[data['Repaired'] == 'no', 'Repaired'] = 0\n",
    "data.loc[data['Repaired'] == 'yes', 'Repaired'] = 1\n",
    "\n",
    "display(data)"
   ]
  },
  {
   "cell_type": "markdown",
   "metadata": {},
   "source": [
    "Преобразуем тип данных у признаков `Gearbox` и `Repaired` в `integer64`:"
   ]
  },
  {
   "cell_type": "code",
   "execution_count": 42,
   "metadata": {},
   "outputs": [],
   "source": [
    "data['Gearbox'] = data['Gearbox'].astype('int64')\n",
    "data['Repaired'] = data['Repaired'].astype('int64')"
   ]
  },
  {
   "cell_type": "code",
   "execution_count": 43,
   "metadata": {},
   "outputs": [
    {
     "name": "stdout",
     "output_type": "stream",
     "text": [
      "<class 'pandas.core.frame.DataFrame'>\n",
      "RangeIndex: 329484 entries, 0 to 329483\n",
      "Data columns (total 10 columns):\n",
      " #   Column            Non-Null Count   Dtype  \n",
      "---  ------            --------------   -----  \n",
      " 0   Price             329484 non-null  int64  \n",
      " 1   VehicleType       329484 non-null  object \n",
      " 2   RegistrationYear  329484 non-null  int64  \n",
      " 3   Gearbox           329484 non-null  int64  \n",
      " 4   Power             329484 non-null  float64\n",
      " 5   Model             329484 non-null  object \n",
      " 6   Kilometer         329484 non-null  int64  \n",
      " 7   FuelType          329484 non-null  object \n",
      " 8   Brand             329484 non-null  object \n",
      " 9   Repaired          329484 non-null  int64  \n",
      "dtypes: float64(1), int64(5), object(4)\n",
      "memory usage: 25.1+ MB\n"
     ]
    }
   ],
   "source": [
    "data.info()"
   ]
  },
  {
   "cell_type": "markdown",
   "metadata": {},
   "source": [
    "Сейчас, наши данные `data` подготовлены для обучения модели градиентного бустинга *Catboost*."
   ]
  },
  {
   "cell_type": "markdown",
   "metadata": {},
   "source": [
    "### Исследование данных после итоговой предобработки\n",
    "<a name=\"36\"></a> <div style=\"text-align: left\">[Cодержание](#Содержание)</div>"
   ]
  },
  {
   "cell_type": "markdown",
   "metadata": {},
   "source": [
    "Взглянем на описание данных в итоговом датасете `data`."
   ]
  },
  {
   "cell_type": "code",
   "execution_count": 44,
   "metadata": {},
   "outputs": [
    {
     "data": {
      "text/html": [
       "<div>\n",
       "<style scoped>\n",
       "    .dataframe tbody tr th:only-of-type {\n",
       "        vertical-align: middle;\n",
       "    }\n",
       "\n",
       "    .dataframe tbody tr th {\n",
       "        vertical-align: top;\n",
       "    }\n",
       "\n",
       "    .dataframe thead th {\n",
       "        text-align: right;\n",
       "    }\n",
       "</style>\n",
       "<table border=\"1\" class=\"dataframe\">\n",
       "  <thead>\n",
       "    <tr style=\"text-align: right;\">\n",
       "      <th></th>\n",
       "      <th>Price</th>\n",
       "      <th>RegistrationYear</th>\n",
       "      <th>Gearbox</th>\n",
       "      <th>Power</th>\n",
       "      <th>Kilometer</th>\n",
       "      <th>Repaired</th>\n",
       "    </tr>\n",
       "  </thead>\n",
       "  <tbody>\n",
       "    <tr>\n",
       "      <th>count</th>\n",
       "      <td>329484.000000</td>\n",
       "      <td>329484.000000</td>\n",
       "      <td>329484.000000</td>\n",
       "      <td>329484.000000</td>\n",
       "      <td>329484.000000</td>\n",
       "      <td>329484.000000</td>\n",
       "    </tr>\n",
       "    <tr>\n",
       "      <th>mean</th>\n",
       "      <td>4607.664491</td>\n",
       "      <td>2002.620088</td>\n",
       "      <td>0.214608</td>\n",
       "      <td>120.140456</td>\n",
       "      <td>128231.067366</td>\n",
       "      <td>0.190880</td>\n",
       "    </tr>\n",
       "    <tr>\n",
       "      <th>std</th>\n",
       "      <td>4546.198371</td>\n",
       "      <td>6.771335</td>\n",
       "      <td>0.410551</td>\n",
       "      <td>55.971133</td>\n",
       "      <td>37486.631643</td>\n",
       "      <td>0.392996</td>\n",
       "    </tr>\n",
       "    <tr>\n",
       "      <th>min</th>\n",
       "      <td>1.000000</td>\n",
       "      <td>1940.000000</td>\n",
       "      <td>0.000000</td>\n",
       "      <td>1.000000</td>\n",
       "      <td>5000.000000</td>\n",
       "      <td>0.000000</td>\n",
       "    </tr>\n",
       "    <tr>\n",
       "      <th>25%</th>\n",
       "      <td>1200.000000</td>\n",
       "      <td>1999.000000</td>\n",
       "      <td>0.000000</td>\n",
       "      <td>80.000000</td>\n",
       "      <td>125000.000000</td>\n",
       "      <td>0.000000</td>\n",
       "    </tr>\n",
       "    <tr>\n",
       "      <th>50%</th>\n",
       "      <td>2900.000000</td>\n",
       "      <td>2003.000000</td>\n",
       "      <td>0.000000</td>\n",
       "      <td>109.000000</td>\n",
       "      <td>150000.000000</td>\n",
       "      <td>0.000000</td>\n",
       "    </tr>\n",
       "    <tr>\n",
       "      <th>75%</th>\n",
       "      <td>6600.000000</td>\n",
       "      <td>2007.000000</td>\n",
       "      <td>0.000000</td>\n",
       "      <td>150.000000</td>\n",
       "      <td>150000.000000</td>\n",
       "      <td>0.000000</td>\n",
       "    </tr>\n",
       "    <tr>\n",
       "      <th>max</th>\n",
       "      <td>20000.000000</td>\n",
       "      <td>2016.000000</td>\n",
       "      <td>1.000000</td>\n",
       "      <td>1500.000000</td>\n",
       "      <td>150000.000000</td>\n",
       "      <td>1.000000</td>\n",
       "    </tr>\n",
       "  </tbody>\n",
       "</table>\n",
       "</div>"
      ],
      "text/plain": [
       "               Price  RegistrationYear        Gearbox          Power  \\\n",
       "count  329484.000000     329484.000000  329484.000000  329484.000000   \n",
       "mean     4607.664491       2002.620088       0.214608     120.140456   \n",
       "std      4546.198371          6.771335       0.410551      55.971133   \n",
       "min         1.000000       1940.000000       0.000000       1.000000   \n",
       "25%      1200.000000       1999.000000       0.000000      80.000000   \n",
       "50%      2900.000000       2003.000000       0.000000     109.000000   \n",
       "75%      6600.000000       2007.000000       0.000000     150.000000   \n",
       "max     20000.000000       2016.000000       1.000000    1500.000000   \n",
       "\n",
       "           Kilometer       Repaired  \n",
       "count  329484.000000  329484.000000  \n",
       "mean   128231.067366       0.190880  \n",
       "std     37486.631643       0.392996  \n",
       "min      5000.000000       0.000000  \n",
       "25%    125000.000000       0.000000  \n",
       "50%    150000.000000       0.000000  \n",
       "75%    150000.000000       0.000000  \n",
       "max    150000.000000       1.000000  "
      ]
     },
     "execution_count": 44,
     "metadata": {},
     "output_type": "execute_result"
    }
   ],
   "source": [
    "data.describe()"
   ]
  },
  {
   "cell_type": "markdown",
   "metadata": {},
   "source": [
    "Визуализируем при помощи гистограмм распределение переменных в итоговом датасете `data`."
   ]
  },
  {
   "cell_type": "code",
   "execution_count": 45,
   "metadata": {},
   "outputs": [
    {
     "data": {
      "image/png": "[encoded data removed]",
      "text/plain": [
       "<Figure size 720x720 with 6 Axes>"
      ]
     },
     "metadata": {
      "needs_background": "light"
     },
     "output_type": "display_data"
    }
   ],
   "source": [
    "data.hist(figsize=(10, 10), bins=50, alpha=0.7, color='deepskyblue')\n",
    "plt.show()"
   ]
  },
  {
   "cell_type": "markdown",
   "metadata": {},
   "source": [
    "Для переменных итогового датасета `data`, выведем коэффициенты корреляции Пирсона."
   ]
  },
  {
   "cell_type": "code",
   "execution_count": 46,
   "metadata": {},
   "outputs": [
    {
     "data": {
      "text/html": [
       "<div>\n",
       "<style scoped>\n",
       "    .dataframe tbody tr th:only-of-type {\n",
       "        vertical-align: middle;\n",
       "    }\n",
       "\n",
       "    .dataframe tbody tr th {\n",
       "        vertical-align: top;\n",
       "    }\n",
       "\n",
       "    .dataframe thead th {\n",
       "        text-align: right;\n",
       "    }\n",
       "</style>\n",
       "<table border=\"1\" class=\"dataframe\">\n",
       "  <thead>\n",
       "    <tr style=\"text-align: right;\">\n",
       "      <th></th>\n",
       "      <th>Price</th>\n",
       "      <th>RegistrationYear</th>\n",
       "      <th>Gearbox</th>\n",
       "      <th>Power</th>\n",
       "      <th>Kilometer</th>\n",
       "      <th>Repaired</th>\n",
       "    </tr>\n",
       "  </thead>\n",
       "  <tbody>\n",
       "    <tr>\n",
       "      <th>Price</th>\n",
       "      <td>1.000000</td>\n",
       "      <td>0.447416</td>\n",
       "      <td>0.224156</td>\n",
       "      <td>0.459619</td>\n",
       "      <td>-0.354344</td>\n",
       "      <td>-0.234556</td>\n",
       "    </tr>\n",
       "    <tr>\n",
       "      <th>RegistrationYear</th>\n",
       "      <td>0.447416</td>\n",
       "      <td>1.000000</td>\n",
       "      <td>0.030648</td>\n",
       "      <td>0.113172</td>\n",
       "      <td>-0.231562</td>\n",
       "      <td>-0.115262</td>\n",
       "    </tr>\n",
       "    <tr>\n",
       "      <th>Gearbox</th>\n",
       "      <td>0.224156</td>\n",
       "      <td>0.030648</td>\n",
       "      <td>1.000000</td>\n",
       "      <td>0.361016</td>\n",
       "      <td>0.008496</td>\n",
       "      <td>-0.012362</td>\n",
       "    </tr>\n",
       "    <tr>\n",
       "      <th>Power</th>\n",
       "      <td>0.459619</td>\n",
       "      <td>0.113172</td>\n",
       "      <td>0.361016</td>\n",
       "      <td>1.000000</td>\n",
       "      <td>0.091374</td>\n",
       "      <td>-0.063181</td>\n",
       "    </tr>\n",
       "    <tr>\n",
       "      <th>Kilometer</th>\n",
       "      <td>-0.354344</td>\n",
       "      <td>-0.231562</td>\n",
       "      <td>0.008496</td>\n",
       "      <td>0.091374</td>\n",
       "      <td>1.000000</td>\n",
       "      <td>0.077585</td>\n",
       "    </tr>\n",
       "    <tr>\n",
       "      <th>Repaired</th>\n",
       "      <td>-0.234556</td>\n",
       "      <td>-0.115262</td>\n",
       "      <td>-0.012362</td>\n",
       "      <td>-0.063181</td>\n",
       "      <td>0.077585</td>\n",
       "      <td>1.000000</td>\n",
       "    </tr>\n",
       "  </tbody>\n",
       "</table>\n",
       "</div>"
      ],
      "text/plain": [
       "                     Price  RegistrationYear   Gearbox     Power  Kilometer  \\\n",
       "Price             1.000000          0.447416  0.224156  0.459619  -0.354344   \n",
       "RegistrationYear  0.447416          1.000000  0.030648  0.113172  -0.231562   \n",
       "Gearbox           0.224156          0.030648  1.000000  0.361016   0.008496   \n",
       "Power             0.459619          0.113172  0.361016  1.000000   0.091374   \n",
       "Kilometer        -0.354344         -0.231562  0.008496  0.091374   1.000000   \n",
       "Repaired         -0.234556         -0.115262 -0.012362 -0.063181   0.077585   \n",
       "\n",
       "                  Repaired  \n",
       "Price            -0.234556  \n",
       "RegistrationYear -0.115262  \n",
       "Gearbox          -0.012362  \n",
       "Power            -0.063181  \n",
       "Kilometer         0.077585  \n",
       "Repaired          1.000000  "
      ]
     },
     "execution_count": 46,
     "metadata": {},
     "output_type": "execute_result"
    }
   ],
   "source": [
    "data.corr()"
   ]
  },
  {
   "cell_type": "markdown",
   "metadata": {},
   "source": [
    "Построим тепловую карту коэффициентов корреляции Пирсона, для переменных датасета `data`."
   ]
  },
  {
   "cell_type": "code",
   "execution_count": 47,
   "metadata": {},
   "outputs": [
    {
     "data": {
      "image/png": "[encoded data removed]",
      "text/plain": [
       "<Figure size 720x576 with 2 Axes>"
      ]
     },
     "metadata": {
      "needs_background": "light"
     },
     "output_type": "display_data"
    }
   ],
   "source": [
    "plt.figure(figsize=(10,8))\n",
    "sns.heatmap(data.corr(), annot=True, fmt = '.2f', \n",
    "            vmin=-1, vmax=1, center=0, cmap='coolwarm')\n",
    "plt.show()"
   ]
  },
  {
   "cell_type": "markdown",
   "metadata": {},
   "source": [
    "Видно, что имеются незначительная прямая корреляция между признаками `RegistrationYear`, `Power` и `Price`, а также обратная корреляция между признаками `Kilometer` и `Price`, что логично. Так как чем новее автомобиль и больше мощность, тем выше цена. И, наоборот, чем больше пробег, тем ниже цена."
   ]
  },
  {
   "cell_type": "markdown",
   "metadata": {},
   "source": [
    "### Вывод\n",
    "<a name=\"37\"></a> <div style=\"text-align: left\">[Cодержание](#Содержание)</div>"
   ]
  },
  {
   "cell_type": "markdown",
   "metadata": {},
   "source": [
    "В разделе [**Исследование данных**](#3.-Исследование-данных) были выполнены следующие задачи:\n",
    "1. Изучены данные.\n",
    "2. Удалены явные дубликаты.\n",
    "3. Удалены неинформативные признаки.\n",
    "4. Проведено исследование данных после первичной предобработки.\n",
    "5. Выполнена обработка аномалий.\n",
    "6. Выполнена обработка пропусков.\n",
    "7. Проведено исследование данных после итоговой предобработки.\n",
    "\n",
    "\n",
    "В результате выполнения задач этого раздела было выявлено следующее:\n",
    "- Наблюдаются корреляции - незначительная прямая между признаками `RegistrationYear`, `Power` и `Price`, а также обратная между признаками `Kilometer` и `Price`, что логично, поскольку чем новее автомобиль и больше мощность, тем выше цена. И наоборот, чем больше пробег, тем ниже цена.\n",
    "- Распределения значений признаков стали более правдоподобными.\n",
    "\n",
    "**В нашем проекте решается задача регрессии.**"
   ]
  },
  {
   "cell_type": "markdown",
   "metadata": {},
   "source": [
    "## Подготовка данных к обучению\n",
    "<a name=\"4\"></a> <div style=\"text-align: left\">[Cодержание](#Содержание)</div>"
   ]
  },
  {
   "cell_type": "markdown",
   "metadata": {},
   "source": [
    "### Разделение данных на выборки\n",
    "<a name=\"41\"></a> <div style=\"text-align: left\">[Cодержание](#Содержание)</div>"
   ]
  },
  {
   "cell_type": "markdown",
   "metadata": {},
   "source": [
    "Подготовим выборки из датасета `data`, с заполненными пропущенными значениями.\n",
    "\n",
    "Разобьём данные, выделим целевой признак."
   ]
  },
  {
   "cell_type": "code",
   "execution_count": 48,
   "metadata": {},
   "outputs": [],
   "source": [
    "features = data.drop('Price', axis=1)\n",
    "target = data['Price']"
   ]
  },
  {
   "cell_type": "markdown",
   "metadata": {},
   "source": [
    "Разделим данные на обучающую, валидационную а также тестовую выборки, в пропорции 3:1:1.\n",
    "\n",
    "Сначала разделим полученые данные на промежуточную (`train_valid`) (80%) и тестовую (20%) выборки."
   ]
  },
  {
   "cell_type": "code",
   "execution_count": 49,
   "metadata": {},
   "outputs": [],
   "source": [
    "features_train_valid, features_test,\\\n",
    "target_train_valid, target_test = train_test_split(\n",
    "    features, target, test_size=0.20, random_state=RANDOM_STATE)"
   ]
  },
  {
   "cell_type": "markdown",
   "metadata": {},
   "source": [
    "Затем разделим нашу промежуточную выборку (`train_valid`) на обучающую и валидационную (25% от промежуточной выборки = 20% от исходного датасета)."
   ]
  },
  {
   "cell_type": "code",
   "execution_count": 50,
   "metadata": {},
   "outputs": [],
   "source": [
    "features_train, features_valid,\\\n",
    "target_train, target_valid = train_test_split(\n",
    "    features_train_valid, target_train_valid, \n",
    "    test_size=0.25, random_state=RANDOM_STATE)"
   ]
  },
  {
   "cell_type": "markdown",
   "metadata": {},
   "source": [
    "Теперь сбросим индексы, это понадобится нам для последующего кодирования."
   ]
  },
  {
   "cell_type": "code",
   "execution_count": 51,
   "metadata": {},
   "outputs": [],
   "source": [
    "features_train = features_train.reset_index(drop=True)\n",
    "target_train = target_train.reset_index(drop=True)\n",
    "\n",
    "features_train_valid = features_train_valid.reset_index(drop=True)\n",
    "target_train_valid = target_train_valid.reset_index(drop=True)\n",
    "\n",
    "features_valid = features_valid.reset_index(drop=True)\n",
    "target_valid = target_valid.reset_index(drop=True)\n",
    "\n",
    "features_test = features_test.reset_index(drop=True)\n",
    "target_test = target_test.reset_index(drop=True)"
   ]
  },
  {
   "cell_type": "markdown",
   "metadata": {},
   "source": [
    "### Кодирование категориальных признаков\n",
    "<a name=\"42\"></a> <div style=\"text-align: left\">[Cодержание](#Содержание)</div>"
   ]
  },
  {
   "cell_type": "markdown",
   "metadata": {},
   "source": [
    "Модели градиентного бустинга `LGBMRegressor` и случайного леса `RandomForestRegressor` имеют нюанс - они не распознают тип данных `object`. Поэтому для их применения необходимо преобразовать категориальные признаки в численные.\n",
    "\n",
    "Давайте посмотрим, какие категориальные признаки нужно преобразовать в численные."
   ]
  },
  {
   "cell_type": "code",
   "execution_count": 52,
   "metadata": {},
   "outputs": [
    {
     "name": "stdout",
     "output_type": "stream",
     "text": [
      "<class 'pandas.core.frame.DataFrame'>\n",
      "RangeIndex: 329484 entries, 0 to 329483\n",
      "Data columns (total 10 columns):\n",
      " #   Column            Non-Null Count   Dtype  \n",
      "---  ------            --------------   -----  \n",
      " 0   Price             329484 non-null  int64  \n",
      " 1   VehicleType       329484 non-null  object \n",
      " 2   RegistrationYear  329484 non-null  int64  \n",
      " 3   Gearbox           329484 non-null  int64  \n",
      " 4   Power             329484 non-null  float64\n",
      " 5   Model             329484 non-null  object \n",
      " 6   Kilometer         329484 non-null  int64  \n",
      " 7   FuelType          329484 non-null  object \n",
      " 8   Brand             329484 non-null  object \n",
      " 9   Repaired          329484 non-null  int64  \n",
      "dtypes: float64(1), int64(5), object(4)\n",
      "memory usage: 25.1+ MB\n"
     ]
    }
   ],
   "source": [
    "data.info()"
   ]
  },
  {
   "cell_type": "markdown",
   "metadata": {},
   "source": [
    "Судя по всему, в численные нужно преобразовать признаки `VehicleType`, `Model`, `FuelType` и `Brand`.\n",
    "\n",
    "Преобразуем категориальные признаки в численные, используя технику порядкового кодирования *(Ordinal Encoding)*. Для этого мы применим к данным функцию `OrdinalEncoder()`.\n",
    "\n",
    "Также, сохраним список категориальных признаков в переменной `categorical`."
   ]
  },
  {
   "cell_type": "code",
   "execution_count": 53,
   "metadata": {},
   "outputs": [],
   "source": [
    "categorical = ['VehicleType', 'Model', 'FuelType', 'Brand']"
   ]
  },
  {
   "cell_type": "code",
   "execution_count": 54,
   "metadata": {},
   "outputs": [
    {
     "data": {
      "text/plain": [
       "\"Выборка 'train'\""
      ]
     },
     "metadata": {},
     "output_type": "display_data"
    },
    {
     "data": {
      "text/html": [
       "<div>\n",
       "<style scoped>\n",
       "    .dataframe tbody tr th:only-of-type {\n",
       "        vertical-align: middle;\n",
       "    }\n",
       "\n",
       "    .dataframe tbody tr th {\n",
       "        vertical-align: top;\n",
       "    }\n",
       "\n",
       "    .dataframe thead th {\n",
       "        text-align: right;\n",
       "    }\n",
       "</style>\n",
       "<table border=\"1\" class=\"dataframe\">\n",
       "  <thead>\n",
       "    <tr style=\"text-align: right;\">\n",
       "      <th></th>\n",
       "      <th>VehicleType</th>\n",
       "      <th>RegistrationYear</th>\n",
       "      <th>Gearbox</th>\n",
       "      <th>Power</th>\n",
       "      <th>Model</th>\n",
       "      <th>Kilometer</th>\n",
       "      <th>FuelType</th>\n",
       "      <th>Brand</th>\n",
       "      <th>Repaired</th>\n",
       "    </tr>\n",
       "  </thead>\n",
       "  <tbody>\n",
       "    <tr>\n",
       "      <th>0</th>\n",
       "      <td>1.0</td>\n",
       "      <td>2007</td>\n",
       "      <td>0</td>\n",
       "      <td>131.0</td>\n",
       "      <td>225.0</td>\n",
       "      <td>20000</td>\n",
       "      <td>3.0</td>\n",
       "      <td>38.0</td>\n",
       "      <td>0</td>\n",
       "    </tr>\n",
       "    <tr>\n",
       "      <th>1</th>\n",
       "      <td>8.0</td>\n",
       "      <td>2000</td>\n",
       "      <td>0</td>\n",
       "      <td>118.0</td>\n",
       "      <td>11.0</td>\n",
       "      <td>150000</td>\n",
       "      <td>7.0</td>\n",
       "      <td>2.0</td>\n",
       "      <td>0</td>\n",
       "    </tr>\n",
       "    <tr>\n",
       "      <th>2</th>\n",
       "      <td>6.0</td>\n",
       "      <td>2006</td>\n",
       "      <td>0</td>\n",
       "      <td>54.0</td>\n",
       "      <td>108.0</td>\n",
       "      <td>90000</td>\n",
       "      <td>7.0</td>\n",
       "      <td>38.0</td>\n",
       "      <td>0</td>\n",
       "    </tr>\n",
       "    <tr>\n",
       "      <th>3</th>\n",
       "      <td>0.0</td>\n",
       "      <td>1995</td>\n",
       "      <td>0</td>\n",
       "      <td>150.0</td>\n",
       "      <td>167.0</td>\n",
       "      <td>150000</td>\n",
       "      <td>0.0</td>\n",
       "      <td>20.0</td>\n",
       "      <td>1</td>\n",
       "    </tr>\n",
       "    <tr>\n",
       "      <th>4</th>\n",
       "      <td>6.0</td>\n",
       "      <td>2002</td>\n",
       "      <td>0</td>\n",
       "      <td>58.0</td>\n",
       "      <td>84.0</td>\n",
       "      <td>125000</td>\n",
       "      <td>7.0</td>\n",
       "      <td>24.0</td>\n",
       "      <td>0</td>\n",
       "    </tr>\n",
       "  </tbody>\n",
       "</table>\n",
       "</div>"
      ],
      "text/plain": [
       "   VehicleType  RegistrationYear  Gearbox  Power  Model  Kilometer  FuelType  \\\n",
       "0          1.0              2007        0  131.0  225.0      20000       3.0   \n",
       "1          8.0              2000        0  118.0   11.0     150000       7.0   \n",
       "2          6.0              2006        0   54.0  108.0      90000       7.0   \n",
       "3          0.0              1995        0  150.0  167.0     150000       0.0   \n",
       "4          6.0              2002        0   58.0   84.0     125000       7.0   \n",
       "\n",
       "   Brand  Repaired  \n",
       "0   38.0         0  \n",
       "1    2.0         0  \n",
       "2   38.0         0  \n",
       "3   20.0         1  \n",
       "4   24.0         0  "
      ]
     },
     "metadata": {},
     "output_type": "display_data"
    },
    {
     "data": {
      "text/plain": [
       "\"Выборка 'train_valid'\""
      ]
     },
     "metadata": {},
     "output_type": "display_data"
    },
    {
     "data": {
      "text/html": [
       "<div>\n",
       "<style scoped>\n",
       "    .dataframe tbody tr th:only-of-type {\n",
       "        vertical-align: middle;\n",
       "    }\n",
       "\n",
       "    .dataframe tbody tr th {\n",
       "        vertical-align: top;\n",
       "    }\n",
       "\n",
       "    .dataframe thead th {\n",
       "        text-align: right;\n",
       "    }\n",
       "</style>\n",
       "<table border=\"1\" class=\"dataframe\">\n",
       "  <thead>\n",
       "    <tr style=\"text-align: right;\">\n",
       "      <th></th>\n",
       "      <th>VehicleType</th>\n",
       "      <th>RegistrationYear</th>\n",
       "      <th>Gearbox</th>\n",
       "      <th>Power</th>\n",
       "      <th>Model</th>\n",
       "      <th>Kilometer</th>\n",
       "      <th>FuelType</th>\n",
       "      <th>Brand</th>\n",
       "      <th>Repaired</th>\n",
       "    </tr>\n",
       "  </thead>\n",
       "  <tbody>\n",
       "    <tr>\n",
       "      <th>0</th>\n",
       "      <td>5.0</td>\n",
       "      <td>2008</td>\n",
       "      <td>0</td>\n",
       "      <td>344.0</td>\n",
       "      <td>141.0</td>\n",
       "      <td>125000</td>\n",
       "      <td>7.0</td>\n",
       "      <td>30.0</td>\n",
       "      <td>0</td>\n",
       "    </tr>\n",
       "    <tr>\n",
       "      <th>1</th>\n",
       "      <td>2.0</td>\n",
       "      <td>1997</td>\n",
       "      <td>1</td>\n",
       "      <td>193.0</td>\n",
       "      <td>209.0</td>\n",
       "      <td>80000</td>\n",
       "      <td>7.0</td>\n",
       "      <td>20.0</td>\n",
       "      <td>0</td>\n",
       "    </tr>\n",
       "    <tr>\n",
       "      <th>2</th>\n",
       "      <td>5.0</td>\n",
       "      <td>2006</td>\n",
       "      <td>0</td>\n",
       "      <td>177.0</td>\n",
       "      <td>15.0</td>\n",
       "      <td>150000</td>\n",
       "      <td>7.0</td>\n",
       "      <td>2.0</td>\n",
       "      <td>0</td>\n",
       "    </tr>\n",
       "    <tr>\n",
       "      <th>3</th>\n",
       "      <td>6.0</td>\n",
       "      <td>2001</td>\n",
       "      <td>0</td>\n",
       "      <td>101.0</td>\n",
       "      <td>129.0</td>\n",
       "      <td>150000</td>\n",
       "      <td>0.0</td>\n",
       "      <td>10.0</td>\n",
       "      <td>0</td>\n",
       "    </tr>\n",
       "    <tr>\n",
       "      <th>4</th>\n",
       "      <td>6.0</td>\n",
       "      <td>2000</td>\n",
       "      <td>0</td>\n",
       "      <td>75.0</td>\n",
       "      <td>40.0</td>\n",
       "      <td>150000</td>\n",
       "      <td>7.0</td>\n",
       "      <td>33.0</td>\n",
       "      <td>1</td>\n",
       "    </tr>\n",
       "  </tbody>\n",
       "</table>\n",
       "</div>"
      ],
      "text/plain": [
       "   VehicleType  RegistrationYear  Gearbox  Power  Model  Kilometer  FuelType  \\\n",
       "0          5.0              2008        0  344.0  141.0     125000       7.0   \n",
       "1          2.0              1997        1  193.0  209.0      80000       7.0   \n",
       "2          5.0              2006        0  177.0   15.0     150000       7.0   \n",
       "3          6.0              2001        0  101.0  129.0     150000       0.0   \n",
       "4          6.0              2000        0   75.0   40.0     150000       7.0   \n",
       "\n",
       "   Brand  Repaired  \n",
       "0   30.0         0  \n",
       "1   20.0         0  \n",
       "2    2.0         0  \n",
       "3   10.0         0  \n",
       "4   33.0         1  "
      ]
     },
     "metadata": {},
     "output_type": "display_data"
    },
    {
     "data": {
      "text/plain": [
       "\"Выборка 'valid'\""
      ]
     },
     "metadata": {},
     "output_type": "display_data"
    },
    {
     "data": {
      "text/html": [
       "<div>\n",
       "<style scoped>\n",
       "    .dataframe tbody tr th:only-of-type {\n",
       "        vertical-align: middle;\n",
       "    }\n",
       "\n",
       "    .dataframe tbody tr th {\n",
       "        vertical-align: top;\n",
       "    }\n",
       "\n",
       "    .dataframe thead th {\n",
       "        text-align: right;\n",
       "    }\n",
       "</style>\n",
       "<table border=\"1\" class=\"dataframe\">\n",
       "  <thead>\n",
       "    <tr style=\"text-align: right;\">\n",
       "      <th></th>\n",
       "      <th>VehicleType</th>\n",
       "      <th>RegistrationYear</th>\n",
       "      <th>Gearbox</th>\n",
       "      <th>Power</th>\n",
       "      <th>Model</th>\n",
       "      <th>Kilometer</th>\n",
       "      <th>FuelType</th>\n",
       "      <th>Brand</th>\n",
       "      <th>Repaired</th>\n",
       "    </tr>\n",
       "  </thead>\n",
       "  <tbody>\n",
       "    <tr>\n",
       "      <th>0</th>\n",
       "      <td>7.0</td>\n",
       "      <td>2008</td>\n",
       "      <td>1</td>\n",
       "      <td>141.0</td>\n",
       "      <td>181.0</td>\n",
       "      <td>100000</td>\n",
       "      <td>7.0</td>\n",
       "      <td>23.0</td>\n",
       "      <td>0</td>\n",
       "    </tr>\n",
       "    <tr>\n",
       "      <th>1</th>\n",
       "      <td>2.0</td>\n",
       "      <td>2008</td>\n",
       "      <td>1</td>\n",
       "      <td>230.0</td>\n",
       "      <td>62.0</td>\n",
       "      <td>150000</td>\n",
       "      <td>7.0</td>\n",
       "      <td>39.0</td>\n",
       "      <td>0</td>\n",
       "    </tr>\n",
       "    <tr>\n",
       "      <th>2</th>\n",
       "      <td>5.0</td>\n",
       "      <td>2009</td>\n",
       "      <td>0</td>\n",
       "      <td>80.0</td>\n",
       "      <td>117.0</td>\n",
       "      <td>80000</td>\n",
       "      <td>7.0</td>\n",
       "      <td>38.0</td>\n",
       "      <td>0</td>\n",
       "    </tr>\n",
       "    <tr>\n",
       "      <th>3</th>\n",
       "      <td>2.0</td>\n",
       "      <td>1995</td>\n",
       "      <td>0</td>\n",
       "      <td>75.0</td>\n",
       "      <td>117.0</td>\n",
       "      <td>150000</td>\n",
       "      <td>7.0</td>\n",
       "      <td>38.0</td>\n",
       "      <td>0</td>\n",
       "    </tr>\n",
       "    <tr>\n",
       "      <th>4</th>\n",
       "      <td>7.0</td>\n",
       "      <td>2011</td>\n",
       "      <td>0</td>\n",
       "      <td>178.0</td>\n",
       "      <td>167.0</td>\n",
       "      <td>80000</td>\n",
       "      <td>3.0</td>\n",
       "      <td>22.0</td>\n",
       "      <td>0</td>\n",
       "    </tr>\n",
       "  </tbody>\n",
       "</table>\n",
       "</div>"
      ],
      "text/plain": [
       "   VehicleType  RegistrationYear  Gearbox  Power  Model  Kilometer  FuelType  \\\n",
       "0          7.0              2008        1  141.0  181.0     100000       7.0   \n",
       "1          2.0              2008        1  230.0   62.0     150000       7.0   \n",
       "2          5.0              2009        0   80.0  117.0      80000       7.0   \n",
       "3          2.0              1995        0   75.0  117.0     150000       7.0   \n",
       "4          7.0              2011        0  178.0  167.0      80000       3.0   \n",
       "\n",
       "   Brand  Repaired  \n",
       "0   23.0         0  \n",
       "1   39.0         0  \n",
       "2   38.0         0  \n",
       "3   38.0         0  \n",
       "4   22.0         0  "
      ]
     },
     "metadata": {},
     "output_type": "display_data"
    },
    {
     "data": {
      "text/plain": [
       "\"Выборка 'test'\""
      ]
     },
     "metadata": {},
     "output_type": "display_data"
    },
    {
     "data": {
      "text/html": [
       "<div>\n",
       "<style scoped>\n",
       "    .dataframe tbody tr th:only-of-type {\n",
       "        vertical-align: middle;\n",
       "    }\n",
       "\n",
       "    .dataframe tbody tr th {\n",
       "        vertical-align: top;\n",
       "    }\n",
       "\n",
       "    .dataframe thead th {\n",
       "        text-align: right;\n",
       "    }\n",
       "</style>\n",
       "<table border=\"1\" class=\"dataframe\">\n",
       "  <thead>\n",
       "    <tr style=\"text-align: right;\">\n",
       "      <th></th>\n",
       "      <th>VehicleType</th>\n",
       "      <th>RegistrationYear</th>\n",
       "      <th>Gearbox</th>\n",
       "      <th>Power</th>\n",
       "      <th>Model</th>\n",
       "      <th>Kilometer</th>\n",
       "      <th>FuelType</th>\n",
       "      <th>Brand</th>\n",
       "      <th>Repaired</th>\n",
       "    </tr>\n",
       "  </thead>\n",
       "  <tbody>\n",
       "    <tr>\n",
       "      <th>0</th>\n",
       "      <td>0.0</td>\n",
       "      <td>1970</td>\n",
       "      <td>1</td>\n",
       "      <td>90.0</td>\n",
       "      <td>40.0</td>\n",
       "      <td>100000</td>\n",
       "      <td>0.0</td>\n",
       "      <td>24.0</td>\n",
       "      <td>1</td>\n",
       "    </tr>\n",
       "    <tr>\n",
       "      <th>1</th>\n",
       "      <td>5.0</td>\n",
       "      <td>2010</td>\n",
       "      <td>0</td>\n",
       "      <td>170.0</td>\n",
       "      <td>60.0</td>\n",
       "      <td>90000</td>\n",
       "      <td>3.0</td>\n",
       "      <td>20.0</td>\n",
       "      <td>0</td>\n",
       "    </tr>\n",
       "    <tr>\n",
       "      <th>2</th>\n",
       "      <td>6.0</td>\n",
       "      <td>2009</td>\n",
       "      <td>0</td>\n",
       "      <td>60.0</td>\n",
       "      <td>170.0</td>\n",
       "      <td>50000</td>\n",
       "      <td>7.0</td>\n",
       "      <td>9.0</td>\n",
       "      <td>0</td>\n",
       "    </tr>\n",
       "    <tr>\n",
       "      <th>3</th>\n",
       "      <td>6.0</td>\n",
       "      <td>2001</td>\n",
       "      <td>0</td>\n",
       "      <td>50.0</td>\n",
       "      <td>144.0</td>\n",
       "      <td>80000</td>\n",
       "      <td>7.0</td>\n",
       "      <td>38.0</td>\n",
       "      <td>0</td>\n",
       "    </tr>\n",
       "    <tr>\n",
       "      <th>4</th>\n",
       "      <td>5.0</td>\n",
       "      <td>2002</td>\n",
       "      <td>0</td>\n",
       "      <td>75.0</td>\n",
       "      <td>117.0</td>\n",
       "      <td>150000</td>\n",
       "      <td>7.0</td>\n",
       "      <td>38.0</td>\n",
       "      <td>0</td>\n",
       "    </tr>\n",
       "  </tbody>\n",
       "</table>\n",
       "</div>"
      ],
      "text/plain": [
       "   VehicleType  RegistrationYear  Gearbox  Power  Model  Kilometer  FuelType  \\\n",
       "0          0.0              1970        1   90.0   40.0     100000       0.0   \n",
       "1          5.0              2010        0  170.0   60.0      90000       3.0   \n",
       "2          6.0              2009        0   60.0  170.0      50000       7.0   \n",
       "3          6.0              2001        0   50.0  144.0      80000       7.0   \n",
       "4          5.0              2002        0   75.0  117.0     150000       7.0   \n",
       "\n",
       "   Brand  Repaired  \n",
       "0   24.0         1  \n",
       "1   20.0         0  \n",
       "2    9.0         0  \n",
       "3   38.0         0  \n",
       "4   38.0         0  "
      ]
     },
     "metadata": {},
     "output_type": "display_data"
    }
   ],
   "source": [
    "# создадим копии выборок для последующего кодирования категориальных признаков\n",
    "features_train_encoded = features_train.copy()\n",
    "features_train_valid_encoded = features_train_valid.copy()\n",
    "features_valid_encoded = features_valid.copy()\n",
    "features_test_encoded = features_test.copy()\n",
    "\n",
    "# создадим объект класса OrdinalEncoder()\n",
    "encoder = OrdinalEncoder(handle_unknown='use_encoded_value', unknown_value=-1) \n",
    "\n",
    "# получим список категориальных признаков используя метод fit() \n",
    "# и преобразуем данные на обучающей выборке используя transform()\n",
    "features_train_encoded[categorical] = encoder.fit_transform(\n",
    "    features_train_encoded[categorical])\n",
    "\n",
    "# преобразуем данные на промежуточной выборке\n",
    "features_train_valid_encoded[categorical] = encoder.transform(\n",
    "    features_train_valid_encoded[categorical])\n",
    "\n",
    "# преобразуем данные на валидационной выборке\n",
    "features_valid_encoded[categorical] = encoder.transform(\n",
    "    features_valid_encoded[categorical])\n",
    "\n",
    "# преобразуем данные на тестовой выборке\n",
    "features_test_encoded[categorical] = encoder.transform(\n",
    "    features_test_encoded[categorical])\n",
    "\n",
    "display(\"Выборка 'train'\", features_train_encoded.head())\n",
    "display(\"Выборка 'train_valid'\", features_train_valid_encoded.head())\n",
    "display(\"Выборка 'valid'\", features_valid_encoded.head())\n",
    "display(\"Выборка 'test'\", features_test_encoded.head())"
   ]
  },
  {
   "cell_type": "markdown",
   "metadata": {},
   "source": [
    "### Масштабирование численных признаков\n",
    "<a name=\"43\"></a> <div style=\"text-align: left\">[Cодержание](#Содержание)</div>"
   ]
  },
  {
   "cell_type": "markdown",
   "metadata": {},
   "source": [
    "#### Для моделей `LGBMRegressor` и `RandomForestRegressor` \n",
    "<a name=\"431\"></a> <div style=\"text-align: left\">[Cодержание](#Содержание)</div>"
   ]
  },
  {
   "cell_type": "markdown",
   "metadata": {},
   "source": [
    "Масштабируем численные признаки для **моделей градиентного бустинга `LGBMRegressor` и случайного леса `RandomForestRegressor`**, используя данные с **кодированными** категориальными признаками. Для этого стандартизируем данные с помощью класса `StandardScaler()`.\n",
    "\n",
    "Сохраним список всех численных признаков, оставшихся после кодирования категориальных признаков в переменной `numeric_encoded`. \n",
    "\n",
    "После кодирования все признаки стали численными, поэтому можем указать названия всех признаков каждой из выборок."
   ]
  },
  {
   "cell_type": "code",
   "execution_count": 55,
   "metadata": {},
   "outputs": [
    {
     "data": {
      "text/plain": [
       "Index(['VehicleType', 'RegistrationYear', 'Gearbox', 'Power', 'Model',\n",
       "       'Kilometer', 'FuelType', 'Brand', 'Repaired'],\n",
       "      dtype='object')"
      ]
     },
     "execution_count": 55,
     "metadata": {},
     "output_type": "execute_result"
    }
   ],
   "source": [
    "numeric_encoded = features_train_encoded.columns\n",
    "numeric_encoded"
   ]
  },
  {
   "cell_type": "code",
   "execution_count": 56,
   "metadata": {},
   "outputs": [
    {
     "data": {
      "text/plain": [
       "\"Выборка 'train'\""
      ]
     },
     "metadata": {},
     "output_type": "display_data"
    },
    {
     "data": {
      "text/html": [
       "<div>\n",
       "<style scoped>\n",
       "    .dataframe tbody tr th:only-of-type {\n",
       "        vertical-align: middle;\n",
       "    }\n",
       "\n",
       "    .dataframe tbody tr th {\n",
       "        vertical-align: top;\n",
       "    }\n",
       "\n",
       "    .dataframe thead th {\n",
       "        text-align: right;\n",
       "    }\n",
       "</style>\n",
       "<table border=\"1\" class=\"dataframe\">\n",
       "  <thead>\n",
       "    <tr style=\"text-align: right;\">\n",
       "      <th></th>\n",
       "      <th>VehicleType</th>\n",
       "      <th>RegistrationYear</th>\n",
       "      <th>Gearbox</th>\n",
       "      <th>Power</th>\n",
       "      <th>Model</th>\n",
       "      <th>Kilometer</th>\n",
       "      <th>FuelType</th>\n",
       "      <th>Brand</th>\n",
       "      <th>Repaired</th>\n",
       "    </tr>\n",
       "  </thead>\n",
       "  <tbody>\n",
       "    <tr>\n",
       "      <th>0</th>\n",
       "      <td>-1.654674</td>\n",
       "      <td>0.648150</td>\n",
       "      <td>-0.522146</td>\n",
       "      <td>0.198837</td>\n",
       "      <td>1.674312</td>\n",
       "      <td>-2.885209</td>\n",
       "      <td>-0.987591</td>\n",
       "      <td>1.292784</td>\n",
       "      <td>-0.487312</td>\n",
       "    </tr>\n",
       "    <tr>\n",
       "      <th>1</th>\n",
       "      <td>1.268714</td>\n",
       "      <td>-0.385121</td>\n",
       "      <td>-0.522146</td>\n",
       "      <td>-0.035805</td>\n",
       "      <td>-1.346951</td>\n",
       "      <td>0.581310</td>\n",
       "      <td>0.732959</td>\n",
       "      <td>-1.416385</td>\n",
       "      <td>-0.487312</td>\n",
       "    </tr>\n",
       "    <tr>\n",
       "      <th>2</th>\n",
       "      <td>0.433460</td>\n",
       "      <td>0.500540</td>\n",
       "      <td>-0.522146</td>\n",
       "      <td>-1.190968</td>\n",
       "      <td>0.022500</td>\n",
       "      <td>-1.018622</td>\n",
       "      <td>0.732959</td>\n",
       "      <td>1.292784</td>\n",
       "      <td>-0.487312</td>\n",
       "    </tr>\n",
       "    <tr>\n",
       "      <th>3</th>\n",
       "      <td>-2.072300</td>\n",
       "      <td>-1.123172</td>\n",
       "      <td>-0.522146</td>\n",
       "      <td>0.541776</td>\n",
       "      <td>0.855465</td>\n",
       "      <td>0.581310</td>\n",
       "      <td>-2.278004</td>\n",
       "      <td>-0.061801</td>\n",
       "      <td>2.052074</td>\n",
       "    </tr>\n",
       "    <tr>\n",
       "      <th>4</th>\n",
       "      <td>0.433460</td>\n",
       "      <td>-0.089900</td>\n",
       "      <td>-0.522146</td>\n",
       "      <td>-1.118770</td>\n",
       "      <td>-0.316333</td>\n",
       "      <td>-0.085328</td>\n",
       "      <td>0.732959</td>\n",
       "      <td>0.239218</td>\n",
       "      <td>-0.487312</td>\n",
       "    </tr>\n",
       "  </tbody>\n",
       "</table>\n",
       "</div>"
      ],
      "text/plain": [
       "   VehicleType  RegistrationYear   Gearbox     Power     Model  Kilometer  \\\n",
       "0    -1.654674          0.648150 -0.522146  0.198837  1.674312  -2.885209   \n",
       "1     1.268714         -0.385121 -0.522146 -0.035805 -1.346951   0.581310   \n",
       "2     0.433460          0.500540 -0.522146 -1.190968  0.022500  -1.018622   \n",
       "3    -2.072300         -1.123172 -0.522146  0.541776  0.855465   0.581310   \n",
       "4     0.433460         -0.089900 -0.522146 -1.118770 -0.316333  -0.085328   \n",
       "\n",
       "   FuelType     Brand  Repaired  \n",
       "0 -0.987591  1.292784 -0.487312  \n",
       "1  0.732959 -1.416385 -0.487312  \n",
       "2  0.732959  1.292784 -0.487312  \n",
       "3 -2.278004 -0.061801  2.052074  \n",
       "4  0.732959  0.239218 -0.487312  "
      ]
     },
     "metadata": {},
     "output_type": "display_data"
    },
    {
     "data": {
      "text/plain": [
       "\"Выборка 'train_valid'\""
      ]
     },
     "metadata": {},
     "output_type": "display_data"
    },
    {
     "data": {
      "text/html": [
       "<div>\n",
       "<style scoped>\n",
       "    .dataframe tbody tr th:only-of-type {\n",
       "        vertical-align: middle;\n",
       "    }\n",
       "\n",
       "    .dataframe tbody tr th {\n",
       "        vertical-align: top;\n",
       "    }\n",
       "\n",
       "    .dataframe thead th {\n",
       "        text-align: right;\n",
       "    }\n",
       "</style>\n",
       "<table border=\"1\" class=\"dataframe\">\n",
       "  <thead>\n",
       "    <tr style=\"text-align: right;\">\n",
       "      <th></th>\n",
       "      <th>VehicleType</th>\n",
       "      <th>RegistrationYear</th>\n",
       "      <th>Gearbox</th>\n",
       "      <th>Power</th>\n",
       "      <th>Model</th>\n",
       "      <th>Kilometer</th>\n",
       "      <th>FuelType</th>\n",
       "      <th>Brand</th>\n",
       "      <th>Repaired</th>\n",
       "    </tr>\n",
       "  </thead>\n",
       "  <tbody>\n",
       "    <tr>\n",
       "      <th>0</th>\n",
       "      <td>0.015833</td>\n",
       "      <td>0.795761</td>\n",
       "      <td>-0.522146</td>\n",
       "      <td>4.043363</td>\n",
       "      <td>0.488396</td>\n",
       "      <td>-0.085328</td>\n",
       "      <td>0.732959</td>\n",
       "      <td>0.690746</td>\n",
       "      <td>-0.487312</td>\n",
       "    </tr>\n",
       "    <tr>\n",
       "      <th>1</th>\n",
       "      <td>-1.237047</td>\n",
       "      <td>-0.827951</td>\n",
       "      <td>1.915175</td>\n",
       "      <td>1.317901</td>\n",
       "      <td>1.448423</td>\n",
       "      <td>-1.285277</td>\n",
       "      <td>0.732959</td>\n",
       "      <td>-0.061801</td>\n",
       "      <td>-0.487312</td>\n",
       "    </tr>\n",
       "    <tr>\n",
       "      <th>2</th>\n",
       "      <td>0.015833</td>\n",
       "      <td>0.500540</td>\n",
       "      <td>-0.522146</td>\n",
       "      <td>1.029110</td>\n",
       "      <td>-1.290478</td>\n",
       "      <td>0.581310</td>\n",
       "      <td>0.732959</td>\n",
       "      <td>-1.416385</td>\n",
       "      <td>-0.487312</td>\n",
       "    </tr>\n",
       "    <tr>\n",
       "      <th>3</th>\n",
       "      <td>0.433460</td>\n",
       "      <td>-0.237511</td>\n",
       "      <td>-0.522146</td>\n",
       "      <td>-0.342645</td>\n",
       "      <td>0.318979</td>\n",
       "      <td>0.581310</td>\n",
       "      <td>-2.278004</td>\n",
       "      <td>-0.814348</td>\n",
       "      <td>-0.487312</td>\n",
       "    </tr>\n",
       "    <tr>\n",
       "      <th>4</th>\n",
       "      <td>0.433460</td>\n",
       "      <td>-0.385121</td>\n",
       "      <td>-0.522146</td>\n",
       "      <td>-0.811930</td>\n",
       "      <td>-0.937527</td>\n",
       "      <td>0.581310</td>\n",
       "      <td>0.732959</td>\n",
       "      <td>0.916510</td>\n",
       "      <td>2.052074</td>\n",
       "    </tr>\n",
       "  </tbody>\n",
       "</table>\n",
       "</div>"
      ],
      "text/plain": [
       "   VehicleType  RegistrationYear   Gearbox     Power     Model  Kilometer  \\\n",
       "0     0.015833          0.795761 -0.522146  4.043363  0.488396  -0.085328   \n",
       "1    -1.237047         -0.827951  1.915175  1.317901  1.448423  -1.285277   \n",
       "2     0.015833          0.500540 -0.522146  1.029110 -1.290478   0.581310   \n",
       "3     0.433460         -0.237511 -0.522146 -0.342645  0.318979   0.581310   \n",
       "4     0.433460         -0.385121 -0.522146 -0.811930 -0.937527   0.581310   \n",
       "\n",
       "   FuelType     Brand  Repaired  \n",
       "0  0.732959  0.690746 -0.487312  \n",
       "1  0.732959 -0.061801 -0.487312  \n",
       "2  0.732959 -1.416385 -0.487312  \n",
       "3 -2.278004 -0.814348 -0.487312  \n",
       "4  0.732959  0.916510  2.052074  "
      ]
     },
     "metadata": {},
     "output_type": "display_data"
    },
    {
     "data": {
      "text/plain": [
       "\"Выборка 'valid'\""
      ]
     },
     "metadata": {},
     "output_type": "display_data"
    },
    {
     "data": {
      "text/html": [
       "<div>\n",
       "<style scoped>\n",
       "    .dataframe tbody tr th:only-of-type {\n",
       "        vertical-align: middle;\n",
       "    }\n",
       "\n",
       "    .dataframe tbody tr th {\n",
       "        vertical-align: top;\n",
       "    }\n",
       "\n",
       "    .dataframe thead th {\n",
       "        text-align: right;\n",
       "    }\n",
       "</style>\n",
       "<table border=\"1\" class=\"dataframe\">\n",
       "  <thead>\n",
       "    <tr style=\"text-align: right;\">\n",
       "      <th></th>\n",
       "      <th>VehicleType</th>\n",
       "      <th>RegistrationYear</th>\n",
       "      <th>Gearbox</th>\n",
       "      <th>Power</th>\n",
       "      <th>Model</th>\n",
       "      <th>Kilometer</th>\n",
       "      <th>FuelType</th>\n",
       "      <th>Brand</th>\n",
       "      <th>Repaired</th>\n",
       "    </tr>\n",
       "  </thead>\n",
       "  <tbody>\n",
       "    <tr>\n",
       "      <th>0</th>\n",
       "      <td>0.851087</td>\n",
       "      <td>0.795761</td>\n",
       "      <td>1.915175</td>\n",
       "      <td>0.379331</td>\n",
       "      <td>1.053118</td>\n",
       "      <td>-0.751966</td>\n",
       "      <td>0.732959</td>\n",
       "      <td>0.163963</td>\n",
       "      <td>-0.487312</td>\n",
       "    </tr>\n",
       "    <tr>\n",
       "      <th>1</th>\n",
       "      <td>-1.237047</td>\n",
       "      <td>0.795761</td>\n",
       "      <td>1.915175</td>\n",
       "      <td>1.985729</td>\n",
       "      <td>-0.626930</td>\n",
       "      <td>0.581310</td>\n",
       "      <td>0.732959</td>\n",
       "      <td>1.368039</td>\n",
       "      <td>-0.487312</td>\n",
       "    </tr>\n",
       "    <tr>\n",
       "      <th>2</th>\n",
       "      <td>0.015833</td>\n",
       "      <td>0.943371</td>\n",
       "      <td>-0.522146</td>\n",
       "      <td>-0.721683</td>\n",
       "      <td>0.149563</td>\n",
       "      <td>-1.285277</td>\n",
       "      <td>0.732959</td>\n",
       "      <td>1.292784</td>\n",
       "      <td>-0.487312</td>\n",
       "    </tr>\n",
       "    <tr>\n",
       "      <th>3</th>\n",
       "      <td>-1.237047</td>\n",
       "      <td>-1.123172</td>\n",
       "      <td>-0.522146</td>\n",
       "      <td>-0.811930</td>\n",
       "      <td>0.149563</td>\n",
       "      <td>0.581310</td>\n",
       "      <td>0.732959</td>\n",
       "      <td>1.292784</td>\n",
       "      <td>-0.487312</td>\n",
       "    </tr>\n",
       "    <tr>\n",
       "      <th>4</th>\n",
       "      <td>0.851087</td>\n",
       "      <td>1.238591</td>\n",
       "      <td>-0.522146</td>\n",
       "      <td>1.047160</td>\n",
       "      <td>0.855465</td>\n",
       "      <td>-1.285277</td>\n",
       "      <td>-0.987591</td>\n",
       "      <td>0.088709</td>\n",
       "      <td>-0.487312</td>\n",
       "    </tr>\n",
       "  </tbody>\n",
       "</table>\n",
       "</div>"
      ],
      "text/plain": [
       "   VehicleType  RegistrationYear   Gearbox     Power     Model  Kilometer  \\\n",
       "0     0.851087          0.795761  1.915175  0.379331  1.053118  -0.751966   \n",
       "1    -1.237047          0.795761  1.915175  1.985729 -0.626930   0.581310   \n",
       "2     0.015833          0.943371 -0.522146 -0.721683  0.149563  -1.285277   \n",
       "3    -1.237047         -1.123172 -0.522146 -0.811930  0.149563   0.581310   \n",
       "4     0.851087          1.238591 -0.522146  1.047160  0.855465  -1.285277   \n",
       "\n",
       "   FuelType     Brand  Repaired  \n",
       "0  0.732959  0.163963 -0.487312  \n",
       "1  0.732959  1.368039 -0.487312  \n",
       "2  0.732959  1.292784 -0.487312  \n",
       "3  0.732959  1.292784 -0.487312  \n",
       "4 -0.987591  0.088709 -0.487312  "
      ]
     },
     "metadata": {},
     "output_type": "display_data"
    },
    {
     "data": {
      "text/plain": [
       "\"Выборка 'test'\""
      ]
     },
     "metadata": {},
     "output_type": "display_data"
    },
    {
     "data": {
      "text/html": [
       "<div>\n",
       "<style scoped>\n",
       "    .dataframe tbody tr th:only-of-type {\n",
       "        vertical-align: middle;\n",
       "    }\n",
       "\n",
       "    .dataframe tbody tr th {\n",
       "        vertical-align: top;\n",
       "    }\n",
       "\n",
       "    .dataframe thead th {\n",
       "        text-align: right;\n",
       "    }\n",
       "</style>\n",
       "<table border=\"1\" class=\"dataframe\">\n",
       "  <thead>\n",
       "    <tr style=\"text-align: right;\">\n",
       "      <th></th>\n",
       "      <th>VehicleType</th>\n",
       "      <th>RegistrationYear</th>\n",
       "      <th>Gearbox</th>\n",
       "      <th>Power</th>\n",
       "      <th>Model</th>\n",
       "      <th>Kilometer</th>\n",
       "      <th>FuelType</th>\n",
       "      <th>Brand</th>\n",
       "      <th>Repaired</th>\n",
       "    </tr>\n",
       "  </thead>\n",
       "  <tbody>\n",
       "    <tr>\n",
       "      <th>0</th>\n",
       "      <td>-2.072300</td>\n",
       "      <td>-4.813426</td>\n",
       "      <td>1.915175</td>\n",
       "      <td>-0.541189</td>\n",
       "      <td>-0.937527</td>\n",
       "      <td>-0.751966</td>\n",
       "      <td>-2.278004</td>\n",
       "      <td>0.239218</td>\n",
       "      <td>2.052074</td>\n",
       "    </tr>\n",
       "    <tr>\n",
       "      <th>1</th>\n",
       "      <td>0.015833</td>\n",
       "      <td>1.090981</td>\n",
       "      <td>-0.522146</td>\n",
       "      <td>0.902764</td>\n",
       "      <td>-0.655166</td>\n",
       "      <td>-1.018622</td>\n",
       "      <td>-0.987591</td>\n",
       "      <td>-0.061801</td>\n",
       "      <td>-0.487312</td>\n",
       "    </tr>\n",
       "    <tr>\n",
       "      <th>2</th>\n",
       "      <td>0.433460</td>\n",
       "      <td>0.943371</td>\n",
       "      <td>-0.522146</td>\n",
       "      <td>-1.082671</td>\n",
       "      <td>0.897819</td>\n",
       "      <td>-2.085243</td>\n",
       "      <td>0.732959</td>\n",
       "      <td>-0.889602</td>\n",
       "      <td>-0.487312</td>\n",
       "    </tr>\n",
       "    <tr>\n",
       "      <th>3</th>\n",
       "      <td>0.433460</td>\n",
       "      <td>-0.237511</td>\n",
       "      <td>-0.522146</td>\n",
       "      <td>-1.263166</td>\n",
       "      <td>0.530750</td>\n",
       "      <td>-1.285277</td>\n",
       "      <td>0.732959</td>\n",
       "      <td>1.292784</td>\n",
       "      <td>-0.487312</td>\n",
       "    </tr>\n",
       "    <tr>\n",
       "      <th>4</th>\n",
       "      <td>0.015833</td>\n",
       "      <td>-0.089900</td>\n",
       "      <td>-0.522146</td>\n",
       "      <td>-0.811930</td>\n",
       "      <td>0.149563</td>\n",
       "      <td>0.581310</td>\n",
       "      <td>0.732959</td>\n",
       "      <td>1.292784</td>\n",
       "      <td>-0.487312</td>\n",
       "    </tr>\n",
       "  </tbody>\n",
       "</table>\n",
       "</div>"
      ],
      "text/plain": [
       "   VehicleType  RegistrationYear   Gearbox     Power     Model  Kilometer  \\\n",
       "0    -2.072300         -4.813426  1.915175 -0.541189 -0.937527  -0.751966   \n",
       "1     0.015833          1.090981 -0.522146  0.902764 -0.655166  -1.018622   \n",
       "2     0.433460          0.943371 -0.522146 -1.082671  0.897819  -2.085243   \n",
       "3     0.433460         -0.237511 -0.522146 -1.263166  0.530750  -1.285277   \n",
       "4     0.015833         -0.089900 -0.522146 -0.811930  0.149563   0.581310   \n",
       "\n",
       "   FuelType     Brand  Repaired  \n",
       "0 -2.278004  0.239218  2.052074  \n",
       "1 -0.987591 -0.061801 -0.487312  \n",
       "2  0.732959 -0.889602 -0.487312  \n",
       "3  0.732959  1.292784 -0.487312  \n",
       "4  0.732959  1.292784 -0.487312  "
      ]
     },
     "metadata": {},
     "output_type": "display_data"
    }
   ],
   "source": [
    "# создадим копии выборок для последующего масштабирования численных признаков\n",
    "features_train_encoded_scaled = features_train_encoded.copy()\n",
    "features_train_valid_encoded_scaled = features_train_valid_encoded.copy()\n",
    "features_valid_encoded_scaled = features_valid_encoded.copy()\n",
    "features_test_encoded_scaled = features_test_encoded.copy()\n",
    "\n",
    "# добавим эту строку, чтобы не появлялось предупреждение 'SettingWithCopy'\n",
    "pd.options.mode.chained_assignment = None\n",
    "\n",
    "# создадим объект класса StandardScaler()\n",
    "scaler = StandardScaler() \n",
    "\n",
    "# используя метод .fit() настроим объект на обучающих данных \n",
    "# (настройкой является вычисление среднего и дисперсии)\n",
    "scaler.fit(features_train_encoded_scaled[numeric_encoded])\n",
    "\n",
    "# преобразуем обучающую выборку функцией transform(), \n",
    "# (т.е. нормируем значения признаков - все значения \n",
    "# становятся в диапазоне от 0 до 1)\n",
    "features_train_encoded_scaled[numeric_encoded] = scaler.transform(\n",
    "    features_train_encoded_scaled[numeric_encoded])\n",
    "\n",
    "# преобразуем промежуточную выборку функцией transform()\n",
    "features_train_valid_encoded_scaled[numeric_encoded] = scaler.transform(\n",
    "    features_train_valid_encoded_scaled[numeric_encoded])\n",
    "\n",
    "# преобразуем валидационную выборку функцией transform()\n",
    "features_valid_encoded_scaled[numeric_encoded] = scaler.transform(\n",
    "    features_valid_encoded_scaled[numeric_encoded])\n",
    "\n",
    "# преобразуем тестовую выборку функцией transform()\n",
    "features_test_encoded_scaled[numeric_encoded] = scaler.transform(\n",
    "    features_test_encoded_scaled[numeric_encoded])\n",
    "\n",
    "display(\"Выборка 'train'\", features_train_encoded_scaled.head())\n",
    "display(\"Выборка 'train_valid'\", features_train_valid_encoded_scaled.head())\n",
    "display(\"Выборка 'valid'\", features_valid_encoded_scaled.head())\n",
    "display(\"Выборка 'test'\", features_test_encoded_scaled.head())"
   ]
  },
  {
   "cell_type": "markdown",
   "metadata": {},
   "source": [
    "Проверим типы данных признаков."
   ]
  },
  {
   "cell_type": "code",
   "execution_count": 57,
   "metadata": {},
   "outputs": [
    {
     "name": "stdout",
     "output_type": "stream",
     "text": [
      "<class 'pandas.core.frame.DataFrame'>\n",
      "RangeIndex: 197690 entries, 0 to 197689\n",
      "Data columns (total 9 columns):\n",
      " #   Column            Non-Null Count   Dtype  \n",
      "---  ------            --------------   -----  \n",
      " 0   VehicleType       197690 non-null  float64\n",
      " 1   RegistrationYear  197690 non-null  float64\n",
      " 2   Gearbox           197690 non-null  float64\n",
      " 3   Power             197690 non-null  float64\n",
      " 4   Model             197690 non-null  float64\n",
      " 5   Kilometer         197690 non-null  float64\n",
      " 6   FuelType          197690 non-null  float64\n",
      " 7   Brand             197690 non-null  float64\n",
      " 8   Repaired          197690 non-null  float64\n",
      "dtypes: float64(9)\n",
      "memory usage: 13.6 MB\n"
     ]
    }
   ],
   "source": [
    "features_train_encoded_scaled.info()"
   ]
  },
  {
   "cell_type": "markdown",
   "metadata": {},
   "source": [
    "#### Для модели `CatBoostRegressor`\n",
    "<a name=\"432\"></a> <div style=\"text-align: left\">[Cодержание](#Содержание)</div>"
   ]
  },
  {
   "cell_type": "markdown",
   "metadata": {},
   "source": [
    "Отдельно масштабируем численные признаки для **модели градиентного бустинга `CatBoostRegressor`**, использовать будем данные с **некодированными** категориальными признаками.\n",
    "\n",
    "*CatBoost* применяет различные техники кодирования категориальных признаков. И дополнительное преобразование категориальных признаков в численные здесь не требуется.\n",
    "\n",
    "Взглянем, какие численные признаки нам нужно масштабировать."
   ]
  },
  {
   "cell_type": "code",
   "execution_count": 58,
   "metadata": {},
   "outputs": [
    {
     "name": "stdout",
     "output_type": "stream",
     "text": [
      "<class 'pandas.core.frame.DataFrame'>\n",
      "RangeIndex: 329484 entries, 0 to 329483\n",
      "Data columns (total 10 columns):\n",
      " #   Column            Non-Null Count   Dtype  \n",
      "---  ------            --------------   -----  \n",
      " 0   Price             329484 non-null  int64  \n",
      " 1   VehicleType       329484 non-null  object \n",
      " 2   RegistrationYear  329484 non-null  int64  \n",
      " 3   Gearbox           329484 non-null  int64  \n",
      " 4   Power             329484 non-null  float64\n",
      " 5   Model             329484 non-null  object \n",
      " 6   Kilometer         329484 non-null  int64  \n",
      " 7   FuelType          329484 non-null  object \n",
      " 8   Brand             329484 non-null  object \n",
      " 9   Repaired          329484 non-null  int64  \n",
      "dtypes: float64(1), int64(5), object(4)\n",
      "memory usage: 25.1+ MB\n"
     ]
    }
   ],
   "source": [
    "data.info()"
   ]
  },
  {
   "cell_type": "markdown",
   "metadata": {},
   "source": [
    "Сохраним список всех численных признаков без предварительного кодирования категориальных признаков, в переменной `numeric_no_encoded`."
   ]
  },
  {
   "cell_type": "code",
   "execution_count": 59,
   "metadata": {},
   "outputs": [],
   "source": [
    "numeric_no_encoded = ['RegistrationYear', 'Gearbox', 'Power', 'Kilometer', 'Repaired']"
   ]
  },
  {
   "cell_type": "code",
   "execution_count": 60,
   "metadata": {},
   "outputs": [
    {
     "data": {
      "text/plain": [
       "\"Выборка 'train'\""
      ]
     },
     "metadata": {},
     "output_type": "display_data"
    },
    {
     "data": {
      "text/html": [
       "<div>\n",
       "<style scoped>\n",
       "    .dataframe tbody tr th:only-of-type {\n",
       "        vertical-align: middle;\n",
       "    }\n",
       "\n",
       "    .dataframe tbody tr th {\n",
       "        vertical-align: top;\n",
       "    }\n",
       "\n",
       "    .dataframe thead th {\n",
       "        text-align: right;\n",
       "    }\n",
       "</style>\n",
       "<table border=\"1\" class=\"dataframe\">\n",
       "  <thead>\n",
       "    <tr style=\"text-align: right;\">\n",
       "      <th></th>\n",
       "      <th>VehicleType</th>\n",
       "      <th>RegistrationYear</th>\n",
       "      <th>Gearbox</th>\n",
       "      <th>Power</th>\n",
       "      <th>Model</th>\n",
       "      <th>Kilometer</th>\n",
       "      <th>FuelType</th>\n",
       "      <th>Brand</th>\n",
       "      <th>Repaired</th>\n",
       "    </tr>\n",
       "  </thead>\n",
       "  <tbody>\n",
       "    <tr>\n",
       "      <th>0</th>\n",
       "      <td>bus</td>\n",
       "      <td>0.648150</td>\n",
       "      <td>-0.522146</td>\n",
       "      <td>0.198837</td>\n",
       "      <td>transporter</td>\n",
       "      <td>-2.885209</td>\n",
       "      <td>gasoline</td>\n",
       "      <td>volkswagen</td>\n",
       "      <td>-0.487312</td>\n",
       "    </tr>\n",
       "    <tr>\n",
       "      <th>1</th>\n",
       "      <td>wagon</td>\n",
       "      <td>-0.385121</td>\n",
       "      <td>-0.522146</td>\n",
       "      <td>-0.035805</td>\n",
       "      <td>3er</td>\n",
       "      <td>0.581310</td>\n",
       "      <td>petrol</td>\n",
       "      <td>bmw</td>\n",
       "      <td>-0.487312</td>\n",
       "    </tr>\n",
       "    <tr>\n",
       "      <th>2</th>\n",
       "      <td>small</td>\n",
       "      <td>0.500540</td>\n",
       "      <td>-0.522146</td>\n",
       "      <td>-1.190968</td>\n",
       "      <td>fox</td>\n",
       "      <td>-1.018622</td>\n",
       "      <td>petrol</td>\n",
       "      <td>volkswagen</td>\n",
       "      <td>-0.487312</td>\n",
       "    </tr>\n",
       "    <tr>\n",
       "      <th>3</th>\n",
       "      <td>another</td>\n",
       "      <td>-1.123172</td>\n",
       "      <td>-0.522146</td>\n",
       "      <td>0.541776</td>\n",
       "      <td>other</td>\n",
       "      <td>0.581310</td>\n",
       "      <td>another</td>\n",
       "      <td>mercedes_benz</td>\n",
       "      <td>2.052074</td>\n",
       "    </tr>\n",
       "    <tr>\n",
       "      <th>4</th>\n",
       "      <td>small</td>\n",
       "      <td>-0.089900</td>\n",
       "      <td>-0.522146</td>\n",
       "      <td>-1.118770</td>\n",
       "      <td>corsa</td>\n",
       "      <td>-0.085328</td>\n",
       "      <td>petrol</td>\n",
       "      <td>opel</td>\n",
       "      <td>-0.487312</td>\n",
       "    </tr>\n",
       "  </tbody>\n",
       "</table>\n",
       "</div>"
      ],
      "text/plain": [
       "  VehicleType  RegistrationYear   Gearbox     Power        Model  Kilometer  \\\n",
       "0         bus          0.648150 -0.522146  0.198837  transporter  -2.885209   \n",
       "1       wagon         -0.385121 -0.522146 -0.035805          3er   0.581310   \n",
       "2       small          0.500540 -0.522146 -1.190968          fox  -1.018622   \n",
       "3     another         -1.123172 -0.522146  0.541776        other   0.581310   \n",
       "4       small         -0.089900 -0.522146 -1.118770        corsa  -0.085328   \n",
       "\n",
       "   FuelType          Brand  Repaired  \n",
       "0  gasoline     volkswagen -0.487312  \n",
       "1    petrol            bmw -0.487312  \n",
       "2    petrol     volkswagen -0.487312  \n",
       "3   another  mercedes_benz  2.052074  \n",
       "4    petrol           opel -0.487312  "
      ]
     },
     "metadata": {},
     "output_type": "display_data"
    },
    {
     "data": {
      "text/plain": [
       "\"Выборка 'train_valid'\""
      ]
     },
     "metadata": {},
     "output_type": "display_data"
    },
    {
     "data": {
      "text/html": [
       "<div>\n",
       "<style scoped>\n",
       "    .dataframe tbody tr th:only-of-type {\n",
       "        vertical-align: middle;\n",
       "    }\n",
       "\n",
       "    .dataframe tbody tr th {\n",
       "        vertical-align: top;\n",
       "    }\n",
       "\n",
       "    .dataframe thead th {\n",
       "        text-align: right;\n",
       "    }\n",
       "</style>\n",
       "<table border=\"1\" class=\"dataframe\">\n",
       "  <thead>\n",
       "    <tr style=\"text-align: right;\">\n",
       "      <th></th>\n",
       "      <th>VehicleType</th>\n",
       "      <th>RegistrationYear</th>\n",
       "      <th>Gearbox</th>\n",
       "      <th>Power</th>\n",
       "      <th>Model</th>\n",
       "      <th>Kilometer</th>\n",
       "      <th>FuelType</th>\n",
       "      <th>Brand</th>\n",
       "      <th>Repaired</th>\n",
       "    </tr>\n",
       "  </thead>\n",
       "  <tbody>\n",
       "    <tr>\n",
       "      <th>0</th>\n",
       "      <td>sedan</td>\n",
       "      <td>0.795761</td>\n",
       "      <td>-0.522146</td>\n",
       "      <td>4.043363</td>\n",
       "      <td>leon</td>\n",
       "      <td>-0.085328</td>\n",
       "      <td>petrol</td>\n",
       "      <td>seat</td>\n",
       "      <td>-0.487312</td>\n",
       "    </tr>\n",
       "    <tr>\n",
       "      <th>1</th>\n",
       "      <td>convertible</td>\n",
       "      <td>-0.827951</td>\n",
       "      <td>1.915175</td>\n",
       "      <td>1.317901</td>\n",
       "      <td>slk</td>\n",
       "      <td>-1.285277</td>\n",
       "      <td>petrol</td>\n",
       "      <td>mercedes_benz</td>\n",
       "      <td>-0.487312</td>\n",
       "    </tr>\n",
       "    <tr>\n",
       "      <th>2</th>\n",
       "      <td>sedan</td>\n",
       "      <td>0.500540</td>\n",
       "      <td>-0.522146</td>\n",
       "      <td>1.029110</td>\n",
       "      <td>5er</td>\n",
       "      <td>0.581310</td>\n",
       "      <td>petrol</td>\n",
       "      <td>bmw</td>\n",
       "      <td>-0.487312</td>\n",
       "    </tr>\n",
       "    <tr>\n",
       "      <th>3</th>\n",
       "      <td>small</td>\n",
       "      <td>-0.237511</td>\n",
       "      <td>-0.522146</td>\n",
       "      <td>-0.342645</td>\n",
       "      <td>ka</td>\n",
       "      <td>0.581310</td>\n",
       "      <td>another</td>\n",
       "      <td>ford</td>\n",
       "      <td>-0.487312</td>\n",
       "    </tr>\n",
       "    <tr>\n",
       "      <th>4</th>\n",
       "      <td>small</td>\n",
       "      <td>-0.385121</td>\n",
       "      <td>-0.522146</td>\n",
       "      <td>-0.811930</td>\n",
       "      <td>another</td>\n",
       "      <td>0.581310</td>\n",
       "      <td>petrol</td>\n",
       "      <td>sonstige_autos</td>\n",
       "      <td>2.052074</td>\n",
       "    </tr>\n",
       "  </tbody>\n",
       "</table>\n",
       "</div>"
      ],
      "text/plain": [
       "   VehicleType  RegistrationYear   Gearbox     Power    Model  Kilometer  \\\n",
       "0        sedan          0.795761 -0.522146  4.043363     leon  -0.085328   \n",
       "1  convertible         -0.827951  1.915175  1.317901      slk  -1.285277   \n",
       "2        sedan          0.500540 -0.522146  1.029110      5er   0.581310   \n",
       "3        small         -0.237511 -0.522146 -0.342645       ka   0.581310   \n",
       "4        small         -0.385121 -0.522146 -0.811930  another   0.581310   \n",
       "\n",
       "  FuelType           Brand  Repaired  \n",
       "0   petrol            seat -0.487312  \n",
       "1   petrol   mercedes_benz -0.487312  \n",
       "2   petrol             bmw -0.487312  \n",
       "3  another            ford -0.487312  \n",
       "4   petrol  sonstige_autos  2.052074  "
      ]
     },
     "metadata": {},
     "output_type": "display_data"
    },
    {
     "data": {
      "text/plain": [
       "\"Выборка 'valid'\""
      ]
     },
     "metadata": {},
     "output_type": "display_data"
    },
    {
     "data": {
      "text/html": [
       "<div>\n",
       "<style scoped>\n",
       "    .dataframe tbody tr th:only-of-type {\n",
       "        vertical-align: middle;\n",
       "    }\n",
       "\n",
       "    .dataframe tbody tr th {\n",
       "        vertical-align: top;\n",
       "    }\n",
       "\n",
       "    .dataframe thead th {\n",
       "        text-align: right;\n",
       "    }\n",
       "</style>\n",
       "<table border=\"1\" class=\"dataframe\">\n",
       "  <thead>\n",
       "    <tr style=\"text-align: right;\">\n",
       "      <th></th>\n",
       "      <th>VehicleType</th>\n",
       "      <th>RegistrationYear</th>\n",
       "      <th>Gearbox</th>\n",
       "      <th>Power</th>\n",
       "      <th>Model</th>\n",
       "      <th>Kilometer</th>\n",
       "      <th>FuelType</th>\n",
       "      <th>Brand</th>\n",
       "      <th>Repaired</th>\n",
       "    </tr>\n",
       "  </thead>\n",
       "  <tbody>\n",
       "    <tr>\n",
       "      <th>0</th>\n",
       "      <td>suv</td>\n",
       "      <td>0.795761</td>\n",
       "      <td>1.915175</td>\n",
       "      <td>0.379331</td>\n",
       "      <td>qashqai</td>\n",
       "      <td>-0.751966</td>\n",
       "      <td>petrol</td>\n",
       "      <td>nissan</td>\n",
       "      <td>-0.487312</td>\n",
       "    </tr>\n",
       "    <tr>\n",
       "      <th>1</th>\n",
       "      <td>convertible</td>\n",
       "      <td>0.795761</td>\n",
       "      <td>1.915175</td>\n",
       "      <td>1.985729</td>\n",
       "      <td>c_reihe</td>\n",
       "      <td>0.581310</td>\n",
       "      <td>petrol</td>\n",
       "      <td>volvo</td>\n",
       "      <td>-0.487312</td>\n",
       "    </tr>\n",
       "    <tr>\n",
       "      <th>2</th>\n",
       "      <td>sedan</td>\n",
       "      <td>0.943371</td>\n",
       "      <td>-0.522146</td>\n",
       "      <td>-0.721683</td>\n",
       "      <td>golf</td>\n",
       "      <td>-1.285277</td>\n",
       "      <td>petrol</td>\n",
       "      <td>volkswagen</td>\n",
       "      <td>-0.487312</td>\n",
       "    </tr>\n",
       "    <tr>\n",
       "      <th>3</th>\n",
       "      <td>convertible</td>\n",
       "      <td>-1.123172</td>\n",
       "      <td>-0.522146</td>\n",
       "      <td>-0.811930</td>\n",
       "      <td>golf</td>\n",
       "      <td>0.581310</td>\n",
       "      <td>petrol</td>\n",
       "      <td>volkswagen</td>\n",
       "      <td>-0.487312</td>\n",
       "    </tr>\n",
       "    <tr>\n",
       "      <th>4</th>\n",
       "      <td>suv</td>\n",
       "      <td>1.238591</td>\n",
       "      <td>-0.522146</td>\n",
       "      <td>1.047160</td>\n",
       "      <td>other</td>\n",
       "      <td>-1.285277</td>\n",
       "      <td>gasoline</td>\n",
       "      <td>mitsubishi</td>\n",
       "      <td>-0.487312</td>\n",
       "    </tr>\n",
       "  </tbody>\n",
       "</table>\n",
       "</div>"
      ],
      "text/plain": [
       "   VehicleType  RegistrationYear   Gearbox     Power    Model  Kilometer  \\\n",
       "0          suv          0.795761  1.915175  0.379331  qashqai  -0.751966   \n",
       "1  convertible          0.795761  1.915175  1.985729  c_reihe   0.581310   \n",
       "2        sedan          0.943371 -0.522146 -0.721683     golf  -1.285277   \n",
       "3  convertible         -1.123172 -0.522146 -0.811930     golf   0.581310   \n",
       "4          suv          1.238591 -0.522146  1.047160    other  -1.285277   \n",
       "\n",
       "   FuelType       Brand  Repaired  \n",
       "0    petrol      nissan -0.487312  \n",
       "1    petrol       volvo -0.487312  \n",
       "2    petrol  volkswagen -0.487312  \n",
       "3    petrol  volkswagen -0.487312  \n",
       "4  gasoline  mitsubishi -0.487312  "
      ]
     },
     "metadata": {},
     "output_type": "display_data"
    },
    {
     "data": {
      "text/plain": [
       "\"Выборка 'test'\""
      ]
     },
     "metadata": {},
     "output_type": "display_data"
    },
    {
     "data": {
      "text/html": [
       "<div>\n",
       "<style scoped>\n",
       "    .dataframe tbody tr th:only-of-type {\n",
       "        vertical-align: middle;\n",
       "    }\n",
       "\n",
       "    .dataframe tbody tr th {\n",
       "        vertical-align: top;\n",
       "    }\n",
       "\n",
       "    .dataframe thead th {\n",
       "        text-align: right;\n",
       "    }\n",
       "</style>\n",
       "<table border=\"1\" class=\"dataframe\">\n",
       "  <thead>\n",
       "    <tr style=\"text-align: right;\">\n",
       "      <th></th>\n",
       "      <th>VehicleType</th>\n",
       "      <th>RegistrationYear</th>\n",
       "      <th>Gearbox</th>\n",
       "      <th>Power</th>\n",
       "      <th>Model</th>\n",
       "      <th>Kilometer</th>\n",
       "      <th>FuelType</th>\n",
       "      <th>Brand</th>\n",
       "      <th>Repaired</th>\n",
       "    </tr>\n",
       "  </thead>\n",
       "  <tbody>\n",
       "    <tr>\n",
       "      <th>0</th>\n",
       "      <td>another</td>\n",
       "      <td>-4.813426</td>\n",
       "      <td>1.915175</td>\n",
       "      <td>-0.541189</td>\n",
       "      <td>another</td>\n",
       "      <td>-0.751966</td>\n",
       "      <td>another</td>\n",
       "      <td>opel</td>\n",
       "      <td>2.052074</td>\n",
       "    </tr>\n",
       "    <tr>\n",
       "      <th>1</th>\n",
       "      <td>sedan</td>\n",
       "      <td>1.090981</td>\n",
       "      <td>-0.522146</td>\n",
       "      <td>0.902764</td>\n",
       "      <td>c_klasse</td>\n",
       "      <td>-1.018622</td>\n",
       "      <td>gasoline</td>\n",
       "      <td>mercedes_benz</td>\n",
       "      <td>-0.487312</td>\n",
       "    </tr>\n",
       "    <tr>\n",
       "      <th>2</th>\n",
       "      <td>small</td>\n",
       "      <td>0.943371</td>\n",
       "      <td>-0.522146</td>\n",
       "      <td>-1.082671</td>\n",
       "      <td>panda</td>\n",
       "      <td>-2.085243</td>\n",
       "      <td>petrol</td>\n",
       "      <td>fiat</td>\n",
       "      <td>-0.487312</td>\n",
       "    </tr>\n",
       "    <tr>\n",
       "      <th>3</th>\n",
       "      <td>small</td>\n",
       "      <td>-0.237511</td>\n",
       "      <td>-0.522146</td>\n",
       "      <td>-1.263166</td>\n",
       "      <td>lupo</td>\n",
       "      <td>-1.285277</td>\n",
       "      <td>petrol</td>\n",
       "      <td>volkswagen</td>\n",
       "      <td>-0.487312</td>\n",
       "    </tr>\n",
       "    <tr>\n",
       "      <th>4</th>\n",
       "      <td>sedan</td>\n",
       "      <td>-0.089900</td>\n",
       "      <td>-0.522146</td>\n",
       "      <td>-0.811930</td>\n",
       "      <td>golf</td>\n",
       "      <td>0.581310</td>\n",
       "      <td>petrol</td>\n",
       "      <td>volkswagen</td>\n",
       "      <td>-0.487312</td>\n",
       "    </tr>\n",
       "  </tbody>\n",
       "</table>\n",
       "</div>"
      ],
      "text/plain": [
       "  VehicleType  RegistrationYear   Gearbox     Power     Model  Kilometer  \\\n",
       "0     another         -4.813426  1.915175 -0.541189   another  -0.751966   \n",
       "1       sedan          1.090981 -0.522146  0.902764  c_klasse  -1.018622   \n",
       "2       small          0.943371 -0.522146 -1.082671     panda  -2.085243   \n",
       "3       small         -0.237511 -0.522146 -1.263166      lupo  -1.285277   \n",
       "4       sedan         -0.089900 -0.522146 -0.811930      golf   0.581310   \n",
       "\n",
       "   FuelType          Brand  Repaired  \n",
       "0   another           opel  2.052074  \n",
       "1  gasoline  mercedes_benz -0.487312  \n",
       "2    petrol           fiat -0.487312  \n",
       "3    petrol     volkswagen -0.487312  \n",
       "4    petrol     volkswagen -0.487312  "
      ]
     },
     "metadata": {},
     "output_type": "display_data"
    }
   ],
   "source": [
    "# создадим копии выборок для последующего масштабирования численных признаков\n",
    "features_train_scaled = features_train.copy()\n",
    "features_train_valid_scaled = features_train_valid.copy()\n",
    "features_valid_scaled = features_valid.copy()\n",
    "features_test_scaled = features_test.copy()\n",
    "\n",
    "# добавим эту строку, чтобы не появлялось предупреждение 'SettingWithCopy'\n",
    "pd.options.mode.chained_assignment = None\n",
    "\n",
    "# создадим объект класса StandardScaler()\n",
    "scaler = StandardScaler() \n",
    "\n",
    "# используя метод .fit() настроим объект на обучающих данных \n",
    "# (настройкой является вычисление среднего и дисперсии)\n",
    "scaler.fit(features_train_scaled[numeric_no_encoded])\n",
    "\n",
    "# преобразуем обучающую выборку функцией transform(), \n",
    "# (т.е. нормируем значения признаков - все значения \n",
    "# становятся в диапазоне от 0 до 1)\n",
    "features_train_scaled[numeric_no_encoded] = scaler.transform(\n",
    "    features_train_scaled[numeric_no_encoded])\n",
    "\n",
    "# преобразуем промежуточную выборку функцией transform()\n",
    "features_train_valid_scaled[numeric_no_encoded] = scaler.transform(\n",
    "    features_train_valid_scaled[numeric_no_encoded])\n",
    "\n",
    "# преобразуем валидационную выборку функцией transform()\n",
    "features_valid_scaled[numeric_no_encoded] = scaler.transform(\n",
    "    features_valid_scaled[numeric_no_encoded])\n",
    "\n",
    "# преобразуем тестовую выборку функцией transform()\n",
    "features_test_scaled[numeric_no_encoded] = scaler.transform(\n",
    "    features_test_scaled[numeric_no_encoded])\n",
    "\n",
    "display(\"Выборка 'train'\", features_train_scaled.head())\n",
    "display(\"Выборка 'train_valid'\", features_train_valid_scaled.head())\n",
    "display(\"Выборка 'valid'\", features_valid_scaled.head())\n",
    "display(\"Выборка 'test'\", features_test_scaled.head())"
   ]
  },
  {
   "cell_type": "markdown",
   "metadata": {},
   "source": [
    "### Вывод\n",
    "<a name=\"44\"></a> <div style=\"text-align: left\">[Cодержание](#Содержание)</div>"
   ]
  },
  {
   "cell_type": "markdown",
   "metadata": {},
   "source": [
    "В разделе [**Подготовка данных к обучению**](#Подготовка-данных-к-обучению) были выполнены следующие задачи:\n",
    "1. Данные разделены на выборки.\n",
    "2. Выполнено кодирование категориальных признаков, использована техника порядкового кодирования *Ordinal Encoding*.\n",
    "3. Для разных моделей выполнено масштабирование численных признаков."
   ]
  },
  {
   "cell_type": "markdown",
   "metadata": {},
   "source": [
    "## Обучение моделей\n",
    "<a name=\"5\"></a> <div style=\"text-align: left\">[Cодержание](#Содержание)</div>"
   ]
  },
  {
   "cell_type": "markdown",
   "metadata": {},
   "source": [
    "Обучим разные модели, одна из которых — *LightGBM*, и, как минимум одна — не бустинг. Для каждой модели попробуем разные гиперпараметры.\n",
    "\n",
    "Для наглядности напишем ниже, какие переменные (выборки), где и почему мы будем использовать далее, для обучения моделей.\n",
    "\n",
    "Для *Random Forest* и *LightGBM* (с *Ordinal Encoding*):\n",
    "\n",
    "- **features_train_encoded_scaled**\n",
    "- target_train\n",
    "- **features_valid_encoded_scaled**\n",
    "- target_valid\n",
    "- **features_train_valid_encoded_scaled**\n",
    "- target_train_valid\n",
    "- **features_test_encoded_scaled**\n",
    "- target_test\n",
    "\n",
    "\n",
    "Для *Catboost* (без *Ordinal Encoding*):\n",
    "\n",
    "- **features_train_scaled**\n",
    "- target_train\n",
    "- **features_valid_scaled**\n",
    "- target_valid\n",
    "- **features_train_valid_scaled**\n",
    "- target_train_valid\n",
    "- **features_test_scaled**\n",
    "- target_test"
   ]
  },
  {
   "cell_type": "markdown",
   "metadata": {},
   "source": [
    "Зададим параметры для кросс-валидации: `n_splits` - количество фолдов."
   ]
  },
  {
   "cell_type": "code",
   "execution_count": 61,
   "metadata": {},
   "outputs": [],
   "source": [
    "k_fold = KFold(n_splits=5, random_state=RANDOM_STATE, shuffle=True)"
   ]
  },
  {
   "cell_type": "markdown",
   "metadata": {},
   "source": [
    "### `RandomForestRegressor` + `GridSearchCV`\n",
    "<a name=\"51\"></a> <div style=\"text-align: left\">[Cодержание](#Содержание)</div>"
   ]
  },
  {
   "cell_type": "markdown",
   "metadata": {},
   "source": [
    "Построим модель **случайного леса *Random Forest*** - `RandomForestRegressor`. Для получения лучшей модели `RandomForestRegressor` можно автоматически подбирать гиперпараметры используя функцию **`GridSearchCV`**. Функция `GridSearchCV` самостоятельно делит выборку на обучающую и валидационную. Поэтому, мы можем её применить к промежуточной выборке `train_valid`, оставшейся после выделения тестовой выборки из исходных данных.\n",
    "\n",
    "Так как модель случайного леса не распознаёт тип данных `object`, для модели *Random Forest* возьмём преобразованные данные `_encoded_scaled` (с порядковым кодированием *Ordinal Encoding*)."
   ]
  },
  {
   "cell_type": "code",
   "execution_count": 62,
   "metadata": {},
   "outputs": [
    {
     "name": "stdout",
     "output_type": "stream",
     "text": [
      "Fitting 3 folds for each of 4 candidates, totalling 12 fits\n",
      "[CV 1/3] END ...................max_depth=6, n_estimators=50; total time=   8.4s\n",
      "[CV 2/3] END ...................max_depth=6, n_estimators=50; total time=   8.4s\n",
      "[CV 3/3] END ...................max_depth=6, n_estimators=50; total time=   8.0s\n",
      "[CV 1/3] END ..................max_depth=6, n_estimators=100; total time=  16.2s\n",
      "[CV 2/3] END ..................max_depth=6, n_estimators=100; total time=  15.7s\n",
      "[CV 3/3] END ..................max_depth=6, n_estimators=100; total time=  15.6s\n",
      "[CV 1/3] END ...................max_depth=8, n_estimators=50; total time=  10.0s\n",
      "[CV 2/3] END ...................max_depth=8, n_estimators=50; total time=   9.8s\n",
      "[CV 3/3] END ...................max_depth=8, n_estimators=50; total time=   9.8s\n",
      "[CV 1/3] END ..................max_depth=8, n_estimators=100; total time=  19.9s\n",
      "[CV 2/3] END ..................max_depth=8, n_estimators=100; total time=  20.8s\n",
      "[CV 3/3] END ..................max_depth=8, n_estimators=100; total time=  19.6s\n",
      "Лучшая RMSE RF + GridSearchCV: 2077\n",
      "Лучшая модель RF + GridSearchCV: RandomForestRegressor(max_depth=8, random_state=12345)\n",
      "Лучшие параметры RF + GridSearchCV: {'max_depth': 8, 'n_estimators': 100}\n",
      "CPU times: user 3min 14s, sys: 88.4 ms, total: 3min 14s\n",
      "Wall time: 3min 15s\n"
     ]
    }
   ],
   "source": [
    "%%time\n",
    "\n",
    "# построим модель случайного леса для задачи регрессии\n",
    "model_rf_gscv = RandomForestRegressor(random_state=RANDOM_STATE)\n",
    "\n",
    "# создадим словарь с гиперпараметрами для модели\n",
    "parameters = {'max_depth': range (6, 10, 2), 'n_estimators': range (50, 101, 50)}  \n",
    "\n",
    "# подберём гиперпараметры используя GridSearchCV\n",
    "rf_gscv_result = GridSearchCV(model_rf_gscv, \n",
    "                              parameters, \n",
    "                              scoring='neg_root_mean_squared_error', \n",
    "                              cv=3, \n",
    "                              n_jobs=-1, \n",
    "                              verbose=3)\n",
    "\n",
    "# обучим модель\n",
    "rf_gscv_result.fit(features_train_valid_encoded_scaled, target_train_valid)\n",
    "\n",
    "# получим предсказания\n",
    "predictions = rf_gscv_result.predict(\n",
    "    features_train_valid_encoded_scaled)\n",
    "\n",
    "print('Лучшая RMSE RF + GridSearchCV:', \n",
    "      f'{abs(rf_gscv_result.best_score_):.0f}')\n",
    "print('Лучшая модель RF + GridSearchCV:', \n",
    "      rf_gscv_result.best_estimator_)\n",
    "print('Лучшие параметры RF + GridSearchCV:', \n",
    "      rf_gscv_result.best_params_)"
   ]
  },
  {
   "cell_type": "markdown",
   "metadata": {},
   "source": [
    "Выведем время обучения и предсказания модели."
   ]
  },
  {
   "cell_type": "code",
   "execution_count": 63,
   "metadata": {},
   "outputs": [
    {
     "data": {
      "text/html": [
       "<div>\n",
       "<style scoped>\n",
       "    .dataframe tbody tr th:only-of-type {\n",
       "        vertical-align: middle;\n",
       "    }\n",
       "\n",
       "    .dataframe tbody tr th {\n",
       "        vertical-align: top;\n",
       "    }\n",
       "\n",
       "    .dataframe thead th {\n",
       "        text-align: right;\n",
       "    }\n",
       "</style>\n",
       "<table border=\"1\" class=\"dataframe\">\n",
       "  <thead>\n",
       "    <tr style=\"text-align: right;\">\n",
       "      <th></th>\n",
       "      <th>mean_fit_time</th>\n",
       "      <th>std_fit_time</th>\n",
       "      <th>mean_score_time</th>\n",
       "      <th>std_score_time</th>\n",
       "      <th>param_max_depth</th>\n",
       "      <th>param_n_estimators</th>\n",
       "      <th>params</th>\n",
       "      <th>split0_test_score</th>\n",
       "      <th>split1_test_score</th>\n",
       "      <th>split2_test_score</th>\n",
       "      <th>mean_test_score</th>\n",
       "      <th>std_test_score</th>\n",
       "      <th>rank_test_score</th>\n",
       "    </tr>\n",
       "  </thead>\n",
       "  <tbody>\n",
       "    <tr>\n",
       "      <th>3</th>\n",
       "      <td>19.494254</td>\n",
       "      <td>0.524199</td>\n",
       "      <td>0.585318</td>\n",
       "      <td>0.005496</td>\n",
       "      <td>8</td>\n",
       "      <td>100</td>\n",
       "      <td>{'max_depth': 8, 'n_estimators': 100}</td>\n",
       "      <td>-2070.050123</td>\n",
       "      <td>-2076.006496</td>\n",
       "      <td>-2085.480013</td>\n",
       "      <td>-2077.178877</td>\n",
       "      <td>6.353542</td>\n",
       "      <td>1</td>\n",
       "    </tr>\n",
       "    <tr>\n",
       "      <th>2</th>\n",
       "      <td>9.581998</td>\n",
       "      <td>0.076335</td>\n",
       "      <td>0.280143</td>\n",
       "      <td>0.003109</td>\n",
       "      <td>8</td>\n",
       "      <td>50</td>\n",
       "      <td>{'max_depth': 8, 'n_estimators': 50}</td>\n",
       "      <td>-2071.338886</td>\n",
       "      <td>-2076.722862</td>\n",
       "      <td>-2085.837092</td>\n",
       "      <td>-2077.966280</td>\n",
       "      <td>5.983815</td>\n",
       "      <td>2</td>\n",
       "    </tr>\n",
       "    <tr>\n",
       "      <th>1</th>\n",
       "      <td>15.460876</td>\n",
       "      <td>0.289860</td>\n",
       "      <td>0.381412</td>\n",
       "      <td>0.002994</td>\n",
       "      <td>6</td>\n",
       "      <td>100</td>\n",
       "      <td>{'max_depth': 6, 'n_estimators': 100}</td>\n",
       "      <td>-2283.988248</td>\n",
       "      <td>-2272.631516</td>\n",
       "      <td>-2298.776174</td>\n",
       "      <td>-2285.131979</td>\n",
       "      <td>10.704108</td>\n",
       "      <td>3</td>\n",
       "    </tr>\n",
       "    <tr>\n",
       "      <th>0</th>\n",
       "      <td>8.032340</td>\n",
       "      <td>0.211651</td>\n",
       "      <td>0.210190</td>\n",
       "      <td>0.009538</td>\n",
       "      <td>6</td>\n",
       "      <td>50</td>\n",
       "      <td>{'max_depth': 6, 'n_estimators': 50}</td>\n",
       "      <td>-2284.569822</td>\n",
       "      <td>-2273.908511</td>\n",
       "      <td>-2297.943782</td>\n",
       "      <td>-2285.474038</td>\n",
       "      <td>9.833167</td>\n",
       "      <td>4</td>\n",
       "    </tr>\n",
       "  </tbody>\n",
       "</table>\n",
       "</div>"
      ],
      "text/plain": [
       "   mean_fit_time  std_fit_time  mean_score_time  std_score_time  \\\n",
       "3      19.494254      0.524199         0.585318        0.005496   \n",
       "2       9.581998      0.076335         0.280143        0.003109   \n",
       "1      15.460876      0.289860         0.381412        0.002994   \n",
       "0       8.032340      0.211651         0.210190        0.009538   \n",
       "\n",
       "  param_max_depth param_n_estimators                                 params  \\\n",
       "3               8                100  {'max_depth': 8, 'n_estimators': 100}   \n",
       "2               8                 50   {'max_depth': 8, 'n_estimators': 50}   \n",
       "1               6                100  {'max_depth': 6, 'n_estimators': 100}   \n",
       "0               6                 50   {'max_depth': 6, 'n_estimators': 50}   \n",
       "\n",
       "   split0_test_score  split1_test_score  split2_test_score  mean_test_score  \\\n",
       "3       -2070.050123       -2076.006496       -2085.480013     -2077.178877   \n",
       "2       -2071.338886       -2076.722862       -2085.837092     -2077.966280   \n",
       "1       -2283.988248       -2272.631516       -2298.776174     -2285.131979   \n",
       "0       -2284.569822       -2273.908511       -2297.943782     -2285.474038   \n",
       "\n",
       "   std_test_score  rank_test_score  \n",
       "3        6.353542                1  \n",
       "2        5.983815                2  \n",
       "1       10.704108                3  \n",
       "0        9.833167                4  "
      ]
     },
     "execution_count": 63,
     "metadata": {},
     "output_type": "execute_result"
    }
   ],
   "source": [
    "# время обучения и предсказания модели\n",
    "rf_gscv_res = pd.DataFrame(\n",
    "    rf_gscv_result.cv_results_).sort_values(by='rank_test_score')\n",
    "rf_gscv_res"
   ]
  },
  {
   "cell_type": "code",
   "execution_count": 64,
   "metadata": {},
   "outputs": [
    {
     "name": "stdout",
     "output_type": "stream",
     "text": [
      "Время обучения модели: 19.49 s\n",
      "Время предсказания модели: 0.59 s\n"
     ]
    }
   ],
   "source": [
    "print('Время обучения модели:', \n",
    "      f'{rf_gscv_res.iloc[0][\"mean_fit_time\"]:.2f} s')\n",
    "print('Время предсказания модели:', \n",
    "      f'{rf_gscv_res.iloc[0][\"mean_score_time\"]:.2f} s')"
   ]
  },
  {
   "cell_type": "markdown",
   "metadata": {},
   "source": [
    "Лучшая модель случайного леса **`RandomForestRegressor`** с `GridSearchCV` имеет значения метрик оценки качества и времени операций:\n",
    "- ***RMSE = 2077***\n",
    "- время обучения модели: ***18.81 s***\n",
    "- время предсказания модели: ***0.57 s***\n",
    "\n",
    "при следующих параметрах:\n",
    "- глубина дерева: `max_depth` = 8\n",
    "- количество деревьев (итераций): `n_estimators` = 100"
   ]
  },
  {
   "cell_type": "markdown",
   "metadata": {},
   "source": [
    "### `LGBMRegressor`\n",
    "<a name=\"52\"></a> <div style=\"text-align: left\">[Cодержание](#Содержание)</div>"
   ]
  },
  {
   "cell_type": "markdown",
   "metadata": {},
   "source": [
    "Построим модель **градиентного бустинга *LightGBM*** - `LGBMRegressor`.\n",
    "\n",
    "Т.к. модель *LightGBM* не распознаёт тип данных `object`, для модели `LGBMRegressor` возьмём преобразованные данные `_encoded_scaled` (с порядковым кодированием *Ordinal Encoding*)."
   ]
  },
  {
   "cell_type": "code",
   "execution_count": 65,
   "metadata": {
    "scrolled": false
   },
   "outputs": [
    {
     "name": "stdout",
     "output_type": "stream",
     "text": [
      "[LightGBM] [Warning] early_stopping_round is set=10, early_stopping_rounds=10 will be ignored. Current value: early_stopping_round=10\n",
      "[10]\tvalid_0's rmse: 2319.05\tvalid_0's l2: 5.378e+06\n",
      "[20]\tvalid_0's rmse: 1975.37\tvalid_0's l2: 3.90209e+06\n",
      "[30]\tvalid_0's rmse: 1871.98\tvalid_0's l2: 3.5043e+06\n",
      "[40]\tvalid_0's rmse: 1821.34\tvalid_0's l2: 3.31729e+06\n",
      "[50]\tvalid_0's rmse: 1794.41\tvalid_0's l2: 3.21989e+06\n",
      "[60]\tvalid_0's rmse: 1773.05\tvalid_0's l2: 3.1437e+06\n",
      "[70]\tvalid_0's rmse: 1757.14\tvalid_0's l2: 3.08753e+06\n",
      "[80]\tvalid_0's rmse: 1746.65\tvalid_0's l2: 3.05077e+06\n",
      "[90]\tvalid_0's rmse: 1735.67\tvalid_0's l2: 3.01254e+06\n",
      "[100]\tvalid_0's rmse: 1727.11\tvalid_0's l2: 2.9829e+06\n",
      "[110]\tvalid_0's rmse: 1720.62\tvalid_0's l2: 2.96054e+06\n",
      "[120]\tvalid_0's rmse: 1713\tvalid_0's l2: 2.93437e+06\n",
      "[130]\tvalid_0's rmse: 1708.21\tvalid_0's l2: 2.918e+06\n",
      "[140]\tvalid_0's rmse: 1702.3\tvalid_0's l2: 2.89782e+06\n",
      "[150]\tvalid_0's rmse: 1698.49\tvalid_0's l2: 2.88486e+06\n",
      "[160]\tvalid_0's rmse: 1694.28\tvalid_0's l2: 2.87059e+06\n",
      "[170]\tvalid_0's rmse: 1688.88\tvalid_0's l2: 2.85233e+06\n",
      "[180]\tvalid_0's rmse: 1685.12\tvalid_0's l2: 2.83964e+06\n",
      "[190]\tvalid_0's rmse: 1681.43\tvalid_0's l2: 2.8272e+06\n",
      "[200]\tvalid_0's rmse: 1677.91\tvalid_0's l2: 2.81537e+06\n",
      "[210]\tvalid_0's rmse: 1673.62\tvalid_0's l2: 2.801e+06\n",
      "[220]\tvalid_0's rmse: 1670.02\tvalid_0's l2: 2.78896e+06\n",
      "[230]\tvalid_0's rmse: 1667.43\tvalid_0's l2: 2.78033e+06\n",
      "[240]\tvalid_0's rmse: 1664.39\tvalid_0's l2: 2.77018e+06\n",
      "[250]\tvalid_0's rmse: 1662.05\tvalid_0's l2: 2.76242e+06\n",
      "[260]\tvalid_0's rmse: 1659.69\tvalid_0's l2: 2.75457e+06\n",
      "[270]\tvalid_0's rmse: 1657.71\tvalid_0's l2: 2.74801e+06\n",
      "[280]\tvalid_0's rmse: 1654.97\tvalid_0's l2: 2.73893e+06\n",
      "[290]\tvalid_0's rmse: 1652.32\tvalid_0's l2: 2.73016e+06\n",
      "[300]\tvalid_0's rmse: 1650.62\tvalid_0's l2: 2.72455e+06\n",
      "RMSE модели LightGBM: 1651\n",
      "Время обучения модели: 17.96 s\n",
      "Время предсказания модели: 1.11 s\n",
      "CPU times: user 18.9 s, sys: 116 ms, total: 19 s\n",
      "Wall time: 19.1 s\n"
     ]
    }
   ],
   "source": [
    "%%time\n",
    "\n",
    "# построим модель LightGBM для задачи регрессии\n",
    "model_lgbm = LGBMRegressor(\n",
    "    # максимальная глубина дерева\n",
    "    max_depth=10,\n",
    "    # количество деревьев (итераций)\n",
    "    n_estimators=300,\n",
    "    # коэффициент скорости обучения (размер шага градиентного спуска)\n",
    "    learning_rate=0.15,\n",
    "    random_state=RANDOM_STATE,\n",
    "    # контроль переобучения\n",
    "    early_stopping_rounds=10)\n",
    "\n",
    "# Обучим модель:\n",
    "# старт отсчёта времени обучения\n",
    "start = time.time()\n",
    "model_lgbm.fit(features_train_encoded_scaled, \n",
    "               target_train, \n",
    "               eval_set=[(features_valid_encoded_scaled, target_valid)],\n",
    "               eval_metric='rmse', \n",
    "               verbose=10)\n",
    "# отметка завершения отсчёта времени обучения\n",
    "end = time.time()\n",
    "# время обучения модели\n",
    "fit_time_lgbm = end - start\n",
    "\n",
    "# Получим предсказания:\n",
    "predictions = model_lgbm.predict(features_valid_encoded_scaled)\n",
    "# время предсказания\n",
    "predict_time_lgbm = time.time() - end\n",
    "\n",
    "# Получим метрику RMSE:\n",
    "rmse_lgbm = mean_squared_error(target_valid, \n",
    "                               predictions, \n",
    "                               # параметр squared=False возвращает RMSE\n",
    "                               squared=False)\n",
    "\n",
    "print('RMSE модели LightGBM:', f'{rmse_lgbm:.0f}')\n",
    "print('Время обучения модели:', f'{fit_time_lgbm:.2f} s')\n",
    "print('Время предсказания модели:', f'{predict_time_lgbm:.2f} s')"
   ]
  },
  {
   "cell_type": "markdown",
   "metadata": {},
   "source": [
    "Модель градиентного бустинга **`LGBMRegressor`** имеет значения метрик оценки качества и времени операций:\n",
    "- ***RMSE = 1654***\n",
    "- время обучения модели: ***642.13 s***\n",
    "- время предсказания модели: ***1.40 s***\n",
    "\n",
    "при следующих параметрах:\n",
    "- глубина дерева: `max_depth` = 10\n",
    "- количество деревьев (итераций): `n_estimators` = 300\n",
    "- коэффициент скорости обучения (размер шага градиентного спуска): `learning_rate` = 0.15"
   ]
  },
  {
   "cell_type": "markdown",
   "metadata": {},
   "source": [
    "### `LGBMRegressor` + `GridSearchCV`\n",
    "<a name=\"53\"></a> <div style=\"text-align: left\">[Cодержание](#Содержание)</div>"
   ]
  },
  {
   "cell_type": "markdown",
   "metadata": {},
   "source": [
    "Для получения лучшей модели **градиентного бустинга *LightGBM*** можно автоматически подбирать гиперпараметры используя функцию **`GridSearchCV`**. Функция `GridSearchCV` самостоятельно делит выборку на обучающую и валидационную. Поэтому мы можем её применить к промежуточной выборке `train_valid`, оставшейся после выделения тестовой выборки из исходных данных.\n",
    "\n",
    "Т.к. модель *LightGBM* не распознаёт тип данных `object`, для модели *LightGBM* возьмём преобразованные данные `_encoded_scaled` (с порядковым кодированием *Ordinal Encoding*)."
   ]
  },
  {
   "cell_type": "code",
   "execution_count": 66,
   "metadata": {
    "scrolled": false
   },
   "outputs": [
    {
     "name": "stdout",
     "output_type": "stream",
     "text": [
      "Fitting 5 folds for each of 4 candidates, totalling 20 fits\n",
      "[CV 1/5; 1/4] START boosting_type=gbdt, max_depth=6, metric=rmse, n_estimators=200\n",
      "[CV 1/5; 1/4] END boosting_type=gbdt, max_depth=6, metric=rmse, n_estimators=200; total time=  12.6s\n",
      "[CV 2/5; 1/4] START boosting_type=gbdt, max_depth=6, metric=rmse, n_estimators=200\n",
      "[CV 2/5; 1/4] END boosting_type=gbdt, max_depth=6, metric=rmse, n_estimators=200; total time=  13.9s\n",
      "[CV 3/5; 1/4] START boosting_type=gbdt, max_depth=6, metric=rmse, n_estimators=200\n",
      "[CV 3/5; 1/4] END boosting_type=gbdt, max_depth=6, metric=rmse, n_estimators=200; total time=  33.3s\n",
      "[CV 4/5; 1/4] START boosting_type=gbdt, max_depth=6, metric=rmse, n_estimators=200\n",
      "[CV 4/5; 1/4] END boosting_type=gbdt, max_depth=6, metric=rmse, n_estimators=200; total time=  44.7s\n",
      "[CV 5/5; 1/4] START boosting_type=gbdt, max_depth=6, metric=rmse, n_estimators=200\n",
      "[CV 5/5; 1/4] END boosting_type=gbdt, max_depth=6, metric=rmse, n_estimators=200; total time= 2.1min\n",
      "[CV 1/5; 2/4] START boosting_type=gbdt, max_depth=6, metric=rmse, n_estimators=400\n",
      "[CV 1/5; 2/4] END boosting_type=gbdt, max_depth=6, metric=rmse, n_estimators=400; total time= 1.8min\n",
      "[CV 2/5; 2/4] START boosting_type=gbdt, max_depth=6, metric=rmse, n_estimators=400\n",
      "[CV 2/5; 2/4] END boosting_type=gbdt, max_depth=6, metric=rmse, n_estimators=400; total time= 2.8min\n",
      "[CV 3/5; 2/4] START boosting_type=gbdt, max_depth=6, metric=rmse, n_estimators=400\n",
      "[CV 3/5; 2/4] END boosting_type=gbdt, max_depth=6, metric=rmse, n_estimators=400; total time= 1.1min\n",
      "[CV 4/5; 2/4] START boosting_type=gbdt, max_depth=6, metric=rmse, n_estimators=400\n",
      "[CV 4/5; 2/4] END boosting_type=gbdt, max_depth=6, metric=rmse, n_estimators=400; total time=  20.2s\n",
      "[CV 5/5; 2/4] START boosting_type=gbdt, max_depth=6, metric=rmse, n_estimators=400\n",
      "[CV 5/5; 2/4] END boosting_type=gbdt, max_depth=6, metric=rmse, n_estimators=400; total time=  14.2s\n",
      "[CV 1/5; 3/4] START boosting_type=gbdt, max_depth=8, metric=rmse, n_estimators=200\n",
      "[CV 1/5; 3/4] END boosting_type=gbdt, max_depth=8, metric=rmse, n_estimators=200; total time=   7.6s\n",
      "[CV 2/5; 3/4] START boosting_type=gbdt, max_depth=8, metric=rmse, n_estimators=200\n",
      "[CV 2/5; 3/4] END boosting_type=gbdt, max_depth=8, metric=rmse, n_estimators=200; total time=   7.5s\n",
      "[CV 3/5; 3/4] START boosting_type=gbdt, max_depth=8, metric=rmse, n_estimators=200\n",
      "[CV 3/5; 3/4] END boosting_type=gbdt, max_depth=8, metric=rmse, n_estimators=200; total time=  36.0s\n",
      "[CV 4/5; 3/4] START boosting_type=gbdt, max_depth=8, metric=rmse, n_estimators=200\n",
      "[CV 4/5; 3/4] END boosting_type=gbdt, max_depth=8, metric=rmse, n_estimators=200; total time=   9.1s\n",
      "[CV 5/5; 3/4] START boosting_type=gbdt, max_depth=8, metric=rmse, n_estimators=200\n",
      "[CV 5/5; 3/4] END boosting_type=gbdt, max_depth=8, metric=rmse, n_estimators=200; total time=  10.7s\n",
      "[CV 1/5; 4/4] START boosting_type=gbdt, max_depth=8, metric=rmse, n_estimators=400\n",
      "[CV 1/5; 4/4] END boosting_type=gbdt, max_depth=8, metric=rmse, n_estimators=400; total time=  18.4s\n",
      "[CV 2/5; 4/4] START boosting_type=gbdt, max_depth=8, metric=rmse, n_estimators=400\n",
      "[CV 2/5; 4/4] END boosting_type=gbdt, max_depth=8, metric=rmse, n_estimators=400; total time= 1.7min\n",
      "[CV 3/5; 4/4] START boosting_type=gbdt, max_depth=8, metric=rmse, n_estimators=400\n",
      "[CV 3/5; 4/4] END boosting_type=gbdt, max_depth=8, metric=rmse, n_estimators=400; total time= 2.3min\n",
      "[CV 4/5; 4/4] START boosting_type=gbdt, max_depth=8, metric=rmse, n_estimators=400\n",
      "[CV 4/5; 4/4] END boosting_type=gbdt, max_depth=8, metric=rmse, n_estimators=400; total time= 1.8min\n",
      "[CV 5/5; 4/4] START boosting_type=gbdt, max_depth=8, metric=rmse, n_estimators=400\n",
      "[CV 5/5; 4/4] END boosting_type=gbdt, max_depth=8, metric=rmse, n_estimators=400; total time= 2.3min\n",
      "Лучшая RMSE LightGBM + GridSearchCV: 1641\n",
      "Лучшая модель LightGBM + GridSearchCV: LGBMRegressor(learning_rate=0.15, max_depth=8, metric='rmse', n_estimators=400,\n",
      "              random_state=12345)\n",
      "Лучшие параметры LightGBM + GridSearchCV: {'boosting_type': 'gbdt', 'max_depth': 8, 'metric': 'rmse', 'n_estimators': 400}\n",
      "CPU times: user 21min 11s, sys: 15.8 s, total: 21min 26s\n",
      "Wall time: 21min 37s\n"
     ]
    }
   ],
   "source": [
    "%%time\n",
    "\n",
    "# построим модель LightGBM для задачи регрессии\n",
    "model_lgbm_gscv = LGBMRegressor(\n",
    "    # коэффициент скорости обучения, т.е. размер шага градиентного спуска\n",
    "    learning_rate=0.15, \n",
    "    random_state=RANDOM_STATE)\n",
    "\n",
    "# создадим словарь с гиперпараметрами для модели\n",
    "parameters = {\n",
    "    # максимальная глубина дерева\n",
    "    'max_depth': [6, 8],\n",
    "    # количество деревьев\n",
    "    'n_estimators': [200, 400],\n",
    "    # рассчитываемая метрика - RMSE\n",
    "    'metric': ['rmse'],\n",
    "    # ['gbdt'] (тип алгоритма)\n",
    "    'boosting_type': ['gbdt']\n",
    "}\n",
    "\n",
    "# подберём гиперпараметры используя GridSearchCV\n",
    "lgbm_gscv_result = GridSearchCV(model_lgbm_gscv, \n",
    "                                parameters, \n",
    "                                cv=k_fold, \n",
    "                                scoring='neg_root_mean_squared_error', \n",
    "                                verbose=50)\n",
    "\n",
    "# обучим модель\n",
    "lgbm_gscv_result.fit(\n",
    "    features_train_valid_encoded_scaled, target_train_valid)\n",
    "\n",
    "# получим предсказания\n",
    "predictions = lgbm_gscv_result.predict(\n",
    "    features_train_valid_encoded_scaled)\n",
    "\n",
    "print('Лучшая RMSE LightGBM + GridSearchCV:', \n",
    "      f'{abs(lgbm_gscv_result.best_score_):.0f}')\n",
    "print('Лучшая модель LightGBM + GridSearchCV:', \n",
    "      lgbm_gscv_result.best_estimator_)\n",
    "print('Лучшие параметры LightGBM + GridSearchCV:', \n",
    "      lgbm_gscv_result.best_params_)"
   ]
  },
  {
   "cell_type": "markdown",
   "metadata": {},
   "source": [
    "Выведем время обучения и предсказания модели."
   ]
  },
  {
   "cell_type": "code",
   "execution_count": 67,
   "metadata": {},
   "outputs": [
    {
     "data": {
      "text/html": [
       "<div>\n",
       "<style scoped>\n",
       "    .dataframe tbody tr th:only-of-type {\n",
       "        vertical-align: middle;\n",
       "    }\n",
       "\n",
       "    .dataframe tbody tr th {\n",
       "        vertical-align: top;\n",
       "    }\n",
       "\n",
       "    .dataframe thead th {\n",
       "        text-align: right;\n",
       "    }\n",
       "</style>\n",
       "<table border=\"1\" class=\"dataframe\">\n",
       "  <thead>\n",
       "    <tr style=\"text-align: right;\">\n",
       "      <th></th>\n",
       "      <th>mean_fit_time</th>\n",
       "      <th>std_fit_time</th>\n",
       "      <th>mean_score_time</th>\n",
       "      <th>std_score_time</th>\n",
       "      <th>param_boosting_type</th>\n",
       "      <th>param_max_depth</th>\n",
       "      <th>param_metric</th>\n",
       "      <th>param_n_estimators</th>\n",
       "      <th>params</th>\n",
       "      <th>split0_test_score</th>\n",
       "      <th>split1_test_score</th>\n",
       "      <th>split2_test_score</th>\n",
       "      <th>split3_test_score</th>\n",
       "      <th>split4_test_score</th>\n",
       "      <th>mean_test_score</th>\n",
       "      <th>std_test_score</th>\n",
       "      <th>rank_test_score</th>\n",
       "    </tr>\n",
       "  </thead>\n",
       "  <tbody>\n",
       "    <tr>\n",
       "      <th>3</th>\n",
       "      <td>98.135172</td>\n",
       "      <td>42.920552</td>\n",
       "      <td>1.243969</td>\n",
       "      <td>0.043479</td>\n",
       "      <td>gbdt</td>\n",
       "      <td>8</td>\n",
       "      <td>rmse</td>\n",
       "      <td>400</td>\n",
       "      <td>{'boosting_type': 'gbdt', 'max_depth': 8, 'met...</td>\n",
       "      <td>-1641.804858</td>\n",
       "      <td>-1647.338656</td>\n",
       "      <td>-1637.532584</td>\n",
       "      <td>-1642.983448</td>\n",
       "      <td>-1635.350125</td>\n",
       "      <td>-1641.001934</td>\n",
       "      <td>4.211994</td>\n",
       "      <td>1</td>\n",
       "    </tr>\n",
       "    <tr>\n",
       "      <th>1</th>\n",
       "      <td>73.649232</td>\n",
       "      <td>57.109147</td>\n",
       "      <td>1.326426</td>\n",
       "      <td>0.030423</td>\n",
       "      <td>gbdt</td>\n",
       "      <td>6</td>\n",
       "      <td>rmse</td>\n",
       "      <td>400</td>\n",
       "      <td>{'boosting_type': 'gbdt', 'max_depth': 6, 'met...</td>\n",
       "      <td>-1656.802198</td>\n",
       "      <td>-1663.265360</td>\n",
       "      <td>-1646.089170</td>\n",
       "      <td>-1650.544017</td>\n",
       "      <td>-1648.789122</td>\n",
       "      <td>-1653.097974</td>\n",
       "      <td>6.185616</td>\n",
       "      <td>2</td>\n",
       "    </tr>\n",
       "    <tr>\n",
       "      <th>2</th>\n",
       "      <td>13.499237</td>\n",
       "      <td>10.963762</td>\n",
       "      <td>0.681984</td>\n",
       "      <td>0.033891</td>\n",
       "      <td>gbdt</td>\n",
       "      <td>8</td>\n",
       "      <td>rmse</td>\n",
       "      <td>200</td>\n",
       "      <td>{'boosting_type': 'gbdt', 'max_depth': 8, 'met...</td>\n",
       "      <td>-1682.534249</td>\n",
       "      <td>-1686.466487</td>\n",
       "      <td>-1680.771108</td>\n",
       "      <td>-1675.718538</td>\n",
       "      <td>-1672.311488</td>\n",
       "      <td>-1679.560374</td>\n",
       "      <td>5.006202</td>\n",
       "      <td>3</td>\n",
       "    </tr>\n",
       "    <tr>\n",
       "      <th>0</th>\n",
       "      <td>45.439719</td>\n",
       "      <td>41.879136</td>\n",
       "      <td>0.740192</td>\n",
       "      <td>0.041308</td>\n",
       "      <td>gbdt</td>\n",
       "      <td>6</td>\n",
       "      <td>rmse</td>\n",
       "      <td>200</td>\n",
       "      <td>{'boosting_type': 'gbdt', 'max_depth': 6, 'met...</td>\n",
       "      <td>-1695.500270</td>\n",
       "      <td>-1700.080248</td>\n",
       "      <td>-1687.125935</td>\n",
       "      <td>-1684.959232</td>\n",
       "      <td>-1688.305880</td>\n",
       "      <td>-1691.194313</td>\n",
       "      <td>5.679297</td>\n",
       "      <td>4</td>\n",
       "    </tr>\n",
       "  </tbody>\n",
       "</table>\n",
       "</div>"
      ],
      "text/plain": [
       "   mean_fit_time  std_fit_time  mean_score_time  std_score_time  \\\n",
       "3      98.135172     42.920552         1.243969        0.043479   \n",
       "1      73.649232     57.109147         1.326426        0.030423   \n",
       "2      13.499237     10.963762         0.681984        0.033891   \n",
       "0      45.439719     41.879136         0.740192        0.041308   \n",
       "\n",
       "  param_boosting_type param_max_depth param_metric param_n_estimators  \\\n",
       "3                gbdt               8         rmse                400   \n",
       "1                gbdt               6         rmse                400   \n",
       "2                gbdt               8         rmse                200   \n",
       "0                gbdt               6         rmse                200   \n",
       "\n",
       "                                              params  split0_test_score  \\\n",
       "3  {'boosting_type': 'gbdt', 'max_depth': 8, 'met...       -1641.804858   \n",
       "1  {'boosting_type': 'gbdt', 'max_depth': 6, 'met...       -1656.802198   \n",
       "2  {'boosting_type': 'gbdt', 'max_depth': 8, 'met...       -1682.534249   \n",
       "0  {'boosting_type': 'gbdt', 'max_depth': 6, 'met...       -1695.500270   \n",
       "\n",
       "   split1_test_score  split2_test_score  split3_test_score  split4_test_score  \\\n",
       "3       -1647.338656       -1637.532584       -1642.983448       -1635.350125   \n",
       "1       -1663.265360       -1646.089170       -1650.544017       -1648.789122   \n",
       "2       -1686.466487       -1680.771108       -1675.718538       -1672.311488   \n",
       "0       -1700.080248       -1687.125935       -1684.959232       -1688.305880   \n",
       "\n",
       "   mean_test_score  std_test_score  rank_test_score  \n",
       "3     -1641.001934        4.211994                1  \n",
       "1     -1653.097974        6.185616                2  \n",
       "2     -1679.560374        5.006202                3  \n",
       "0     -1691.194313        5.679297                4  "
      ]
     },
     "execution_count": 67,
     "metadata": {},
     "output_type": "execute_result"
    }
   ],
   "source": [
    "# время обучения и предсказания модели\n",
    "lgbm_gscv_res = pd.DataFrame(\n",
    "    lgbm_gscv_result.cv_results_).sort_values(by='rank_test_score')\n",
    "lgbm_gscv_res"
   ]
  },
  {
   "cell_type": "code",
   "execution_count": 68,
   "metadata": {},
   "outputs": [
    {
     "name": "stdout",
     "output_type": "stream",
     "text": [
      "Время обучения модели: 98.14 s\n",
      "Время предсказания модели: 1.24 s\n"
     ]
    }
   ],
   "source": [
    "print('Время обучения модели:', \n",
    "      f'{lgbm_gscv_res.iloc[0][\"mean_fit_time\"]:.2f} s')\n",
    "print('Время предсказания модели:', \n",
    "      f'{lgbm_gscv_res.iloc[0][\"mean_score_time\"]:.2f} s')"
   ]
  },
  {
   "cell_type": "markdown",
   "metadata": {},
   "source": [
    "Лучшая модель градиентного бустинга **`LGBMRegressor`** с `GridSearchCV` имеет значения метрик оценки качества и времени операций:\n",
    "- ***RMSE = 1641***\n",
    "- время обучения модели: ***14.55 s***\n",
    "- время предсказания модели: ***1.21 s***\n",
    "\n",
    "при следующих параметрах:\n",
    "- глубина дерева: `max_depth` = 8\n",
    "- количество деревьев (итераций): `n_estimators` = 400\n",
    "- коэффициент скорости обучения (размер шага градиентного спуска): `learning_rate` = 0.15"
   ]
  },
  {
   "cell_type": "markdown",
   "metadata": {},
   "source": [
    "### `CatBoostRegressor`\n",
    "<a name=\"54\"></a> <div style=\"text-align: left\">[Cодержание](#Содержание)</div>"
   ]
  },
  {
   "cell_type": "markdown",
   "metadata": {},
   "source": [
    "Построим модель **градиентного бустинга *CatBoost*** - `CatBoostRegressor`. *CatBoost* применяет различные техники кодирования категориальных признаков, так что дополнительное преобразование категориальных признаков в численные здесь не требуется. Поэтому на вход `CatBoostRegressor` можно подать признаки `_scaled` (без порядкового кодирования *Ordinal Encoding*).\n",
    "\n",
    "В качестве списка категориальных признаков укажем переменную `categorical`."
   ]
  },
  {
   "cell_type": "code",
   "execution_count": 69,
   "metadata": {
    "scrolled": false
   },
   "outputs": [
    {
     "data": {
      "application/vnd.jupyter.widget-view+json": {
       "model_id": "34ff1bc9e1a8464bb3f08263c9406cd2",
       "version_major": 2,
       "version_minor": 0
      },
      "text/plain": [
       "MetricVisualizer(layout=Layout(align_self='stretch', height='500px'))"
      ]
     },
     "metadata": {},
     "output_type": "display_data"
    },
    {
     "name": "stdout",
     "output_type": "stream",
     "text": [
      "0:\tlearn: 4050.9172749\ttest: 4054.7837709\tbest: 4054.7837709 (0)\ttotal: 486ms\tremaining: 1m 37s\n",
      "50:\tlearn: 1711.5464179\ttest: 1746.7490320\tbest: 1746.7490320 (50)\ttotal: 16.7s\tremaining: 49.2s\n",
      "100:\tlearn: 1629.8141136\ttest: 1693.7358524\tbest: 1693.7358524 (100)\ttotal: 33.3s\tremaining: 33s\n",
      "150:\tlearn: 1572.6748164\ttest: 1664.8457318\tbest: 1664.8457318 (150)\ttotal: 50.5s\tremaining: 16.7s\n",
      "200:\tlearn: 1541.2633010\ttest: 1653.0083133\tbest: 1653.0035791 (199)\ttotal: 1m 9s\tremaining: 0us\n",
      "\n",
      "bestTest = 1653.003579\n",
      "bestIteration = 199\n",
      "\n",
      "Shrink model to first 200 iterations.\n",
      "RMSE модели CatBoost: 1653\n",
      "Количество деревьев, после которого наступает переобучение: 200\n",
      "Лучший результат модели: {'learn': {'RMSE': 1541.2633009599226}, 'validation': {'RMSE': 1653.0035791132252}}\n",
      "Время обучения модели: 72.89 s\n",
      "Время предсказания: 0.20 s\n",
      "CPU times: user 1min 9s, sys: 640 ms, total: 1min 10s\n",
      "Wall time: 1min 13s\n"
     ]
    }
   ],
   "source": [
    "%%time\n",
    "\n",
    "# построим модель CatBoost для задачи регрессии\n",
    "model_cat = CatBoostRegressor(\n",
    "    # глубина дерева\n",
    "    depth=10,\n",
    "    # максимальное количество деревьев (итераций)\n",
    "    iterations=201,\n",
    "    # коэффициент скорости обучения (размер шага градиентного спуска)\n",
    "    learning_rate=0.15,\n",
    "    # функция потерь RMSE\n",
    "    loss_function='RMSE',\n",
    "    random_seed=RANDOM_STATE,\n",
    "    # контроль переобучения\n",
    "    early_stopping_rounds=10,\n",
    "    # борьба с переобучением\n",
    "    l2_leaf_reg=4, \n",
    "    use_best_model=True)\n",
    "\n",
    "# Обучим модель:\n",
    "# старт отсчёта времени обучения\n",
    "start = time.time()\n",
    "model_cat.fit(features_train_scaled, target_train, \n",
    "              cat_features=categorical,\n",
    "              eval_set=(features_valid_scaled, target_valid),\n",
    "              verbose=50, \n",
    "              plot=True)\n",
    "# отметка завершения отсчёта времени обучения\n",
    "end = time.time()\n",
    "# время обучения модели\n",
    "fit_time_cat = end - start\n",
    "\n",
    "# Получим предсказания:\n",
    "predictions = model_cat.predict(features_valid_scaled)\n",
    "# время предсказания\n",
    "predict_time_cat = time.time() - end\n",
    "\n",
    "# Получим метрику RMSE:\n",
    "rmse_cat = mean_squared_error(target_valid, \n",
    "                              predictions, \n",
    "                              # параметр squared=False возвращает RMSE\n",
    "                              squared=False)\n",
    "\n",
    "print('RMSE модели CatBoost:', f'{rmse_cat:.0f}')\n",
    "print('Количество деревьев, после которого наступает переобучение:', \n",
    "      model_cat.tree_count_)\n",
    "print('Лучший результат модели:', model_cat.get_best_score())\n",
    "print('Время обучения модели:', f'{fit_time_cat:.2f} s')\n",
    "print('Время предсказания:', f'{predict_time_cat:.2f} s')"
   ]
  },
  {
   "cell_type": "markdown",
   "metadata": {},
   "source": [
    "Модель градиентного бустинга **`CatBoostRegressor`** имеет значения метрик оценки качества и времени операций:\n",
    "- ***RMSE = 1655***\n",
    "- время обучения модели: ***69.71 s***\n",
    "- время предсказания модели: ***0.21 s***\n",
    "\n",
    "при следующих параметрах:\n",
    "- глубина дерева: `depth` = 10\n",
    "- количество деревьев (итераций): `iterations` = 200\n",
    "- коэффициент скорости обучения (размер шага градиентного спуска): `learning_rate` = 0.15"
   ]
  },
  {
   "cell_type": "markdown",
   "metadata": {},
   "source": [
    "### `CatBoostRegressor` + `GridSearchCV`\n",
    "<a name=\"55\"></a> <div style=\"text-align: left\">[Cодержание](#Содержание)</div>"
   ]
  },
  {
   "cell_type": "markdown",
   "metadata": {},
   "source": [
    "Для получения лучшей модели **градиентного бустинга *CatBoost*** можно автоматически подбирать гиперпараметры используя функцию **`GridSearchCV`**. Функция `GridSearchCV` самостоятельно делит выборку на обучающую и валидационную. Поэтому мы можем её применить к промежуточной выборке `train_valid`, оставшейся после выделения тестовой выборки из исходных данных.\n",
    "\n",
    "Для модели *CatBoost* возьмём данные `_scaled` (без порядкового кодирования *Ordinal Encoding*), т.к. модель *CatBoost* сама применяет различные техники кодирования категориальных признаков.\n",
    "\n",
    "В качестве списка категориальных признаков укажем переменную `categorical`.\n",
    "\n",
    "Отметим, что `CatBoostRegressor` создает временные файлы для обучения. Чтобы предотвратить это, и чтобы не появлялась ошибка о том, что по указанными путям у `CatBoostRegressor` нет доступа к созданию файлов, укажем в модели параметр `allow_writing_files=False`."
   ]
  },
  {
   "cell_type": "code",
   "execution_count": 70,
   "metadata": {
    "scrolled": false
   },
   "outputs": [
    {
     "name": "stdout",
     "output_type": "stream",
     "text": [
      "0:\tlearn: 4102.9629892\ttotal: 68.5ms\tremaining: 6.78s\n",
      "50:\tlearn: 1858.3959219\ttotal: 2.75s\tremaining: 2.64s\n",
      "99:\tlearn: 1777.7305706\ttotal: 5.27s\tremaining: 0us\n",
      "0:\tlearn: 4128.5683573\ttotal: 61.3ms\tremaining: 6.06s\n",
      "50:\tlearn: 1870.2265467\ttotal: 2.73s\tremaining: 2.62s\n",
      "99:\tlearn: 1785.1150768\ttotal: 5.26s\tremaining: 0us\n",
      "0:\tlearn: 4112.9336966\ttotal: 62.8ms\tremaining: 6.22s\n",
      "50:\tlearn: 1859.4047137\ttotal: 2.7s\tremaining: 2.59s\n",
      "99:\tlearn: 1775.6304195\ttotal: 5.23s\tremaining: 0us\n",
      "0:\tlearn: 4102.6695456\ttotal: 168ms\tremaining: 33.4s\n",
      "50:\tlearn: 1846.4033984\ttotal: 6.76s\tremaining: 19.8s\n",
      "100:\tlearn: 1766.3096520\ttotal: 13.2s\tremaining: 12.9s\n",
      "150:\tlearn: 1727.1286655\ttotal: 19.7s\tremaining: 6.38s\n",
      "199:\tlearn: 1698.1643106\ttotal: 26s\tremaining: 0us\n",
      "0:\tlearn: 4113.7829915\ttotal: 192ms\tremaining: 38.2s\n",
      "50:\tlearn: 1855.7567290\ttotal: 6.81s\tremaining: 19.9s\n",
      "100:\tlearn: 1773.2535519\ttotal: 13.1s\tremaining: 12.8s\n",
      "150:\tlearn: 1730.5858698\ttotal: 19.8s\tremaining: 6.43s\n",
      "199:\tlearn: 1706.4389111\ttotal: 26.1s\tremaining: 0us\n",
      "0:\tlearn: 4102.8602522\ttotal: 182ms\tremaining: 36.3s\n",
      "50:\tlearn: 1849.6490676\ttotal: 7.25s\tremaining: 21.2s\n",
      "100:\tlearn: 1765.9462480\ttotal: 13.8s\tremaining: 13.5s\n",
      "150:\tlearn: 1724.4511091\ttotal: 20.1s\tremaining: 6.53s\n",
      "199:\tlearn: 1695.5189217\ttotal: 26.3s\tremaining: 0us\n",
      "0:\tlearn: 4086.5353304\ttotal: 120ms\tremaining: 11.9s\n",
      "50:\tlearn: 1789.5654998\ttotal: 3.62s\tremaining: 3.47s\n",
      "99:\tlearn: 1704.8243428\ttotal: 6.92s\tremaining: 0us\n",
      "0:\tlearn: 4104.1529510\ttotal: 73.8ms\tremaining: 7.3s\n",
      "50:\tlearn: 1791.1766252\ttotal: 3.56s\tremaining: 3.42s\n",
      "99:\tlearn: 1711.5042934\ttotal: 7.03s\tremaining: 0us\n",
      "0:\tlearn: 4085.9440911\ttotal: 81ms\tremaining: 8.01s\n",
      "50:\tlearn: 1787.8092282\ttotal: 3.51s\tremaining: 3.37s\n",
      "99:\tlearn: 1705.2039885\ttotal: 7.04s\tremaining: 0us\n",
      "0:\tlearn: 4086.3106670\ttotal: 237ms\tremaining: 47.2s\n",
      "50:\tlearn: 1775.9955630\ttotal: 9.31s\tremaining: 27.2s\n",
      "100:\tlearn: 1700.2387205\ttotal: 18.1s\tremaining: 17.7s\n",
      "150:\tlearn: 1652.7905323\ttotal: 26.7s\tremaining: 8.67s\n",
      "199:\tlearn: 1623.9342477\ttotal: 35.5s\tremaining: 0us\n",
      "0:\tlearn: 4085.8283226\ttotal: 255ms\tremaining: 50.8s\n",
      "50:\tlearn: 1784.3684836\ttotal: 9.81s\tremaining: 28.7s\n",
      "100:\tlearn: 1698.0872947\ttotal: 18.9s\tremaining: 18.5s\n",
      "150:\tlearn: 1653.9460495\ttotal: 27.8s\tremaining: 9.02s\n",
      "199:\tlearn: 1626.0188369\ttotal: 36.5s\tremaining: 0us\n",
      "0:\tlearn: 4071.9611785\ttotal: 274ms\tremaining: 54.5s\n",
      "50:\tlearn: 1779.5174777\ttotal: 10.7s\tremaining: 31.2s\n",
      "100:\tlearn: 1692.5085737\ttotal: 20.6s\tremaining: 20.2s\n",
      "150:\tlearn: 1647.5865532\ttotal: 30.8s\tremaining: 9.98s\n",
      "199:\tlearn: 1616.0996969\ttotal: 40.5s\tremaining: 0us\n",
      "0:\tlearn: 4080.8521902\ttotal: 385ms\tremaining: 1m 16s\n",
      "50:\tlearn: 1774.0235378\ttotal: 15.1s\tremaining: 44.2s\n",
      "100:\tlearn: 1690.5135491\ttotal: 29s\tremaining: 28.4s\n",
      "150:\tlearn: 1649.0950239\ttotal: 44.4s\tremaining: 14.4s\n",
      "199:\tlearn: 1619.3148401\ttotal: 59.3s\tremaining: 0us\n",
      "Лучшая RMSE CatBoost + GridSearchCV: 1687\n",
      "Лучшая модель CatBoost + GridSearchCV: <catboost.core.CatBoostRegressor object at 0x7f04fd9a9910>\n",
      "Лучшие параметры CatBoost + GridSearchCV: {'depth': 8, 'iterations': 200, 'verbose': 50}\n",
      "CPU times: user 4min 52s, sys: 1.48 s, total: 4min 54s\n",
      "Wall time: 4min 54s\n"
     ]
    }
   ],
   "source": [
    "%%time\n",
    "\n",
    "# построим модель CatBoost для задачи регрессии\n",
    "model_cat_gscv = CatBoostRegressor(\n",
    "    # коэффициент скорости обучения (размер шага градиентного спуска)\n",
    "    learning_rate=0.15,\n",
    "    random_seed=RANDOM_STATE,\n",
    "    # контроль переобучения\n",
    "    early_stopping_rounds=10,\n",
    "    # борьба с переобучением\n",
    "    l2_leaf_reg=4,\n",
    "    cat_features=categorical,\n",
    "    allow_writing_files=False\n",
    ")\n",
    "\n",
    "# создадим словарь с гиперпараметрами для модели\n",
    "parameters  = {'depth': [6, 8], 'iterations': [100, 200], 'verbose': [50]}\n",
    "\n",
    "# подберём гиперпараметры используя GridSearchCV\n",
    "cat_gscv_result = GridSearchCV(model_cat_gscv, \n",
    "                               parameters, \n",
    "                               scoring='neg_root_mean_squared_error', \n",
    "                               cv=3, \n",
    "                               n_jobs=-1)\n",
    "\n",
    "# обучим модель\n",
    "cat_gscv_result.fit(features_train_valid_scaled, target_train_valid)\n",
    "\n",
    "# затем получим предсказания\n",
    "predictions = cat_gscv_result.predict(features_train_valid_scaled)\n",
    "\n",
    "print('Лучшая RMSE CatBoost + GridSearchCV:', \n",
    "      f'{abs(cat_gscv_result.best_score_):.0f}')\n",
    "print('Лучшая модель CatBoost + GridSearchCV:', \n",
    "      cat_gscv_result.best_estimator_)\n",
    "print('Лучшие параметры CatBoost + GridSearchCV:', \n",
    "      cat_gscv_result.best_params_)"
   ]
  },
  {
   "cell_type": "markdown",
   "metadata": {},
   "source": [
    "Выведем время обучения и предсказания модели."
   ]
  },
  {
   "cell_type": "code",
   "execution_count": 71,
   "metadata": {},
   "outputs": [
    {
     "data": {
      "text/html": [
       "<div>\n",
       "<style scoped>\n",
       "    .dataframe tbody tr th:only-of-type {\n",
       "        vertical-align: middle;\n",
       "    }\n",
       "\n",
       "    .dataframe tbody tr th {\n",
       "        vertical-align: top;\n",
       "    }\n",
       "\n",
       "    .dataframe thead th {\n",
       "        text-align: right;\n",
       "    }\n",
       "</style>\n",
       "<table border=\"1\" class=\"dataframe\">\n",
       "  <thead>\n",
       "    <tr style=\"text-align: right;\">\n",
       "      <th></th>\n",
       "      <th>mean_fit_time</th>\n",
       "      <th>std_fit_time</th>\n",
       "      <th>mean_score_time</th>\n",
       "      <th>std_score_time</th>\n",
       "      <th>param_depth</th>\n",
       "      <th>param_iterations</th>\n",
       "      <th>param_verbose</th>\n",
       "      <th>params</th>\n",
       "      <th>split0_test_score</th>\n",
       "      <th>split1_test_score</th>\n",
       "      <th>split2_test_score</th>\n",
       "      <th>mean_test_score</th>\n",
       "      <th>std_test_score</th>\n",
       "      <th>rank_test_score</th>\n",
       "    </tr>\n",
       "  </thead>\n",
       "  <tbody>\n",
       "    <tr>\n",
       "      <th>3</th>\n",
       "      <td>38.037291</td>\n",
       "      <td>2.127558</td>\n",
       "      <td>0.220770</td>\n",
       "      <td>0.011228</td>\n",
       "      <td>8</td>\n",
       "      <td>200</td>\n",
       "      <td>50</td>\n",
       "      <td>{'depth': 8, 'iterations': 200, 'verbose': 50}</td>\n",
       "      <td>-1684.724145</td>\n",
       "      <td>-1680.411726</td>\n",
       "      <td>-1697.319641</td>\n",
       "      <td>-1687.485171</td>\n",
       "      <td>7.173416</td>\n",
       "      <td>1</td>\n",
       "    </tr>\n",
       "    <tr>\n",
       "      <th>1</th>\n",
       "      <td>26.573264</td>\n",
       "      <td>0.134475</td>\n",
       "      <td>0.178493</td>\n",
       "      <td>0.001280</td>\n",
       "      <td>6</td>\n",
       "      <td>200</td>\n",
       "      <td>50</td>\n",
       "      <td>{'depth': 6, 'iterations': 200, 'verbose': 50}</td>\n",
       "      <td>-1727.444506</td>\n",
       "      <td>-1719.492258</td>\n",
       "      <td>-1739.197646</td>\n",
       "      <td>-1728.711470</td>\n",
       "      <td>8.094421</td>\n",
       "      <td>2</td>\n",
       "    </tr>\n",
       "    <tr>\n",
       "      <th>2</th>\n",
       "      <td>7.272598</td>\n",
       "      <td>0.040242</td>\n",
       "      <td>0.096406</td>\n",
       "      <td>0.002482</td>\n",
       "      <td>8</td>\n",
       "      <td>100</td>\n",
       "      <td>50</td>\n",
       "      <td>{'depth': 8, 'iterations': 100, 'verbose': 50}</td>\n",
       "      <td>-1737.361453</td>\n",
       "      <td>-1733.664358</td>\n",
       "      <td>-1753.991003</td>\n",
       "      <td>-1741.672271</td>\n",
       "      <td>8.840456</td>\n",
       "      <td>3</td>\n",
       "    </tr>\n",
       "    <tr>\n",
       "      <th>0</th>\n",
       "      <td>5.525640</td>\n",
       "      <td>0.025331</td>\n",
       "      <td>0.083031</td>\n",
       "      <td>0.004203</td>\n",
       "      <td>6</td>\n",
       "      <td>100</td>\n",
       "      <td>50</td>\n",
       "      <td>{'depth': 6, 'iterations': 100, 'verbose': 50}</td>\n",
       "      <td>-1788.306092</td>\n",
       "      <td>-1783.395619</td>\n",
       "      <td>-1806.646067</td>\n",
       "      <td>-1792.782593</td>\n",
       "      <td>10.005836</td>\n",
       "      <td>4</td>\n",
       "    </tr>\n",
       "  </tbody>\n",
       "</table>\n",
       "</div>"
      ],
      "text/plain": [
       "   mean_fit_time  std_fit_time  mean_score_time  std_score_time param_depth  \\\n",
       "3      38.037291      2.127558         0.220770        0.011228           8   \n",
       "1      26.573264      0.134475         0.178493        0.001280           6   \n",
       "2       7.272598      0.040242         0.096406        0.002482           8   \n",
       "0       5.525640      0.025331         0.083031        0.004203           6   \n",
       "\n",
       "  param_iterations param_verbose  \\\n",
       "3              200            50   \n",
       "1              200            50   \n",
       "2              100            50   \n",
       "0              100            50   \n",
       "\n",
       "                                           params  split0_test_score  \\\n",
       "3  {'depth': 8, 'iterations': 200, 'verbose': 50}       -1684.724145   \n",
       "1  {'depth': 6, 'iterations': 200, 'verbose': 50}       -1727.444506   \n",
       "2  {'depth': 8, 'iterations': 100, 'verbose': 50}       -1737.361453   \n",
       "0  {'depth': 6, 'iterations': 100, 'verbose': 50}       -1788.306092   \n",
       "\n",
       "   split1_test_score  split2_test_score  mean_test_score  std_test_score  \\\n",
       "3       -1680.411726       -1697.319641     -1687.485171        7.173416   \n",
       "1       -1719.492258       -1739.197646     -1728.711470        8.094421   \n",
       "2       -1733.664358       -1753.991003     -1741.672271        8.840456   \n",
       "0       -1783.395619       -1806.646067     -1792.782593       10.005836   \n",
       "\n",
       "   rank_test_score  \n",
       "3                1  \n",
       "1                2  \n",
       "2                3  \n",
       "0                4  "
      ]
     },
     "execution_count": 71,
     "metadata": {},
     "output_type": "execute_result"
    }
   ],
   "source": [
    "# время обучения и предсказания модели\n",
    "cat_gscv_res = pd.DataFrame(\n",
    "    cat_gscv_result.cv_results_).sort_values(by='rank_test_score')\n",
    "cat_gscv_res"
   ]
  },
  {
   "cell_type": "code",
   "execution_count": 72,
   "metadata": {
    "scrolled": false
   },
   "outputs": [
    {
     "name": "stdout",
     "output_type": "stream",
     "text": [
      "Время обучения модели: 38.04 s\n",
      "Время предсказания модели: 0.22 s\n"
     ]
    }
   ],
   "source": [
    "print('Время обучения модели:', \n",
    "      f'{cat_gscv_res.iloc[0][\"mean_fit_time\"]:.2f} s')\n",
    "print('Время предсказания модели:', \n",
    "      f'{cat_gscv_res.iloc[0][\"mean_score_time\"]:.2f} s')"
   ]
  },
  {
   "cell_type": "markdown",
   "metadata": {},
   "source": [
    "Лучшая модель градиентного бустинга **`CatBoostRegressor`** с `GridSearchCV` имеет значения метрик оценки качества и времени операций:\n",
    "- ***RMSE = 1685***\n",
    "- время обучения модели: ***34.12 s***\n",
    "- время предсказания модели: ***0.20 s***\n",
    "\n",
    "при следующих параметрах:\n",
    "- глубина дерева: `depth` = 8\n",
    "- количество деревьев (итераций): `iterations` = 200\n",
    "- коэффициент скорости обучения (размер шага градиентного спуска): `learning_rate` = 0.15"
   ]
  },
  {
   "cell_type": "markdown",
   "metadata": {},
   "source": [
    "### Вывод\n",
    "<a name=\"56\"></a> <div style=\"text-align: left\">[Cодержание](#Содержание)</div>"
   ]
  },
  {
   "cell_type": "markdown",
   "metadata": {},
   "source": [
    "В разделе [**Обучение моделей**](#5.-Обучение-моделей) нами были обучены модели:\n",
    "- модель случайного леса `RandomForestRegressor` с функцией `GridSearchCV`;\n",
    "- модель градиентного бустинга `LGBMRegressor`;\n",
    "- модель градиентного бустинга `LGBMRegressor` с функцией `GridSearchCV`;\n",
    "- модель градиентного бустинга `CatBoostRegressor`;\n",
    "- модель градиентного бустинга `CatBoostRegressor` с функцией `GridSearchCV`."
   ]
  },
  {
   "cell_type": "markdown",
   "metadata": {},
   "source": [
    "## Анализ моделей\n",
    "<a name=\"6\"></a> <div style=\"text-align: left\">[Cодержание](#Содержание)</div>"
   ]
  },
  {
   "cell_type": "markdown",
   "metadata": {},
   "source": [
    "### Сравнение моделей\n",
    "<a name=\"61\"></a> <div style=\"text-align: left\">[Cодержание](#Содержание)</div>"
   ]
  },
  {
   "cell_type": "markdown",
   "metadata": {},
   "source": [
    "Проанализируем время обучения, время предсказания и качество предсказания моделей. Выведем анализируемые значения в виде таблицы."
   ]
  },
  {
   "cell_type": "code",
   "execution_count": 73,
   "metadata": {},
   "outputs": [
    {
     "name": "stdout",
     "output_type": "stream",
     "text": [
      "RMSE, время обучения и предсказания для разных моделей\n"
     ]
    },
    {
     "data": {
      "text/html": [
       "<div>\n",
       "<style scoped>\n",
       "    .dataframe tbody tr th:only-of-type {\n",
       "        vertical-align: middle;\n",
       "    }\n",
       "\n",
       "    .dataframe tbody tr th {\n",
       "        vertical-align: top;\n",
       "    }\n",
       "\n",
       "    .dataframe thead th {\n",
       "        text-align: right;\n",
       "    }\n",
       "</style>\n",
       "<table border=\"1\" class=\"dataframe\">\n",
       "  <thead>\n",
       "    <tr style=\"text-align: right;\">\n",
       "      <th></th>\n",
       "      <th>model</th>\n",
       "      <th>RMSE</th>\n",
       "      <th>Время обучения, сек</th>\n",
       "      <th>Время предсказания, сек</th>\n",
       "    </tr>\n",
       "  </thead>\n",
       "  <tbody>\n",
       "    <tr>\n",
       "      <th>0</th>\n",
       "      <td>RandomForestRegressor + GridSearchCV</td>\n",
       "      <td>2077</td>\n",
       "      <td>19.49</td>\n",
       "      <td>0.59</td>\n",
       "    </tr>\n",
       "    <tr>\n",
       "      <th>1</th>\n",
       "      <td>LGBMRegressor</td>\n",
       "      <td>1651</td>\n",
       "      <td>17.96</td>\n",
       "      <td>1.11</td>\n",
       "    </tr>\n",
       "    <tr>\n",
       "      <th>2</th>\n",
       "      <td>LGBMRegressor + GridSearchCV</td>\n",
       "      <td>1641</td>\n",
       "      <td>98.14</td>\n",
       "      <td>1.24</td>\n",
       "    </tr>\n",
       "    <tr>\n",
       "      <th>3</th>\n",
       "      <td>CatBoostRegressor</td>\n",
       "      <td>1653</td>\n",
       "      <td>72.89</td>\n",
       "      <td>0.20</td>\n",
       "    </tr>\n",
       "    <tr>\n",
       "      <th>4</th>\n",
       "      <td>CatBoostRegressor + GridSearchCV</td>\n",
       "      <td>1687</td>\n",
       "      <td>38.04</td>\n",
       "      <td>0.22</td>\n",
       "    </tr>\n",
       "  </tbody>\n",
       "</table>\n",
       "</div>"
      ],
      "text/plain": [
       "                                  model  RMSE Время обучения, сек  \\\n",
       "0  RandomForestRegressor + GridSearchCV  2077               19.49   \n",
       "1                         LGBMRegressor  1651               17.96   \n",
       "2          LGBMRegressor + GridSearchCV  1641               98.14   \n",
       "3                     CatBoostRegressor  1653               72.89   \n",
       "4      CatBoostRegressor + GridSearchCV  1687               38.04   \n",
       "\n",
       "  Время предсказания, сек  \n",
       "0                    0.59  \n",
       "1                    1.11  \n",
       "2                    1.24  \n",
       "3                    0.20  \n",
       "4                    0.22  "
      ]
     },
     "execution_count": 73,
     "metadata": {},
     "output_type": "execute_result"
    }
   ],
   "source": [
    "table = pd.DataFrame([\n",
    "    ['RandomForestRegressor + GridSearchCV', f'{abs(rf_gscv_result.best_score_):.0f}',\n",
    "     f'{rf_gscv_res.iloc[0][\"mean_fit_time\"]:.2f}', \n",
    "     f'{rf_gscv_res.iloc[0][\"mean_score_time\"]:.2f}'],\n",
    "    ['LGBMRegressor', f'{rmse_lgbm:.0f}', f'{fit_time_lgbm:.2f}',\n",
    "     f'{predict_time_lgbm:.2f}'],\n",
    "    ['LGBMRegressor + GridSearchCV', f'{abs(lgbm_gscv_result.best_score_):.0f}',\n",
    "     f'{lgbm_gscv_res.iloc[0][\"mean_fit_time\"]:.2f}', \n",
    "     f'{lgbm_gscv_res.iloc[0][\"mean_score_time\"]:.2f}'],\n",
    "    ['CatBoostRegressor', f'{rmse_cat:.0f}', f'{fit_time_cat:.2f}',\n",
    "     f'{predict_time_cat:.2f}'],\n",
    "    ['CatBoostRegressor + GridSearchCV', f'{abs(cat_gscv_result.best_score_):.0f}',\n",
    "     f'{cat_gscv_res.iloc[0][\"mean_fit_time\"]:.2f}', \n",
    "     f'{cat_gscv_res.iloc[0][\"mean_score_time\"]:.2f}']\n",
    "],\n",
    "columns=['model', 'RMSE', 'Время обучения, сек', 'Время предсказания, сек'])\n",
    "\n",
    "print('RMSE, время обучения и предсказания для разных моделей')\n",
    "table"
   ]
  },
  {
   "cell_type": "markdown",
   "metadata": {},
   "source": [
    "### Тестирование лучшей модели\n",
    "<a name=\"62\"></a> <div style=\"text-align: left\">[Cодержание](#Содержание)</div>"
   ]
  },
  {
   "cell_type": "markdown",
   "metadata": {},
   "source": [
    "Опираясь на критерии заказчика, выберем лучшую модель и проверим её качество на тестовой выборке.\n",
    "\n",
    "В качестве лучшей выберем модель **градиентного бустинга `LGBMRegressor`** с `GridSearchCV`, т.к. у неё при наименьшем времени обучения и предсказания, достигнута максимальная точность, что и требуется заказчику.\n",
    "\n",
    "Проверим качество модели на тестовой выборке."
   ]
  },
  {
   "cell_type": "code",
   "execution_count": 74,
   "metadata": {
    "scrolled": true
   },
   "outputs": [
    {
     "name": "stdout",
     "output_type": "stream",
     "text": [
      "RMSE модели LightGBM: 1638\n"
     ]
    }
   ],
   "source": [
    "# получим предсказания\n",
    "predictions = lgbm_gscv_result.best_estimator_.predict(features_test_encoded_scaled)\n",
    "\n",
    "# получим метрику RMSE\n",
    "rmse_lgbm_test = mean_squared_error(target_test, \n",
    "                                    predictions, \n",
    "                                    # параметр squared=False возвращает RMSE\n",
    "                                    squared=False) \n",
    "\n",
    "print('RMSE модели LightGBM:', f'{rmse_lgbm_test:.0f}')"
   ]
  },
  {
   "cell_type": "markdown",
   "metadata": {},
   "source": [
    "Лучшая модель градиентного бустинга **`LGBMRegressor`** с `GridSearchCV` на тестовой выборке имеет значение метрики оценки качества ***RMSE = 1643***. В целом, качество не ухудшилось."
   ]
  },
  {
   "cell_type": "markdown",
   "metadata": {},
   "source": [
    "### Итоговое сравнение моделей\n",
    "<a name=\"63\"></a> <div style=\"text-align: left\">[Cодержание](#Содержание)</div>"
   ]
  },
  {
   "cell_type": "markdown",
   "metadata": {},
   "source": [
    "Добавим в таблицу *RMSE*, полученную на тестовой выборке."
   ]
  },
  {
   "cell_type": "code",
   "execution_count": 75,
   "metadata": {},
   "outputs": [
    {
     "name": "stdout",
     "output_type": "stream",
     "text": [
      "RMSE, время обучения и предсказания для разных моделей\n"
     ]
    },
    {
     "data": {
      "text/html": [
       "<div>\n",
       "<style scoped>\n",
       "    .dataframe tbody tr th:only-of-type {\n",
       "        vertical-align: middle;\n",
       "    }\n",
       "\n",
       "    .dataframe tbody tr th {\n",
       "        vertical-align: top;\n",
       "    }\n",
       "\n",
       "    .dataframe thead th {\n",
       "        text-align: right;\n",
       "    }\n",
       "</style>\n",
       "<table border=\"1\" class=\"dataframe\">\n",
       "  <thead>\n",
       "    <tr style=\"text-align: right;\">\n",
       "      <th></th>\n",
       "      <th>model</th>\n",
       "      <th>RMSE</th>\n",
       "      <th>Время обучения, сек</th>\n",
       "      <th>Время предсказания, сек</th>\n",
       "    </tr>\n",
       "  </thead>\n",
       "  <tbody>\n",
       "    <tr>\n",
       "      <th>0</th>\n",
       "      <td>RandomForestRegressor + GridSearchCV</td>\n",
       "      <td>2077</td>\n",
       "      <td>19.49</td>\n",
       "      <td>0.59</td>\n",
       "    </tr>\n",
       "    <tr>\n",
       "      <th>1</th>\n",
       "      <td>LGBMRegressor</td>\n",
       "      <td>1651</td>\n",
       "      <td>17.96</td>\n",
       "      <td>1.11</td>\n",
       "    </tr>\n",
       "    <tr>\n",
       "      <th>2</th>\n",
       "      <td>LGBMRegressor + GridSearchCV</td>\n",
       "      <td>1641</td>\n",
       "      <td>98.14</td>\n",
       "      <td>1.24</td>\n",
       "    </tr>\n",
       "    <tr>\n",
       "      <th>3</th>\n",
       "      <td>CatBoostRegressor</td>\n",
       "      <td>1653</td>\n",
       "      <td>72.89</td>\n",
       "      <td>0.20</td>\n",
       "    </tr>\n",
       "    <tr>\n",
       "      <th>4</th>\n",
       "      <td>CatBoostRegressor + GridSearchCV</td>\n",
       "      <td>1687</td>\n",
       "      <td>38.04</td>\n",
       "      <td>0.22</td>\n",
       "    </tr>\n",
       "    <tr>\n",
       "      <th>5</th>\n",
       "      <td>LGBMRegressor + GridSearchCV test</td>\n",
       "      <td>1638</td>\n",
       "      <td>-</td>\n",
       "      <td>-</td>\n",
       "    </tr>\n",
       "  </tbody>\n",
       "</table>\n",
       "</div>"
      ],
      "text/plain": [
       "                                  model  RMSE Время обучения, сек  \\\n",
       "0  RandomForestRegressor + GridSearchCV  2077               19.49   \n",
       "1                         LGBMRegressor  1651               17.96   \n",
       "2          LGBMRegressor + GridSearchCV  1641               98.14   \n",
       "3                     CatBoostRegressor  1653               72.89   \n",
       "4      CatBoostRegressor + GridSearchCV  1687               38.04   \n",
       "5     LGBMRegressor + GridSearchCV test  1638                   -   \n",
       "\n",
       "  Время предсказания, сек  \n",
       "0                    0.59  \n",
       "1                    1.11  \n",
       "2                    1.24  \n",
       "3                    0.20  \n",
       "4                    0.22  \n",
       "5                       -  "
      ]
     },
     "execution_count": 75,
     "metadata": {},
     "output_type": "execute_result"
    }
   ],
   "source": [
    "table = pd.DataFrame([\n",
    "    ['RandomForestRegressor + GridSearchCV', f'{abs(rf_gscv_result.best_score_):.0f}',\n",
    "     f'{rf_gscv_res.iloc[0][\"mean_fit_time\"]:.2f}', \n",
    "     f'{rf_gscv_res.iloc[0][\"mean_score_time\"]:.2f}'],\n",
    "    ['LGBMRegressor', f'{rmse_lgbm:.0f}', f'{fit_time_lgbm:.2f}',\n",
    "     f'{predict_time_lgbm:.2f}'],\n",
    "    ['LGBMRegressor + GridSearchCV', f'{abs(lgbm_gscv_result.best_score_):.0f}',\n",
    "     f'{lgbm_gscv_res.iloc[0][\"mean_fit_time\"]:.2f}', \n",
    "     f'{lgbm_gscv_res.iloc[0][\"mean_score_time\"]:.2f}'],\n",
    "    ['CatBoostRegressor', f'{rmse_cat:.0f}', f'{fit_time_cat:.2f}',\n",
    "     f'{predict_time_cat:.2f}'],\n",
    "    ['CatBoostRegressor + GridSearchCV', f'{abs(cat_gscv_result.best_score_):.0f}',\n",
    "     f'{cat_gscv_res.iloc[0][\"mean_fit_time\"]:.2f}', \n",
    "     f'{cat_gscv_res.iloc[0][\"mean_score_time\"]:.2f}'],\n",
    "    ['LGBMRegressor + GridSearchCV test', f'{rmse_lgbm_test:.0f}', '-', '-']\n",
    "],\n",
    "columns=['model', 'RMSE', 'Время обучения, сек', 'Время предсказания, сек'])\n",
    "\n",
    "print('RMSE, время обучения и предсказания для разных моделей')\n",
    "table"
   ]
  },
  {
   "cell_type": "markdown",
   "metadata": {},
   "source": [
    "Во всех моделях значение метрики *RMSE* < *2500*, что соответствует изначальному требованию в условии задачи проекта."
   ]
  },
  {
   "cell_type": "markdown",
   "metadata": {},
   "source": [
    "### Вывод\n",
    "<a name=\"64\"></a> <div style=\"text-align: left\">[Cодержание](#Содержание)</div>"
   ]
  },
  {
   "cell_type": "markdown",
   "metadata": {},
   "source": [
    "В разделе [**Анализ моделей**](#6.-Анализ-моделей) были выполнены следующие задачи:\n",
    "1. для сравнения моделей выведена таблица сравнения их метрик;\n",
    "2. проанализированы время обучения, время предсказания и качество моделей;\n",
    "3. опираясь на критерии заказчика, выбрана лучшая модель и затем её качество проверено на тестовой выборке.\n",
    "\n",
    "\n",
    "В результате выполнения задач этого раздела было выявлено следующее:\n",
    "1. Лучшая модель градиентного бустинга **`LGBMRegressor`** с `GridSearchCV` на тестовой выборке имеет значение метрики оценки качества ***RMSE = 1643***.\n",
    "2. Во всех моделях значение метрики *RMSE* < *2500*, что соответствует изначальному требованию в условии задачи проекта."
   ]
  },
  {
   "cell_type": "markdown",
   "metadata": {},
   "source": [
    "## Общий вывод\n",
    "<a name=\"7\"></a> <div style=\"text-align: left\">[Cодержание](#Содержание)</div>"
   ]
  },
  {
   "cell_type": "markdown",
   "metadata": {},
   "source": [
    "Нами было проведено исследование, с целью построения модели машинного обучения, которая поможет определить рыночную стоимость автомобиля.\n",
    "\n",
    "Входными данными были исторические данные - технические характеристики, комплектации и цены автомобилей.\n",
    "\n",
    "В разделе [**исследования данных**](#Исследование-данных) была получена и изучена общая информация о датасете. Удалены явные дубликаты, неинформативные признаки, обработаны аномалии и пропуска. Проведено исследование данных после первичной и итоговой предобработки.\n",
    "\n",
    "В результате выполнения задач этого раздела было выявлено следующее:\n",
    "\n",
    "- Наблюдаются корреляции - незначительная прямая между признаками RegistrationYear, Power и Price, а также обратная между признаками Kilometer и Price, что логично, поскольку чем новее автомобиль и больше мощность, тем выше цена. И наоборот, чем больше пробег, тем ниже цена.\n",
    "- Распределения значений признаков стали более правдоподобными.\n",
    "\n",
    "В разделе [**подготовки данных к обучению**](#Подготовка-данных-к-обучению) данные были разделены на выборки, выполнено кодирование категориальных признаков техникой порядкового кодирования *Ordinal Encoding*, а также для разных моделей выполнено масштабирование численных признаков.\n",
    "\n",
    "В разделе [**обучения моделей**](#5.-Обучение-моделей) были обучены модели:\n",
    "- модель случайного леса `RandomForestRegressor` с функцией `GridSearchCV`;\n",
    "- модель градиентного бустинга `LGBMRegressor`;\n",
    "- модель градиентного бустинга `LGBMRegressor` с функцией `GridSearchCV`;\n",
    "- модель градиентного бустинга `CatBoostRegressor`;\n",
    "- модель градиентного бустинга `CatBoostRegressor` с функцией `GridSearchCV`.\n",
    "\n",
    "В разделе [**анализа моделей**](#6.-Анализ-моделей), была создана и выведена на экран сравнительная таблица метрик моделей. Проанализированы время обучения, время предсказания и качество моделей. Затем, опираясь на критерии заказчика, выбрана лучшая модель и её качество было проверено на тестовой выборке.\n",
    "\n",
    "В результате выполнения задач этого раздела было выявлено следующее:\n",
    "- Лучшая модель градиентного бустинга **`LGBMRegressor`** с `GridSearchCV` на тестовой выборке имеет значение метрики оценки качества ***RMSE = 1643***.\n",
    "- Во всех моделях значение метрики *RMSE* < *2500*, что соответствует изначальному требованию в условии задачи.\n",
    "\n",
    "______________________ ______________________ ______________________\n",
    "В ходе исследования удалось получить следующие результаты **на обучающей выборке**:\n",
    "\n",
    "1. Лучшая модель случайного леса **`RandomForestRegressor`** с `GridSearchCV` имеет значения метрик оценки качества и времени операций:\n",
    "    - ***RMSE = 2077***\n",
    "    - время обучения модели: ***18.81 s***\n",
    "    - время предсказания модели: ***0.57 s***\n",
    "\n",
    " при следующих параметрах:\n",
    "    - глубина дерева: `max_depth` = 8\n",
    "    - количество деревьев (итераций): `n_estimators` = 100\n",
    "    \n",
    "\n",
    "2. Модель градиентного бустинга **`LGBMRegressor`** имеет значения метрик оценки качества и времени операций:\n",
    "    - ***RMSE = 1654***\n",
    "    - время обучения модели: ***642.13 s***\n",
    "    - время предсказания модели: ***1.40 s***\n",
    "\n",
    " при следующих параметрах:\n",
    "    - глубина дерева: `max_depth` = 10\n",
    "    - количество деревьев (итераций): `n_estimators` = 300\n",
    "    - коэффициент скорости обучения (размер шага градиентного спуска): `learning_rate` = 0.15\n",
    "\n",
    "   \n",
    "3. Лучшая модель градиентного бустинга **`LGBMRegressor`** с `GridSearchCV` имеет значения метрик оценки качества и времени операций:\n",
    "    - ***RMSE = 1641***\n",
    "    - время обучения модели: ***14.55 s***\n",
    "    - время предсказания модели: ***1.21 s***\n",
    "\n",
    " при следующих параметрах:\n",
    "    - глубина дерева: `max_depth` = 8\n",
    "    - количество деревьев (итераций): `n_estimators` = 400\n",
    "    - коэффициент скорости обучения (размер шага градиентного спуска): `learning_rate` = 0.15\n",
    "\n",
    "\n",
    "4. Модель градиентного бустинга **`CatBoostRegressor`** имеет значения метрик оценки качества и времени операций:\n",
    "    - ***RMSE = 1655***\n",
    "    - время обучения модели: ***69.71 s***\n",
    "    - время предсказания модели: ***0.21 s***\n",
    "\n",
    " при следующих параметрах:\n",
    "    - глубина дерева: `depth` = 10\n",
    "    - количество деревьев (итераций): `iterations` = 200\n",
    "    - коэффициент скорости обучения (размер шага градиентного спуска): `learning_rate` = 0.15\n",
    "   \n",
    "   \n",
    "5. Лучшая модель градиентного бустинга **`CatBoostRegressor`** с `GridSearchCV` имеет значения метрик оценки качества и времени операций:\n",
    "    - ***RMSE = 1685***\n",
    "    - время обучения модели: ***31.12 s***\n",
    "    - время предсказания модели: ***0.20 s***\n",
    "\n",
    " при следующих параметрах:\n",
    "    - глубина дерева: `depth` = 8\n",
    "    - количество деревьев (итераций): `iterations` = 200\n",
    "    - коэффициент скорости обучения (размер шага градиентного спуска): `learning_rate` = 0.15\n",
    "\n",
    "\n",
    "Исходя из полученных результатов, можно сделать следующие **выводы**:\n",
    "\n",
    "1. Лучшей является модель градиентного бустинга **`LGBMRegressor`** с `GridSearchCV`. Здесь достигнута максимальная точность за минимальное время обучения и предсказания, что и требуется заказчику. Значение метрики оценки качества **на тестовой выборке** ***RMSE = 1643***.\n",
    "\n",
    "   \n",
    "2. Во всех моделях значение метрики *RMSE* на тестовой выборке не превышает целевой показатель *2500*, что соответствует изначальному требованию в условии задачи проекта.\n",
    "   \n",
    "   \n",
    "**Общие рекомендации:**\n",
    "\n",
    "Специалистам сервиса по продаже автомобилей можно рекомендовать использовать полученную модель **`LGBMRegressor`** с `GridSearchCV`.\n",
    "\n",
    "Результаты исследования позволят сервису по продаже автомобилей разработать приложение для привлечения новых клиентов.\n",
    " ______________________ ______________________ ______________________\n",
    " \n",
    "На этом мы заканчиваем. Благодарим вас за внимание, надеемся, что наше исследование вам понравилось и поможет сделать правильные выводы, принять правильные решения."
   ]
  }
 ],
 "metadata": {
  "ExecuteTimeLog": [
   {
    "duration": 1819,
    "start_time": "2023-07-18T15:26:02.870Z"
   },
   {
    "duration": 1157,
    "start_time": "2023-07-18T15:26:04.693Z"
   },
   {
    "duration": 16,
    "start_time": "2023-07-18T15:26:05.852Z"
   },
   {
    "duration": 31,
    "start_time": "2023-07-18T15:26:05.870Z"
   },
   {
    "duration": 167,
    "start_time": "2023-07-18T15:26:05.903Z"
   },
   {
    "duration": 1243,
    "start_time": "2023-07-18T15:26:06.071Z"
   },
   {
    "duration": 41,
    "start_time": "2023-07-18T15:26:07.316Z"
   },
   {
    "duration": 113,
    "start_time": "2023-07-18T15:26:07.358Z"
   },
   {
    "duration": 69,
    "start_time": "2023-07-18T15:26:07.473Z"
   },
   {
    "duration": 765,
    "start_time": "2023-07-18T15:26:07.544Z"
   },
   {
    "duration": 526,
    "start_time": "2023-07-18T15:26:08.312Z"
   },
   {
    "duration": 487,
    "start_time": "2023-07-18T15:26:08.840Z"
   },
   {
    "duration": 372,
    "start_time": "2023-07-18T15:26:09.329Z"
   },
   {
    "duration": 455,
    "start_time": "2023-07-18T15:26:09.703Z"
   },
   {
    "duration": 449,
    "start_time": "2023-07-18T15:26:10.159Z"
   },
   {
    "duration": 500,
    "start_time": "2023-07-18T15:26:10.610Z"
   },
   {
    "duration": 406,
    "start_time": "2023-07-18T15:26:11.112Z"
   },
   {
    "duration": 472,
    "start_time": "2023-07-18T15:26:11.520Z"
   },
   {
    "duration": 33,
    "start_time": "2023-07-18T15:26:11.999Z"
   },
   {
    "duration": 422,
    "start_time": "2023-07-18T15:26:12.033Z"
   },
   {
    "duration": 74,
    "start_time": "2023-07-18T15:26:12.457Z"
   },
   {
    "duration": 59,
    "start_time": "2023-07-18T15:26:12.533Z"
   },
   {
    "duration": 873,
    "start_time": "2023-07-18T15:26:12.594Z"
   },
   {
    "duration": 54,
    "start_time": "2023-07-18T15:26:13.469Z"
   },
   {
    "duration": 65,
    "start_time": "2023-07-18T15:26:13.525Z"
   },
   {
    "duration": 106,
    "start_time": "2023-07-18T15:26:13.594Z"
   },
   {
    "duration": 10,
    "start_time": "2023-07-18T15:26:13.701Z"
   },
   {
    "duration": 122,
    "start_time": "2023-07-18T15:26:13.714Z"
   },
   {
    "duration": 55,
    "start_time": "2023-07-18T15:26:13.838Z"
   },
   {
    "duration": 60,
    "start_time": "2023-07-18T15:26:13.899Z"
   },
   {
    "duration": 101,
    "start_time": "2023-07-18T15:26:13.961Z"
   },
   {
    "duration": 55,
    "start_time": "2023-07-18T15:26:14.064Z"
   },
   {
    "duration": 36,
    "start_time": "2023-07-18T15:26:14.120Z"
   },
   {
    "duration": 64,
    "start_time": "2023-07-18T15:26:14.158Z"
   },
   {
    "duration": 26,
    "start_time": "2023-07-18T15:26:14.224Z"
   },
   {
    "duration": 54,
    "start_time": "2023-07-18T15:26:14.252Z"
   },
   {
    "duration": 30,
    "start_time": "2023-07-18T15:26:14.307Z"
   },
   {
    "duration": 92,
    "start_time": "2023-07-18T15:26:14.339Z"
   },
   {
    "duration": 93,
    "start_time": "2023-07-18T15:26:14.433Z"
   },
   {
    "duration": 100,
    "start_time": "2023-07-18T15:26:14.529Z"
   },
   {
    "duration": 144,
    "start_time": "2023-07-18T15:26:14.631Z"
   },
   {
    "duration": 51,
    "start_time": "2023-07-18T15:26:14.778Z"
   },
   {
    "duration": 70,
    "start_time": "2023-07-18T15:26:14.831Z"
   },
   {
    "duration": 93,
    "start_time": "2023-07-18T15:26:14.902Z"
   },
   {
    "duration": 1189,
    "start_time": "2023-07-18T15:26:14.997Z"
   },
   {
    "duration": 52,
    "start_time": "2023-07-18T15:26:16.188Z"
   },
   {
    "duration": 613,
    "start_time": "2023-07-18T15:26:16.241Z"
   },
   {
    "duration": 20,
    "start_time": "2023-07-18T15:26:16.856Z"
   },
   {
    "duration": 60,
    "start_time": "2023-07-18T15:26:16.877Z"
   },
   {
    "duration": 67,
    "start_time": "2023-07-18T15:26:16.939Z"
   },
   {
    "duration": 32,
    "start_time": "2023-07-18T15:26:17.008Z"
   },
   {
    "duration": 73,
    "start_time": "2023-07-18T15:26:17.041Z"
   },
   {
    "duration": 3,
    "start_time": "2023-07-18T15:26:17.115Z"
   },
   {
    "duration": 1031,
    "start_time": "2023-07-18T15:26:17.120Z"
   },
   {
    "duration": 4,
    "start_time": "2023-07-18T15:26:18.153Z"
   },
   {
    "duration": 906,
    "start_time": "2023-07-18T15:26:18.176Z"
   },
   {
    "duration": 19,
    "start_time": "2023-07-18T15:26:19.084Z"
   },
   {
    "duration": 77,
    "start_time": "2023-07-18T15:26:19.105Z"
   },
   {
    "duration": 4,
    "start_time": "2023-07-18T15:26:19.184Z"
   },
   {
    "duration": 510,
    "start_time": "2023-07-18T15:26:19.190Z"
   },
   {
    "duration": 3,
    "start_time": "2023-07-18T15:26:19.702Z"
   },
   {
    "duration": 186837,
    "start_time": "2023-07-18T15:26:19.707Z"
   },
   {
    "duration": 30,
    "start_time": "2023-07-18T15:29:26.547Z"
   },
   {
    "duration": 56,
    "start_time": "2023-07-18T15:29:26.580Z"
   },
   {
    "duration": 643563,
    "start_time": "2023-07-18T15:29:26.638Z"
   },
   {
    "duration": 453780,
    "start_time": "2023-07-18T15:40:10.203Z"
   },
   {
    "duration": 21,
    "start_time": "2023-07-18T15:47:43.985Z"
   },
   {
    "duration": 18,
    "start_time": "2023-07-18T15:47:44.008Z"
   },
   {
    "duration": 69957,
    "start_time": "2023-07-18T15:47:44.028Z"
   },
   {
    "duration": 269173,
    "start_time": "2023-07-18T15:48:53.987Z"
   },
   {
    "duration": 21,
    "start_time": "2023-07-18T15:53:23.162Z"
   },
   {
    "duration": 23,
    "start_time": "2023-07-18T15:53:23.184Z"
   },
   {
    "duration": 16,
    "start_time": "2023-07-18T15:53:23.209Z"
   },
   {
    "duration": 1469,
    "start_time": "2023-07-18T15:53:23.227Z"
   },
   {
    "duration": 13,
    "start_time": "2023-07-18T15:53:24.698Z"
   },
   {
    "duration": 2146,
    "start_time": "2023-07-19T08:45:38.102Z"
   },
   {
    "duration": 1505,
    "start_time": "2023-07-19T08:45:40.251Z"
   },
   {
    "duration": 18,
    "start_time": "2023-07-19T08:45:41.758Z"
   },
   {
    "duration": 19,
    "start_time": "2023-07-19T08:45:41.778Z"
   },
   {
    "duration": 126,
    "start_time": "2023-07-19T08:45:41.799Z"
   },
   {
    "duration": 1043,
    "start_time": "2023-07-19T08:45:41.926Z"
   },
   {
    "duration": 47,
    "start_time": "2023-07-19T08:45:42.971Z"
   },
   {
    "duration": 91,
    "start_time": "2023-07-19T08:45:43.020Z"
   },
   {
    "duration": 109,
    "start_time": "2023-07-19T08:45:43.113Z"
   },
   {
    "duration": 781,
    "start_time": "2023-07-19T08:45:43.224Z"
   },
   {
    "duration": 518,
    "start_time": "2023-07-19T08:45:44.007Z"
   },
   {
    "duration": 467,
    "start_time": "2023-07-19T08:45:44.527Z"
   },
   {
    "duration": 437,
    "start_time": "2023-07-19T08:45:44.995Z"
   },
   {
    "duration": 482,
    "start_time": "2023-07-19T08:45:45.434Z"
   },
   {
    "duration": 500,
    "start_time": "2023-07-19T08:45:45.919Z"
   },
   {
    "duration": 507,
    "start_time": "2023-07-19T08:45:46.421Z"
   },
   {
    "duration": 348,
    "start_time": "2023-07-19T08:45:46.930Z"
   },
   {
    "duration": 421,
    "start_time": "2023-07-19T08:45:47.280Z"
   },
   {
    "duration": 36,
    "start_time": "2023-07-19T08:45:47.703Z"
   },
   {
    "duration": 424,
    "start_time": "2023-07-19T08:45:47.753Z"
   },
   {
    "duration": 86,
    "start_time": "2023-07-19T08:45:48.180Z"
   },
   {
    "duration": 54,
    "start_time": "2023-07-19T08:45:48.268Z"
   },
   {
    "duration": 992,
    "start_time": "2023-07-19T08:45:48.324Z"
   },
   {
    "duration": 49,
    "start_time": "2023-07-19T08:45:49.317Z"
   },
   {
    "duration": 106,
    "start_time": "2023-07-19T08:45:49.368Z"
   },
   {
    "duration": 108,
    "start_time": "2023-07-19T08:45:49.475Z"
   },
   {
    "duration": 10,
    "start_time": "2023-07-19T08:45:49.585Z"
   },
   {
    "duration": 119,
    "start_time": "2023-07-19T08:45:49.599Z"
   },
   {
    "duration": 51,
    "start_time": "2023-07-19T08:45:49.719Z"
   },
   {
    "duration": 64,
    "start_time": "2023-07-19T08:45:49.772Z"
   },
   {
    "duration": 73,
    "start_time": "2023-07-19T08:45:49.838Z"
   },
   {
    "duration": 51,
    "start_time": "2023-07-19T08:45:49.912Z"
   },
   {
    "duration": 73,
    "start_time": "2023-07-19T08:45:49.965Z"
   },
   {
    "duration": 43,
    "start_time": "2023-07-19T08:45:50.040Z"
   },
   {
    "duration": 29,
    "start_time": "2023-07-19T08:45:50.084Z"
   },
   {
    "duration": 45,
    "start_time": "2023-07-19T08:45:50.115Z"
   },
   {
    "duration": 52,
    "start_time": "2023-07-19T08:45:50.162Z"
   },
   {
    "duration": 91,
    "start_time": "2023-07-19T08:45:50.216Z"
   },
   {
    "duration": 75,
    "start_time": "2023-07-19T08:45:50.308Z"
   },
   {
    "duration": 79,
    "start_time": "2023-07-19T08:45:50.384Z"
   },
   {
    "duration": 172,
    "start_time": "2023-07-19T08:45:50.465Z"
   },
   {
    "duration": 55,
    "start_time": "2023-07-19T08:45:50.639Z"
   },
   {
    "duration": 62,
    "start_time": "2023-07-19T08:45:50.696Z"
   },
   {
    "duration": 103,
    "start_time": "2023-07-19T08:45:50.759Z"
   },
   {
    "duration": 1154,
    "start_time": "2023-07-19T08:45:50.864Z"
   },
   {
    "duration": 57,
    "start_time": "2023-07-19T08:45:52.020Z"
   },
   {
    "duration": 615,
    "start_time": "2023-07-19T08:45:52.079Z"
   },
   {
    "duration": 15,
    "start_time": "2023-07-19T08:45:52.696Z"
   },
   {
    "duration": 90,
    "start_time": "2023-07-19T08:45:52.714Z"
   },
   {
    "duration": 81,
    "start_time": "2023-07-19T08:45:52.806Z"
   },
   {
    "duration": 38,
    "start_time": "2023-07-19T08:45:52.889Z"
   },
   {
    "duration": 81,
    "start_time": "2023-07-19T08:45:52.929Z"
   },
   {
    "duration": 26,
    "start_time": "2023-07-19T08:45:53.012Z"
   },
   {
    "duration": 1177,
    "start_time": "2023-07-19T08:45:53.041Z"
   },
   {
    "duration": 4,
    "start_time": "2023-07-19T08:45:54.220Z"
   },
   {
    "duration": 944,
    "start_time": "2023-07-19T08:45:54.226Z"
   },
   {
    "duration": 17,
    "start_time": "2023-07-19T08:45:55.172Z"
   },
   {
    "duration": 65,
    "start_time": "2023-07-19T08:45:55.190Z"
   },
   {
    "duration": 4,
    "start_time": "2023-07-19T08:45:55.256Z"
   },
   {
    "duration": 554,
    "start_time": "2023-07-19T08:45:55.261Z"
   },
   {
    "duration": 3,
    "start_time": "2023-07-19T08:45:55.817Z"
   },
   {
    "duration": 195353,
    "start_time": "2023-07-19T08:45:55.821Z"
   },
   {
    "duration": 18,
    "start_time": "2023-07-19T08:49:11.176Z"
   },
   {
    "duration": 116,
    "start_time": "2023-07-19T08:49:11.196Z"
   },
   {
    "duration": 19240,
    "start_time": "2023-07-19T08:49:11.314Z"
   },
   {
    "duration": 1297219,
    "start_time": "2023-07-19T08:49:30.556Z"
   },
   {
    "duration": 82,
    "start_time": "2023-07-19T09:11:07.777Z"
   },
   {
    "duration": 12,
    "start_time": "2023-07-19T09:11:07.869Z"
   },
   {
    "duration": 73105,
    "start_time": "2023-07-19T09:11:07.883Z"
   },
   {
    "duration": 294833,
    "start_time": "2023-07-19T09:12:20.990Z"
   },
   {
    "duration": 39,
    "start_time": "2023-07-19T09:17:15.825Z"
   },
   {
    "duration": 7,
    "start_time": "2023-07-19T09:17:15.866Z"
   },
   {
    "duration": 28,
    "start_time": "2023-07-19T09:17:15.875Z"
   },
   {
    "duration": 1477,
    "start_time": "2023-07-19T09:17:15.906Z"
   },
   {
    "duration": 69,
    "start_time": "2023-07-19T09:17:17.385Z"
   }
  ],
  "kernelspec": {
   "display_name": "Python 3 (ipykernel)",
   "language": "python",
   "name": "python3"
  },
  "language_info": {
   "codemirror_mode": {
    "name": "ipython",
    "version": 3
   },
   "file_extension": ".py",
   "mimetype": "text/x-python",
   "name": "python",
   "nbconvert_exporter": "python",
   "pygments_lexer": "ipython3",
   "version": "3.9.13"
  },
  "toc": {
   "base_numbering": 1,
   "nav_menu": {},
   "number_sections": true,
   "sideBar": true,
   "skip_h1_title": true,
   "title_cell": "Table of Contents",
   "title_sidebar": "Contents",
   "toc_cell": false,
   "toc_position": {},
   "toc_section_display": true,
   "toc_window_display": false
  }
 },
 "nbformat": 4,
 "nbformat_minor": 2
}
