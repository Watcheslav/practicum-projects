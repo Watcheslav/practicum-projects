{
 "cells": [
  {
   "cell_type": "markdown",
   "id": "e99a46eb",
   "metadata": {},
   "source": [
    "# Поведение пользователей сервиса \"Яндекс.Музыка\" в больших городах\n",
    "\n",
    "<h2> <a class=\"tocSkip\"> </h2>"
   ]
  },
  {
   "cell_type": "markdown",
   "id": "c2c27da2",
   "metadata": {},
   "source": [
    "<a name=\"1\"></a>\n",
    "## Содержание"
   ]
  },
  {
   "cell_type": "markdown",
   "id": "73214a7a",
   "metadata": {},
   "source": [
    "[1. Содержание](#1)\n",
    "\n",
    "[2. Описание проекта](#2)\n",
    "\n",
    "*    [2.1. Цель проекта](#21)\n",
    "*    [2.2. Задачи проекта](#22)\n",
    "*    [2.3. Описание данных](#23)\n",
    "*    [2.4. План работы](#24)\n",
    "\n",
    "[3. Изучение данных](#3)\n",
    "\n",
    "*    [3.1. Общая информация](#31)\n",
    "*    [3.2. Вывод](#32)\n",
    "\n",
    "[4. Предобработка данных](#4)\n",
    "\n",
    "*    [4.1. Стиль заголовков](#41)\n",
    "*    [4.2. Пропуски значений](#42)\n",
    "*    [4.3. Дубликаты](#43)\n",
    "*    [4.4. Вывод](#44)\n",
    "\n",
    "[5. Проверка гипотез](#5)\n",
    "\n",
    "*    [5.1. Сравнение поведения пользователей двух столиц](#51)\n",
    "*    [5.2. Музыка в начале и в конце недели](#52)\n",
    "*    [5.3. Жанровые предпочтения в Москве и Санкт-Петербурге](#53)\n",
    "*    [5.4. Вывод](#54)\n",
    "\n",
    "[6. Общий вывод](#6)"
   ]
  },
  {
   "cell_type": "markdown",
   "id": "952470ab",
   "metadata": {},
   "source": [
    "## Описание проекта\n",
    "<a name=\"2\"></a> <div style=\"text-align: left\">[Cодержание](#Содержание)</div>"
   ]
  },
  {
   "cell_type": "markdown",
   "id": "2efe5322",
   "metadata": {},
   "source": [
    "Сравнение Москвы и Санкт-Петербурга окружено мифами. Например:\n",
    " * Москва — мегаполис, подчинённый жёсткому ритму рабочей недели;\n",
    " * Санкт-Петербург — культурная столица, со своими вкусами.\n",
    "\n",
    "На данных Яндек.Музыки нам нужно сравнить поведение пользователей двух столиц."
   ]
  },
  {
   "cell_type": "markdown",
   "id": "d625f60d",
   "metadata": {},
   "source": [
    "### Цель проекта\n",
    "<a name=\"21\"></a> <div style=\"text-align: left\">[Cодержание](#Содержание)</div>"
   ]
  },
  {
   "cell_type": "markdown",
   "id": "415a80ee",
   "metadata": {},
   "source": [
    "Провести исследование с целью сравнить поведение пользователей Яндек.Музыки двух столиц."
   ]
  },
  {
   "cell_type": "markdown",
   "id": "0b32c269",
   "metadata": {},
   "source": [
    "### Задачи проекта\n",
    "<a name=\"22\"></a> <div style=\"text-align: left\">[Cодержание](#Содержание)</div>"
   ]
  },
  {
   "cell_type": "markdown",
   "id": "50d4dc64",
   "metadata": {},
   "source": [
    "О качестве данных ничего не известно. Поэтому перед проверкой гипотез понадобится обзор данных. \n",
    "\n",
    "Мы проверим данные на ошибки и оценим их влияние на исследование. Затем, на этапе предобработки мы поищем возможность исправить самые критичные ошибки данных.\n",
    " \n",
    "Таким образом, в ходе исследования необходимо выполнить следующие задачи:\n",
    "1. Изучить данные.\n",
    "2. Выполнить предобработку данных.\n",
    "3. Проверить гипотезы.\n",
    "4. Написать общий вывод.\n",
    "\n",
    "В ходе проведения исследования необходимо проверить три гипотезы:\n",
    "\n",
    "- Гипотеза 1: активность пользователей зависит от дня недели. Причём в Москве и Санкт-Петербурге это проявляется по-разному.\n",
    "- Гипотеза 2: в понедельник утром в Москве преобладают одни жанры, а в Санкт-Петербурге — другие. Так же и вечером пятницы преобладают разные жанры — в зависимости от города. \n",
    "- Гипотеза 3: Москва и Санкт-Петербург предпочитают разные жанры музыки. В Москве чаще слушают поп-музыку, в Санкт-Петербурге — русский рэп."
   ]
  },
  {
   "cell_type": "markdown",
   "id": "c440a7bf",
   "metadata": {},
   "source": [
    "### Описание данных\n",
    "<a name=\"23\"></a> <div style=\"text-align: left\">[Cодержание](#Содержание)</div>"
   ]
  },
  {
   "cell_type": "markdown",
   "id": "8ba9189d",
   "metadata": {},
   "source": [
    "Данные Яндекс.Музыки о поведении пользователей хранятся в файле `yandex_music_project.csv`."
   ]
  },
  {
   "cell_type": "markdown",
   "id": "7f011592",
   "metadata": {},
   "source": [
    "### План работы\n",
    "<a name=\"24\"></a> <div style=\"text-align: left\">[Cодержание](#Содержание)</div>"
   ]
  },
  {
   "cell_type": "markdown",
   "id": "9c5935ec",
   "metadata": {},
   "source": [
    "1. Изучение данных:\n",
    "\n",
    "    - Тип данных.\n",
    "    - Количество значений в столбцах.\n",
    "    - Пропущенные значения.\n",
    "    - Нарушения стиля в названиях столбцов.\n",
    "\n",
    "\n",
    "2. Предобработка данных:\n",
    "\n",
    "    - Стиль заголовков.\n",
    "    - Пропуски значений.\n",
    "    - Явные и неявные дубликаты.\n",
    "\n",
    "\n",
    "3. Проверка гипотез:\n",
    "\n",
    "    - Сравнение поведения пользователей двух столиц.\n",
    "    - Музыка в начале и в конце недели.\n",
    "    - Жанровые предпочтения в Москве и Санкт-Петербурге.\n",
    "\n",
    "\n",
    "4. Общий вывод."
   ]
  },
  {
   "cell_type": "markdown",
   "id": "b62dfa23",
   "metadata": {},
   "source": [
    "## Изучение данных\n",
    "<a name=\"3\"></a> <div style=\"text-align: left\">[Cодержание](#Содержание)</div>"
   ]
  },
  {
   "cell_type": "code",
   "execution_count": 1,
   "id": "4afee106",
   "metadata": {},
   "outputs": [],
   "source": [
    "import pandas as pd"
   ]
  },
  {
   "cell_type": "markdown",
   "id": "83e4f968",
   "metadata": {},
   "source": [
    "### Общая информация\n",
    "<a name=\"31\"></a> <div style=\"text-align: left\">[Cодержание](#Содержание)</div>"
   ]
  },
  {
   "cell_type": "markdown",
   "id": "6f4d6182",
   "metadata": {},
   "source": [
    "Прочитаем файл `yandex_music_project.csv` и сохраним его в переменной `df`."
   ]
  },
  {
   "cell_type": "code",
   "execution_count": 2,
   "id": "635e7b3f",
   "metadata": {},
   "outputs": [],
   "source": [
    "df = pd.read_csv('/datasets/yandex_music_project.csv')"
   ]
  },
  {
   "cell_type": "markdown",
   "id": "d629ba31",
   "metadata": {},
   "source": [
    "Выведем на экран первые десять строк таблицы."
   ]
  },
  {
   "cell_type": "code",
   "execution_count": 3,
   "id": "663f3cd0",
   "metadata": {},
   "outputs": [
    {
     "data": {
      "text/html": [
       "<div>\n",
       "<style scoped>\n",
       "    .dataframe tbody tr th:only-of-type {\n",
       "        vertical-align: middle;\n",
       "    }\n",
       "\n",
       "    .dataframe tbody tr th {\n",
       "        vertical-align: top;\n",
       "    }\n",
       "\n",
       "    .dataframe thead th {\n",
       "        text-align: right;\n",
       "    }\n",
       "</style>\n",
       "<table border=\"1\" class=\"dataframe\">\n",
       "  <thead>\n",
       "    <tr style=\"text-align: right;\">\n",
       "      <th></th>\n",
       "      <th>userID</th>\n",
       "      <th>Track</th>\n",
       "      <th>artist</th>\n",
       "      <th>genre</th>\n",
       "      <th>City</th>\n",
       "      <th>time</th>\n",
       "      <th>Day</th>\n",
       "    </tr>\n",
       "  </thead>\n",
       "  <tbody>\n",
       "    <tr>\n",
       "      <th>0</th>\n",
       "      <td>FFB692EC</td>\n",
       "      <td>Kamigata To Boots</td>\n",
       "      <td>The Mass Missile</td>\n",
       "      <td>rock</td>\n",
       "      <td>Saint-Petersburg</td>\n",
       "      <td>20:28:33</td>\n",
       "      <td>Wednesday</td>\n",
       "    </tr>\n",
       "    <tr>\n",
       "      <th>1</th>\n",
       "      <td>55204538</td>\n",
       "      <td>Delayed Because of Accident</td>\n",
       "      <td>Andreas Rönnberg</td>\n",
       "      <td>rock</td>\n",
       "      <td>Moscow</td>\n",
       "      <td>14:07:09</td>\n",
       "      <td>Friday</td>\n",
       "    </tr>\n",
       "    <tr>\n",
       "      <th>2</th>\n",
       "      <td>20EC38</td>\n",
       "      <td>Funiculì funiculà</td>\n",
       "      <td>Mario Lanza</td>\n",
       "      <td>pop</td>\n",
       "      <td>Saint-Petersburg</td>\n",
       "      <td>20:58:07</td>\n",
       "      <td>Wednesday</td>\n",
       "    </tr>\n",
       "    <tr>\n",
       "      <th>3</th>\n",
       "      <td>A3DD03C9</td>\n",
       "      <td>Dragons in the Sunset</td>\n",
       "      <td>Fire + Ice</td>\n",
       "      <td>folk</td>\n",
       "      <td>Saint-Petersburg</td>\n",
       "      <td>08:37:09</td>\n",
       "      <td>Monday</td>\n",
       "    </tr>\n",
       "    <tr>\n",
       "      <th>4</th>\n",
       "      <td>E2DC1FAE</td>\n",
       "      <td>Soul People</td>\n",
       "      <td>Space Echo</td>\n",
       "      <td>dance</td>\n",
       "      <td>Moscow</td>\n",
       "      <td>08:34:34</td>\n",
       "      <td>Monday</td>\n",
       "    </tr>\n",
       "    <tr>\n",
       "      <th>5</th>\n",
       "      <td>842029A1</td>\n",
       "      <td>Преданная</td>\n",
       "      <td>IMPERVTOR</td>\n",
       "      <td>rusrap</td>\n",
       "      <td>Saint-Petersburg</td>\n",
       "      <td>13:09:41</td>\n",
       "      <td>Friday</td>\n",
       "    </tr>\n",
       "    <tr>\n",
       "      <th>6</th>\n",
       "      <td>4CB90AA5</td>\n",
       "      <td>True</td>\n",
       "      <td>Roman Messer</td>\n",
       "      <td>dance</td>\n",
       "      <td>Moscow</td>\n",
       "      <td>13:00:07</td>\n",
       "      <td>Wednesday</td>\n",
       "    </tr>\n",
       "    <tr>\n",
       "      <th>7</th>\n",
       "      <td>F03E1C1F</td>\n",
       "      <td>Feeling This Way</td>\n",
       "      <td>Polina Griffith</td>\n",
       "      <td>dance</td>\n",
       "      <td>Moscow</td>\n",
       "      <td>20:47:49</td>\n",
       "      <td>Wednesday</td>\n",
       "    </tr>\n",
       "    <tr>\n",
       "      <th>8</th>\n",
       "      <td>8FA1D3BE</td>\n",
       "      <td>И вновь продолжается бой</td>\n",
       "      <td>NaN</td>\n",
       "      <td>ruspop</td>\n",
       "      <td>Moscow</td>\n",
       "      <td>09:17:40</td>\n",
       "      <td>Friday</td>\n",
       "    </tr>\n",
       "    <tr>\n",
       "      <th>9</th>\n",
       "      <td>E772D5C0</td>\n",
       "      <td>Pessimist</td>\n",
       "      <td>NaN</td>\n",
       "      <td>dance</td>\n",
       "      <td>Saint-Petersburg</td>\n",
       "      <td>21:20:49</td>\n",
       "      <td>Wednesday</td>\n",
       "    </tr>\n",
       "  </tbody>\n",
       "</table>\n",
       "</div>"
      ],
      "text/plain": [
       "     userID                        Track            artist   genre  \\\n",
       "0  FFB692EC            Kamigata To Boots  The Mass Missile    rock   \n",
       "1  55204538  Delayed Because of Accident  Andreas Rönnberg    rock   \n",
       "2    20EC38            Funiculì funiculà       Mario Lanza     pop   \n",
       "3  A3DD03C9        Dragons in the Sunset        Fire + Ice    folk   \n",
       "4  E2DC1FAE                  Soul People        Space Echo   dance   \n",
       "5  842029A1                    Преданная         IMPERVTOR  rusrap   \n",
       "6  4CB90AA5                         True      Roman Messer   dance   \n",
       "7  F03E1C1F             Feeling This Way   Polina Griffith   dance   \n",
       "8  8FA1D3BE     И вновь продолжается бой               NaN  ruspop   \n",
       "9  E772D5C0                    Pessimist               NaN   dance   \n",
       "\n",
       "             City        time        Day  \n",
       "0  Saint-Petersburg  20:28:33  Wednesday  \n",
       "1            Moscow  14:07:09     Friday  \n",
       "2  Saint-Petersburg  20:58:07  Wednesday  \n",
       "3  Saint-Petersburg  08:37:09     Monday  \n",
       "4            Moscow  08:34:34     Monday  \n",
       "5  Saint-Petersburg  13:09:41     Friday  \n",
       "6            Moscow  13:00:07  Wednesday  \n",
       "7            Moscow  20:47:49  Wednesday  \n",
       "8            Moscow  09:17:40     Friday  \n",
       "9  Saint-Petersburg  21:20:49  Wednesday  "
      ]
     },
     "execution_count": 3,
     "metadata": {},
     "output_type": "execute_result"
    }
   ],
   "source": [
    "# получение первых 10 строк таблицы df\n",
    "df.head(10)"
   ]
  },
  {
   "cell_type": "markdown",
   "id": "db9bc96c",
   "metadata": {},
   "source": [
    "Одной командой получим общую информацию о таблице c помощью метода `.info()`."
   ]
  },
  {
   "cell_type": "code",
   "execution_count": 4,
   "id": "17890559",
   "metadata": {},
   "outputs": [
    {
     "name": "stdout",
     "output_type": "stream",
     "text": [
      "<class 'pandas.core.frame.DataFrame'>\n",
      "RangeIndex: 65079 entries, 0 to 65078\n",
      "Data columns (total 7 columns):\n",
      " #   Column    Non-Null Count  Dtype \n",
      "---  ------    --------------  ----- \n",
      " 0     userID  65079 non-null  object\n",
      " 1   Track     63848 non-null  object\n",
      " 2   artist    57876 non-null  object\n",
      " 3   genre     63881 non-null  object\n",
      " 4     City    65079 non-null  object\n",
      " 5   time      65079 non-null  object\n",
      " 6   Day       65079 non-null  object\n",
      "dtypes: object(7)\n",
      "memory usage: 3.5+ MB\n"
     ]
    }
   ],
   "source": [
    "# получение общей информации о данных в таблице df\n",
    "df.info()"
   ]
  },
  {
   "cell_type": "markdown",
   "id": "31ed6f42",
   "metadata": {},
   "source": [
    "В таблице семь столбцов. Тип данных во всех столбцах — `object`.\n",
    "\n",
    "Количество значений в столбцах различается. Значит, в данных есть пропущенные значения.\n",
    "\n",
    "В названиях столбцов видны нарушения стиля:\n",
    "* строчные буквы сочетаются с прописными;\n",
    "* встречаются пробелы;\n",
    "* не все слова написаны в «змеином_регистре»."
   ]
  },
  {
   "cell_type": "markdown",
   "id": "37594362",
   "metadata": {},
   "source": [
    "### Вывод\n",
    "<a name=\"32\"></a> <div style=\"text-align: left\">[Cодержание](#Содержание)</div>"
   ]
  },
  {
   "cell_type": "markdown",
   "id": "c23dd2ec",
   "metadata": {},
   "source": [
    "В разделе [**Изучение данных**](#3.-Изучение-данных) была получена общая информация о данных, а именно:\n",
    "- тип данных;\n",
    "- количество значений в столбцах;\n",
    "- пропущенные значения;\n",
    "- нарушения стиля в названиях столбцов.\n",
    "\n",
    "\n",
    "В результате выполнения задач этого раздела было выявлено следующее:\n",
    "1. В каждой строке таблицы — данные о прослушанном треке. Часть столбцов описывает саму композицию: название, исполнителя и жанр. Остальные данные рассказывают о пользователе: из какого он города, когда он слушал музыку. \n",
    "2. Предварительно можно утверждать, что данных достаточно для проверки гипотез. Но встречаются пропуски в данных, а в названиях столбцов — расхождения с хорошим стилем.\n",
    "\n",
    "Чтобы двигаться дальше, нужно устранить проблемы в данных."
   ]
  },
  {
   "cell_type": "markdown",
   "id": "94c78926",
   "metadata": {},
   "source": [
    "## Предобработка данных\n",
    "<a name=\"4\"></a> <div style=\"text-align: left\">[Cодержание](#Содержание)</div>"
   ]
  },
  {
   "cell_type": "markdown",
   "id": "bd3682bc",
   "metadata": {},
   "source": [
    "Исправим стиль в заголовках столбцов, исключим пропуски. Затем проверим данные на дубликаты."
   ]
  },
  {
   "cell_type": "markdown",
   "id": "ee0613ba",
   "metadata": {},
   "source": [
    "### Стиль заголовков\n",
    "<a name=\"41\"></a> <div style=\"text-align: left\">[Cодержание](#Содержание)</div>"
   ]
  },
  {
   "cell_type": "markdown",
   "id": "f298eaea",
   "metadata": {},
   "source": [
    "Выведем на экран названия столбцов."
   ]
  },
  {
   "cell_type": "code",
   "execution_count": 5,
   "id": "85324cd1",
   "metadata": {},
   "outputs": [
    {
     "data": {
      "text/plain": [
       "Index(['  userID', 'Track', 'artist', 'genre', '  City  ', 'time', 'Day'], dtype='object')"
      ]
     },
     "execution_count": 5,
     "metadata": {},
     "output_type": "execute_result"
    }
   ],
   "source": [
    "# перечень названий столбцов таблицы df\n",
    "df.columns"
   ]
  },
  {
   "cell_type": "markdown",
   "id": "554650f6",
   "metadata": {},
   "source": [
    "Приведём названия столбцов в соответствие с хорошим стилем:\n",
    "* несколько слов в названии запишем в «змеином_регистре»;\n",
    "* все символы сделаем строчными;\n",
    "* устраним пробелы.\n",
    "\n",
    "Для этого переименуем столбцы так:\n",
    "* `'  userID'` → `'user_id'`;\n",
    "* `'Track'` → `'track'`;\n",
    "* `'  City  '` → `'city'`;\n",
    "* `'Day'` → `'day'`."
   ]
  },
  {
   "cell_type": "code",
   "execution_count": 6,
   "id": "b8827db0",
   "metadata": {},
   "outputs": [],
   "source": [
    "# переименование столбцов\n",
    "df.rename(columns={'  userID': 'user_id', 'Track': 'track', '  City  ': 'city', 'Day': 'day'}, inplace=True)"
   ]
  },
  {
   "cell_type": "markdown",
   "id": "49abdb74",
   "metadata": {},
   "source": [
    "Проверим результат. Для этого ещё раз выведем на экран названия столбцов."
   ]
  },
  {
   "cell_type": "code",
   "execution_count": 7,
   "id": "1d703d2e",
   "metadata": {},
   "outputs": [
    {
     "data": {
      "text/plain": [
       "Index(['user_id', 'track', 'artist', 'genre', 'city', 'time', 'day'], dtype='object')"
      ]
     },
     "execution_count": 7,
     "metadata": {},
     "output_type": "execute_result"
    }
   ],
   "source": [
    "# проверка результатов - перечень названий столбцов\n",
    "df.columns"
   ]
  },
  {
   "cell_type": "markdown",
   "id": "407bb85e",
   "metadata": {},
   "source": [
    "### Пропуски значений\n",
    "<a name=\"42\"></a> <div style=\"text-align: left\">[Cодержание](#Содержание)</div>"
   ]
  },
  {
   "cell_type": "markdown",
   "id": "31f0c92d",
   "metadata": {},
   "source": [
    "Сначала посчитаем, сколько в таблице пропущенных значений."
   ]
  },
  {
   "cell_type": "code",
   "execution_count": 8,
   "id": "5876b3d2",
   "metadata": {},
   "outputs": [
    {
     "data": {
      "text/plain": [
       "user_id       0\n",
       "track      1231\n",
       "artist     7203\n",
       "genre      1198\n",
       "city          0\n",
       "time          0\n",
       "day           0\n",
       "dtype: int64"
      ]
     },
     "metadata": {},
     "output_type": "display_data"
    }
   ],
   "source": [
    "display(df.isna().sum())"
   ]
  },
  {
   "cell_type": "markdown",
   "id": "e9911e1c",
   "metadata": {},
   "source": [
    "Не все пропущенные значения влияют на исследование. Так в `track` и `artist` пропуски не важны для нашей работы. Достаточно заменить их явными обозначениями.\n",
    "\n",
    "Но пропуски в `genre` могут помешать сравнению музыкальных вкусов в Москве и Санкт-Петербурге. На практике было бы правильно установить причину пропусков и восстановить данные. В нашем исследовании такой возможности нет, поэтому придётся:\n",
    "* заполнить и эти пропуски явными обозначениями;\n",
    "* оценить, насколько они повредят расчётам.\n",
    "\n",
    "Заменим пропущенные значения в столбцах `track`, `artist` и `genre` на строку \"unknown\". Для этого создим список `columns_to_replace`, переберём его элементы циклом `for` и для каждого столбца выполним замену пропущенных значений."
   ]
  },
  {
   "cell_type": "code",
   "execution_count": 9,
   "id": "4ac7e550",
   "metadata": {},
   "outputs": [],
   "source": [
    "# создание списка columns_to_replace\n",
    "columns_to_replace = ['track', 'artist', 'genre']\n",
    "# перебор названий столбцов в цикле и замена пропущенных значений на 'unknown'\n",
    "for column in columns_to_replace:\n",
    "   df[column] = df[column].fillna('unknown')"
   ]
  },
  {
   "cell_type": "markdown",
   "id": "9578fbb3",
   "metadata": {},
   "source": [
    "Убедимся, что в таблице не осталось пропусков. Для этого ещё раз посчитаем пропущенные значения."
   ]
  },
  {
   "cell_type": "code",
   "execution_count": 10,
   "id": "a3a7a1e3",
   "metadata": {},
   "outputs": [
    {
     "data": {
      "text/plain": [
       "user_id    0\n",
       "track      0\n",
       "artist     0\n",
       "genre      0\n",
       "city       0\n",
       "time       0\n",
       "day        0\n",
       "dtype: int64"
      ]
     },
     "execution_count": 10,
     "metadata": {},
     "output_type": "execute_result"
    }
   ],
   "source": [
    "df.isna().sum()"
   ]
  },
  {
   "cell_type": "markdown",
   "id": "9bc49a6a",
   "metadata": {},
   "source": [
    "### Дубликаты\n",
    "<a name=\"43\"></a> <div style=\"text-align: left\">[Cодержание](#Содержание)</div>"
   ]
  },
  {
   "cell_type": "markdown",
   "id": "f44d4935",
   "metadata": {},
   "source": [
    "Посчитаем явные дубликаты в таблице."
   ]
  },
  {
   "cell_type": "code",
   "execution_count": 11,
   "id": "851d36ad",
   "metadata": {},
   "outputs": [
    {
     "data": {
      "text/plain": [
       "3826"
      ]
     },
     "execution_count": 11,
     "metadata": {},
     "output_type": "execute_result"
    }
   ],
   "source": [
    "# подсчёт явных дубликатов\n",
    "df.duplicated().sum()"
   ]
  },
  {
   "cell_type": "markdown",
   "id": "dda47656",
   "metadata": {},
   "source": [
    "Удалим явные дубликаты."
   ]
  },
  {
   "cell_type": "code",
   "execution_count": 12,
   "id": "3c56df93",
   "metadata": {},
   "outputs": [],
   "source": [
    "# удаление явных дубликатов (с удалением старых индексов и формированием новых)\n",
    "df = df.drop_duplicates()"
   ]
  },
  {
   "cell_type": "markdown",
   "id": "d8e1cb49",
   "metadata": {},
   "source": [
    "Ещё раз посчитаем явные дубликаты в таблице — убедимся, что полностью от них избавились."
   ]
  },
  {
   "cell_type": "code",
   "execution_count": 13,
   "id": "ed4434e6",
   "metadata": {},
   "outputs": [
    {
     "data": {
      "text/plain": [
       "0"
      ]
     },
     "execution_count": 13,
     "metadata": {},
     "output_type": "execute_result"
    }
   ],
   "source": [
    "# проверка на отсутствие дубликатов\n",
    "df.duplicated().sum()"
   ]
  },
  {
   "cell_type": "markdown",
   "id": "55c512c3",
   "metadata": {},
   "source": [
    "Теперь избавимся от неявных дубликатов в столбце `genre`. Например, название одного и того же жанра может быть записано немного по-разному. Такие ошибки тоже повлияют на результат исследования.\n",
    "\n",
    "Выведем на экран список уникальных названий жанров, отсортированный в алфавитном порядке. Для этого:\n",
    "1. извлечём нужный столбец датафрейма; \n",
    "2. применим к нему метод сортировки;\n",
    "3. для отсортированного столбца вызовем метод, который вернёт уникальные значения из столбца."
   ]
  },
  {
   "cell_type": "code",
   "execution_count": 14,
   "id": "fb5e91cd",
   "metadata": {},
   "outputs": [
    {
     "data": {
      "text/plain": [
       "array(['acid', 'acoustic', 'action', 'adult', 'africa', 'afrikaans',\n",
       "       'alternative', 'alternativepunk', 'ambient', 'americana',\n",
       "       'animated', 'anime', 'arabesk', 'arabic', 'arena',\n",
       "       'argentinetango', 'art', 'audiobook', 'author', 'avantgarde',\n",
       "       'axé', 'baile', 'balkan', 'beats', 'bigroom', 'black', 'bluegrass',\n",
       "       'blues', 'bollywood', 'bossa', 'brazilian', 'breakbeat', 'breaks',\n",
       "       'broadway', 'cantautori', 'cantopop', 'canzone', 'caribbean',\n",
       "       'caucasian', 'celtic', 'chamber', 'chanson', 'children', 'chill',\n",
       "       'chinese', 'choral', 'christian', 'christmas', 'classical',\n",
       "       'classicmetal', 'club', 'colombian', 'comedy', 'conjazz',\n",
       "       'contemporary', 'country', 'cuban', 'dance', 'dancehall',\n",
       "       'dancepop', 'dark', 'death', 'deep', 'deutschrock', 'deutschspr',\n",
       "       'dirty', 'disco', 'dnb', 'documentary', 'downbeat', 'downtempo',\n",
       "       'drum', 'dub', 'dubstep', 'eastern', 'easy', 'electronic',\n",
       "       'electropop', 'emo', 'entehno', 'epicmetal', 'estrada', 'ethnic',\n",
       "       'eurofolk', 'european', 'experimental', 'extrememetal', 'fado',\n",
       "       'fairytail', 'film', 'fitness', 'flamenco', 'folk', 'folklore',\n",
       "       'folkmetal', 'folkrock', 'folktronica', 'forró', 'frankreich',\n",
       "       'französisch', 'french', 'funk', 'future', 'gangsta', 'garage',\n",
       "       'german', 'ghazal', 'gitarre', 'glitch', 'gospel', 'gothic',\n",
       "       'grime', 'grunge', 'gypsy', 'handsup', \"hard'n'heavy\", 'hardcore',\n",
       "       'hardstyle', 'hardtechno', 'hip', 'hip-hop', 'hiphop',\n",
       "       'historisch', 'holiday', 'hop', 'horror', 'house', 'hymn', 'idm',\n",
       "       'independent', 'indian', 'indie', 'indipop', 'industrial',\n",
       "       'inspirational', 'instrumental', 'international', 'irish', 'jam',\n",
       "       'japanese', 'jazz', 'jewish', 'jpop', 'jungle', 'k-pop',\n",
       "       'karadeniz', 'karaoke', 'kayokyoku', 'korean', 'laiko', 'latin',\n",
       "       'latino', 'leftfield', 'local', 'lounge', 'loungeelectronic',\n",
       "       'lovers', 'malaysian', 'mandopop', 'marschmusik', 'meditative',\n",
       "       'mediterranean', 'melodic', 'metal', 'metalcore', 'mexican',\n",
       "       'middle', 'minimal', 'miscellaneous', 'modern', 'mood', 'mpb',\n",
       "       'muslim', 'native', 'neoklassik', 'neue', 'new', 'newage',\n",
       "       'newwave', 'nu', 'nujazz', 'numetal', 'oceania', 'old', 'opera',\n",
       "       'orchestral', 'other', 'piano', 'podcasts', 'pop', 'popdance',\n",
       "       'popelectronic', 'popeurodance', 'poprussian', 'post',\n",
       "       'posthardcore', 'postrock', 'power', 'progmetal', 'progressive',\n",
       "       'psychedelic', 'punjabi', 'punk', 'quebecois', 'ragga', 'ram',\n",
       "       'rancheras', 'rap', 'rave', 'reggae', 'reggaeton', 'regional',\n",
       "       'relax', 'religious', 'retro', 'rhythm', 'rnb', 'rnr', 'rock',\n",
       "       'rockabilly', 'rockalternative', 'rockindie', 'rockother',\n",
       "       'romance', 'roots', 'ruspop', 'rusrap', 'rusrock', 'russian',\n",
       "       'salsa', 'samba', 'scenic', 'schlager', 'self', 'sertanejo',\n",
       "       'shanson', 'shoegazing', 'showtunes', 'singer', 'ska', 'skarock',\n",
       "       'slow', 'smooth', 'soft', 'soul', 'soulful', 'sound', 'soundtrack',\n",
       "       'southern', 'specialty', 'speech', 'spiritual', 'sport',\n",
       "       'stonerrock', 'surf', 'swing', 'synthpop', 'synthrock',\n",
       "       'sängerportrait', 'tango', 'tanzorchester', 'taraftar', 'tatar',\n",
       "       'tech', 'techno', 'teen', 'thrash', 'top', 'traditional',\n",
       "       'tradjazz', 'trance', 'tribal', 'trip', 'triphop', 'tropical',\n",
       "       'türk', 'türkçe', 'ukrrock', 'unknown', 'urban', 'uzbek',\n",
       "       'variété', 'vi', 'videogame', 'vocal', 'western', 'world',\n",
       "       'worldbeat', 'ïîï', 'электроника'], dtype=object)"
      ]
     },
     "execution_count": 14,
     "metadata": {},
     "output_type": "execute_result"
    }
   ],
   "source": [
    "# просмотр уникальных названий жанров\n",
    "df['genre'].sort_values().unique()"
   ]
  },
  {
   "cell_type": "markdown",
   "id": "50c0afad",
   "metadata": {},
   "source": [
    "Просмотрим список и найдём неявные дубликаты названия \"hiphop\". Это могут быть названия с ошибками или альтернативные названия того же жанра.\n",
    "\n",
    "Мы увидем следующие неявные дубликаты:\n",
    "- \"hip\",\n",
    "- \"hop\",\n",
    "- \"hip-hop\".\n",
    "\n",
    "Чтобы очистить от них таблицу, используем метод `.replace()` с двумя аргументами: списком строк-дубликатов (включащий \"hip\", \"hop\" и \"hip-hop\") и строкой с правильным значением. Нам нужно исправить столбец `genre` в таблице `df`: заменить каждое значение из списка дубликатов на верное. Вместо \"hip\", \"hop\" и \"hip-hop\" в таблице должно быть значение \"hiphop\"."
   ]
  },
  {
   "cell_type": "code",
   "execution_count": 15,
   "id": "cae88a11",
   "metadata": {},
   "outputs": [],
   "source": [
    "# Устранение неявных дубликатов\n",
    "df['genre'] = df['genre'].replace(['hip', 'hop', 'hip-hop'], 'hiphop')"
   ]
  },
  {
   "cell_type": "markdown",
   "id": "0d285833",
   "metadata": {},
   "source": [
    "Проверим, что мы заменили неправильные названия:\n",
    "- \"hip\",\n",
    "- \"hop\",\n",
    "- \"hip-hop\".\n",
    "\n",
    "Выведем отсортированный список уникальных значений столбца `genre`."
   ]
  },
  {
   "cell_type": "code",
   "execution_count": 16,
   "id": "8e72becf",
   "metadata": {},
   "outputs": [
    {
     "data": {
      "text/plain": [
       "array(['acid', 'acoustic', 'action', 'adult', 'africa', 'afrikaans',\n",
       "       'alternative', 'alternativepunk', 'ambient', 'americana',\n",
       "       'animated', 'anime', 'arabesk', 'arabic', 'arena',\n",
       "       'argentinetango', 'art', 'audiobook', 'author', 'avantgarde',\n",
       "       'axé', 'baile', 'balkan', 'beats', 'bigroom', 'black', 'bluegrass',\n",
       "       'blues', 'bollywood', 'bossa', 'brazilian', 'breakbeat', 'breaks',\n",
       "       'broadway', 'cantautori', 'cantopop', 'canzone', 'caribbean',\n",
       "       'caucasian', 'celtic', 'chamber', 'chanson', 'children', 'chill',\n",
       "       'chinese', 'choral', 'christian', 'christmas', 'classical',\n",
       "       'classicmetal', 'club', 'colombian', 'comedy', 'conjazz',\n",
       "       'contemporary', 'country', 'cuban', 'dance', 'dancehall',\n",
       "       'dancepop', 'dark', 'death', 'deep', 'deutschrock', 'deutschspr',\n",
       "       'dirty', 'disco', 'dnb', 'documentary', 'downbeat', 'downtempo',\n",
       "       'drum', 'dub', 'dubstep', 'eastern', 'easy', 'electronic',\n",
       "       'electropop', 'emo', 'entehno', 'epicmetal', 'estrada', 'ethnic',\n",
       "       'eurofolk', 'european', 'experimental', 'extrememetal', 'fado',\n",
       "       'fairytail', 'film', 'fitness', 'flamenco', 'folk', 'folklore',\n",
       "       'folkmetal', 'folkrock', 'folktronica', 'forró', 'frankreich',\n",
       "       'französisch', 'french', 'funk', 'future', 'gangsta', 'garage',\n",
       "       'german', 'ghazal', 'gitarre', 'glitch', 'gospel', 'gothic',\n",
       "       'grime', 'grunge', 'gypsy', 'handsup', \"hard'n'heavy\", 'hardcore',\n",
       "       'hardstyle', 'hardtechno', 'hiphop', 'historisch', 'holiday',\n",
       "       'horror', 'house', 'hymn', 'idm', 'independent', 'indian', 'indie',\n",
       "       'indipop', 'industrial', 'inspirational', 'instrumental',\n",
       "       'international', 'irish', 'jam', 'japanese', 'jazz', 'jewish',\n",
       "       'jpop', 'jungle', 'k-pop', 'karadeniz', 'karaoke', 'kayokyoku',\n",
       "       'korean', 'laiko', 'latin', 'latino', 'leftfield', 'local',\n",
       "       'lounge', 'loungeelectronic', 'lovers', 'malaysian', 'mandopop',\n",
       "       'marschmusik', 'meditative', 'mediterranean', 'melodic', 'metal',\n",
       "       'metalcore', 'mexican', 'middle', 'minimal', 'miscellaneous',\n",
       "       'modern', 'mood', 'mpb', 'muslim', 'native', 'neoklassik', 'neue',\n",
       "       'new', 'newage', 'newwave', 'nu', 'nujazz', 'numetal', 'oceania',\n",
       "       'old', 'opera', 'orchestral', 'other', 'piano', 'podcasts', 'pop',\n",
       "       'popdance', 'popelectronic', 'popeurodance', 'poprussian', 'post',\n",
       "       'posthardcore', 'postrock', 'power', 'progmetal', 'progressive',\n",
       "       'psychedelic', 'punjabi', 'punk', 'quebecois', 'ragga', 'ram',\n",
       "       'rancheras', 'rap', 'rave', 'reggae', 'reggaeton', 'regional',\n",
       "       'relax', 'religious', 'retro', 'rhythm', 'rnb', 'rnr', 'rock',\n",
       "       'rockabilly', 'rockalternative', 'rockindie', 'rockother',\n",
       "       'romance', 'roots', 'ruspop', 'rusrap', 'rusrock', 'russian',\n",
       "       'salsa', 'samba', 'scenic', 'schlager', 'self', 'sertanejo',\n",
       "       'shanson', 'shoegazing', 'showtunes', 'singer', 'ska', 'skarock',\n",
       "       'slow', 'smooth', 'soft', 'soul', 'soulful', 'sound', 'soundtrack',\n",
       "       'southern', 'specialty', 'speech', 'spiritual', 'sport',\n",
       "       'stonerrock', 'surf', 'swing', 'synthpop', 'synthrock',\n",
       "       'sängerportrait', 'tango', 'tanzorchester', 'taraftar', 'tatar',\n",
       "       'tech', 'techno', 'teen', 'thrash', 'top', 'traditional',\n",
       "       'tradjazz', 'trance', 'tribal', 'trip', 'triphop', 'tropical',\n",
       "       'türk', 'türkçe', 'ukrrock', 'unknown', 'urban', 'uzbek',\n",
       "       'variété', 'vi', 'videogame', 'vocal', 'western', 'world',\n",
       "       'worldbeat', 'ïîï', 'электроника'], dtype=object)"
      ]
     },
     "execution_count": 16,
     "metadata": {},
     "output_type": "execute_result"
    }
   ],
   "source": [
    "# проверка на неявные дубликаты\n",
    "df['genre'].sort_values().unique()"
   ]
  },
  {
   "cell_type": "markdown",
   "id": "60abdc5b",
   "metadata": {},
   "source": [
    "### Вывод\n",
    "<a name=\"44\"></a> <div style=\"text-align: left\">[Cодержание](#Содержание)</div>"
   ]
  },
  {
   "cell_type": "markdown",
   "id": "360fca0f",
   "metadata": {},
   "source": [
    "В разделе [**Предобработка данных**](#4.-Предобработка-данных) были выполнены следующие задачи:\n",
    "- исправлены нарушения в стиле заголовков, чтобы упростить работу с таблицей;\n",
    "- пропущенные значения заменили на \"unknown\";\n",
    "- обработаны дубликаты — явные и неявные, чтобы исследование стало более точным.\n",
    "\n",
    "\n",
    "В результате выполнения задач этого раздела было выявлено следующее:\n",
    "- Предстоит увидеть, не повредят ли исследованию пропуски в столбце `genre`. Пропуски в `genre` могут помешать сравнению музыкальных вкусов в Москве и Санкт-Петербурге. \n",
    " \n",
    "\n",
    "Теперь можно перейти к проверке гипотез."
   ]
  },
  {
   "cell_type": "markdown",
   "id": "1964cf0b",
   "metadata": {},
   "source": [
    "## Проверка гипотез\n",
    "<a name=\"5\"></a> <div style=\"text-align: left\">[Cодержание](#Содержание)</div>"
   ]
  },
  {
   "cell_type": "markdown",
   "id": "dff62582",
   "metadata": {},
   "source": [
    "### Сравнение поведения пользователей двух столиц\n",
    "<a name=\"51\"></a> <div style=\"text-align: left\">[Cодержание](#Содержание)</div>"
   ]
  },
  {
   "cell_type": "markdown",
   "id": "c99abbb3",
   "metadata": {},
   "source": [
    "Первая гипотеза утверждает, что пользователи по-разному слушают музыку в Москве и Санкт-Петербурге. Проверим это предположение по данным о трёх днях недели — понедельнике, среде и пятнице. Для этого:\n",
    "\n",
    "* Разделим пользователей Москвы и Санкт-Петербурга.\n",
    "* Сравним, сколько треков послушала каждая группа пользователей в понедельник, среду и пятницу."
   ]
  },
  {
   "cell_type": "markdown",
   "id": "582ec1ff",
   "metadata": {},
   "source": [
    "Для тренировки сначала выполним каждый из расчётов по отдельности. \n",
    "\n",
    "Оценим активность пользователей в каждом городе. Сгруппируем данные по городу и посчитаем прослушивания в каждой группе."
   ]
  },
  {
   "cell_type": "code",
   "execution_count": 17,
   "id": "ea121fe9",
   "metadata": {},
   "outputs": [
    {
     "name": "stdout",
     "output_type": "stream",
     "text": [
      "city\n",
      "Moscow              42741\n",
      "Saint-Petersburg    18512\n",
      "Name: genre, dtype: int64\n"
     ]
    }
   ],
   "source": [
    "# подсчёт прослушиваний в каждом городе\n",
    "try:\n",
    "    print(df.groupby('city')['genre'].count())\n",
    "except:\n",
    "    df = df.rename(columns={'userID' : 'user_id', 'City' : 'city'})\n",
    "    print(df.groupby('city')['genre'].count())"
   ]
  },
  {
   "cell_type": "markdown",
   "id": "76736042",
   "metadata": {},
   "source": [
    "В Москве прослушиваний больше, чем в Санкт-Петербурге. Из этого не следует, что московские пользователи чаще слушают музыку. Просто самих пользователей в Москве больше.\n",
    "\n",
    "Теперь сгруппируем данные по дню недели и посчитаем прослушивания в понедельник, среду и пятницу. Учтём, что в данных есть информация о прослушиваниях только за эти дни."
   ]
  },
  {
   "cell_type": "code",
   "execution_count": 18,
   "id": "229496f7",
   "metadata": {},
   "outputs": [
    {
     "data": {
      "text/plain": [
       "day\n",
       "Friday       21840\n",
       "Monday       21354\n",
       "Wednesday    18059\n",
       "Name: genre, dtype: int64"
      ]
     },
     "execution_count": 18,
     "metadata": {},
     "output_type": "execute_result"
    }
   ],
   "source": [
    "# подсчёт прослушиваний в каждый из трёх дней\n",
    "df.groupby('day')['genre'].count()"
   ]
  },
  {
   "cell_type": "markdown",
   "id": "65be2318",
   "metadata": {},
   "source": [
    "В среднем пользователи из двух городов менее активны по средам. Но картина может измениться, если рассмотреть каждый город в отдельности.\n",
    "\n",
    "Мы видели, как работает группировка по городу и по дням недели. Теперь напишем функцию, которая объединит два эти расчёта.\n",
    "\n",
    "Создадим функцию `number_tracks()`, которая посчитает прослушивания для заданного дня и города. Ей понадобятся два параметра:\n",
    "* день недели,\n",
    "* название города.\n",
    "\n",
    "В функции сохраним в переменную строки исходной таблицы, у которых значение:\n",
    "  * в столбце `day` равно параметру `day`,\n",
    "  * в столбце `city` равно параметру `city`.\n",
    "\n",
    "Для этого применим последовательную фильтрацию с логической индексацией.\n",
    "\n",
    "Затем посчитаем значения в столбце `user_id` получившейся таблицы. Результат сохраним в новую переменную. Вернём эту переменную из функции."
   ]
  },
  {
   "cell_type": "code",
   "execution_count": 19,
   "id": "80a43eae",
   "metadata": {},
   "outputs": [],
   "source": [
    "def number_tracks(day, city):\n",
    "    track_list = df[df['day'] == day]\n",
    "    track_list = track_list[track_list['city'] == city]\n",
    "    track_list_count = track_list['user_id'].count()\n",
    "    \n",
    "    return track_list_count"
   ]
  },
  {
   "cell_type": "markdown",
   "id": "2ef77fdd",
   "metadata": {},
   "source": [
    "Вызовем `number_tracks()` шесть раз, меняя значение параметров — так, чтобы получить данные для каждого города в каждый из трёх дней."
   ]
  },
  {
   "cell_type": "code",
   "execution_count": 20,
   "id": "5dc86d03",
   "metadata": {},
   "outputs": [
    {
     "data": {
      "text/plain": [
       "15740"
      ]
     },
     "execution_count": 20,
     "metadata": {},
     "output_type": "execute_result"
    }
   ],
   "source": [
    "# количество прослушиваний в Москве по понедельникам\n",
    "number_tracks('Monday', 'Moscow')"
   ]
  },
  {
   "cell_type": "code",
   "execution_count": 21,
   "id": "020695b4",
   "metadata": {},
   "outputs": [
    {
     "data": {
      "text/plain": [
       "5614"
      ]
     },
     "execution_count": 21,
     "metadata": {},
     "output_type": "execute_result"
    }
   ],
   "source": [
    "# количество прослушиваний в Санкт-Петербурге по понедельникам\n",
    "number_tracks('Monday', 'Saint-Petersburg')"
   ]
  },
  {
   "cell_type": "code",
   "execution_count": 22,
   "id": "4ce862d4",
   "metadata": {},
   "outputs": [
    {
     "data": {
      "text/plain": [
       "11056"
      ]
     },
     "execution_count": 22,
     "metadata": {},
     "output_type": "execute_result"
    }
   ],
   "source": [
    "# количество прослушиваний в Москве по средам\n",
    "number_tracks('Wednesday', 'Moscow')"
   ]
  },
  {
   "cell_type": "code",
   "execution_count": 23,
   "id": "5f64e150",
   "metadata": {},
   "outputs": [
    {
     "data": {
      "text/plain": [
       "7003"
      ]
     },
     "execution_count": 23,
     "metadata": {},
     "output_type": "execute_result"
    }
   ],
   "source": [
    "# количество прослушиваний в Санкт-Петербурге по средам\n",
    "number_tracks('Wednesday', 'Saint-Petersburg')"
   ]
  },
  {
   "cell_type": "code",
   "execution_count": 24,
   "id": "b8ab897b",
   "metadata": {},
   "outputs": [
    {
     "data": {
      "text/plain": [
       "15945"
      ]
     },
     "execution_count": 24,
     "metadata": {},
     "output_type": "execute_result"
    }
   ],
   "source": [
    "# количество прослушиваний в Москве по пятницам\n",
    "number_tracks('Friday', 'Moscow')"
   ]
  },
  {
   "cell_type": "code",
   "execution_count": 25,
   "id": "5617b275",
   "metadata": {},
   "outputs": [
    {
     "data": {
      "text/plain": [
       "5895"
      ]
     },
     "execution_count": 25,
     "metadata": {},
     "output_type": "execute_result"
    }
   ],
   "source": [
    "# количество прослушиваний в Санкт-Петербурге по пятницам\n",
    "number_tracks('Friday', 'Saint-Petersburg')"
   ]
  },
  {
   "cell_type": "markdown",
   "id": "c83ab3c5",
   "metadata": {},
   "source": [
    "Создадим c помощью конструктора `pd.DataFrame` таблицу, где\n",
    "* названия столбцов — `['city', 'monday', 'wednesday', 'friday']`;\n",
    "* данные — результаты, которые мы получили с помощью функции `number_tracks`."
   ]
  },
  {
   "cell_type": "code",
   "execution_count": 26,
   "id": "846a75d6",
   "metadata": {},
   "outputs": [
    {
     "data": {
      "text/html": [
       "<div>\n",
       "<style scoped>\n",
       "    .dataframe tbody tr th:only-of-type {\n",
       "        vertical-align: middle;\n",
       "    }\n",
       "\n",
       "    .dataframe tbody tr th {\n",
       "        vertical-align: top;\n",
       "    }\n",
       "\n",
       "    .dataframe thead th {\n",
       "        text-align: right;\n",
       "    }\n",
       "</style>\n",
       "<table border=\"1\" class=\"dataframe\">\n",
       "  <thead>\n",
       "    <tr style=\"text-align: right;\">\n",
       "      <th></th>\n",
       "      <th>city</th>\n",
       "      <th>monday</th>\n",
       "      <th>wednesday</th>\n",
       "      <th>friday</th>\n",
       "    </tr>\n",
       "  </thead>\n",
       "  <tbody>\n",
       "    <tr>\n",
       "      <th>0</th>\n",
       "      <td>Moscow</td>\n",
       "      <td>15740</td>\n",
       "      <td>11056</td>\n",
       "      <td>15945</td>\n",
       "    </tr>\n",
       "    <tr>\n",
       "      <th>1</th>\n",
       "      <td>Saint-Petersburg</td>\n",
       "      <td>5614</td>\n",
       "      <td>7003</td>\n",
       "      <td>5895</td>\n",
       "    </tr>\n",
       "  </tbody>\n",
       "</table>\n",
       "</div>"
      ],
      "text/plain": [
       "               city  monday  wednesday  friday\n",
       "0            Moscow   15740      11056   15945\n",
       "1  Saint-Petersburg    5614       7003    5895"
      ]
     },
     "execution_count": 26,
     "metadata": {},
     "output_type": "execute_result"
    }
   ],
   "source": [
    "# таблица с результатами\n",
    "info = pd.DataFrame(data=[\n",
    "    ['Moscow', number_tracks('Monday', 'Moscow'), \n",
    "     number_tracks('Wednesday', 'Moscow'), \n",
    "     number_tracks('Friday', 'Moscow')],\n",
    "    ['Saint-Petersburg', number_tracks('Monday', 'Saint-Petersburg'), \n",
    "     number_tracks('Wednesday', 'Saint-Petersburg'), \n",
    "     number_tracks('Friday', 'Saint-Petersburg')]\n",
    "    ],\n",
    "                    columns=['city', 'monday', 'wednesday', 'friday'])\n",
    "\n",
    "info"
   ]
  },
  {
   "cell_type": "markdown",
   "id": "1bfb71bd",
   "metadata": {},
   "source": [
    "**Выводы**\n",
    "\n",
    "Данные показывают разницу поведения пользователей:\n",
    "\n",
    "- В Москве пик прослушиваний приходится на понедельник и пятницу, а в среду заметен спад.\n",
    "- В Санкт-Петербурге, наоборот, больше слушают музыку по средам. Активность в понедельник и пятницу здесь почти в равной мере уступает среде.\n",
    "\n",
    "Значит, данные говорят в пользу первой гипотезы."
   ]
  },
  {
   "cell_type": "markdown",
   "id": "66bfbd11",
   "metadata": {},
   "source": [
    "### Музыка в начале и в конце недели\n",
    "<a name=\"52\"></a> <div style=\"text-align: left\">[Cодержание](#Содержание)</div>"
   ]
  },
  {
   "cell_type": "markdown",
   "id": "115af369",
   "metadata": {},
   "source": [
    "Согласно второй гипотезе, утром в понедельник в Москве преобладают одни жанры, а в Санкт-Петербурге — другие. Так же и вечером пятницы преобладают разные жанры — в зависимости от города."
   ]
  },
  {
   "cell_type": "markdown",
   "id": "5009697a",
   "metadata": {},
   "source": [
    "Сохраним таблицы с данными в две переменные:\n",
    "* по Москве — в `moscow_general`;\n",
    "* по Санкт-Петербургу — в `spb_general`."
   ]
  },
  {
   "cell_type": "code",
   "execution_count": 27,
   "id": "39a465b4",
   "metadata": {},
   "outputs": [],
   "source": [
    "# получение таблицы moscow_general из тех строк таблицы df,\n",
    "# для которых значение в столбце 'city' равно 'Moscow'\n",
    "moscow_general = df[df['city'] == 'Moscow']"
   ]
  },
  {
   "cell_type": "code",
   "execution_count": 28,
   "id": "09fdd541",
   "metadata": {},
   "outputs": [],
   "source": [
    "# получение таблицы spb_general из тех строк таблицы df,\n",
    "# для которых значение в столбце 'city' равно 'Saint-Petersburg'\n",
    "spb_general = df[df['city'] == 'Saint-Petersburg']"
   ]
  },
  {
   "cell_type": "markdown",
   "id": "25eb2857",
   "metadata": {},
   "source": [
    "Создадим функцию `genre_weekday()` с четырьмя параметрами:\n",
    "* таблица (датафрейм) с данными,\n",
    "* день недели,\n",
    "* начальная временная метка в формате 'hh:mm', \n",
    "* последняя временная метка в формате 'hh:mm'.\n",
    "\n",
    "Функция должна вернуть информацию о топ-10 жанров тех треков, которые прослушивали в указанный день, в промежутке между двумя отметками времени."
   ]
  },
  {
   "cell_type": "code",
   "execution_count": 29,
   "id": "0aa371ac",
   "metadata": {},
   "outputs": [],
   "source": [
    "def genre_weekday(table, day, time1, time2):\n",
    "    genre_df = table[table['day'] == day]\n",
    "    genre_df = genre_df[genre_df['time'] > time1]\n",
    "    genre_df = genre_df[genre_df['time'] < time2]\n",
    "    genre_df_count = genre_df.groupby('genre')['genre'].count()\n",
    "    genre_df_sorted = genre_df_count.sort_values(ascending=False)\n",
    "    \n",
    "    return genre_df_sorted[:10]"
   ]
  },
  {
   "cell_type": "markdown",
   "id": "804155c0",
   "metadata": {},
   "source": [
    "Cравним результаты функции `genre_weekday()` для Москвы и Санкт-Петербурга в понедельник утром (с 7:00 до 11:00) и в пятницу вечером (с 17:00 до 23:00):"
   ]
  },
  {
   "cell_type": "code",
   "execution_count": 30,
   "id": "f142c0aa",
   "metadata": {},
   "outputs": [
    {
     "data": {
      "text/plain": [
       "genre\n",
       "pop            781\n",
       "dance          549\n",
       "electronic     480\n",
       "rock           474\n",
       "hiphop         286\n",
       "ruspop         186\n",
       "world          181\n",
       "rusrap         175\n",
       "alternative    164\n",
       "unknown        161\n",
       "Name: genre, dtype: int64"
      ]
     },
     "execution_count": 30,
     "metadata": {},
     "output_type": "execute_result"
    }
   ],
   "source": [
    "# утро понедельника в Москве\n",
    "genre_weekday(moscow_general, 'Monday', '07:00', '11:00')"
   ]
  },
  {
   "cell_type": "code",
   "execution_count": 31,
   "id": "ed53d987",
   "metadata": {},
   "outputs": [
    {
     "data": {
      "text/plain": [
       "genre\n",
       "pop            218\n",
       "dance          182\n",
       "rock           162\n",
       "electronic     147\n",
       "hiphop          80\n",
       "ruspop          64\n",
       "alternative     58\n",
       "rusrap          55\n",
       "jazz            44\n",
       "classical       40\n",
       "Name: genre, dtype: int64"
      ]
     },
     "execution_count": 31,
     "metadata": {},
     "output_type": "execute_result"
    }
   ],
   "source": [
    "# утро понедельника в Санкт-Петербурге\n",
    "genre_weekday(spb_general, 'Monday', '07:00', '11:00')"
   ]
  },
  {
   "cell_type": "code",
   "execution_count": 32,
   "id": "c00123aa",
   "metadata": {},
   "outputs": [
    {
     "data": {
      "text/plain": [
       "genre\n",
       "pop            713\n",
       "rock           517\n",
       "dance          495\n",
       "electronic     482\n",
       "hiphop         273\n",
       "world          208\n",
       "ruspop         170\n",
       "alternative    163\n",
       "classical      163\n",
       "rusrap         142\n",
       "Name: genre, dtype: int64"
      ]
     },
     "execution_count": 32,
     "metadata": {},
     "output_type": "execute_result"
    }
   ],
   "source": [
    "# вечер пятницы в Москве\n",
    "genre_weekday(moscow_general, 'Friday', '17:00', '23:00')"
   ]
  },
  {
   "cell_type": "code",
   "execution_count": 33,
   "id": "02310046",
   "metadata": {},
   "outputs": [
    {
     "data": {
      "text/plain": [
       "genre\n",
       "pop            256\n",
       "electronic     216\n",
       "rock           216\n",
       "dance          210\n",
       "hiphop          97\n",
       "alternative     63\n",
       "jazz            61\n",
       "classical       60\n",
       "rusrap          59\n",
       "world           54\n",
       "Name: genre, dtype: int64"
      ]
     },
     "execution_count": 33,
     "metadata": {},
     "output_type": "execute_result"
    }
   ],
   "source": [
    "# вечер пятницы в Санкт-Петербурге\n",
    "genre_weekday(spb_general, 'Friday', '17:00', '23:00')"
   ]
  },
  {
   "cell_type": "markdown",
   "id": "049957b0",
   "metadata": {},
   "source": [
    "**Выводы**\n",
    "\n",
    "Если сравнить топ-10 жанров в понедельник утром, можно сделать такие выводы:\n",
    "\n",
    "1. В Москве и Санкт-Петербурге слушают похожую музыку. Единственное отличие — в московский рейтинг вошёл жанр *world*, а в петербургский — джаз и классика.\n",
    "\n",
    "2. В Москве пропущенных значений оказалось так много, что значение \"unknown\" заняло десятое место среди самых популярных жанров. Значит, пропущенные значения занимают существенную долю в данных и угрожают достоверности исследования.\n",
    "\n",
    "Вечер пятницы не меняет эту картину. Некоторые жанры поднимаются немного выше, другие спускаются, но в целом топ-10 остаётся тем же самым.\n",
    "\n",
    "Таким образом, вторая гипотеза подтвердилась лишь частично:\n",
    "- Пользователи слушают похожую музыку в начале недели и в конце.\n",
    "- Разница между Москвой и Санкт-Петербургом не слишком выражена. В Москве чаще слушают русскую популярную музыку, в Санкт-Петербурге — джаз.\n",
    "\n",
    "Однако пропуски в данных ставят под сомнение этот результат. В Москве их так много, что рейтинг топ-10 мог бы выглядеть иначе, если бы не утерянные  данные о жанрах."
   ]
  },
  {
   "cell_type": "markdown",
   "id": "fea65a8c",
   "metadata": {},
   "source": [
    "### Жанровые предпочтения в Москве и Санкт-Петербурге\n",
    "<a name=\"53\"></a> <div style=\"text-align: left\">[Cодержание](#Содержание)</div>"
   ]
  },
  {
   "cell_type": "markdown",
   "id": "64b5f9bb",
   "metadata": {},
   "source": [
    "Третья гипотеза: Санкт-Петербург — столица рэпа, музыку этого жанра там слушают чаще, чем в Москве.  А Москва — город контрастов, в котором, тем не менее, преобладает поп-музыка."
   ]
  },
  {
   "cell_type": "markdown",
   "id": "244eb7a0",
   "metadata": {},
   "source": [
    "Сгруппируем таблицу `moscow_general` по жанру и посчитаем прослушивания треков каждого жанра методом `.count()`. Затем отсортируем результат в порядке убывания и сохраним его в таблице `moscow_genres`."
   ]
  },
  {
   "cell_type": "code",
   "execution_count": 34,
   "id": "38a5d228",
   "metadata": {},
   "outputs": [],
   "source": [
    "# одной строкой: группировка таблицы moscow_general по столбцу 'genre',\n",
    "# подсчёт числа значений 'genre' в этой группировке методом count(),\n",
    "# сортировка получившегося Series в порядке убывания и сохранение в moscow_genres\n",
    "moscow_genres = moscow_general.groupby('genre')['genre']\\\n",
    ".count().sort_values(ascending=False)"
   ]
  },
  {
   "cell_type": "markdown",
   "id": "419c0f62",
   "metadata": {},
   "source": [
    "Выведем на экран первые десять строк `moscow_genres`."
   ]
  },
  {
   "cell_type": "code",
   "execution_count": 35,
   "id": "b37dad24",
   "metadata": {},
   "outputs": [
    {
     "data": {
      "text/plain": [
       "genre\n",
       "pop            5892\n",
       "dance          4435\n",
       "rock           3965\n",
       "electronic     3786\n",
       "hiphop         2096\n",
       "classical      1616\n",
       "world          1432\n",
       "alternative    1379\n",
       "ruspop         1372\n",
       "rusrap         1161\n",
       "Name: genre, dtype: int64"
      ]
     },
     "execution_count": 35,
     "metadata": {},
     "output_type": "execute_result"
    }
   ],
   "source": [
    "moscow_genres.head(10)"
   ]
  },
  {
   "cell_type": "markdown",
   "id": "5620d581",
   "metadata": {},
   "source": [
    "Теперь повторим то же и для Санкт-Петербурга.\n",
    "\n",
    "Сгруппируем таблицу `spb_general` по жанру. Посчитаем прослушивания треков каждого жанра. Результат отсортируем в порядке убывания и сохраним в таблице `spb_genres`."
   ]
  },
  {
   "cell_type": "code",
   "execution_count": 36,
   "id": "0de4b052",
   "metadata": {},
   "outputs": [],
   "source": [
    "# одной строкой: группировка таблицы spb_general по столбцу 'genre',\n",
    "# подсчёт числа значений 'genre' в этой группировке методом count(),\n",
    "# сортировка получившегося Series в порядке убывания и сохранение в spb_genres\n",
    "spb_genres = spb_general.groupby('genre')['genre']\\\n",
    ".count().sort_values(ascending=False)"
   ]
  },
  {
   "cell_type": "markdown",
   "id": "0336e2c4",
   "metadata": {},
   "source": [
    "Выведем на экран первые десять строк `spb_genres`."
   ]
  },
  {
   "cell_type": "code",
   "execution_count": 37,
   "id": "0b4932de",
   "metadata": {},
   "outputs": [
    {
     "data": {
      "text/plain": [
       "genre\n",
       "pop            2431\n",
       "dance          1932\n",
       "rock           1879\n",
       "electronic     1736\n",
       "hiphop          960\n",
       "alternative     649\n",
       "classical       646\n",
       "rusrap          564\n",
       "ruspop          538\n",
       "world           515\n",
       "Name: genre, dtype: int64"
      ]
     },
     "execution_count": 37,
     "metadata": {},
     "output_type": "execute_result"
    }
   ],
   "source": [
    "spb_genres.head(10)"
   ]
  },
  {
   "cell_type": "markdown",
   "id": "259676e6",
   "metadata": {},
   "source": [
    "**Выводы**\n",
    "\n",
    "Третья гипотеза не подтвердилась:\n",
    "- Поп-музыка — самый популярный жанр в Москве, как и предполагала гипотеза. Более того, в топ-10 жанров встречается близкий жанр — русская популярная музыка.\n",
    "- Поп-музыка — самый популярный жанр и в Санкт-Петербурге.\n",
    "- Вопреки ожиданиям, рэп одинаково популярен в Москве и Санкт-Петербурге.\n",
    "\n",
    "Если различия в предпочтениях и существуют, на основной массе пользователей они незаметны."
   ]
  },
  {
   "cell_type": "markdown",
   "id": "97b27d36",
   "metadata": {},
   "source": [
    "### Вывод\n",
    "<a name=\"54\"></a> <div style=\"text-align: left\">[Cодержание](#Содержание)</div>"
   ]
  },
  {
   "cell_type": "markdown",
   "id": "f1064615",
   "metadata": {},
   "source": [
    "В разделе [**Проверка гипотез**](#5.-Проверка-гипотез) были проверены три гипотезы:\n",
    "1. Пользователи по-разному слушают музыку в Москве и Санкт-Петербурге.\n",
    "2. Утром в понедельник в Москве преобладают одни жанры, а в Санкт-Петербурге — другие. Так же и вечером пятницы преобладают разные жанры — в зависимости от города.\n",
    "3. Санкт-Петербург — столица рэпа, музыку этого жанра там слушают чаще, чем в Москве. А Москва — город контрастов, в котором, тем не менее, преобладает поп-музыка.\n",
    "\n",
    "\n",
    "В результате выполнения задач этого раздела было выявлено следующее:\n",
    "\n",
    "1. Первая гипотеза подтвердилась:\n",
    "\n",
    "    - В Москве пик прослушиваний приходится на понедельник и пятницу, а в среду заметен спад.\n",
    "    - В Санкт-Петербурге, наоборот, больше слушают музыку по средам. Активность в понедельник и пятницу здесь почти в равной мере уступает среде.\n",
    "\n",
    "\n",
    "2. Вторая гипотеза подтвердилась частично: \n",
    "\n",
    "    - Пользователи слушают похожую музыку в начале недели и в конце.\n",
    "    - Разница между Москвой и Санкт-Петербургом не слишком выражена. В Москве чаще слушают русскую популярную музыку, в Санкт-Петербурге — джаз.\n",
    "\n",
    "\n",
    "Однако пропуски в данных ставят под сомнение этот результат. В Москве их так много, что рейтинг топ-10 мог бы выглядеть иначе, если бы не утерянные  данные о жанрах.\n",
    "\n",
    "\n",
    "3. Третья гипотеза не подтвердилась:\n",
    "- Поп-музыка — самый популярный жанр в Москве, как и предполагала гипотеза. Более того, в топ-10 жанров встречается близкий жанр — русская популярная музыка.\n",
    "- Поп-музыка — самый популярный жанр и в Санкт-Петербурге.\n",
    "- Вопреки ожиданиям, рэп одинаково популярен в Москве и Санкт-Петербурге.\n",
    "\n",
    "Если различия в предпочтениях и существуют, на основной массе пользователей они незаметны."
   ]
  },
  {
   "cell_type": "markdown",
   "id": "cfae1fe5",
   "metadata": {},
   "source": [
    "## Общий вывод\n",
    "<a name=\"6\"></a> <div style=\"text-align: left\">[Cодержание](#Содержание)</div>"
   ]
  },
  {
   "cell_type": "markdown",
   "id": "cc1c3702",
   "metadata": {},
   "source": [
    "Провести исследование с целью сравнить поведение пользователей Яндек.Музыки двух столиц.\n",
    "\n",
    "Входные данные: данные о поведении пользователей Яндек.Музыки.\n",
    "\n",
    "Перед проведением исследования были сформулированы три гипотезы:\n",
    "\n",
    "- Гипотеза 1: активность пользователей зависит от дня недели. Причём в Москве и Санкт-Петербурге это проявляется по-разному.\n",
    "- Гипотеза 2: в понедельник утром в Москве преобладают одни жанры, а в Санкт-Петербурге — другие. Так же и вечером пятницы преобладают разные жанры — в зависимости от города. \n",
    "- Гипотеза 3: Москва и Санкт-Петербург предпочитают разные жанры музыки. В Москве чаще слушают поп-музыку, в Санкт-Петербурге — русский рэп.\n",
    "\n",
    "В результате исследования мы проверили три гипотезы и установили:\n",
    "\n",
    "**Гипотеза 1 подтвердилась:**\n",
    "\n",
    "- День недели по-разному влияет на активность пользователей в Москве и Санкт-Петербурге. \n",
    "\n",
    "**Гипотеза 2 подтвердилась частично:**\n",
    "\n",
    "- Музыкальные предпочтения не сильно меняются в течение недели — будь то Москва или Санкт-Петербург. Небольшие различия заметны в начале недели, по понедельникам:\n",
    "    * в Москве слушают музыку жанра *world*,\n",
    "    * в Санкт-Петербурге — джаз и классику.\n",
    "\n",
    "Рекомендация: этот результат мог оказаться иным, если бы не пропуски в данных.\n",
    "\n",
    "**Гипотеза 3 не подтвердилась:**\n",
    "\n",
    "- Во вкусах пользователей Москвы и Санкт-Петербурга больше общего, чем различий. Вопреки ожиданиям, предпочтения жанров в Санкт-Петербурге напоминают московские.\n",
    "\n",
    "Рекомендация: если различия в предпочтениях и существуют, на основной массе пользователей они незаметны.\n",
    "\n",
    "\n",
    "**Общие рекомендации:**\n",
    "\n",
    "Было бы правильно установить причину пропусков и восстановить данные. Из данных одного сервиса не всегда можно сделать вывод о всех жителях города. Проверки статистических гипотез показывают, насколько они достоверны, исходя из имеющихся данных."
   ]
  }
 ],
 "metadata": {
  "kernelspec": {
   "display_name": "Python 3 (ipykernel)",
   "language": "python",
   "name": "python3"
  },
  "language_info": {
   "codemirror_mode": {
    "name": "ipython",
    "version": 3
   },
   "file_extension": ".py",
   "mimetype": "text/x-python",
   "name": "python",
   "nbconvert_exporter": "python",
   "pygments_lexer": "ipython3",
   "version": "3.9.13"
  },
  "toc": {
   "base_numbering": 1,
   "nav_menu": {},
   "number_sections": true,
   "sideBar": true,
   "skip_h1_title": true,
   "title_cell": "Table of Contents",
   "title_sidebar": "Contents",
   "toc_cell": false,
   "toc_position": {
    "height": "494.182px",
    "left": "89px",
    "top": "110.318px",
    "width": "219.125px"
   },
   "toc_section_display": true,
   "toc_window_display": true
  }
 },
 "nbformat": 4,
 "nbformat_minor": 5
}
