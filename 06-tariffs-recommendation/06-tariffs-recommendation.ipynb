{
 "cells": [
  {
   "cell_type": "markdown",
   "metadata": {},
   "source": [
    "# Рекомендация тарифов"
   ]
  },
  {
   "cell_type": "markdown",
   "metadata": {
    "toc": true
   },
   "source": [
    "<h1>Содержание<span class=\"tocSkip\"></span></h1>\n",
    "<div class=\"toc\"><ul class=\"toc-item\"><li><span><a href=\"#Описание-проекта\" data-toc-modified-id=\"Описание-проекта-0\"><span class=\"toc-item-num\">0&nbsp;&nbsp;</span>Описание проекта</a></span></li><li><span><a href=\"#Изучение-данных\" data-toc-modified-id=\"Изучение-данных-1\"><span class=\"toc-item-num\">1&nbsp;&nbsp;</span>Изучение данных</a></span><ul class=\"toc-item\"><li><span><a href=\"#Общая-информация-о-данных\" data-toc-modified-id=\"Общая-информация-о-данных-1.1\"><span class=\"toc-item-num\">1.1&nbsp;&nbsp;</span>Общая информация о данных</a></span></li><li><span><a href=\"#Вывод\" data-toc-modified-id=\"Вывод-1.2\"><span class=\"toc-item-num\">1.2&nbsp;&nbsp;</span>Вывод</a></span></li></ul></li><li><span><a href=\"#Разделение-данных-на-выборки\" data-toc-modified-id=\"Разделение-данных-на-выборки-2\"><span class=\"toc-item-num\">2&nbsp;&nbsp;</span>Разделение данных на выборки</a></span><ul class=\"toc-item\"><li><span><a href=\"#Разделение,-проверка-данных-на-корректность\" data-toc-modified-id=\"Разделение,-проверка-данных-на-корректность-2.1\"><span class=\"toc-item-num\">2.1&nbsp;&nbsp;</span>Разделение, проверка данных на корректность</a></span></li><li><span><a href=\"#Вывод\" data-toc-modified-id=\"Вывод-2.2\"><span class=\"toc-item-num\">2.2&nbsp;&nbsp;</span>Вывод</a></span></li></ul></li><li><span><a href=\"#Исследование-разных-моделей\" data-toc-modified-id=\"Исследование-разных-моделей-3\"><span class=\"toc-item-num\">3&nbsp;&nbsp;</span>Исследование разных моделей</a></span><ul class=\"toc-item\"><li><span><a href=\"#Модель-дерева-решений\" data-toc-modified-id=\"Модель-дерева-решений-3.1\"><span class=\"toc-item-num\">3.1&nbsp;&nbsp;</span>Модель дерева решений</a></span></li><li><span><a href=\"#Модель-случайного-леса\" data-toc-modified-id=\"Модель-случайного-леса-3.2\"><span class=\"toc-item-num\">3.2&nbsp;&nbsp;</span>Модель случайного леса</a></span></li><li><span><a href=\"#Модель-случайного-леса-с-GridSearchCV\" data-toc-modified-id=\"Модель-случайного-леса-с-GridSearchCV-3.3\"><span class=\"toc-item-num\">3.3&nbsp;&nbsp;</span>Модель случайного леса с <em>GridSearchCV</em></a></span></li><li><span><a href=\"#Модель-логистической-регрессии\" data-toc-modified-id=\"Модель-логистической-регрессии-3.4\"><span class=\"toc-item-num\">3.4&nbsp;&nbsp;</span>Модель логистической регрессии</a></span></li><li><span><a href=\"#Итоговая-таблица-метрик\" data-toc-modified-id=\"Итоговая-таблица-метрик-3.5\"><span class=\"toc-item-num\">3.5&nbsp;&nbsp;</span>Итоговая таблица метрик</a></span></li><li><span><a href=\"#Вывод\" data-toc-modified-id=\"Вывод-3.6\"><span class=\"toc-item-num\">3.6&nbsp;&nbsp;</span>Вывод</a></span></li></ul></li><li><span><a href=\"#Тестирование-лучшей-модели\" data-toc-modified-id=\"Тестирование-лучшей-модели-4\"><span class=\"toc-item-num\">4&nbsp;&nbsp;</span>Тестирование лучшей модели</a></span><ul class=\"toc-item\"><li><span><a href=\"#Качество-модели-на-тестовой-выборке\" data-toc-modified-id=\"Качество-модели-на-тестовой-выборке-4.1\"><span class=\"toc-item-num\">4.1&nbsp;&nbsp;</span>Качество модели на тестовой выборке</a></span></li><li><span><a href=\"#Вывод\" data-toc-modified-id=\"Вывод-4.2\"><span class=\"toc-item-num\">4.2&nbsp;&nbsp;</span>Вывод</a></span></li></ul></li><li><span><a href=\"#Проверка-лучшей-модели-на-адекватность\" data-toc-modified-id=\"Проверка-лучшей-модели-на-адекватность-5\"><span class=\"toc-item-num\">5&nbsp;&nbsp;</span>Проверка лучшей модели на адекватность</a></span><ul class=\"toc-item\"><li><span><a href=\"#Сравнение-с-константной-моделью-(DummyClassifier)\" data-toc-modified-id=\"Сравнение-с-константной-моделью-(DummyClassifier)-5.1\"><span class=\"toc-item-num\">5.1&nbsp;&nbsp;</span>Сравнение с константной моделью (<em>DummyClassifier</em>)</a></span></li><li><span><a href=\"#Вывод\" data-toc-modified-id=\"Вывод-5.2\"><span class=\"toc-item-num\">5.2&nbsp;&nbsp;</span>Вывод</a></span></li></ul></li><li><span><a href=\"#Общий-вывод\" data-toc-modified-id=\"Общий-вывод-6\"><span class=\"toc-item-num\">6&nbsp;&nbsp;</span>Общий вывод</a></span></li></ul></div>"
   ]
  },
  {
   "cell_type": "markdown",
   "metadata": {},
   "source": [
    "## Описание проекта\n",
    "\n",
    "Оператор мобильной связи «Мегалайн» выяснил: многие клиенты пользуются архивными тарифами. Они хотят построить систему, способную проанализировать поведение клиентов и предложить пользователям новый тариф: «Смарт» или «Ультра».\n",
    "\n",
    "В нашем распоряжении данные о поведении клиентов, которые уже перешли на эти тарифы (из проекта «Определение выгодного тарифа для телеком компании» темы №4 «Статистический анализ данных»). Нужно построить модель для задачи классификации, которая выберет подходящий тариф. Предобработка данных уже была проведена в проекте №4.\n",
    "\n",
    "Необходимо построить модель с максимально большим значением *accuracy*: нужно довести долю правильных ответов по крайней мере до 0.75. А также, проверим *accuracy* на тестовой выборке."
   ]
  },
  {
   "cell_type": "markdown",
   "metadata": {},
   "source": [
    "**Цель проекта**\n",
    "\n",
    "Провести исследование с целью выбрать самую качественную модель, которая выберет и предложит пользователям, на основании их поведения подходящий тариф, из новой линейки тарифов - «Смарт» либо «Ультра».\n",
    "\n",
    "**План работы**\n",
    "\n",
    "1. Изучение общей информации о данных.\n",
    "2. Разделение данных на выборки.\n",
    "3. Исследование разных моделей.\n",
    "4. Тестирование лучшей модели.\n",
    "5. Проверка лучшей модели на адекватность.\n",
    "\n",
    "**Описание данных** \n",
    "\n",
    "Каждый объект в наборе данных — это информация о поведении одного пользователя за месяц. Известно:\n",
    "* сalls — количество звонков,\n",
    "* minutes — суммарная длительность звонков в минутах,\n",
    "* messages — количество sms-сообщений,\n",
    "* mb_used — израсходованный интернет-трафик в Мб,\n",
    "* is_ultra — каким тарифом пользовался в течение месяца («Ультра» — 1, «Смарт» — 0)."
   ]
  },
  {
   "cell_type": "markdown",
   "metadata": {},
   "source": [
    "## Изучение данных\n",
    "<a name=\"2\"></a> <div style=\"text-align: left\">[(к содержанию)](#Содержание)</div>"
   ]
  },
  {
   "cell_type": "markdown",
   "metadata": {},
   "source": [
    "### Общая информация о данных"
   ]
  },
  {
   "cell_type": "code",
   "execution_count": 38,
   "metadata": {},
   "outputs": [],
   "source": [
    "# импортируем необходимые библиотеки\n",
    "import pandas as pd\n",
    "import numpy as np\n",
    "import seaborn as sns\n",
    "import matplotlib.pyplot as plt\n",
    "\n",
    "import json\n",
    "import time\n",
    "import warnings\n",
    "warnings.filterwarnings(\"ignore\")\n",
    "from tqdm import tqdm\n",
    "\n",
    "from sklearn import tree\n",
    "from sklearn.dummy import DummyClassifier\n",
    "from sklearn.ensemble import RandomForestClassifier\n",
    "from sklearn.linear_model import LogisticRegression\n",
    "from sklearn.metrics import accuracy_score\n",
    "from sklearn.model_selection import GridSearchCV, train_test_split\n",
    "from sklearn.tree import DecisionTreeClassifier"
   ]
  },
  {
   "cell_type": "code",
   "execution_count": 39,
   "metadata": {},
   "outputs": [],
   "source": [
    "try:\n",
    "    data = pd.read_csv('/datasets/users_behavior.csv')\n",
    "except:\n",
    "    data = pd.read_csv('/users_behavior.csv')"
   ]
  },
  {
   "cell_type": "markdown",
   "metadata": {},
   "source": [
    "Выведем первые 10 строк датафрейма `data`."
   ]
  },
  {
   "cell_type": "code",
   "execution_count": 40,
   "metadata": {
    "scrolled": true
   },
   "outputs": [
    {
     "data": {
      "text/html": [
       "<div>\n",
       "<style scoped>\n",
       "    .dataframe tbody tr th:only-of-type {\n",
       "        vertical-align: middle;\n",
       "    }\n",
       "\n",
       "    .dataframe tbody tr th {\n",
       "        vertical-align: top;\n",
       "    }\n",
       "\n",
       "    .dataframe thead th {\n",
       "        text-align: right;\n",
       "    }\n",
       "</style>\n",
       "<table border=\"1\" class=\"dataframe\">\n",
       "  <thead>\n",
       "    <tr style=\"text-align: right;\">\n",
       "      <th></th>\n",
       "      <th>calls</th>\n",
       "      <th>minutes</th>\n",
       "      <th>messages</th>\n",
       "      <th>mb_used</th>\n",
       "      <th>is_ultra</th>\n",
       "    </tr>\n",
       "  </thead>\n",
       "  <tbody>\n",
       "    <tr>\n",
       "      <th>0</th>\n",
       "      <td>40.0</td>\n",
       "      <td>311.90</td>\n",
       "      <td>83.0</td>\n",
       "      <td>19915.42</td>\n",
       "      <td>0</td>\n",
       "    </tr>\n",
       "    <tr>\n",
       "      <th>1</th>\n",
       "      <td>85.0</td>\n",
       "      <td>516.75</td>\n",
       "      <td>56.0</td>\n",
       "      <td>22696.96</td>\n",
       "      <td>0</td>\n",
       "    </tr>\n",
       "    <tr>\n",
       "      <th>2</th>\n",
       "      <td>77.0</td>\n",
       "      <td>467.66</td>\n",
       "      <td>86.0</td>\n",
       "      <td>21060.45</td>\n",
       "      <td>0</td>\n",
       "    </tr>\n",
       "    <tr>\n",
       "      <th>3</th>\n",
       "      <td>106.0</td>\n",
       "      <td>745.53</td>\n",
       "      <td>81.0</td>\n",
       "      <td>8437.39</td>\n",
       "      <td>1</td>\n",
       "    </tr>\n",
       "    <tr>\n",
       "      <th>4</th>\n",
       "      <td>66.0</td>\n",
       "      <td>418.74</td>\n",
       "      <td>1.0</td>\n",
       "      <td>14502.75</td>\n",
       "      <td>0</td>\n",
       "    </tr>\n",
       "    <tr>\n",
       "      <th>5</th>\n",
       "      <td>58.0</td>\n",
       "      <td>344.56</td>\n",
       "      <td>21.0</td>\n",
       "      <td>15823.37</td>\n",
       "      <td>0</td>\n",
       "    </tr>\n",
       "    <tr>\n",
       "      <th>6</th>\n",
       "      <td>57.0</td>\n",
       "      <td>431.64</td>\n",
       "      <td>20.0</td>\n",
       "      <td>3738.90</td>\n",
       "      <td>1</td>\n",
       "    </tr>\n",
       "    <tr>\n",
       "      <th>7</th>\n",
       "      <td>15.0</td>\n",
       "      <td>132.40</td>\n",
       "      <td>6.0</td>\n",
       "      <td>21911.60</td>\n",
       "      <td>0</td>\n",
       "    </tr>\n",
       "    <tr>\n",
       "      <th>8</th>\n",
       "      <td>7.0</td>\n",
       "      <td>43.39</td>\n",
       "      <td>3.0</td>\n",
       "      <td>2538.67</td>\n",
       "      <td>1</td>\n",
       "    </tr>\n",
       "    <tr>\n",
       "      <th>9</th>\n",
       "      <td>90.0</td>\n",
       "      <td>665.41</td>\n",
       "      <td>38.0</td>\n",
       "      <td>17358.61</td>\n",
       "      <td>0</td>\n",
       "    </tr>\n",
       "  </tbody>\n",
       "</table>\n",
       "</div>"
      ],
      "text/plain": [
       "   calls  minutes  messages   mb_used  is_ultra\n",
       "0   40.0   311.90      83.0  19915.42         0\n",
       "1   85.0   516.75      56.0  22696.96         0\n",
       "2   77.0   467.66      86.0  21060.45         0\n",
       "3  106.0   745.53      81.0   8437.39         1\n",
       "4   66.0   418.74       1.0  14502.75         0\n",
       "5   58.0   344.56      21.0  15823.37         0\n",
       "6   57.0   431.64      20.0   3738.90         1\n",
       "7   15.0   132.40       6.0  21911.60         0\n",
       "8    7.0    43.39       3.0   2538.67         1\n",
       "9   90.0   665.41      38.0  17358.61         0"
      ]
     },
     "execution_count": 40,
     "metadata": {},
     "output_type": "execute_result"
    }
   ],
   "source": [
    "data.head(10)"
   ]
  },
  {
   "cell_type": "markdown",
   "metadata": {},
   "source": [
    "Выведем основную информацию о датафрейме `data`."
   ]
  },
  {
   "cell_type": "code",
   "execution_count": 41,
   "metadata": {},
   "outputs": [
    {
     "name": "stdout",
     "output_type": "stream",
     "text": [
      "<class 'pandas.core.frame.DataFrame'>\n",
      "RangeIndex: 3214 entries, 0 to 3213\n",
      "Data columns (total 5 columns):\n",
      " #   Column    Non-Null Count  Dtype  \n",
      "---  ------    --------------  -----  \n",
      " 0   calls     3214 non-null   float64\n",
      " 1   minutes   3214 non-null   float64\n",
      " 2   messages  3214 non-null   float64\n",
      " 3   mb_used   3214 non-null   float64\n",
      " 4   is_ultra  3214 non-null   int64  \n",
      "dtypes: float64(4), int64(1)\n",
      "memory usage: 125.7 KB\n"
     ]
    }
   ],
   "source": [
    "data.info()"
   ]
  },
  {
   "cell_type": "code",
   "execution_count": 42,
   "metadata": {},
   "outputs": [
    {
     "data": {
      "text/html": [
       "<div>\n",
       "<style scoped>\n",
       "    .dataframe tbody tr th:only-of-type {\n",
       "        vertical-align: middle;\n",
       "    }\n",
       "\n",
       "    .dataframe tbody tr th {\n",
       "        vertical-align: top;\n",
       "    }\n",
       "\n",
       "    .dataframe thead th {\n",
       "        text-align: right;\n",
       "    }\n",
       "</style>\n",
       "<table border=\"1\" class=\"dataframe\">\n",
       "  <thead>\n",
       "    <tr style=\"text-align: right;\">\n",
       "      <th></th>\n",
       "      <th>calls</th>\n",
       "      <th>minutes</th>\n",
       "      <th>messages</th>\n",
       "      <th>mb_used</th>\n",
       "      <th>is_ultra</th>\n",
       "    </tr>\n",
       "  </thead>\n",
       "  <tbody>\n",
       "    <tr>\n",
       "      <th>count</th>\n",
       "      <td>3214.000000</td>\n",
       "      <td>3214.000000</td>\n",
       "      <td>3214.000000</td>\n",
       "      <td>3214.000000</td>\n",
       "      <td>3214.000000</td>\n",
       "    </tr>\n",
       "    <tr>\n",
       "      <th>mean</th>\n",
       "      <td>63.038892</td>\n",
       "      <td>438.208787</td>\n",
       "      <td>38.281269</td>\n",
       "      <td>17207.673836</td>\n",
       "      <td>0.306472</td>\n",
       "    </tr>\n",
       "    <tr>\n",
       "      <th>std</th>\n",
       "      <td>33.236368</td>\n",
       "      <td>234.569872</td>\n",
       "      <td>36.148326</td>\n",
       "      <td>7570.968246</td>\n",
       "      <td>0.461100</td>\n",
       "    </tr>\n",
       "    <tr>\n",
       "      <th>min</th>\n",
       "      <td>0.000000</td>\n",
       "      <td>0.000000</td>\n",
       "      <td>0.000000</td>\n",
       "      <td>0.000000</td>\n",
       "      <td>0.000000</td>\n",
       "    </tr>\n",
       "    <tr>\n",
       "      <th>25%</th>\n",
       "      <td>40.000000</td>\n",
       "      <td>274.575000</td>\n",
       "      <td>9.000000</td>\n",
       "      <td>12491.902500</td>\n",
       "      <td>0.000000</td>\n",
       "    </tr>\n",
       "    <tr>\n",
       "      <th>50%</th>\n",
       "      <td>62.000000</td>\n",
       "      <td>430.600000</td>\n",
       "      <td>30.000000</td>\n",
       "      <td>16943.235000</td>\n",
       "      <td>0.000000</td>\n",
       "    </tr>\n",
       "    <tr>\n",
       "      <th>75%</th>\n",
       "      <td>82.000000</td>\n",
       "      <td>571.927500</td>\n",
       "      <td>57.000000</td>\n",
       "      <td>21424.700000</td>\n",
       "      <td>1.000000</td>\n",
       "    </tr>\n",
       "    <tr>\n",
       "      <th>max</th>\n",
       "      <td>244.000000</td>\n",
       "      <td>1632.060000</td>\n",
       "      <td>224.000000</td>\n",
       "      <td>49745.730000</td>\n",
       "      <td>1.000000</td>\n",
       "    </tr>\n",
       "  </tbody>\n",
       "</table>\n",
       "</div>"
      ],
      "text/plain": [
       "             calls      minutes     messages       mb_used     is_ultra\n",
       "count  3214.000000  3214.000000  3214.000000   3214.000000  3214.000000\n",
       "mean     63.038892   438.208787    38.281269  17207.673836     0.306472\n",
       "std      33.236368   234.569872    36.148326   7570.968246     0.461100\n",
       "min       0.000000     0.000000     0.000000      0.000000     0.000000\n",
       "25%      40.000000   274.575000     9.000000  12491.902500     0.000000\n",
       "50%      62.000000   430.600000    30.000000  16943.235000     0.000000\n",
       "75%      82.000000   571.927500    57.000000  21424.700000     1.000000\n",
       "max     244.000000  1632.060000   224.000000  49745.730000     1.000000"
      ]
     },
     "execution_count": 42,
     "metadata": {},
     "output_type": "execute_result"
    }
   ],
   "source": [
    "data.describe()"
   ]
  },
  {
   "cell_type": "markdown",
   "metadata": {},
   "source": [
    "Как видно, четыре первых столбца (`calls`, `minutes`, `messages` и `mb_used`) задают входные признаки, на которых нужно научиться предсказывать последний столбец - тарифный план, который больше подойдёт абоненту, описываемому данной строкой входных признаков. Здесь `is_ultra==1` означает, что абонент на данный момент пользуется тарифом \"_Ultra_\", а значание `is_ultra==0` говорит об использовании тарифа \"_Smart_\". "
   ]
  },
  {
   "cell_type": "code",
   "execution_count": 43,
   "metadata": {},
   "outputs": [
    {
     "data": {
      "text/html": [
       "<div>\n",
       "<style scoped>\n",
       "    .dataframe tbody tr th:only-of-type {\n",
       "        vertical-align: middle;\n",
       "    }\n",
       "\n",
       "    .dataframe tbody tr th {\n",
       "        vertical-align: top;\n",
       "    }\n",
       "\n",
       "    .dataframe thead th {\n",
       "        text-align: right;\n",
       "    }\n",
       "</style>\n",
       "<table border=\"1\" class=\"dataframe\">\n",
       "  <thead>\n",
       "    <tr style=\"text-align: right;\">\n",
       "      <th></th>\n",
       "      <th>calls</th>\n",
       "      <th>minutes</th>\n",
       "      <th>messages</th>\n",
       "      <th>mb_used</th>\n",
       "      <th>is_ultra</th>\n",
       "    </tr>\n",
       "  </thead>\n",
       "  <tbody>\n",
       "    <tr>\n",
       "      <th>calls</th>\n",
       "      <td>1.000000</td>\n",
       "      <td>0.982083</td>\n",
       "      <td>0.177385</td>\n",
       "      <td>0.286442</td>\n",
       "      <td>0.207122</td>\n",
       "    </tr>\n",
       "    <tr>\n",
       "      <th>minutes</th>\n",
       "      <td>0.982083</td>\n",
       "      <td>1.000000</td>\n",
       "      <td>0.173110</td>\n",
       "      <td>0.280967</td>\n",
       "      <td>0.206955</td>\n",
       "    </tr>\n",
       "    <tr>\n",
       "      <th>messages</th>\n",
       "      <td>0.177385</td>\n",
       "      <td>0.173110</td>\n",
       "      <td>1.000000</td>\n",
       "      <td>0.195721</td>\n",
       "      <td>0.203830</td>\n",
       "    </tr>\n",
       "    <tr>\n",
       "      <th>mb_used</th>\n",
       "      <td>0.286442</td>\n",
       "      <td>0.280967</td>\n",
       "      <td>0.195721</td>\n",
       "      <td>1.000000</td>\n",
       "      <td>0.198568</td>\n",
       "    </tr>\n",
       "    <tr>\n",
       "      <th>is_ultra</th>\n",
       "      <td>0.207122</td>\n",
       "      <td>0.206955</td>\n",
       "      <td>0.203830</td>\n",
       "      <td>0.198568</td>\n",
       "      <td>1.000000</td>\n",
       "    </tr>\n",
       "  </tbody>\n",
       "</table>\n",
       "</div>"
      ],
      "text/plain": [
       "             calls   minutes  messages   mb_used  is_ultra\n",
       "calls     1.000000  0.982083  0.177385  0.286442  0.207122\n",
       "minutes   0.982083  1.000000  0.173110  0.280967  0.206955\n",
       "messages  0.177385  0.173110  1.000000  0.195721  0.203830\n",
       "mb_used   0.286442  0.280967  0.195721  1.000000  0.198568\n",
       "is_ultra  0.207122  0.206955  0.203830  0.198568  1.000000"
      ]
     },
     "execution_count": 43,
     "metadata": {},
     "output_type": "execute_result"
    }
   ],
   "source": [
    "data.corr()"
   ]
  },
  {
   "cell_type": "markdown",
   "metadata": {},
   "source": [
    "У признака `calls` имеется очень высокая корреляция (> 0.98) с признаком `minutes`. Но в нашем исследовании будут применяться модели, устойчивые к мультиколлинеарности, поэтому не будем удалять и оставим эти столбцы как есть, для полноты информации."
   ]
  },
  {
   "cell_type": "markdown",
   "metadata": {},
   "source": [
    "Проверим датафрейм на сбалансированность классов в таргете."
   ]
  },
  {
   "cell_type": "code",
   "execution_count": 44,
   "metadata": {},
   "outputs": [
    {
     "data": {
      "text/plain": [
       "0    2229\n",
       "1     985\n",
       "Name: is_ultra, dtype: int64"
      ]
     },
     "execution_count": 44,
     "metadata": {},
     "output_type": "execute_result"
    }
   ],
   "source": [
    "data['is_ultra'].value_counts()"
   ]
  },
  {
   "cell_type": "markdown",
   "metadata": {},
   "source": [
    "Количество значений класса \"0\" более чем в 2 раза больше, чем количество значений класса \"1\". Это означает, что целевой признак несбалансирован: в течение месяца тарифом «Смарт» пользовались в 2 раза чаще, чем тарифом «Ультра»."
   ]
  },
  {
   "cell_type": "markdown",
   "metadata": {},
   "source": [
    "### Вывод\n",
    "<font size=\"2\">([к содержанию](#Содержание))</font>"
   ]
  },
  {
   "cell_type": "markdown",
   "metadata": {},
   "source": [
    "В разделе [**Изучение данных**](#Изучение-данных) были выполнены следующие задачи:\n",
    "1. Данные загружены из файла в датафрейм.\n",
    "2. Изучена общая информация о полученном датафрейме.\n",
    "3. Проверена корреляция между признаками в датафрейме.\n",
    "4. Датафрейм проверен на сбалансированность классов в таргете.\n",
    "   \n",
    "В результате выполнения задач этого раздела было выявлено следующее:\n",
    "1. Наличие только двух возможных значений целевого признака говорит о том, что мы будем решать задачу бинарной классификации.\n",
    "2. Типы признаков соответствуют их значениям.\n",
    "4. У признака `calls` обнаружена высокая корреляция (> 0.98) с признаком `minutes`.\n",
    "5. В целевом признаке значений класса \"0\" почти в 2 раза больше, чем значений класса \"1\". Это означает, что целевой признак несбалансирован: в течение месяца тарифом «Смарт» пользовались в 2 раза чаще, чем тарифом «Ультра»."
   ]
  },
  {
   "cell_type": "markdown",
   "metadata": {},
   "source": [
    "## Разделение данных на выборки\n",
    "<font size=\"2\">([к содержанию](#Содержание))</font>"
   ]
  },
  {
   "cell_type": "markdown",
   "metadata": {},
   "source": [
    "### Разделение, проверка данных на корректность"
   ]
  },
  {
   "cell_type": "markdown",
   "metadata": {},
   "source": [
    "Используя `sklearn.model_selection.train_test_split()` дважды, разделим исходные данные на обучающую (`features_train` и `target_train`), валидационную (`features_valid` и `target_valid`) и тестовую (`features_test` и `target_test`) выборки.\n",
    "\n",
    "При этом сначала выделим `25%` данных для тестовой части. Оставшиеся `75%` разделим ещё раз, выделяя `80%` от них для тренировочной части и `20%` - для валидационной.\n",
    "\n",
    "Также для корректного разбиения датасетов применим аргумент `stratify`. Для постоянства результата зададим `random_state=12345`."
   ]
  },
  {
   "cell_type": "code",
   "execution_count": 45,
   "metadata": {},
   "outputs": [],
   "source": [
    "# выделим из исходных данных data тестовую выборку data_test (25%)\n",
    "data_train_valid, data_test = train_test_split(data, test_size=0.25, \n",
    "                                                                        random_state=12345, \n",
    "                                                                        stratify=data['is_ultra'])\n",
    "\n",
    "# выделим из оставшихся данных data_train_valid обучающую и валидационную выборки\n",
    "# примечание: 15% от исходных данных data - это 20% от оставшихся df_train_valid\n",
    "data_train, data_valid = train_test_split(data_train_valid, \n",
    "                                                                test_size=0.20, \n",
    "                                                                random_state=12345, \n",
    "                                                                stratify=data_train_valid['is_ultra'])\n",
    "\n",
    "# сохраним признаки в отдельных переменных\n",
    "features_test = data_test.drop('is_ultra', axis=1)\n",
    "target_test = data_test['is_ultra']\n",
    "\n",
    "features_train = data_train.drop('is_ultra', axis=1)\n",
    "target_train = data_train['is_ultra']\n",
    "\n",
    "features_valid = data_valid.drop('is_ultra', axis=1)\n",
    "target_valid = data_valid['is_ultra']\n",
    "\n",
    "# признаки для использования функции GridSearchCV в модели случайного леса\n",
    "features_train_valid = data_train_valid.drop('is_ultra', axis=1)\n",
    "target_train_valid = data_train_valid['is_ultra']"
   ]
  },
  {
   "cell_type": "markdown",
   "metadata": {},
   "source": [
    "Давайте проверим корректность разбиения датасетов:"
   ]
  },
  {
   "cell_type": "code",
   "execution_count": 46,
   "metadata": {},
   "outputs": [
    {
     "name": "stdout",
     "output_type": "stream",
     "text": [
      "Тестовая выборка составляет 25.02 % от исходного датасета data\n",
      "Валидационная выборка составляет 15.00 % от исходного датасета data\n",
      "Валидационная выборка составляет 20.00 % от датасета data_train_valid\n"
     ]
    }
   ],
   "source": [
    "print(f'Тестовая выборка составляет '\n",
    "      f'{data_test.shape[0]/data.shape[0]*100:.2f} % '\n",
    "      'от исходного датасета data')\n",
    "print(f'Валидационная выборка составляет '\n",
    "      f'{data_valid.shape[0]/data.shape[0]*100:.2f} % '\n",
    "      'от исходного датасета data')\n",
    "print(f'Валидационная выборка составляет '\n",
    "      f'{data_valid.shape[0]/data_train_valid.shape[0]*100:.2f} % '\n",
    "      'от датасета data_train_valid')"
   ]
  },
  {
   "cell_type": "markdown",
   "metadata": {},
   "source": [
    "По выводу видно, что наши исходные данные разделены корректно."
   ]
  },
  {
   "cell_type": "markdown",
   "metadata": {},
   "source": [
    "### Вывод\n",
    "<font size=\"2\">([к содержанию](#Содержание))</font>"
   ]
  },
  {
   "cell_type": "markdown",
   "metadata": {},
   "source": [
    "В разделе [**Разделение данных на выборки**](#Разделение-данных-на-выборки) были выполнены следующие задачи:\n",
    "1. Разделение исходных данных на обучающую, валидационную и тестовую выборки в пропорции 3:1:1.\n",
    "2. Выполнена проверка на корректность разбиения наших датасетов.\n",
    "   \n",
    "В результате выполнения задач этого раздела выявлено, что разбиение датасетов было выполнено корректно:\n",
    "\n",
    "```\n",
    "Тестовая выборка составляет: 25.02 % от исходного датасета data\n",
    "Валидационная выборка составляет: 15.00 % от исходного датасета data\n",
    "Валидационная выборка составляет: 20.00 % от датасета data_train_valid\n",
    "```"
   ]
  },
  {
   "cell_type": "markdown",
   "metadata": {},
   "source": [
    "## Исследование разных моделей\n",
    "<font size=\"2\">([к содержанию](#Содержание))</font>"
   ]
  },
  {
   "cell_type": "markdown",
   "metadata": {},
   "source": [
    "Исследуем качество *accuracy* разных моделей, меняя гиперпараметры. В итоге нам нужно получить лучшую модель - модель с самым высоким значением метрики *accuracy*.\n",
    "\n",
    "Будем использовать следующие известные нам на данный момент модели:\n",
    "\n",
    "- дерево решений (`DecisionTreeClassifier`);\n",
    "- случайный лес (`RandomForestClassifier`);\n",
    "- случайный лес (`RandomForestClassifier`) с применением `GridSearchCV`;\n",
    "- логистическую регрессию (`LogisticRegression`)."
   ]
  },
  {
   "cell_type": "markdown",
   "metadata": {},
   "source": [
    "### Модель дерева решений\n",
    "<font size=\"2\">([к содержанию](#Содержание))</font>"
   ]
  },
  {
   "cell_type": "markdown",
   "metadata": {},
   "source": [
    "Обучим модель, затем классифицируем валидационные данные с помощью **дерева решений** и получим метрику качества.\n",
    "\n",
    "Для построения графиков зависимости метрики качества *accuracy* (доля правильных ответов) от глубины дерева `max_depth` на обучающей и валидационной выборках дополнительно создадим следующие списки:\n",
    "- `depth_dt` - список со значениями глубины дерева `max_depth`;\n",
    "- `accuracy_dt_train` - список со значениями качества модели *accuracy* на обучающей выборке;\n",
    "- `accuracy_dt_valid` - список со значениями качества модели *accuracy* на валидационной выборке.\n",
    "\n",
    "Задействуем библиотеку `tqdm`, которая позволяет наглядно проиллюстрировать ход выполнения программы."
   ]
  },
  {
   "cell_type": "code",
   "execution_count": 47,
   "metadata": {
    "scrolled": true
   },
   "outputs": [
    {
     "name": "stderr",
     "output_type": "stream",
     "text": [
      "100%|██████████| 20/20 [00:00<00:00, 82.94it/s]"
     ]
    },
    {
     "name": "stdout",
     "output_type": "stream",
     "text": [
      "Лучшая модель: DecisionTreeClassifier(max_depth=9, random_state=12345)\n",
      "Глубина дерева лучшей модели: 9\n",
      "Метрика accuracy лучшей модели: 0.80\n",
      "----------------------------------------------------------------\n",
      "CPU times: user 210 ms, sys: 0 ns, total: 210 ms\n",
      "Wall time: 244 ms\n"
     ]
    },
    {
     "name": "stderr",
     "output_type": "stream",
     "text": [
      "\n"
     ]
    }
   ],
   "source": [
    "%%time\n",
    "# лучшая модель (модель с самым высоким значением метрики accuracy)\n",
    "best_model_dt = None\n",
    "# глубина дерева лучшей модели\n",
    "best_depth_dt = 0\n",
    "# метрика accuracy лучшей модели\n",
    "best_result_dt = 0\n",
    "\n",
    "# список с глубиной дерева max_depth (для графиков)\n",
    "depth_dt = []\n",
    "# список с качеством модели accuracy на обучающей выборке (для графиков)\n",
    "accuracy_dt_train = []\n",
    "# список с качеством модели accuracy на валидационной выборке (для графиков)\n",
    "accuracy_dt_valid = []\n",
    "\n",
    "# напишем цикл для гиперпараметра max_depth от 1 до 20\n",
    "for depth in tqdm(range(1, 21)):\n",
    "    # создадим модель дерева решений model_dt\n",
    "    # с заданной глубиной дерева max_depth=depth\n",
    "    model_dt = DecisionTreeClassifier(random_state=12345, \n",
    "                                      max_depth=depth)\n",
    "    # обучим модель на обучающей выборке\n",
    "    model_dt.fit(features_train, target_train) \n",
    "    # посчитаем качество модели accuracy на обучающей выборке\n",
    "    result_train = model_dt.score(features_train, target_train)\n",
    "    # посчитаем качество модели accuracy на валидационной выборке\n",
    "    result_valid = model_dt.score(features_valid, target_valid)\n",
    "    # добавление в список с глубиной дерева max_depth \n",
    "    depth_dt.append(depth)\n",
    "    # добавление в список с качеством модели accuracy на обучающей выборке\n",
    "    accuracy_dt_train.append(result_train)\n",
    "    # добавление в список с качеством модели accuracy на валидационной выборке\n",
    "    accuracy_dt_valid.append(result_valid)\n",
    "    # сохраним лучшие параметры\n",
    "    if result_valid > best_result_dt:\n",
    "        # сохраним лучшую модель\n",
    "        best_model_dt = model_dt \n",
    "        # сохраним глубину дерева лучшей модели на валидационной выборке\n",
    "        best_depth_dt = depth \n",
    "        # сохраним метрику accuracy лучшей модели на валидационной выборке\n",
    "        best_result_dt = result_valid   \n",
    "\n",
    "print('Лучшая модель:', best_model_dt)\n",
    "print('Глубина дерева лучшей модели:', best_depth_dt)\n",
    "print(f'Метрика accuracy лучшей модели: {best_result_dt:.2f}')\n",
    "print('----------------------------------------------------------------')"
   ]
  },
  {
   "cell_type": "markdown",
   "metadata": {},
   "source": [
    "Лучшая модель дерева решений ***DecisionTreeClassifier*** на валидационной выборке имеет метрику качества ***accuracy = 0.80***, при глубине дерева `max_depth` = 9.\n",
    "\n",
    "Выведем полученные списки `depth_dt`, `accuracy_dt_train` и `accuracy_dt_valid`."
   ]
  },
  {
   "cell_type": "code",
   "execution_count": 48,
   "metadata": {},
   "outputs": [
    {
     "data": {
      "text/plain": [
       "[1, 2, 3, 4, 5, 6, 7, 8, 9, 10, 11, 12, 13, 14, 15, 16, 17, 18, 19, 20]"
      ]
     },
     "execution_count": 48,
     "metadata": {},
     "output_type": "execute_result"
    }
   ],
   "source": [
    "# список с глубиной дерева max_depth\n",
    "depth_dt"
   ]
  },
  {
   "cell_type": "code",
   "execution_count": 49,
   "metadata": {},
   "outputs": [
    {
     "data": {
      "text/plain": [
       "[0.7531120331950207,\n",
       " 0.783195020746888,\n",
       " 0.7992738589211619,\n",
       " 0.8086099585062241,\n",
       " 0.8220954356846473,\n",
       " 0.8371369294605809,\n",
       " 0.8490663900414938,\n",
       " 0.8661825726141079,\n",
       " 0.8729253112033195,\n",
       " 0.8807053941908713,\n",
       " 0.8947095435684648,\n",
       " 0.9050829875518672,\n",
       " 0.9185684647302904,\n",
       " 0.9341286307053942,\n",
       " 0.9564315352697096,\n",
       " 0.9719917012448133,\n",
       " 0.9802904564315352,\n",
       " 0.9839211618257261,\n",
       " 0.9885892116182573,\n",
       " 0.9942946058091287]"
      ]
     },
     "execution_count": 49,
     "metadata": {},
     "output_type": "execute_result"
    }
   ],
   "source": [
    "# список со значениями метрики качества модели accuracy на обучающей выборке\n",
    "accuracy_dt_train"
   ]
  },
  {
   "cell_type": "code",
   "execution_count": 50,
   "metadata": {},
   "outputs": [
    {
     "data": {
      "text/plain": [
       "[0.7510373443983402,\n",
       " 0.7697095435684648,\n",
       " 0.7800829875518672,\n",
       " 0.7842323651452282,\n",
       " 0.7966804979253111,\n",
       " 0.7904564315352697,\n",
       " 0.7925311203319502,\n",
       " 0.7883817427385892,\n",
       " 0.8008298755186722,\n",
       " 0.7925311203319502,\n",
       " 0.7883817427385892,\n",
       " 0.7863070539419087,\n",
       " 0.7780082987551867,\n",
       " 0.7738589211618258,\n",
       " 0.7427385892116183,\n",
       " 0.7448132780082988,\n",
       " 0.7365145228215768,\n",
       " 0.7302904564315352,\n",
       " 0.7095435684647303,\n",
       " 0.7074688796680498]"
      ]
     },
     "execution_count": 50,
     "metadata": {},
     "output_type": "execute_result"
    }
   ],
   "source": [
    "# список со значениями метрики качества модели accuracy на валидационной выборке\n",
    "accuracy_dt_valid"
   ]
  },
  {
   "cell_type": "markdown",
   "metadata": {},
   "source": [
    "Сравнив значения валидационной выборки с обучающей, видно, что пиковый показатель качества находится на глубине дерева 9, затем идёт снижение. В то время как в обучающей оно растёт на протяжении всей выборки. То есть можно сказать, что при глубине `max_depth` более 9 наступает переобучение модели."
   ]
  },
  {
   "cell_type": "markdown",
   "metadata": {},
   "source": [
    "Теперь давайте построим график зависимости качества моделей дерева решений *accuracy* от глубины дерева `max_depth` на обучающей и валидационной выборках."
   ]
  },
  {
   "cell_type": "code",
   "execution_count": 51,
   "metadata": {},
   "outputs": [
    {
     "data": {
      "image/png": "[encoded data removed]",
      "text/plain": [
       "<Figure size 1008x432 with 1 Axes>"
      ]
     },
     "metadata": {
      "needs_background": "light"
     },
     "output_type": "display_data"
    }
   ],
   "source": [
    "plt.figure(figsize=(14, 6))\n",
    "plt.grid(True)\n",
    "plt.plot(depth_dt, accuracy_dt_train)\n",
    "plt.plot(depth_dt, accuracy_dt_valid)\n",
    "plt.legend(['Обучающая выборка', 'Валидационная выборка'])\n",
    "plt.xlabel('Глубина дерева (max_depth)')\n",
    "plt.ylabel('Качество модели (accuracy)')\n",
    "plt.title('Зависимость качества моделей дерева решений '\n",
    "          'от глубины дерева на обучающей и валидационной выборках')\n",
    "plt.show()"
   ]
  },
  {
   "cell_type": "markdown",
   "metadata": {},
   "source": [
    "График также подтверждает - видно, что переобучение модели наступает после пикового значения глубины дерева `max_depth`= 9. Значит использовать значения больше 9 не имеет смысла, т.к. наступает переобучение и модель работает некорректно - запоминает данные, а не обобщает их."
   ]
  },
  {
   "cell_type": "markdown",
   "metadata": {},
   "source": [
    "Визуализируем дерево решений в виде графика. Для этого создадим модель дерева `model_dt_depth_4` c глубиной `max_depth`=4 и отобразим с помощью функции `plot_tree()`."
   ]
  },
  {
   "cell_type": "code",
   "execution_count": 52,
   "metadata": {},
   "outputs": [
    {
     "data": {
      "text/plain": [
       "DecisionTreeClassifier(max_depth=4)"
      ]
     },
     "execution_count": 52,
     "metadata": {},
     "output_type": "execute_result"
    }
   ],
   "source": [
    "model_dt_depth_4 = DecisionTreeClassifier(max_depth=4)\n",
    "model_dt_depth_4.fit(features_train, target_train)"
   ]
  },
  {
   "cell_type": "code",
   "execution_count": 53,
   "metadata": {
    "scrolled": true
   },
   "outputs": [
    {
     "data": {
      "image/png": "[encoded data removed]",
      "text/plain": [
       "<Figure size 2520x1440 with 1 Axes>"
      ]
     },
     "metadata": {
      "needs_background": "light"
     },
     "output_type": "display_data"
    }
   ],
   "source": [
    "# дерево решений для модели model_depth_4\n",
    "fig = plt.figure(figsize=(35,20))\n",
    "_ = tree.plot_tree(model_dt_depth_4, \n",
    "                   feature_names=features_train.columns.values, \n",
    "                   class_names=['Smart','Ultra'],\n",
    "                   filled=True,\n",
    "                   fontsize = 15)"
   ]
  },
  {
   "cell_type": "markdown",
   "metadata": {},
   "source": [
    "График показывает нам, как модель принимает решения: какие признаки использует, на каких значениях делает разбиение вправо - влево.\n",
    "\n",
    "Сначала создаёт узлы с условиями, используя признаки *calls* и *mb_used*. Со следующего уровня, в узлах добавляются признаки *messages* и *minutes*.\n",
    "\n",
    "Клитерий Джини `gini` демонстрирует несбалансированность классов. Напомним, что чем ближе к 0, тем более равномерно распределение, и наоборот, ближе к 1 - менее равномерно."
   ]
  },
  {
   "cell_type": "markdown",
   "metadata": {},
   "source": [
    "### Модель случайного леса\n",
    "<font size=\"2\">([к содержанию](#Содержание))</font>"
   ]
  },
  {
   "cell_type": "markdown",
   "metadata": {},
   "source": [
    "Классифицируем валидационные данные с помощью модели **RandomForestClassifier**.\n",
    "\n",
    "Добавим дополнительный гиперпараметр `n_estimators` - количество деревьев."
   ]
  },
  {
   "cell_type": "code",
   "execution_count": 54,
   "metadata": {},
   "outputs": [
    {
     "name": "stderr",
     "output_type": "stream",
     "text": [
      "100%|██████████| 20/20 [00:14<00:00,  1.35it/s]"
     ]
    },
    {
     "name": "stdout",
     "output_type": "stream",
     "text": [
      "Лучшая модель: RandomForestClassifier(max_depth=10, n_estimators=16, random_state=12345)\n",
      "Количество деревьев в лучшей модели: 16\n",
      "Глубина дерева лучшей модели: 10\n",
      "Метрика accuracy лучшей модели: 0.81\n",
      "----------------------------------------------------------------\n",
      "CPU times: user 14.6 s, sys: 57.5 ms, total: 14.6 s\n",
      "Wall time: 14.8 s\n"
     ]
    },
    {
     "name": "stderr",
     "output_type": "stream",
     "text": [
      "\n"
     ]
    }
   ],
   "source": [
    "%%time\n",
    "# лучшая модель (модель с самой высокой метрикой accuracy)\n",
    "best_model_rf = None\n",
    "# количество деревьев лучшей модели\n",
    "best_qty_rf = 0\n",
    "# глубина дерева лучшей модели\n",
    "best_depth_rf = 0\n",
    "# метрика accuracy лучшей модели\n",
    "best_result_rf = 0\n",
    "\n",
    "# напишем два цикла для гиперпараметров n_estimators \n",
    "# и max_depth от 1 до 10\n",
    "for est in tqdm(range(1, 21)):\n",
    "    for depth in range (1, 21):\n",
    "        # создадим модель случайного леса model_rf с заданным количеством \n",
    "        # деревьев n_estimators=est и глубиной дерева max_depth=depth\n",
    "        model_rf = RandomForestClassifier(random_state=12345, \n",
    "                                          n_estimators=est, \n",
    "                                          max_depth=depth)\n",
    "        # обучим модель на обучающей выборке\n",
    "        model_rf.fit(features_train, target_train)\n",
    "        # посчитаем качество модели accuracy на валидационной выборке\n",
    "        result = model_rf.score(features_valid, target_valid)\n",
    "        # сохраним лучшие параметры\n",
    "        if result > best_result_rf:\n",
    "            # сохраним лучшую модель\n",
    "            best_model_rf = model_rf\n",
    "            # сохраним количество деревьев лучшей модели\n",
    "            # на валидационной выборке\n",
    "            best_qty_rf = est \n",
    "            # сохраним глубину дерева лучшей модели\n",
    "            # на валидационной выборке\n",
    "            best_depth_rf = depth\n",
    "            # сохраним метрику accuracy лучшей модели\n",
    "            # на валидационной выборке\n",
    "            best_result_rf = result\n",
    "        \n",
    "        \n",
    "print('Лучшая модель:', best_model_rf)\n",
    "print('Количество деревьев в лучшей модели:', best_qty_rf)\n",
    "print('Глубина дерева лучшей модели:', best_depth_rf)\n",
    "print(f'Метрика accuracy лучшей модели: {best_result_rf:.2f}')\n",
    "print('----------------------------------------------------------------')"
   ]
  },
  {
   "cell_type": "markdown",
   "metadata": {},
   "source": [
    "Лучшая конфигурация модели случайного леса ***RandomForestClassifier*** на валидационной выборке имеет метрику оценки качества ***accuracy = 0.81*** при глубине дерева *10* и количестве деревьев, равному *16*.\n",
    "\n",
    "Качество *accuracy* модели случайного леса на валидационной выборке выше, чем у модели дерева решений."
   ]
  },
  {
   "cell_type": "markdown",
   "metadata": {},
   "source": [
    "### Модель случайного леса с *GridSearchCV*\n",
    "<font size=\"2\">([к содержанию](#Содержание))</font>"
   ]
  },
  {
   "cell_type": "markdown",
   "metadata": {},
   "source": [
    "Для получения лучшей модели **случайного леса** можно автоматически подбирать гиперпараметры с помощью функции *GridSearchCV*. Функция *GridSearchCV* самостоятельно делит выборку на обучающую и валидационную. Поэтому мы можем её применить к выборке `df_train_valid`, оставшейся после выделения тестовой выборки `df_test` (25%) из исходных данных `df_corr`.\n",
    "\n",
    "Для построения модели используем те же диапазоны значений гиперпараметров, что и в прошлый раз."
   ]
  },
  {
   "cell_type": "code",
   "execution_count": 55,
   "metadata": {},
   "outputs": [
    {
     "name": "stdout",
     "output_type": "stream",
     "text": [
      "Лучшая модель: RandomForestClassifier(max_depth=6, n_estimators=9, random_state=12345)\n",
      "Лучшая метрика accuracy: 0.80\n",
      "Лучшие параметры: {'max_depth': 6, 'n_estimators': 9}\n",
      "----------------------------------------------------------------\n",
      "CPU times: user 1min 14s, sys: 299 ms, total: 1min 14s\n",
      "Wall time: 1min 14s\n"
     ]
    }
   ],
   "source": [
    "%%time\n",
    "# создадим модель случайного леса rf\n",
    "rf = RandomForestClassifier(random_state=12345)\n",
    "\n",
    "# отдельно создадим словарь с гиперпараметрами n_estimators и max_depth\n",
    "parameters = {'n_estimators': range (1, 21), 'max_depth': range (1, 21)}\n",
    "\n",
    "# создадим модель model_rf_grid с помощью функции GridSearchCV,\n",
    "# укажем значение параметра кроссвалидации cv = 5\n",
    "model_rf_grid = GridSearchCV(rf, parameters, cv=5)\n",
    "# обучим модель model_rf_grid на обучающей выборке\n",
    "model_rf_grid.fit(features_train_valid, target_train_valid)\n",
    "\n",
    "print(f'Лучшая модель: {model_rf_grid.best_estimator_}')\n",
    "print(f'Лучшая метрика accuracy: {model_rf_grid.best_score_:.2f}')\n",
    "print(f'Лучшие параметры: {model_rf_grid.best_params_}')\n",
    "print('----------------------------------------------------------------')"
   ]
  },
  {
   "cell_type": "markdown",
   "metadata": {},
   "source": [
    "Лучшая модель случайного леса ***RandomForestClassifier*** с помощью функции *GridSearchCV* на валидационной выборке получила метрику оценки качества ***accuracy = 0.80*** при глубине дерева `max_depth` = 6 и количестве деревьев `n_estimators` = 9.\n",
    "\n",
    "Таким образом, функция *GridSearchCV* показала чуть меньшую производительность по сравнению с первым вариантом без использования кросс-валидации."
   ]
  },
  {
   "cell_type": "markdown",
   "metadata": {},
   "source": [
    "### Модель логистической регрессии\n",
    "<font size=\"2\">([к содержанию](#Содержание))</font>"
   ]
  },
  {
   "cell_type": "markdown",
   "metadata": {},
   "source": [
    "Классифицируем валидационные данные с помощью модели **логистической регрессии**.\n",
    "\n",
    "Добавим дополнительные гиперпараметры: `solver='lbfgs'` и `max_iter=1000`. Первый гиперпараметр позволяет выбрать алгоритм, который будет строить модель. Алгоритм `'lbfgs'` — один из самых распространённых. Он подходит для большинства задач. Гиперпараметром `max_iter` задаётся максимальное количество итераций обучения. Значение этого параметра по умолчанию равно 100, но в некоторых случаях понадобится больше итераций."
   ]
  },
  {
   "cell_type": "code",
   "execution_count": 56,
   "metadata": {},
   "outputs": [
    {
     "name": "stdout",
     "output_type": "stream",
     "text": [
      "Лучшая метрика accuracy: 0.76\n",
      "----------------------------------------------------------------\n",
      "CPU times: user 20.1 ms, sys: 7.78 ms, total: 27.9 ms\n",
      "Wall time: 42 ms\n"
     ]
    }
   ],
   "source": [
    "%%time\n",
    "\n",
    "model_lr = LogisticRegression(random_state=12345, \n",
    "                              solver='lbfgs', \n",
    "                              max_iter=1000) \n",
    "model_lr.fit(features_train, target_train) \n",
    "best_result_lr = model_lr.score(features_valid, target_valid) \n",
    "\n",
    "print(f'Лучшая метрика accuracy: {best_result_lr:.2f}')\n",
    "print('----------------------------------------------------------------')"
   ]
  },
  {
   "cell_type": "markdown",
   "metadata": {},
   "source": [
    "Модель логистической регрессии ***LogisticRegression*** на валидационной выборке имеет метрику оценки качества ***accuracy = 0.76***."
   ]
  },
  {
   "cell_type": "markdown",
   "metadata": {},
   "source": [
    "### Итоговая таблица метрик\n",
    "<font size=\"2\">([к содержанию](#Содержание))</font>"
   ]
  },
  {
   "cell_type": "markdown",
   "metadata": {},
   "source": [
    "Сформируем в виде таблицы `valid_table` значения метрик различных моделей и выведем на экран."
   ]
  },
  {
   "cell_type": "code",
   "execution_count": 57,
   "metadata": {},
   "outputs": [
    {
     "name": "stdout",
     "output_type": "stream",
     "text": [
      "Метрика accuracy разных моделей на валидационной выборке:\n"
     ]
    },
    {
     "data": {
      "text/html": [
       "<div>\n",
       "<style scoped>\n",
       "    .dataframe tbody tr th:only-of-type {\n",
       "        vertical-align: middle;\n",
       "    }\n",
       "\n",
       "    .dataframe tbody tr th {\n",
       "        vertical-align: top;\n",
       "    }\n",
       "\n",
       "    .dataframe thead th {\n",
       "        text-align: right;\n",
       "    }\n",
       "</style>\n",
       "<table border=\"1\" class=\"dataframe\">\n",
       "  <thead>\n",
       "    <tr style=\"text-align: right;\">\n",
       "      <th></th>\n",
       "      <th>model</th>\n",
       "      <th>accuracy</th>\n",
       "    </tr>\n",
       "  </thead>\n",
       "  <tbody>\n",
       "    <tr>\n",
       "      <th>0</th>\n",
       "      <td>DecisionTreeClassifier</td>\n",
       "      <td>0.80</td>\n",
       "    </tr>\n",
       "    <tr>\n",
       "      <th>1</th>\n",
       "      <td>RandomForestClassifier</td>\n",
       "      <td>0.81</td>\n",
       "    </tr>\n",
       "    <tr>\n",
       "      <th>2</th>\n",
       "      <td>RandomForestClassifier + GridSearchCV</td>\n",
       "      <td>0.80</td>\n",
       "    </tr>\n",
       "    <tr>\n",
       "      <th>3</th>\n",
       "      <td>LogisticRegression</td>\n",
       "      <td>0.76</td>\n",
       "    </tr>\n",
       "  </tbody>\n",
       "</table>\n",
       "</div>"
      ],
      "text/plain": [
       "                                   model accuracy\n",
       "0                 DecisionTreeClassifier     0.80\n",
       "1                 RandomForestClassifier     0.81\n",
       "2  RandomForestClassifier + GridSearchCV     0.80\n",
       "3                     LogisticRegression     0.76"
      ]
     },
     "execution_count": 57,
     "metadata": {},
     "output_type": "execute_result"
    }
   ],
   "source": [
    "valid_table = pd.DataFrame([\n",
    "     ['DecisionTreeClassifier', f'{best_result_dt:.2f}'],\n",
    "     ['RandomForestClassifier', f'{best_result_rf:.2f}'],\n",
    "     ['RandomForestClassifier + GridSearchCV', \n",
    "      f'{model_rf_grid.best_score_:.2f}'],\n",
    "     ['LogisticRegression', f'{best_result_lr:.2f}']\n",
    "    ],\n",
    "columns=['model', 'accuracy'])\n",
    "\n",
    "print('Метрика accuracy разных моделей на валидационной выборке:')\n",
    "valid_table"
   ]
  },
  {
   "cell_type": "markdown",
   "metadata": {},
   "source": [
    "Качество модели логистической регрессии на валидационной выборке ниже, чем у моделей дерева решений и случайного леса.\n",
    "\n",
    "По итогу на валидационной выборке по качеству лидирует модель случайного леса ***RandomForestClassifier***."
   ]
  },
  {
   "cell_type": "markdown",
   "metadata": {},
   "source": [
    "### Вывод\n",
    "<font size=\"2\">([к содержанию](#Содержание))</font>"
   ]
  },
  {
   "cell_type": "markdown",
   "metadata": {},
   "source": [
    "В разделе [**Исследование разных моделей**](#Исследование-разных-моделей) было исследовано качество *accuracy* разных моделей:\n",
    "- модель дерева решений *DecisionTreeClassifier*;\n",
    "- модель случайного леса *RandomForestClassifier*;\n",
    "- модель случайного леса *RandomForestClassifier* с применением функции *GridSearchCV* для автоматического подбора гиперпараметров;\n",
    "- модель логистической регрессии *LogisticRegression*.\n",
    "\n",
    "   \n",
    "В результате выполнения задач этого раздела было выявлено следующее:\n",
    "- Лучшая модель дерева решений ***DecisionTreeClassifier*** на валидационной выборке имеет метрику оценки качества ***accuracy = 0.80*** при глубине дерева `max_depth` = 9.\n",
    "- Лучшая модель случайного леса ***RandomForestClassifier*** на валидационной выборке имеет метрику оценки качества ***accuracy = 0.81*** при глубине дерева `max_depth` = 10 и количестве деревьев `n_estimators` = 16.\n",
    "- Лучшая модель случайного леса ***RandomForestClassifier*** с функцией *GridSearchCV* на валидационной выборке получила метрику оценки качества ***accuracy = 0.80*** при глубине дерева `max_depth` = 6 и количестве деревьев `n_estimators` = 9.\n",
    "- Модель логистической регрессии ***LogisticRegression*** на валидационной выборке имеет метрику оценки качества ***accuracy = 0.76***.\n",
    "- Качество модели логистической регрессии на валидационной выборке ниже, чем у моделей дерева решений и случайного леса.\n",
    "- На валидационной выборке по качеству лидирует модель случайного леса ***RandomForestClassifier***."
   ]
  },
  {
   "cell_type": "markdown",
   "metadata": {},
   "source": [
    "## Тестирование лучшей модели\n",
    "<font size=\"2\">([к содержанию](#Содержание))</font>"
   ]
  },
  {
   "cell_type": "markdown",
   "metadata": {},
   "source": [
    "### Качество модели на тестовой выборке"
   ]
  },
  {
   "cell_type": "markdown",
   "metadata": {},
   "source": [
    "На валидационной выборке по качеству *accuracy* лидирует модель случайного леса ***RandomForestClassifier*** без применения функции *GridSearchCV*.\n",
    "\n",
    "Но важно оценить производительность модели на независимой тестовой выборке, чтобы получить точную оценку ее производительности, а не полагаться исключительно на производительность на валидационной выборке. Поэтому проверим качество модели на тестовой выборке."
   ]
  },
  {
   "cell_type": "markdown",
   "metadata": {},
   "source": [
    "Перед тестированием обучим нашу модель на тренировочной + валидационной выборке для улучшения производительности:"
   ]
  },
  {
   "cell_type": "code",
   "execution_count": 58,
   "metadata": {
    "scrolled": false
   },
   "outputs": [
    {
     "data": {
      "text/plain": [
       "RandomForestClassifier(max_depth=10, n_estimators=16, random_state=12345)"
      ]
     },
     "execution_count": 58,
     "metadata": {},
     "output_type": "execute_result"
    }
   ],
   "source": [
    "best_model_rf.fit(features_train_valid, target_train_valid)"
   ]
  },
  {
   "cell_type": "markdown",
   "metadata": {},
   "source": [
    "Теперь протестируем нашу модель:"
   ]
  },
  {
   "cell_type": "code",
   "execution_count": 59,
   "metadata": {},
   "outputs": [
    {
     "name": "stdout",
     "output_type": "stream",
     "text": [
      "Лучшая метрика accuracy на тестовой выборке: 0.82\n"
     ]
    }
   ],
   "source": [
    "# найдём предсказания на тестовой выборке, используя RandomForestClassifier\n",
    "predictions_test_rf = best_model_rf.predict(features_test)\n",
    "# вычислим метрику качества accuracy (долю правильных ответов)\n",
    "accuracy_rf = accuracy_score(target_test, predictions_test_rf)\n",
    "\n",
    "print(f'Лучшая метрика accuracy на тестовой выборке: {accuracy_rf:.2f}')"
   ]
  },
  {
   "cell_type": "markdown",
   "metadata": {},
   "source": [
    "Затем, для наглядности, сравним результаты на валидационной и тестовой выборках:"
   ]
  },
  {
   "cell_type": "code",
   "execution_count": 60,
   "metadata": {},
   "outputs": [
    {
     "name": "stdout",
     "output_type": "stream",
     "text": [
      "Результат модели на валидационной выборке: 0.81\n"
     ]
    }
   ],
   "source": [
    "print('Результат модели на валидационной выборке:', f'{best_result_rf:.2f}')"
   ]
  },
  {
   "cell_type": "code",
   "execution_count": 61,
   "metadata": {},
   "outputs": [
    {
     "name": "stdout",
     "output_type": "stream",
     "text": [
      "Результат модели на тестовой выборке: 0.82\n"
     ]
    }
   ],
   "source": [
    "print('Результат модели на тестовой выборке:', f'{accuracy_rf:.2f}')"
   ]
  },
  {
   "cell_type": "markdown",
   "metadata": {},
   "source": [
    "Из сравнения результатов мы видим, что на новых, тестовых данных метрика ***accuracy*** у модели случайного леса ***RandomForestClassifier*** повысилась. \n",
    "\n",
    "По итогам проверки, модель случайного леса ***RandomForestClassifier*** на тестовой выборке имеет метрику оценки качества ***accuracy = 0.82***, что выше порогового значения из условия - ***0,75*** ."
   ]
  },
  {
   "cell_type": "markdown",
   "metadata": {},
   "source": [
    "### Вывод\n",
    "<font size=\"2\">([к содержанию](#Содержание))</font>"
   ]
  },
  {
   "cell_type": "markdown",
   "metadata": {},
   "source": [
    "В разделе [**Тестирование лучшей модели**](#Тестирование-лучшей-модели) было проверено качество *accuracy* наших моделей на тестовой выборке.\n",
    "\n",
    "   \n",
    "В результате выполнения задач этого раздела было выявлено следующее:\n",
    "- Была протестирована выбранная нами модель - ***RandomForestClassifier***.\n",
    "- Модель случайного леса ***RandomForestClassifier*** с *GridSearchCV* на тестовой выборке имеет метрику оценки качества ***accuracy = 0.82***.\n",
    "- Относительно валидационной выборки на новых, тестовых данных, метрика ***accuracy*** у модели случайного леса ***RandomForestClassifier*** повысилась, что говорит нам об отсутсвии негативных эффектов вроде переобучения модели.\n",
    "- Значение метрики качества лучшей модели *accuracy* > 0.75, что соответствует изначально поставленному условию задачи."
   ]
  },
  {
   "cell_type": "markdown",
   "metadata": {},
   "source": [
    "## Проверка лучшей модели на адекватность\n",
    "<font size=\"2\">([к содержанию](#Содержание))</font>"
   ]
  },
  {
   "cell_type": "markdown",
   "metadata": {},
   "source": [
    "### Сравнение с константной моделью (*DummyClassifier*)"
   ]
  },
  {
   "cell_type": "markdown",
   "metadata": {},
   "source": [
    "Напомним, что датасет `df_corr` не сбалансирован в таргете. Самым частым классом является \"0\"."
   ]
  },
  {
   "cell_type": "code",
   "execution_count": 62,
   "metadata": {},
   "outputs": [
    {
     "data": {
      "text/plain": [
       "0    2229\n",
       "1     985\n",
       "Name: is_ultra, dtype: int64"
      ]
     },
     "execution_count": 62,
     "metadata": {},
     "output_type": "execute_result"
    }
   ],
   "source": [
    "data['is_ultra'].value_counts()"
   ]
  },
  {
   "cell_type": "markdown",
   "metadata": {},
   "source": [
    "Проверим полученную модель *RandomForestClassifier* с *GridSearchCV* на адекватность.\n",
    "\n",
    "С помощью константной модели сделаем наивный прогноз метрики *accuracy* на тестовой выборке. Для создания константной модели используем классификатор *DummyClassifier*."
   ]
  },
  {
   "cell_type": "code",
   "execution_count": 63,
   "metadata": {},
   "outputs": [
    {
     "name": "stdout",
     "output_type": "stream",
     "text": [
      "Наивный прогноз самого частого класса (\"0\"): 0.69\n"
     ]
    }
   ],
   "source": [
    "# создадим константную модель model_dummy\n",
    "model_dummy = DummyClassifier(strategy='most_frequent', random_state=12345) \n",
    "# обучим модель model_dummy на обучающей выборке\n",
    "model_dummy.fit(features_train, target_train)\n",
    "# получим предсказания модели\n",
    "model_dummy.predict(features_test)\n",
    "# посчитаем качество модели на тестовой выборке\n",
    "accuracy_dummy = model_dummy.score(features_test, target_test)\n",
    "\n",
    "print(f'Наивный прогноз самого частого класса (\"0\"): {accuracy_dummy:.2f}')"
   ]
  },
  {
   "cell_type": "markdown",
   "metadata": {},
   "source": [
    "Наивный прогноз самого частого класса \"0\" составляет 0.69, что гораздо ниже полученного значения метрики качества модели *accuracy* на тестовой выборке. Поэтому модель *RandomForestClassifier* можно считать адекватной."
   ]
  },
  {
   "cell_type": "markdown",
   "metadata": {},
   "source": [
    "### Вывод\n",
    "<font size=\"2\">([к содержанию](#Содержание))</font>"
   ]
  },
  {
   "cell_type": "markdown",
   "metadata": {},
   "source": [
    "В разделе [**Проверка лучшей модели на адекватность**](#Проверка-лучшей-модели-на-адекватность) с помощью константной модели *DummyClassifier* был сделан наивный прогноз метрики *accuracy* на тестовой выборке.\n",
    "\n",
    "   \n",
    "В результате выполнения задач этого раздела было выявлено следующее:\n",
    "- Наивный прогноз самого частого класса \"0\" составляет 0.69, что гораздо ниже полученного значения метрики качества модели *accuracy* на тестовой выборке. Поэтому модель *RandomForestClassifier* можно считать адекватной."
   ]
  },
  {
   "cell_type": "markdown",
   "metadata": {},
   "source": [
    "## Общий вывод\n",
    "<font size=\"2\">([к содержанию](#Содержание))</font>"
   ]
  },
  {
   "cell_type": "markdown",
   "metadata": {},
   "source": [
    "Проведено исследование с целью предложить пользователям новый тариф «Смарт» или «Ультра» на основании их поведения. \n",
    "\n",
    "Мы изучили входные данные – данные о поведении клиентов, которые уже перешли на эти тарифы. Проверили корреляцию между признаками в датафрейме - выявили и удалили коррелирующий признак. Затем выявили несбалансированность целевого признака.\n",
    "\n",
    "Данные были разделены на три выборки: обучающую, валидационную и тестовую, проверили разбиение на корректность. \n",
    "\n",
    "В качестве возможных моделей были выбраны и исследованы модели решающего дерева, случайного леса, логистической регрессии и логистической регрессии с *GridSearchCV*. Для каждой из них на основе обучаещей и валидационной выборок были определены некоторые гиперпараметры, чтобы улучшить качество предсказаний.\n",
    "\n",
    "Проведя исследование и последующее тестирование наших моделей, получили следующие результаты:\n",
    "\n",
    "- Модель дерева решений ***DecisionTreeClassifier*** при глубине дерева `max_depth` = 9, на валидационной выборке имеет метрику оценки качества ***accuracy = 0.80***.\n",
    "- Модель случайного леса ***RandomForestClassifier*** при глубине дерева `max_depth` = 10 и количестве деревьев `n_estimators` = 16, на валидационной выборке имеет метрику оценки качества ***accuracy = 0.81***, на тестовой ***accuracy = 0.82***.\n",
    "- Модель случайного леса ***RandomForestClassifier*** с функцией *GridSearchCV*  при глубине дерева `max_depth` = 6 и количестве деревьев `n_estimators` = 9, на валидационной выборке получила метрику оценки качества ***accuracy = 0.80***.\n",
    "- Модель логистической регрессии ***LogisticRegression*** на валидационной выборке имеет метрику оценки качества ***accuracy = 0.76***.\n",
    "\n",
    "По итогу мы определили, что лучшей моделью стала RandomForestClassifier, имеющая параметры глубины дерева `max_depth` = 10 и количества деревьев `n_estimators` = 16.\n",
    "\n",
    "Значение метрики качества *accuracy* лучшей модели - случайного леса *RandomForestClassifier*, составляет:\n",
    "\n",
    "- *accuracy* = 0.81 - на валидационной выборке;\n",
    "- *accuracy* = 0.82 - на тестовой выборке.\n",
    "\n",
    "Результат на тестовой выборке лучше, чем на валидационной, что является знаком отсутствия негативных эффектов, таких как переобучение.\n",
    "\n",
    "Значение метрики качества лучшей модели *accuracy* > 0.75, что соответствует изначально поставленному условию задачи.\n",
    "\n",
    "Адекватность модели оценена путем сравнения точности предсказаний лучшей модели с точностью предсказаний константной модели *DummyClassifier*. Лучшая модель демонстрирует большую долю правильных ответов.\n",
    "\n",
    "Рекомендация: самой качественной является модель случайного леса *RandomForestClassifier*. Модель позволит на основе новых данных провести анализ и предложить пользователям новые, более актуальные тарифы, такие как *Смарт* или *Ультра*, что позволит бизнесу предоставить более качественный сервис и лучше учитывать потребности клиентов, а значит и увеличить лояльность клиентов. А как мы знаем, чем лучше лояльность клиентов бизнесу, тем больше дохода он получит в перспективе.\n",
    " ______________________ ______________________ ______________________\n",
    " \n",
    "На этом мы заканчиваем - благодарим вас за внимание, надеемся, что наше исследование вам понравилось и поможет сделать правильные выводы, принять правильные решения."
   ]
  }
 ],
 "metadata": {
  "ExecuteTimeLog": [
   {
    "duration": 1665,
    "start_time": "2023-04-22T14:06:53.002Z"
   },
   {
    "duration": 114,
    "start_time": "2023-04-22T14:06:54.669Z"
   },
   {
    "duration": 127,
    "start_time": "2023-04-22T14:06:54.785Z"
   },
   {
    "duration": 1,
    "start_time": "2023-04-22T14:06:54.914Z"
   },
   {
    "duration": 0,
    "start_time": "2023-04-22T14:06:54.916Z"
   },
   {
    "duration": 1492,
    "start_time": "2023-04-22T14:07:42.677Z"
   },
   {
    "duration": 45,
    "start_time": "2023-04-22T14:07:44.171Z"
   },
   {
    "duration": 25,
    "start_time": "2023-04-22T14:07:44.218Z"
   },
   {
    "duration": 10,
    "start_time": "2023-04-22T14:07:44.245Z"
   },
   {
    "duration": 11,
    "start_time": "2023-04-22T14:07:44.257Z"
   },
   {
    "duration": 15,
    "start_time": "2023-04-22T14:08:40.518Z"
   },
   {
    "duration": 11,
    "start_time": "2023-04-22T14:09:27.700Z"
   },
   {
    "duration": 149,
    "start_time": "2023-04-22T14:37:55.243Z"
   },
   {
    "duration": 11,
    "start_time": "2023-04-22T14:38:04.973Z"
   },
   {
    "duration": 5,
    "start_time": "2023-04-22T14:39:33.552Z"
   },
   {
    "duration": 11,
    "start_time": "2023-04-22T14:47:22.379Z"
   },
   {
    "duration": 13,
    "start_time": "2023-04-22T15:24:04.988Z"
   },
   {
    "duration": 4,
    "start_time": "2023-04-22T15:34:20.976Z"
   },
   {
    "duration": 44,
    "start_time": "2023-04-24T11:49:35.017Z"
   },
   {
    "duration": 1480,
    "start_time": "2023-04-24T11:49:47.496Z"
   },
   {
    "duration": 111,
    "start_time": "2023-04-24T11:49:48.978Z"
   },
   {
    "duration": 16,
    "start_time": "2023-04-24T11:49:49.090Z"
   },
   {
    "duration": 28,
    "start_time": "2023-04-24T11:49:49.108Z"
   },
   {
    "duration": 29,
    "start_time": "2023-04-24T11:49:49.138Z"
   },
   {
    "duration": 14,
    "start_time": "2023-04-24T11:49:49.169Z"
   },
   {
    "duration": 9,
    "start_time": "2023-04-24T11:49:49.184Z"
   },
   {
    "duration": 29,
    "start_time": "2023-04-24T11:49:49.195Z"
   },
   {
    "duration": 10,
    "start_time": "2023-04-24T11:49:49.226Z"
   },
   {
    "duration": 4,
    "start_time": "2023-04-24T11:50:29.641Z"
   },
   {
    "duration": 5,
    "start_time": "2023-04-24T11:50:42.564Z"
   },
   {
    "duration": 4,
    "start_time": "2023-04-24T11:50:51.172Z"
   },
   {
    "duration": 4,
    "start_time": "2023-04-24T11:51:14.642Z"
   },
   {
    "duration": 53,
    "start_time": "2023-04-26T11:13:21.041Z"
   },
   {
    "duration": 1912,
    "start_time": "2023-04-26T11:13:30.016Z"
   },
   {
    "duration": 84,
    "start_time": "2023-04-26T11:13:31.930Z"
   },
   {
    "duration": 22,
    "start_time": "2023-04-26T11:13:32.016Z"
   },
   {
    "duration": 21,
    "start_time": "2023-04-26T11:13:32.041Z"
   },
   {
    "duration": 50,
    "start_time": "2023-04-26T11:13:32.064Z"
   },
   {
    "duration": 23,
    "start_time": "2023-04-26T11:13:32.116Z"
   },
   {
    "duration": 27,
    "start_time": "2023-04-26T11:13:32.141Z"
   },
   {
    "duration": 47,
    "start_time": "2023-04-26T11:13:32.170Z"
   },
   {
    "duration": 19,
    "start_time": "2023-04-26T11:13:32.219Z"
   },
   {
    "duration": 81,
    "start_time": "2023-04-26T12:36:18.768Z"
   },
   {
    "duration": 81,
    "start_time": "2023-04-26T12:37:41.209Z"
   },
   {
    "duration": 77,
    "start_time": "2023-04-26T12:41:06.742Z"
   },
   {
    "duration": 80,
    "start_time": "2023-04-26T12:41:26.806Z"
   },
   {
    "duration": 77,
    "start_time": "2023-04-26T12:42:03.473Z"
   },
   {
    "duration": 79,
    "start_time": "2023-04-26T12:42:12.629Z"
   },
   {
    "duration": 76,
    "start_time": "2023-04-26T12:42:17.768Z"
   },
   {
    "duration": 77,
    "start_time": "2023-04-26T12:42:22.287Z"
   },
   {
    "duration": 82,
    "start_time": "2023-04-26T12:42:29.848Z"
   },
   {
    "duration": 83,
    "start_time": "2023-04-26T12:42:33.753Z"
   },
   {
    "duration": 77,
    "start_time": "2023-04-26T12:42:37.948Z"
   },
   {
    "duration": 85,
    "start_time": "2023-04-26T12:42:46.750Z"
   },
   {
    "duration": 75,
    "start_time": "2023-04-26T12:42:57.614Z"
   },
   {
    "duration": 89,
    "start_time": "2023-04-26T12:43:00.703Z"
   },
   {
    "duration": 80,
    "start_time": "2023-04-26T12:43:45.117Z"
   },
   {
    "duration": 83,
    "start_time": "2023-04-26T12:43:54.114Z"
   },
   {
    "duration": 76,
    "start_time": "2023-04-26T12:44:00.757Z"
   },
   {
    "duration": 75,
    "start_time": "2023-04-26T12:44:03.906Z"
   },
   {
    "duration": 4,
    "start_time": "2023-04-26T12:51:43.962Z"
   },
   {
    "duration": 4,
    "start_time": "2023-04-26T12:52:34.470Z"
   },
   {
    "duration": 5,
    "start_time": "2023-04-26T12:52:55.346Z"
   },
   {
    "duration": 248,
    "start_time": "2023-04-26T12:57:41.212Z"
   },
   {
    "duration": 1504,
    "start_time": "2023-04-26T14:24:34.080Z"
   },
   {
    "duration": 1456,
    "start_time": "2023-04-26T14:25:33.636Z"
   },
   {
    "duration": 1775,
    "start_time": "2023-04-26T14:51:10.136Z"
   },
   {
    "duration": 5,
    "start_time": "2023-04-26T14:51:57.592Z"
   },
   {
    "duration": 6,
    "start_time": "2023-04-26T14:52:35.001Z"
   },
   {
    "duration": 6,
    "start_time": "2023-04-26T14:52:54.951Z"
   },
   {
    "duration": 4,
    "start_time": "2023-04-26T14:53:25.189Z"
   },
   {
    "duration": 241,
    "start_time": "2023-04-26T14:54:42.755Z"
   },
   {
    "duration": 332,
    "start_time": "2023-04-26T14:57:18.988Z"
   },
   {
    "duration": 208,
    "start_time": "2023-04-26T15:07:34.206Z"
   },
   {
    "duration": 159,
    "start_time": "2023-04-26T15:07:44.708Z"
   },
   {
    "duration": 197,
    "start_time": "2023-04-26T15:08:14.082Z"
   },
   {
    "duration": 3,
    "start_time": "2023-04-26T15:08:31.083Z"
   },
   {
    "duration": 1454,
    "start_time": "2023-04-26T15:14:36.073Z"
   },
   {
    "duration": 7951,
    "start_time": "2023-04-26T15:19:04.973Z"
   },
   {
    "duration": 7963,
    "start_time": "2023-04-26T15:19:41.710Z"
   },
   {
    "duration": 24456,
    "start_time": "2023-04-26T15:21:30.455Z"
   },
   {
    "duration": 8343,
    "start_time": "2023-04-26T15:22:19.616Z"
   },
   {
    "duration": 23,
    "start_time": "2023-04-26T15:24:19.564Z"
   },
   {
    "duration": 20,
    "start_time": "2023-04-26T15:24:45.668Z"
   },
   {
    "duration": 10,
    "start_time": "2023-04-26T15:25:58.590Z"
   },
   {
    "duration": 9,
    "start_time": "2023-04-26T15:27:35.117Z"
   },
   {
    "duration": 8,
    "start_time": "2023-04-26T15:29:27.245Z"
   },
   {
    "duration": 10,
    "start_time": "2023-04-26T15:30:00.697Z"
   },
   {
    "duration": 8,
    "start_time": "2023-04-26T15:31:10.182Z"
   },
   {
    "duration": 9,
    "start_time": "2023-04-26T15:32:34.963Z"
   },
   {
    "duration": 8,
    "start_time": "2023-04-26T15:32:45.919Z"
   },
   {
    "duration": 1439,
    "start_time": "2023-04-26T15:33:49.710Z"
   },
   {
    "duration": 32,
    "start_time": "2023-04-26T15:33:51.151Z"
   },
   {
    "duration": 24,
    "start_time": "2023-04-26T15:33:51.185Z"
   },
   {
    "duration": 33,
    "start_time": "2023-04-26T15:33:51.211Z"
   },
   {
    "duration": 23,
    "start_time": "2023-04-26T15:33:51.245Z"
   },
   {
    "duration": 25,
    "start_time": "2023-04-26T15:33:51.270Z"
   },
   {
    "duration": 29,
    "start_time": "2023-04-26T15:33:51.297Z"
   },
   {
    "duration": 16,
    "start_time": "2023-04-26T15:33:51.328Z"
   },
   {
    "duration": 37,
    "start_time": "2023-04-26T15:33:51.346Z"
   },
   {
    "duration": 103,
    "start_time": "2023-04-26T15:33:51.385Z"
   },
   {
    "duration": 4,
    "start_time": "2023-04-26T15:33:51.490Z"
   },
   {
    "duration": 9,
    "start_time": "2023-04-26T15:33:51.511Z"
   },
   {
    "duration": 21,
    "start_time": "2023-04-26T15:33:51.521Z"
   },
   {
    "duration": 212,
    "start_time": "2023-04-26T15:33:51.544Z"
   },
   {
    "duration": 1510,
    "start_time": "2023-04-26T15:33:51.758Z"
   },
   {
    "duration": 8117,
    "start_time": "2023-04-26T15:33:53.269Z"
   },
   {
    "duration": 28,
    "start_time": "2023-04-26T15:34:01.388Z"
   },
   {
    "duration": 22,
    "start_time": "2023-04-26T15:34:01.417Z"
   },
   {
    "duration": 40,
    "start_time": "2023-04-26T15:34:01.441Z"
   },
   {
    "duration": 23,
    "start_time": "2023-04-26T15:34:01.483Z"
   },
   {
    "duration": 9,
    "start_time": "2023-04-26T15:35:01.949Z"
   },
   {
    "duration": 9,
    "start_time": "2023-04-26T15:35:03.464Z"
   },
   {
    "duration": 117,
    "start_time": "2023-04-26T16:28:45.795Z"
   },
   {
    "duration": 9,
    "start_time": "2023-04-26T16:28:57.649Z"
   },
   {
    "duration": 6,
    "start_time": "2023-04-26T16:30:27.168Z"
   },
   {
    "duration": 1650,
    "start_time": "2023-04-28T14:37:34.530Z"
   },
   {
    "duration": 63,
    "start_time": "2023-04-28T14:37:36.182Z"
   },
   {
    "duration": 15,
    "start_time": "2023-04-28T14:37:36.246Z"
   },
   {
    "duration": 12,
    "start_time": "2023-04-28T14:37:36.263Z"
   },
   {
    "duration": 20,
    "start_time": "2023-04-28T14:37:36.277Z"
   },
   {
    "duration": 114,
    "start_time": "2023-04-28T14:37:36.299Z"
   },
   {
    "duration": 0,
    "start_time": "2023-04-28T14:37:36.416Z"
   },
   {
    "duration": 0,
    "start_time": "2023-04-28T14:37:36.417Z"
   },
   {
    "duration": 0,
    "start_time": "2023-04-28T14:37:36.418Z"
   },
   {
    "duration": 0,
    "start_time": "2023-04-28T14:37:36.420Z"
   },
   {
    "duration": 0,
    "start_time": "2023-04-28T14:37:36.422Z"
   },
   {
    "duration": 0,
    "start_time": "2023-04-28T14:37:36.423Z"
   },
   {
    "duration": 0,
    "start_time": "2023-04-28T14:37:36.425Z"
   },
   {
    "duration": 0,
    "start_time": "2023-04-28T14:37:36.426Z"
   },
   {
    "duration": 0,
    "start_time": "2023-04-28T14:37:36.428Z"
   },
   {
    "duration": 0,
    "start_time": "2023-04-28T14:37:36.429Z"
   },
   {
    "duration": 0,
    "start_time": "2023-04-28T14:37:36.430Z"
   },
   {
    "duration": 0,
    "start_time": "2023-04-28T14:37:36.431Z"
   },
   {
    "duration": 0,
    "start_time": "2023-04-28T14:37:36.456Z"
   },
   {
    "duration": 0,
    "start_time": "2023-04-28T14:37:36.458Z"
   },
   {
    "duration": 0,
    "start_time": "2023-04-28T14:37:36.459Z"
   },
   {
    "duration": 0,
    "start_time": "2023-04-28T14:37:36.461Z"
   },
   {
    "duration": 11,
    "start_time": "2023-04-28T14:38:46.926Z"
   },
   {
    "duration": 4,
    "start_time": "2023-04-28T14:39:06.120Z"
   },
   {
    "duration": 32,
    "start_time": "2023-04-28T14:39:06.128Z"
   },
   {
    "duration": 12,
    "start_time": "2023-04-28T14:39:06.162Z"
   },
   {
    "duration": 25,
    "start_time": "2023-04-28T14:39:06.175Z"
   },
   {
    "duration": 19,
    "start_time": "2023-04-28T14:39:06.204Z"
   },
   {
    "duration": 17,
    "start_time": "2023-04-28T14:39:06.225Z"
   },
   {
    "duration": 6,
    "start_time": "2023-04-28T14:39:06.257Z"
   },
   {
    "duration": 49,
    "start_time": "2023-04-28T14:39:06.265Z"
   },
   {
    "duration": 21,
    "start_time": "2023-04-28T14:39:06.315Z"
   },
   {
    "duration": 100,
    "start_time": "2023-04-28T14:39:06.339Z"
   },
   {
    "duration": 4,
    "start_time": "2023-04-28T14:39:06.455Z"
   },
   {
    "duration": 10,
    "start_time": "2023-04-28T14:39:06.461Z"
   },
   {
    "duration": 7,
    "start_time": "2023-04-28T14:39:06.473Z"
   },
   {
    "duration": 224,
    "start_time": "2023-04-28T14:39:06.482Z"
   },
   {
    "duration": 1754,
    "start_time": "2023-04-28T14:39:06.707Z"
   },
   {
    "duration": 9360,
    "start_time": "2023-04-28T14:39:08.463Z"
   },
   {
    "duration": 44,
    "start_time": "2023-04-28T14:39:17.824Z"
   },
   {
    "duration": 9,
    "start_time": "2023-04-28T14:39:17.870Z"
   },
   {
    "duration": 20,
    "start_time": "2023-04-28T14:39:17.881Z"
   },
   {
    "duration": 9,
    "start_time": "2023-04-28T14:39:17.903Z"
   },
   {
    "duration": 14,
    "start_time": "2023-04-28T14:39:17.914Z"
   },
   {
    "duration": 26,
    "start_time": "2023-04-28T14:39:17.930Z"
   },
   {
    "duration": 1429,
    "start_time": "2023-04-28T14:43:47.505Z"
   },
   {
    "duration": 29,
    "start_time": "2023-04-28T14:43:48.936Z"
   },
   {
    "duration": 16,
    "start_time": "2023-04-28T14:43:48.967Z"
   },
   {
    "duration": 22,
    "start_time": "2023-04-28T14:43:48.985Z"
   },
   {
    "duration": 12,
    "start_time": "2023-04-28T14:43:49.009Z"
   },
   {
    "duration": 30,
    "start_time": "2023-04-28T14:43:49.022Z"
   },
   {
    "duration": 24,
    "start_time": "2023-04-28T14:43:49.053Z"
   },
   {
    "duration": 52,
    "start_time": "2023-04-28T14:43:49.079Z"
   },
   {
    "duration": 67,
    "start_time": "2023-04-28T14:43:49.132Z"
   },
   {
    "duration": 93,
    "start_time": "2023-04-28T14:43:49.202Z"
   },
   {
    "duration": 4,
    "start_time": "2023-04-28T14:43:49.297Z"
   },
   {
    "duration": 85,
    "start_time": "2023-04-28T14:43:49.303Z"
   },
   {
    "duration": 6,
    "start_time": "2023-04-28T14:43:49.390Z"
   },
   {
    "duration": 184,
    "start_time": "2023-04-28T14:43:49.397Z"
   },
   {
    "duration": 1458,
    "start_time": "2023-04-28T14:43:49.583Z"
   },
   {
    "duration": 8245,
    "start_time": "2023-04-28T14:43:51.043Z"
   },
   {
    "duration": 21,
    "start_time": "2023-04-28T14:43:59.290Z"
   },
   {
    "duration": 10,
    "start_time": "2023-04-28T14:43:59.312Z"
   },
   {
    "duration": 12,
    "start_time": "2023-04-28T14:43:59.323Z"
   },
   {
    "duration": 8,
    "start_time": "2023-04-28T14:43:59.356Z"
   },
   {
    "duration": 17,
    "start_time": "2023-04-28T14:43:59.366Z"
   },
   {
    "duration": 19,
    "start_time": "2023-04-28T14:43:59.385Z"
   },
   {
    "duration": 1372,
    "start_time": "2023-04-28T14:46:19.802Z"
   },
   {
    "duration": 29,
    "start_time": "2023-04-28T14:46:21.177Z"
   },
   {
    "duration": 17,
    "start_time": "2023-04-28T14:46:21.208Z"
   },
   {
    "duration": 16,
    "start_time": "2023-04-28T14:46:21.227Z"
   },
   {
    "duration": 11,
    "start_time": "2023-04-28T14:46:21.245Z"
   },
   {
    "duration": 9,
    "start_time": "2023-04-28T14:46:21.258Z"
   },
   {
    "duration": 16,
    "start_time": "2023-04-28T14:46:21.268Z"
   },
   {
    "duration": 13,
    "start_time": "2023-04-28T14:46:21.285Z"
   },
   {
    "duration": 5,
    "start_time": "2023-04-28T14:46:21.299Z"
   },
   {
    "duration": 88,
    "start_time": "2023-04-28T14:46:21.306Z"
   },
   {
    "duration": 3,
    "start_time": "2023-04-28T14:46:21.396Z"
   },
   {
    "duration": 6,
    "start_time": "2023-04-28T14:46:21.401Z"
   },
   {
    "duration": 5,
    "start_time": "2023-04-28T14:46:21.408Z"
   },
   {
    "duration": 220,
    "start_time": "2023-04-28T14:46:21.414Z"
   },
   {
    "duration": 1468,
    "start_time": "2023-04-28T14:46:21.636Z"
   },
   {
    "duration": 7965,
    "start_time": "2023-04-28T14:46:23.105Z"
   },
   {
    "duration": 19,
    "start_time": "2023-04-28T14:46:31.071Z"
   },
   {
    "duration": 63,
    "start_time": "2023-04-28T14:46:31.091Z"
   },
   {
    "duration": 70,
    "start_time": "2023-04-28T14:46:31.156Z"
   },
   {
    "duration": 37,
    "start_time": "2023-04-28T14:46:31.228Z"
   },
   {
    "duration": 49,
    "start_time": "2023-04-28T14:46:31.267Z"
   },
   {
    "duration": 37,
    "start_time": "2023-04-28T14:46:31.318Z"
   },
   {
    "duration": 1422,
    "start_time": "2023-04-28T14:52:37.907Z"
   },
   {
    "duration": 31,
    "start_time": "2023-04-28T14:52:39.331Z"
   },
   {
    "duration": 16,
    "start_time": "2023-04-28T14:52:39.363Z"
   },
   {
    "duration": 11,
    "start_time": "2023-04-28T14:52:39.381Z"
   },
   {
    "duration": 31,
    "start_time": "2023-04-28T14:52:39.394Z"
   },
   {
    "duration": 11,
    "start_time": "2023-04-28T14:52:39.427Z"
   },
   {
    "duration": 7,
    "start_time": "2023-04-28T14:52:39.440Z"
   },
   {
    "duration": 18,
    "start_time": "2023-04-28T14:52:39.448Z"
   },
   {
    "duration": 17,
    "start_time": "2023-04-28T14:52:39.467Z"
   },
   {
    "duration": 88,
    "start_time": "2023-04-28T14:52:39.486Z"
   },
   {
    "duration": 3,
    "start_time": "2023-04-28T14:52:39.576Z"
   },
   {
    "duration": 31,
    "start_time": "2023-04-28T14:52:39.581Z"
   },
   {
    "duration": 32,
    "start_time": "2023-04-28T14:52:39.613Z"
   },
   {
    "duration": 209,
    "start_time": "2023-04-28T14:52:39.647Z"
   },
   {
    "duration": 1409,
    "start_time": "2023-04-28T14:52:39.857Z"
   },
   {
    "duration": 7601,
    "start_time": "2023-04-28T14:52:41.268Z"
   },
   {
    "duration": 19,
    "start_time": "2023-04-28T14:52:48.871Z"
   },
   {
    "duration": 8,
    "start_time": "2023-04-28T14:52:48.891Z"
   },
   {
    "duration": 6,
    "start_time": "2023-04-28T14:52:48.901Z"
   },
   {
    "duration": 8,
    "start_time": "2023-04-28T14:52:48.909Z"
   },
   {
    "duration": 8,
    "start_time": "2023-04-28T14:52:48.919Z"
   },
   {
    "duration": 7,
    "start_time": "2023-04-28T14:52:48.956Z"
   },
   {
    "duration": 1500,
    "start_time": "2023-04-28T14:55:16.424Z"
   },
   {
    "duration": 31,
    "start_time": "2023-04-28T14:55:17.927Z"
   },
   {
    "duration": 17,
    "start_time": "2023-04-28T14:55:17.960Z"
   },
   {
    "duration": 12,
    "start_time": "2023-04-28T14:55:17.978Z"
   },
   {
    "duration": 16,
    "start_time": "2023-04-28T14:55:17.993Z"
   },
   {
    "duration": 12,
    "start_time": "2023-04-28T14:55:18.011Z"
   },
   {
    "duration": 33,
    "start_time": "2023-04-28T14:55:18.025Z"
   },
   {
    "duration": 127,
    "start_time": "2023-04-28T14:55:18.060Z"
   },
   {
    "duration": 4,
    "start_time": "2023-04-28T14:55:18.189Z"
   },
   {
    "duration": 105,
    "start_time": "2023-04-28T14:55:18.194Z"
   },
   {
    "duration": 4,
    "start_time": "2023-04-28T14:55:18.300Z"
   },
   {
    "duration": 7,
    "start_time": "2023-04-28T14:55:18.306Z"
   },
   {
    "duration": 7,
    "start_time": "2023-04-28T14:55:18.314Z"
   },
   {
    "duration": 234,
    "start_time": "2023-04-28T14:55:18.325Z"
   },
   {
    "duration": 1786,
    "start_time": "2023-04-28T14:55:18.561Z"
   },
   {
    "duration": 9335,
    "start_time": "2023-04-28T14:55:20.355Z"
   },
   {
    "duration": 31,
    "start_time": "2023-04-28T14:55:29.691Z"
   },
   {
    "duration": 8,
    "start_time": "2023-04-28T14:55:29.724Z"
   },
   {
    "duration": 31,
    "start_time": "2023-04-28T14:55:29.733Z"
   },
   {
    "duration": 18,
    "start_time": "2023-04-28T14:55:29.766Z"
   },
   {
    "duration": 8,
    "start_time": "2023-04-28T14:55:29.785Z"
   },
   {
    "duration": 6,
    "start_time": "2023-04-28T14:55:29.795Z"
   },
   {
    "duration": 1417,
    "start_time": "2023-04-28T14:57:28.227Z"
   },
   {
    "duration": 30,
    "start_time": "2023-04-28T14:57:29.646Z"
   },
   {
    "duration": 15,
    "start_time": "2023-04-28T14:57:29.677Z"
   },
   {
    "duration": 11,
    "start_time": "2023-04-28T14:57:29.694Z"
   },
   {
    "duration": 22,
    "start_time": "2023-04-28T14:57:29.706Z"
   },
   {
    "duration": 17,
    "start_time": "2023-04-28T14:57:29.730Z"
   },
   {
    "duration": 7,
    "start_time": "2023-04-28T14:57:29.749Z"
   },
   {
    "duration": 16,
    "start_time": "2023-04-28T14:57:29.758Z"
   },
   {
    "duration": 5,
    "start_time": "2023-04-28T14:57:29.776Z"
   },
   {
    "duration": 91,
    "start_time": "2023-04-28T14:57:29.784Z"
   },
   {
    "duration": 4,
    "start_time": "2023-04-28T14:57:29.877Z"
   },
   {
    "duration": 4,
    "start_time": "2023-04-28T14:57:29.883Z"
   },
   {
    "duration": 6,
    "start_time": "2023-04-28T14:57:29.889Z"
   },
   {
    "duration": 210,
    "start_time": "2023-04-28T14:57:29.897Z"
   },
   {
    "duration": 1562,
    "start_time": "2023-04-28T14:57:30.109Z"
   },
   {
    "duration": 8268,
    "start_time": "2023-04-28T14:57:31.673Z"
   },
   {
    "duration": 21,
    "start_time": "2023-04-28T14:57:39.942Z"
   },
   {
    "duration": 17,
    "start_time": "2023-04-28T14:57:39.964Z"
   },
   {
    "duration": 20,
    "start_time": "2023-04-28T14:57:39.982Z"
   },
   {
    "duration": 36,
    "start_time": "2023-04-28T14:57:40.003Z"
   },
   {
    "duration": 21,
    "start_time": "2023-04-28T14:57:40.040Z"
   },
   {
    "duration": 37,
    "start_time": "2023-04-28T14:57:40.063Z"
   },
   {
    "duration": 1382,
    "start_time": "2023-04-28T14:59:32.254Z"
   },
   {
    "duration": 31,
    "start_time": "2023-04-28T14:59:33.638Z"
   },
   {
    "duration": 16,
    "start_time": "2023-04-28T14:59:33.671Z"
   },
   {
    "duration": 11,
    "start_time": "2023-04-28T14:59:33.688Z"
   },
   {
    "duration": 11,
    "start_time": "2023-04-28T14:59:33.701Z"
   },
   {
    "duration": 11,
    "start_time": "2023-04-28T14:59:33.713Z"
   },
   {
    "duration": 10,
    "start_time": "2023-04-28T14:59:33.726Z"
   },
   {
    "duration": 13,
    "start_time": "2023-04-28T14:59:33.757Z"
   },
   {
    "duration": 9,
    "start_time": "2023-04-28T14:59:33.771Z"
   },
   {
    "duration": 93,
    "start_time": "2023-04-28T14:59:33.782Z"
   },
   {
    "duration": 5,
    "start_time": "2023-04-28T14:59:33.877Z"
   },
   {
    "duration": 5,
    "start_time": "2023-04-28T14:59:33.885Z"
   },
   {
    "duration": 11,
    "start_time": "2023-04-28T14:59:33.891Z"
   },
   {
    "duration": 251,
    "start_time": "2023-04-28T14:59:33.907Z"
   },
   {
    "duration": 1491,
    "start_time": "2023-04-28T14:59:34.159Z"
   },
   {
    "duration": 7909,
    "start_time": "2023-04-28T14:59:35.657Z"
   },
   {
    "duration": 23,
    "start_time": "2023-04-28T14:59:43.568Z"
   },
   {
    "duration": 10,
    "start_time": "2023-04-28T14:59:43.593Z"
   },
   {
    "duration": 9,
    "start_time": "2023-04-28T14:59:43.605Z"
   },
   {
    "duration": 10,
    "start_time": "2023-04-28T14:59:43.616Z"
   },
   {
    "duration": 36,
    "start_time": "2023-04-28T14:59:43.627Z"
   },
   {
    "duration": 14,
    "start_time": "2023-04-28T14:59:43.665Z"
   },
   {
    "duration": 11,
    "start_time": "2023-04-28T19:17:01.152Z"
   },
   {
    "duration": 14,
    "start_time": "2023-04-28T19:17:08.629Z"
   },
   {
    "duration": 9,
    "start_time": "2023-04-28T19:19:25.370Z"
   },
   {
    "duration": 109,
    "start_time": "2023-04-28T19:22:51.976Z"
   },
   {
    "duration": 4,
    "start_time": "2023-04-28T19:23:42.616Z"
   },
   {
    "duration": 9,
    "start_time": "2023-04-28T19:24:58.931Z"
   },
   {
    "duration": 9,
    "start_time": "2023-04-28T19:25:31.060Z"
   },
   {
    "duration": 8,
    "start_time": "2023-04-28T19:26:07.272Z"
   },
   {
    "duration": 4,
    "start_time": "2023-04-28T19:28:37.695Z"
   },
   {
    "duration": 6,
    "start_time": "2023-04-28T19:31:56.396Z"
   },
   {
    "duration": 1320,
    "start_time": "2023-04-28T19:35:24.510Z"
   },
   {
    "duration": 32,
    "start_time": "2023-04-28T19:35:25.832Z"
   },
   {
    "duration": 21,
    "start_time": "2023-04-28T19:35:25.866Z"
   },
   {
    "duration": 14,
    "start_time": "2023-04-28T19:35:25.889Z"
   },
   {
    "duration": 17,
    "start_time": "2023-04-28T19:35:25.905Z"
   },
   {
    "duration": 10,
    "start_time": "2023-04-28T19:35:25.924Z"
   },
   {
    "duration": 22,
    "start_time": "2023-04-28T19:35:25.936Z"
   },
   {
    "duration": 13,
    "start_time": "2023-04-28T19:35:25.960Z"
   },
   {
    "duration": 5,
    "start_time": "2023-04-28T19:35:25.974Z"
   },
   {
    "duration": 118,
    "start_time": "2023-04-28T19:35:25.980Z"
   },
   {
    "duration": 5,
    "start_time": "2023-04-28T19:35:26.100Z"
   },
   {
    "duration": 5,
    "start_time": "2023-04-28T19:35:26.106Z"
   },
   {
    "duration": 6,
    "start_time": "2023-04-28T19:35:26.112Z"
   },
   {
    "duration": 256,
    "start_time": "2023-04-28T19:35:26.120Z"
   },
   {
    "duration": 1512,
    "start_time": "2023-04-28T19:35:26.378Z"
   },
   {
    "duration": 8060,
    "start_time": "2023-04-28T19:35:27.892Z"
   },
   {
    "duration": 20,
    "start_time": "2023-04-28T19:35:35.955Z"
   },
   {
    "duration": 9,
    "start_time": "2023-04-28T19:35:35.977Z"
   },
   {
    "duration": 8,
    "start_time": "2023-04-28T19:35:35.988Z"
   },
   {
    "duration": 13,
    "start_time": "2023-04-28T19:35:35.997Z"
   },
   {
    "duration": 8,
    "start_time": "2023-04-28T19:35:36.012Z"
   },
   {
    "duration": 38,
    "start_time": "2023-04-28T19:35:36.022Z"
   },
   {
    "duration": 5,
    "start_time": "2023-04-28T19:35:36.061Z"
   },
   {
    "duration": 9,
    "start_time": "2023-04-28T19:35:36.068Z"
   },
   {
    "duration": 6,
    "start_time": "2023-04-28T19:35:36.079Z"
   },
   {
    "duration": 1467,
    "start_time": "2023-04-28T19:43:18.149Z"
   },
   {
    "duration": 30,
    "start_time": "2023-04-28T19:43:19.618Z"
   },
   {
    "duration": 17,
    "start_time": "2023-04-28T19:43:19.650Z"
   },
   {
    "duration": 13,
    "start_time": "2023-04-28T19:43:19.669Z"
   },
   {
    "duration": 11,
    "start_time": "2023-04-28T19:43:19.683Z"
   },
   {
    "duration": 11,
    "start_time": "2023-04-28T19:43:19.696Z"
   },
   {
    "duration": 5,
    "start_time": "2023-04-28T19:43:19.709Z"
   },
   {
    "duration": 49,
    "start_time": "2023-04-28T19:43:19.716Z"
   },
   {
    "duration": 4,
    "start_time": "2023-04-28T19:43:19.766Z"
   },
   {
    "duration": 91,
    "start_time": "2023-04-28T19:43:19.772Z"
   },
   {
    "duration": 3,
    "start_time": "2023-04-28T19:43:19.865Z"
   },
   {
    "duration": 4,
    "start_time": "2023-04-28T19:43:19.870Z"
   },
   {
    "duration": 4,
    "start_time": "2023-04-28T19:43:19.876Z"
   },
   {
    "duration": 204,
    "start_time": "2023-04-28T19:43:19.882Z"
   },
   {
    "duration": 1476,
    "start_time": "2023-04-28T19:43:20.088Z"
   },
   {
    "duration": 8201,
    "start_time": "2023-04-28T19:43:21.566Z"
   },
   {
    "duration": 23,
    "start_time": "2023-04-28T19:43:29.769Z"
   },
   {
    "duration": 9,
    "start_time": "2023-04-28T19:43:29.793Z"
   },
   {
    "duration": 9,
    "start_time": "2023-04-28T19:43:29.804Z"
   },
   {
    "duration": 20,
    "start_time": "2023-04-28T19:43:29.814Z"
   },
   {
    "duration": 8,
    "start_time": "2023-04-28T19:43:29.856Z"
   },
   {
    "duration": 43,
    "start_time": "2023-04-28T19:43:29.866Z"
   },
   {
    "duration": 22,
    "start_time": "2023-04-28T19:43:29.911Z"
   },
   {
    "duration": 10,
    "start_time": "2023-04-28T19:43:29.935Z"
   },
   {
    "duration": 8,
    "start_time": "2023-04-28T19:43:29.947Z"
   },
   {
    "duration": 6,
    "start_time": "2023-04-28T20:53:30.295Z"
   },
   {
    "duration": 7,
    "start_time": "2023-04-28T20:53:34.811Z"
   },
   {
    "duration": 3149,
    "start_time": "2023-04-29T03:36:44.878Z"
   },
   {
    "duration": 45,
    "start_time": "2023-04-29T03:36:48.029Z"
   },
   {
    "duration": 14,
    "start_time": "2023-04-29T03:36:48.076Z"
   },
   {
    "duration": 18,
    "start_time": "2023-04-29T03:36:48.092Z"
   },
   {
    "duration": 14,
    "start_time": "2023-04-29T03:36:48.111Z"
   },
   {
    "duration": 11,
    "start_time": "2023-04-29T03:36:48.126Z"
   },
   {
    "duration": 30,
    "start_time": "2023-04-29T03:36:48.142Z"
   },
   {
    "duration": 15,
    "start_time": "2023-04-29T03:36:48.173Z"
   },
   {
    "duration": 4,
    "start_time": "2023-04-29T03:36:48.189Z"
   },
   {
    "duration": 101,
    "start_time": "2023-04-29T03:36:48.196Z"
   },
   {
    "duration": 3,
    "start_time": "2023-04-29T03:36:48.299Z"
   },
   {
    "duration": 7,
    "start_time": "2023-04-29T03:36:48.304Z"
   },
   {
    "duration": 6,
    "start_time": "2023-04-29T03:36:48.312Z"
   },
   {
    "duration": 207,
    "start_time": "2023-04-29T03:36:48.319Z"
   },
   {
    "duration": 1539,
    "start_time": "2023-04-29T03:36:48.527Z"
   },
   {
    "duration": 8241,
    "start_time": "2023-04-29T03:36:50.069Z"
   },
   {
    "duration": 35,
    "start_time": "2023-04-29T03:36:58.311Z"
   },
   {
    "duration": 13,
    "start_time": "2023-04-29T03:36:58.354Z"
   },
   {
    "duration": 9,
    "start_time": "2023-04-29T03:36:58.369Z"
   },
   {
    "duration": 13,
    "start_time": "2023-04-29T03:36:58.379Z"
   },
   {
    "duration": 9,
    "start_time": "2023-04-29T03:36:58.393Z"
   },
   {
    "duration": 9,
    "start_time": "2023-04-29T03:36:58.403Z"
   },
   {
    "duration": 6,
    "start_time": "2023-04-29T03:36:58.413Z"
   },
   {
    "duration": 8,
    "start_time": "2023-04-29T03:36:58.420Z"
   },
   {
    "duration": 16,
    "start_time": "2023-04-29T03:36:58.429Z"
   },
   {
    "duration": 21,
    "start_time": "2023-04-29T03:36:58.448Z"
   },
   {
    "duration": 17,
    "start_time": "2023-04-29T03:36:58.471Z"
   },
   {
    "duration": 128,
    "start_time": "2023-04-29T06:16:12.283Z"
   },
   {
    "duration": 1642,
    "start_time": "2023-04-29T06:16:32.511Z"
   },
   {
    "duration": 77,
    "start_time": "2023-04-29T06:16:34.156Z"
   },
   {
    "duration": 24,
    "start_time": "2023-04-29T06:16:34.235Z"
   },
   {
    "duration": 14,
    "start_time": "2023-04-29T06:16:34.262Z"
   },
   {
    "duration": 11,
    "start_time": "2023-04-29T06:16:34.277Z"
   },
   {
    "duration": 17,
    "start_time": "2023-04-29T06:16:34.289Z"
   },
   {
    "duration": 9,
    "start_time": "2023-04-29T06:16:34.307Z"
   },
   {
    "duration": 47,
    "start_time": "2023-04-29T06:16:34.318Z"
   },
   {
    "duration": 4,
    "start_time": "2023-04-29T06:16:34.366Z"
   },
   {
    "duration": 173,
    "start_time": "2023-04-29T06:16:34.372Z"
   },
   {
    "duration": 4,
    "start_time": "2023-04-29T06:16:34.547Z"
   },
   {
    "duration": 10,
    "start_time": "2023-04-29T06:16:34.553Z"
   },
   {
    "duration": 6,
    "start_time": "2023-04-29T06:16:34.564Z"
   },
   {
    "duration": 234,
    "start_time": "2023-04-29T06:16:34.572Z"
   },
   {
    "duration": 3,
    "start_time": "2023-04-29T06:36:48.857Z"
   },
   {
    "duration": 26,
    "start_time": "2023-04-29T06:36:48.867Z"
   },
   {
    "duration": 10,
    "start_time": "2023-04-29T06:36:48.895Z"
   },
   {
    "duration": 9,
    "start_time": "2023-04-29T06:36:48.907Z"
   },
   {
    "duration": 11,
    "start_time": "2023-04-29T06:36:48.918Z"
   },
   {
    "duration": 12,
    "start_time": "2023-04-29T06:36:48.931Z"
   },
   {
    "duration": 12,
    "start_time": "2023-04-29T06:36:48.945Z"
   },
   {
    "duration": 42,
    "start_time": "2023-04-29T06:36:48.959Z"
   },
   {
    "duration": 4,
    "start_time": "2023-04-29T06:36:49.003Z"
   },
   {
    "duration": 189,
    "start_time": "2023-04-29T06:36:49.009Z"
   },
   {
    "duration": 5,
    "start_time": "2023-04-29T06:36:49.200Z"
   },
   {
    "duration": 14,
    "start_time": "2023-04-29T06:36:49.207Z"
   },
   {
    "duration": 35,
    "start_time": "2023-04-29T06:36:49.223Z"
   },
   {
    "duration": 194,
    "start_time": "2023-04-29T06:36:49.260Z"
   },
   {
    "duration": 1375,
    "start_time": "2023-04-29T06:36:49.457Z"
   },
   {
    "duration": 7501,
    "start_time": "2023-04-29T06:36:50.834Z"
   },
   {
    "duration": 4,
    "start_time": "2023-04-29T06:37:41.551Z"
   },
   {
    "duration": 31,
    "start_time": "2023-04-29T06:37:41.560Z"
   },
   {
    "duration": 11,
    "start_time": "2023-04-29T06:37:41.593Z"
   },
   {
    "duration": 11,
    "start_time": "2023-04-29T06:37:41.606Z"
   },
   {
    "duration": 18,
    "start_time": "2023-04-29T06:37:41.620Z"
   },
   {
    "duration": 14,
    "start_time": "2023-04-29T06:37:41.640Z"
   },
   {
    "duration": 7,
    "start_time": "2023-04-29T06:37:41.656Z"
   },
   {
    "duration": 40,
    "start_time": "2023-04-29T06:37:41.665Z"
   },
   {
    "duration": 4,
    "start_time": "2023-04-29T06:37:41.707Z"
   },
   {
    "duration": 190,
    "start_time": "2023-04-29T06:37:41.713Z"
   },
   {
    "duration": 3,
    "start_time": "2023-04-29T06:37:41.905Z"
   },
   {
    "duration": 20,
    "start_time": "2023-04-29T06:37:41.909Z"
   },
   {
    "duration": 10,
    "start_time": "2023-04-29T06:37:41.930Z"
   },
   {
    "duration": 173,
    "start_time": "2023-04-29T06:37:41.941Z"
   },
   {
    "duration": 1346,
    "start_time": "2023-04-29T06:37:42.116Z"
   },
   {
    "duration": 7248,
    "start_time": "2023-04-29T06:37:43.463Z"
   },
   {
    "duration": 20,
    "start_time": "2023-04-29T06:37:50.713Z"
   },
   {
    "duration": 9,
    "start_time": "2023-04-29T06:37:50.735Z"
   },
   {
    "duration": 1368,
    "start_time": "2023-04-29T08:00:57.850Z"
   },
   {
    "duration": 28,
    "start_time": "2023-04-29T08:00:59.220Z"
   },
   {
    "duration": 15,
    "start_time": "2023-04-29T08:00:59.250Z"
   },
   {
    "duration": 16,
    "start_time": "2023-04-29T08:00:59.267Z"
   },
   {
    "duration": 10,
    "start_time": "2023-04-29T08:00:59.284Z"
   },
   {
    "duration": 8,
    "start_time": "2023-04-29T08:00:59.296Z"
   },
   {
    "duration": 5,
    "start_time": "2023-04-29T08:00:59.306Z"
   },
   {
    "duration": 11,
    "start_time": "2023-04-29T08:00:59.312Z"
   },
   {
    "duration": 4,
    "start_time": "2023-04-29T08:00:59.324Z"
   },
   {
    "duration": 212,
    "start_time": "2023-04-29T08:00:59.330Z"
   },
   {
    "duration": 4,
    "start_time": "2023-04-29T08:00:59.543Z"
   },
   {
    "duration": 8,
    "start_time": "2023-04-29T08:00:59.549Z"
   },
   {
    "duration": 10,
    "start_time": "2023-04-29T08:00:59.558Z"
   },
   {
    "duration": 253,
    "start_time": "2023-04-29T08:00:59.570Z"
   },
   {
    "duration": 1403,
    "start_time": "2023-04-29T08:00:59.825Z"
   },
   {
    "duration": 7396,
    "start_time": "2023-04-29T08:01:01.229Z"
   },
   {
    "duration": 18,
    "start_time": "2023-04-29T08:01:08.626Z"
   },
   {
    "duration": 9,
    "start_time": "2023-04-29T08:01:08.646Z"
   },
   {
    "duration": 6,
    "start_time": "2023-04-29T08:01:08.657Z"
   },
   {
    "duration": 37,
    "start_time": "2023-04-29T08:01:08.664Z"
   },
   {
    "duration": 14,
    "start_time": "2023-04-29T08:01:08.703Z"
   },
   {
    "duration": 15,
    "start_time": "2023-04-29T08:01:08.719Z"
   },
   {
    "duration": 15,
    "start_time": "2023-04-29T08:01:08.736Z"
   },
   {
    "duration": 11,
    "start_time": "2023-04-29T08:01:08.752Z"
   },
   {
    "duration": 10,
    "start_time": "2023-04-29T08:01:08.764Z"
   },
   {
    "duration": 6,
    "start_time": "2023-04-29T08:01:08.775Z"
   },
   {
    "duration": 7,
    "start_time": "2023-04-29T08:01:08.782Z"
   },
   {
    "duration": 1407,
    "start_time": "2023-04-29T08:02:42.778Z"
   },
   {
    "duration": 30,
    "start_time": "2023-04-29T08:02:44.187Z"
   },
   {
    "duration": 20,
    "start_time": "2023-04-29T08:02:44.219Z"
   },
   {
    "duration": 13,
    "start_time": "2023-04-29T08:02:44.241Z"
   },
   {
    "duration": 13,
    "start_time": "2023-04-29T08:02:44.257Z"
   },
   {
    "duration": 11,
    "start_time": "2023-04-29T08:02:44.272Z"
   },
   {
    "duration": 10,
    "start_time": "2023-04-29T08:02:44.295Z"
   },
   {
    "duration": 17,
    "start_time": "2023-04-29T08:02:44.307Z"
   },
   {
    "duration": 4,
    "start_time": "2023-04-29T08:02:44.326Z"
   },
   {
    "duration": 205,
    "start_time": "2023-04-29T08:02:44.333Z"
   },
   {
    "duration": 3,
    "start_time": "2023-04-29T08:02:44.539Z"
   },
   {
    "duration": 8,
    "start_time": "2023-04-29T08:02:44.544Z"
   },
   {
    "duration": 6,
    "start_time": "2023-04-29T08:02:44.554Z"
   },
   {
    "duration": 204,
    "start_time": "2023-04-29T08:02:44.561Z"
   },
   {
    "duration": 1363,
    "start_time": "2023-04-29T08:02:44.767Z"
   },
   {
    "duration": 7445,
    "start_time": "2023-04-29T08:02:46.132Z"
   },
   {
    "duration": 24,
    "start_time": "2023-04-29T08:02:53.579Z"
   },
   {
    "duration": 8,
    "start_time": "2023-04-29T08:02:53.604Z"
   },
   {
    "duration": 6,
    "start_time": "2023-04-29T08:02:53.613Z"
   },
   {
    "duration": 9,
    "start_time": "2023-04-29T08:02:53.621Z"
   },
   {
    "duration": 8,
    "start_time": "2023-04-29T08:02:53.631Z"
   },
   {
    "duration": 5,
    "start_time": "2023-04-29T08:02:53.640Z"
   },
   {
    "duration": 3,
    "start_time": "2023-04-29T08:02:53.647Z"
   },
   {
    "duration": 6,
    "start_time": "2023-04-29T08:02:53.694Z"
   },
   {
    "duration": 7,
    "start_time": "2023-04-29T08:02:53.702Z"
   },
   {
    "duration": 1408,
    "start_time": "2023-04-29T08:05:54.586Z"
   },
   {
    "duration": 29,
    "start_time": "2023-04-29T08:05:55.996Z"
   },
   {
    "duration": 17,
    "start_time": "2023-04-29T08:05:56.026Z"
   },
   {
    "duration": 11,
    "start_time": "2023-04-29T08:05:56.045Z"
   },
   {
    "duration": 10,
    "start_time": "2023-04-29T08:05:56.059Z"
   },
   {
    "duration": 10,
    "start_time": "2023-04-29T08:05:56.071Z"
   },
   {
    "duration": 13,
    "start_time": "2023-04-29T08:05:56.083Z"
   },
   {
    "duration": 26,
    "start_time": "2023-04-29T08:05:56.098Z"
   },
   {
    "duration": 5,
    "start_time": "2023-04-29T08:05:56.126Z"
   },
   {
    "duration": 231,
    "start_time": "2023-04-29T08:05:56.133Z"
   },
   {
    "duration": 5,
    "start_time": "2023-04-29T08:05:56.366Z"
   },
   {
    "duration": 6,
    "start_time": "2023-04-29T08:05:56.372Z"
   },
   {
    "duration": 5,
    "start_time": "2023-04-29T08:05:56.394Z"
   },
   {
    "duration": 217,
    "start_time": "2023-04-29T08:05:56.401Z"
   },
   {
    "duration": 1664,
    "start_time": "2023-04-29T08:05:56.619Z"
   },
   {
    "duration": 8760,
    "start_time": "2023-04-29T08:05:58.285Z"
   },
   {
    "duration": 33,
    "start_time": "2023-04-29T08:06:07.047Z"
   },
   {
    "duration": 17,
    "start_time": "2023-04-29T08:06:07.082Z"
   },
   {
    "duration": 6,
    "start_time": "2023-04-29T08:06:07.101Z"
   },
   {
    "duration": 11,
    "start_time": "2023-04-29T08:06:07.109Z"
   },
   {
    "duration": 8,
    "start_time": "2023-04-29T08:06:07.121Z"
   },
   {
    "duration": 5,
    "start_time": "2023-04-29T08:06:07.130Z"
   },
   {
    "duration": 4,
    "start_time": "2023-04-29T08:06:07.137Z"
   },
   {
    "duration": 9,
    "start_time": "2023-04-29T08:06:07.142Z"
   },
   {
    "duration": 41,
    "start_time": "2023-04-29T08:06:07.153Z"
   },
   {
    "duration": 6,
    "start_time": "2023-04-29T08:06:07.196Z"
   },
   {
    "duration": 6,
    "start_time": "2023-04-29T08:06:07.204Z"
   },
   {
    "duration": 2122,
    "start_time": "2023-04-29T11:09:05.162Z"
   },
   {
    "duration": 198,
    "start_time": "2023-04-29T11:09:07.286Z"
   },
   {
    "duration": 21,
    "start_time": "2023-04-29T11:09:07.486Z"
   },
   {
    "duration": 15,
    "start_time": "2023-04-29T11:09:07.508Z"
   },
   {
    "duration": 21,
    "start_time": "2023-04-29T11:09:07.525Z"
   },
   {
    "duration": 22,
    "start_time": "2023-04-29T11:09:07.558Z"
   },
   {
    "duration": 16,
    "start_time": "2023-04-29T11:09:07.583Z"
   },
   {
    "duration": 23,
    "start_time": "2023-04-29T11:09:07.601Z"
   },
   {
    "duration": 5,
    "start_time": "2023-04-29T11:09:07.627Z"
   },
   {
    "duration": 333,
    "start_time": "2023-04-29T11:09:07.634Z"
   },
   {
    "duration": 6,
    "start_time": "2023-04-29T11:09:07.972Z"
   },
   {
    "duration": 17,
    "start_time": "2023-04-29T11:09:07.979Z"
   },
   {
    "duration": 11,
    "start_time": "2023-04-29T11:09:07.997Z"
   },
   {
    "duration": 293,
    "start_time": "2023-04-29T11:09:08.012Z"
   },
   {
    "duration": 2279,
    "start_time": "2023-04-29T11:09:08.308Z"
   },
   {
    "duration": 12220,
    "start_time": "2023-04-29T11:09:10.590Z"
   },
   {
    "duration": 63,
    "start_time": "2023-04-29T11:09:22.812Z"
   },
   {
    "duration": 18,
    "start_time": "2023-04-29T11:09:22.877Z"
   },
   {
    "duration": 11,
    "start_time": "2023-04-29T11:10:08.409Z"
   },
   {
    "duration": 15,
    "start_time": "2023-04-29T11:11:06.734Z"
   },
   {
    "duration": 11,
    "start_time": "2023-04-29T11:11:14.289Z"
   },
   {
    "duration": 5,
    "start_time": "2023-04-29T11:14:32.080Z"
   },
   {
    "duration": 10,
    "start_time": "2023-04-29T11:14:35.824Z"
   },
   {
    "duration": 8,
    "start_time": "2023-04-29T11:14:37.072Z"
   },
   {
    "duration": 5,
    "start_time": "2023-04-29T11:17:40.591Z"
   },
   {
    "duration": 1763,
    "start_time": "2023-04-29T11:21:23.516Z"
   },
   {
    "duration": 44,
    "start_time": "2023-04-29T11:21:25.288Z"
   },
   {
    "duration": 23,
    "start_time": "2023-04-29T11:21:25.335Z"
   },
   {
    "duration": 46,
    "start_time": "2023-04-29T11:21:25.360Z"
   },
   {
    "duration": 20,
    "start_time": "2023-04-29T11:21:25.408Z"
   },
   {
    "duration": 30,
    "start_time": "2023-04-29T11:21:25.430Z"
   },
   {
    "duration": 40,
    "start_time": "2023-04-29T11:21:25.462Z"
   },
   {
    "duration": 30,
    "start_time": "2023-04-29T11:21:25.504Z"
   },
   {
    "duration": 15,
    "start_time": "2023-04-29T11:21:25.536Z"
   },
   {
    "duration": 323,
    "start_time": "2023-04-29T11:21:25.565Z"
   },
   {
    "duration": 5,
    "start_time": "2023-04-29T11:21:25.891Z"
   },
   {
    "duration": 38,
    "start_time": "2023-04-29T11:21:25.899Z"
   },
   {
    "duration": 66,
    "start_time": "2023-04-29T11:21:25.940Z"
   },
   {
    "duration": 361,
    "start_time": "2023-04-29T11:21:26.008Z"
   },
   {
    "duration": 2417,
    "start_time": "2023-04-29T11:21:26.375Z"
   },
   {
    "duration": 13137,
    "start_time": "2023-04-29T11:21:28.799Z"
   },
   {
    "duration": 53,
    "start_time": "2023-04-29T11:21:41.940Z"
   },
   {
    "duration": 31,
    "start_time": "2023-04-29T11:21:41.996Z"
   },
   {
    "duration": 64,
    "start_time": "2023-04-29T11:23:47.760Z"
   },
   {
    "duration": 13,
    "start_time": "2023-04-29T11:24:13.121Z"
   },
   {
    "duration": 10,
    "start_time": "2023-04-29T11:24:33.762Z"
   },
   {
    "duration": 3,
    "start_time": "2023-04-29T11:24:34.606Z"
   },
   {
    "duration": 7,
    "start_time": "2023-04-29T11:24:35.698Z"
   },
   {
    "duration": 14,
    "start_time": "2023-04-29T11:24:41.331Z"
   },
   {
    "duration": 4,
    "start_time": "2023-04-29T11:24:42.097Z"
   },
   {
    "duration": 1830,
    "start_time": "2023-04-29T11:25:13.206Z"
   },
   {
    "duration": 73,
    "start_time": "2023-04-29T11:25:15.039Z"
   },
   {
    "duration": 42,
    "start_time": "2023-04-29T11:25:15.115Z"
   },
   {
    "duration": 28,
    "start_time": "2023-04-29T11:25:15.159Z"
   },
   {
    "duration": 29,
    "start_time": "2023-04-29T11:25:15.190Z"
   },
   {
    "duration": 14,
    "start_time": "2023-04-29T11:25:15.222Z"
   },
   {
    "duration": 74,
    "start_time": "2023-04-29T11:25:15.239Z"
   },
   {
    "duration": 20,
    "start_time": "2023-04-29T11:25:15.315Z"
   },
   {
    "duration": 19,
    "start_time": "2023-04-29T11:25:15.338Z"
   },
   {
    "duration": 322,
    "start_time": "2023-04-29T11:25:15.360Z"
   },
   {
    "duration": 5,
    "start_time": "2023-04-29T11:25:15.684Z"
   },
   {
    "duration": 6,
    "start_time": "2023-04-29T11:25:15.691Z"
   },
   {
    "duration": 32,
    "start_time": "2023-04-29T11:25:15.699Z"
   },
   {
    "duration": 340,
    "start_time": "2023-04-29T11:25:15.733Z"
   },
   {
    "duration": 2448,
    "start_time": "2023-04-29T11:25:16.078Z"
   },
   {
    "duration": 13449,
    "start_time": "2023-04-29T11:25:18.528Z"
   },
   {
    "duration": 46,
    "start_time": "2023-04-29T11:25:31.979Z"
   },
   {
    "duration": 27,
    "start_time": "2023-04-29T11:25:32.027Z"
   },
   {
    "duration": 77,
    "start_time": "2023-04-29T11:25:38.516Z"
   },
   {
    "duration": 3,
    "start_time": "2023-04-29T11:25:43.328Z"
   },
   {
    "duration": 10,
    "start_time": "2023-04-29T11:25:44.123Z"
   },
   {
    "duration": 10,
    "start_time": "2023-04-29T11:25:47.339Z"
   },
   {
    "duration": 3,
    "start_time": "2023-04-29T11:25:47.807Z"
   },
   {
    "duration": 7,
    "start_time": "2023-04-29T11:25:48.483Z"
   },
   {
    "duration": 14,
    "start_time": "2023-04-29T11:25:49.479Z"
   },
   {
    "duration": 4,
    "start_time": "2023-04-29T11:25:50.209Z"
   },
   {
    "duration": 2096,
    "start_time": "2023-04-29T11:27:01.560Z"
   },
   {
    "duration": 56,
    "start_time": "2023-04-29T11:27:03.669Z"
   },
   {
    "duration": 52,
    "start_time": "2023-04-29T11:27:03.727Z"
   },
   {
    "duration": 41,
    "start_time": "2023-04-29T11:27:03.783Z"
   },
   {
    "duration": 70,
    "start_time": "2023-04-29T11:27:03.826Z"
   },
   {
    "duration": 42,
    "start_time": "2023-04-29T11:27:03.898Z"
   },
   {
    "duration": 72,
    "start_time": "2023-04-29T11:27:03.943Z"
   },
   {
    "duration": 43,
    "start_time": "2023-04-29T11:27:04.018Z"
   },
   {
    "duration": 68,
    "start_time": "2023-04-29T11:27:04.065Z"
   },
   {
    "duration": 412,
    "start_time": "2023-04-29T11:27:04.137Z"
   },
   {
    "duration": 22,
    "start_time": "2023-04-29T11:27:04.550Z"
   },
   {
    "duration": 71,
    "start_time": "2023-04-29T11:27:04.574Z"
   },
   {
    "duration": 72,
    "start_time": "2023-04-29T11:27:04.657Z"
   },
   {
    "duration": 380,
    "start_time": "2023-04-29T11:27:04.731Z"
   },
   {
    "duration": 2813,
    "start_time": "2023-04-29T11:27:05.123Z"
   },
   {
    "duration": 14974,
    "start_time": "2023-04-29T11:27:07.938Z"
   },
   {
    "duration": 64,
    "start_time": "2023-04-29T11:27:22.914Z"
   },
   {
    "duration": 163,
    "start_time": "2023-04-29T11:27:22.985Z"
   },
   {
    "duration": 242,
    "start_time": "2023-04-29T11:27:23.159Z"
   },
   {
    "duration": 80,
    "start_time": "2023-04-29T11:27:23.409Z"
   },
   {
    "duration": 13,
    "start_time": "2023-04-29T11:27:28.830Z"
   },
   {
    "duration": 4,
    "start_time": "2023-04-29T11:27:38.496Z"
   },
   {
    "duration": 3,
    "start_time": "2023-04-29T11:27:39.020Z"
   },
   {
    "duration": 14,
    "start_time": "2023-04-29T11:27:40.165Z"
   },
   {
    "duration": 22,
    "start_time": "2023-04-29T11:27:41.958Z"
   },
   {
    "duration": 10,
    "start_time": "2023-04-29T11:27:43.479Z"
   },
   {
    "duration": 2070,
    "start_time": "2023-04-29T11:30:23.492Z"
   },
   {
    "duration": 47,
    "start_time": "2023-04-29T11:30:25.573Z"
   },
   {
    "duration": 30,
    "start_time": "2023-04-29T11:30:25.622Z"
   },
   {
    "duration": 53,
    "start_time": "2023-04-29T11:30:25.667Z"
   },
   {
    "duration": 15,
    "start_time": "2023-04-29T11:30:25.722Z"
   },
   {
    "duration": 71,
    "start_time": "2023-04-29T11:30:25.739Z"
   },
   {
    "duration": 10,
    "start_time": "2023-04-29T11:30:25.812Z"
   },
   {
    "duration": 14,
    "start_time": "2023-04-29T11:30:25.824Z"
   },
   {
    "duration": 55,
    "start_time": "2023-04-29T11:30:25.840Z"
   },
   {
    "duration": 405,
    "start_time": "2023-04-29T11:30:25.899Z"
   },
   {
    "duration": 15,
    "start_time": "2023-04-29T11:30:26.308Z"
   },
   {
    "duration": 34,
    "start_time": "2023-04-29T11:30:26.326Z"
   },
   {
    "duration": 65,
    "start_time": "2023-04-29T11:30:26.364Z"
   },
   {
    "duration": 391,
    "start_time": "2023-04-29T11:30:26.432Z"
   },
   {
    "duration": 2578,
    "start_time": "2023-04-29T11:30:26.828Z"
   },
   {
    "duration": 28068,
    "start_time": "2023-04-29T11:31:19.907Z"
   },
   {
    "duration": 45087,
    "start_time": "2023-04-29T11:32:15.866Z"
   },
   {
    "duration": 55136,
    "start_time": "2023-04-29T11:33:23.863Z"
   },
   {
    "duration": 83909,
    "start_time": "2023-04-29T11:34:43.509Z"
   },
   {
    "duration": 13091,
    "start_time": "2023-04-29T11:36:23.623Z"
   },
   {
    "duration": 1833,
    "start_time": "2023-04-29T11:39:06.383Z"
   },
   {
    "duration": 62,
    "start_time": "2023-04-29T11:39:08.219Z"
   },
   {
    "duration": 24,
    "start_time": "2023-04-29T11:39:08.283Z"
   },
   {
    "duration": 19,
    "start_time": "2023-04-29T11:39:08.310Z"
   },
   {
    "duration": 55,
    "start_time": "2023-04-29T11:39:08.331Z"
   },
   {
    "duration": 14,
    "start_time": "2023-04-29T11:39:08.388Z"
   },
   {
    "duration": 26,
    "start_time": "2023-04-29T11:39:08.405Z"
   },
   {
    "duration": 67,
    "start_time": "2023-04-29T11:39:08.434Z"
   },
   {
    "duration": 24,
    "start_time": "2023-04-29T11:39:08.503Z"
   },
   {
    "duration": 263,
    "start_time": "2023-04-29T11:39:08.530Z"
   },
   {
    "duration": 4,
    "start_time": "2023-04-29T11:39:08.795Z"
   },
   {
    "duration": 16,
    "start_time": "2023-04-29T11:39:08.801Z"
   },
   {
    "duration": 33,
    "start_time": "2023-04-29T11:39:08.820Z"
   },
   {
    "duration": 314,
    "start_time": "2023-04-29T11:39:08.856Z"
   },
   {
    "duration": 5,
    "start_time": "2023-04-29T11:41:04.008Z"
   },
   {
    "duration": 121,
    "start_time": "2023-04-29T11:41:04.015Z"
   },
   {
    "duration": 55,
    "start_time": "2023-04-29T11:41:04.138Z"
   },
   {
    "duration": 92,
    "start_time": "2023-04-29T11:41:04.196Z"
   },
   {
    "duration": 119,
    "start_time": "2023-04-29T11:41:04.290Z"
   },
   {
    "duration": 42,
    "start_time": "2023-04-29T11:41:04.411Z"
   },
   {
    "duration": 150,
    "start_time": "2023-04-29T11:41:04.455Z"
   },
   {
    "duration": 182,
    "start_time": "2023-04-29T11:41:04.607Z"
   },
   {
    "duration": 188,
    "start_time": "2023-04-29T11:41:04.791Z"
   },
   {
    "duration": 425,
    "start_time": "2023-04-29T11:41:04.983Z"
   },
   {
    "duration": 5,
    "start_time": "2023-04-29T11:41:05.410Z"
   },
   {
    "duration": 16,
    "start_time": "2023-04-29T11:41:05.417Z"
   },
   {
    "duration": 65,
    "start_time": "2023-04-29T11:41:05.443Z"
   },
   {
    "duration": 294,
    "start_time": "2023-04-29T11:41:05.510Z"
   },
   {
    "duration": 2189,
    "start_time": "2023-04-29T11:41:05.806Z"
   },
   {
    "duration": 11771,
    "start_time": "2023-04-29T11:41:07.999Z"
   },
   {
    "duration": 27,
    "start_time": "2023-04-29T11:41:19.786Z"
   },
   {
    "duration": 11,
    "start_time": "2023-04-29T11:41:19.815Z"
   },
   {
    "duration": 101,
    "start_time": "2023-04-29T11:41:19.828Z"
   },
   {
    "duration": 3,
    "start_time": "2023-04-29T11:41:19.931Z"
   },
   {
    "duration": 66,
    "start_time": "2023-04-29T11:41:19.936Z"
   },
   {
    "duration": 13,
    "start_time": "2023-04-29T11:41:20.004Z"
   },
   {
    "duration": 12,
    "start_time": "2023-04-29T11:41:20.019Z"
   },
   {
    "duration": 48,
    "start_time": "2023-04-29T11:42:21.820Z"
   },
   {
    "duration": 15,
    "start_time": "2023-04-29T11:42:23.288Z"
   },
   {
    "duration": 22,
    "start_time": "2023-04-29T11:42:23.874Z"
   },
   {
    "duration": 2005,
    "start_time": "2023-04-29T11:42:42.971Z"
   },
   {
    "duration": 44,
    "start_time": "2023-04-29T11:42:44.979Z"
   },
   {
    "duration": 85,
    "start_time": "2023-04-29T11:42:45.025Z"
   },
   {
    "duration": 23,
    "start_time": "2023-04-29T11:42:45.112Z"
   },
   {
    "duration": 43,
    "start_time": "2023-04-29T11:42:45.137Z"
   },
   {
    "duration": 50,
    "start_time": "2023-04-29T11:42:45.185Z"
   },
   {
    "duration": 70,
    "start_time": "2023-04-29T11:42:45.238Z"
   },
   {
    "duration": 17,
    "start_time": "2023-04-29T11:42:45.310Z"
   },
   {
    "duration": 6,
    "start_time": "2023-04-29T11:42:45.329Z"
   },
   {
    "duration": 358,
    "start_time": "2023-04-29T11:42:45.339Z"
   },
   {
    "duration": 10,
    "start_time": "2023-04-29T11:42:45.700Z"
   },
   {
    "duration": 42,
    "start_time": "2023-04-29T11:42:45.713Z"
   },
   {
    "duration": 76,
    "start_time": "2023-04-29T11:42:45.758Z"
   },
   {
    "duration": 356,
    "start_time": "2023-04-29T11:42:45.836Z"
   },
   {
    "duration": 2267,
    "start_time": "2023-04-29T11:42:46.199Z"
   },
   {
    "duration": 13070,
    "start_time": "2023-04-29T11:42:48.473Z"
   },
   {
    "duration": 40,
    "start_time": "2023-04-29T11:43:01.549Z"
   },
   {
    "duration": 382,
    "start_time": "2023-04-29T11:43:01.599Z"
   },
   {
    "duration": 173,
    "start_time": "2023-04-29T11:43:01.985Z"
   },
   {
    "duration": 64,
    "start_time": "2023-04-29T11:43:02.162Z"
   },
   {
    "duration": 17,
    "start_time": "2023-04-29T11:43:02.230Z"
   },
   {
    "duration": 1905,
    "start_time": "2023-04-29T11:44:47.186Z"
   },
   {
    "duration": 38,
    "start_time": "2023-04-29T11:44:49.100Z"
   },
   {
    "duration": 44,
    "start_time": "2023-04-29T11:44:49.141Z"
   },
   {
    "duration": 29,
    "start_time": "2023-04-29T11:44:49.188Z"
   },
   {
    "duration": 61,
    "start_time": "2023-04-29T11:44:49.220Z"
   },
   {
    "duration": 41,
    "start_time": "2023-04-29T11:44:49.291Z"
   },
   {
    "duration": 52,
    "start_time": "2023-04-29T11:44:49.334Z"
   },
   {
    "duration": 34,
    "start_time": "2023-04-29T11:44:49.388Z"
   },
   {
    "duration": 18,
    "start_time": "2023-04-29T11:44:49.425Z"
   },
   {
    "duration": 310,
    "start_time": "2023-04-29T11:44:49.453Z"
   },
   {
    "duration": 13,
    "start_time": "2023-04-29T11:44:49.766Z"
   },
   {
    "duration": 83,
    "start_time": "2023-04-29T11:44:49.781Z"
   },
   {
    "duration": 102,
    "start_time": "2023-04-29T11:44:49.866Z"
   },
   {
    "duration": 342,
    "start_time": "2023-04-29T11:44:49.974Z"
   },
   {
    "duration": 10,
    "start_time": "2023-04-29T11:45:06.583Z"
   },
   {
    "duration": 80,
    "start_time": "2023-04-29T11:45:06.596Z"
   },
   {
    "duration": 25,
    "start_time": "2023-04-29T11:45:06.684Z"
   },
   {
    "duration": 37,
    "start_time": "2023-04-29T11:45:06.711Z"
   },
   {
    "duration": 71,
    "start_time": "2023-04-29T11:45:06.750Z"
   },
   {
    "duration": 18,
    "start_time": "2023-04-29T11:45:06.824Z"
   },
   {
    "duration": 63,
    "start_time": "2023-04-29T11:45:06.844Z"
   },
   {
    "duration": 47,
    "start_time": "2023-04-29T11:45:06.910Z"
   },
   {
    "duration": 35,
    "start_time": "2023-04-29T11:45:06.966Z"
   },
   {
    "duration": 278,
    "start_time": "2023-04-29T11:45:07.004Z"
   },
   {
    "duration": 5,
    "start_time": "2023-04-29T11:45:07.284Z"
   },
   {
    "duration": 5,
    "start_time": "2023-04-29T11:45:07.291Z"
   },
   {
    "duration": 26,
    "start_time": "2023-04-29T11:45:07.300Z"
   },
   {
    "duration": 460,
    "start_time": "2023-04-29T11:45:07.328Z"
   },
   {
    "duration": 15924,
    "start_time": "2023-04-29T11:45:07.790Z"
   },
   {
    "duration": 84355,
    "start_time": "2023-04-29T11:45:23.716Z"
   },
   {
    "duration": 33,
    "start_time": "2023-04-29T11:46:48.078Z"
   },
   {
    "duration": 86,
    "start_time": "2023-04-29T11:46:48.113Z"
   },
   {
    "duration": 50,
    "start_time": "2023-04-29T11:47:25.967Z"
   },
   {
    "duration": 6,
    "start_time": "2023-04-29T11:47:30.281Z"
   },
   {
    "duration": 10,
    "start_time": "2023-04-29T11:47:31.012Z"
   },
   {
    "duration": 101,
    "start_time": "2023-04-29T11:48:18.919Z"
   },
   {
    "duration": 7,
    "start_time": "2023-04-29T11:48:20.588Z"
   },
   {
    "duration": 25,
    "start_time": "2023-04-29T11:48:21.830Z"
   },
   {
    "duration": 1998,
    "start_time": "2023-04-29T11:48:41.224Z"
   },
   {
    "duration": 74,
    "start_time": "2023-04-29T11:48:43.228Z"
   },
   {
    "duration": 44,
    "start_time": "2023-04-29T11:48:43.309Z"
   },
   {
    "duration": 22,
    "start_time": "2023-04-29T11:48:43.373Z"
   },
   {
    "duration": 33,
    "start_time": "2023-04-29T11:48:43.402Z"
   },
   {
    "duration": 43,
    "start_time": "2023-04-29T11:48:43.438Z"
   },
   {
    "duration": 35,
    "start_time": "2023-04-29T11:48:43.484Z"
   },
   {
    "duration": 17,
    "start_time": "2023-04-29T11:48:43.522Z"
   },
   {
    "duration": 62,
    "start_time": "2023-04-29T11:48:43.552Z"
   },
   {
    "duration": 370,
    "start_time": "2023-04-29T11:48:43.619Z"
   },
   {
    "duration": 11,
    "start_time": "2023-04-29T11:48:43.994Z"
   },
   {
    "duration": 12,
    "start_time": "2023-04-29T11:48:44.008Z"
   },
   {
    "duration": 6,
    "start_time": "2023-04-29T11:48:44.022Z"
   },
   {
    "duration": 323,
    "start_time": "2023-04-29T11:48:44.030Z"
   },
   {
    "duration": 16284,
    "start_time": "2023-04-29T11:48:44.357Z"
   },
   {
    "duration": 85469,
    "start_time": "2023-04-29T11:49:00.643Z"
   },
   {
    "duration": 48,
    "start_time": "2023-04-29T11:50:26.115Z"
   },
   {
    "duration": 57,
    "start_time": "2023-04-29T11:50:26.166Z"
   },
   {
    "duration": 114,
    "start_time": "2023-04-29T11:50:53.364Z"
   },
   {
    "duration": 4,
    "start_time": "2023-04-29T11:50:55.119Z"
   },
   {
    "duration": 13,
    "start_time": "2023-04-29T11:50:55.584Z"
   },
   {
    "duration": 39,
    "start_time": "2023-04-29T11:51:16.288Z"
   },
   {
    "duration": 4,
    "start_time": "2023-04-29T11:51:17.469Z"
   },
   {
    "duration": 10,
    "start_time": "2023-04-29T11:51:17.973Z"
   },
   {
    "duration": 173089,
    "start_time": "2023-04-29T11:52:32.083Z"
   },
   {
    "duration": 255838,
    "start_time": "2023-04-29T11:55:45.371Z"
   },
   {
    "duration": 357797,
    "start_time": "2023-04-29T12:00:54.915Z"
   },
   {
    "duration": 1964,
    "start_time": "2023-04-29T12:08:51.629Z"
   },
   {
    "duration": 33,
    "start_time": "2023-04-29T12:08:53.597Z"
   },
   {
    "duration": 32,
    "start_time": "2023-04-29T12:08:53.632Z"
   },
   {
    "duration": 54,
    "start_time": "2023-04-29T12:08:53.667Z"
   },
   {
    "duration": 13,
    "start_time": "2023-04-29T12:08:53.723Z"
   },
   {
    "duration": 27,
    "start_time": "2023-04-29T12:08:53.739Z"
   },
   {
    "duration": 24,
    "start_time": "2023-04-29T12:08:53.777Z"
   },
   {
    "duration": 18,
    "start_time": "2023-04-29T12:08:53.804Z"
   },
   {
    "duration": 12,
    "start_time": "2023-04-29T12:08:53.825Z"
   },
   {
    "duration": 373,
    "start_time": "2023-04-29T12:08:53.842Z"
   },
   {
    "duration": 6,
    "start_time": "2023-04-29T12:08:54.218Z"
   },
   {
    "duration": 44,
    "start_time": "2023-04-29T12:08:54.243Z"
   },
   {
    "duration": 12,
    "start_time": "2023-04-29T12:08:54.290Z"
   },
   {
    "duration": 297,
    "start_time": "2023-04-29T12:08:54.304Z"
   },
   {
    "duration": 21455,
    "start_time": "2023-04-29T12:08:54.604Z"
   },
   {
    "duration": 104937,
    "start_time": "2023-04-29T12:09:16.067Z"
   },
   {
    "duration": 65,
    "start_time": "2023-04-29T12:11:01.007Z"
   },
   {
    "duration": 217,
    "start_time": "2023-04-29T12:11:01.075Z"
   },
   {
    "duration": 231,
    "start_time": "2023-04-29T12:11:01.295Z"
   },
   {
    "duration": 4,
    "start_time": "2023-04-29T12:11:01.529Z"
   },
   {
    "duration": 102,
    "start_time": "2023-04-29T12:11:01.535Z"
   },
   {
    "duration": 67,
    "start_time": "2023-04-29T12:11:01.639Z"
   },
   {
    "duration": 30,
    "start_time": "2023-04-29T12:11:01.708Z"
   },
   {
    "duration": 94,
    "start_time": "2023-04-29T12:11:01.741Z"
   },
   {
    "duration": 92,
    "start_time": "2023-04-29T12:11:01.837Z"
   },
   {
    "duration": 97,
    "start_time": "2023-04-29T12:11:01.931Z"
   },
   {
    "duration": 156,
    "start_time": "2023-04-29T12:11:34.039Z"
   },
   {
    "duration": 3,
    "start_time": "2023-04-29T12:11:36.627Z"
   },
   {
    "duration": 27,
    "start_time": "2023-04-29T12:11:37.161Z"
   },
   {
    "duration": 1946,
    "start_time": "2023-04-29T12:12:06.279Z"
   },
   {
    "duration": 66,
    "start_time": "2023-04-29T12:12:08.229Z"
   },
   {
    "duration": 38,
    "start_time": "2023-04-29T12:12:08.297Z"
   },
   {
    "duration": 25,
    "start_time": "2023-04-29T12:12:08.338Z"
   },
   {
    "duration": 60,
    "start_time": "2023-04-29T12:12:08.365Z"
   },
   {
    "duration": 29,
    "start_time": "2023-04-29T12:12:08.427Z"
   },
   {
    "duration": 63,
    "start_time": "2023-04-29T12:12:08.458Z"
   },
   {
    "duration": 101,
    "start_time": "2023-04-29T12:12:08.523Z"
   },
   {
    "duration": 76,
    "start_time": "2023-04-29T12:12:08.626Z"
   },
   {
    "duration": 323,
    "start_time": "2023-04-29T12:12:08.705Z"
   },
   {
    "duration": 16,
    "start_time": "2023-04-29T12:12:09.029Z"
   },
   {
    "duration": 55,
    "start_time": "2023-04-29T12:12:09.047Z"
   },
   {
    "duration": 19,
    "start_time": "2023-04-29T12:12:09.104Z"
   },
   {
    "duration": 334,
    "start_time": "2023-04-29T12:12:09.125Z"
   },
   {
    "duration": 19669,
    "start_time": "2023-04-29T12:12:09.461Z"
   },
   {
    "duration": 103433,
    "start_time": "2023-04-29T12:12:29.131Z"
   },
   {
    "duration": 47,
    "start_time": "2023-04-29T12:14:12.567Z"
   },
   {
    "duration": 10,
    "start_time": "2023-04-29T12:14:12.616Z"
   },
   {
    "duration": 161,
    "start_time": "2023-04-29T12:14:12.647Z"
   },
   {
    "duration": 3,
    "start_time": "2023-04-29T12:14:12.810Z"
   },
   {
    "duration": 34,
    "start_time": "2023-04-29T12:14:12.814Z"
   },
   {
    "duration": 46,
    "start_time": "2023-04-29T12:14:12.855Z"
   },
   {
    "duration": 89,
    "start_time": "2023-04-29T12:14:12.903Z"
   },
   {
    "duration": 13,
    "start_time": "2023-04-29T12:14:12.994Z"
   },
   {
    "duration": 23,
    "start_time": "2023-04-29T12:14:13.009Z"
   },
   {
    "duration": 56,
    "start_time": "2023-04-29T12:14:13.034Z"
   },
   {
    "duration": 142,
    "start_time": "2023-04-29T12:28:13.811Z"
   },
   {
    "duration": 3,
    "start_time": "2023-04-29T12:28:14.723Z"
   },
   {
    "duration": 14,
    "start_time": "2023-04-29T12:28:15.213Z"
   },
   {
    "duration": 57,
    "start_time": "2023-04-29T12:28:31.075Z"
   },
   {
    "duration": 21,
    "start_time": "2023-04-29T12:28:37.679Z"
   },
   {
    "duration": 22,
    "start_time": "2023-04-29T12:29:07.632Z"
   },
   {
    "duration": 92782,
    "start_time": "2023-04-29T13:39:27.422Z"
   },
   {
    "duration": 1462,
    "start_time": "2023-05-01T09:58:59.821Z"
   },
   {
    "duration": 112,
    "start_time": "2023-05-01T09:59:01.285Z"
   },
   {
    "duration": 20,
    "start_time": "2023-05-01T09:59:01.398Z"
   },
   {
    "duration": 11,
    "start_time": "2023-05-01T09:59:01.420Z"
   },
   {
    "duration": 21,
    "start_time": "2023-05-01T09:59:01.432Z"
   },
   {
    "duration": 21,
    "start_time": "2023-05-01T09:59:01.454Z"
   },
   {
    "duration": 25,
    "start_time": "2023-05-01T09:59:01.476Z"
   },
   {
    "duration": 41,
    "start_time": "2023-05-01T09:59:01.503Z"
   },
   {
    "duration": 68,
    "start_time": "2023-05-01T09:59:01.546Z"
   },
   {
    "duration": 267,
    "start_time": "2023-05-01T09:59:01.617Z"
   },
   {
    "duration": 3,
    "start_time": "2023-05-01T09:59:01.886Z"
   },
   {
    "duration": 235,
    "start_time": "2023-05-01T09:59:01.890Z"
   },
   {
    "duration": 59,
    "start_time": "2023-05-01T09:59:02.127Z"
   },
   {
    "duration": 247,
    "start_time": "2023-05-01T09:59:02.188Z"
   },
   {
    "duration": 13086,
    "start_time": "2023-05-01T09:59:02.436Z"
   },
   {
    "duration": 1432,
    "start_time": "2023-05-01T10:00:34.330Z"
   },
   {
    "duration": 31,
    "start_time": "2023-05-01T10:00:35.764Z"
   },
   {
    "duration": 16,
    "start_time": "2023-05-01T10:00:35.797Z"
   },
   {
    "duration": 21,
    "start_time": "2023-05-01T10:00:35.814Z"
   },
   {
    "duration": 35,
    "start_time": "2023-05-01T10:00:35.837Z"
   },
   {
    "duration": 20,
    "start_time": "2023-05-01T10:00:35.874Z"
   },
   {
    "duration": 26,
    "start_time": "2023-05-01T10:00:35.896Z"
   },
   {
    "duration": 20,
    "start_time": "2023-05-01T10:00:35.924Z"
   },
   {
    "duration": 37,
    "start_time": "2023-05-01T10:00:35.946Z"
   },
   {
    "duration": 297,
    "start_time": "2023-05-01T10:00:35.986Z"
   },
   {
    "duration": 5,
    "start_time": "2023-05-01T10:00:36.285Z"
   },
   {
    "duration": 12,
    "start_time": "2023-05-01T10:00:36.291Z"
   },
   {
    "duration": 12,
    "start_time": "2023-05-01T10:00:36.305Z"
   },
   {
    "duration": 236,
    "start_time": "2023-05-01T10:00:36.321Z"
   },
   {
    "duration": 12829,
    "start_time": "2023-05-01T10:00:36.559Z"
   },
   {
    "duration": 69553,
    "start_time": "2023-05-01T10:00:49.389Z"
   },
   {
    "duration": 33,
    "start_time": "2023-05-01T10:01:58.944Z"
   },
   {
    "duration": 9,
    "start_time": "2023-05-01T10:01:58.978Z"
   },
   {
    "duration": 58,
    "start_time": "2023-05-01T10:01:58.989Z"
   },
   {
    "duration": 3,
    "start_time": "2023-05-01T10:01:59.049Z"
   },
   {
    "duration": 13,
    "start_time": "2023-05-01T10:01:59.074Z"
   },
   {
    "duration": 16,
    "start_time": "2023-05-01T10:01:59.089Z"
   },
   {
    "duration": 8,
    "start_time": "2023-05-01T10:01:59.107Z"
   },
   {
    "duration": 8,
    "start_time": "2023-05-01T10:01:59.117Z"
   },
   {
    "duration": 18,
    "start_time": "2023-05-01T10:01:59.127Z"
   },
   {
    "duration": 17,
    "start_time": "2023-05-01T10:01:59.146Z"
   },
   {
    "duration": 1331,
    "start_time": "2023-05-01T10:07:01.057Z"
   },
   {
    "duration": 29,
    "start_time": "2023-05-01T10:07:02.390Z"
   },
   {
    "duration": 19,
    "start_time": "2023-05-01T10:07:02.420Z"
   },
   {
    "duration": 61,
    "start_time": "2023-05-01T10:07:02.440Z"
   },
   {
    "duration": 16,
    "start_time": "2023-05-01T10:07:02.502Z"
   },
   {
    "duration": 21,
    "start_time": "2023-05-01T10:07:02.519Z"
   },
   {
    "duration": 17,
    "start_time": "2023-05-01T10:07:02.541Z"
   },
   {
    "duration": 4,
    "start_time": "2023-05-01T10:07:53.523Z"
   },
   {
    "duration": 28,
    "start_time": "2023-05-01T10:07:53.554Z"
   },
   {
    "duration": 10,
    "start_time": "2023-05-01T10:07:53.585Z"
   },
   {
    "duration": 17,
    "start_time": "2023-05-01T10:07:53.602Z"
   },
   {
    "duration": 11,
    "start_time": "2023-05-01T10:07:53.620Z"
   },
   {
    "duration": 9,
    "start_time": "2023-05-01T10:07:53.632Z"
   },
   {
    "duration": 6,
    "start_time": "2023-05-01T10:07:53.643Z"
   },
   {
    "duration": 21,
    "start_time": "2023-05-01T10:07:53.651Z"
   },
   {
    "duration": 4,
    "start_time": "2023-05-01T10:07:53.673Z"
   },
   {
    "duration": 200,
    "start_time": "2023-05-01T10:07:53.682Z"
   },
   {
    "duration": 3,
    "start_time": "2023-05-01T10:07:53.883Z"
   },
   {
    "duration": 13,
    "start_time": "2023-05-01T10:07:53.887Z"
   },
   {
    "duration": 7,
    "start_time": "2023-05-01T10:07:53.902Z"
   },
   {
    "duration": 189,
    "start_time": "2023-05-01T10:07:53.910Z"
   },
   {
    "duration": 13012,
    "start_time": "2023-05-01T10:07:54.100Z"
   },
   {
    "duration": 67276,
    "start_time": "2023-05-01T10:08:07.114Z"
   },
   {
    "duration": 28,
    "start_time": "2023-05-01T10:09:14.391Z"
   },
   {
    "duration": 8,
    "start_time": "2023-05-01T10:09:14.420Z"
   },
   {
    "duration": 83,
    "start_time": "2023-05-01T10:09:14.430Z"
   },
   {
    "duration": 2,
    "start_time": "2023-05-01T10:09:14.515Z"
   },
   {
    "duration": 13,
    "start_time": "2023-05-01T10:09:14.518Z"
   },
   {
    "duration": 8,
    "start_time": "2023-05-01T10:09:14.533Z"
   },
   {
    "duration": 4,
    "start_time": "2023-05-01T10:09:14.544Z"
   },
   {
    "duration": 12,
    "start_time": "2023-05-01T10:09:14.549Z"
   },
   {
    "duration": 14,
    "start_time": "2023-05-01T10:09:14.562Z"
   },
   {
    "duration": 12,
    "start_time": "2023-05-01T10:09:14.578Z"
   },
   {
    "duration": 10,
    "start_time": "2023-05-01T10:11:01.547Z"
   },
   {
    "duration": 9,
    "start_time": "2023-05-01T10:11:09.701Z"
   },
   {
    "duration": 3,
    "start_time": "2023-05-01T10:42:43.622Z"
   },
   {
    "duration": 4,
    "start_time": "2023-05-01T10:44:00.511Z"
   },
   {
    "duration": 3,
    "start_time": "2023-05-01T10:44:22.335Z"
   },
   {
    "duration": 8,
    "start_time": "2023-05-01T10:45:32.413Z"
   },
   {
    "duration": 4,
    "start_time": "2023-05-01T11:32:09.645Z"
   },
   {
    "duration": 6,
    "start_time": "2023-05-01T11:32:22.813Z"
   },
   {
    "duration": 4,
    "start_time": "2023-05-01T11:52:43.011Z"
   },
   {
    "duration": 1375,
    "start_time": "2023-05-01T12:22:06.016Z"
   },
   {
    "duration": 44,
    "start_time": "2023-05-01T12:22:07.392Z"
   },
   {
    "duration": 16,
    "start_time": "2023-05-01T12:22:07.438Z"
   },
   {
    "duration": 17,
    "start_time": "2023-05-01T12:22:07.457Z"
   },
   {
    "duration": 15,
    "start_time": "2023-05-01T12:22:07.476Z"
   },
   {
    "duration": 9,
    "start_time": "2023-05-01T12:22:07.493Z"
   },
   {
    "duration": 9,
    "start_time": "2023-05-01T12:22:07.503Z"
   },
   {
    "duration": 15,
    "start_time": "2023-05-01T12:22:07.514Z"
   },
   {
    "duration": 10,
    "start_time": "2023-05-01T12:22:07.531Z"
   },
   {
    "duration": 267,
    "start_time": "2023-05-01T12:22:07.543Z"
   },
   {
    "duration": 4,
    "start_time": "2023-05-01T12:22:07.812Z"
   },
   {
    "duration": 6,
    "start_time": "2023-05-01T12:22:07.818Z"
   },
   {
    "duration": 17,
    "start_time": "2023-05-01T12:22:07.826Z"
   },
   {
    "duration": 197,
    "start_time": "2023-05-01T12:22:07.845Z"
   },
   {
    "duration": 13433,
    "start_time": "2023-05-01T12:22:08.044Z"
   },
   {
    "duration": 67849,
    "start_time": "2023-05-01T12:22:21.478Z"
   },
   {
    "duration": 25,
    "start_time": "2023-05-01T12:23:29.329Z"
   },
   {
    "duration": 19,
    "start_time": "2023-05-01T12:23:29.355Z"
   },
   {
    "duration": 70,
    "start_time": "2023-05-01T12:23:29.375Z"
   },
   {
    "duration": 8,
    "start_time": "2023-05-01T12:23:29.446Z"
   },
   {
    "duration": 17,
    "start_time": "2023-05-01T12:23:29.455Z"
   },
   {
    "duration": 14,
    "start_time": "2023-05-01T12:23:29.473Z"
   },
   {
    "duration": 8,
    "start_time": "2023-05-01T12:23:29.489Z"
   },
   {
    "duration": 19,
    "start_time": "2023-05-01T12:23:29.498Z"
   },
   {
    "duration": 9,
    "start_time": "2023-05-01T12:29:23.411Z"
   },
   {
    "duration": 22,
    "start_time": "2023-05-01T12:29:28.452Z"
   },
   {
    "duration": 123,
    "start_time": "2023-05-01T13:10:48.298Z"
   },
   {
    "duration": 9,
    "start_time": "2023-05-01T13:11:03.509Z"
   },
   {
    "duration": 223,
    "start_time": "2023-05-01T13:11:15.661Z"
   },
   {
    "duration": 14,
    "start_time": "2023-05-01T13:11:26.894Z"
   },
   {
    "duration": 1251,
    "start_time": "2023-05-01T13:12:49.010Z"
   },
   {
    "duration": 28,
    "start_time": "2023-05-01T13:12:50.263Z"
   },
   {
    "duration": 26,
    "start_time": "2023-05-01T13:12:50.292Z"
   },
   {
    "duration": 24,
    "start_time": "2023-05-01T13:12:50.319Z"
   },
   {
    "duration": 42,
    "start_time": "2023-05-01T13:12:50.344Z"
   },
   {
    "duration": 14,
    "start_time": "2023-05-01T13:12:50.387Z"
   },
   {
    "duration": 11,
    "start_time": "2023-05-01T13:12:50.402Z"
   },
   {
    "duration": 33,
    "start_time": "2023-05-01T13:12:50.414Z"
   },
   {
    "duration": 5,
    "start_time": "2023-05-01T13:12:50.448Z"
   },
   {
    "duration": 202,
    "start_time": "2023-05-01T13:12:50.454Z"
   },
   {
    "duration": 4,
    "start_time": "2023-05-01T13:12:50.658Z"
   },
   {
    "duration": 24,
    "start_time": "2023-05-01T13:12:50.672Z"
   },
   {
    "duration": 42,
    "start_time": "2023-05-01T13:12:50.699Z"
   },
   {
    "duration": 221,
    "start_time": "2023-05-01T13:12:50.743Z"
   },
   {
    "duration": 110,
    "start_time": "2023-05-01T13:13:04.377Z"
   },
   {
    "duration": 12,
    "start_time": "2023-05-01T13:20:14.335Z"
   },
   {
    "duration": 13,
    "start_time": "2023-05-01T13:20:20.158Z"
   },
   {
    "duration": 1274,
    "start_time": "2023-05-01T13:26:09.194Z"
   },
   {
    "duration": 28,
    "start_time": "2023-05-01T13:26:10.469Z"
   },
   {
    "duration": 13,
    "start_time": "2023-05-01T13:26:10.499Z"
   },
   {
    "duration": 13,
    "start_time": "2023-05-01T13:26:10.514Z"
   },
   {
    "duration": 17,
    "start_time": "2023-05-01T13:26:10.529Z"
   },
   {
    "duration": 7,
    "start_time": "2023-05-01T13:26:10.548Z"
   },
   {
    "duration": 7,
    "start_time": "2023-05-01T13:26:10.557Z"
   },
   {
    "duration": 12,
    "start_time": "2023-05-01T13:26:10.566Z"
   },
   {
    "duration": 4,
    "start_time": "2023-05-01T13:26:10.579Z"
   },
   {
    "duration": 198,
    "start_time": "2023-05-01T13:26:10.584Z"
   },
   {
    "duration": 3,
    "start_time": "2023-05-01T13:26:10.783Z"
   },
   {
    "duration": 6,
    "start_time": "2023-05-01T13:26:10.787Z"
   },
   {
    "duration": 5,
    "start_time": "2023-05-01T13:26:10.794Z"
   },
   {
    "duration": 203,
    "start_time": "2023-05-01T13:26:10.800Z"
   },
   {
    "duration": 106,
    "start_time": "2023-05-01T13:28:04.349Z"
   },
   {
    "duration": 13,
    "start_time": "2023-05-01T13:29:07.062Z"
   },
   {
    "duration": 15,
    "start_time": "2023-05-01T13:29:24.262Z"
   },
   {
    "duration": 276,
    "start_time": "2023-05-01T13:50:28.078Z"
   },
   {
    "duration": 14,
    "start_time": "2023-05-01T13:50:46.255Z"
   },
   {
    "duration": 206,
    "start_time": "2023-05-01T13:52:58.699Z"
   },
   {
    "duration": 12,
    "start_time": "2023-05-01T13:53:18.806Z"
   },
   {
    "duration": 244,
    "start_time": "2023-05-01T14:00:56.030Z"
   },
   {
    "duration": 9,
    "start_time": "2023-05-01T14:04:31.732Z"
   },
   {
    "duration": 1033,
    "start_time": "2023-05-01T14:04:34.422Z"
   },
   {
    "duration": 6700,
    "start_time": "2023-05-01T14:06:12.978Z"
   },
   {
    "duration": 63,
    "start_time": "2023-05-01T14:10:47.285Z"
   },
   {
    "duration": 6583,
    "start_time": "2023-05-01T14:11:10.403Z"
   },
   {
    "duration": 6508,
    "start_time": "2023-05-01T14:11:31.563Z"
   },
   {
    "duration": 6544,
    "start_time": "2023-05-01T14:12:06.355Z"
   },
   {
    "duration": 6751,
    "start_time": "2023-05-01T14:12:28.365Z"
   },
   {
    "duration": 6818,
    "start_time": "2023-05-01T14:13:00.713Z"
   },
   {
    "duration": 7134,
    "start_time": "2023-05-01T14:13:58.314Z"
   },
   {
    "duration": 7329,
    "start_time": "2023-05-01T14:14:18.528Z"
   },
   {
    "duration": 6968,
    "start_time": "2023-05-01T14:14:44.482Z"
   },
   {
    "duration": 7069,
    "start_time": "2023-05-01T14:15:18.767Z"
   },
   {
    "duration": 6896,
    "start_time": "2023-05-01T14:15:36.605Z"
   },
   {
    "duration": 7881,
    "start_time": "2023-05-01T14:17:51.229Z"
   },
   {
    "duration": 4,
    "start_time": "2023-05-01T15:18:37.717Z"
   },
   {
    "duration": 62,
    "start_time": "2023-05-01T15:18:37.751Z"
   },
   {
    "duration": 13,
    "start_time": "2023-05-01T15:18:37.816Z"
   },
   {
    "duration": 26,
    "start_time": "2023-05-01T15:18:37.830Z"
   },
   {
    "duration": 44,
    "start_time": "2023-05-01T15:18:37.858Z"
   },
   {
    "duration": 25,
    "start_time": "2023-05-01T15:18:37.904Z"
   },
   {
    "duration": 5,
    "start_time": "2023-05-01T15:18:37.931Z"
   },
   {
    "duration": 12,
    "start_time": "2023-05-01T15:18:37.938Z"
   },
   {
    "duration": 6,
    "start_time": "2023-05-01T15:18:37.951Z"
   },
   {
    "duration": 253,
    "start_time": "2023-05-01T15:18:37.960Z"
   },
   {
    "duration": 6,
    "start_time": "2023-05-01T15:18:38.215Z"
   },
   {
    "duration": 26,
    "start_time": "2023-05-01T15:18:38.222Z"
   },
   {
    "duration": 15,
    "start_time": "2023-05-01T15:18:38.250Z"
   },
   {
    "duration": 246,
    "start_time": "2023-05-01T15:18:38.266Z"
   },
   {
    "duration": 9,
    "start_time": "2023-05-01T15:18:38.514Z"
   },
   {
    "duration": 1126,
    "start_time": "2023-05-01T15:18:38.524Z"
   },
   {
    "duration": 14802,
    "start_time": "2023-05-01T15:18:39.652Z"
   },
   {
    "duration": 74899,
    "start_time": "2023-05-01T15:18:54.457Z"
   },
   {
    "duration": 46,
    "start_time": "2023-05-01T15:20:09.357Z"
   },
   {
    "duration": 9,
    "start_time": "2023-05-01T15:20:09.404Z"
   },
   {
    "duration": 64,
    "start_time": "2023-05-01T15:20:09.414Z"
   },
   {
    "duration": 15,
    "start_time": "2023-05-01T15:20:09.479Z"
   },
   {
    "duration": 24,
    "start_time": "2023-05-01T15:20:09.496Z"
   },
   {
    "duration": 7,
    "start_time": "2023-05-01T15:20:09.521Z"
   },
   {
    "duration": 22,
    "start_time": "2023-05-01T15:20:09.529Z"
   },
   {
    "duration": 6,
    "start_time": "2023-05-01T15:20:09.552Z"
   }
  ],
  "kernelspec": {
   "display_name": "Python 3 (ipykernel)",
   "language": "python",
   "name": "python3"
  },
  "language_info": {
   "codemirror_mode": {
    "name": "ipython",
    "version": 3
   },
   "file_extension": ".py",
   "mimetype": "text/x-python",
   "name": "python",
   "nbconvert_exporter": "python",
   "pygments_lexer": "ipython3",
   "version": "3.9.13"
  },
  "toc": {
   "base_numbering": "0",
   "nav_menu": {
    "height": "226px",
    "width": "346px"
   },
   "number_sections": true,
   "sideBar": true,
   "skip_h1_title": true,
   "title_cell": "Содержание",
   "title_sidebar": "Contents",
   "toc_cell": true,
   "toc_position": {
    "height": "calc(100% - 180px)",
    "left": "10px",
    "top": "150px",
    "width": "178px"
   },
   "toc_section_display": true,
   "toc_window_display": false
  }
 },
 "nbformat": 4,
 "nbformat_minor": 2
}
