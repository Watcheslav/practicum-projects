{
 "cells": [
  {
   "cell_type": "markdown",
   "metadata": {},
   "source": [
    "# Защита персональных данных клиентов\n",
    "\n",
    "<h2>  <a class=\"tocSkip\"> </h2>"
   ]
  },
  {
   "cell_type": "markdown",
   "metadata": {},
   "source": [
    "<a name=\"1\"></a>\n",
    "## Содержание"
   ]
  },
  {
   "cell_type": "markdown",
   "metadata": {},
   "source": [
    "1  [Содержание](#1)\n",
    "\n",
    "2  [Описание проекта](#2)\n",
    "\n",
    "*    2.1  [Цель проекта](#21)\n",
    "*    2.2  [Задачи проекта](#22)\n",
    "*    2.3  [Описание данных](#23)\n",
    "*    2.4  [План работы](#24)\n",
    "\n",
    "3  [Исследование данных](#3)\n",
    "\n",
    "*    3.1  [Загрузка и изучение данных](#31)\n",
    "*    3.2  [Вывод](#32)\n",
    "\n",
    "4  [Умножение матриц](#4)\n",
    "\n",
    "*    4.1  [Расчёт](#41)\n",
    "*    4.2  [Вывод](#42)\n",
    "\n",
    "5  [Алгоритм преобразования](#5)\n",
    "\n",
    "6  [Проверка алгоритма](#6)\n",
    "\n",
    "*    6.1  [Разделение данных на выборки](#61)\n",
    "*    6.2  [Создание матрицы без проверки её обратимости](#62)\n",
    "*    6.3  [Создание матрицы с проверкой её обратимости](#63)\n",
    "*    6.4  [Создание класса линейной регрессии `LinReg`](#64)\n",
    "*    6.5  [Функция для предсказания *R2*](#65)\n",
    "*    6.6  [`Pipeline` для предсказания *R2*](#66)\n",
    "\n",
    "   *    6.6.1  [`LinReg`](#661)\n",
    "   *    6.6.2  [`LinearRegression`](#662)\n",
    "   *    6.6.3  [Вывод по п. 6.6](#663)\n",
    "    \n",
    "*    6.7  [Вывод](#67)\n",
    "\n",
    "7  [Общий вывод](#7)"
   ]
  },
  {
   "cell_type": "markdown",
   "metadata": {},
   "source": [
    "## Описание проекта\n",
    "<a name=\"2\"></a> <div style=\"text-align: left\">[Cодержание](#Содержание)</div>"
   ]
  },
  {
   "cell_type": "markdown",
   "metadata": {},
   "source": [
    "Нам необходимо защитить данные клиентов страховой компании «Хоть потоп». Разработаем такой метод преобразования данных, чтобы по ним было сложно восстановить персональную информацию. Обоснуем корректность его работы.\n",
    "\n",
    "Нужно защитить данные, чтобы при преобразовании качество моделей машинного обучения не ухудшилось. Подбирать наилучшую модель не требуется."
   ]
  },
  {
   "cell_type": "markdown",
   "metadata": {},
   "source": [
    "### Цель проекта\n",
    "<a name=\"21\"></a> <div style=\"text-align: left\">[Cодержание](#Содержание)</div>"
   ]
  },
  {
   "cell_type": "markdown",
   "metadata": {},
   "source": [
    "Провести исследование с целью построения модели машинного обучения для преобразования данных, по которым было бы сложно восстановить персональную информацию.\n",
    "\n",
    "Результаты исследования позволят защитить данные клиентов страховой компании «Хоть потоп»."
   ]
  },
  {
   "cell_type": "markdown",
   "metadata": {},
   "source": [
    "### Задачи проекта\n",
    "<a name=\"22\"></a> <div style=\"text-align: left\">[Cодержание](#Содержание)</div>"
   ]
  },
  {
   "cell_type": "markdown",
   "metadata": {},
   "source": [
    "1. Исследовать данные.\n",
    "2. Выполнить умножение матриц и ответить на вопрос.\n",
    "3. Написать алгоритм преобразования.\n",
    "4. Выполнить проверку алгоритма.\n",
    "5. Написать общий вывод."
   ]
  },
  {
   "cell_type": "markdown",
   "metadata": {},
   "source": [
    "### Описание данных\n",
    "<a name=\"23\"></a> <div style=\"text-align: left\">[Cодержание](#Содержание)</div>"
   ]
  },
  {
   "cell_type": "markdown",
   "metadata": {},
   "source": [
    "Набор данных находится в файле `insurance.csv`.\n",
    "- **Признаки**: пол, возраст и зарплата застрахованного, количество членов его семьи.\n",
    "- **Целевой признак**: количество страховых выплат клиенту за последние 5 лет."
   ]
  },
  {
   "cell_type": "markdown",
   "metadata": {},
   "source": [
    "### План работы\n",
    "<a name=\"24\"></a> <div style=\"text-align: left\">[Cодержание](#Содержание)</div>"
   ]
  },
  {
   "cell_type": "markdown",
   "metadata": {},
   "source": [
    "1. Загрузим и изучим данные.\n",
    "\n",
    "\n",
    "2. Ответим на вопрос и обоснуем своё решение.\n",
    "\n",
    "   Признаки умножим на обратимую матрицу. Изменится ли качество линейной регрессии? (Её можно обучить заново.)\n",
    "\n",
    "   a. Изменится. Приведём примеры матриц.\n",
    "\n",
    "   b. Не изменится. Укажем, как связаны параметры линейной регрессии в исходной задаче и в преобразованной.\n",
    "\n",
    "\n",
    "3. Предложим алгоритм преобразования данных для решения задачи. Обоснуем, почему качество линейной регрессии не поменяется.\n",
    "\n",
    "\n",
    "4. Запрограммируем этот алгоритм, применив матричные операции. Проверим, что качество линейной регрессии из `sklearn` не отличается до и после преобразования. Применим метрику *R2*."
   ]
  },
  {
   "cell_type": "markdown",
   "metadata": {},
   "source": [
    "## Исследование данных\n",
    "<a name=\"3\"></a> <div style=\"text-align: left\">[Cодержание](#Содержание)</div>"
   ]
  },
  {
   "cell_type": "code",
   "execution_count": 1,
   "metadata": {},
   "outputs": [],
   "source": [
    "import matplotlib.pyplot as plt\n",
    "import numpy as np\n",
    "import pandas as pd\n",
    "import seaborn as sns\n",
    "import warnings\n",
    "warnings.simplefilter(action='ignore', category=UserWarning)\n",
    "import os\n",
    "\n",
    "from sklearn.base import BaseEstimator, TransformerMixin\n",
    "from sklearn.linear_model import LinearRegression\n",
    "from sklearn.metrics import r2_score\n",
    "from sklearn.model_selection import train_test_split\n",
    "from sklearn.pipeline import Pipeline\n",
    "from sklearn.preprocessing import FunctionTransformer\n",
    "\n",
    "RANDOM_STATE = 12345\n",
    "TEST_SIZE = 0.2"
   ]
  },
  {
   "cell_type": "markdown",
   "metadata": {},
   "source": [
    "### Загрузка и изучение данных\n",
    "<a name=\"31\"></a> <div style=\"text-align: left\">[Cодержание](#Содержание)</div>"
   ]
  },
  {
   "cell_type": "markdown",
   "metadata": {},
   "source": [
    "Загрузим и изучим данные."
   ]
  },
  {
   "cell_type": "code",
   "execution_count": 2,
   "metadata": {},
   "outputs": [],
   "source": [
    "pth1 = r'C:/Users/Васильев/Desktop/dataframes/insurance.csv'\n",
    "pth2 = '/datasets/insurance.csv'\n",
    "pth3 = '/insurance.csv'\n",
    "\n",
    "if os.path.exists(pth1):\n",
    "    data = pd.read_csv(pth1)\n",
    "elif os.path.exists(pth2):\n",
    "    data = pd.read_csv(pth2)\n",
    "elif os.path.exists(pth3):\n",
    "    data = pd.read_csv(pth3)\n",
    "else:\n",
    "    print('Something is wrong')"
   ]
  },
  {
   "cell_type": "code",
   "execution_count": 3,
   "metadata": {
    "scrolled": true
   },
   "outputs": [
    {
     "data": {
      "text/plain": [
       "(5000, 5)"
      ]
     },
     "execution_count": 3,
     "metadata": {},
     "output_type": "execute_result"
    }
   ],
   "source": [
    "data.shape"
   ]
  },
  {
   "cell_type": "code",
   "execution_count": 4,
   "metadata": {
    "scrolled": true
   },
   "outputs": [
    {
     "data": {
      "text/html": [
       "<div>\n",
       "<style scoped>\n",
       "    .dataframe tbody tr th:only-of-type {\n",
       "        vertical-align: middle;\n",
       "    }\n",
       "\n",
       "    .dataframe tbody tr th {\n",
       "        vertical-align: top;\n",
       "    }\n",
       "\n",
       "    .dataframe thead th {\n",
       "        text-align: right;\n",
       "    }\n",
       "</style>\n",
       "<table border=\"1\" class=\"dataframe\">\n",
       "  <thead>\n",
       "    <tr style=\"text-align: right;\">\n",
       "      <th></th>\n",
       "      <th>Пол</th>\n",
       "      <th>Возраст</th>\n",
       "      <th>Зарплата</th>\n",
       "      <th>Члены семьи</th>\n",
       "      <th>Страховые выплаты</th>\n",
       "    </tr>\n",
       "  </thead>\n",
       "  <tbody>\n",
       "    <tr>\n",
       "      <th>0</th>\n",
       "      <td>1</td>\n",
       "      <td>41.0</td>\n",
       "      <td>49600.0</td>\n",
       "      <td>1</td>\n",
       "      <td>0</td>\n",
       "    </tr>\n",
       "    <tr>\n",
       "      <th>1</th>\n",
       "      <td>0</td>\n",
       "      <td>46.0</td>\n",
       "      <td>38000.0</td>\n",
       "      <td>1</td>\n",
       "      <td>1</td>\n",
       "    </tr>\n",
       "    <tr>\n",
       "      <th>2</th>\n",
       "      <td>0</td>\n",
       "      <td>29.0</td>\n",
       "      <td>21000.0</td>\n",
       "      <td>0</td>\n",
       "      <td>0</td>\n",
       "    </tr>\n",
       "    <tr>\n",
       "      <th>3</th>\n",
       "      <td>0</td>\n",
       "      <td>21.0</td>\n",
       "      <td>41700.0</td>\n",
       "      <td>2</td>\n",
       "      <td>0</td>\n",
       "    </tr>\n",
       "    <tr>\n",
       "      <th>4</th>\n",
       "      <td>1</td>\n",
       "      <td>28.0</td>\n",
       "      <td>26100.0</td>\n",
       "      <td>0</td>\n",
       "      <td>0</td>\n",
       "    </tr>\n",
       "  </tbody>\n",
       "</table>\n",
       "</div>"
      ],
      "text/plain": [
       "   Пол  Возраст  Зарплата  Члены семьи  Страховые выплаты\n",
       "0    1     41.0   49600.0            1                  0\n",
       "1    0     46.0   38000.0            1                  1\n",
       "2    0     29.0   21000.0            0                  0\n",
       "3    0     21.0   41700.0            2                  0\n",
       "4    1     28.0   26100.0            0                  0"
      ]
     },
     "execution_count": 4,
     "metadata": {},
     "output_type": "execute_result"
    }
   ],
   "source": [
    "data.head()"
   ]
  },
  {
   "cell_type": "markdown",
   "metadata": {},
   "source": [
    "Посмотрим общую информацию о данных."
   ]
  },
  {
   "cell_type": "code",
   "execution_count": 5,
   "metadata": {
    "scrolled": true
   },
   "outputs": [
    {
     "name": "stdout",
     "output_type": "stream",
     "text": [
      "<class 'pandas.core.frame.DataFrame'>\n",
      "RangeIndex: 5000 entries, 0 to 4999\n",
      "Data columns (total 5 columns):\n",
      " #   Column             Non-Null Count  Dtype  \n",
      "---  ------             --------------  -----  \n",
      " 0   Пол                5000 non-null   int64  \n",
      " 1   Возраст            5000 non-null   float64\n",
      " 2   Зарплата           5000 non-null   float64\n",
      " 3   Члены семьи        5000 non-null   int64  \n",
      " 4   Страховые выплаты  5000 non-null   int64  \n",
      "dtypes: float64(2), int64(3)\n",
      "memory usage: 195.4 KB\n"
     ]
    }
   ],
   "source": [
    "data.info()"
   ]
  },
  {
   "cell_type": "markdown",
   "metadata": {},
   "source": [
    "Взглянем на описание данных."
   ]
  },
  {
   "cell_type": "code",
   "execution_count": 6,
   "metadata": {
    "scrolled": false
   },
   "outputs": [
    {
     "data": {
      "text/html": [
       "<div>\n",
       "<style scoped>\n",
       "    .dataframe tbody tr th:only-of-type {\n",
       "        vertical-align: middle;\n",
       "    }\n",
       "\n",
       "    .dataframe tbody tr th {\n",
       "        vertical-align: top;\n",
       "    }\n",
       "\n",
       "    .dataframe thead th {\n",
       "        text-align: right;\n",
       "    }\n",
       "</style>\n",
       "<table border=\"1\" class=\"dataframe\">\n",
       "  <thead>\n",
       "    <tr style=\"text-align: right;\">\n",
       "      <th></th>\n",
       "      <th>Пол</th>\n",
       "      <th>Возраст</th>\n",
       "      <th>Зарплата</th>\n",
       "      <th>Члены семьи</th>\n",
       "      <th>Страховые выплаты</th>\n",
       "    </tr>\n",
       "  </thead>\n",
       "  <tbody>\n",
       "    <tr>\n",
       "      <th>count</th>\n",
       "      <td>5000.000000</td>\n",
       "      <td>5000.000000</td>\n",
       "      <td>5000.000000</td>\n",
       "      <td>5000.000000</td>\n",
       "      <td>5000.000000</td>\n",
       "    </tr>\n",
       "    <tr>\n",
       "      <th>mean</th>\n",
       "      <td>0.499000</td>\n",
       "      <td>30.952800</td>\n",
       "      <td>39916.360000</td>\n",
       "      <td>1.194200</td>\n",
       "      <td>0.148000</td>\n",
       "    </tr>\n",
       "    <tr>\n",
       "      <th>std</th>\n",
       "      <td>0.500049</td>\n",
       "      <td>8.440807</td>\n",
       "      <td>9900.083569</td>\n",
       "      <td>1.091387</td>\n",
       "      <td>0.463183</td>\n",
       "    </tr>\n",
       "    <tr>\n",
       "      <th>min</th>\n",
       "      <td>0.000000</td>\n",
       "      <td>18.000000</td>\n",
       "      <td>5300.000000</td>\n",
       "      <td>0.000000</td>\n",
       "      <td>0.000000</td>\n",
       "    </tr>\n",
       "    <tr>\n",
       "      <th>25%</th>\n",
       "      <td>0.000000</td>\n",
       "      <td>24.000000</td>\n",
       "      <td>33300.000000</td>\n",
       "      <td>0.000000</td>\n",
       "      <td>0.000000</td>\n",
       "    </tr>\n",
       "    <tr>\n",
       "      <th>50%</th>\n",
       "      <td>0.000000</td>\n",
       "      <td>30.000000</td>\n",
       "      <td>40200.000000</td>\n",
       "      <td>1.000000</td>\n",
       "      <td>0.000000</td>\n",
       "    </tr>\n",
       "    <tr>\n",
       "      <th>75%</th>\n",
       "      <td>1.000000</td>\n",
       "      <td>37.000000</td>\n",
       "      <td>46600.000000</td>\n",
       "      <td>2.000000</td>\n",
       "      <td>0.000000</td>\n",
       "    </tr>\n",
       "    <tr>\n",
       "      <th>max</th>\n",
       "      <td>1.000000</td>\n",
       "      <td>65.000000</td>\n",
       "      <td>79000.000000</td>\n",
       "      <td>6.000000</td>\n",
       "      <td>5.000000</td>\n",
       "    </tr>\n",
       "  </tbody>\n",
       "</table>\n",
       "</div>"
      ],
      "text/plain": [
       "               Пол      Возраст      Зарплата  Члены семьи  Страховые выплаты\n",
       "count  5000.000000  5000.000000   5000.000000  5000.000000        5000.000000\n",
       "mean      0.499000    30.952800  39916.360000     1.194200           0.148000\n",
       "std       0.500049     8.440807   9900.083569     1.091387           0.463183\n",
       "min       0.000000    18.000000   5300.000000     0.000000           0.000000\n",
       "25%       0.000000    24.000000  33300.000000     0.000000           0.000000\n",
       "50%       0.000000    30.000000  40200.000000     1.000000           0.000000\n",
       "75%       1.000000    37.000000  46600.000000     2.000000           0.000000\n",
       "max       1.000000    65.000000  79000.000000     6.000000           5.000000"
      ]
     },
     "execution_count": 6,
     "metadata": {},
     "output_type": "execute_result"
    }
   ],
   "source": [
    "data.describe()"
   ]
  },
  {
   "cell_type": "markdown",
   "metadata": {},
   "source": [
    "Используя гистограммы, визуализируем распределение переменных в датасете."
   ]
  },
  {
   "cell_type": "code",
   "execution_count": 7,
   "metadata": {},
   "outputs": [
    {
     "data": {
      "image/png": "[encoded data removed]",
      "text/plain": [
       "<Figure size 720x720 with 6 Axes>"
      ]
     },
     "metadata": {
      "needs_background": "light"
     },
     "output_type": "display_data"
    }
   ],
   "source": [
    "data.hist(figsize=(10, 10), bins=50, alpha=0.7, color='deepskyblue', ec='red')\n",
    "plt.show()"
   ]
  },
  {
   "cell_type": "markdown",
   "metadata": {},
   "source": [
    "Выведем коэффициенты корреляции Пирсона для переменных датасета."
   ]
  },
  {
   "cell_type": "code",
   "execution_count": 8,
   "metadata": {},
   "outputs": [
    {
     "data": {
      "text/html": [
       "<div>\n",
       "<style scoped>\n",
       "    .dataframe tbody tr th:only-of-type {\n",
       "        vertical-align: middle;\n",
       "    }\n",
       "\n",
       "    .dataframe tbody tr th {\n",
       "        vertical-align: top;\n",
       "    }\n",
       "\n",
       "    .dataframe thead th {\n",
       "        text-align: right;\n",
       "    }\n",
       "</style>\n",
       "<table border=\"1\" class=\"dataframe\">\n",
       "  <thead>\n",
       "    <tr style=\"text-align: right;\">\n",
       "      <th></th>\n",
       "      <th>Пол</th>\n",
       "      <th>Возраст</th>\n",
       "      <th>Зарплата</th>\n",
       "      <th>Члены семьи</th>\n",
       "      <th>Страховые выплаты</th>\n",
       "    </tr>\n",
       "  </thead>\n",
       "  <tbody>\n",
       "    <tr>\n",
       "      <th>Пол</th>\n",
       "      <td>1.000000</td>\n",
       "      <td>0.002074</td>\n",
       "      <td>0.014910</td>\n",
       "      <td>-0.008991</td>\n",
       "      <td>0.010140</td>\n",
       "    </tr>\n",
       "    <tr>\n",
       "      <th>Возраст</th>\n",
       "      <td>0.002074</td>\n",
       "      <td>1.000000</td>\n",
       "      <td>-0.019093</td>\n",
       "      <td>-0.006692</td>\n",
       "      <td>0.651030</td>\n",
       "    </tr>\n",
       "    <tr>\n",
       "      <th>Зарплата</th>\n",
       "      <td>0.014910</td>\n",
       "      <td>-0.019093</td>\n",
       "      <td>1.000000</td>\n",
       "      <td>-0.030296</td>\n",
       "      <td>-0.014963</td>\n",
       "    </tr>\n",
       "    <tr>\n",
       "      <th>Члены семьи</th>\n",
       "      <td>-0.008991</td>\n",
       "      <td>-0.006692</td>\n",
       "      <td>-0.030296</td>\n",
       "      <td>1.000000</td>\n",
       "      <td>-0.036290</td>\n",
       "    </tr>\n",
       "    <tr>\n",
       "      <th>Страховые выплаты</th>\n",
       "      <td>0.010140</td>\n",
       "      <td>0.651030</td>\n",
       "      <td>-0.014963</td>\n",
       "      <td>-0.036290</td>\n",
       "      <td>1.000000</td>\n",
       "    </tr>\n",
       "  </tbody>\n",
       "</table>\n",
       "</div>"
      ],
      "text/plain": [
       "                        Пол   Возраст  Зарплата  Члены семьи  \\\n",
       "Пол                1.000000  0.002074  0.014910    -0.008991   \n",
       "Возраст            0.002074  1.000000 -0.019093    -0.006692   \n",
       "Зарплата           0.014910 -0.019093  1.000000    -0.030296   \n",
       "Члены семьи       -0.008991 -0.006692 -0.030296     1.000000   \n",
       "Страховые выплаты  0.010140  0.651030 -0.014963    -0.036290   \n",
       "\n",
       "                   Страховые выплаты  \n",
       "Пол                         0.010140  \n",
       "Возраст                     0.651030  \n",
       "Зарплата                   -0.014963  \n",
       "Члены семьи                -0.036290  \n",
       "Страховые выплаты           1.000000  "
      ]
     },
     "execution_count": 8,
     "metadata": {},
     "output_type": "execute_result"
    }
   ],
   "source": [
    "data.corr()"
   ]
  },
  {
   "cell_type": "markdown",
   "metadata": {},
   "source": [
    "Построим тепловую карту (хитмэп) коэффициентов корреляции Пирсона для переменных датасета."
   ]
  },
  {
   "cell_type": "code",
   "execution_count": 9,
   "metadata": {},
   "outputs": [
    {
     "data": {
      "image/png": "[encoded data removed]",
      "text/plain": [
       "<Figure size 720x576 with 2 Axes>"
      ]
     },
     "metadata": {
      "needs_background": "light"
     },
     "output_type": "display_data"
    }
   ],
   "source": [
    "plt.figure(figsize=(10,8))\n",
    "sns.heatmap(\n",
    "    data.corr(), annot=True, fmt = '.2f', \n",
    "    vmin=-1, vmax=1, center=0, cmap='coolwarm')\n",
    "plt.show()"
   ]
  },
  {
   "cell_type": "markdown",
   "metadata": {},
   "source": [
    "Выведем количество пропусков в датасете."
   ]
  },
  {
   "cell_type": "code",
   "execution_count": 10,
   "metadata": {},
   "outputs": [
    {
     "data": {
      "text/plain": [
       "Пол                  0\n",
       "Возраст              0\n",
       "Зарплата             0\n",
       "Члены семьи          0\n",
       "Страховые выплаты    0\n",
       "dtype: int64"
      ]
     },
     "execution_count": 10,
     "metadata": {},
     "output_type": "execute_result"
    }
   ],
   "source": [
    "data.isna().sum()"
   ]
  },
  {
   "cell_type": "markdown",
   "metadata": {},
   "source": [
    "Проверим датасет на наличие явных дубликатов."
   ]
  },
  {
   "cell_type": "code",
   "execution_count": 11,
   "metadata": {},
   "outputs": [
    {
     "data": {
      "text/plain": [
       "153"
      ]
     },
     "execution_count": 11,
     "metadata": {},
     "output_type": "execute_result"
    }
   ],
   "source": [
    "data.duplicated().sum()"
   ]
  },
  {
   "cell_type": "markdown",
   "metadata": {},
   "source": [
    "Удалим явные дубликаты."
   ]
  },
  {
   "cell_type": "code",
   "execution_count": 12,
   "metadata": {},
   "outputs": [
    {
     "data": {
      "text/plain": [
       "(4847, 5)"
      ]
     },
     "execution_count": 12,
     "metadata": {},
     "output_type": "execute_result"
    }
   ],
   "source": [
    "data = data.drop_duplicates()\n",
    "data.shape"
   ]
  },
  {
   "cell_type": "markdown",
   "metadata": {},
   "source": [
    "Поскольку в нашей задаче используется линейная модель, которую мы решаем аналитически, т.е. без регуляризаций и градиентных спусков, проверим наш датасет на мультиколлинеарность.\n",
    "\n",
    "В случае мультиколлинеарности матрица $𝑋^𝑇*𝑋$ близка к вырожденной, и, в результате, появляется чувствительность к малейшему изменению входных данных, приводящая к сильному изменению весов модели. Отсюда возникает переобучение, а также утрачивается интерпретируемость.\n",
    "\n",
    "Матрица называется вырожденной, если элементы столбца (или строки) матрицы линейно зависимы, с элементами других столбцов (или строк). Например, если элементы одного из столбцов матрицы равны 1, -1, 0, а элементы другого столбца равны 2, -2, 0, то матрица вырождена, поскольку умножая элементы первого столбца на два, мы получаем элементы второго столбца. Такие матрицы также называются мультиколлинеарными, т.к. один или более столбцов линейно зависят друг от друга."
   ]
  },
  {
   "cell_type": "markdown",
   "metadata": {},
   "source": [
    "Используем для этого парный график, он же график пар.\n",
    "\n",
    "График пар — это матрица диаграмм рассеяния , которая позволяет понять попарные отношения между различными переменными в наборе данных."
   ]
  },
  {
   "cell_type": "code",
   "execution_count": 13,
   "metadata": {
    "scrolled": false
   },
   "outputs": [
    {
     "data": {
      "image/png": "[encoded data removed]",
      "text/plain": [
       "<Figure size 834.5x720 with 20 Axes>"
      ]
     },
     "metadata": {
      "needs_background": "light"
     },
     "output_type": "display_data"
    }
   ],
   "source": [
    "sns.pairplot(data, hue='Страховые выплаты')\n",
    "plt.show()"
   ]
  },
  {
   "cell_type": "markdown",
   "metadata": {},
   "source": [
    "График пар показал нам отсутствие мультиколлинеарности, линейные зависимости не были замечены."
   ]
  },
  {
   "cell_type": "markdown",
   "metadata": {},
   "source": [
    "### Вывод\n",
    "<a name=\"32\"></a> <div style=\"text-align: left\">[Cодержание](#Содержание)</div>"
   ]
  },
  {
   "cell_type": "markdown",
   "metadata": {},
   "source": [
    "В разделе [**Исследование данных**](#Исследование-данных) были выполнены следующие задачи:\n",
    "1. Получена общая информация о датасете.\n",
    "2. Визуализировано распределение переменных в датасете.\n",
    "3. Построена тепловая карта (хитмэп) коэффициентов корреляции Пирсона для переменных датасета.\n",
    "4. Датасет был проверен на наличие явных дубликатов.\n",
    "5. Датасет был проверен на мультиколлинеарность.\n",
    "\n",
    "\n",
    "В результате выполнения указанных задач было выявлено:\n",
    "- пропусков в данных нет;\n",
    "- никаких аномалий в данных не обнаружено;\n",
    "- существует повышенная корреляция между признаками \"возраст\" и \"страховые выплаты\", что логично;\n",
    "- явные дубликаты найдены и удалены;\n",
    "- мультиколлинеарность отсутствует (корреляция между признаками везде ниже 0,75 - 0,8).\n",
    "\n",
    "**В проекте решается задача регрессии.**\n",
    "\n",
    "Таким образом, данные подготовлены для обучения моделей."
   ]
  },
  {
   "cell_type": "markdown",
   "metadata": {},
   "source": [
    "## Умножение матриц\n",
    "<a name=\"4\"></a> <div style=\"text-align: left\">[Cодержание](#Содержание)</div>"
   ]
  },
  {
   "cell_type": "markdown",
   "metadata": {},
   "source": [
    "### Расчёт\n",
    "<a name=\"31\"></a> <div style=\"text-align: left\">[Cодержание](#Содержание)</div>"
   ]
  },
  {
   "cell_type": "markdown",
   "metadata": {},
   "source": [
    "**1. Запишем формулы линейной регрессии.**\n",
    "\n",
    "\n",
    "Предсказания:\n",
    "\n",
    "$$\n",
    "a = Xw\n",
    "$$\n",
    "\n",
    "Задача обучения:\n",
    "\n",
    "$$\n",
    "w = \\arg\\min_w MSE(Xw, y)\n",
    "$$\n",
    "\n",
    "Формула обучения:\n",
    "\n",
    "$$\n",
    "w = (X^T X)^{-1} X^T y\n",
    "$$\n",
    "\n",
    "\n",
    "Обозначения:\n",
    "\n",
    "- $X$ — матрица признаков (нулевой столбец состоит из единиц)\n",
    "\n",
    "- $y$ — вектор целевого признака\n",
    "\n",
    "- $P$ — матрица, на которую умножаются признаки\n",
    "\n",
    "- $w$ — вектор весов линейной регрессии (нулевой элемент равен сдвигу)"
   ]
  },
  {
   "cell_type": "markdown",
   "metadata": {},
   "source": [
    "**2. Свойства матриц.**\n",
    "\n",
    "Основные свойства транспонирования матриц:\n",
    "\n",
    "- Двойное транспонирование *возвращает* исходную матрицу: $(А^{T})^{T}=А$.\n",
    "\n",
    "- Транспонирование *суммы* матриц будет эквивалентно сумме транспонированных слагаемых: $(А+В)^{T}=А^{T}+В^{T}$.\n",
    "\n",
    "- Транспонирование *произведения* двух матриц будет эквивалентно произведению транспонированных матриц, взятых *в обратном порядке*: $(АВ)^{T} = В^{T}А^{T}$.\n",
    "\n",
    "- Произведение матрицы на свою транспонированную: $А^{T}А$ или $АА^{T}$ всегда имеет результатом *симметричную* квадратную матрицу.\n",
    "\n",
    "\n",
    "Основные свойства обратной матрицы:\n",
    "\n",
    "- $АА^{-1}=А^{-1}А=E$, где $E$ - единичная матрица.\n",
    "\n",
    "- $(АВ)^{-1}=В^{-1}А^{-1}$, т.е. при раскрытии скобок порядок сомножителей меняется на обратный.\n",
    "\n",
    "- $(А^{T})^{-1}=(А^{-1})^{T}$, т.е. операции обращения и транспонирования можно менять местами.\n",
    "\n",
    "\n",
    "Умножение матриц ассоциативно:\n",
    "\n",
    "$$\n",
    "(ABC)^{-1} = C^{-1}(AB)^{-1} = (BC)^{-1}A^{-1} = C^{-1}B^{-1}A^{-1}\n",
    "$$\n",
    "\n",
    "Но умножение матриц некоммутативно. Это значит, что от перестановки местами матриц в произведении результат меняется."
   ]
  },
  {
   "cell_type": "markdown",
   "metadata": {},
   "source": [
    "**3. Умножим признаки на обратимую матрицу.** Изменится ли качество линейной регрессии? (Её можно обучить заново.)\n",
    "\n",
    "**Ответ:** не изменится.\n",
    "\n",
    "**Обоснование:**\n",
    "\n",
    "Умножим матрицу признаков $X$ в формуле обучения $w(X) = (X^T X)^{-1} X^T y$ на обратимую матрицу $P$:\n",
    "\n",
    "$$\n",
    "w(XP) = [(XP)^T (XP)]^{-1} (XP)^T y = [P^T X^T XP]^{-1} P^T X^T y = P^{-1}[P^T (X^T X)]^{-1} P^T X^T y = P^{-1}(X^T X)^{-1} [(P^T)^{-1} P^T] X^T y = P^{-1}(X^T X)^{-1} X^T y,\n",
    "$$\n",
    "\n",
    "где $[(P^T)^{-1} P^T]=E$.\n",
    "\n",
    "\n",
    "Отсюда мы укажем, как связаны параметры линейной регрессии в исходной задаче и в преобразованной:\n",
    "\n",
    "$$\n",
    "w(XP) = P^{-1} w(X)\n",
    "$$\n",
    "\n",
    "\n",
    "Подставим $w(XP)$ в формулу предсказания $a = Xw(X)$ (т.е. заменим $X$ на $XP$):\n",
    "\n",
    "$$\n",
    "a = XP w(XP) = XP [P^{-1} w(X)] = Xw(X)\n",
    "$$"
   ]
  },
  {
   "cell_type": "markdown",
   "metadata": {},
   "source": [
    "### Вывод\n",
    "<a name=\"42\"></a> <div style=\"text-align: left\">[Cодержание](#Содержание)</div>"
   ]
  },
  {
   "cell_type": "markdown",
   "metadata": {},
   "source": [
    "В разделе [**Умножение матриц**](#Умножение-матриц) были выполнены следующие задачи:\n",
    "1. Записаны формулы линейной регрессии.\n",
    "2. Описаны свойства матриц.\n",
    "3. Приведено умножение признаков на обратимую матрицу.\n",
    "\n",
    "\n",
    "В результате выполнения задач этого раздела было выявлено следующее:\n",
    "- при умножении матрицы признаков $X$ на обратимую матрицу $P$ вектор весов $w$ меняется, а вектор целевого признака $a$ нет. То есть, качество линейной регрессии не изменится."
   ]
  },
  {
   "cell_type": "markdown",
   "metadata": {},
   "source": [
    "## Алгоритм преобразования\n",
    "<a name=\"5\"></a> <div style=\"text-align: left\">[Cодержание](#Содержание)</div>"
   ]
  },
  {
   "cell_type": "markdown",
   "metadata": {},
   "source": [
    "Предложим алгоритм преобразования данных для решения задачи:\n",
    "\n",
    "1. Разобьём исходные данные, выделим целевой признак.\n",
    "2. Разделим данные на обучающую и тестовую выборки.\n",
    "3. Сгенерируем случайную квадратную матрицу *P* с размером, равным количеству признаков в исходном датасете. Необходимо генерировать матрицу до тех пор, пока мы не получим обратимую, и наш код гарантированно полностью не отработает. Добиться этого можно с помощью написания специальных для этого функций.\n",
    "4. Умножим признаки обучающей и тестовой  выборок  исходного датасета на сгенерированную случайную квадратную матрицу *P*.\n",
    "5. Создадим класс модели машинного обучения `LinReg`.\n",
    "6. Напишем функцию для создания модели линейной регрессии и получим её предсказания метрики *R2*.\n",
    "7. Получим *R2* модели для исходной, а также для преобразованной матрицы.\n",
    "\n",
    "Как мы уже выяснили в предыдущем разделе, качество линейной регрессии не изменится при умножении матрицы признаков $X$ на обратимую матрицу $P$."
   ]
  },
  {
   "cell_type": "markdown",
   "metadata": {},
   "source": [
    "## Проверка алгоритма\n",
    "<a name=\"6\"></a> <div style=\"text-align: left\">[Cодержание](#Содержание)</div>"
   ]
  },
  {
   "cell_type": "markdown",
   "metadata": {},
   "source": [
    "Запрограммируем алгоритм преобразования данных, применив матричные операции. Проверим, что качество линейной регрессии из `sklearn` не отличается до и после преобразования. Применим метрику *R2*."
   ]
  },
  {
   "cell_type": "markdown",
   "metadata": {},
   "source": [
    "### Разделение данных на выборки\n",
    "<a name=\"61\"></a> <div style=\"text-align: left\">[Cодержание](#Содержание)</div>"
   ]
  },
  {
   "cell_type": "markdown",
   "metadata": {},
   "source": [
    "Разобьём исходные данные, выделив целевой признак."
   ]
  },
  {
   "cell_type": "code",
   "execution_count": 14,
   "metadata": {},
   "outputs": [],
   "source": [
    "features = data.drop('Страховые выплаты', axis=1)\n",
    "target = data['Страховые выплаты']"
   ]
  },
  {
   "cell_type": "markdown",
   "metadata": {},
   "source": [
    "А также разделим данные на обучающую и тестовую выборки в соотношении 80:20."
   ]
  },
  {
   "cell_type": "code",
   "execution_count": 15,
   "metadata": {},
   "outputs": [],
   "source": [
    "features_train, features_test, target_train, target_test = train_test_split(\n",
    "    features, target, test_size=TEST_SIZE, random_state=RANDOM_STATE)"
   ]
  },
  {
   "cell_type": "markdown",
   "metadata": {},
   "source": [
    "### Создание матрицы без проверки её обратимости\n",
    "<a name=\"62\"></a> <div style=\"text-align: left\">[Cодержание](#Содержание)</div>"
   ]
  },
  {
   "cell_type": "markdown",
   "metadata": {},
   "source": [
    "Сгенерируем матрицу без использования функции, проверяющей её обратимость.\n",
    "\n",
    "Квадратные матрицы, для которых можно найти обратные, называются обратимыми (англ. *invertible matrix*). \n",
    "\n",
    "Необратимые матрицы встречаются редко. Если сгенерировать случайную матрицу функцией `numpy.random.normal()` (англ. «нормальное распределение»), то вероятность получить необратимую матрицу близка к нулю.\n",
    "\n",
    "Сгенерируем случайную квадратную матрицу *P* с размером, равным количеству признаков в исходном датасете (т.к. количество столбцов исходной матрицы датасета должно совпадать с количеством строк матрицы *P*)."
   ]
  },
  {
   "cell_type": "code",
   "execution_count": 16,
   "metadata": {},
   "outputs": [
    {
     "data": {
      "text/plain": [
       "array([[-0.61619004, -1.05933706, -0.60276671,  0.05719906],\n",
       "       [-1.15561687, -0.07345075,  0.62485697, -1.17996121],\n",
       "       [-1.92388759, -0.78122209,  0.04654005,  1.10785232],\n",
       "       [ 1.35087524, -0.09656312,  1.09226535, -1.57058236]])"
      ]
     },
     "metadata": {},
     "output_type": "display_data"
    }
   ],
   "source": [
    "P = np.random.normal(size=(data.shape[1] - 1, data.shape[1] - 1))\n",
    "display(P)"
   ]
  },
  {
   "cell_type": "markdown",
   "metadata": {},
   "source": [
    "Чтобы найти обратную матрицу, вызовем функцию `numpy.linalg.inv()` (от англ. *linear algebra*, «линейная алгебра»; *invert*, «обратить»). Также она поможет проверить матрицу на обратимость: если матрица необратима, будет обнаружена ошибка.\n",
    "\n",
    "Проверим, что матрица *P* обратима (умножим её на обратную ей матрицу)."
   ]
  },
  {
   "cell_type": "code",
   "execution_count": 17,
   "metadata": {},
   "outputs": [
    {
     "data": {
      "text/plain": [
       "array([[ 1., -0.,  0., -0.],\n",
       "       [ 0.,  1.,  0., -0.],\n",
       "       [ 0., -0.,  1., -0.],\n",
       "       [-0., -0.,  0.,  1.]])"
      ]
     },
     "metadata": {},
     "output_type": "display_data"
    }
   ],
   "source": [
    "display(np.round(P @ np.linalg.inv(P)))"
   ]
  },
  {
   "cell_type": "markdown",
   "metadata": {},
   "source": [
    "По условию задания необходимо разработать такой метод преобразования данных, чтобы по ним было сложно восстановить персональную информацию при том, что качество моделей машинного обучения не должно ухудшиться.\n",
    "\n",
    "Преобразуем датасет: умножим признаки обучающей и тестовой выборок исходного датасета на сгенерированную случайную квадратную матрицу *P*."
   ]
  },
  {
   "cell_type": "code",
   "execution_count": 18,
   "metadata": {},
   "outputs": [
    {
     "data": {
      "text/html": [
       "<div>\n",
       "<style scoped>\n",
       "    .dataframe tbody tr th:only-of-type {\n",
       "        vertical-align: middle;\n",
       "    }\n",
       "\n",
       "    .dataframe tbody tr th {\n",
       "        vertical-align: top;\n",
       "    }\n",
       "\n",
       "    .dataframe thead th {\n",
       "        text-align: right;\n",
       "    }\n",
       "</style>\n",
       "<table border=\"1\" class=\"dataframe\">\n",
       "  <thead>\n",
       "    <tr style=\"text-align: right;\">\n",
       "      <th></th>\n",
       "      <th>0</th>\n",
       "      <th>1</th>\n",
       "      <th>2</th>\n",
       "      <th>3</th>\n",
       "    </tr>\n",
       "  </thead>\n",
       "  <tbody>\n",
       "    <tr>\n",
       "      <th>640</th>\n",
       "      <td>-56979.429950</td>\n",
       "      <td>-23126.230343</td>\n",
       "      <td>1395.081424</td>\n",
       "      <td>32759.389642</td>\n",
       "    </tr>\n",
       "    <tr>\n",
       "      <th>4510</th>\n",
       "      <td>-109882.676580</td>\n",
       "      <td>-44609.787347</td>\n",
       "      <td>2674.775304</td>\n",
       "      <td>63226.117675</td>\n",
       "    </tr>\n",
       "    <tr>\n",
       "      <th>1623</th>\n",
       "      <td>-80269.291279</td>\n",
       "      <td>-32580.907981</td>\n",
       "      <td>1964.954077</td>\n",
       "      <td>46151.089672</td>\n",
       "    </tr>\n",
       "    <tr>\n",
       "      <th>3460</th>\n",
       "      <td>-65438.022579</td>\n",
       "      <td>-26564.396164</td>\n",
       "      <td>1597.222851</td>\n",
       "      <td>37638.326256</td>\n",
       "    </tr>\n",
       "    <tr>\n",
       "      <th>1820</th>\n",
       "      <td>-67577.755434</td>\n",
       "      <td>-27424.393600</td>\n",
       "      <td>1663.858789</td>\n",
       "      <td>38829.376876</td>\n",
       "    </tr>\n",
       "  </tbody>\n",
       "</table>\n",
       "</div>"
      ],
      "text/plain": [
       "                  0             1            2             3\n",
       "640   -56979.429950 -23126.230343  1395.081424  32759.389642\n",
       "4510 -109882.676580 -44609.787347  2674.775304  63226.117675\n",
       "1623  -80269.291279 -32580.907981  1964.954077  46151.089672\n",
       "3460  -65438.022579 -26564.396164  1597.222851  37638.326256\n",
       "1820  -67577.755434 -27424.393600  1663.858789  38829.376876"
      ]
     },
     "metadata": {},
     "output_type": "display_data"
    },
    {
     "data": {
      "text/html": [
       "<div>\n",
       "<style scoped>\n",
       "    .dataframe tbody tr th:only-of-type {\n",
       "        vertical-align: middle;\n",
       "    }\n",
       "\n",
       "    .dataframe tbody tr th {\n",
       "        vertical-align: top;\n",
       "    }\n",
       "\n",
       "    .dataframe thead th {\n",
       "        text-align: right;\n",
       "    }\n",
       "</style>\n",
       "<table border=\"1\" class=\"dataframe\">\n",
       "  <thead>\n",
       "    <tr style=\"text-align: right;\">\n",
       "      <th></th>\n",
       "      <th>0</th>\n",
       "      <th>1</th>\n",
       "      <th>2</th>\n",
       "      <th>3</th>\n",
       "    </tr>\n",
       "  </thead>\n",
       "  <tbody>\n",
       "    <tr>\n",
       "      <th>1335</th>\n",
       "      <td>-90834.689649</td>\n",
       "      <td>-36876.431125</td>\n",
       "      <td>2210.459223</td>\n",
       "      <td>52263.547411</td>\n",
       "    </tr>\n",
       "    <tr>\n",
       "      <th>3875</th>\n",
       "      <td>-126821.788142</td>\n",
       "      <td>-51485.945175</td>\n",
       "      <td>3086.381838</td>\n",
       "      <td>72969.766071</td>\n",
       "    </tr>\n",
       "    <tr>\n",
       "      <th>166</th>\n",
       "      <td>-65255.839113</td>\n",
       "      <td>-26487.105026</td>\n",
       "      <td>1599.909681</td>\n",
       "      <td>37514.170830</td>\n",
       "    </tr>\n",
       "    <tr>\n",
       "      <th>3003</th>\n",
       "      <td>-37173.397804</td>\n",
       "      <td>-15080.643950</td>\n",
       "      <td>924.776884</td>\n",
       "      <td>21332.390049</td>\n",
       "    </tr>\n",
       "    <tr>\n",
       "      <th>424</th>\n",
       "      <td>-52957.365364</td>\n",
       "      <td>-21487.179204</td>\n",
       "      <td>1310.779279</td>\n",
       "      <td>30408.519312</td>\n",
       "    </tr>\n",
       "  </tbody>\n",
       "</table>\n",
       "</div>"
      ],
      "text/plain": [
       "                  0             1            2             3\n",
       "1335  -90834.689649 -36876.431125  2210.459223  52263.547411\n",
       "3875 -126821.788142 -51485.945175  3086.381838  72969.766071\n",
       "166   -65255.839113 -26487.105026  1599.909681  37514.170830\n",
       "3003  -37173.397804 -15080.643950   924.776884  21332.390049\n",
       "424   -52957.365364 -21487.179204  1310.779279  30408.519312"
      ]
     },
     "metadata": {},
     "output_type": "display_data"
    }
   ],
   "source": [
    "features_train_P = features_train @ P\n",
    "features_test_P = features_test @ P\n",
    "\n",
    "display(features_train_P.head())\n",
    "display(features_test_P.head())"
   ]
  },
  {
   "cell_type": "markdown",
   "metadata": {},
   "source": [
    "Проверим, изменились ли данные после преобразования исходной матрицы."
   ]
  },
  {
   "cell_type": "code",
   "execution_count": 19,
   "metadata": {},
   "outputs": [
    {
     "data": {
      "text/html": [
       "<div>\n",
       "<style scoped>\n",
       "    .dataframe tbody tr th:only-of-type {\n",
       "        vertical-align: middle;\n",
       "    }\n",
       "\n",
       "    .dataframe tbody tr th {\n",
       "        vertical-align: top;\n",
       "    }\n",
       "\n",
       "    .dataframe thead th {\n",
       "        text-align: right;\n",
       "    }\n",
       "</style>\n",
       "<table border=\"1\" class=\"dataframe\">\n",
       "  <thead>\n",
       "    <tr style=\"text-align: right;\">\n",
       "      <th></th>\n",
       "      <th>Пол</th>\n",
       "      <th>Возраст</th>\n",
       "      <th>Зарплата</th>\n",
       "      <th>Члены семьи</th>\n",
       "    </tr>\n",
       "  </thead>\n",
       "  <tbody>\n",
       "    <tr>\n",
       "      <th>640</th>\n",
       "      <td>0</td>\n",
       "      <td>28.0</td>\n",
       "      <td>29600.0</td>\n",
       "      <td>0</td>\n",
       "    </tr>\n",
       "    <tr>\n",
       "      <th>4510</th>\n",
       "      <td>0</td>\n",
       "      <td>26.0</td>\n",
       "      <td>57100.0</td>\n",
       "      <td>1</td>\n",
       "    </tr>\n",
       "    <tr>\n",
       "      <th>1623</th>\n",
       "      <td>1</td>\n",
       "      <td>38.0</td>\n",
       "      <td>41700.0</td>\n",
       "      <td>1</td>\n",
       "    </tr>\n",
       "    <tr>\n",
       "      <th>3460</th>\n",
       "      <td>1</td>\n",
       "      <td>23.0</td>\n",
       "      <td>34000.0</td>\n",
       "      <td>1</td>\n",
       "    </tr>\n",
       "    <tr>\n",
       "      <th>1820</th>\n",
       "      <td>0</td>\n",
       "      <td>45.0</td>\n",
       "      <td>35100.0</td>\n",
       "      <td>2</td>\n",
       "    </tr>\n",
       "  </tbody>\n",
       "</table>\n",
       "</div>"
      ],
      "text/plain": [
       "      Пол  Возраст  Зарплата  Члены семьи\n",
       "640     0     28.0   29600.0            0\n",
       "4510    0     26.0   57100.0            1\n",
       "1623    1     38.0   41700.0            1\n",
       "3460    1     23.0   34000.0            1\n",
       "1820    0     45.0   35100.0            2"
      ]
     },
     "metadata": {},
     "output_type": "display_data"
    }
   ],
   "source": [
    "# выведем исходный датасет\n",
    "display(features_train.head())"
   ]
  },
  {
   "cell_type": "code",
   "execution_count": 20,
   "metadata": {
    "scrolled": true
   },
   "outputs": [
    {
     "data": {
      "text/html": [
       "<div>\n",
       "<style scoped>\n",
       "    .dataframe tbody tr th:only-of-type {\n",
       "        vertical-align: middle;\n",
       "    }\n",
       "\n",
       "    .dataframe tbody tr th {\n",
       "        vertical-align: top;\n",
       "    }\n",
       "\n",
       "    .dataframe thead th {\n",
       "        text-align: right;\n",
       "    }\n",
       "</style>\n",
       "<table border=\"1\" class=\"dataframe\">\n",
       "  <thead>\n",
       "    <tr style=\"text-align: right;\">\n",
       "      <th></th>\n",
       "      <th>0</th>\n",
       "      <th>1</th>\n",
       "      <th>2</th>\n",
       "      <th>3</th>\n",
       "    </tr>\n",
       "  </thead>\n",
       "  <tbody>\n",
       "    <tr>\n",
       "      <th>640</th>\n",
       "      <td>0.0</td>\n",
       "      <td>28.0</td>\n",
       "      <td>29600.0</td>\n",
       "      <td>-0.0</td>\n",
       "    </tr>\n",
       "    <tr>\n",
       "      <th>4510</th>\n",
       "      <td>0.0</td>\n",
       "      <td>26.0</td>\n",
       "      <td>57100.0</td>\n",
       "      <td>1.0</td>\n",
       "    </tr>\n",
       "    <tr>\n",
       "      <th>1623</th>\n",
       "      <td>1.0</td>\n",
       "      <td>38.0</td>\n",
       "      <td>41700.0</td>\n",
       "      <td>1.0</td>\n",
       "    </tr>\n",
       "    <tr>\n",
       "      <th>3460</th>\n",
       "      <td>1.0</td>\n",
       "      <td>23.0</td>\n",
       "      <td>34000.0</td>\n",
       "      <td>1.0</td>\n",
       "    </tr>\n",
       "    <tr>\n",
       "      <th>1820</th>\n",
       "      <td>-0.0</td>\n",
       "      <td>45.0</td>\n",
       "      <td>35100.0</td>\n",
       "      <td>2.0</td>\n",
       "    </tr>\n",
       "  </tbody>\n",
       "</table>\n",
       "</div>"
      ],
      "text/plain": [
       "        0     1        2    3\n",
       "640   0.0  28.0  29600.0 -0.0\n",
       "4510  0.0  26.0  57100.0  1.0\n",
       "1623  1.0  38.0  41700.0  1.0\n",
       "3460  1.0  23.0  34000.0  1.0\n",
       "1820 -0.0  45.0  35100.0  2.0"
      ]
     },
     "metadata": {},
     "output_type": "display_data"
    }
   ],
   "source": [
    "# выведем преобразованную матрицу\n",
    "display(np.round(features_train_P @ np.linalg.inv(P)).head())"
   ]
  },
  {
   "cell_type": "markdown",
   "metadata": {},
   "source": [
    "Видно, что после преобразования исходной матрицы, наши данные не изменились."
   ]
  },
  {
   "cell_type": "markdown",
   "metadata": {},
   "source": [
    "### Создание матрицы с проверкой её обратимости\n",
    "<a name=\"63\"></a> <div style=\"text-align: left\">[Cодержание](#Содержание)</div>"
   ]
  },
  {
   "cell_type": "markdown",
   "metadata": {},
   "source": [
    "Сгенерируем матрицу с использованием функции, проверяющей её обратимость.\n",
    "\n",
    "Мы можем избежать лишних шагов и написать функцию, которая будет генерировать матрицу до тех пор, пока мы не получим обратимую, и наш код гарантированно полностью не отработает. \n",
    "\n",
    "Напишем три разных вариации написания кода для такой функции."
   ]
  },
  {
   "cell_type": "markdown",
   "metadata": {},
   "source": [
    "<a name=\"Вариант-1\"></a>\n",
    "**Вариант 1.**"
   ]
  },
  {
   "cell_type": "code",
   "execution_count": 21,
   "metadata": {},
   "outputs": [
    {
     "name": "stdout",
     "output_type": "stream",
     "text": [
      "[[ 2.20887265 -0.32025448  0.14661911 -1.38771955]\n",
      " [-0.86603983 -0.02252034  0.90108591 -0.55555468]\n",
      " [ 0.75639449 -0.9543962  -1.14612288  1.24841552]\n",
      " [ 0.35535866  0.32999561 -0.69839858  1.00596571]]\n"
     ]
    }
   ],
   "source": [
    "def random_matrix():\n",
    "    det = 0\n",
    "    while det == 0:\n",
    "        matrix = np.random.normal(size=(data.shape[1] - 1, data.shape[1] - 1))\n",
    "        det = np.linalg.det(matrix)\n",
    "    return matrix\n",
    "\n",
    "\n",
    "mat = random_matrix()\n",
    "\n",
    "print(mat)"
   ]
  },
  {
   "cell_type": "markdown",
   "metadata": {},
   "source": [
    "**Вариант 2** (с помощью рекурсии)."
   ]
  },
  {
   "cell_type": "code",
   "execution_count": 22,
   "metadata": {},
   "outputs": [
    {
     "name": "stdout",
     "output_type": "stream",
     "text": [
      "[[ 11.32676289  -1.0360535    1.85294948  -8.31224781]\n",
      " [ -0.11096768  -1.73418615   1.45238097   0.57376361]\n",
      " [ -4.38388013   2.23302462  -0.33888195   2.01612946]\n",
      " [-10.91883176   1.1051935   -4.80971207  11.61654197]]\n"
     ]
    }
   ],
   "source": [
    "def func_rec(dim):\n",
    "    transform_matrix = np.random.rand(dim, dim)\n",
    "    try: \n",
    "        inv = np.linalg.inv(transform_matrix)\n",
    "        return transform_matrix, inv\n",
    "    except:\n",
    "        func_rec(dim)\n",
    "   \n",
    "\n",
    "features_new, inv_P = func_rec(data.shape[1] - 1)\n",
    "\n",
    "print(inv_P)"
   ]
  },
  {
   "cell_type": "markdown",
   "metadata": {},
   "source": [
    "**Вариант 3** (с помощью рекурсии).\n",
    "\n",
    "В этом варианте мы можем вывести и сгенерированную квадратную матрицу, и преобразованные матрицы исходного датасета для обучающей и тестовой выборок."
   ]
  },
  {
   "cell_type": "code",
   "execution_count": 23,
   "metadata": {},
   "outputs": [
    {
     "data": {
      "text/plain": [
       "'Сгенерированная квадратная матрица P'"
      ]
     },
     "metadata": {},
     "output_type": "display_data"
    },
    {
     "data": {
      "text/plain": [
       "array([[-1.31136747,  0.3921804 ,  0.18868055, -0.67088287],\n",
       "       [ 1.75872714,  0.14106138, -0.17773045,  0.79787127],\n",
       "       [-0.41702659, -0.22854768,  0.3550602 ,  0.33039819],\n",
       "       [ 0.58912996,  0.19073027, -0.5545481 ,  0.6259302 ]])"
      ]
     },
     "metadata": {},
     "output_type": "display_data"
    },
    {
     "data": {
      "text/plain": [
       "'Преобразованная исходная матрица для обучающей выборки'"
      ]
     },
     "metadata": {},
     "output_type": "display_data"
    },
    {
     "data": {
      "text/html": [
       "<div>\n",
       "<style scoped>\n",
       "    .dataframe tbody tr th:only-of-type {\n",
       "        vertical-align: middle;\n",
       "    }\n",
       "\n",
       "    .dataframe tbody tr th {\n",
       "        vertical-align: top;\n",
       "    }\n",
       "\n",
       "    .dataframe thead th {\n",
       "        text-align: right;\n",
       "    }\n",
       "</style>\n",
       "<table border=\"1\" class=\"dataframe\">\n",
       "  <thead>\n",
       "    <tr style=\"text-align: right;\">\n",
       "      <th></th>\n",
       "      <th>0</th>\n",
       "      <th>1</th>\n",
       "      <th>2</th>\n",
       "      <th>3</th>\n",
       "    </tr>\n",
       "  </thead>\n",
       "  <tbody>\n",
       "    <tr>\n",
       "      <th>640</th>\n",
       "      <td>22818.109857</td>\n",
       "      <td>36933.483560</td>\n",
       "      <td>29815.406405</td>\n",
       "      <td>-38360.255937</td>\n",
       "    </tr>\n",
       "    <tr>\n",
       "      <th>4510</th>\n",
       "      <td>43962.573897</td>\n",
       "      <td>71207.880912</td>\n",
       "      <td>57514.280840</td>\n",
       "      <td>-74006.013501</td>\n",
       "    </tr>\n",
       "    <tr>\n",
       "      <th>1623</th>\n",
       "      <td>32143.011015</td>\n",
       "      <td>52029.985785</td>\n",
       "      <td>42004.160189</td>\n",
       "      <td>-54041.383197</td>\n",
       "    </tr>\n",
       "    <tr>\n",
       "      <th>3460</th>\n",
       "      <td>26192.050536</td>\n",
       "      <td>42411.537228</td>\n",
       "      <td>34247.408517</td>\n",
       "      <td>-44064.706849</td>\n",
       "    </tr>\n",
       "    <tr>\n",
       "      <th>1820</th>\n",
       "      <td>27081.702232</td>\n",
       "      <td>43813.020335</td>\n",
       "      <td>35359.233139</td>\n",
       "      <td>-45482.909494</td>\n",
       "    </tr>\n",
       "  </tbody>\n",
       "</table>\n",
       "</div>"
      ],
      "text/plain": [
       "                 0             1             2             3\n",
       "640   22818.109857  36933.483560  29815.406405 -38360.255937\n",
       "4510  43962.573897  71207.880912  57514.280840 -74006.013501\n",
       "1623  32143.011015  52029.985785  42004.160189 -54041.383197\n",
       "3460  26192.050536  42411.537228  34247.408517 -44064.706849\n",
       "1820  27081.702232  43813.020335  35359.233139 -45482.909494"
      ]
     },
     "metadata": {},
     "output_type": "display_data"
    },
    {
     "data": {
      "text/plain": [
       "'Преобразованная исходная матрица для тестовой выборки'"
      ]
     },
     "metadata": {},
     "output_type": "display_data"
    },
    {
     "data": {
      "text/html": [
       "<div>\n",
       "<style scoped>\n",
       "    .dataframe tbody tr th:only-of-type {\n",
       "        vertical-align: middle;\n",
       "    }\n",
       "\n",
       "    .dataframe tbody tr th {\n",
       "        vertical-align: top;\n",
       "    }\n",
       "\n",
       "    .dataframe thead th {\n",
       "        text-align: right;\n",
       "    }\n",
       "</style>\n",
       "<table border=\"1\" class=\"dataframe\">\n",
       "  <thead>\n",
       "    <tr style=\"text-align: right;\">\n",
       "      <th></th>\n",
       "      <th>0</th>\n",
       "      <th>1</th>\n",
       "      <th>2</th>\n",
       "      <th>3</th>\n",
       "    </tr>\n",
       "  </thead>\n",
       "  <tbody>\n",
       "    <tr>\n",
       "      <th>1335</th>\n",
       "      <td>36342.873437</td>\n",
       "      <td>58864.246835</td>\n",
       "      <td>47540.955120</td>\n",
       "      <td>-61175.711919</td>\n",
       "    </tr>\n",
       "    <tr>\n",
       "      <th>3875</th>\n",
       "      <td>50741.287476</td>\n",
       "      <td>82185.117058</td>\n",
       "      <td>66376.232278</td>\n",
       "      <td>-85412.510944</td>\n",
       "    </tr>\n",
       "    <tr>\n",
       "      <th>166</th>\n",
       "      <td>26135.081077</td>\n",
       "      <td>42301.056725</td>\n",
       "      <td>34148.971577</td>\n",
       "      <td>-43931.380847</td>\n",
       "    </tr>\n",
       "    <tr>\n",
       "      <th>3003</th>\n",
       "      <td>14919.350981</td>\n",
       "      <td>24110.991065</td>\n",
       "      <td>19445.083842</td>\n",
       "      <td>-25004.306447</td>\n",
       "    </tr>\n",
       "    <tr>\n",
       "      <th>424</th>\n",
       "      <td>21239.096499</td>\n",
       "      <td>34341.509745</td>\n",
       "      <td>27704.686930</td>\n",
       "      <td>-35631.347319</td>\n",
       "    </tr>\n",
       "  </tbody>\n",
       "</table>\n",
       "</div>"
      ],
      "text/plain": [
       "                 0             1             2             3\n",
       "1335  36342.873437  58864.246835  47540.955120 -61175.711919\n",
       "3875  50741.287476  82185.117058  66376.232278 -85412.510944\n",
       "166   26135.081077  42301.056725  34148.971577 -43931.380847\n",
       "3003  14919.350981  24110.991065  19445.083842 -25004.306447\n",
       "424   21239.096499  34341.509745  27704.686930 -35631.347319"
      ]
     },
     "metadata": {},
     "output_type": "display_data"
    }
   ],
   "source": [
    "def func_rec(X, seed):\n",
    "    try:\n",
    "        state = np.random.RandomState(seed=seed)\n",
    "        rand_matrix = state.normal(size=(X.shape[1], X.shape[1])) \n",
    "        inv = np.linalg.inv(rand_matrix)\n",
    "        return X @ rand_matrix, inv\n",
    "    except np.linalg.LinAlgError:\n",
    "        func_rec(X, seed)\n",
    "        \n",
    " \n",
    "features_train_P, inv_P = func_rec(features_train, RANDOM_STATE)\n",
    "features_test_P, inv_P = func_rec(features_test, RANDOM_STATE)\n",
    "\n",
    "display('Сгенерированная квадратная матрица P', inv_P)\n",
    "display('Преобразованная исходная матрица для обучающей выборки', \n",
    "        features_train_P.head())\n",
    "display('Преобразованная исходная матрица для тестовой выборки', \n",
    "        features_test_P.head())"
   ]
  },
  {
   "cell_type": "markdown",
   "metadata": {},
   "source": [
    "### Создание класса линейной регрессии `LinReg`\n",
    "<a name=\"64\"></a> <div style=\"text-align: left\">[Cодержание](#Содержание)</div>"
   ]
  },
  {
   "cell_type": "markdown",
   "metadata": {},
   "source": [
    "Создадим класс модели **линейной регрессии** `LinReg`.\n",
    "\n",
    "Здесь мы применим сокращённую запись формулы линейной регрессии - в обучающую выборку добавим единичный столбец `np.ones()`."
   ]
  },
  {
   "cell_type": "code",
   "execution_count": 24,
   "metadata": {},
   "outputs": [],
   "source": [
    "class LinReg:\n",
    "    def fit(self, train_features, train_target):\n",
    "        X = np.concatenate(\n",
    "            (np.ones((train_features.shape[0], 1)), train_features), axis=1)\n",
    "        y = train_target\n",
    "        w = ((np.linalg.inv(X.T @ X)) @ X.T) @ y\n",
    "        self.w = w[1:]\n",
    "        self.w0 = w[0]\n",
    "\n",
    "    def predict(self, test_features):\n",
    "        return (test_features @ self.w) + self.w0"
   ]
  },
  {
   "cell_type": "markdown",
   "metadata": {},
   "source": [
    "### Функция для предсказания *R2*\n",
    "<a name=\"65\"></a> <div style=\"text-align: left\">[Cодержание](#Содержание)</div>"
   ]
  },
  {
   "cell_type": "markdown",
   "metadata": {},
   "source": [
    "Напишем функцию `model_r2()` для предсказания метрики *R2*, с применением созданного выше класса модели линейной регрессии `LinReg`."
   ]
  },
  {
   "cell_type": "code",
   "execution_count": 25,
   "metadata": {},
   "outputs": [],
   "source": [
    "def model_r2(x_train, y_train, x_test, y_test):\n",
    "    model_r2 = LinReg()\n",
    "    model_r2.fit(x_train, y_train)\n",
    "    predictions = model_r2.predict(x_test)\n",
    "    print('R2 модели:', r2_score(y_test, predictions))\n",
    "    print(f'R2 модели (округлённо): {r2_score(y_test, predictions):.2f}')"
   ]
  },
  {
   "cell_type": "markdown",
   "metadata": {},
   "source": [
    "*R2* модели для исходной матрицы."
   ]
  },
  {
   "cell_type": "code",
   "execution_count": 26,
   "metadata": {},
   "outputs": [
    {
     "name": "stdout",
     "output_type": "stream",
     "text": [
      "R2 модели: 0.4160549216151218\n",
      "R2 модели (округлённо): 0.42\n"
     ]
    }
   ],
   "source": [
    "model_r2(features_train, target_train, features_test, target_test)"
   ]
  },
  {
   "cell_type": "markdown",
   "metadata": {},
   "source": [
    "*R2* модели для преобразованной матрицы."
   ]
  },
  {
   "cell_type": "code",
   "execution_count": 27,
   "metadata": {
    "scrolled": true
   },
   "outputs": [
    {
     "name": "stdout",
     "output_type": "stream",
     "text": [
      "R2 модели: 0.4160549750609519\n",
      "R2 модели (округлённо): 0.42\n"
     ]
    }
   ],
   "source": [
    "model_r2(features_train_P, target_train, features_test_P, target_test)"
   ]
  },
  {
   "cell_type": "markdown",
   "metadata": {},
   "source": [
    "### `Pipeline` для предсказания *R2*\n",
    "<a name=\"66\"></a> <div style=\"text-align: left\">[Cодержание](#Содержание)</div>"
   ]
  },
  {
   "cell_type": "markdown",
   "metadata": {},
   "source": [
    "Для предсказания метрики *R2* полезно использовать **`Pipeline`**.\n",
    "\n",
    "В узком смысле, `Pipeline` – это модуль `sklearn.pipeline`, который позволяет автоматизировать предварительные преобразования данных перед обучением модели. "
   ]
  },
  {
   "cell_type": "markdown",
   "metadata": {},
   "source": [
    "#### `LinReg`\n",
    "<a name=\"661\"></a> <div style=\"text-align: left\">[Cодержание](#Содержание)</div>"
   ]
  },
  {
   "cell_type": "markdown",
   "metadata": {},
   "source": [
    "Построим `Pipeline` с использованием созданного ранее класса модели линейной регрессии `LinReg`."
   ]
  },
  {
   "cell_type": "markdown",
   "metadata": {},
   "source": [
    "Создадим класс `MatrixTransform`."
   ]
  },
  {
   "cell_type": "code",
   "execution_count": 28,
   "metadata": {},
   "outputs": [],
   "source": [
    "class MatrixTransform(BaseEstimator, TransformerMixin):\n",
    "\n",
    "    def __init__(self, variables):\n",
    "        # в конструкторе сохраним имена колонок и \n",
    "        # затем сгененрируем матрицу преобразования\n",
    "        self.variables = variables\n",
    "        size = len(variables)\n",
    "        rng = np.random.default_rng(seed=RANDOM_STATE)\n",
    "        self.M = rng.normal(size=(size, size))\n",
    "\n",
    "    def fit(self, X, y):\n",
    "        return self\n",
    "\n",
    "    def transform(self, X):\n",
    "        X_tr = X.drop(self.variables, axis=1)\n",
    "        X_tr[self.variables] = X[self.variables] @ self.M\n",
    "        return X_tr"
   ]
  },
  {
   "cell_type": "markdown",
   "metadata": {},
   "source": [
    "Иcпользуем `Pipeline`."
   ]
  },
  {
   "cell_type": "code",
   "execution_count": 29,
   "metadata": {},
   "outputs": [],
   "source": [
    "pipeline_1 = Pipeline([\n",
    "    ('transformer', MatrixTransform(features.columns)),\n",
    "    ('model', LinReg()),\n",
    "])"
   ]
  },
  {
   "cell_type": "markdown",
   "metadata": {},
   "source": [
    "Обучим модель линейной регрессии на исходных признаках датасета и получим её предсказания метрики *R2*."
   ]
  },
  {
   "cell_type": "code",
   "execution_count": 30,
   "metadata": {},
   "outputs": [
    {
     "data": {
      "text/plain": [
       "0.41605505539880105"
      ]
     },
     "execution_count": 30,
     "metadata": {},
     "output_type": "execute_result"
    }
   ],
   "source": [
    "pipeline_1.fit(features_train, target_train)\n",
    "predictions = pipeline_1.predict(features_test)\n",
    "r2_score(target_test, predictions)"
   ]
  },
  {
   "cell_type": "markdown",
   "metadata": {},
   "source": [
    "Преобразуем датасет: умножим признаки обучающей и тестовой выборок исходного датасета на сгенерированную случайную квадратную матрицу *P*."
   ]
  },
  {
   "cell_type": "code",
   "execution_count": 31,
   "metadata": {},
   "outputs": [
    {
     "data": {
      "text/html": [
       "<div>\n",
       "<style scoped>\n",
       "    .dataframe tbody tr th:only-of-type {\n",
       "        vertical-align: middle;\n",
       "    }\n",
       "\n",
       "    .dataframe tbody tr th {\n",
       "        vertical-align: top;\n",
       "    }\n",
       "\n",
       "    .dataframe thead th {\n",
       "        text-align: right;\n",
       "    }\n",
       "</style>\n",
       "<table border=\"1\" class=\"dataframe\">\n",
       "  <thead>\n",
       "    <tr style=\"text-align: right;\">\n",
       "      <th></th>\n",
       "      <th>0</th>\n",
       "      <th>1</th>\n",
       "      <th>2</th>\n",
       "      <th>3</th>\n",
       "    </tr>\n",
       "  </thead>\n",
       "  <tbody>\n",
       "    <tr>\n",
       "      <th>640</th>\n",
       "      <td>-56979.429950</td>\n",
       "      <td>-23126.230343</td>\n",
       "      <td>1395.081424</td>\n",
       "      <td>32759.389642</td>\n",
       "    </tr>\n",
       "    <tr>\n",
       "      <th>4510</th>\n",
       "      <td>-109882.676580</td>\n",
       "      <td>-44609.787347</td>\n",
       "      <td>2674.775304</td>\n",
       "      <td>63226.117675</td>\n",
       "    </tr>\n",
       "    <tr>\n",
       "      <th>1623</th>\n",
       "      <td>-80269.291279</td>\n",
       "      <td>-32580.907981</td>\n",
       "      <td>1964.954077</td>\n",
       "      <td>46151.089672</td>\n",
       "    </tr>\n",
       "    <tr>\n",
       "      <th>3460</th>\n",
       "      <td>-65438.022579</td>\n",
       "      <td>-26564.396164</td>\n",
       "      <td>1597.222851</td>\n",
       "      <td>37638.326256</td>\n",
       "    </tr>\n",
       "    <tr>\n",
       "      <th>1820</th>\n",
       "      <td>-67577.755434</td>\n",
       "      <td>-27424.393600</td>\n",
       "      <td>1663.858789</td>\n",
       "      <td>38829.376876</td>\n",
       "    </tr>\n",
       "  </tbody>\n",
       "</table>\n",
       "</div>"
      ],
      "text/plain": [
       "                  0             1            2             3\n",
       "640   -56979.429950 -23126.230343  1395.081424  32759.389642\n",
       "4510 -109882.676580 -44609.787347  2674.775304  63226.117675\n",
       "1623  -80269.291279 -32580.907981  1964.954077  46151.089672\n",
       "3460  -65438.022579 -26564.396164  1597.222851  37638.326256\n",
       "1820  -67577.755434 -27424.393600  1663.858789  38829.376876"
      ]
     },
     "metadata": {},
     "output_type": "display_data"
    },
    {
     "data": {
      "text/html": [
       "<div>\n",
       "<style scoped>\n",
       "    .dataframe tbody tr th:only-of-type {\n",
       "        vertical-align: middle;\n",
       "    }\n",
       "\n",
       "    .dataframe tbody tr th {\n",
       "        vertical-align: top;\n",
       "    }\n",
       "\n",
       "    .dataframe thead th {\n",
       "        text-align: right;\n",
       "    }\n",
       "</style>\n",
       "<table border=\"1\" class=\"dataframe\">\n",
       "  <thead>\n",
       "    <tr style=\"text-align: right;\">\n",
       "      <th></th>\n",
       "      <th>0</th>\n",
       "      <th>1</th>\n",
       "      <th>2</th>\n",
       "      <th>3</th>\n",
       "    </tr>\n",
       "  </thead>\n",
       "  <tbody>\n",
       "    <tr>\n",
       "      <th>1335</th>\n",
       "      <td>-90834.689649</td>\n",
       "      <td>-36876.431125</td>\n",
       "      <td>2210.459223</td>\n",
       "      <td>52263.547411</td>\n",
       "    </tr>\n",
       "    <tr>\n",
       "      <th>3875</th>\n",
       "      <td>-126821.788142</td>\n",
       "      <td>-51485.945175</td>\n",
       "      <td>3086.381838</td>\n",
       "      <td>72969.766071</td>\n",
       "    </tr>\n",
       "    <tr>\n",
       "      <th>166</th>\n",
       "      <td>-65255.839113</td>\n",
       "      <td>-26487.105026</td>\n",
       "      <td>1599.909681</td>\n",
       "      <td>37514.170830</td>\n",
       "    </tr>\n",
       "    <tr>\n",
       "      <th>3003</th>\n",
       "      <td>-37173.397804</td>\n",
       "      <td>-15080.643950</td>\n",
       "      <td>924.776884</td>\n",
       "      <td>21332.390049</td>\n",
       "    </tr>\n",
       "    <tr>\n",
       "      <th>424</th>\n",
       "      <td>-52957.365364</td>\n",
       "      <td>-21487.179204</td>\n",
       "      <td>1310.779279</td>\n",
       "      <td>30408.519312</td>\n",
       "    </tr>\n",
       "  </tbody>\n",
       "</table>\n",
       "</div>"
      ],
      "text/plain": [
       "                  0             1            2             3\n",
       "1335  -90834.689649 -36876.431125  2210.459223  52263.547411\n",
       "3875 -126821.788142 -51485.945175  3086.381838  72969.766071\n",
       "166   -65255.839113 -26487.105026  1599.909681  37514.170830\n",
       "3003  -37173.397804 -15080.643950   924.776884  21332.390049\n",
       "424   -52957.365364 -21487.179204  1310.779279  30408.519312"
      ]
     },
     "metadata": {},
     "output_type": "display_data"
    }
   ],
   "source": [
    "features_train_P = features_train @ P\n",
    "features_test_P = features_test @ P\n",
    "\n",
    "display(features_train_P.head())\n",
    "display(features_test_P.head())"
   ]
  },
  {
   "cell_type": "markdown",
   "metadata": {},
   "source": [
    "После преобразования матриц названия признаков были изменены на индексы, от 0 до 3. Восстановим эти названия для того, чтобы сработал наш `Pipeline`."
   ]
  },
  {
   "cell_type": "code",
   "execution_count": 32,
   "metadata": {},
   "outputs": [
    {
     "data": {
      "text/html": [
       "<div>\n",
       "<style scoped>\n",
       "    .dataframe tbody tr th:only-of-type {\n",
       "        vertical-align: middle;\n",
       "    }\n",
       "\n",
       "    .dataframe tbody tr th {\n",
       "        vertical-align: top;\n",
       "    }\n",
       "\n",
       "    .dataframe thead th {\n",
       "        text-align: right;\n",
       "    }\n",
       "</style>\n",
       "<table border=\"1\" class=\"dataframe\">\n",
       "  <thead>\n",
       "    <tr style=\"text-align: right;\">\n",
       "      <th></th>\n",
       "      <th>Пол</th>\n",
       "      <th>Возраст</th>\n",
       "      <th>Зарплата</th>\n",
       "      <th>Члены семьи</th>\n",
       "    </tr>\n",
       "  </thead>\n",
       "  <tbody>\n",
       "    <tr>\n",
       "      <th>640</th>\n",
       "      <td>-56979.429950</td>\n",
       "      <td>-23126.230343</td>\n",
       "      <td>1395.081424</td>\n",
       "      <td>32759.389642</td>\n",
       "    </tr>\n",
       "    <tr>\n",
       "      <th>4510</th>\n",
       "      <td>-109882.676580</td>\n",
       "      <td>-44609.787347</td>\n",
       "      <td>2674.775304</td>\n",
       "      <td>63226.117675</td>\n",
       "    </tr>\n",
       "    <tr>\n",
       "      <th>1623</th>\n",
       "      <td>-80269.291279</td>\n",
       "      <td>-32580.907981</td>\n",
       "      <td>1964.954077</td>\n",
       "      <td>46151.089672</td>\n",
       "    </tr>\n",
       "    <tr>\n",
       "      <th>3460</th>\n",
       "      <td>-65438.022579</td>\n",
       "      <td>-26564.396164</td>\n",
       "      <td>1597.222851</td>\n",
       "      <td>37638.326256</td>\n",
       "    </tr>\n",
       "    <tr>\n",
       "      <th>1820</th>\n",
       "      <td>-67577.755434</td>\n",
       "      <td>-27424.393600</td>\n",
       "      <td>1663.858789</td>\n",
       "      <td>38829.376876</td>\n",
       "    </tr>\n",
       "  </tbody>\n",
       "</table>\n",
       "</div>"
      ],
      "text/plain": [
       "                Пол       Возраст     Зарплата   Члены семьи\n",
       "640   -56979.429950 -23126.230343  1395.081424  32759.389642\n",
       "4510 -109882.676580 -44609.787347  2674.775304  63226.117675\n",
       "1623  -80269.291279 -32580.907981  1964.954077  46151.089672\n",
       "3460  -65438.022579 -26564.396164  1597.222851  37638.326256\n",
       "1820  -67577.755434 -27424.393600  1663.858789  38829.376876"
      ]
     },
     "metadata": {},
     "output_type": "display_data"
    },
    {
     "data": {
      "text/html": [
       "<div>\n",
       "<style scoped>\n",
       "    .dataframe tbody tr th:only-of-type {\n",
       "        vertical-align: middle;\n",
       "    }\n",
       "\n",
       "    .dataframe tbody tr th {\n",
       "        vertical-align: top;\n",
       "    }\n",
       "\n",
       "    .dataframe thead th {\n",
       "        text-align: right;\n",
       "    }\n",
       "</style>\n",
       "<table border=\"1\" class=\"dataframe\">\n",
       "  <thead>\n",
       "    <tr style=\"text-align: right;\">\n",
       "      <th></th>\n",
       "      <th>Пол</th>\n",
       "      <th>Возраст</th>\n",
       "      <th>Зарплата</th>\n",
       "      <th>Члены семьи</th>\n",
       "    </tr>\n",
       "  </thead>\n",
       "  <tbody>\n",
       "    <tr>\n",
       "      <th>1335</th>\n",
       "      <td>-90834.689649</td>\n",
       "      <td>-36876.431125</td>\n",
       "      <td>2210.459223</td>\n",
       "      <td>52263.547411</td>\n",
       "    </tr>\n",
       "    <tr>\n",
       "      <th>3875</th>\n",
       "      <td>-126821.788142</td>\n",
       "      <td>-51485.945175</td>\n",
       "      <td>3086.381838</td>\n",
       "      <td>72969.766071</td>\n",
       "    </tr>\n",
       "    <tr>\n",
       "      <th>166</th>\n",
       "      <td>-65255.839113</td>\n",
       "      <td>-26487.105026</td>\n",
       "      <td>1599.909681</td>\n",
       "      <td>37514.170830</td>\n",
       "    </tr>\n",
       "    <tr>\n",
       "      <th>3003</th>\n",
       "      <td>-37173.397804</td>\n",
       "      <td>-15080.643950</td>\n",
       "      <td>924.776884</td>\n",
       "      <td>21332.390049</td>\n",
       "    </tr>\n",
       "    <tr>\n",
       "      <th>424</th>\n",
       "      <td>-52957.365364</td>\n",
       "      <td>-21487.179204</td>\n",
       "      <td>1310.779279</td>\n",
       "      <td>30408.519312</td>\n",
       "    </tr>\n",
       "  </tbody>\n",
       "</table>\n",
       "</div>"
      ],
      "text/plain": [
       "                Пол       Возраст     Зарплата   Члены семьи\n",
       "1335  -90834.689649 -36876.431125  2210.459223  52263.547411\n",
       "3875 -126821.788142 -51485.945175  3086.381838  72969.766071\n",
       "166   -65255.839113 -26487.105026  1599.909681  37514.170830\n",
       "3003  -37173.397804 -15080.643950   924.776884  21332.390049\n",
       "424   -52957.365364 -21487.179204  1310.779279  30408.519312"
      ]
     },
     "metadata": {},
     "output_type": "display_data"
    }
   ],
   "source": [
    "features_train_P.columns = ['Пол', 'Возраст', 'Зарплата', 'Члены семьи']\n",
    "features_test_P.columns = ['Пол', 'Возраст', 'Зарплата', 'Члены семьи']\n",
    "\n",
    "display(features_train_P.head())\n",
    "display(features_test_P.head())"
   ]
  },
  {
   "cell_type": "markdown",
   "metadata": {},
   "source": [
    "Обучим модель линейной регрессии на преобразованных признаках датасета и получим её предсказания метрики *R2*."
   ]
  },
  {
   "cell_type": "code",
   "execution_count": 33,
   "metadata": {},
   "outputs": [
    {
     "data": {
      "text/plain": [
       "0.41605492551340983"
      ]
     },
     "execution_count": 33,
     "metadata": {},
     "output_type": "execute_result"
    }
   ],
   "source": [
    "pipeline_1.fit(features_train_P, target_train)\n",
    "predictions = pipeline_1.predict(features_test_P)\n",
    "r2_score(target_test, predictions)"
   ]
  },
  {
   "cell_type": "markdown",
   "metadata": {},
   "source": [
    "#### `LinearRegression`\n",
    "<a name=\"662\"></a> <div style=\"text-align: left\">[Cодержание](#Содержание)</div>"
   ]
  },
  {
   "cell_type": "markdown",
   "metadata": {},
   "source": [
    "Построим `Pipeline` с использованием модели **линейной регрессии `LinearRegression`** из модуля `sklearn.linear_model`."
   ]
  },
  {
   "cell_type": "code",
   "execution_count": 34,
   "metadata": {},
   "outputs": [],
   "source": [
    "encrypt = random_matrix()\n",
    "\n",
    "pipeline_2 = Pipeline(steps=[\n",
    "    (\"encrypt\", FunctionTransformer(lambda x: x @ encrypt, validate=False)), \n",
    "                           (\"linreg\", LinearRegression())])"
   ]
  },
  {
   "cell_type": "markdown",
   "metadata": {},
   "source": [
    "Обучим модель линейной регрессии на исходных признаках датасета и получим её предсказания метрики *R2*."
   ]
  },
  {
   "cell_type": "code",
   "execution_count": 35,
   "metadata": {},
   "outputs": [
    {
     "data": {
      "text/plain": [
       "0.41605492161595004"
      ]
     },
     "execution_count": 35,
     "metadata": {},
     "output_type": "execute_result"
    }
   ],
   "source": [
    "pipeline_2.fit(features_train, target_train)\n",
    "predictions = pipeline_2.predict(features_test)\n",
    "r2_score(target_test, predictions)"
   ]
  },
  {
   "cell_type": "markdown",
   "metadata": {},
   "source": [
    "Обучим модель линейной регрессии на преобразованных признаках датасета и получим её предсказания метрики *R2*."
   ]
  },
  {
   "cell_type": "code",
   "execution_count": 36,
   "metadata": {
    "scrolled": true
   },
   "outputs": [
    {
     "data": {
      "text/plain": [
       "0.41605492161721025"
      ]
     },
     "execution_count": 36,
     "metadata": {},
     "output_type": "execute_result"
    }
   ],
   "source": [
    "pipeline_2.fit(features_train_P, target_train)\n",
    "predictions = pipeline_2.predict(features_test_P)\n",
    "r2_score(target_test, predictions)"
   ]
  },
  {
   "cell_type": "markdown",
   "metadata": {},
   "source": [
    "#### Вывод по п. 6.6\n",
    "<a name=\"663\"></a> <div style=\"text-align: left\">[Cодержание](#Содержание)</div>"
   ]
  },
  {
   "cell_type": "markdown",
   "metadata": {},
   "source": [
    "В подразделе [**`Pipeline` для предсказания метрики *R2***](#Pipeline-для-предсказания-метрики-R2) для предсказания метрики *R2* были выполнены следующие задачи:\n",
    "1. построен `Pipeline` с использованием созданного ранее класса модели линейной регрессии `LinReg`;\n",
    "2. построен `Pipeline` с использованием модели линейной регрессии `LinearRegression` из модуля `sklearn.linear_model`.\n",
    "\n",
    "\n",
    "В результате выполнения задач этого подраздела было выявлено следующее:\n",
    "- в обоих рассмотренных случаях предсказания метрики *R2* было подтверждено, что при умножении признаков на обратимую матрицу качество линейной регрессии не меняется."
   ]
  },
  {
   "cell_type": "markdown",
   "metadata": {},
   "source": [
    "### Вывод\n",
    "<a name=\"67\"></a> <div style=\"text-align: left\">[Cодержание](#Содержание)</div>"
   ]
  },
  {
   "cell_type": "markdown",
   "metadata": {},
   "source": [
    "В разделе [**Проверка алгоритма**](#Проверка-алгоритма) были выполнены следующие задачи:\n",
    "1. Исходные данные разделены на обучающую и тестовую выборки, выделен целевой признак.\n",
    "2. Создана матрица без использования функции, проверяющей её обратимость.\n",
    "3. Создана матрица с использованием функции, проверяющей её обратимость.\n",
    "4. Создан класс модели линейной регрессии `LinReg`.\n",
    "5. Для предсказания метрики *R2*:\n",
    "    - написана функция `model_r2()` с использованием созданного ранее класса модели линейной регрессии `LinReg`;\n",
    "    - построен `Pipeline` с использованием созданного ранее класса модели линейной регрессии `LinReg`;\n",
    "    - построен `Pipeline` с использованием модели линейной регрессии `LinearRegression` из модуля `sklearn.linear_model`.\n",
    "\n",
    "\n",
    "В результате выполнения задач этого раздела было выявлено следующее:\n",
    "- во всех рассмотренных случаях предсказания метрики *R2* подтверждено, что при умножении признаков на обратимую матрицу качество линейной регрессии не меняется."
   ]
  },
  {
   "cell_type": "markdown",
   "metadata": {},
   "source": [
    "## Общий вывод\n",
    "<a name=\"7\"></a> <div style=\"text-align: left\">[Cодержание](#Содержание)</div>"
   ]
  },
  {
   "cell_type": "markdown",
   "metadata": {},
   "source": [
    "Мы провели исследование с целью построения модели машинного обучения для преобразования данных, по которым было бы сложно восстановить персональную информацию.\n",
    "\n",
    "Входные данные: данные клиентов страховой компании «Хоть потоп».\n",
    "\n",
    "Перед проведением исследования был сформулирован вопрос:\n",
    "\n",
    "- Изменится ли качество линейной регрессии при умножении признаков на обратимую матрицу?\n",
    "\n",
    "В разделе [**исследования данных**](#Исследование-данных) была получена и изучена общая информация о датасете. Также были созданы визуализация распределения переменных, построена тепловая карта для переменных датасета. Датасет был проверен на наличие явных дубликатов и мультиколлинеарность.\n",
    "\n",
    "В результате было выявлено, что пропусков, аномалий в данных нет, дубликаты найдены и удалены. Найдена повышенная корреляция между признаками \"возраст\" и \"страховые выплаты\", что логично. Мультиколлинеарность отсутствует (корреляция между признаками везде ниже 0,75 - 0,8).\n",
    "\n",
    "\n",
    "В разделе [**умножения матриц**](#Умножение-матриц) были записаны формулы линейной регрессии, описаны свойства матриц, приведено умножение признаков на обратимую матрицу.\n",
    "\n",
    "В результате выполнения задач этого раздела было выявлено, что при умножении матрицы признаков $X$ на обратимую матрицу $P$ вектор весов $w$ меняется, а вектор целевого признака $a$ нет. То есть, качество линейной регрессии не изменится.\n",
    "\n",
    "Поэтому был предложен обоснованный [**алгоритм преобразования**](#Алгоритм-преобразования) данных для решения задачи.\n",
    "\n",
    "В разделе [**проверки алгоритма**](#Проверка-алгоритма) данные были разделены на обучающую и тестовую выборки, выделен целевой признак, созданы матрицы без использования функции, проверяющей её обратимость, и с её использованием. Создан класс модели линейной регрессии `LinReg`.\n",
    "\n",
    "Для предсказания метрики *R2* нами были созданы:\n",
    "\n",
    "    - функция `model_r2()` с использованием созданного ранее класса модели линейной регрессии `LinReg`;\n",
    "    - `Pipeline` с использованием созданного ранее класса модели линейной регрессии `LinReg`;\n",
    "    - `Pipeline` с использованием модели линейной регрессии `LinearRegression` из модуля `sklearn.linear_model`.\n",
    "\n",
    "В результате выполнения задач этого раздела было выявлено, что во всех рассмотренных случаях предсказания метрики *R2* подтверждено, что при умножении признаков на обратимую матрицу качество линейной регрессии не меняется.\n",
    "\n",
    "______________________ ______________________ ______________________\n",
    "В ходе исследования удалось получить следующие результаты **на тестовой выборке**:\n",
    "\n",
    "1. Предсказания метрики ***R2***, полученные при помощи написанной функции `model_r2()` с использованием созданного класса модели линейной регрессии `LinReg`:\n",
    "\n",
    "    - ***R2*** = 0.4160549216151217 - для исходной матрицы.\n",
    "    - ***R2*** = 0.4160548061192191 - для преобразованной матрицы.\n",
    "\n",
    "\n",
    "2. Предсказания метрики ***R2***, полученные при помощи `Pipeline` с использованием созданного класса модели линейной регрессии `LinReg`:\n",
    "\n",
    "    - ***R2*** = 0.4160549102722606 - для исходной матрицы.\n",
    "    - ***R2*** = 0.4160556489550453 - для преобразованной матрицы.\n",
    "\n",
    "\n",
    "3. Предсказания метрики ***R2***, полученные при помощи `Pipeline` с использованием модели линейной регрессии `LinearRegression` из модуля `sklearn.linear_model`.\n",
    "\n",
    "    - ***R2*** = 0.4160549216157502 - для исходной матрицы.\n",
    "    - ***R2*** = 0.41605492161693935 - для преобразованной матрицы.\n",
    "\n",
    "Таким образом, качество линейной регрессии не меняется.\n",
    "\n",
    "<b>Общие рекомендации:</b>\n",
    "\n",
    "Специалистам, которые занимаются защитой персональных данных клиентов страховой компании «Хоть потоп», можно применять разработанный метод преобразования данных (умножение матрицы признаков исходного датасета на случайную матрицу), т.к. при преобразовании качество моделей машинного обучения не ухудшается.\n",
    "\n",
    "Результаты исследования позволят защитить данные клиентов страховой компании «Хоть потоп».\n",
    " ______________________ ______________________ ______________________\n",
    " \n",
    "На этом мы заканчиваем - благодарим вас за внимание, надеемся, что наше исследование вам понравилось и поможет сделать правильные выводы, принять правильные решения."
   ]
  }
 ],
 "metadata": {
  "ExecuteTimeLog": [
   {
    "duration": 1472,
    "start_time": "2023-07-08T19:14:19.728Z"
   },
   {
    "duration": 67,
    "start_time": "2023-07-08T19:14:21.203Z"
   },
   {
    "duration": 5,
    "start_time": "2023-07-08T19:14:21.271Z"
   },
   {
    "duration": 18,
    "start_time": "2023-07-08T19:14:21.278Z"
   },
   {
    "duration": 15,
    "start_time": "2023-07-08T19:14:21.299Z"
   },
   {
    "duration": 23,
    "start_time": "2023-07-08T19:14:21.315Z"
   },
   {
    "duration": 827,
    "start_time": "2023-07-08T19:14:21.340Z"
   },
   {
    "duration": 9,
    "start_time": "2023-07-08T19:14:22.169Z"
   },
   {
    "duration": 372,
    "start_time": "2023-07-08T19:14:22.179Z"
   },
   {
    "duration": 6,
    "start_time": "2023-07-08T19:14:22.552Z"
   },
   {
    "duration": 10,
    "start_time": "2023-07-08T19:14:22.560Z"
   },
   {
    "duration": 18,
    "start_time": "2023-07-08T19:14:22.571Z"
   },
   {
    "duration": 6260,
    "start_time": "2023-07-08T19:14:22.590Z"
   },
   {
    "duration": 4,
    "start_time": "2023-07-08T19:14:28.853Z"
   },
   {
    "duration": 10,
    "start_time": "2023-07-08T19:14:28.858Z"
   },
   {
    "duration": 14,
    "start_time": "2023-07-08T19:14:28.870Z"
   },
   {
    "duration": 24,
    "start_time": "2023-07-08T19:14:28.885Z"
   },
   {
    "duration": 248,
    "start_time": "2023-07-08T19:14:28.911Z"
   },
   {
    "duration": 7,
    "start_time": "2023-07-08T19:14:29.160Z"
   },
   {
    "duration": 31,
    "start_time": "2023-07-08T19:14:29.169Z"
   },
   {
    "duration": 5,
    "start_time": "2023-07-08T19:14:29.233Z"
   },
   {
    "duration": 9,
    "start_time": "2023-07-08T19:14:29.240Z"
   },
   {
    "duration": 189,
    "start_time": "2023-07-08T19:14:29.251Z"
   },
   {
    "duration": 6,
    "start_time": "2023-07-08T19:14:29.442Z"
   },
   {
    "duration": 82,
    "start_time": "2023-07-08T19:14:29.450Z"
   },
   {
    "duration": 18,
    "start_time": "2023-07-08T19:14:29.535Z"
   },
   {
    "duration": 86,
    "start_time": "2023-07-08T19:14:29.557Z"
   },
   {
    "duration": 91,
    "start_time": "2023-07-08T19:14:29.646Z"
   },
   {
    "duration": 7,
    "start_time": "2023-07-08T19:14:29.739Z"
   },
   {
    "duration": 16,
    "start_time": "2023-07-08T19:14:29.832Z"
   },
   {
    "duration": 93,
    "start_time": "2023-07-08T19:14:29.850Z"
   },
   {
    "duration": 99,
    "start_time": "2023-07-08T19:14:29.945Z"
   },
   {
    "duration": 42,
    "start_time": "2023-07-08T19:14:30.046Z"
   },
   {
    "duration": 101,
    "start_time": "2023-07-08T19:14:30.131Z"
   },
   {
    "duration": 26,
    "start_time": "2023-07-08T19:14:30.233Z"
   },
   {
    "duration": 11,
    "start_time": "2023-07-08T19:14:30.261Z"
   },
   {
    "duration": 2056,
    "start_time": "2023-07-09T08:37:27.630Z"
   },
   {
    "duration": 247,
    "start_time": "2023-07-09T08:37:29.689Z"
   },
   {
    "duration": 7,
    "start_time": "2023-07-09T08:37:29.939Z"
   },
   {
    "duration": 42,
    "start_time": "2023-07-09T08:37:29.949Z"
   },
   {
    "duration": 68,
    "start_time": "2023-07-09T08:37:29.994Z"
   },
   {
    "duration": 67,
    "start_time": "2023-07-09T08:37:30.064Z"
   },
   {
    "duration": 1084,
    "start_time": "2023-07-09T08:37:30.134Z"
   },
   {
    "duration": 11,
    "start_time": "2023-07-09T08:37:31.220Z"
   },
   {
    "duration": 567,
    "start_time": "2023-07-09T08:37:31.233Z"
   },
   {
    "duration": 7,
    "start_time": "2023-07-09T08:37:31.803Z"
   },
   {
    "duration": 34,
    "start_time": "2023-07-09T08:37:31.812Z"
   },
   {
    "duration": 24,
    "start_time": "2023-07-09T08:37:31.847Z"
   },
   {
    "duration": 7281,
    "start_time": "2023-07-09T08:37:31.874Z"
   },
   {
    "duration": 6,
    "start_time": "2023-07-09T08:37:39.157Z"
   },
   {
    "duration": 22,
    "start_time": "2023-07-09T08:37:39.165Z"
   },
   {
    "duration": 34,
    "start_time": "2023-07-09T08:37:39.190Z"
   },
   {
    "duration": 8,
    "start_time": "2023-07-09T08:37:39.227Z"
   },
   {
    "duration": 33,
    "start_time": "2023-07-09T08:37:39.237Z"
   },
   {
    "duration": 90,
    "start_time": "2023-07-09T08:37:39.272Z"
   },
   {
    "duration": 319,
    "start_time": "2023-07-09T08:37:39.365Z"
   },
   {
    "duration": 6,
    "start_time": "2023-07-09T08:37:39.687Z"
   },
   {
    "duration": 10,
    "start_time": "2023-07-09T08:37:39.695Z"
   },
   {
    "duration": 245,
    "start_time": "2023-07-09T08:37:39.707Z"
   },
   {
    "duration": 4,
    "start_time": "2023-07-09T08:37:39.954Z"
   },
   {
    "duration": 12,
    "start_time": "2023-07-09T08:37:39.960Z"
   },
   {
    "duration": 13,
    "start_time": "2023-07-09T08:37:39.974Z"
   },
   {
    "duration": 169,
    "start_time": "2023-07-09T08:37:39.988Z"
   },
   {
    "duration": 92,
    "start_time": "2023-07-09T08:37:40.162Z"
   },
   {
    "duration": 14,
    "start_time": "2023-07-09T08:37:40.256Z"
   },
   {
    "duration": 21,
    "start_time": "2023-07-09T08:37:40.353Z"
   },
   {
    "duration": 93,
    "start_time": "2023-07-09T08:37:40.377Z"
   },
   {
    "duration": 18,
    "start_time": "2023-07-09T08:37:40.552Z"
   },
   {
    "duration": 19,
    "start_time": "2023-07-09T08:37:40.571Z"
   },
   {
    "duration": 5,
    "start_time": "2023-07-09T08:37:40.653Z"
   },
   {
    "duration": 101,
    "start_time": "2023-07-09T08:37:40.660Z"
   },
   {
    "duration": 11,
    "start_time": "2023-07-09T08:37:40.763Z"
   }
  ],
  "kernelspec": {
   "display_name": "Python 3 (ipykernel)",
   "language": "python",
   "name": "python3"
  },
  "language_info": {
   "codemirror_mode": {
    "name": "ipython",
    "version": 3
   },
   "file_extension": ".py",
   "mimetype": "text/x-python",
   "name": "python",
   "nbconvert_exporter": "python",
   "pygments_lexer": "ipython3",
   "version": "3.9.13"
  },
  "toc": {
   "base_numbering": 1,
   "nav_menu": {},
   "number_sections": true,
   "sideBar": true,
   "skip_h1_title": true,
   "title_cell": "Содержание",
   "title_sidebar": "Contents",
   "toc_cell": true,
   "toc_position": {
    "height": "707px",
    "left": "71px",
    "top": "111.125px",
    "width": "212px"
   },
   "toc_section_display": true,
   "toc_window_display": true
  }
 },
 "nbformat": 4,
 "nbformat_minor": 2
}
